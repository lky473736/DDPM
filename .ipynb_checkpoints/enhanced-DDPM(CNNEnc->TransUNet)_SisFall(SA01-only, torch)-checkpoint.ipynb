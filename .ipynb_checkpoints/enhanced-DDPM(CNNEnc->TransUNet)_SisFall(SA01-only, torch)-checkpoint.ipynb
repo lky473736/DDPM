{
 "cells": [
  {
   "cell_type": "code",
   "execution_count": 1,
   "id": "efb963b7",
   "metadata": {
    "ExecuteTime": {
     "end_time": "2025-02-14T01:40:09.994112Z",
     "start_time": "2025-02-14T01:40:02.249322Z"
    }
   },
   "outputs": [
    {
     "name": "stderr",
     "output_type": "stream",
     "text": [
      "2025-02-14 10:40:04.462742: I tensorflow/core/platform/cpu_feature_guard.cc:210] This TensorFlow binary is optimized to use available CPU instructions in performance-critical operations.\n",
      "To enable the following instructions: AVX2 FMA, in other operations, rebuild TensorFlow with the appropriate compiler flags.\n"
     ]
    }
   ],
   "source": [
    "import tensorflow as tf\n",
    "import numpy as np\n",
    "from tensorflow.keras import layers, Model\n",
    "import matplotlib.pyplot as plt \n",
    "import seaborn as sns\n",
    "import os\n",
    "import math\n",
    "import glob\n",
    "import pandas as pd\n",
    "from tqdm import tqdm\n",
    "from sklearn.metrics import confusion_matrix, classification_report\n",
    "from sklearn.preprocessing import StandardScaler"
   ]
  },
  {
   "cell_type": "code",
   "execution_count": 2,
   "id": "7674eaf5",
   "metadata": {
    "ExecuteTime": {
     "end_time": "2025-02-14T01:40:11.675992Z",
     "start_time": "2025-02-14T01:40:09.997001Z"
    }
   },
   "outputs": [],
   "source": [
    "import torch\n",
    "import torch.nn as nn\n",
    "import torch.optim as optim\n",
    "import torch.nn.functional as F  \n",
    "import numpy as np\n",
    "import pandas as pd\n",
    "import matplotlib.pyplot as plt\n",
    "import seaborn as sns\n",
    "from torch.utils.data import Dataset, DataLoader\n",
    "from sklearn.metrics import confusion_matrix, classification_report\n",
    "from sklearn.metrics import accuracy_score, precision_score, recall_score, f1_score\n",
    "from tqdm import tqdm"
   ]
  },
  {
   "cell_type": "code",
   "execution_count": 3,
   "id": "0e28ca75",
   "metadata": {
    "ExecuteTime": {
     "end_time": "2025-02-14T01:40:11.688000Z",
     "start_time": "2025-02-14T01:40:11.680141Z"
    }
   },
   "outputs": [
    {
     "data": {
      "text/plain": [
       "'\\n        Each file contains nine columns and a different number of rows depending on the test length.\\n        \\n        1st column is the acceleration data in the X axis measured by the sensor ADXL345.\\n        2nd column is the acceleration data in the Y axis measured by the sensor ADXL345.\\n        3rd column is the acceleration data in the Z axis measured by the sensor ADXL345.\\n\\n        4th column is the rotation data in the X axis measured by the sensor ITG3200.\\n        5th column is the rotation data in the Y axis measured by the sensor ITG3200.\\n        6th column is the rotation data in the Z axis measured by the sensor ITG3200.\\n\\n        7th column is the acceleration data in the X axis measured by the sensor MMA8451Q.\\n        8th column is the acceleration data in the Y axis measured by the sensor MMA8451Q.\\n        9th column is the acceleration data in the Z axis measured by the sensor MMA8451Q.\\n        \\n        Data are in bits with the following characteristics:\\n\\n        ADXL345:\\n        Resolution: 13 bits\\n        Range: +-16g\\n\\n        ITG3200\\n        Resolution: 16 bits\\n        Range: +-2000°/s\\n\\n        MMA8451Q:\\n        Resolution: 14 bits\\n        Range: +-8g\\n'"
      ]
     },
     "execution_count": 3,
     "metadata": {},
     "output_type": "execute_result"
    }
   ],
   "source": [
    "'''\n",
    "        Each file contains nine columns and a different number of rows depending on the test length.\n",
    "        \n",
    "        1st column is the acceleration data in the X axis measured by the sensor ADXL345.\n",
    "        2nd column is the acceleration data in the Y axis measured by the sensor ADXL345.\n",
    "        3rd column is the acceleration data in the Z axis measured by the sensor ADXL345.\n",
    "\n",
    "        4th column is the rotation data in the X axis measured by the sensor ITG3200.\n",
    "        5th column is the rotation data in the Y axis measured by the sensor ITG3200.\n",
    "        6th column is the rotation data in the Z axis measured by the sensor ITG3200.\n",
    "\n",
    "        7th column is the acceleration data in the X axis measured by the sensor MMA8451Q.\n",
    "        8th column is the acceleration data in the Y axis measured by the sensor MMA8451Q.\n",
    "        9th column is the acceleration data in the Z axis measured by the sensor MMA8451Q.\n",
    "        \n",
    "        Data are in bits with the following characteristics:\n",
    "\n",
    "        ADXL345:\n",
    "        Resolution: 13 bits\n",
    "        Range: +-16g\n",
    "\n",
    "        ITG3200\n",
    "        Resolution: 16 bits\n",
    "        Range: +-2000°/s\n",
    "\n",
    "        MMA8451Q:\n",
    "        Resolution: 14 bits\n",
    "        Range: +-8g\n",
    "'''"
   ]
  },
  {
   "cell_type": "code",
   "execution_count": 4,
   "id": "3cebdd5c",
   "metadata": {
    "ExecuteTime": {
     "end_time": "2025-02-14T01:40:29.353055Z",
     "start_time": "2025-02-14T01:40:11.690016Z"
    }
   },
   "outputs": [
    {
     "data": {
      "text/html": [
       "<div>\n",
       "<style scoped>\n",
       "    .dataframe tbody tr th:only-of-type {\n",
       "        vertical-align: middle;\n",
       "    }\n",
       "\n",
       "    .dataframe tbody tr th {\n",
       "        vertical-align: top;\n",
       "    }\n",
       "\n",
       "    .dataframe thead th {\n",
       "        text-align: right;\n",
       "    }\n",
       "</style>\n",
       "<table border=\"1\" class=\"dataframe\">\n",
       "  <thead>\n",
       "    <tr style=\"text-align: right;\">\n",
       "      <th></th>\n",
       "      <th>ADXL_x</th>\n",
       "      <th>ADXL_y</th>\n",
       "      <th>ADXL_z</th>\n",
       "      <th>ITG_x</th>\n",
       "      <th>ITG_y</th>\n",
       "      <th>ITG_z</th>\n",
       "      <th>MMA_x</th>\n",
       "      <th>MMA_y</th>\n",
       "      <th>MMA_z</th>\n",
       "      <th>subject</th>\n",
       "      <th>activity</th>\n",
       "      <th>trial</th>\n",
       "    </tr>\n",
       "  </thead>\n",
       "  <tbody>\n",
       "    <tr>\n",
       "      <th>NaN</th>\n",
       "      <td>0.0</td>\n",
       "      <td>1.0</td>\n",
       "      <td>2.0</td>\n",
       "      <td>3.0</td>\n",
       "      <td>4.0</td>\n",
       "      <td>5.0</td>\n",
       "      <td>6.0</td>\n",
       "      <td>7.0</td>\n",
       "      <td>8.0</td>\n",
       "      <td>SA01</td>\n",
       "      <td>D01</td>\n",
       "      <td>R01</td>\n",
       "    </tr>\n",
       "    <tr>\n",
       "      <th>0.0</th>\n",
       "      <td>17.0</td>\n",
       "      <td>-179.0</td>\n",
       "      <td>-99.0</td>\n",
       "      <td>-18.0</td>\n",
       "      <td>-504.0</td>\n",
       "      <td>-352.0</td>\n",
       "      <td>76.0</td>\n",
       "      <td>-697.0</td>\n",
       "      <td>-279.0</td>\n",
       "      <td>SA01</td>\n",
       "      <td>D01</td>\n",
       "      <td>R01</td>\n",
       "    </tr>\n",
       "    <tr>\n",
       "      <th>1.0</th>\n",
       "      <td>15.0</td>\n",
       "      <td>-174.0</td>\n",
       "      <td>-90.0</td>\n",
       "      <td>-53.0</td>\n",
       "      <td>-568.0</td>\n",
       "      <td>-306.0</td>\n",
       "      <td>48.0</td>\n",
       "      <td>-675.0</td>\n",
       "      <td>-254.0</td>\n",
       "      <td>SA01</td>\n",
       "      <td>D01</td>\n",
       "      <td>R01</td>\n",
       "    </tr>\n",
       "    <tr>\n",
       "      <th>2.0</th>\n",
       "      <td>1.0</td>\n",
       "      <td>-176.0</td>\n",
       "      <td>-81.0</td>\n",
       "      <td>-84.0</td>\n",
       "      <td>-613.0</td>\n",
       "      <td>-271.0</td>\n",
       "      <td>-2.0</td>\n",
       "      <td>-668.0</td>\n",
       "      <td>-221.0</td>\n",
       "      <td>SA01</td>\n",
       "      <td>D01</td>\n",
       "      <td>R01</td>\n",
       "    </tr>\n",
       "    <tr>\n",
       "      <th>3.0</th>\n",
       "      <td>-10.0</td>\n",
       "      <td>-180.0</td>\n",
       "      <td>-77.0</td>\n",
       "      <td>-104.0</td>\n",
       "      <td>-647.0</td>\n",
       "      <td>-227.0</td>\n",
       "      <td>-34.0</td>\n",
       "      <td>-697.0</td>\n",
       "      <td>-175.0</td>\n",
       "      <td>SA01</td>\n",
       "      <td>D01</td>\n",
       "      <td>R01</td>\n",
       "    </tr>\n",
       "    <tr>\n",
       "      <th>4.0</th>\n",
       "      <td>-21.0</td>\n",
       "      <td>-191.0</td>\n",
       "      <td>-63.0</td>\n",
       "      <td>-128.0</td>\n",
       "      <td>-675.0</td>\n",
       "      <td>-191.0</td>\n",
       "      <td>-74.0</td>\n",
       "      <td>-741.0</td>\n",
       "      <td>-133.0</td>\n",
       "      <td>SA01</td>\n",
       "      <td>D01</td>\n",
       "      <td>R01</td>\n",
       "    </tr>\n",
       "    <tr>\n",
       "      <th>5.0</th>\n",
       "      <td>-37.0</td>\n",
       "      <td>-225.0</td>\n",
       "      <td>-59.0</td>\n",
       "      <td>-146.0</td>\n",
       "      <td>-700.0</td>\n",
       "      <td>-159.0</td>\n",
       "      <td>-110.0</td>\n",
       "      <td>-840.0</td>\n",
       "      <td>-103.0</td>\n",
       "      <td>SA01</td>\n",
       "      <td>D01</td>\n",
       "      <td>R01</td>\n",
       "    </tr>\n",
       "    <tr>\n",
       "      <th>6.0</th>\n",
       "      <td>-36.0</td>\n",
       "      <td>-243.0</td>\n",
       "      <td>-46.0</td>\n",
       "      <td>-166.0</td>\n",
       "      <td>-722.0</td>\n",
       "      <td>-131.0</td>\n",
       "      <td>-147.0</td>\n",
       "      <td>-948.0</td>\n",
       "      <td>-75.0</td>\n",
       "      <td>SA01</td>\n",
       "      <td>D01</td>\n",
       "      <td>R01</td>\n",
       "    </tr>\n",
       "    <tr>\n",
       "      <th>7.0</th>\n",
       "      <td>-44.0</td>\n",
       "      <td>-271.0</td>\n",
       "      <td>-38.0</td>\n",
       "      <td>-190.0</td>\n",
       "      <td>-738.0</td>\n",
       "      <td>-107.0</td>\n",
       "      <td>-171.0</td>\n",
       "      <td>-1073.0</td>\n",
       "      <td>-38.0</td>\n",
       "      <td>SA01</td>\n",
       "      <td>D01</td>\n",
       "      <td>R01</td>\n",
       "    </tr>\n",
       "    <tr>\n",
       "      <th>8.0</th>\n",
       "      <td>-51.0</td>\n",
       "      <td>-312.0</td>\n",
       "      <td>-33.0</td>\n",
       "      <td>-210.0</td>\n",
       "      <td>-752.0</td>\n",
       "      <td>-90.0</td>\n",
       "      <td>-200.0</td>\n",
       "      <td>-1191.0</td>\n",
       "      <td>3.0</td>\n",
       "      <td>SA01</td>\n",
       "      <td>D01</td>\n",
       "      <td>R01</td>\n",
       "    </tr>\n",
       "  </tbody>\n",
       "</table>\n",
       "</div>"
      ],
      "text/plain": [
       "     ADXL_x  ADXL_y  ADXL_z  ITG_x  ITG_y  ITG_z  MMA_x   MMA_y  MMA_z  \\\n",
       "NaN     0.0     1.0     2.0    3.0    4.0    5.0    6.0     7.0    8.0   \n",
       "0.0    17.0  -179.0   -99.0  -18.0 -504.0 -352.0   76.0  -697.0 -279.0   \n",
       "1.0    15.0  -174.0   -90.0  -53.0 -568.0 -306.0   48.0  -675.0 -254.0   \n",
       "2.0     1.0  -176.0   -81.0  -84.0 -613.0 -271.0   -2.0  -668.0 -221.0   \n",
       "3.0   -10.0  -180.0   -77.0 -104.0 -647.0 -227.0  -34.0  -697.0 -175.0   \n",
       "4.0   -21.0  -191.0   -63.0 -128.0 -675.0 -191.0  -74.0  -741.0 -133.0   \n",
       "5.0   -37.0  -225.0   -59.0 -146.0 -700.0 -159.0 -110.0  -840.0 -103.0   \n",
       "6.0   -36.0  -243.0   -46.0 -166.0 -722.0 -131.0 -147.0  -948.0  -75.0   \n",
       "7.0   -44.0  -271.0   -38.0 -190.0 -738.0 -107.0 -171.0 -1073.0  -38.0   \n",
       "8.0   -51.0  -312.0   -33.0 -210.0 -752.0  -90.0 -200.0 -1191.0    3.0   \n",
       "\n",
       "    subject activity trial  \n",
       "NaN    SA01      D01   R01  \n",
       "0.0    SA01      D01   R01  \n",
       "1.0    SA01      D01   R01  \n",
       "2.0    SA01      D01   R01  \n",
       "3.0    SA01      D01   R01  \n",
       "4.0    SA01      D01   R01  \n",
       "5.0    SA01      D01   R01  \n",
       "6.0    SA01      D01   R01  \n",
       "7.0    SA01      D01   R01  \n",
       "8.0    SA01      D01   R01  "
      ]
     },
     "execution_count": 4,
     "metadata": {},
     "output_type": "execute_result"
    }
   ],
   "source": [
    "datapath = \"./data/SisFall.csv\"\n",
    "\n",
    "df = pd.read_csv(datapath, index_col=0)\n",
    "df.head(10)"
   ]
  },
  {
   "cell_type": "code",
   "execution_count": 5,
   "id": "f493029a",
   "metadata": {
    "ExecuteTime": {
     "end_time": "2025-02-14T01:40:31.742649Z",
     "start_time": "2025-02-14T01:40:29.355211Z"
    }
   },
   "outputs": [
    {
     "name": "stdout",
     "output_type": "stream",
     "text": [
      "Index(['ADXL_x', 'ADXL_y', 'ADXL_z', 'ITG_x', 'ITG_y', 'ITG_z', 'MMA_x',\n",
      "       'MMA_y', 'MMA_z', 'subject', 'activity', 'trial'],\n",
      "      dtype='object')\n",
      "{'SE12', 'SA19', 'SA18', 'SA20', 'SA21', 'SE02', 'SA16', 'SA23', 'SE11', 'SE10', 'SA09', 'SE05', 'SA11', 'SA15', 'SE04', 'SE06', 'SE08', 'SA10', 'SA12', 'SA08', 'SE09', 'SA06', 'SE07', 'SA22', 'SA05', 'SA04', 'SA01', 'SA13', 'SA14', 'SE01', 'SA17', 'SE03', 'SA07', 'SA02', 'SE15', 'SE13', 'SA03', 'SE14'}\n"
     ]
    }
   ],
   "source": [
    "print (df.columns)\n",
    "print (set(df['subject']))\n",
    "features = df.copy()\n",
    "\n",
    "# dnum = 200\n",
    "# fnum = 365"
   ]
  },
  {
   "cell_type": "code",
   "execution_count": 6,
   "id": "a1365491",
   "metadata": {
    "ExecuteTime": {
     "end_time": "2025-02-14T01:40:39.600274Z",
     "start_time": "2025-02-14T01:40:31.744464Z"
    }
   },
   "outputs": [
    {
     "name": "stdout",
     "output_type": "stream",
     "text": [
      "original : 15838429\n",
      "after : 14906814\n",
      "number of deleted data : 931615\n"
     ]
    }
   ],
   "source": [
    "def drop_outlier(features) :\n",
    "    sensor_columns = [col for col in features.columns if col not in ['activity', 'subject', 'trial']]\n",
    "    \n",
    "    z_scores = pd.DataFrame(index=features.index)\n",
    "    for col in sensor_columns:\n",
    "        z_scores[col] = (features[col] - features[col].mean()) / features[col].std()\n",
    "    \n",
    "    mask = (np.abs(z_scores) < 3).all(axis=1)\n",
    "    filtered_features = features[mask].copy()\n",
    "    \n",
    "    print(f\"original : {len(features)}\")\n",
    "    print(f\"after : {len(filtered_features)}\")\n",
    "    print(f\"number of deleted data : {len(features) - len(filtered_features)}\")\n",
    "    \n",
    "    return filtered_features\n",
    "\n",
    "features = drop_outlier(df)"
   ]
  },
  {
   "cell_type": "code",
   "execution_count": 7,
   "id": "af0b2ee2",
   "metadata": {
    "ExecuteTime": {
     "end_time": "2025-02-14T01:41:09.089122Z",
     "start_time": "2025-02-14T01:40:39.602016Z"
    }
   },
   "outputs": [],
   "source": [
    "D01 = features[(features['activity']=='D01') & (features['subject']=='SA01')].copy()\n",
    "D02 = features[(features['activity']=='D02') & (features['subject']=='SA01')].copy()\n",
    "D03 = features[(features['activity']=='D03') & (features['subject']=='SA01')].copy()\n",
    "D04 = features[(features['activity']=='D04') & (features['subject']=='SA01')].copy()\n",
    "D05 = features[(features['activity']=='D05') & (features['subject']=='SA01')].copy()\n",
    "D06 = features[(features['activity']=='D06') & (features['subject']=='SA01')].copy()\n",
    "D07 = features[(features['activity']=='D07') & (features['subject']=='SA01')].copy()\n",
    "D08 = features[(features['activity']=='D08') & (features['subject']=='SA01')].copy()\n",
    "D09 = features[(features['activity']=='D09') & (features['subject']=='SA01')].copy()\n",
    "D10 = features[(features['activity']=='D10') & (features['subject']=='SA01')].copy()\n",
    "D11 = features[(features['activity']=='D11') & (features['subject']=='SA01')].copy()\n",
    "D12 = features[(features['activity']=='D12') & (features['subject']=='SA01')].copy()\n",
    "D13 = features[(features['activity']=='D13') & (features['subject']=='SA01')].copy()\n",
    "D14 = features[(features['activity']=='D14') & (features['subject']=='SA01')].copy()\n",
    "D15 = features[(features['activity']=='D15') & (features['subject']=='SA01')].copy()\n",
    "D16 = features[(features['activity']=='D16') & (features['subject']=='SA01')].copy()\n",
    "D17 = features[(features['activity']=='D17') & (features['subject']=='SA01')].copy()\n",
    "D18 = features[(features['activity']=='D18') & (features['subject']=='SA01')].copy()\n",
    "D19 = features[(features['activity']=='D19') & (features['subject']=='SA01')].copy()"
   ]
  },
  {
   "cell_type": "code",
   "execution_count": 8,
   "id": "55f8bc7c",
   "metadata": {
    "ExecuteTime": {
     "end_time": "2025-02-14T01:41:31.451633Z",
     "start_time": "2025-02-14T01:41:09.090998Z"
    }
   },
   "outputs": [],
   "source": [
    "F01 = features[(features['activity']=='F01') & (features['subject']=='SA01')].copy()\n",
    "F02 = features[(features['activity']=='F02') & (features['subject']=='SA01')].copy()\n",
    "F03 = features[(features['activity']=='F03') & (features['subject']=='SA01')].copy()\n",
    "F04 = features[(features['activity']=='F04') & (features['subject']=='SA01')].copy()\n",
    "F05 = features[(features['activity']=='F05') & (features['subject']=='SA01')].copy()\n",
    "F06 = features[(features['activity']=='F06') & (features['subject']=='SA01')].copy()\n",
    "F07 = features[(features['activity']=='F07') & (features['subject']=='SA01')].copy()\n",
    "F08 = features[(features['activity']=='F08') & (features['subject']=='SA01')].copy()\n",
    "F09 = features[(features['activity']=='F09') & (features['subject']=='SA01')].copy()\n",
    "F10 = features[(features['activity']=='F10') & (features['subject']=='SA01')].copy()\n",
    "F11 = features[(features['activity']=='F11') & (features['subject']=='SA01')].copy()\n",
    "F12 = features[(features['activity']=='F12') & (features['subject']=='SA01')].copy()\n",
    "F13 = features[(features['activity']=='F13') & (features['subject']=='SA01')].copy()\n",
    "F14 = features[(features['activity']=='F14') & (features['subject']=='SA01')].copy()\n",
    "F15 = features[(features['activity']=='F15') & (features['subject']=='SA01')].copy()"
   ]
  },
  {
   "cell_type": "code",
   "execution_count": 9,
   "id": "4760754a",
   "metadata": {
    "ExecuteTime": {
     "end_time": "2025-02-14T01:41:31.502417Z",
     "start_time": "2025-02-14T01:41:31.458144Z"
    }
   },
   "outputs": [],
   "source": [
    "df = pd.DataFrame()\n",
    "df = pd.concat([df, F01, F02, F03, F04, F05, F06, F07, F08, F09, F10, F11, F12, F13, F14, F15])\n",
    "df = pd.concat([df, D01, D02, D03, D04, D05, D06, D07, D08, D09, D10, D11, D15, D16, D17, D18, D19])"
   ]
  },
  {
   "cell_type": "code",
   "execution_count": 10,
   "id": "e6c82f4c",
   "metadata": {
    "ExecuteTime": {
     "end_time": "2025-02-14T01:41:31.533739Z",
     "start_time": "2025-02-14T01:41:31.504470Z"
    }
   },
   "outputs": [
    {
     "data": {
      "text/plain": [
       "activity\n",
       "D05    24697\n",
       "D17    24649\n",
       "D06    23317\n",
       "D01    19973\n",
       "D02    18097\n",
       "F14    14793\n",
       "F11    14664\n",
       "F15    14558\n",
       "F12    14519\n",
       "F09    14511\n",
       "F13    14490\n",
       "F08    14483\n",
       "F10    14371\n",
       "F07    14281\n",
       "F01    14167\n",
       "F03    14161\n",
       "F02    14157\n",
       "F04    13978\n",
       "F06    13754\n",
       "D03    13203\n",
       "F05    12051\n",
       "D07    12005\n",
       "D15    12005\n",
       "D16    12005\n",
       "D09    11998\n",
       "D19    11884\n",
       "D08    11876\n",
       "D11    11866\n",
       "D10    11864\n",
       "D18    11507\n",
       "D04     7221\n",
       "Name: count, dtype: int64"
      ]
     },
     "execution_count": 10,
     "metadata": {},
     "output_type": "execute_result"
    }
   ],
   "source": [
    "df['activity'].value_counts()"
   ]
  },
  {
   "cell_type": "code",
   "execution_count": 11,
   "id": "3ca7b3c8",
   "metadata": {
    "ExecuteTime": {
     "end_time": "2025-02-14T01:41:31.752790Z",
     "start_time": "2025-02-14T01:41:31.535514Z"
    }
   },
   "outputs": [],
   "source": [
    "features = df.copy()"
   ]
  },
  {
   "cell_type": "code",
   "execution_count": 12,
   "id": "37032aab",
   "metadata": {
    "ExecuteTime": {
     "end_time": "2025-02-14T01:41:33.998165Z",
     "start_time": "2025-02-14T01:41:31.754246Z"
    }
   },
   "outputs": [
    {
     "name": "stderr",
     "output_type": "stream",
     "text": [
      "/var/folders/_z/gryfr07n59jgb3wrd062h1ym0000gn/T/ipykernel_34013/4220643108.py:35: FutureWarning: Downcasting behavior in `replace` is deprecated and will be removed in a future version. To retain the old behavior, explicitly call `result.infer_objects(copy=False)`. To opt-in to the future behavior, set `pd.set_option('future.no_silent_downcasting', True)`\n",
      "  features = features.replace({'activity':'F15'},1)\n"
     ]
    }
   ],
   "source": [
    "features = features.replace({'activity':'D01'},0)\n",
    "features = features.replace({'activity':'D01'},0)\n",
    "features = features.replace({'activity':'D02'},0)\n",
    "features = features.replace({'activity':'D03'},0)\n",
    "features = features.replace({'activity':'D04'},0)\n",
    "features = features.replace({'activity':'D05'},0)\n",
    "features = features.replace({'activity':'D06'},0)\n",
    "features = features.replace({'activity':'D07'},0)\n",
    "features = features.replace({'activity':'D08'},0)\n",
    "features = features.replace({'activity':'D09'},0)\n",
    "features = features.replace({'activity':'D10'},0)\n",
    "features = features.replace({'activity':'D11'},0)\n",
    "features = features.replace({'activity':'D12'},0)\n",
    "features = features.replace({'activity':'D13'},0)\n",
    "features = features.replace({'activity':'D14'},0)\n",
    "features = features.replace({'activity':'D15'},0)\n",
    "features = features.replace({'activity':'D16'},0)\n",
    "features = features.replace({'activity':'D17'},0)\n",
    "features = features.replace({'activity':'D18'},0)\n",
    "features = features.replace({'activity':'D19'},0)\n",
    "features = features.replace({'activity':'F01'},1)\n",
    "features = features.replace({'activity':'F02'},1)\n",
    "features = features.replace({'activity':'F03'},1)\n",
    "features = features.replace({'activity':'F04'},1)\n",
    "features = features.replace({'activity':'F05'},1)\n",
    "features = features.replace({'activity':'F06'},1)\n",
    "features = features.replace({'activity':'F07'},1)\n",
    "features = features.replace({'activity':'F08'},1)\n",
    "features = features.replace({'activity':'F09'},1)\n",
    "features = features.replace({'activity':'F10'},1)\n",
    "features = features.replace({'activity':'F11'},1)\n",
    "features = features.replace({'activity':'F12'},1)\n",
    "features = features.replace({'activity':'F13'},1)\n",
    "features = features.replace({'activity':'F14'},1)\n",
    "features = features.replace({'activity':'F15'},1)\n",
    "features = features.replace({'activity':'F15'},1)"
   ]
  },
  {
   "cell_type": "code",
   "execution_count": 13,
   "id": "ff8e12e0",
   "metadata": {
    "ExecuteTime": {
     "end_time": "2025-02-14T01:41:34.010542Z",
     "start_time": "2025-02-14T01:41:34.000929Z"
    }
   },
   "outputs": [
    {
     "data": {
      "text/plain": [
       "activity\n",
       "0    238167\n",
       "1    212938\n",
       "Name: count, dtype: int64"
      ]
     },
     "execution_count": 13,
     "metadata": {},
     "output_type": "execute_result"
    }
   ],
   "source": [
    "features['activity'].value_counts()"
   ]
  },
  {
   "cell_type": "code",
   "execution_count": 14,
   "id": "f52d3cef",
   "metadata": {
    "ExecuteTime": {
     "end_time": "2025-02-14T01:41:34.030810Z",
     "start_time": "2025-02-14T01:41:34.012976Z"
    }
   },
   "outputs": [
    {
     "data": {
      "text/html": [
       "<div>\n",
       "<style scoped>\n",
       "    .dataframe tbody tr th:only-of-type {\n",
       "        vertical-align: middle;\n",
       "    }\n",
       "\n",
       "    .dataframe tbody tr th {\n",
       "        vertical-align: top;\n",
       "    }\n",
       "\n",
       "    .dataframe thead th {\n",
       "        text-align: right;\n",
       "    }\n",
       "</style>\n",
       "<table border=\"1\" class=\"dataframe\">\n",
       "  <thead>\n",
       "    <tr style=\"text-align: right;\">\n",
       "      <th></th>\n",
       "      <th>ADXL_x</th>\n",
       "      <th>ADXL_y</th>\n",
       "      <th>ADXL_z</th>\n",
       "      <th>ITG_x</th>\n",
       "      <th>ITG_y</th>\n",
       "      <th>ITG_z</th>\n",
       "      <th>MMA_x</th>\n",
       "      <th>MMA_y</th>\n",
       "      <th>MMA_z</th>\n",
       "      <th>subject</th>\n",
       "      <th>activity</th>\n",
       "      <th>trial</th>\n",
       "    </tr>\n",
       "  </thead>\n",
       "  <tbody>\n",
       "    <tr>\n",
       "      <th>NaN</th>\n",
       "      <td>0.0</td>\n",
       "      <td>1.0</td>\n",
       "      <td>2.0</td>\n",
       "      <td>3.0</td>\n",
       "      <td>4.0</td>\n",
       "      <td>5.0</td>\n",
       "      <td>6.0</td>\n",
       "      <td>7.0</td>\n",
       "      <td>8.0</td>\n",
       "      <td>SA01</td>\n",
       "      <td>1</td>\n",
       "      <td>R01</td>\n",
       "    </tr>\n",
       "    <tr>\n",
       "      <th>0.0</th>\n",
       "      <td>-9.0</td>\n",
       "      <td>-257.0</td>\n",
       "      <td>-25.0</td>\n",
       "      <td>84.0</td>\n",
       "      <td>247.0</td>\n",
       "      <td>27.0</td>\n",
       "      <td>-120.0</td>\n",
       "      <td>-987.0</td>\n",
       "      <td>63.0</td>\n",
       "      <td>SA01</td>\n",
       "      <td>1</td>\n",
       "      <td>R01</td>\n",
       "    </tr>\n",
       "    <tr>\n",
       "      <th>1.0</th>\n",
       "      <td>-3.0</td>\n",
       "      <td>-263.0</td>\n",
       "      <td>-23.0</td>\n",
       "      <td>99.0</td>\n",
       "      <td>258.0</td>\n",
       "      <td>35.0</td>\n",
       "      <td>-110.0</td>\n",
       "      <td>-1016.0</td>\n",
       "      <td>68.0</td>\n",
       "      <td>SA01</td>\n",
       "      <td>1</td>\n",
       "      <td>R01</td>\n",
       "    </tr>\n",
       "    <tr>\n",
       "      <th>2.0</th>\n",
       "      <td>-1.0</td>\n",
       "      <td>-270.0</td>\n",
       "      <td>-22.0</td>\n",
       "      <td>114.0</td>\n",
       "      <td>272.0</td>\n",
       "      <td>45.0</td>\n",
       "      <td>-94.0</td>\n",
       "      <td>-1037.0</td>\n",
       "      <td>69.0</td>\n",
       "      <td>SA01</td>\n",
       "      <td>1</td>\n",
       "      <td>R01</td>\n",
       "    </tr>\n",
       "    <tr>\n",
       "      <th>3.0</th>\n",
       "      <td>1.0</td>\n",
       "      <td>-277.0</td>\n",
       "      <td>-24.0</td>\n",
       "      <td>127.0</td>\n",
       "      <td>286.0</td>\n",
       "      <td>57.0</td>\n",
       "      <td>-81.0</td>\n",
       "      <td>-1062.0</td>\n",
       "      <td>69.0</td>\n",
       "      <td>SA01</td>\n",
       "      <td>1</td>\n",
       "      <td>R01</td>\n",
       "    </tr>\n",
       "    <tr>\n",
       "      <th>...</th>\n",
       "      <td>...</td>\n",
       "      <td>...</td>\n",
       "      <td>...</td>\n",
       "      <td>...</td>\n",
       "      <td>...</td>\n",
       "      <td>...</td>\n",
       "      <td>...</td>\n",
       "      <td>...</td>\n",
       "      <td>...</td>\n",
       "      <td>...</td>\n",
       "      <td>...</td>\n",
       "      <td>...</td>\n",
       "    </tr>\n",
       "    <tr>\n",
       "      <th>2395.0</th>\n",
       "      <td>5.0</td>\n",
       "      <td>-258.0</td>\n",
       "      <td>-67.0</td>\n",
       "      <td>-36.0</td>\n",
       "      <td>-5.0</td>\n",
       "      <td>-5.0</td>\n",
       "      <td>2.0</td>\n",
       "      <td>-1002.0</td>\n",
       "      <td>-144.0</td>\n",
       "      <td>SA01</td>\n",
       "      <td>0</td>\n",
       "      <td>R05</td>\n",
       "    </tr>\n",
       "    <tr>\n",
       "      <th>2396.0</th>\n",
       "      <td>1.0</td>\n",
       "      <td>-260.0</td>\n",
       "      <td>-67.0</td>\n",
       "      <td>-37.0</td>\n",
       "      <td>-5.0</td>\n",
       "      <td>-6.0</td>\n",
       "      <td>-5.0</td>\n",
       "      <td>-1000.0</td>\n",
       "      <td>-143.0</td>\n",
       "      <td>SA01</td>\n",
       "      <td>0</td>\n",
       "      <td>R05</td>\n",
       "    </tr>\n",
       "    <tr>\n",
       "      <th>2397.0</th>\n",
       "      <td>-2.0</td>\n",
       "      <td>-258.0</td>\n",
       "      <td>-67.0</td>\n",
       "      <td>-37.0</td>\n",
       "      <td>-5.0</td>\n",
       "      <td>-7.0</td>\n",
       "      <td>-8.0</td>\n",
       "      <td>-1003.0</td>\n",
       "      <td>-142.0</td>\n",
       "      <td>SA01</td>\n",
       "      <td>0</td>\n",
       "      <td>R05</td>\n",
       "    </tr>\n",
       "    <tr>\n",
       "      <th>2398.0</th>\n",
       "      <td>1.0</td>\n",
       "      <td>-258.0</td>\n",
       "      <td>-66.0</td>\n",
       "      <td>-38.0</td>\n",
       "      <td>-5.0</td>\n",
       "      <td>-6.0</td>\n",
       "      <td>4.0</td>\n",
       "      <td>-1002.0</td>\n",
       "      <td>-143.0</td>\n",
       "      <td>SA01</td>\n",
       "      <td>0</td>\n",
       "      <td>R05</td>\n",
       "    </tr>\n",
       "    <tr>\n",
       "      <th>2399.0</th>\n",
       "      <td>1.0</td>\n",
       "      <td>-258.0</td>\n",
       "      <td>-66.0</td>\n",
       "      <td>-38.0</td>\n",
       "      <td>-4.0</td>\n",
       "      <td>-7.0</td>\n",
       "      <td>-2.0</td>\n",
       "      <td>-1003.0</td>\n",
       "      <td>-138.0</td>\n",
       "      <td>SA01</td>\n",
       "      <td>0</td>\n",
       "      <td>R05</td>\n",
       "    </tr>\n",
       "  </tbody>\n",
       "</table>\n",
       "<p>451105 rows × 12 columns</p>\n",
       "</div>"
      ],
      "text/plain": [
       "        ADXL_x  ADXL_y  ADXL_z  ITG_x  ITG_y  ITG_z  MMA_x   MMA_y  MMA_z  \\\n",
       "NaN        0.0     1.0     2.0    3.0    4.0    5.0    6.0     7.0    8.0   \n",
       "0.0       -9.0  -257.0   -25.0   84.0  247.0   27.0 -120.0  -987.0   63.0   \n",
       "1.0       -3.0  -263.0   -23.0   99.0  258.0   35.0 -110.0 -1016.0   68.0   \n",
       "2.0       -1.0  -270.0   -22.0  114.0  272.0   45.0  -94.0 -1037.0   69.0   \n",
       "3.0        1.0  -277.0   -24.0  127.0  286.0   57.0  -81.0 -1062.0   69.0   \n",
       "...        ...     ...     ...    ...    ...    ...    ...     ...    ...   \n",
       "2395.0     5.0  -258.0   -67.0  -36.0   -5.0   -5.0    2.0 -1002.0 -144.0   \n",
       "2396.0     1.0  -260.0   -67.0  -37.0   -5.0   -6.0   -5.0 -1000.0 -143.0   \n",
       "2397.0    -2.0  -258.0   -67.0  -37.0   -5.0   -7.0   -8.0 -1003.0 -142.0   \n",
       "2398.0     1.0  -258.0   -66.0  -38.0   -5.0   -6.0    4.0 -1002.0 -143.0   \n",
       "2399.0     1.0  -258.0   -66.0  -38.0   -4.0   -7.0   -2.0 -1003.0 -138.0   \n",
       "\n",
       "       subject  activity trial  \n",
       "NaN       SA01         1   R01  \n",
       "0.0       SA01         1   R01  \n",
       "1.0       SA01         1   R01  \n",
       "2.0       SA01         1   R01  \n",
       "3.0       SA01         1   R01  \n",
       "...        ...       ...   ...  \n",
       "2395.0    SA01         0   R05  \n",
       "2396.0    SA01         0   R05  \n",
       "2397.0    SA01         0   R05  \n",
       "2398.0    SA01         0   R05  \n",
       "2399.0    SA01         0   R05  \n",
       "\n",
       "[451105 rows x 12 columns]"
      ]
     },
     "execution_count": 14,
     "metadata": {},
     "output_type": "execute_result"
    }
   ],
   "source": [
    "features"
   ]
  },
  {
   "cell_type": "code",
   "execution_count": 15,
   "id": "a7800f5d",
   "metadata": {
    "ExecuteTime": {
     "end_time": "2025-02-14T01:41:34.068703Z",
     "start_time": "2025-02-14T01:41:34.033099Z"
    }
   },
   "outputs": [
    {
     "name": "stdout",
     "output_type": "stream",
     "text": [
      "{'SA01'}\n"
     ]
    }
   ],
   "source": [
    "print (set(features['subject']))"
   ]
  },
  {
   "cell_type": "code",
   "execution_count": 16,
   "id": "2631a80b",
   "metadata": {
    "ExecuteTime": {
     "end_time": "2025-02-14T01:41:34.081687Z",
     "start_time": "2025-02-14T01:41:34.070121Z"
    }
   },
   "outputs": [
    {
     "name": "stdout",
     "output_type": "stream",
     "text": [
      "Index(['ADXL_x', 'ADXL_y', 'ADXL_z', 'ITG_x', 'ITG_y', 'ITG_z', 'MMA_x',\n",
      "       'MMA_y', 'MMA_z', 'activity'],\n",
      "      dtype='object')\n"
     ]
    }
   ],
   "source": [
    "features = features[[ft for ft in features.columns if ft not in ['subject', 'trial']]]\n",
    "print(features.columns)"
   ]
  },
  {
   "cell_type": "code",
   "execution_count": 17,
   "id": "de81bffa",
   "metadata": {
    "ExecuteTime": {
     "end_time": "2025-02-14T01:41:34.210450Z",
     "start_time": "2025-02-14T01:41:34.083683Z"
    }
   },
   "outputs": [],
   "source": [
    "from sklearn.preprocessing import StandardScaler\n",
    "\n",
    "feature_columns = [col for col in features.columns if col != 'activity']\n",
    "\n",
    "scaler = StandardScaler()\n",
    "\n",
    "features_scaled = features.copy()\n",
    "features_scaled[feature_columns] = scaler.fit_transform(features[feature_columns])"
   ]
  },
  {
   "cell_type": "code",
   "execution_count": 18,
   "id": "1744cf6b",
   "metadata": {
    "ExecuteTime": {
     "end_time": "2025-02-14T01:41:34.264599Z",
     "start_time": "2025-02-14T01:41:34.212655Z"
    }
   },
   "outputs": [
    {
     "name": "stdout",
     "output_type": "stream",
     "text": [
      "(142900, 10) (95267, 10) (127762, 10) (85176, 10)\n"
     ]
    }
   ],
   "source": [
    "adl_count = features_scaled['activity'].value_counts()[0]\n",
    "fall_count = features_scaled['activity'].value_counts()[1]\n",
    "\n",
    "adl_mask = features_scaled['activity'] == 0\n",
    "adl_data = features_scaled[adl_mask]\n",
    "adl1 = adl_data.iloc[:int(adl_count * 0.6)]\n",
    "adl2 = adl_data.iloc[int(adl_count * 0.6):]\n",
    "\n",
    "fall_mask = features_scaled['activity'] == 1\n",
    "fall_data = features_scaled[fall_mask]\n",
    "fall1 = fall_data.iloc[:int(fall_count * 0.6)]\n",
    "fall2 = fall_data.iloc[int(fall_count * 0.6):]\n",
    "\n",
    "print(adl1.shape, adl2.shape, fall1.shape, fall2.shape)"
   ]
  },
  {
   "cell_type": "code",
   "execution_count": 19,
   "id": "d73f321a",
   "metadata": {
    "ExecuteTime": {
     "end_time": "2025-02-14T01:41:34.270479Z",
     "start_time": "2025-02-14T01:41:34.266491Z"
    }
   },
   "outputs": [],
   "source": [
    "def split_sequences(sequences, n_steps, stride):\n",
    "    X, y = [], []\n",
    "    for i in range(0, len(sequences) - n_steps + 1, stride):\n",
    "        end_ix = i + n_steps\n",
    "        \n",
    "        seq_x = sequences.iloc[i:end_ix].iloc[:, :-1]  \n",
    "        seq_y = sequences.iloc[end_ix-1].iloc[-1]      \n",
    "        \n",
    "        X.append(seq_x.values)\n",
    "        y.append(seq_y)\n",
    "    \n",
    "    return np.array(X), np.array(y)"
   ]
  },
  {
   "cell_type": "code",
   "execution_count": 20,
   "id": "befa2ffc",
   "metadata": {
    "ExecuteTime": {
     "end_time": "2025-02-14T01:41:39.563899Z",
     "start_time": "2025-02-14T01:41:34.272420Z"
    }
   },
   "outputs": [
    {
     "name": "stdout",
     "output_type": "stream",
     "text": [
      "after train(only adl) : (5713, 100, 9)\n",
      "(5713,)\n",
      "after test adl(normal) : ((3807, 100, 9), (3807,))\n",
      "after test fall(abnormal) : ((3404, 100, 9), (3404,))\n"
     ]
    }
   ],
   "source": [
    "WINDOW_LENGTH = 100\n",
    "STRIDE = 25\n",
    "train_data, train_labels = split_sequences(adl1, \n",
    "                                           WINDOW_LENGTH, \n",
    "                                          STRIDE)\n",
    "print (f\"after train(only adl) : {train_data.shape}\")\n",
    "print (train_labels.shape)\n",
    "\n",
    "normal_test_data, normal_test_labels = split_sequences(adl2, \n",
    "                                                       WINDOW_LENGTH, \n",
    "                                                       STRIDE)\n",
    "abnormal_test_data, abnormal_test_labels = split_sequences(fall2, \n",
    "                                                           WINDOW_LENGTH,\n",
    "                                                           STRIDE)\n",
    "print (f\"after test adl(normal) : {normal_test_data.shape, normal_test_labels.shape}\")\n",
    "print (f\"after test fall(abnormal) : {abnormal_test_data.shape, abnormal_test_labels.shape}\")"
   ]
  },
  {
   "cell_type": "markdown",
   "id": "2b7fb1ac",
   "metadata": {},
   "source": [
    "----"
   ]
  },
  {
   "cell_type": "code",
   "execution_count": 28,
   "id": "75320296",
   "metadata": {
    "ExecuteTime": {
     "end_time": "2025-02-14T01:42:09.408812Z",
     "start_time": "2025-02-14T01:42:09.405574Z"
    }
   },
   "outputs": [],
   "source": [
    "EPOCHS = 100\n",
    "INITIAL_LEARNING_RATE = 1e-4  \n",
    "DECAY_STEPS = 1000  \n",
    "DECAY_RATE = 0.98  \n",
    "device = torch.device('cuda' if torch.cuda.is_available() else 'cpu')\n",
    "BATCH_SIZE = 32"
   ]
  },
  {
   "cell_type": "code",
   "execution_count": 29,
   "id": "7e0446b4",
   "metadata": {
    "ExecuteTime": {
     "end_time": "2025-02-14T01:42:09.841740Z",
     "start_time": "2025-02-14T01:42:09.836834Z"
    }
   },
   "outputs": [],
   "source": [
    "class SisFallDataset(Dataset):\n",
    "    def __init__(self, data):\n",
    "        # Transpose data from [batch, window_length, features] to [batch, features, window_length]\n",
    "        data = data.transpose(0, 2, 1)\n",
    "        self.data = torch.FloatTensor(data)\n",
    "    \n",
    "    def __len__(self):\n",
    "        return len(self.data)\n",
    "    \n",
    "    def __getitem__(self, idx):\n",
    "        return self.data[idx]  # Returns shape [features, window_length]"
   ]
  },
  {
   "cell_type": "code",
   "execution_count": 30,
   "id": "fa953720",
   "metadata": {
    "ExecuteTime": {
     "end_time": "2025-02-14T01:42:10.223148Z",
     "start_time": "2025-02-14T01:42:10.218898Z"
    }
   },
   "outputs": [],
   "source": [
    "class DoubleConv(nn.Module):\n",
    "    def __init__(self, in_channels, out_channels):\n",
    "        super(DoubleConv, self).__init__()\n",
    "        middle_channels = out_channels // 2\n",
    "        self.conv = nn.Sequential(\n",
    "            nn.Conv1d(in_channels, middle_channels, kernel_size=2, padding='same'),\n",
    "            nn.BatchNorm1d(middle_channels),\n",
    "            nn.ReLU(),\n",
    "            nn.Conv1d(middle_channels, out_channels, kernel_size=2, padding='same'),\n",
    "            nn.BatchNorm1d(out_channels),   \n",
    "            nn.ReLU()\n",
    "        )\n",
    "    def forward(self, x):\n",
    "        return self.conv(x)"
   ]
  },
  {
   "cell_type": "code",
   "execution_count": 31,
   "id": "d90fd9bf",
   "metadata": {
    "ExecuteTime": {
     "end_time": "2025-02-14T01:42:10.581962Z",
     "start_time": "2025-02-14T01:42:10.577497Z"
    }
   },
   "outputs": [],
   "source": [
    "class SinusoidalPositionEmbeddings(nn.Module):\n",
    "    def __init__(self, dim):\n",
    "        super().__init__()\n",
    "        self.dim = dim\n",
    "\n",
    "    def forward(self, time):\n",
    "        device = time.device\n",
    "        half_dim = self.dim // 2\n",
    "        embeddings = math.log(10000) / (half_dim - 1)\n",
    "        embeddings = torch.exp(torch.arange(half_dim, device=device) * -embeddings)\n",
    "        embeddings = time[:, None] * embeddings[None, :]\n",
    "        embeddings = torch.cat((embeddings.sin(), embeddings.cos()), dim=-1)\n",
    "        return embeddings"
   ]
  },
  {
   "cell_type": "code",
   "execution_count": 40,
   "id": "3dd971a3",
   "metadata": {
    "ExecuteTime": {
     "end_time": "2025-02-14T01:43:35.700468Z",
     "start_time": "2025-02-14T01:43:35.694940Z"
    }
   },
   "outputs": [],
   "source": [
    "class CNNFeatureExtractor(nn.Module):\n",
    "    def __init__(self, in_channels=9):\n",
    "        super().__init__()\n",
    "        self.inc = nn.Sequential(\n",
    "            nn.Conv1d(in_channels, 64, kernel_size=3, padding='same'),\n",
    "            nn.BatchNorm1d(64),\n",
    "            nn.GELU(),\n",
    "            nn.MaxPool1d(kernel_size=2)  \n",
    "        )\n",
    "        \n",
    "        self.down = nn.Sequential(\n",
    "            nn.Conv1d(64, 128, kernel_size=3, padding='same'),\n",
    "            nn.BatchNorm1d(128),\n",
    "            nn.GELU(),\n",
    "            nn.MaxPool1d(kernel_size=2) \n",
    "        )\n",
    "        \n",
    "        self.up = nn.Sequential(\n",
    "            nn.Upsample(scale_factor=2), \n",
    "            nn.Conv1d(128, 64, kernel_size=3, padding='same'),\n",
    "            nn.BatchNorm1d(64),\n",
    "            nn.GELU()\n",
    "        )\n",
    "\n",
    "    def forward(self, x):\n",
    "        x1 = self.inc(x)      # 64 channels\n",
    "        x2 = self.down(x1)    # 128 channels\n",
    "        x3 = self.up(x2)      # 64 channels\n",
    "        return x2, (x1, x3)   # return: bottleneck(128), skip connections(64, 64)"
   ]
  },
  {
   "cell_type": "code",
   "execution_count": 41,
   "id": "e819eef5",
   "metadata": {
    "ExecuteTime": {
     "end_time": "2025-02-14T01:43:54.094217Z",
     "start_time": "2025-02-14T01:43:54.089430Z"
    }
   },
   "outputs": [],
   "source": [
    "class TransformerEncoder(nn.Module):\n",
    "    def __init__(self, embed_dim=128, num_heads=8, num_layers=4):\n",
    "        super().__init__()\n",
    "        self.layers = nn.ModuleList([\n",
    "            nn.TransformerEncoderLayer(\n",
    "                d_model=embed_dim,\n",
    "                nhead=num_heads,\n",
    "                dim_feedforward=embed_dim*4,\n",
    "                dropout=0.1,\n",
    "                batch_first=True\n",
    "            ) for _ in range(num_layers)\n",
    "        ])\n",
    "        \n",
    "        self.pos_embedding = nn.Parameter(torch.zeros(1, 100//4, embed_dim))\n",
    "\n",
    "    def forward(self, x):\n",
    "        B, C, L = x.shape\n",
    "        x = x.transpose(1, 2)\n",
    "        x = x + self.pos_embedding\n",
    "        \n",
    "        for layer in self.layers:\n",
    "            x = layer(x)\n",
    "            \n",
    "        return x.transpose(1, 2)"
   ]
  },
  {
   "cell_type": "code",
   "execution_count": 42,
   "id": "00facd1e",
   "metadata": {
    "ExecuteTime": {
     "end_time": "2025-02-14T01:44:01.915029Z",
     "start_time": "2025-02-14T01:44:01.907960Z"
    }
   },
   "outputs": [],
   "source": [
    "class TransUNet1D(nn.Module):\n",
    "    def __init__(self, in_channels=9):\n",
    "        super().__init__()\n",
    "        self.cnn_encoder = CNNFeatureExtractor(in_channels)\n",
    "        self.transformer = TransformerEncoder(embed_dim=128)\n",
    "        \n",
    "        self.time_embed = nn.Sequential(\n",
    "            SinusoidalPositionEmbeddings(128),\n",
    "            nn.Linear(128, 128),\n",
    "            nn.GELU(),\n",
    "            nn.Linear(128, 128)\n",
    "        )\n",
    "        \n",
    "        # Decoder\n",
    "        self.up2 = nn.Sequential(\n",
    "            nn.ConvTranspose1d(128, 64, kernel_size=2, stride=2),\n",
    "            DoubleConv(128, 64)  # 128 because of skip connection (64+64)\n",
    "        )\n",
    "        \n",
    "        self.up1 = nn.Sequential(\n",
    "            nn.ConvTranspose1d(64, 32, kernel_size=2, stride=2),\n",
    "            DoubleConv(64, 32)   # 64 because of skip connection (32+32)\n",
    "        )\n",
    "        \n",
    "        self.final_conv = nn.Conv1d(32, in_channels, kernel_size=1)\n",
    "        \n",
    "    def forward(self, x, t):\n",
    "        # Time embedding\n",
    "        t_emb = self.time_embed(t)\n",
    "        \n",
    "        # CNN features\n",
    "        features, skip_connections = self.cnn_encoder(x)  # features is 128 channels\n",
    "        x1, x2 = skip_connections  # both are 64 channels\n",
    "        \n",
    "        # Add time information\n",
    "        features = features + t_emb.unsqueeze(-1)\n",
    "        \n",
    "        # Transformer encoding\n",
    "        features = self.transformer(features)\n",
    "        \n",
    "        # Decoder with skip connections\n",
    "        x = self.up2[0](features)\n",
    "        x = torch.cat([x, x2], dim=1)\n",
    "        x = self.up2[1](x)\n",
    "        \n",
    "        x = self.up1[0](x)\n",
    "        x = torch.cat([x, x1], dim=1)\n",
    "        x = self.up1[1](x)\n",
    "        \n",
    "        return self.final_conv(x)"
   ]
  },
  {
   "cell_type": "code",
   "execution_count": 43,
   "id": "f5d9911b",
   "metadata": {
    "ExecuteTime": {
     "end_time": "2025-02-14T01:44:02.364570Z",
     "start_time": "2025-02-14T01:44:02.356411Z"
    }
   },
   "outputs": [],
   "source": [
    "class DDPM:\n",
    "    def __init__(self, num_timesteps=200): \n",
    "        self.num_timesteps = num_timesteps\n",
    "        # Cosine schedule\n",
    "        betas = torch.linspace(-6, 6, num_timesteps)\n",
    "        betas = torch.sigmoid(betas) * (0.5e-2 - 1e-4) + 1e-4\n",
    "        self.betas = betas\n",
    "        self.alphas = 1. - self.betas\n",
    "        self.alphas_cumprod = torch.cumprod(self.alphas, dim=0)\n",
    "        \n",
    "    def q_sample(self, x_0, t):\n",
    "        \"\"\"\n",
    "        Forward diffusion process: q(x_t | x_0)\n",
    "        Samples from q(x_t | x_0) = N(x_t; √(αₜ)x₀, (1-αₜ)I)\n",
    "        \"\"\"\n",
    "        sqrt_alphas_cumprod = torch.sqrt(self.alphas_cumprod[t])[:, None, None]\n",
    "        sqrt_one_minus_alphas_cumprod = torch.sqrt(1. - self.alphas_cumprod[t])[:, None, None]\n",
    "        epsilon = torch.randn_like(x_0)\n",
    "        return sqrt_alphas_cumprod * x_0 + sqrt_one_minus_alphas_cumprod * epsilon, epsilon\n",
    "    \n",
    "    def sample_t(self, batch_size):\n",
    "        \"\"\"\n",
    "        Uniformly sample timesteps t\n",
    "        \"\"\"\n",
    "        return torch.randint(0, self.num_timesteps, (batch_size,))\n",
    "        \n",
    "    def p_sample(self, model, batch_size, device, shape):\n",
    "        \"\"\"\n",
    "        Reverse diffusion process: p_θ(x_{t-1} | x_t)\n",
    "        Generate samples using the reverse process\n",
    "        \"\"\"\n",
    "        model.eval()\n",
    "        with torch.no_grad():\n",
    "            x_t = torch.randn(batch_size, *shape).to(device)\n",
    "            \n",
    "            for t in reversed(range(1, self.num_timesteps)):\n",
    "                time_tensor = torch.ones(batch_size, dtype=torch.long).to(device) * t\n",
    "                \n",
    "                # Predict noise\n",
    "                predicted_noise = model(x_t, time_tensor)\n",
    "                \n",
    "                alpha = self.alphas[t][:, None, None]\n",
    "                alpha_cumprod = self.alphas_cumprod[t][:, None, None]\n",
    "                beta = self.betas[t][:, None, None]\n",
    "                \n",
    "                # Add noise for stochasticity\n",
    "                noise = torch.randn_like(x_t)\n",
    "                \n",
    "                # Compute mean for p_θ(x_{t-1} | x_t)\n",
    "                x_t = 1 / torch.sqrt(alpha) * (\n",
    "                    x_t - (1 - alpha) / torch.sqrt(1 - alpha_cumprod) * predicted_noise\n",
    "                ) + torch.sqrt(beta) * noise\n",
    "                \n",
    "        model.train()\n",
    "        return x_t"
   ]
  },
  {
   "cell_type": "code",
   "execution_count": 44,
   "id": "eb8d98da",
   "metadata": {
    "ExecuteTime": {
     "end_time": "2025-02-14T01:44:02.766822Z",
     "start_time": "2025-02-14T01:44:02.761569Z"
    }
   },
   "outputs": [],
   "source": [
    "def train_ddpm(model, train_loader, ddpm, optimizer, scheduler, num_epochs, device):\n",
    "    model.train()\n",
    "    \n",
    "    for epoch in range(num_epochs):\n",
    "        epoch_loss = 0\n",
    "        n_batches = len(train_loader)\n",
    "        \n",
    "        for batch in tqdm(train_loader, desc=f'Epoch {epoch+1}/{num_epochs}'):\n",
    "            x_0 = batch.to(device)\n",
    "            batch_size = x_0.shape[0]\n",
    "            \n",
    "            optimizer.zero_grad()\n",
    "            t = ddpm.sample_t(batch_size).to(device)\n",
    "            x_t, epsilon = ddpm.q_sample(x_0, t)\n",
    "            epsilon_theta = model(x_t, t)\n",
    "            loss = F.mse_loss(epsilon_theta, epsilon)\n",
    "            loss.backward()\n",
    "            optimizer.step()\n",
    "            \n",
    "            epoch_loss += loss.item()\n",
    "        \n",
    "        scheduler.step()\n",
    "        avg_loss = epoch_loss / n_batches\n",
    "        print(f'Epoch {epoch+1}/{num_epochs} - Avg Loss: {avg_loss:.4f}')"
   ]
  },
  {
   "cell_type": "code",
   "execution_count": 45,
   "id": "04f9ba7e",
   "metadata": {
    "ExecuteTime": {
     "end_time": "2025-02-14T01:44:03.303544Z",
     "start_time": "2025-02-14T01:44:03.135335Z"
    }
   },
   "outputs": [
    {
     "name": "stdout",
     "output_type": "stream",
     "text": [
      "Train data shape: (5713, 100, 9)\n",
      "Dataset sample shape: torch.Size([9, 100])\n",
      "Batch shape: torch.Size([32, 9, 100])\n"
     ]
    },
    {
     "name": "stderr",
     "output_type": "stream",
     "text": [
      "Epoch 1/100:   0%|                                      | 0/179 [00:00<?, ?it/s]\n"
     ]
    },
    {
     "ename": "RuntimeError",
     "evalue": "Sizes of tensors must match except in dimension 1. Expected size 100 but got size 50 for tensor number 1 in the list.",
     "output_type": "error",
     "traceback": [
      "\u001b[0;31m---------------------------------------------------------------------------\u001b[0m",
      "\u001b[0;31mRuntimeError\u001b[0m                              Traceback (most recent call last)",
      "Cell \u001b[0;32mIn[45], line 16\u001b[0m\n\u001b[1;32m     13\u001b[0m first_batch \u001b[38;5;241m=\u001b[39m \u001b[38;5;28mnext\u001b[39m(\u001b[38;5;28miter\u001b[39m(train_loader))\n\u001b[1;32m     14\u001b[0m \u001b[38;5;28mprint\u001b[39m(\u001b[38;5;124m\"\u001b[39m\u001b[38;5;124mBatch shape:\u001b[39m\u001b[38;5;124m\"\u001b[39m, first_batch\u001b[38;5;241m.\u001b[39mshape)\n\u001b[0;32m---> 16\u001b[0m \u001b[43mtrain_ddpm\u001b[49m\u001b[43m(\u001b[49m\n\u001b[1;32m     17\u001b[0m \u001b[43m    \u001b[49m\u001b[43mmodel\u001b[49m\u001b[38;5;241;43m=\u001b[39;49m\u001b[43mmodel\u001b[49m\u001b[43m,\u001b[49m\n\u001b[1;32m     18\u001b[0m \u001b[43m    \u001b[49m\u001b[43mtrain_loader\u001b[49m\u001b[38;5;241;43m=\u001b[39;49m\u001b[43mtrain_loader\u001b[49m\u001b[43m,\u001b[49m\n\u001b[1;32m     19\u001b[0m \u001b[43m    \u001b[49m\u001b[43mddpm\u001b[49m\u001b[38;5;241;43m=\u001b[39;49m\u001b[43mddpm\u001b[49m\u001b[43m,\u001b[49m\n\u001b[1;32m     20\u001b[0m \u001b[43m    \u001b[49m\u001b[43moptimizer\u001b[49m\u001b[38;5;241;43m=\u001b[39;49m\u001b[43moptimizer\u001b[49m\u001b[43m,\u001b[49m\n\u001b[1;32m     21\u001b[0m \u001b[43m    \u001b[49m\u001b[43mscheduler\u001b[49m\u001b[38;5;241;43m=\u001b[39;49m\u001b[43mscheduler\u001b[49m\u001b[43m,\u001b[49m\n\u001b[1;32m     22\u001b[0m \u001b[43m    \u001b[49m\u001b[43mnum_epochs\u001b[49m\u001b[38;5;241;43m=\u001b[39;49m\u001b[43mEPOCHS\u001b[49m\u001b[43m,\u001b[49m\n\u001b[1;32m     23\u001b[0m \u001b[43m    \u001b[49m\u001b[43mdevice\u001b[49m\u001b[38;5;241;43m=\u001b[39;49m\u001b[43mdevice\u001b[49m\n\u001b[1;32m     24\u001b[0m \u001b[43m)\u001b[49m\n",
      "Cell \u001b[0;32mIn[44], line 15\u001b[0m, in \u001b[0;36mtrain_ddpm\u001b[0;34m(model, train_loader, ddpm, optimizer, scheduler, num_epochs, device)\u001b[0m\n\u001b[1;32m     13\u001b[0m t \u001b[38;5;241m=\u001b[39m ddpm\u001b[38;5;241m.\u001b[39msample_t(batch_size)\u001b[38;5;241m.\u001b[39mto(device)\n\u001b[1;32m     14\u001b[0m x_t, epsilon \u001b[38;5;241m=\u001b[39m ddpm\u001b[38;5;241m.\u001b[39mq_sample(x_0, t)\n\u001b[0;32m---> 15\u001b[0m epsilon_theta \u001b[38;5;241m=\u001b[39m \u001b[43mmodel\u001b[49m\u001b[43m(\u001b[49m\u001b[43mx_t\u001b[49m\u001b[43m,\u001b[49m\u001b[43m \u001b[49m\u001b[43mt\u001b[49m\u001b[43m)\u001b[49m\n\u001b[1;32m     16\u001b[0m loss \u001b[38;5;241m=\u001b[39m F\u001b[38;5;241m.\u001b[39mmse_loss(epsilon_theta, epsilon)\n\u001b[1;32m     17\u001b[0m loss\u001b[38;5;241m.\u001b[39mbackward()\n",
      "File \u001b[0;32m/Library/Frameworks/Python.framework/Versions/3.11/lib/python3.11/site-packages/torch/nn/modules/module.py:1511\u001b[0m, in \u001b[0;36mModule._wrapped_call_impl\u001b[0;34m(self, *args, **kwargs)\u001b[0m\n\u001b[1;32m   1509\u001b[0m     \u001b[38;5;28;01mreturn\u001b[39;00m \u001b[38;5;28mself\u001b[39m\u001b[38;5;241m.\u001b[39m_compiled_call_impl(\u001b[38;5;241m*\u001b[39margs, \u001b[38;5;241m*\u001b[39m\u001b[38;5;241m*\u001b[39mkwargs)  \u001b[38;5;66;03m# type: ignore[misc]\u001b[39;00m\n\u001b[1;32m   1510\u001b[0m \u001b[38;5;28;01melse\u001b[39;00m:\n\u001b[0;32m-> 1511\u001b[0m     \u001b[38;5;28;01mreturn\u001b[39;00m \u001b[38;5;28;43mself\u001b[39;49m\u001b[38;5;241;43m.\u001b[39;49m\u001b[43m_call_impl\u001b[49m\u001b[43m(\u001b[49m\u001b[38;5;241;43m*\u001b[39;49m\u001b[43margs\u001b[49m\u001b[43m,\u001b[49m\u001b[43m \u001b[49m\u001b[38;5;241;43m*\u001b[39;49m\u001b[38;5;241;43m*\u001b[39;49m\u001b[43mkwargs\u001b[49m\u001b[43m)\u001b[49m\n",
      "File \u001b[0;32m/Library/Frameworks/Python.framework/Versions/3.11/lib/python3.11/site-packages/torch/nn/modules/module.py:1520\u001b[0m, in \u001b[0;36mModule._call_impl\u001b[0;34m(self, *args, **kwargs)\u001b[0m\n\u001b[1;32m   1515\u001b[0m \u001b[38;5;66;03m# If we don't have any hooks, we want to skip the rest of the logic in\u001b[39;00m\n\u001b[1;32m   1516\u001b[0m \u001b[38;5;66;03m# this function, and just call forward.\u001b[39;00m\n\u001b[1;32m   1517\u001b[0m \u001b[38;5;28;01mif\u001b[39;00m \u001b[38;5;129;01mnot\u001b[39;00m (\u001b[38;5;28mself\u001b[39m\u001b[38;5;241m.\u001b[39m_backward_hooks \u001b[38;5;129;01mor\u001b[39;00m \u001b[38;5;28mself\u001b[39m\u001b[38;5;241m.\u001b[39m_backward_pre_hooks \u001b[38;5;129;01mor\u001b[39;00m \u001b[38;5;28mself\u001b[39m\u001b[38;5;241m.\u001b[39m_forward_hooks \u001b[38;5;129;01mor\u001b[39;00m \u001b[38;5;28mself\u001b[39m\u001b[38;5;241m.\u001b[39m_forward_pre_hooks\n\u001b[1;32m   1518\u001b[0m         \u001b[38;5;129;01mor\u001b[39;00m _global_backward_pre_hooks \u001b[38;5;129;01mor\u001b[39;00m _global_backward_hooks\n\u001b[1;32m   1519\u001b[0m         \u001b[38;5;129;01mor\u001b[39;00m _global_forward_hooks \u001b[38;5;129;01mor\u001b[39;00m _global_forward_pre_hooks):\n\u001b[0;32m-> 1520\u001b[0m     \u001b[38;5;28;01mreturn\u001b[39;00m \u001b[43mforward_call\u001b[49m\u001b[43m(\u001b[49m\u001b[38;5;241;43m*\u001b[39;49m\u001b[43margs\u001b[49m\u001b[43m,\u001b[49m\u001b[43m \u001b[49m\u001b[38;5;241;43m*\u001b[39;49m\u001b[38;5;241;43m*\u001b[39;49m\u001b[43mkwargs\u001b[49m\u001b[43m)\u001b[49m\n\u001b[1;32m   1522\u001b[0m \u001b[38;5;28;01mtry\u001b[39;00m:\n\u001b[1;32m   1523\u001b[0m     result \u001b[38;5;241m=\u001b[39m \u001b[38;5;28;01mNone\u001b[39;00m\n",
      "Cell \u001b[0;32mIn[42], line 47\u001b[0m, in \u001b[0;36mTransUNet1D.forward\u001b[0;34m(self, x, t)\u001b[0m\n\u001b[1;32m     44\u001b[0m x \u001b[38;5;241m=\u001b[39m \u001b[38;5;28mself\u001b[39m\u001b[38;5;241m.\u001b[39mup2[\u001b[38;5;241m1\u001b[39m](x)\n\u001b[1;32m     46\u001b[0m x \u001b[38;5;241m=\u001b[39m \u001b[38;5;28mself\u001b[39m\u001b[38;5;241m.\u001b[39mup1[\u001b[38;5;241m0\u001b[39m](x)\n\u001b[0;32m---> 47\u001b[0m x \u001b[38;5;241m=\u001b[39m \u001b[43mtorch\u001b[49m\u001b[38;5;241;43m.\u001b[39;49m\u001b[43mcat\u001b[49m\u001b[43m(\u001b[49m\u001b[43m[\u001b[49m\u001b[43mx\u001b[49m\u001b[43m,\u001b[49m\u001b[43m \u001b[49m\u001b[43mx1\u001b[49m\u001b[43m]\u001b[49m\u001b[43m,\u001b[49m\u001b[43m \u001b[49m\u001b[43mdim\u001b[49m\u001b[38;5;241;43m=\u001b[39;49m\u001b[38;5;241;43m1\u001b[39;49m\u001b[43m)\u001b[49m\n\u001b[1;32m     48\u001b[0m x \u001b[38;5;241m=\u001b[39m \u001b[38;5;28mself\u001b[39m\u001b[38;5;241m.\u001b[39mup1[\u001b[38;5;241m1\u001b[39m](x)\n\u001b[1;32m     50\u001b[0m \u001b[38;5;28;01mreturn\u001b[39;00m \u001b[38;5;28mself\u001b[39m\u001b[38;5;241m.\u001b[39mfinal_conv(x)\n",
      "\u001b[0;31mRuntimeError\u001b[0m: Sizes of tensors must match except in dimension 1. Expected size 100 but got size 50 for tensor number 1 in the list."
     ]
    }
   ],
   "source": [
    "model = TransUNet1D().to(device)\n",
    "ddpm = DDPM(num_timesteps=100)  \n",
    "optimizer = optim.AdamW(model.parameters(), lr=1e-4, weight_decay=0.01)\n",
    "scheduler = optim.lr_scheduler.CosineAnnealingLR(optimizer, T_max=EPOCHS)\n",
    "\n",
    "print(\"Train data shape:\", train_data.shape)\n",
    "\n",
    "train_dataset = SisFallDataset(train_data)\n",
    "sample_data = train_dataset[0]\n",
    "print(\"Dataset sample shape:\", sample_data.shape)\n",
    "\n",
    "train_loader = DataLoader(train_dataset, batch_size=BATCH_SIZE)\n",
    "first_batch = next(iter(train_loader))\n",
    "print(\"Batch shape:\", first_batch.shape)\n",
    "\n",
    "train_ddpm(\n",
    "    model=model,\n",
    "    train_loader=train_loader,\n",
    "    ddpm=ddpm,\n",
    "    optimizer=optimizer,\n",
    "    scheduler=scheduler,\n",
    "    num_epochs=EPOCHS,\n",
    "    device=device\n",
    ")"
   ]
  },
  {
   "cell_type": "markdown",
   "id": "dae3e951",
   "metadata": {},
   "source": [
    "------"
   ]
  },
  {
   "cell_type": "code",
   "execution_count": null,
   "id": "623e5f6a",
   "metadata": {
    "ExecuteTime": {
     "end_time": "2025-02-14T01:41:41.011449Z",
     "start_time": "2025-02-14T01:41:41.011434Z"
    }
   },
   "outputs": [],
   "source": [
    "class SisFallDataset(Dataset):\n",
    "    def __init__(self, data):\n",
    "        # Transpose data from [batch, window_length, features] to [batch, features, window_length]\n",
    "        data = data.transpose(0, 2, 1)\n",
    "        self.data = torch.FloatTensor(data)\n",
    "    \n",
    "    def __len__(self):\n",
    "        return len(self.data)\n",
    "    \n",
    "    def __getitem__(self, idx):\n",
    "        return self.data[idx]  # Returns shape [features, window_length]"
   ]
  },
  {
   "cell_type": "code",
   "execution_count": null,
   "id": "77daf676",
   "metadata": {
    "ExecuteTime": {
     "end_time": "2025-02-14T01:41:41.012759Z",
     "start_time": "2025-02-14T01:41:41.012744Z"
    }
   },
   "outputs": [],
   "source": [
    "def detect_anomalies(model, ddpm, data_loader, device, threshold=None):\n",
    "    model.eval()\n",
    "    anomaly_scores = []\n",
    "\n",
    "    with torch.no_grad():\n",
    "        for batch in data_loader:\n",
    "            x_0 = batch.to(device)\n",
    "            batch_size = x_0.shape[0]\n",
    "\n",
    "            t = ddpm.sample_t(batch_size).to(device)\n",
    "\n",
    "            x_t, epsilon = ddpm.q_sample(x_0, t)\n",
    "\n",
    "            epsilon_theta = model(x_t, t)\n",
    "\n",
    "            # MSE Loss (Anomaly Score)\n",
    "            loss = F.mse_loss(epsilon_theta, epsilon, reduction='none')\n",
    "            loss = loss.mean(dim=(1, 2)) \n",
    "            anomaly_scores.extend(loss.cpu().numpy())  \n",
    "\n",
    "    if threshold is None:\n",
    "        threshold = np.percentile(anomaly_scores, 95)\n",
    "\n",
    "    anomalies = [score > threshold for score in anomaly_scores]\n",
    "\n",
    "    return anomalies, anomaly_scores, threshold\n"
   ]
  },
  {
   "cell_type": "code",
   "execution_count": null,
   "id": "c787257c",
   "metadata": {
    "ExecuteTime": {
     "end_time": "2025-02-14T01:41:41.013889Z",
     "start_time": "2025-02-14T01:41:41.013875Z"
    }
   },
   "outputs": [],
   "source": [
    "normal_dataset = SisFallDataset(normal_test_data)\n",
    "normal_loader = DataLoader(normal_dataset, batch_size=BATCH_SIZE)\n",
    "\n",
    "abnormal_dataset = SisFallDataset(abnormal_test_data)\n",
    "abnormal_loader = DataLoader(abnormal_dataset, batch_size=BATCH_SIZE)"
   ]
  },
  {
   "cell_type": "code",
   "execution_count": null,
   "id": "c51e515a",
   "metadata": {
    "ExecuteTime": {
     "end_time": "2025-02-14T01:41:41.015175Z",
     "start_time": "2025-02-14T01:41:41.015160Z"
    }
   },
   "outputs": [],
   "source": [
    "train_dataset = SisFallDataset(train_data)\n",
    "train_loader = DataLoader(train_dataset, batch_size=BATCH_SIZE)\n",
    "\n",
    "train_anomalies, train_scores, _ = detect_anomalies(model, ddpm, train_loader, device)\n",
    "\n",
    "plt.figure(figsize=(16,9))\n",
    "plt.title('Loss Distribution of TRAIN ADL Data (NORMAL)', fontsize=16)\n",
    "sns.histplot(train_scores, bins=20, kde=True, color='green')\n",
    "plt.show()"
   ]
  },
  {
   "cell_type": "code",
   "execution_count": null,
   "id": "e67e8e72",
   "metadata": {
    "ExecuteTime": {
     "end_time": "2025-02-14T01:41:41.016484Z",
     "start_time": "2025-02-14T01:41:41.016470Z"
    }
   },
   "outputs": [],
   "source": [
    "normal_anomalies, normal_scores, _ = detect_anomalies(model, ddpm, normal_loader, device)\n",
    "\n",
    "plt.figure(figsize=(16,9))\n",
    "plt.title('Loss Distribution of TEST ADL Data (NORMAL)', fontsize=16)\n",
    "sns.histplot(normal_scores, bins=20, kde=True, color='blue')\n",
    "plt.show()"
   ]
  },
  {
   "cell_type": "code",
   "execution_count": null,
   "id": "58d48af9",
   "metadata": {
    "ExecuteTime": {
     "end_time": "2025-02-14T01:41:41.018074Z",
     "start_time": "2025-02-14T01:41:41.018057Z"
    }
   },
   "outputs": [],
   "source": [
    "abnormal_anomalies, abnormal_scores, _ = detect_anomalies(model, ddpm, abnormal_loader, device)\n",
    "\n",
    "plt.figure(figsize=(16,9))\n",
    "plt.title('Loss Distribution of TEST FALL Data (ABNORMAL)', fontsize=16)\n",
    "sns.histplot(abnormal_scores, bins=20, kde=True, color='red')\n",
    "plt.show()"
   ]
  },
  {
   "cell_type": "code",
   "execution_count": null,
   "id": "bffce4cb",
   "metadata": {
    "ExecuteTime": {
     "end_time": "2025-02-14T01:41:41.020154Z",
     "start_time": "2025-02-14T01:41:41.020129Z"
    }
   },
   "outputs": [],
   "source": [
    "plt.figure(figsize=(10,6))\n",
    "plt.title('MSE Distribution Comparison')\n",
    "plt.hist(normal_scores, bins=50, alpha=0.5, color='blue', label='Normal')\n",
    "plt.hist(abnormal_scores, bins=50, alpha=0.5, color='red', label='Abnormal')\n",
    "plt.xlabel('Anomaly Score (MSE)')\n",
    "plt.ylabel('Count')\n",
    "plt.legend()\n",
    "plt.show()"
   ]
  },
  {
   "cell_type": "code",
   "execution_count": null,
   "id": "ff998381",
   "metadata": {
    "ExecuteTime": {
     "end_time": "2025-02-14T01:41:41.023798Z",
     "start_time": "2025-02-14T01:41:41.023775Z"
    }
   },
   "outputs": [],
   "source": [
    "error_df = pd.DataFrame({\n",
    "    'reconstruction_error': np.concatenate([normal_scores, abnormal_scores]),\n",
    "    'true_class': np.concatenate([np.zeros(len(normal_scores)), np.ones(len(abnormal_scores))])\n",
    "})\n",
    "\n",
    "print (\"error dataframe head : \")\n",
    "print(error_df.head(10))\n",
    "print ()\n",
    "print (\"error dataframe tail : \")\n",
    "print(error_df.tail(10))\n",
    "print ()\n",
    "print(error_df.describe())\n",
    "print ()\n",
    "error_df['true_class'].value_counts()"
   ]
  },
  {
   "cell_type": "code",
   "execution_count": null,
   "id": "f72a8cb4",
   "metadata": {
    "ExecuteTime": {
     "end_time": "2025-02-14T01:41:41.026151Z",
     "start_time": "2025-02-14T01:41:41.026130Z"
    }
   },
   "outputs": [],
   "source": [
    "plt.figure(figsize=(10, 6))\n",
    "sns.boxplot(x='true_class', y='reconstruction_error', data=error_df, showfliers=False)\n",
    "plt.ylabel('Reconstruction Error Distribution')\n",
    "plt.xlabel('Class (0: Normal, 1: Abnormal)')\n",
    "plt.show()"
   ]
  },
  {
   "cell_type": "code",
   "execution_count": null,
   "id": "769fa4b7",
   "metadata": {
    "ExecuteTime": {
     "end_time": "2025-02-14T01:41:41.028643Z",
     "start_time": "2025-02-14T01:41:41.028624Z"
    }
   },
   "outputs": [],
   "source": [
    "threshold = np.percentile(normal_scores, 95)"
   ]
  },
  {
   "cell_type": "code",
   "execution_count": null,
   "id": "f9aec544",
   "metadata": {
    "ExecuteTime": {
     "end_time": "2025-02-14T01:41:41.030430Z",
     "start_time": "2025-02-14T01:41:41.030409Z"
    }
   },
   "outputs": [],
   "source": [
    "groups = error_df.groupby('true_class')\n",
    "fig, ax = plt.subplots()\n",
    "\n",
    "for name, group in groups:\n",
    "    ax.plot(group.index, group.reconstruction_error, marker='^', ms=3.5, linestyle='',\n",
    "            label=\"Normal\" if name == 0 else \"Fall\")\n",
    "ax.hlines(threshold, ax.get_xlim()[0], ax.get_xlim()[1], colors=\"r\", zorder=100, label='Threshold')\n",
    "ax.legend()\n",
    "plt.title(\"Reconstruction Error by Class\")\n",
    "plt.ylabel(\"Reconstruction Error\")\n",
    "plt.xlabel(\"Data Point Index\")\n",
    "plt.show()"
   ]
  },
  {
   "cell_type": "code",
   "execution_count": null,
   "id": "9dbec3e4",
   "metadata": {
    "ExecuteTime": {
     "end_time": "2025-02-14T01:41:41.032210Z",
     "start_time": "2025-02-14T01:41:41.032190Z"
    }
   },
   "outputs": [],
   "source": [
    "LABELS = [\"Normal\", \"Abnormal\"]\n",
    "y_pred = [1 if e > threshold else 0 for e in error_df.reconstruction_error.values]\n",
    "conf_matrix = confusion_matrix(error_df.true_class, y_pred)\n",
    "\n",
    "plt.figure(figsize=(7, 7))\n",
    "sns.heatmap(conf_matrix, xticklabels=LABELS, yticklabels=LABELS, annot=True, fmt=\"d\")\n",
    "plt.title(\"Confusion Matrix\")\n",
    "plt.ylabel('True Class')\n",
    "plt.xlabel('Predicted Class')\n",
    "plt.show()"
   ]
  },
  {
   "cell_type": "code",
   "execution_count": null,
   "id": "1113843e",
   "metadata": {
    "ExecuteTime": {
     "end_time": "2025-02-14T01:41:41.034848Z",
     "start_time": "2025-02-14T01:41:41.034786Z"
    }
   },
   "outputs": [],
   "source": [
    "from sklearn.metrics import precision_recall_fscore_support\n",
    "\n",
    "precision, recall, f1, _ = precision_recall_fscore_support(error_df.true_class, y_pred, average='binary')\n",
    "accuracy = accuracy_score(error_df.true_class, y_pred)\n",
    "\n",
    "print('\\nPerformance Metrics:')\n",
    "print(f'Accuracy Score : {accuracy:.4f}')\n",
    "print(f'Precision     : {precision:.4f}')\n",
    "print(f'Recall        : {recall:.4f}')\n",
    "print(f'F1 Score      : {f1:.4f}')"
   ]
  },
  {
   "cell_type": "code",
   "execution_count": null,
   "id": "55ac9a35",
   "metadata": {},
   "outputs": [],
   "source": []
  }
 ],
 "metadata": {
  "kernelspec": {
   "display_name": "Python 3 (ipykernel)",
   "language": "python",
   "name": "python3"
  },
  "language_info": {
   "codemirror_mode": {
    "name": "ipython",
    "version": 3
   },
   "file_extension": ".py",
   "mimetype": "text/x-python",
   "name": "python",
   "nbconvert_exporter": "python",
   "pygments_lexer": "ipython3",
   "version": "3.11.3"
  },
  "varInspector": {
   "cols": {
    "lenName": 16,
    "lenType": 16,
    "lenVar": 40
   },
   "kernels_config": {
    "python": {
     "delete_cmd_postfix": "",
     "delete_cmd_prefix": "del ",
     "library": "var_list.py",
     "varRefreshCmd": "print(var_dic_list())"
    },
    "r": {
     "delete_cmd_postfix": ") ",
     "delete_cmd_prefix": "rm(",
     "library": "var_list.r",
     "varRefreshCmd": "cat(var_dic_list()) "
    }
   },
   "types_to_exclude": [
    "module",
    "function",
    "builtin_function_or_method",
    "instance",
    "_Feature"
   ],
   "window_display": false
  }
 },
 "nbformat": 4,
 "nbformat_minor": 5
}
