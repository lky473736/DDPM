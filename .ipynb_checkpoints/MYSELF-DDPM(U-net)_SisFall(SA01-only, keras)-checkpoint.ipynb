{
 "cells": [
  {
   "cell_type": "code",
   "execution_count": 47,
   "id": "d79a0b52",
   "metadata": {
    "ExecuteTime": {
     "end_time": "2025-02-09T15:57:16.046233Z",
     "start_time": "2025-02-09T15:57:16.042596Z"
    }
   },
   "outputs": [],
   "source": [
    "import tensorflow as tf\n",
    "import numpy as np\n",
    "from tensorflow.keras import layers, Model\n",
    "import matplotlib.pyplot as plt \n",
    "import seaborn as sns\n",
    "import os\n",
    "import glob\n",
    "import pandas as pd\n",
    "from tqdm import tqdm\n",
    "from sklearn.metrics import confusion_matrix, classification_report\n",
    "from sklearn.preprocessing import StandardScaler"
   ]
  },
  {
   "cell_type": "code",
   "execution_count": 48,
   "id": "338f82ef",
   "metadata": {
    "ExecuteTime": {
     "end_time": "2025-02-09T15:57:16.053107Z",
     "start_time": "2025-02-09T15:57:16.048633Z"
    }
   },
   "outputs": [
    {
     "data": {
      "text/plain": [
       "'\\n        Each file contains nine columns and a different number of rows depending on the test length.\\n        \\n        1st column is the acceleration data in the X axis measured by the sensor ADXL345.\\n        2nd column is the acceleration data in the Y axis measured by the sensor ADXL345.\\n        3rd column is the acceleration data in the Z axis measured by the sensor ADXL345.\\n\\n        4th column is the rotation data in the X axis measured by the sensor ITG3200.\\n        5th column is the rotation data in the Y axis measured by the sensor ITG3200.\\n        6th column is the rotation data in the Z axis measured by the sensor ITG3200.\\n\\n        7th column is the acceleration data in the X axis measured by the sensor MMA8451Q.\\n        8th column is the acceleration data in the Y axis measured by the sensor MMA8451Q.\\n        9th column is the acceleration data in the Z axis measured by the sensor MMA8451Q.\\n        \\n        Data are in bits with the following characteristics:\\n\\n        ADXL345:\\n        Resolution: 13 bits\\n        Range: +-16g\\n\\n        ITG3200\\n        Resolution: 16 bits\\n        Range: +-2000°/s\\n\\n        MMA8451Q:\\n        Resolution: 14 bits\\n        Range: +-8g\\n'"
      ]
     },
     "execution_count": 48,
     "metadata": {},
     "output_type": "execute_result"
    }
   ],
   "source": [
    "'''\n",
    "        Each file contains nine columns and a different number of rows depending on the test length.\n",
    "        \n",
    "        1st column is the acceleration data in the X axis measured by the sensor ADXL345.\n",
    "        2nd column is the acceleration data in the Y axis measured by the sensor ADXL345.\n",
    "        3rd column is the acceleration data in the Z axis measured by the sensor ADXL345.\n",
    "\n",
    "        4th column is the rotation data in the X axis measured by the sensor ITG3200.\n",
    "        5th column is the rotation data in the Y axis measured by the sensor ITG3200.\n",
    "        6th column is the rotation data in the Z axis measured by the sensor ITG3200.\n",
    "\n",
    "        7th column is the acceleration data in the X axis measured by the sensor MMA8451Q.\n",
    "        8th column is the acceleration data in the Y axis measured by the sensor MMA8451Q.\n",
    "        9th column is the acceleration data in the Z axis measured by the sensor MMA8451Q.\n",
    "        \n",
    "        Data are in bits with the following characteristics:\n",
    "\n",
    "        ADXL345:\n",
    "        Resolution: 13 bits\n",
    "        Range: +-16g\n",
    "\n",
    "        ITG3200\n",
    "        Resolution: 16 bits\n",
    "        Range: +-2000°/s\n",
    "\n",
    "        MMA8451Q:\n",
    "        Resolution: 14 bits\n",
    "        Range: +-8g\n",
    "'''"
   ]
  },
  {
   "cell_type": "code",
   "execution_count": 49,
   "id": "83ab74cc",
   "metadata": {
    "ExecuteTime": {
     "end_time": "2025-02-09T15:57:31.235321Z",
     "start_time": "2025-02-09T15:57:16.055471Z"
    }
   },
   "outputs": [
    {
     "data": {
      "text/html": [
       "<div>\n",
       "<style scoped>\n",
       "    .dataframe tbody tr th:only-of-type {\n",
       "        vertical-align: middle;\n",
       "    }\n",
       "\n",
       "    .dataframe tbody tr th {\n",
       "        vertical-align: top;\n",
       "    }\n",
       "\n",
       "    .dataframe thead th {\n",
       "        text-align: right;\n",
       "    }\n",
       "</style>\n",
       "<table border=\"1\" class=\"dataframe\">\n",
       "  <thead>\n",
       "    <tr style=\"text-align: right;\">\n",
       "      <th></th>\n",
       "      <th>ADXL_x</th>\n",
       "      <th>ADXL_y</th>\n",
       "      <th>ADXL_z</th>\n",
       "      <th>ITG_x</th>\n",
       "      <th>ITG_y</th>\n",
       "      <th>ITG_z</th>\n",
       "      <th>MMA_x</th>\n",
       "      <th>MMA_y</th>\n",
       "      <th>MMA_z</th>\n",
       "      <th>subject</th>\n",
       "      <th>activity</th>\n",
       "      <th>trial</th>\n",
       "    </tr>\n",
       "  </thead>\n",
       "  <tbody>\n",
       "    <tr>\n",
       "      <th>NaN</th>\n",
       "      <td>0.0</td>\n",
       "      <td>1.0</td>\n",
       "      <td>2.0</td>\n",
       "      <td>3.0</td>\n",
       "      <td>4.0</td>\n",
       "      <td>5.0</td>\n",
       "      <td>6.0</td>\n",
       "      <td>7.0</td>\n",
       "      <td>8.0</td>\n",
       "      <td>SA01</td>\n",
       "      <td>D01</td>\n",
       "      <td>R01</td>\n",
       "    </tr>\n",
       "    <tr>\n",
       "      <th>0.0</th>\n",
       "      <td>17.0</td>\n",
       "      <td>-179.0</td>\n",
       "      <td>-99.0</td>\n",
       "      <td>-18.0</td>\n",
       "      <td>-504.0</td>\n",
       "      <td>-352.0</td>\n",
       "      <td>76.0</td>\n",
       "      <td>-697.0</td>\n",
       "      <td>-279.0</td>\n",
       "      <td>SA01</td>\n",
       "      <td>D01</td>\n",
       "      <td>R01</td>\n",
       "    </tr>\n",
       "    <tr>\n",
       "      <th>1.0</th>\n",
       "      <td>15.0</td>\n",
       "      <td>-174.0</td>\n",
       "      <td>-90.0</td>\n",
       "      <td>-53.0</td>\n",
       "      <td>-568.0</td>\n",
       "      <td>-306.0</td>\n",
       "      <td>48.0</td>\n",
       "      <td>-675.0</td>\n",
       "      <td>-254.0</td>\n",
       "      <td>SA01</td>\n",
       "      <td>D01</td>\n",
       "      <td>R01</td>\n",
       "    </tr>\n",
       "    <tr>\n",
       "      <th>2.0</th>\n",
       "      <td>1.0</td>\n",
       "      <td>-176.0</td>\n",
       "      <td>-81.0</td>\n",
       "      <td>-84.0</td>\n",
       "      <td>-613.0</td>\n",
       "      <td>-271.0</td>\n",
       "      <td>-2.0</td>\n",
       "      <td>-668.0</td>\n",
       "      <td>-221.0</td>\n",
       "      <td>SA01</td>\n",
       "      <td>D01</td>\n",
       "      <td>R01</td>\n",
       "    </tr>\n",
       "    <tr>\n",
       "      <th>3.0</th>\n",
       "      <td>-10.0</td>\n",
       "      <td>-180.0</td>\n",
       "      <td>-77.0</td>\n",
       "      <td>-104.0</td>\n",
       "      <td>-647.0</td>\n",
       "      <td>-227.0</td>\n",
       "      <td>-34.0</td>\n",
       "      <td>-697.0</td>\n",
       "      <td>-175.0</td>\n",
       "      <td>SA01</td>\n",
       "      <td>D01</td>\n",
       "      <td>R01</td>\n",
       "    </tr>\n",
       "    <tr>\n",
       "      <th>4.0</th>\n",
       "      <td>-21.0</td>\n",
       "      <td>-191.0</td>\n",
       "      <td>-63.0</td>\n",
       "      <td>-128.0</td>\n",
       "      <td>-675.0</td>\n",
       "      <td>-191.0</td>\n",
       "      <td>-74.0</td>\n",
       "      <td>-741.0</td>\n",
       "      <td>-133.0</td>\n",
       "      <td>SA01</td>\n",
       "      <td>D01</td>\n",
       "      <td>R01</td>\n",
       "    </tr>\n",
       "    <tr>\n",
       "      <th>5.0</th>\n",
       "      <td>-37.0</td>\n",
       "      <td>-225.0</td>\n",
       "      <td>-59.0</td>\n",
       "      <td>-146.0</td>\n",
       "      <td>-700.0</td>\n",
       "      <td>-159.0</td>\n",
       "      <td>-110.0</td>\n",
       "      <td>-840.0</td>\n",
       "      <td>-103.0</td>\n",
       "      <td>SA01</td>\n",
       "      <td>D01</td>\n",
       "      <td>R01</td>\n",
       "    </tr>\n",
       "    <tr>\n",
       "      <th>6.0</th>\n",
       "      <td>-36.0</td>\n",
       "      <td>-243.0</td>\n",
       "      <td>-46.0</td>\n",
       "      <td>-166.0</td>\n",
       "      <td>-722.0</td>\n",
       "      <td>-131.0</td>\n",
       "      <td>-147.0</td>\n",
       "      <td>-948.0</td>\n",
       "      <td>-75.0</td>\n",
       "      <td>SA01</td>\n",
       "      <td>D01</td>\n",
       "      <td>R01</td>\n",
       "    </tr>\n",
       "    <tr>\n",
       "      <th>7.0</th>\n",
       "      <td>-44.0</td>\n",
       "      <td>-271.0</td>\n",
       "      <td>-38.0</td>\n",
       "      <td>-190.0</td>\n",
       "      <td>-738.0</td>\n",
       "      <td>-107.0</td>\n",
       "      <td>-171.0</td>\n",
       "      <td>-1073.0</td>\n",
       "      <td>-38.0</td>\n",
       "      <td>SA01</td>\n",
       "      <td>D01</td>\n",
       "      <td>R01</td>\n",
       "    </tr>\n",
       "    <tr>\n",
       "      <th>8.0</th>\n",
       "      <td>-51.0</td>\n",
       "      <td>-312.0</td>\n",
       "      <td>-33.0</td>\n",
       "      <td>-210.0</td>\n",
       "      <td>-752.0</td>\n",
       "      <td>-90.0</td>\n",
       "      <td>-200.0</td>\n",
       "      <td>-1191.0</td>\n",
       "      <td>3.0</td>\n",
       "      <td>SA01</td>\n",
       "      <td>D01</td>\n",
       "      <td>R01</td>\n",
       "    </tr>\n",
       "  </tbody>\n",
       "</table>\n",
       "</div>"
      ],
      "text/plain": [
       "     ADXL_x  ADXL_y  ADXL_z  ITG_x  ITG_y  ITG_z  MMA_x   MMA_y  MMA_z  \\\n",
       "NaN     0.0     1.0     2.0    3.0    4.0    5.0    6.0     7.0    8.0   \n",
       "0.0    17.0  -179.0   -99.0  -18.0 -504.0 -352.0   76.0  -697.0 -279.0   \n",
       "1.0    15.0  -174.0   -90.0  -53.0 -568.0 -306.0   48.0  -675.0 -254.0   \n",
       "2.0     1.0  -176.0   -81.0  -84.0 -613.0 -271.0   -2.0  -668.0 -221.0   \n",
       "3.0   -10.0  -180.0   -77.0 -104.0 -647.0 -227.0  -34.0  -697.0 -175.0   \n",
       "4.0   -21.0  -191.0   -63.0 -128.0 -675.0 -191.0  -74.0  -741.0 -133.0   \n",
       "5.0   -37.0  -225.0   -59.0 -146.0 -700.0 -159.0 -110.0  -840.0 -103.0   \n",
       "6.0   -36.0  -243.0   -46.0 -166.0 -722.0 -131.0 -147.0  -948.0  -75.0   \n",
       "7.0   -44.0  -271.0   -38.0 -190.0 -738.0 -107.0 -171.0 -1073.0  -38.0   \n",
       "8.0   -51.0  -312.0   -33.0 -210.0 -752.0  -90.0 -200.0 -1191.0    3.0   \n",
       "\n",
       "    subject activity trial  \n",
       "NaN    SA01      D01   R01  \n",
       "0.0    SA01      D01   R01  \n",
       "1.0    SA01      D01   R01  \n",
       "2.0    SA01      D01   R01  \n",
       "3.0    SA01      D01   R01  \n",
       "4.0    SA01      D01   R01  \n",
       "5.0    SA01      D01   R01  \n",
       "6.0    SA01      D01   R01  \n",
       "7.0    SA01      D01   R01  \n",
       "8.0    SA01      D01   R01  "
      ]
     },
     "execution_count": 49,
     "metadata": {},
     "output_type": "execute_result"
    }
   ],
   "source": [
    "datapath = \"./data/SisFall.csv\"\n",
    "\n",
    "df = pd.read_csv(datapath, index_col=0)\n",
    "df.head(10)"
   ]
  },
  {
   "cell_type": "code",
   "execution_count": 50,
   "id": "7bfc2095",
   "metadata": {
    "ExecuteTime": {
     "end_time": "2025-02-09T15:57:33.337541Z",
     "start_time": "2025-02-09T15:57:31.236992Z"
    }
   },
   "outputs": [
    {
     "name": "stdout",
     "output_type": "stream",
     "text": [
      "Index(['ADXL_x', 'ADXL_y', 'ADXL_z', 'ITG_x', 'ITG_y', 'ITG_z', 'MMA_x',\n",
      "       'MMA_y', 'MMA_z', 'subject', 'activity', 'trial'],\n",
      "      dtype='object')\n",
      "{'SE04', 'SA08', 'SA07', 'SA13', 'SE10', 'SA10', 'SA17', 'SA19', 'SE01', 'SA06', 'SA05', 'SA04', 'SA14', 'SE15', 'SA09', 'SA11', 'SA20', 'SE14', 'SE13', 'SE05', 'SA22', 'SA21', 'SA03', 'SE02', 'SA16', 'SE08', 'SE06', 'SA23', 'SA01', 'SA12', 'SE09', 'SE11', 'SA02', 'SA15', 'SA18', 'SE03', 'SE07', 'SE12'}\n"
     ]
    }
   ],
   "source": [
    "print (df.columns)\n",
    "print (set(df['subject']))\n",
    "features = df.copy()\n",
    "\n",
    "dnum = 200\n",
    "fnum = 365"
   ]
  },
  {
   "cell_type": "code",
   "execution_count": 51,
   "id": "0091ffbc",
   "metadata": {
    "ExecuteTime": {
     "end_time": "2025-02-09T15:57:48.019841Z",
     "start_time": "2025-02-09T15:57:33.340384Z"
    }
   },
   "outputs": [],
   "source": [
    "D01 = features[features['activity']=='D01'].head(dnum).copy()\n",
    "D02 = features[features['activity']=='D02'].head(dnum).copy()\n",
    "D03 = features[features['activity']=='D03'].head(dnum).copy()\n",
    "D04 = features[features['activity']=='D04'].head(dnum).copy()\n",
    "D05 = features[features['activity']=='D05'].head(dnum).copy()\n",
    "D06 = features[features['activity']=='D06'].head(dnum).copy()\n",
    "D07 = features[features['activity']=='D07'].head(dnum).copy()\n",
    "D08 = features[features['activity']=='D08'].head(dnum).copy()\n",
    "D09 = features[features['activity']=='D09'].head(dnum).copy()\n",
    "D10 = features[features['activity']=='D10'].head(dnum).copy()\n",
    "D11 = features[features['activity']=='D11'].head(dnum).copy()\n",
    "D12 = features[features['activity']=='D12'].head(dnum).copy()\n",
    "D13 = features[features['activity']=='D13'].head(dnum).copy()\n",
    "D14 = features[features['activity']=='D14'].head(dnum).copy()\n",
    "D15 = features[features['activity']=='D15'].head(dnum).copy()\n",
    "D16 = features[features['activity']=='D16'].head(dnum).copy()\n",
    "D17 = features[features['activity']=='D17'].head(dnum).copy()\n",
    "D18 = features[features['activity']=='D18'].head(dnum).copy()\n",
    "D19 = features[features['activity']=='D19'].head(dnum).copy()"
   ]
  },
  {
   "cell_type": "code",
   "execution_count": 52,
   "id": "45b8e56a",
   "metadata": {
    "ExecuteTime": {
     "end_time": "2025-02-09T15:57:59.758524Z",
     "start_time": "2025-02-09T15:57:48.021362Z"
    }
   },
   "outputs": [],
   "source": [
    "F01 = features[features['activity']=='F01'].head(fnum).copy()\n",
    "F02 = features[features['activity']=='F02'].head(fnum).copy()\n",
    "F03 = features[features['activity']=='F03'].head(fnum).copy()\n",
    "F04 = features[features['activity']=='F04'].head(fnum).copy()\n",
    "F05 = features[features['activity']=='F05'].head(fnum).copy()\n",
    "F06 = features[features['activity']=='F06'].head(fnum).copy()\n",
    "F07 = features[features['activity']=='F07'].head(fnum).copy()\n",
    "F08 = features[features['activity']=='F08'].head(fnum).copy()\n",
    "F09 = features[features['activity']=='F09'].head(fnum).copy()\n",
    "F10 = features[features['activity']=='F10'].head(fnum).copy()\n",
    "F11 = features[features['activity']=='F11'].head(fnum).copy()\n",
    "F12 = features[features['activity']=='F12'].head(fnum).copy()\n",
    "F13 = features[features['activity']=='F13'].head(fnum).copy()\n",
    "F14 = features[features['activity']=='F14'].head(fnum).copy()\n",
    "F15 = features[features['activity']=='F15'].head(fnum).copy()"
   ]
  },
  {
   "cell_type": "code",
   "execution_count": 53,
   "id": "ccb2393c",
   "metadata": {
    "ExecuteTime": {
     "end_time": "2025-02-09T15:57:59.770486Z",
     "start_time": "2025-02-09T15:57:59.760355Z"
    }
   },
   "outputs": [],
   "source": [
    "df = pd.DataFrame()\n",
    "df = pd.concat([df, F01, F02, F03, F04, F05, F06, F07, F08, F09, F10, F11, F12, F13, F14, F15])\n",
    "df = pd.concat([df, D01, D02, D03, D04, D05, D06, D07, D08, D09, D10, D11, D15, D16, D17, D18, D19])"
   ]
  },
  {
   "cell_type": "code",
   "execution_count": 54,
   "id": "79c321f5",
   "metadata": {
    "ExecuteTime": {
     "end_time": "2025-02-09T15:57:59.777570Z",
     "start_time": "2025-02-09T15:57:59.772292Z"
    }
   },
   "outputs": [
    {
     "data": {
      "text/plain": [
       "activity\n",
       "F01    365\n",
       "F09    365\n",
       "F02    365\n",
       "F15    365\n",
       "F14    365\n",
       "F13    365\n",
       "F11    365\n",
       "F10    365\n",
       "F12    365\n",
       "F08    365\n",
       "F07    365\n",
       "F06    365\n",
       "F05    365\n",
       "F04    365\n",
       "F03    365\n",
       "D09    200\n",
       "D18    200\n",
       "D17    200\n",
       "D16    200\n",
       "D15    200\n",
       "D11    200\n",
       "D10    200\n",
       "D01    200\n",
       "D08    200\n",
       "D07    200\n",
       "D06    200\n",
       "D05    200\n",
       "D04    200\n",
       "D03    200\n",
       "D02    200\n",
       "D19    200\n",
       "Name: count, dtype: int64"
      ]
     },
     "execution_count": 54,
     "metadata": {},
     "output_type": "execute_result"
    }
   ],
   "source": [
    "df['activity'].value_counts()"
   ]
  },
  {
   "cell_type": "code",
   "execution_count": 55,
   "id": "9526e9c2",
   "metadata": {
    "ExecuteTime": {
     "end_time": "2025-02-09T15:57:59.981985Z",
     "start_time": "2025-02-09T15:57:59.778989Z"
    }
   },
   "outputs": [],
   "source": [
    "features = df.copy()"
   ]
  },
  {
   "cell_type": "code",
   "execution_count": 56,
   "id": "4ee3e8f1",
   "metadata": {
    "ExecuteTime": {
     "end_time": "2025-02-09T15:58:00.050561Z",
     "start_time": "2025-02-09T15:57:59.984466Z"
    }
   },
   "outputs": [
    {
     "name": "stderr",
     "output_type": "stream",
     "text": [
      "/var/folders/_z/gryfr07n59jgb3wrd062h1ym0000gn/T/ipykernel_91561/4220643108.py:35: FutureWarning: Downcasting behavior in `replace` is deprecated and will be removed in a future version. To retain the old behavior, explicitly call `result.infer_objects(copy=False)`. To opt-in to the future behavior, set `pd.set_option('future.no_silent_downcasting', True)`\n",
      "  features = features.replace({'activity':'F15'},1)\n"
     ]
    }
   ],
   "source": [
    "features = features.replace({'activity':'D01'},0)\n",
    "features = features.replace({'activity':'D01'},0)\n",
    "features = features.replace({'activity':'D02'},0)\n",
    "features = features.replace({'activity':'D03'},0)\n",
    "features = features.replace({'activity':'D04'},0)\n",
    "features = features.replace({'activity':'D05'},0)\n",
    "features = features.replace({'activity':'D06'},0)\n",
    "features = features.replace({'activity':'D07'},0)\n",
    "features = features.replace({'activity':'D08'},0)\n",
    "features = features.replace({'activity':'D09'},0)\n",
    "features = features.replace({'activity':'D10'},0)\n",
    "features = features.replace({'activity':'D11'},0)\n",
    "features = features.replace({'activity':'D12'},0)\n",
    "features = features.replace({'activity':'D13'},0)\n",
    "features = features.replace({'activity':'D14'},0)\n",
    "features = features.replace({'activity':'D15'},0)\n",
    "features = features.replace({'activity':'D16'},0)\n",
    "features = features.replace({'activity':'D17'},0)\n",
    "features = features.replace({'activity':'D18'},0)\n",
    "features = features.replace({'activity':'D19'},0)\n",
    "features = features.replace({'activity':'F01'},1)\n",
    "features = features.replace({'activity':'F02'},1)\n",
    "features = features.replace({'activity':'F03'},1)\n",
    "features = features.replace({'activity':'F04'},1)\n",
    "features = features.replace({'activity':'F05'},1)\n",
    "features = features.replace({'activity':'F06'},1)\n",
    "features = features.replace({'activity':'F07'},1)\n",
    "features = features.replace({'activity':'F08'},1)\n",
    "features = features.replace({'activity':'F09'},1)\n",
    "features = features.replace({'activity':'F10'},1)\n",
    "features = features.replace({'activity':'F11'},1)\n",
    "features = features.replace({'activity':'F12'},1)\n",
    "features = features.replace({'activity':'F13'},1)\n",
    "features = features.replace({'activity':'F14'},1)\n",
    "features = features.replace({'activity':'F15'},1)\n",
    "features = features.replace({'activity':'F15'},1)"
   ]
  },
  {
   "cell_type": "code",
   "execution_count": 57,
   "id": "0b782c0d",
   "metadata": {
    "ExecuteTime": {
     "end_time": "2025-02-09T15:58:00.059009Z",
     "start_time": "2025-02-09T15:58:00.054865Z"
    }
   },
   "outputs": [
    {
     "data": {
      "text/plain": [
       "activity\n",
       "1    5475\n",
       "0    3200\n",
       "Name: count, dtype: int64"
      ]
     },
     "execution_count": 57,
     "metadata": {},
     "output_type": "execute_result"
    }
   ],
   "source": [
    "features['activity'].value_counts()"
   ]
  },
  {
   "cell_type": "code",
   "execution_count": 58,
   "id": "b5464d0d",
   "metadata": {
    "ExecuteTime": {
     "end_time": "2025-02-09T15:58:00.077373Z",
     "start_time": "2025-02-09T15:58:00.060776Z"
    }
   },
   "outputs": [
    {
     "data": {
      "text/html": [
       "<div>\n",
       "<style scoped>\n",
       "    .dataframe tbody tr th:only-of-type {\n",
       "        vertical-align: middle;\n",
       "    }\n",
       "\n",
       "    .dataframe tbody tr th {\n",
       "        vertical-align: top;\n",
       "    }\n",
       "\n",
       "    .dataframe thead th {\n",
       "        text-align: right;\n",
       "    }\n",
       "</style>\n",
       "<table border=\"1\" class=\"dataframe\">\n",
       "  <thead>\n",
       "    <tr style=\"text-align: right;\">\n",
       "      <th></th>\n",
       "      <th>ADXL_x</th>\n",
       "      <th>ADXL_y</th>\n",
       "      <th>ADXL_z</th>\n",
       "      <th>ITG_x</th>\n",
       "      <th>ITG_y</th>\n",
       "      <th>ITG_z</th>\n",
       "      <th>MMA_x</th>\n",
       "      <th>MMA_y</th>\n",
       "      <th>MMA_z</th>\n",
       "      <th>subject</th>\n",
       "      <th>activity</th>\n",
       "      <th>trial</th>\n",
       "    </tr>\n",
       "  </thead>\n",
       "  <tbody>\n",
       "    <tr>\n",
       "      <th>NaN</th>\n",
       "      <td>0.0</td>\n",
       "      <td>1.0</td>\n",
       "      <td>2.0</td>\n",
       "      <td>3.0</td>\n",
       "      <td>4.0</td>\n",
       "      <td>5.0</td>\n",
       "      <td>6.0</td>\n",
       "      <td>7.0</td>\n",
       "      <td>8.0</td>\n",
       "      <td>SA01</td>\n",
       "      <td>1</td>\n",
       "      <td>R01</td>\n",
       "    </tr>\n",
       "    <tr>\n",
       "      <th>0.0</th>\n",
       "      <td>-9.0</td>\n",
       "      <td>-257.0</td>\n",
       "      <td>-25.0</td>\n",
       "      <td>84.0</td>\n",
       "      <td>247.0</td>\n",
       "      <td>27.0</td>\n",
       "      <td>-120.0</td>\n",
       "      <td>-987.0</td>\n",
       "      <td>63.0</td>\n",
       "      <td>SA01</td>\n",
       "      <td>1</td>\n",
       "      <td>R01</td>\n",
       "    </tr>\n",
       "    <tr>\n",
       "      <th>1.0</th>\n",
       "      <td>-3.0</td>\n",
       "      <td>-263.0</td>\n",
       "      <td>-23.0</td>\n",
       "      <td>99.0</td>\n",
       "      <td>258.0</td>\n",
       "      <td>35.0</td>\n",
       "      <td>-110.0</td>\n",
       "      <td>-1016.0</td>\n",
       "      <td>68.0</td>\n",
       "      <td>SA01</td>\n",
       "      <td>1</td>\n",
       "      <td>R01</td>\n",
       "    </tr>\n",
       "    <tr>\n",
       "      <th>2.0</th>\n",
       "      <td>-1.0</td>\n",
       "      <td>-270.0</td>\n",
       "      <td>-22.0</td>\n",
       "      <td>114.0</td>\n",
       "      <td>272.0</td>\n",
       "      <td>45.0</td>\n",
       "      <td>-94.0</td>\n",
       "      <td>-1037.0</td>\n",
       "      <td>69.0</td>\n",
       "      <td>SA01</td>\n",
       "      <td>1</td>\n",
       "      <td>R01</td>\n",
       "    </tr>\n",
       "    <tr>\n",
       "      <th>3.0</th>\n",
       "      <td>1.0</td>\n",
       "      <td>-277.0</td>\n",
       "      <td>-24.0</td>\n",
       "      <td>127.0</td>\n",
       "      <td>286.0</td>\n",
       "      <td>57.0</td>\n",
       "      <td>-81.0</td>\n",
       "      <td>-1062.0</td>\n",
       "      <td>69.0</td>\n",
       "      <td>SA01</td>\n",
       "      <td>1</td>\n",
       "      <td>R01</td>\n",
       "    </tr>\n",
       "    <tr>\n",
       "      <th>...</th>\n",
       "      <td>...</td>\n",
       "      <td>...</td>\n",
       "      <td>...</td>\n",
       "      <td>...</td>\n",
       "      <td>...</td>\n",
       "      <td>...</td>\n",
       "      <td>...</td>\n",
       "      <td>...</td>\n",
       "      <td>...</td>\n",
       "      <td>...</td>\n",
       "      <td>...</td>\n",
       "      <td>...</td>\n",
       "    </tr>\n",
       "    <tr>\n",
       "      <th>194.0</th>\n",
       "      <td>4.0</td>\n",
       "      <td>-259.0</td>\n",
       "      <td>-21.0</td>\n",
       "      <td>-56.0</td>\n",
       "      <td>2.0</td>\n",
       "      <td>-5.0</td>\n",
       "      <td>18.0</td>\n",
       "      <td>-1008.0</td>\n",
       "      <td>35.0</td>\n",
       "      <td>SA01</td>\n",
       "      <td>0</td>\n",
       "      <td>R01</td>\n",
       "    </tr>\n",
       "    <tr>\n",
       "      <th>195.0</th>\n",
       "      <td>9.0</td>\n",
       "      <td>-261.0</td>\n",
       "      <td>-27.0</td>\n",
       "      <td>-59.0</td>\n",
       "      <td>2.0</td>\n",
       "      <td>-5.0</td>\n",
       "      <td>23.0</td>\n",
       "      <td>-1014.0</td>\n",
       "      <td>35.0</td>\n",
       "      <td>SA01</td>\n",
       "      <td>0</td>\n",
       "      <td>R01</td>\n",
       "    </tr>\n",
       "    <tr>\n",
       "      <th>196.0</th>\n",
       "      <td>4.0</td>\n",
       "      <td>-261.0</td>\n",
       "      <td>-25.0</td>\n",
       "      <td>-62.0</td>\n",
       "      <td>3.0</td>\n",
       "      <td>-5.0</td>\n",
       "      <td>20.0</td>\n",
       "      <td>-1011.0</td>\n",
       "      <td>33.0</td>\n",
       "      <td>SA01</td>\n",
       "      <td>0</td>\n",
       "      <td>R01</td>\n",
       "    </tr>\n",
       "    <tr>\n",
       "      <th>197.0</th>\n",
       "      <td>4.0</td>\n",
       "      <td>-262.0</td>\n",
       "      <td>-21.0</td>\n",
       "      <td>-65.0</td>\n",
       "      <td>3.0</td>\n",
       "      <td>-4.0</td>\n",
       "      <td>18.0</td>\n",
       "      <td>-1009.0</td>\n",
       "      <td>36.0</td>\n",
       "      <td>SA01</td>\n",
       "      <td>0</td>\n",
       "      <td>R01</td>\n",
       "    </tr>\n",
       "    <tr>\n",
       "      <th>198.0</th>\n",
       "      <td>6.0</td>\n",
       "      <td>-259.0</td>\n",
       "      <td>-20.0</td>\n",
       "      <td>-67.0</td>\n",
       "      <td>2.0</td>\n",
       "      <td>-6.0</td>\n",
       "      <td>19.0</td>\n",
       "      <td>-1012.0</td>\n",
       "      <td>33.0</td>\n",
       "      <td>SA01</td>\n",
       "      <td>0</td>\n",
       "      <td>R01</td>\n",
       "    </tr>\n",
       "  </tbody>\n",
       "</table>\n",
       "<p>8675 rows × 12 columns</p>\n",
       "</div>"
      ],
      "text/plain": [
       "       ADXL_x  ADXL_y  ADXL_z  ITG_x  ITG_y  ITG_z  MMA_x   MMA_y  MMA_z  \\\n",
       "NaN       0.0     1.0     2.0    3.0    4.0    5.0    6.0     7.0    8.0   \n",
       "0.0      -9.0  -257.0   -25.0   84.0  247.0   27.0 -120.0  -987.0   63.0   \n",
       "1.0      -3.0  -263.0   -23.0   99.0  258.0   35.0 -110.0 -1016.0   68.0   \n",
       "2.0      -1.0  -270.0   -22.0  114.0  272.0   45.0  -94.0 -1037.0   69.0   \n",
       "3.0       1.0  -277.0   -24.0  127.0  286.0   57.0  -81.0 -1062.0   69.0   \n",
       "...       ...     ...     ...    ...    ...    ...    ...     ...    ...   \n",
       "194.0     4.0  -259.0   -21.0  -56.0    2.0   -5.0   18.0 -1008.0   35.0   \n",
       "195.0     9.0  -261.0   -27.0  -59.0    2.0   -5.0   23.0 -1014.0   35.0   \n",
       "196.0     4.0  -261.0   -25.0  -62.0    3.0   -5.0   20.0 -1011.0   33.0   \n",
       "197.0     4.0  -262.0   -21.0  -65.0    3.0   -4.0   18.0 -1009.0   36.0   \n",
       "198.0     6.0  -259.0   -20.0  -67.0    2.0   -6.0   19.0 -1012.0   33.0   \n",
       "\n",
       "      subject  activity trial  \n",
       "NaN      SA01         1   R01  \n",
       "0.0      SA01         1   R01  \n",
       "1.0      SA01         1   R01  \n",
       "2.0      SA01         1   R01  \n",
       "3.0      SA01         1   R01  \n",
       "...       ...       ...   ...  \n",
       "194.0    SA01         0   R01  \n",
       "195.0    SA01         0   R01  \n",
       "196.0    SA01         0   R01  \n",
       "197.0    SA01         0   R01  \n",
       "198.0    SA01         0   R01  \n",
       "\n",
       "[8675 rows x 12 columns]"
      ]
     },
     "execution_count": 58,
     "metadata": {},
     "output_type": "execute_result"
    }
   ],
   "source": [
    "features"
   ]
  },
  {
   "cell_type": "code",
   "execution_count": 59,
   "id": "e9397248",
   "metadata": {
    "ExecuteTime": {
     "end_time": "2025-02-09T15:58:00.083267Z",
     "start_time": "2025-02-09T15:58:00.079249Z"
    }
   },
   "outputs": [
    {
     "name": "stdout",
     "output_type": "stream",
     "text": [
      "{'SA01'}\n"
     ]
    }
   ],
   "source": [
    "print (set(features['subject']))"
   ]
  },
  {
   "cell_type": "code",
   "execution_count": 60,
   "id": "ac2e7206",
   "metadata": {
    "ExecuteTime": {
     "end_time": "2025-02-09T15:58:00.089766Z",
     "start_time": "2025-02-09T15:58:00.085296Z"
    }
   },
   "outputs": [
    {
     "name": "stdout",
     "output_type": "stream",
     "text": [
      "Index(['ADXL_x', 'ADXL_y', 'ADXL_z', 'ITG_x', 'ITG_y', 'ITG_z', 'MMA_x',\n",
      "       'MMA_y', 'MMA_z', 'activity'],\n",
      "      dtype='object')\n"
     ]
    }
   ],
   "source": [
    "features = features[[ft for ft in features.columns if ft not in ['subject', 'trial']]]\n",
    "print(features.columns)"
   ]
  },
  {
   "cell_type": "code",
   "execution_count": 61,
   "id": "2cb7bb70",
   "metadata": {
    "ExecuteTime": {
     "end_time": "2025-02-09T15:58:00.102033Z",
     "start_time": "2025-02-09T15:58:00.091776Z"
    }
   },
   "outputs": [],
   "source": [
    "from sklearn.preprocessing import StandardScaler\n",
    "\n",
    "feature_columns = [col for col in features.columns if col != 'activity']\n",
    "\n",
    "scaler = StandardScaler()\n",
    "\n",
    "features_scaled = features.copy()\n",
    "features_scaled[feature_columns] = scaler.fit_transform(features[feature_columns])"
   ]
  },
  {
   "cell_type": "code",
   "execution_count": 62,
   "id": "d5341ad2",
   "metadata": {
    "ExecuteTime": {
     "end_time": "2025-02-09T15:58:00.116099Z",
     "start_time": "2025-02-09T15:58:00.104884Z"
    }
   },
   "outputs": [
    {
     "name": "stdout",
     "output_type": "stream",
     "text": [
      "(1920, 10) (1280, 10) (3285, 10) (2190, 10)\n"
     ]
    }
   ],
   "source": [
    "adl_count = features_scaled['activity'].value_counts()[0]\n",
    "fall_count = features_scaled['activity'].value_counts()[1]\n",
    "\n",
    "adl_mask = features_scaled['activity'] == 0\n",
    "adl_data = features_scaled[adl_mask]\n",
    "adl1 = adl_data.iloc[:int(adl_count * 0.6)]\n",
    "adl2 = adl_data.iloc[int(adl_count * 0.6):]\n",
    "\n",
    "fall_mask = features_scaled['activity'] == 1\n",
    "fall_data = features_scaled[fall_mask]\n",
    "fall1 = fall_data.iloc[:int(fall_count * 0.6)]\n",
    "fall2 = fall_data.iloc[int(fall_count * 0.6):]\n",
    "\n",
    "print(adl1.shape, adl2.shape, fall1.shape, fall2.shape)"
   ]
  },
  {
   "cell_type": "code",
   "execution_count": 63,
   "id": "213895a9",
   "metadata": {
    "ExecuteTime": {
     "end_time": "2025-02-09T15:58:00.121860Z",
     "start_time": "2025-02-09T15:58:00.117965Z"
    }
   },
   "outputs": [],
   "source": [
    "def split_sequences(sequences, n_steps):\n",
    "    X, y = [], []\n",
    "    for i in range(len(sequences) - n_steps + 1):\n",
    "        end_ix = i + n_steps\n",
    "        \n",
    "        seq_x = sequences.iloc[i:end_ix].iloc[:, :-1] \n",
    "        seq_y = sequences.iloc[end_ix-1].iloc[-1]     \n",
    "        \n",
    "        X.append(seq_x.values)  \n",
    "        y.append(seq_y)\n",
    "    \n",
    "    return np.array(X), np.array(y)"
   ]
  },
  {
   "cell_type": "code",
   "execution_count": 64,
   "id": "516cfa3d",
   "metadata": {
    "ExecuteTime": {
     "end_time": "2025-02-09T15:58:01.770402Z",
     "start_time": "2025-02-09T15:58:00.123615Z"
    }
   },
   "outputs": [
    {
     "name": "stdout",
     "output_type": "stream",
     "text": [
      "after : (1901, 20, 9), (3451, 20, 9)\n"
     ]
    }
   ],
   "source": [
    "WINDOW_LENGTH = 20\n",
    "train_data, train_labels = split_sequences(adl1, WINDOW_LENGTH)\n",
    "test_data, test_labels = split_sequences(pd.concat([adl2, fall2]), WINDOW_LENGTH)\n",
    "print (f\"after : {train_data.shape}, {test_data.shape}\")"
   ]
  },
  {
   "cell_type": "markdown",
   "id": "e43c952c",
   "metadata": {},
   "source": [
    "-----"
   ]
  },
  {
   "cell_type": "code",
   "execution_count": 65,
   "id": "74bf737c",
   "metadata": {
    "ExecuteTime": {
     "end_time": "2025-02-09T15:58:01.775364Z",
     "start_time": "2025-02-09T15:58:01.772777Z"
    }
   },
   "outputs": [],
   "source": [
    "# Input:      (256, 9)\n",
    "# Level 1:    (128, 64)   # spatial ↓, channels ↑\n",
    "# Level 2:    (64, 128)   # spatial ↓, channels ↑\n",
    "# Level 3:    (32, 256)   # spatial ↓, channels ↑\n",
    "# Level 4:    (16, 512)   # spatial ↓, channels ↑\n",
    "#     (16, 1024)\n",
    "# Level 4:    (32, 512)   # spatial ↑, channels ↓\n",
    "# Level 3:    (64, 256)   # spatial ↑, channels ↓\n",
    "# Level 2:    (128, 128)  # spatial ↑, channels ↓\n",
    "# Level 1:    (256, 64)   # spatial ↑, channels ↓\n",
    "# Output:     (256, 9)"
   ]
  },
  {
   "cell_type": "code",
   "execution_count": 66,
   "id": "2fa71ba3",
   "metadata": {
    "ExecuteTime": {
     "end_time": "2025-02-09T15:58:01.781413Z",
     "start_time": "2025-02-09T15:58:01.777727Z"
    }
   },
   "outputs": [],
   "source": [
    "class TimeEmbedding(tf.keras.layers.Layer):\n",
    "    def __init__(self, dim):\n",
    "        super().__init__()\n",
    "        self.dim = dim\n",
    "        \n",
    "    def call(self, time):\n",
    "        half_dim = self.dim // 2\n",
    "        embeddings = tf.math.log(10000.) / (half_dim - 1)\n",
    "        embeddings = tf.exp(tf.range(half_dim, dtype=tf.float32) * -embeddings)\n",
    "        embeddings = tf.cast(time, tf.float32)[:, None] * embeddings[None, :]\n",
    "        embeddings = tf.concat([tf.sin(embeddings), tf.cos(embeddings)], axis=-1)\n",
    "        return embeddings"
   ]
  },
  {
   "cell_type": "code",
   "execution_count": 67,
   "id": "d7a3f531",
   "metadata": {
    "ExecuteTime": {
     "end_time": "2025-02-09T15:58:01.789774Z",
     "start_time": "2025-02-09T15:58:01.782998Z"
    }
   },
   "outputs": [],
   "source": [
    "\"\"\"Double convolution block for U-Net\"\"\"\n",
    "class DoubleConv(tf.keras.layers.Layer):\n",
    "    def __init__(self, filters):\n",
    "        super(DoubleConv, self).__init__()\n",
    "        # 더 넓은 커널과 더 많은 필터 사용\n",
    "        self.conv1 = tf.keras.layers.Conv1D(filters, 5, padding='same')  # kernel size 3 -> 5\n",
    "        self.bn1 = tf.keras.layers.BatchNormalization()\n",
    "        self.conv2 = tf.keras.layers.Conv1D(filters, 5, padding='same')\n",
    "        self.bn2 = tf.keras.layers.BatchNormalization()\n",
    "        self.conv3 = tf.keras.layers.Conv1D(filters, 1, padding='same')  # 추가 1x1 conv\n",
    "        self.bn3 = tf.keras.layers.BatchNormalization()\n",
    "        self.relu = tf.keras.layers.ReLU()\n",
    "        self.dropout = tf.keras.layers.Dropout(0.2)  # dropout 증가\n",
    "        \n",
    "        # 시간 정보를 처리하기 위한 더 큰 projection\n",
    "        self.time_proj = tf.keras.layers.Dense(filters)\n",
    "    \n",
    "    def call(self, inputs):\n",
    "        x, t = inputs\n",
    "        \n",
    "        # First conv block\n",
    "        h = self.conv1(x)\n",
    "        h = self.bn1(h)\n",
    "        \n",
    "        # 시간 정보 추가\n",
    "        time_emb = self.time_proj(t)[:, None, :]\n",
    "        h = h + time_emb\n",
    "        \n",
    "        h = self.relu(h)\n",
    "        h = self.dropout(h)\n",
    "        \n",
    "        # Second conv block\n",
    "        h = self.conv2(h)\n",
    "        h = self.bn2(h)\n",
    "        h = self.relu(h)\n",
    "        h = self.dropout(h)\n",
    "        \n",
    "        # Additional 1x1 conv\n",
    "        h = self.conv3(h)\n",
    "        h = self.bn3(h)\n",
    "        h = self.relu(h)\n",
    "        h = self.dropout(h)\n",
    "        \n",
    "        return h"
   ]
  },
  {
   "cell_type": "code",
   "execution_count": 73,
   "id": "60955bce",
   "metadata": {
    "ExecuteTime": {
     "end_time": "2025-02-09T15:59:51.450086Z",
     "start_time": "2025-02-09T15:59:51.441215Z"
    }
   },
   "outputs": [],
   "source": [
    "class UNetDiffusion(tf.keras.Model):\n",
    "    def __init__(self, time_dim=512):  # time embedding dimension 증가\n",
    "        super(UNetDiffusion, self).__init__()\n",
    "        \n",
    "        # Time embedding with larger dimensions\n",
    "        self.time_mlp = tf.keras.Sequential([\n",
    "            TimeEmbedding(time_dim),\n",
    "            tf.keras.layers.Dense(time_dim * 2),\n",
    "            tf.keras.layers.ReLU(),\n",
    "            tf.keras.layers.Dense(time_dim * 2)  # 더 큰 차원으로 변경\n",
    "        ])\n",
    "        \n",
    "        # Encoder layers with more channels\n",
    "        self.enc1_conv = DoubleConv(64)  # 8 -> 64\n",
    "        self.enc1_pool = tf.keras.layers.MaxPooling1D(2)\n",
    "        \n",
    "        self.enc2_conv = DoubleConv(128)  # 16 -> 128\n",
    "        self.enc2_pool = tf.keras.layers.MaxPooling1D(2)\n",
    "        \n",
    "        self.enc3_conv = DoubleConv(256)  # 새로운 레이어 추가\n",
    "        self.enc3_pool = tf.keras.layers.MaxPooling1D(2)\n",
    "        \n",
    "        # Bottleneck with more channels\n",
    "        self.bottleneck = DoubleConv(512)  # 32 -> 512\n",
    "        \n",
    "        # Decoder layers with more channels\n",
    "        self.dec3_up = tf.keras.layers.UpSampling1D(2)\n",
    "        self.dec3_conv = DoubleConv(256)\n",
    "        \n",
    "        self.dec2_up = tf.keras.layers.UpSampling1D(2)\n",
    "        self.dec2_conv = DoubleConv(128)\n",
    "        \n",
    "        self.dec1_up = tf.keras.layers.UpSampling1D(2)\n",
    "        self.dec1_conv = DoubleConv(64)\n",
    "        \n",
    "        self.final = tf.keras.layers.Conv1D(9, 1, padding='same')\n",
    "        \n",
    "    def call(self, x, t, training=None):\n",
    "        # Time embedding\n",
    "        t = self.time_mlp(t)\n",
    "        \n",
    "        # Encoder path with skip connections\n",
    "        enc1_before_pool = x\n",
    "        x = self.enc1_conv([x, t])\n",
    "        enc1_output = self.enc1_pool(x)\n",
    "        \n",
    "        enc2_before_pool = enc1_output\n",
    "        x = self.enc2_conv([enc1_output, t])\n",
    "        enc2_output = self.enc2_pool(x)\n",
    "        \n",
    "        enc3_before_pool = enc2_output\n",
    "        x = self.enc3_conv([enc2_output, t])\n",
    "        enc3_output = self.enc3_pool(x)\n",
    "        \n",
    "        # Bottleneck\n",
    "        x = self.bottleneck([enc3_output, t])\n",
    "        \n",
    "        # Decoder path with skip connections\n",
    "        x = self.dec3_up(x)\n",
    "        x = self.dec3_conv([x, t])\n",
    "        x = tf.concat([enc3_before_pool, x], axis=-1)\n",
    "        \n",
    "        x = self.dec2_up(x)\n",
    "        x = self.dec2_conv([x, t])\n",
    "        x = tf.concat([enc2_before_pool, x], axis=-1)\n",
    "        \n",
    "        x = self.dec1_up(x)\n",
    "        x = self.dec1_conv([x, t])\n",
    "        x = tf.concat([enc1_before_pool, x], axis=-1)\n",
    "        \n",
    "        return self.final(x)"
   ]
  },
  {
   "cell_type": "code",
   "execution_count": 69,
   "id": "78d0e9cb",
   "metadata": {
    "ExecuteTime": {
     "end_time": "2025-02-09T15:58:01.819675Z",
     "start_time": "2025-02-09T15:58:01.810004Z"
    }
   },
   "outputs": [],
   "source": [
    "def linear_beta_schedule(timesteps):\n",
    "    beta_start = 0.0001\n",
    "    beta_end = 0.02\n",
    "    return np.linspace(beta_start, beta_end, timesteps)\n",
    "\n",
    "def get_index_from_list(vals, t, x_shape):\n",
    "    batch_size = t.shape[0]\n",
    "    out = tf.gather(vals, t)\n",
    "    # reshape to match input dimensions [batch_size, sequence_length, features]\n",
    "    return tf.reshape(out, [batch_size, 1, 1])\n",
    "\n",
    "def forward_diffusion(x_0, t):\n",
    "    # Get actual batch size from input\n",
    "    actual_batch_size = tf.shape(x_0)[0]\n",
    "    \n",
    "    # 데이터 타입을 일치시킵니다\n",
    "    x_0 = tf.cast(x_0, tf.float32)\n",
    "    noise = tf.random.normal(shape=tf.shape(x_0), dtype=tf.float32)\n",
    "    \n",
    "    # t 텐서의 크기를 실제 배치 크기에 맞춥니다\n",
    "    t = t[:actual_batch_size]\n",
    "    \n",
    "    # sqrt_alphas_cumprod와 sqrt_one_minus_alphas_cumprod의 데이터 타입을 확인하고 맞춰줍니다\n",
    "    sqrt_alphas_cumprod_t = tf.cast(get_index_from_list(sqrt_alphas_cumprod, t, x_0.shape), tf.float32)\n",
    "    sqrt_one_minus_alphas_cumprod_t = tf.cast(get_index_from_list(sqrt_one_minus_alphas_cumprod, t, x_0.shape), tf.float32)\n",
    "    \n",
    "    # Broadcast the coefficients to match x_0's shape\n",
    "    sqrt_alphas_cumprod_t = tf.broadcast_to(sqrt_alphas_cumprod_t, tf.shape(x_0))\n",
    "    sqrt_one_minus_alphas_cumprod_t = tf.broadcast_to(sqrt_one_minus_alphas_cumprod_t, tf.shape(x_0))\n",
    "    \n",
    "    return (\n",
    "        sqrt_alphas_cumprod_t * x_0 + sqrt_one_minus_alphas_cumprod_t * noise,\n",
    "        noise\n",
    "    )\n",
    "\n",
    "timesteps = 1000\n",
    "betas = linear_beta_schedule(timesteps)\n",
    "betas = tf.cast(betas, tf.float32)\n",
    "alphas = 1. - betas\n",
    "alphas_cumprod = tf.math.cumprod(alphas)\n",
    "sqrt_alphas_cumprod = tf.sqrt(alphas_cumprod)\n",
    "sqrt_one_minus_alphas_cumprod = tf.sqrt(1. - alphas_cumprod)"
   ]
  },
  {
   "cell_type": "code",
   "execution_count": 70,
   "id": "439c2e19",
   "metadata": {
    "ExecuteTime": {
     "end_time": "2025-02-09T15:58:01.825041Z",
     "start_time": "2025-02-09T15:58:01.822271Z"
    }
   },
   "outputs": [],
   "source": [
    "BATCH_SIZE = 64\n",
    "EPOCHS = 50\n",
    "INITIAL_LEARNING_RATE = 0.005\n",
    "DECAY_STEPS = 500\n",
    "DECAY_RATE = 0.95"
   ]
  },
  {
   "cell_type": "code",
   "execution_count": 71,
   "id": "d8bca7f8",
   "metadata": {
    "ExecuteTime": {
     "end_time": "2025-02-09T15:58:01.899583Z",
     "start_time": "2025-02-09T15:58:01.827516Z"
    }
   },
   "outputs": [],
   "source": [
    "model = UNetDiffusion()\n",
    "optimizer = tf.keras.optimizers.Adam(\n",
    "    tf.keras.optimizers.schedules.ExponentialDecay(\n",
    "        INITIAL_LEARNING_RATE, DECAY_STEPS, DECAY_RATE\n",
    "    )\n",
    ")"
   ]
  },
  {
   "cell_type": "code",
   "execution_count": 74,
   "id": "14791793",
   "metadata": {
    "ExecuteTime": {
     "end_time": "2025-02-09T15:59:54.691941Z",
     "start_time": "2025-02-09T15:59:54.180431Z"
    },
    "scrolled": false
   },
   "outputs": [
    {
     "data": {
      "application/vnd.jupyter.widget-view+json": {
       "model_id": "824d357625b748b7a7d09ed7e08c4d0b",
       "version_major": 2,
       "version_minor": 0
      },
      "text/plain": [
       "Epoch 1/50:   0%|          | 0/29 [00:00<?, ?it/s]"
      ]
     },
     "metadata": {},
     "output_type": "display_data"
    },
    {
     "name": "stderr",
     "output_type": "stream",
     "text": [
      "2025-02-10 00:59:54.644476: W tensorflow/core/framework/local_rendezvous.cc:404] Local rendezvous is aborting with status: INVALID_ARGUMENT: Incompatible shapes: [5,512,256] vs. [64,1,256]\n"
     ]
    },
    {
     "ename": "InvalidArgumentError",
     "evalue": "Exception encountered when calling DoubleConv.call().\n\n\u001b[1m{{function_node __wrapped__AddV2_device_/job:localhost/replica:0/task:0/device:CPU:0}} Incompatible shapes: [5,512,256] vs. [64,1,256] [Op:AddV2] name: \u001b[0m\n\nArguments received by DoubleConv.call():\n  • inputs=['tf.Tensor(shape=(5, 512, 512), dtype=float32)', 'tf.Tensor(shape=(64, 1024), dtype=float32)']",
     "output_type": "error",
     "traceback": [
      "\u001b[0;31m---------------------------------------------------------------------------\u001b[0m",
      "\u001b[0;31mInvalidArgumentError\u001b[0m                      Traceback (most recent call last)",
      "Cell \u001b[0;32mIn[74], line 26\u001b[0m\n\u001b[1;32m     24\u001b[0m \u001b[38;5;28;01mwith\u001b[39;00m tf\u001b[38;5;241m.\u001b[39mGradientTape() \u001b[38;5;28;01mas\u001b[39;00m tape:\n\u001b[1;32m     25\u001b[0m     x_noisy, noise \u001b[38;5;241m=\u001b[39m forward_diffusion(batch_data, t)\n\u001b[0;32m---> 26\u001b[0m     pred_noise \u001b[38;5;241m=\u001b[39m \u001b[43mmodel\u001b[49m\u001b[43m(\u001b[49m\u001b[43mx_noisy\u001b[49m\u001b[43m,\u001b[49m\u001b[43m \u001b[49m\u001b[43mt\u001b[49m\u001b[43m,\u001b[49m\u001b[43m \u001b[49m\u001b[43mtraining\u001b[49m\u001b[38;5;241;43m=\u001b[39;49m\u001b[38;5;28;43;01mTrue\u001b[39;49;00m\u001b[43m)\u001b[49m\n\u001b[1;32m     27\u001b[0m     loss \u001b[38;5;241m=\u001b[39m tf\u001b[38;5;241m.\u001b[39mreduce_mean(tf\u001b[38;5;241m.\u001b[39msquare(noise \u001b[38;5;241m-\u001b[39m pred_noise))\n\u001b[1;32m     29\u001b[0m grads \u001b[38;5;241m=\u001b[39m tape\u001b[38;5;241m.\u001b[39mgradient(loss, model\u001b[38;5;241m.\u001b[39mtrainable_variables)\n",
      "File \u001b[0;32m/Library/Frameworks/Python.framework/Versions/3.11/lib/python3.11/site-packages/keras/src/utils/traceback_utils.py:122\u001b[0m, in \u001b[0;36mfilter_traceback.<locals>.error_handler\u001b[0;34m(*args, **kwargs)\u001b[0m\n\u001b[1;32m    119\u001b[0m     filtered_tb \u001b[38;5;241m=\u001b[39m _process_traceback_frames(e\u001b[38;5;241m.\u001b[39m__traceback__)\n\u001b[1;32m    120\u001b[0m     \u001b[38;5;66;03m# To get the full stack trace, call:\u001b[39;00m\n\u001b[1;32m    121\u001b[0m     \u001b[38;5;66;03m# `keras.config.disable_traceback_filtering()`\u001b[39;00m\n\u001b[0;32m--> 122\u001b[0m     \u001b[38;5;28;01mraise\u001b[39;00m e\u001b[38;5;241m.\u001b[39mwith_traceback(filtered_tb) \u001b[38;5;28;01mfrom\u001b[39;00m \u001b[38;5;28;01mNone\u001b[39;00m\n\u001b[1;32m    123\u001b[0m \u001b[38;5;28;01mfinally\u001b[39;00m:\n\u001b[1;32m    124\u001b[0m     \u001b[38;5;28;01mdel\u001b[39;00m filtered_tb\n",
      "Cell \u001b[0;32mIn[68], line 61\u001b[0m, in \u001b[0;36mUNetDiffusion.call\u001b[0;34m(self, x, t, training)\u001b[0m\n\u001b[1;32m     59\u001b[0m \u001b[38;5;66;03m# Crop or pad to match enc3_before_pool shape\u001b[39;00m\n\u001b[1;32m     60\u001b[0m x \u001b[38;5;241m=\u001b[39m tf\u001b[38;5;241m.\u001b[39mimage\u001b[38;5;241m.\u001b[39mresize(x, [tf\u001b[38;5;241m.\u001b[39mshape(enc3_before_pool)[\u001b[38;5;241m1\u001b[39m], tf\u001b[38;5;241m.\u001b[39mshape(x)[\u001b[38;5;241m2\u001b[39m]], method\u001b[38;5;241m=\u001b[39m\u001b[38;5;124m'\u001b[39m\u001b[38;5;124mnearest\u001b[39m\u001b[38;5;124m'\u001b[39m)\n\u001b[0;32m---> 61\u001b[0m x \u001b[38;5;241m=\u001b[39m \u001b[38;5;28;43mself\u001b[39;49m\u001b[38;5;241;43m.\u001b[39;49m\u001b[43mdec3_conv\u001b[49m\u001b[43m(\u001b[49m\u001b[43m[\u001b[49m\u001b[43mx\u001b[49m\u001b[43m,\u001b[49m\u001b[43m \u001b[49m\u001b[43mt\u001b[49m\u001b[43m]\u001b[49m\u001b[43m)\u001b[49m\n\u001b[1;32m     62\u001b[0m x \u001b[38;5;241m=\u001b[39m tf\u001b[38;5;241m.\u001b[39mconcat([enc3_before_pool, x], axis\u001b[38;5;241m=\u001b[39m\u001b[38;5;241m-\u001b[39m\u001b[38;5;241m1\u001b[39m)\n\u001b[1;32m     64\u001b[0m x \u001b[38;5;241m=\u001b[39m \u001b[38;5;28mself\u001b[39m\u001b[38;5;241m.\u001b[39mdec2_up(x)\n",
      "Cell \u001b[0;32mIn[67], line 27\u001b[0m, in \u001b[0;36mDoubleConv.call\u001b[0;34m(self, inputs)\u001b[0m\n\u001b[1;32m     25\u001b[0m \u001b[38;5;66;03m# 시간 정보 추가\u001b[39;00m\n\u001b[1;32m     26\u001b[0m time_emb \u001b[38;5;241m=\u001b[39m \u001b[38;5;28mself\u001b[39m\u001b[38;5;241m.\u001b[39mtime_proj(t)[:, \u001b[38;5;28;01mNone\u001b[39;00m, :]\n\u001b[0;32m---> 27\u001b[0m h \u001b[38;5;241m=\u001b[39m \u001b[43mh\u001b[49m\u001b[43m \u001b[49m\u001b[38;5;241;43m+\u001b[39;49m\u001b[43m \u001b[49m\u001b[43mtime_emb\u001b[49m\n\u001b[1;32m     29\u001b[0m h \u001b[38;5;241m=\u001b[39m \u001b[38;5;28mself\u001b[39m\u001b[38;5;241m.\u001b[39mrelu(h)\n\u001b[1;32m     30\u001b[0m h \u001b[38;5;241m=\u001b[39m \u001b[38;5;28mself\u001b[39m\u001b[38;5;241m.\u001b[39mdropout(h)\n",
      "\u001b[0;31mInvalidArgumentError\u001b[0m: Exception encountered when calling DoubleConv.call().\n\n\u001b[1m{{function_node __wrapped__AddV2_device_/job:localhost/replica:0/task:0/device:CPU:0}} Incompatible shapes: [5,512,256] vs. [64,1,256] [Op:AddV2] name: \u001b[0m\n\nArguments received by DoubleConv.call():\n  • inputs=['tf.Tensor(shape=(5, 512, 512), dtype=float32)', 'tf.Tensor(shape=(64, 1024), dtype=float32)']"
     ]
    }
   ],
   "source": [
    "from tqdm.auto import tqdm\n",
    "\n",
    "train_dataset = tf.data.Dataset.from_tensor_slices(train_data.astype('float32'))\n",
    "train_dataset = train_dataset.batch(BATCH_SIZE, drop_remainder=True)  # drop_remainder=True 추가\n",
    "\n",
    "for epoch in range(EPOCHS):\n",
    "    train_loss = 0\n",
    "    n_batches = len(train_data) // BATCH_SIZE\n",
    "    \n",
    "    pbar = tqdm(enumerate(train_dataset), \n",
    "                desc=f'Epoch {epoch+1}/{EPOCHS}', \n",
    "                total=n_batches,\n",
    "                leave=False)\n",
    "    \n",
    "    for i, batch_data in pbar:\n",
    "        # 랜덤 타임스텝 샘플링\n",
    "        t = tf.random.uniform(\n",
    "            shape=(tf.shape(batch_data)[0],),  # 실제 배치 크기 사용\n",
    "            minval=0, \n",
    "            maxval=timesteps, \n",
    "            dtype=tf.int32\n",
    "        )\n",
    "        \n",
    "        with tf.GradientTape() as tape:\n",
    "            x_noisy, noise = forward_diffusion(batch_data, t)\n",
    "            pred_noise = model(x_noisy, t, training=True)\n",
    "            loss = tf.reduce_mean(tf.square(noise - pred_noise))\n",
    "        \n",
    "        grads = tape.gradient(loss, model.trainable_variables)\n",
    "        grads, _ = tf.clip_by_global_norm(grads, clip_norm=1.0)\n",
    "        optimizer.apply_gradients(zip(grads, model.trainable_variables))\n",
    "        \n",
    "        train_loss += loss.numpy()\n",
    "        pbar.set_postfix({'Loss': f'{loss.numpy():.4f}'})\n",
    "    \n",
    "    avg_loss = train_loss / n_batches\n",
    "    print(f'Epoch {epoch+1}/{EPOCHS} - Loss: {avg_loss:.4f}')"
   ]
  },
  {
   "cell_type": "code",
   "execution_count": null,
   "id": "f421d3c0",
   "metadata": {
    "ExecuteTime": {
     "end_time": "2025-02-09T15:58:02.859978Z",
     "start_time": "2025-02-09T15:58:02.859962Z"
    }
   },
   "outputs": [],
   "source": [
    "def flatten(X):\n",
    "    flattened_X = np.empty((X.shape[0], X.shape[2]))  # sample x features array.\n",
    "    for i in range(X.shape[0]):\n",
    "        flattened_X[i] = X[i, (X.shape[1]-1), :]\n",
    "    return(flattened_X)"
   ]
  },
  {
   "cell_type": "code",
   "execution_count": null,
   "id": "713312a7",
   "metadata": {
    "ExecuteTime": {
     "end_time": "2025-02-09T15:58:02.861537Z",
     "start_time": "2025-02-09T15:58:02.861494Z"
    }
   },
   "outputs": [],
   "source": [
    "from sklearn.metrics import mean_squared_error\n",
    "\n",
    "# 테스트용 시간 스텝 생성 (마지막 타임스텝 사용)\n",
    "test_t = tf.fill([len(test_data)], timesteps-1)\n",
    "\n",
    "# 예측 수행\n",
    "valid_x_predictions = model(test_data, test_t)\n",
    "error = flatten(test_data) - flatten(valid_x_predictions)\n",
    "\n",
    "valid_mse = np.mean(np.power(flatten(test_data) - flatten(valid_x_predictions), 2), axis=1)\n",
    "\n",
    "error_df = pd.DataFrame({\n",
    "    'reconstruction_error': valid_mse,\n",
    "    'true_class': test_labels\n",
    "})\n",
    "\n",
    "error_df"
   ]
  },
  {
   "cell_type": "code",
   "execution_count": null,
   "id": "cb6c6497",
   "metadata": {
    "ExecuteTime": {
     "end_time": "2025-02-09T15:58:02.863097Z",
     "start_time": "2025-02-09T15:58:02.863080Z"
    }
   },
   "outputs": [],
   "source": [
    "# 학습 데이터 예측\n",
    "train_t = tf.fill([len(train_data)], timesteps-1)\n",
    "X_pred_train = model(train_data, train_t)\n",
    "scored_train = np.mean(np.abs(flatten(train_data) - flatten(X_pred_train)), axis=1)\n",
    "\n",
    "# 테스트 데이터 예측\n",
    "test_t = tf.fill([len(test_data)], timesteps-1)\n",
    "X_pred_test = model(test_data, test_t)\n",
    "scored_test = np.mean(np.abs(flatten(test_data) - flatten(X_pred_test)), axis=1)\n",
    "\n",
    "# 시각화\n",
    "plt.title('MSE compare') \n",
    "plt.hist(scored_train, bins=10, color='blue', histtype='step', label='normal') \n",
    "plt.hist(scored_test, bins=10, color='red', histtype='step', label='abnormal') \n",
    "plt.xlabel('MSE')\n",
    "plt.legend()\n",
    "plt.show()"
   ]
  },
  {
   "cell_type": "code",
   "execution_count": null,
   "id": "57e7dbc5",
   "metadata": {
    "ExecuteTime": {
     "end_time": "2025-02-09T15:58:02.865418Z",
     "start_time": "2025-02-09T15:58:02.865394Z"
    }
   },
   "outputs": [],
   "source": [
    "error_df['true_class'].value_counts()"
   ]
  },
  {
   "cell_type": "code",
   "execution_count": null,
   "id": "1007d566",
   "metadata": {
    "ExecuteTime": {
     "end_time": "2025-02-09T15:58:02.867463Z",
     "start_time": "2025-02-09T15:58:02.867447Z"
    }
   },
   "outputs": [],
   "source": [
    "plt.figure(figsize=(10, 6))\n",
    "sns.boxplot(x='true_class', y='reconstruction_error', data=error_df, showfliers=False, saturation=1)\n",
    "plt.ylabel('Distribution')\n",
    "\n",
    "plt.axhline(y= 0.1, xmin=0.01, xmax=1,dashes=(5,5), c='g')\n",
    "\n",
    "plt.xticks(rotation=90)\n",
    "plt.show()"
   ]
  },
  {
   "cell_type": "code",
   "execution_count": null,
   "id": "5c966c75",
   "metadata": {
    "ExecuteTime": {
     "end_time": "2025-02-09T15:58:02.868864Z",
     "start_time": "2025-02-09T15:58:02.868849Z"
    }
   },
   "outputs": [],
   "source": [
    "threshold = 0.005"
   ]
  },
  {
   "cell_type": "code",
   "execution_count": null,
   "id": "e2976fe9",
   "metadata": {
    "ExecuteTime": {
     "end_time": "2025-02-09T15:58:02.870592Z",
     "start_time": "2025-02-09T15:58:02.870575Z"
    }
   },
   "outputs": [],
   "source": [
    "groups = error_df.groupby('true_class')\n",
    "fig, ax = plt.subplots()\n",
    "\n",
    "for name, group in groups:\n",
    "    ax.plot(group.index, group.reconstruction_error, marker='^', ms=3.5, linestyle='',\n",
    "            label= \"Normal\" if name == 0 else \"Fall\")\n",
    "ax.hlines(threshold, ax.get_xlim()[0], ax.get_xlim()[1], colors=\"r\", zorder=100, label='Threshold')\n",
    "ax.legend()\n",
    "plt.title(\"Reconstruction error for different classes\")\n",
    "plt.ylabel(\"Reconstruction error\")\n",
    "plt.xlabel(\"Data point index\")\n",
    "plt.show();"
   ]
  },
  {
   "cell_type": "code",
   "execution_count": null,
   "id": "0acf38ed",
   "metadata": {
    "ExecuteTime": {
     "end_time": "2025-02-09T15:58:02.871962Z",
     "start_time": "2025-02-09T15:58:02.871943Z"
    }
   },
   "outputs": [],
   "source": [
    "LABELS = [\"ADL\", \"FALL\"]\n",
    "\n",
    "plt.figure(figsize=(7, 7))\n",
    "y_pred = [1 if e > threshold else 0 for e in error_df.reconstruction_error.values]\n",
    "conf_matrix = confusion_matrix(error_df.true_class, y_pred)\n",
    "sns.heatmap(conf_matrix, xticklabels=LABELS, yticklabels=LABELS, annot=True, fmt=\"d\");\n",
    "plt.title(\"Confusion matrix\")\n",
    "plt.ylabel('True class')\n",
    "plt.xlabel('Predicted class')\n",
    "plt.show()"
   ]
  },
  {
   "cell_type": "code",
   "execution_count": null,
   "id": "3757e789",
   "metadata": {},
   "outputs": [],
   "source": []
  }
 ],
 "metadata": {
  "kernelspec": {
   "display_name": "Python 3 (ipykernel)",
   "language": "python",
   "name": "python3"
  },
  "language_info": {
   "codemirror_mode": {
    "name": "ipython",
    "version": 3
   },
   "file_extension": ".py",
   "mimetype": "text/x-python",
   "name": "python",
   "nbconvert_exporter": "python",
   "pygments_lexer": "ipython3",
   "version": "3.11.3"
  },
  "varInspector": {
   "cols": {
    "lenName": 16,
    "lenType": 16,
    "lenVar": 40
   },
   "kernels_config": {
    "python": {
     "delete_cmd_postfix": "",
     "delete_cmd_prefix": "del ",
     "library": "var_list.py",
     "varRefreshCmd": "print(var_dic_list())"
    },
    "r": {
     "delete_cmd_postfix": ") ",
     "delete_cmd_prefix": "rm(",
     "library": "var_list.r",
     "varRefreshCmd": "cat(var_dic_list()) "
    }
   },
   "types_to_exclude": [
    "module",
    "function",
    "builtin_function_or_method",
    "instance",
    "_Feature"
   ],
   "window_display": false
  }
 },
 "nbformat": 4,
 "nbformat_minor": 5
}
