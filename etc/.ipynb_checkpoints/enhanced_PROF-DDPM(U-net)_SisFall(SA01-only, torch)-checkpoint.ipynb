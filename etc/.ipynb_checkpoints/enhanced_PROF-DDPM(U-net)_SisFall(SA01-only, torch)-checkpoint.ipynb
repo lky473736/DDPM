{
 "cells": [
  {
   "cell_type": "code",
   "execution_count": 1,
   "id": "efb963b7",
   "metadata": {
    "ExecuteTime": {
     "end_time": "2025-02-09T12:39:09.118635Z",
     "start_time": "2025-02-09T12:39:01.438868Z"
    }
   },
   "outputs": [
    {
     "name": "stderr",
     "output_type": "stream",
     "text": [
      "2025-02-09 21:39:03.345142: I tensorflow/core/platform/cpu_feature_guard.cc:210] This TensorFlow binary is optimized to use available CPU instructions in performance-critical operations.\n",
      "To enable the following instructions: AVX2 FMA, in other operations, rebuild TensorFlow with the appropriate compiler flags.\n"
     ]
    }
   ],
   "source": [
    "import tensorflow as tf\n",
    "import numpy as np\n",
    "from tensorflow.keras import layers, Model\n",
    "import matplotlib.pyplot as plt \n",
    "import seaborn as sns\n",
    "import os\n",
    "import glob\n",
    "import pandas as pd\n",
    "from tqdm import tqdm\n",
    "from sklearn.metrics import confusion_matrix, classification_report\n",
    "from sklearn.preprocessing import StandardScaler"
   ]
  },
  {
   "cell_type": "code",
   "execution_count": 2,
   "id": "7674eaf5",
   "metadata": {
    "ExecuteTime": {
     "end_time": "2025-02-09T12:39:11.035889Z",
     "start_time": "2025-02-09T12:39:09.120956Z"
    }
   },
   "outputs": [],
   "source": [
    "import torch\n",
    "import torch.nn as nn\n",
    "import torch.optim as optim\n",
    "import torch.nn.functional as F  \n",
    "import numpy as np\n",
    "import pandas as pd\n",
    "import matplotlib.pyplot as plt\n",
    "import seaborn as sns\n",
    "from torch.utils.data import Dataset, DataLoader\n",
    "from sklearn.metrics import confusion_matrix, classification_report\n",
    "from sklearn.metrics import accuracy_score, precision_score, recall_score, f1_score\n",
    "from tqdm import tqdm"
   ]
  },
  {
   "cell_type": "code",
   "execution_count": 3,
   "id": "0e28ca75",
   "metadata": {
    "ExecuteTime": {
     "end_time": "2025-02-09T12:39:11.048122Z",
     "start_time": "2025-02-09T12:39:11.040093Z"
    }
   },
   "outputs": [
    {
     "data": {
      "text/plain": [
       "'\\n        Each file contains nine columns and a different number of rows depending on the test length.\\n        \\n        1st column is the acceleration data in the X axis measured by the sensor ADXL345.\\n        2nd column is the acceleration data in the Y axis measured by the sensor ADXL345.\\n        3rd column is the acceleration data in the Z axis measured by the sensor ADXL345.\\n\\n        4th column is the rotation data in the X axis measured by the sensor ITG3200.\\n        5th column is the rotation data in the Y axis measured by the sensor ITG3200.\\n        6th column is the rotation data in the Z axis measured by the sensor ITG3200.\\n\\n        7th column is the acceleration data in the X axis measured by the sensor MMA8451Q.\\n        8th column is the acceleration data in the Y axis measured by the sensor MMA8451Q.\\n        9th column is the acceleration data in the Z axis measured by the sensor MMA8451Q.\\n        \\n        Data are in bits with the following characteristics:\\n\\n        ADXL345:\\n        Resolution: 13 bits\\n        Range: +-16g\\n\\n        ITG3200\\n        Resolution: 16 bits\\n        Range: +-2000°/s\\n\\n        MMA8451Q:\\n        Resolution: 14 bits\\n        Range: +-8g\\n'"
      ]
     },
     "execution_count": 3,
     "metadata": {},
     "output_type": "execute_result"
    }
   ],
   "source": [
    "'''\n",
    "        Each file contains nine columns and a different number of rows depending on the test length.\n",
    "        \n",
    "        1st column is the acceleration data in the X axis measured by the sensor ADXL345.\n",
    "        2nd column is the acceleration data in the Y axis measured by the sensor ADXL345.\n",
    "        3rd column is the acceleration data in the Z axis measured by the sensor ADXL345.\n",
    "\n",
    "        4th column is the rotation data in the X axis measured by the sensor ITG3200.\n",
    "        5th column is the rotation data in the Y axis measured by the sensor ITG3200.\n",
    "        6th column is the rotation data in the Z axis measured by the sensor ITG3200.\n",
    "\n",
    "        7th column is the acceleration data in the X axis measured by the sensor MMA8451Q.\n",
    "        8th column is the acceleration data in the Y axis measured by the sensor MMA8451Q.\n",
    "        9th column is the acceleration data in the Z axis measured by the sensor MMA8451Q.\n",
    "        \n",
    "        Data are in bits with the following characteristics:\n",
    "\n",
    "        ADXL345:\n",
    "        Resolution: 13 bits\n",
    "        Range: +-16g\n",
    "\n",
    "        ITG3200\n",
    "        Resolution: 16 bits\n",
    "        Range: +-2000°/s\n",
    "\n",
    "        MMA8451Q:\n",
    "        Resolution: 14 bits\n",
    "        Range: +-8g\n",
    "'''"
   ]
  },
  {
   "cell_type": "code",
   "execution_count": 4,
   "id": "3cebdd5c",
   "metadata": {
    "ExecuteTime": {
     "end_time": "2025-02-09T12:39:29.214924Z",
     "start_time": "2025-02-09T12:39:11.050173Z"
    }
   },
   "outputs": [
    {
     "data": {
      "text/html": [
       "<div>\n",
       "<style scoped>\n",
       "    .dataframe tbody tr th:only-of-type {\n",
       "        vertical-align: middle;\n",
       "    }\n",
       "\n",
       "    .dataframe tbody tr th {\n",
       "        vertical-align: top;\n",
       "    }\n",
       "\n",
       "    .dataframe thead th {\n",
       "        text-align: right;\n",
       "    }\n",
       "</style>\n",
       "<table border=\"1\" class=\"dataframe\">\n",
       "  <thead>\n",
       "    <tr style=\"text-align: right;\">\n",
       "      <th></th>\n",
       "      <th>ADXL_x</th>\n",
       "      <th>ADXL_y</th>\n",
       "      <th>ADXL_z</th>\n",
       "      <th>ITG_x</th>\n",
       "      <th>ITG_y</th>\n",
       "      <th>ITG_z</th>\n",
       "      <th>MMA_x</th>\n",
       "      <th>MMA_y</th>\n",
       "      <th>MMA_z</th>\n",
       "      <th>subject</th>\n",
       "      <th>activity</th>\n",
       "      <th>trial</th>\n",
       "    </tr>\n",
       "  </thead>\n",
       "  <tbody>\n",
       "    <tr>\n",
       "      <th>NaN</th>\n",
       "      <td>0.0</td>\n",
       "      <td>1.0</td>\n",
       "      <td>2.0</td>\n",
       "      <td>3.0</td>\n",
       "      <td>4.0</td>\n",
       "      <td>5.0</td>\n",
       "      <td>6.0</td>\n",
       "      <td>7.0</td>\n",
       "      <td>8.0</td>\n",
       "      <td>SA01</td>\n",
       "      <td>D01</td>\n",
       "      <td>R01</td>\n",
       "    </tr>\n",
       "    <tr>\n",
       "      <th>0.0</th>\n",
       "      <td>17.0</td>\n",
       "      <td>-179.0</td>\n",
       "      <td>-99.0</td>\n",
       "      <td>-18.0</td>\n",
       "      <td>-504.0</td>\n",
       "      <td>-352.0</td>\n",
       "      <td>76.0</td>\n",
       "      <td>-697.0</td>\n",
       "      <td>-279.0</td>\n",
       "      <td>SA01</td>\n",
       "      <td>D01</td>\n",
       "      <td>R01</td>\n",
       "    </tr>\n",
       "    <tr>\n",
       "      <th>1.0</th>\n",
       "      <td>15.0</td>\n",
       "      <td>-174.0</td>\n",
       "      <td>-90.0</td>\n",
       "      <td>-53.0</td>\n",
       "      <td>-568.0</td>\n",
       "      <td>-306.0</td>\n",
       "      <td>48.0</td>\n",
       "      <td>-675.0</td>\n",
       "      <td>-254.0</td>\n",
       "      <td>SA01</td>\n",
       "      <td>D01</td>\n",
       "      <td>R01</td>\n",
       "    </tr>\n",
       "    <tr>\n",
       "      <th>2.0</th>\n",
       "      <td>1.0</td>\n",
       "      <td>-176.0</td>\n",
       "      <td>-81.0</td>\n",
       "      <td>-84.0</td>\n",
       "      <td>-613.0</td>\n",
       "      <td>-271.0</td>\n",
       "      <td>-2.0</td>\n",
       "      <td>-668.0</td>\n",
       "      <td>-221.0</td>\n",
       "      <td>SA01</td>\n",
       "      <td>D01</td>\n",
       "      <td>R01</td>\n",
       "    </tr>\n",
       "    <tr>\n",
       "      <th>3.0</th>\n",
       "      <td>-10.0</td>\n",
       "      <td>-180.0</td>\n",
       "      <td>-77.0</td>\n",
       "      <td>-104.0</td>\n",
       "      <td>-647.0</td>\n",
       "      <td>-227.0</td>\n",
       "      <td>-34.0</td>\n",
       "      <td>-697.0</td>\n",
       "      <td>-175.0</td>\n",
       "      <td>SA01</td>\n",
       "      <td>D01</td>\n",
       "      <td>R01</td>\n",
       "    </tr>\n",
       "    <tr>\n",
       "      <th>4.0</th>\n",
       "      <td>-21.0</td>\n",
       "      <td>-191.0</td>\n",
       "      <td>-63.0</td>\n",
       "      <td>-128.0</td>\n",
       "      <td>-675.0</td>\n",
       "      <td>-191.0</td>\n",
       "      <td>-74.0</td>\n",
       "      <td>-741.0</td>\n",
       "      <td>-133.0</td>\n",
       "      <td>SA01</td>\n",
       "      <td>D01</td>\n",
       "      <td>R01</td>\n",
       "    </tr>\n",
       "    <tr>\n",
       "      <th>5.0</th>\n",
       "      <td>-37.0</td>\n",
       "      <td>-225.0</td>\n",
       "      <td>-59.0</td>\n",
       "      <td>-146.0</td>\n",
       "      <td>-700.0</td>\n",
       "      <td>-159.0</td>\n",
       "      <td>-110.0</td>\n",
       "      <td>-840.0</td>\n",
       "      <td>-103.0</td>\n",
       "      <td>SA01</td>\n",
       "      <td>D01</td>\n",
       "      <td>R01</td>\n",
       "    </tr>\n",
       "    <tr>\n",
       "      <th>6.0</th>\n",
       "      <td>-36.0</td>\n",
       "      <td>-243.0</td>\n",
       "      <td>-46.0</td>\n",
       "      <td>-166.0</td>\n",
       "      <td>-722.0</td>\n",
       "      <td>-131.0</td>\n",
       "      <td>-147.0</td>\n",
       "      <td>-948.0</td>\n",
       "      <td>-75.0</td>\n",
       "      <td>SA01</td>\n",
       "      <td>D01</td>\n",
       "      <td>R01</td>\n",
       "    </tr>\n",
       "    <tr>\n",
       "      <th>7.0</th>\n",
       "      <td>-44.0</td>\n",
       "      <td>-271.0</td>\n",
       "      <td>-38.0</td>\n",
       "      <td>-190.0</td>\n",
       "      <td>-738.0</td>\n",
       "      <td>-107.0</td>\n",
       "      <td>-171.0</td>\n",
       "      <td>-1073.0</td>\n",
       "      <td>-38.0</td>\n",
       "      <td>SA01</td>\n",
       "      <td>D01</td>\n",
       "      <td>R01</td>\n",
       "    </tr>\n",
       "    <tr>\n",
       "      <th>8.0</th>\n",
       "      <td>-51.0</td>\n",
       "      <td>-312.0</td>\n",
       "      <td>-33.0</td>\n",
       "      <td>-210.0</td>\n",
       "      <td>-752.0</td>\n",
       "      <td>-90.0</td>\n",
       "      <td>-200.0</td>\n",
       "      <td>-1191.0</td>\n",
       "      <td>3.0</td>\n",
       "      <td>SA01</td>\n",
       "      <td>D01</td>\n",
       "      <td>R01</td>\n",
       "    </tr>\n",
       "  </tbody>\n",
       "</table>\n",
       "</div>"
      ],
      "text/plain": [
       "     ADXL_x  ADXL_y  ADXL_z  ITG_x  ITG_y  ITG_z  MMA_x   MMA_y  MMA_z  \\\n",
       "NaN     0.0     1.0     2.0    3.0    4.0    5.0    6.0     7.0    8.0   \n",
       "0.0    17.0  -179.0   -99.0  -18.0 -504.0 -352.0   76.0  -697.0 -279.0   \n",
       "1.0    15.0  -174.0   -90.0  -53.0 -568.0 -306.0   48.0  -675.0 -254.0   \n",
       "2.0     1.0  -176.0   -81.0  -84.0 -613.0 -271.0   -2.0  -668.0 -221.0   \n",
       "3.0   -10.0  -180.0   -77.0 -104.0 -647.0 -227.0  -34.0  -697.0 -175.0   \n",
       "4.0   -21.0  -191.0   -63.0 -128.0 -675.0 -191.0  -74.0  -741.0 -133.0   \n",
       "5.0   -37.0  -225.0   -59.0 -146.0 -700.0 -159.0 -110.0  -840.0 -103.0   \n",
       "6.0   -36.0  -243.0   -46.0 -166.0 -722.0 -131.0 -147.0  -948.0  -75.0   \n",
       "7.0   -44.0  -271.0   -38.0 -190.0 -738.0 -107.0 -171.0 -1073.0  -38.0   \n",
       "8.0   -51.0  -312.0   -33.0 -210.0 -752.0  -90.0 -200.0 -1191.0    3.0   \n",
       "\n",
       "    subject activity trial  \n",
       "NaN    SA01      D01   R01  \n",
       "0.0    SA01      D01   R01  \n",
       "1.0    SA01      D01   R01  \n",
       "2.0    SA01      D01   R01  \n",
       "3.0    SA01      D01   R01  \n",
       "4.0    SA01      D01   R01  \n",
       "5.0    SA01      D01   R01  \n",
       "6.0    SA01      D01   R01  \n",
       "7.0    SA01      D01   R01  \n",
       "8.0    SA01      D01   R01  "
      ]
     },
     "execution_count": 4,
     "metadata": {},
     "output_type": "execute_result"
    }
   ],
   "source": [
    "datapath = \"./data/SisFall.csv\"\n",
    "\n",
    "df = pd.read_csv(datapath, index_col=0)\n",
    "df.head(10)"
   ]
  },
  {
   "cell_type": "code",
   "execution_count": 5,
   "id": "f493029a",
   "metadata": {
    "ExecuteTime": {
     "end_time": "2025-02-09T12:39:31.191360Z",
     "start_time": "2025-02-09T12:39:29.216961Z"
    }
   },
   "outputs": [
    {
     "name": "stdout",
     "output_type": "stream",
     "text": [
      "Index(['ADXL_x', 'ADXL_y', 'ADXL_z', 'ITG_x', 'ITG_y', 'ITG_z', 'MMA_x',\n",
      "       'MMA_y', 'MMA_z', 'subject', 'activity', 'trial'],\n",
      "      dtype='object')\n",
      "{'SA02', 'SE11', 'SA05', 'SA11', 'SA22', 'SE14', 'SA20', 'SE12', 'SA08', 'SE03', 'SE08', 'SE09', 'SA07', 'SA14', 'SE01', 'SA10', 'SA23', 'SE06', 'SE04', 'SE15', 'SA01', 'SE05', 'SE07', 'SA16', 'SE13', 'SA09', 'SA18', 'SA12', 'SE02', 'SA13', 'SA21', 'SA15', 'SA17', 'SA04', 'SA06', 'SE10', 'SA19', 'SA03'}\n"
     ]
    }
   ],
   "source": [
    "print (df.columns)\n",
    "print (set(df['subject']))\n",
    "features = df.copy()\n",
    "\n",
    "dnum = 200\n",
    "fnum = 365"
   ]
  },
  {
   "cell_type": "code",
   "execution_count": 6,
   "id": "af0b2ee2",
   "metadata": {
    "ExecuteTime": {
     "end_time": "2025-02-09T12:39:46.205036Z",
     "start_time": "2025-02-09T12:39:31.193355Z"
    }
   },
   "outputs": [],
   "source": [
    "D01 = features[features['activity']=='D01'].head(dnum).copy()\n",
    "D02 = features[features['activity']=='D02'].head(dnum).copy()\n",
    "D03 = features[features['activity']=='D03'].head(dnum).copy()\n",
    "D04 = features[features['activity']=='D04'].head(dnum).copy()\n",
    "D05 = features[features['activity']=='D05'].head(dnum).copy()\n",
    "D06 = features[features['activity']=='D06'].head(dnum).copy()\n",
    "D07 = features[features['activity']=='D07'].head(dnum).copy()\n",
    "D08 = features[features['activity']=='D08'].head(dnum).copy()\n",
    "D09 = features[features['activity']=='D09'].head(dnum).copy()\n",
    "D10 = features[features['activity']=='D10'].head(dnum).copy()\n",
    "D11 = features[features['activity']=='D11'].head(dnum).copy()\n",
    "D12 = features[features['activity']=='D12'].head(dnum).copy()\n",
    "D13 = features[features['activity']=='D13'].head(dnum).copy()\n",
    "D14 = features[features['activity']=='D14'].head(dnum).copy()\n",
    "D15 = features[features['activity']=='D15'].head(dnum).copy()\n",
    "D16 = features[features['activity']=='D16'].head(dnum).copy()\n",
    "D17 = features[features['activity']=='D17'].head(dnum).copy()\n",
    "D18 = features[features['activity']=='D18'].head(dnum).copy()\n",
    "D19 = features[features['activity']=='D19'].head(dnum).copy()"
   ]
  },
  {
   "cell_type": "code",
   "execution_count": 7,
   "id": "55f8bc7c",
   "metadata": {
    "ExecuteTime": {
     "end_time": "2025-02-09T12:39:57.970623Z",
     "start_time": "2025-02-09T12:39:46.206783Z"
    }
   },
   "outputs": [],
   "source": [
    "F01 = features[features['activity']=='F01'].head(fnum).copy()\n",
    "F02 = features[features['activity']=='F02'].head(fnum).copy()\n",
    "F03 = features[features['activity']=='F03'].head(fnum).copy()\n",
    "F04 = features[features['activity']=='F04'].head(fnum).copy()\n",
    "F05 = features[features['activity']=='F05'].head(fnum).copy()\n",
    "F06 = features[features['activity']=='F06'].head(fnum).copy()\n",
    "F07 = features[features['activity']=='F07'].head(fnum).copy()\n",
    "F08 = features[features['activity']=='F08'].head(fnum).copy()\n",
    "F09 = features[features['activity']=='F09'].head(fnum).copy()\n",
    "F10 = features[features['activity']=='F10'].head(fnum).copy()\n",
    "F11 = features[features['activity']=='F11'].head(fnum).copy()\n",
    "F12 = features[features['activity']=='F12'].head(fnum).copy()\n",
    "F13 = features[features['activity']=='F13'].head(fnum).copy()\n",
    "F14 = features[features['activity']=='F14'].head(fnum).copy()\n",
    "F15 = features[features['activity']=='F15'].head(fnum).copy()"
   ]
  },
  {
   "cell_type": "code",
   "execution_count": 8,
   "id": "4760754a",
   "metadata": {
    "ExecuteTime": {
     "end_time": "2025-02-09T12:39:57.978907Z",
     "start_time": "2025-02-09T12:39:57.972151Z"
    }
   },
   "outputs": [],
   "source": [
    "df = pd.DataFrame()\n",
    "df = pd.concat([df, F01, F02, F03, F04, F05, F06, F07, F08, F09, F10, F11, F12, F13, F14, F15])\n",
    "df = pd.concat([df, D01, D02, D03, D04, D05, D06, D07, D08, D09, D10, D11, D15, D16, D17, D18, D19])"
   ]
  },
  {
   "cell_type": "code",
   "execution_count": 9,
   "id": "e6c82f4c",
   "metadata": {
    "ExecuteTime": {
     "end_time": "2025-02-09T12:39:57.988246Z",
     "start_time": "2025-02-09T12:39:57.983193Z"
    }
   },
   "outputs": [
    {
     "data": {
      "text/plain": [
       "activity\n",
       "F01    365\n",
       "F09    365\n",
       "F02    365\n",
       "F15    365\n",
       "F14    365\n",
       "F13    365\n",
       "F11    365\n",
       "F10    365\n",
       "F12    365\n",
       "F08    365\n",
       "F07    365\n",
       "F06    365\n",
       "F05    365\n",
       "F04    365\n",
       "F03    365\n",
       "D09    200\n",
       "D18    200\n",
       "D17    200\n",
       "D16    200\n",
       "D15    200\n",
       "D11    200\n",
       "D10    200\n",
       "D01    200\n",
       "D08    200\n",
       "D07    200\n",
       "D06    200\n",
       "D05    200\n",
       "D04    200\n",
       "D03    200\n",
       "D02    200\n",
       "D19    200\n",
       "Name: count, dtype: int64"
      ]
     },
     "execution_count": 9,
     "metadata": {},
     "output_type": "execute_result"
    }
   ],
   "source": [
    "df['activity'].value_counts()"
   ]
  },
  {
   "cell_type": "code",
   "execution_count": 10,
   "id": "3ca7b3c8",
   "metadata": {
    "ExecuteTime": {
     "end_time": "2025-02-09T12:39:58.169083Z",
     "start_time": "2025-02-09T12:39:57.989847Z"
    }
   },
   "outputs": [],
   "source": [
    "features = df.copy()"
   ]
  },
  {
   "cell_type": "code",
   "execution_count": 11,
   "id": "37032aab",
   "metadata": {
    "ExecuteTime": {
     "end_time": "2025-02-09T12:39:58.239232Z",
     "start_time": "2025-02-09T12:39:58.171392Z"
    }
   },
   "outputs": [
    {
     "name": "stderr",
     "output_type": "stream",
     "text": [
      "/var/folders/_z/gryfr07n59jgb3wrd062h1ym0000gn/T/ipykernel_82671/4220643108.py:35: FutureWarning: Downcasting behavior in `replace` is deprecated and will be removed in a future version. To retain the old behavior, explicitly call `result.infer_objects(copy=False)`. To opt-in to the future behavior, set `pd.set_option('future.no_silent_downcasting', True)`\n",
      "  features = features.replace({'activity':'F15'},1)\n"
     ]
    }
   ],
   "source": [
    "features = features.replace({'activity':'D01'},0)\n",
    "features = features.replace({'activity':'D01'},0)\n",
    "features = features.replace({'activity':'D02'},0)\n",
    "features = features.replace({'activity':'D03'},0)\n",
    "features = features.replace({'activity':'D04'},0)\n",
    "features = features.replace({'activity':'D05'},0)\n",
    "features = features.replace({'activity':'D06'},0)\n",
    "features = features.replace({'activity':'D07'},0)\n",
    "features = features.replace({'activity':'D08'},0)\n",
    "features = features.replace({'activity':'D09'},0)\n",
    "features = features.replace({'activity':'D10'},0)\n",
    "features = features.replace({'activity':'D11'},0)\n",
    "features = features.replace({'activity':'D12'},0)\n",
    "features = features.replace({'activity':'D13'},0)\n",
    "features = features.replace({'activity':'D14'},0)\n",
    "features = features.replace({'activity':'D15'},0)\n",
    "features = features.replace({'activity':'D16'},0)\n",
    "features = features.replace({'activity':'D17'},0)\n",
    "features = features.replace({'activity':'D18'},0)\n",
    "features = features.replace({'activity':'D19'},0)\n",
    "features = features.replace({'activity':'F01'},1)\n",
    "features = features.replace({'activity':'F02'},1)\n",
    "features = features.replace({'activity':'F03'},1)\n",
    "features = features.replace({'activity':'F04'},1)\n",
    "features = features.replace({'activity':'F05'},1)\n",
    "features = features.replace({'activity':'F06'},1)\n",
    "features = features.replace({'activity':'F07'},1)\n",
    "features = features.replace({'activity':'F08'},1)\n",
    "features = features.replace({'activity':'F09'},1)\n",
    "features = features.replace({'activity':'F10'},1)\n",
    "features = features.replace({'activity':'F11'},1)\n",
    "features = features.replace({'activity':'F12'},1)\n",
    "features = features.replace({'activity':'F13'},1)\n",
    "features = features.replace({'activity':'F14'},1)\n",
    "features = features.replace({'activity':'F15'},1)\n",
    "features = features.replace({'activity':'F15'},1)"
   ]
  },
  {
   "cell_type": "code",
   "execution_count": 12,
   "id": "ff8e12e0",
   "metadata": {
    "ExecuteTime": {
     "end_time": "2025-02-09T12:39:58.245847Z",
     "start_time": "2025-02-09T12:39:58.240864Z"
    }
   },
   "outputs": [
    {
     "data": {
      "text/plain": [
       "activity\n",
       "1    5475\n",
       "0    3200\n",
       "Name: count, dtype: int64"
      ]
     },
     "execution_count": 12,
     "metadata": {},
     "output_type": "execute_result"
    }
   ],
   "source": [
    "features['activity'].value_counts()"
   ]
  },
  {
   "cell_type": "code",
   "execution_count": 13,
   "id": "f52d3cef",
   "metadata": {
    "ExecuteTime": {
     "end_time": "2025-02-09T12:39:58.263139Z",
     "start_time": "2025-02-09T12:39:58.247633Z"
    }
   },
   "outputs": [
    {
     "data": {
      "text/html": [
       "<div>\n",
       "<style scoped>\n",
       "    .dataframe tbody tr th:only-of-type {\n",
       "        vertical-align: middle;\n",
       "    }\n",
       "\n",
       "    .dataframe tbody tr th {\n",
       "        vertical-align: top;\n",
       "    }\n",
       "\n",
       "    .dataframe thead th {\n",
       "        text-align: right;\n",
       "    }\n",
       "</style>\n",
       "<table border=\"1\" class=\"dataframe\">\n",
       "  <thead>\n",
       "    <tr style=\"text-align: right;\">\n",
       "      <th></th>\n",
       "      <th>ADXL_x</th>\n",
       "      <th>ADXL_y</th>\n",
       "      <th>ADXL_z</th>\n",
       "      <th>ITG_x</th>\n",
       "      <th>ITG_y</th>\n",
       "      <th>ITG_z</th>\n",
       "      <th>MMA_x</th>\n",
       "      <th>MMA_y</th>\n",
       "      <th>MMA_z</th>\n",
       "      <th>subject</th>\n",
       "      <th>activity</th>\n",
       "      <th>trial</th>\n",
       "    </tr>\n",
       "  </thead>\n",
       "  <tbody>\n",
       "    <tr>\n",
       "      <th>NaN</th>\n",
       "      <td>0.0</td>\n",
       "      <td>1.0</td>\n",
       "      <td>2.0</td>\n",
       "      <td>3.0</td>\n",
       "      <td>4.0</td>\n",
       "      <td>5.0</td>\n",
       "      <td>6.0</td>\n",
       "      <td>7.0</td>\n",
       "      <td>8.0</td>\n",
       "      <td>SA01</td>\n",
       "      <td>1</td>\n",
       "      <td>R01</td>\n",
       "    </tr>\n",
       "    <tr>\n",
       "      <th>0.0</th>\n",
       "      <td>-9.0</td>\n",
       "      <td>-257.0</td>\n",
       "      <td>-25.0</td>\n",
       "      <td>84.0</td>\n",
       "      <td>247.0</td>\n",
       "      <td>27.0</td>\n",
       "      <td>-120.0</td>\n",
       "      <td>-987.0</td>\n",
       "      <td>63.0</td>\n",
       "      <td>SA01</td>\n",
       "      <td>1</td>\n",
       "      <td>R01</td>\n",
       "    </tr>\n",
       "    <tr>\n",
       "      <th>1.0</th>\n",
       "      <td>-3.0</td>\n",
       "      <td>-263.0</td>\n",
       "      <td>-23.0</td>\n",
       "      <td>99.0</td>\n",
       "      <td>258.0</td>\n",
       "      <td>35.0</td>\n",
       "      <td>-110.0</td>\n",
       "      <td>-1016.0</td>\n",
       "      <td>68.0</td>\n",
       "      <td>SA01</td>\n",
       "      <td>1</td>\n",
       "      <td>R01</td>\n",
       "    </tr>\n",
       "    <tr>\n",
       "      <th>2.0</th>\n",
       "      <td>-1.0</td>\n",
       "      <td>-270.0</td>\n",
       "      <td>-22.0</td>\n",
       "      <td>114.0</td>\n",
       "      <td>272.0</td>\n",
       "      <td>45.0</td>\n",
       "      <td>-94.0</td>\n",
       "      <td>-1037.0</td>\n",
       "      <td>69.0</td>\n",
       "      <td>SA01</td>\n",
       "      <td>1</td>\n",
       "      <td>R01</td>\n",
       "    </tr>\n",
       "    <tr>\n",
       "      <th>3.0</th>\n",
       "      <td>1.0</td>\n",
       "      <td>-277.0</td>\n",
       "      <td>-24.0</td>\n",
       "      <td>127.0</td>\n",
       "      <td>286.0</td>\n",
       "      <td>57.0</td>\n",
       "      <td>-81.0</td>\n",
       "      <td>-1062.0</td>\n",
       "      <td>69.0</td>\n",
       "      <td>SA01</td>\n",
       "      <td>1</td>\n",
       "      <td>R01</td>\n",
       "    </tr>\n",
       "    <tr>\n",
       "      <th>...</th>\n",
       "      <td>...</td>\n",
       "      <td>...</td>\n",
       "      <td>...</td>\n",
       "      <td>...</td>\n",
       "      <td>...</td>\n",
       "      <td>...</td>\n",
       "      <td>...</td>\n",
       "      <td>...</td>\n",
       "      <td>...</td>\n",
       "      <td>...</td>\n",
       "      <td>...</td>\n",
       "      <td>...</td>\n",
       "    </tr>\n",
       "    <tr>\n",
       "      <th>194.0</th>\n",
       "      <td>4.0</td>\n",
       "      <td>-259.0</td>\n",
       "      <td>-21.0</td>\n",
       "      <td>-56.0</td>\n",
       "      <td>2.0</td>\n",
       "      <td>-5.0</td>\n",
       "      <td>18.0</td>\n",
       "      <td>-1008.0</td>\n",
       "      <td>35.0</td>\n",
       "      <td>SA01</td>\n",
       "      <td>0</td>\n",
       "      <td>R01</td>\n",
       "    </tr>\n",
       "    <tr>\n",
       "      <th>195.0</th>\n",
       "      <td>9.0</td>\n",
       "      <td>-261.0</td>\n",
       "      <td>-27.0</td>\n",
       "      <td>-59.0</td>\n",
       "      <td>2.0</td>\n",
       "      <td>-5.0</td>\n",
       "      <td>23.0</td>\n",
       "      <td>-1014.0</td>\n",
       "      <td>35.0</td>\n",
       "      <td>SA01</td>\n",
       "      <td>0</td>\n",
       "      <td>R01</td>\n",
       "    </tr>\n",
       "    <tr>\n",
       "      <th>196.0</th>\n",
       "      <td>4.0</td>\n",
       "      <td>-261.0</td>\n",
       "      <td>-25.0</td>\n",
       "      <td>-62.0</td>\n",
       "      <td>3.0</td>\n",
       "      <td>-5.0</td>\n",
       "      <td>20.0</td>\n",
       "      <td>-1011.0</td>\n",
       "      <td>33.0</td>\n",
       "      <td>SA01</td>\n",
       "      <td>0</td>\n",
       "      <td>R01</td>\n",
       "    </tr>\n",
       "    <tr>\n",
       "      <th>197.0</th>\n",
       "      <td>4.0</td>\n",
       "      <td>-262.0</td>\n",
       "      <td>-21.0</td>\n",
       "      <td>-65.0</td>\n",
       "      <td>3.0</td>\n",
       "      <td>-4.0</td>\n",
       "      <td>18.0</td>\n",
       "      <td>-1009.0</td>\n",
       "      <td>36.0</td>\n",
       "      <td>SA01</td>\n",
       "      <td>0</td>\n",
       "      <td>R01</td>\n",
       "    </tr>\n",
       "    <tr>\n",
       "      <th>198.0</th>\n",
       "      <td>6.0</td>\n",
       "      <td>-259.0</td>\n",
       "      <td>-20.0</td>\n",
       "      <td>-67.0</td>\n",
       "      <td>2.0</td>\n",
       "      <td>-6.0</td>\n",
       "      <td>19.0</td>\n",
       "      <td>-1012.0</td>\n",
       "      <td>33.0</td>\n",
       "      <td>SA01</td>\n",
       "      <td>0</td>\n",
       "      <td>R01</td>\n",
       "    </tr>\n",
       "  </tbody>\n",
       "</table>\n",
       "<p>8675 rows × 12 columns</p>\n",
       "</div>"
      ],
      "text/plain": [
       "       ADXL_x  ADXL_y  ADXL_z  ITG_x  ITG_y  ITG_z  MMA_x   MMA_y  MMA_z  \\\n",
       "NaN       0.0     1.0     2.0    3.0    4.0    5.0    6.0     7.0    8.0   \n",
       "0.0      -9.0  -257.0   -25.0   84.0  247.0   27.0 -120.0  -987.0   63.0   \n",
       "1.0      -3.0  -263.0   -23.0   99.0  258.0   35.0 -110.0 -1016.0   68.0   \n",
       "2.0      -1.0  -270.0   -22.0  114.0  272.0   45.0  -94.0 -1037.0   69.0   \n",
       "3.0       1.0  -277.0   -24.0  127.0  286.0   57.0  -81.0 -1062.0   69.0   \n",
       "...       ...     ...     ...    ...    ...    ...    ...     ...    ...   \n",
       "194.0     4.0  -259.0   -21.0  -56.0    2.0   -5.0   18.0 -1008.0   35.0   \n",
       "195.0     9.0  -261.0   -27.0  -59.0    2.0   -5.0   23.0 -1014.0   35.0   \n",
       "196.0     4.0  -261.0   -25.0  -62.0    3.0   -5.0   20.0 -1011.0   33.0   \n",
       "197.0     4.0  -262.0   -21.0  -65.0    3.0   -4.0   18.0 -1009.0   36.0   \n",
       "198.0     6.0  -259.0   -20.0  -67.0    2.0   -6.0   19.0 -1012.0   33.0   \n",
       "\n",
       "      subject  activity trial  \n",
       "NaN      SA01         1   R01  \n",
       "0.0      SA01         1   R01  \n",
       "1.0      SA01         1   R01  \n",
       "2.0      SA01         1   R01  \n",
       "3.0      SA01         1   R01  \n",
       "...       ...       ...   ...  \n",
       "194.0    SA01         0   R01  \n",
       "195.0    SA01         0   R01  \n",
       "196.0    SA01         0   R01  \n",
       "197.0    SA01         0   R01  \n",
       "198.0    SA01         0   R01  \n",
       "\n",
       "[8675 rows x 12 columns]"
      ]
     },
     "execution_count": 13,
     "metadata": {},
     "output_type": "execute_result"
    }
   ],
   "source": [
    "features"
   ]
  },
  {
   "cell_type": "code",
   "execution_count": 14,
   "id": "a7800f5d",
   "metadata": {
    "ExecuteTime": {
     "end_time": "2025-02-09T12:39:58.268401Z",
     "start_time": "2025-02-09T12:39:58.264471Z"
    }
   },
   "outputs": [
    {
     "name": "stdout",
     "output_type": "stream",
     "text": [
      "{'SA01'}\n"
     ]
    }
   ],
   "source": [
    "print (set(features['subject']))"
   ]
  },
  {
   "cell_type": "code",
   "execution_count": 15,
   "id": "2631a80b",
   "metadata": {
    "ExecuteTime": {
     "end_time": "2025-02-09T12:39:58.273650Z",
     "start_time": "2025-02-09T12:39:58.269816Z"
    }
   },
   "outputs": [
    {
     "name": "stdout",
     "output_type": "stream",
     "text": [
      "Index(['ADXL_x', 'ADXL_y', 'ADXL_z', 'ITG_x', 'ITG_y', 'ITG_z', 'MMA_x',\n",
      "       'MMA_y', 'MMA_z', 'activity'],\n",
      "      dtype='object')\n"
     ]
    }
   ],
   "source": [
    "features = features[[ft for ft in features.columns if ft not in ['subject', 'trial']]]\n",
    "print(features.columns)"
   ]
  },
  {
   "cell_type": "code",
   "execution_count": 16,
   "id": "de81bffa",
   "metadata": {
    "ExecuteTime": {
     "end_time": "2025-02-09T12:39:58.282894Z",
     "start_time": "2025-02-09T12:39:58.275721Z"
    }
   },
   "outputs": [],
   "source": [
    "from sklearn.preprocessing import StandardScaler\n",
    "\n",
    "feature_columns = [col for col in features.columns if col != 'activity']\n",
    "\n",
    "scaler = StandardScaler()\n",
    "\n",
    "features_scaled = features.copy()\n",
    "features_scaled[feature_columns] = scaler.fit_transform(features[feature_columns])"
   ]
  },
  {
   "cell_type": "code",
   "execution_count": 17,
   "id": "1744cf6b",
   "metadata": {
    "ExecuteTime": {
     "end_time": "2025-02-09T12:39:58.292623Z",
     "start_time": "2025-02-09T12:39:58.285085Z"
    }
   },
   "outputs": [
    {
     "name": "stdout",
     "output_type": "stream",
     "text": [
      "(1920, 10) (1280, 10) (3285, 10) (2190, 10)\n"
     ]
    }
   ],
   "source": [
    "adl_count = features_scaled['activity'].value_counts()[0]\n",
    "fall_count = features_scaled['activity'].value_counts()[1]\n",
    "\n",
    "adl_mask = features_scaled['activity'] == 0\n",
    "adl_data = features_scaled[adl_mask]\n",
    "adl1 = adl_data.iloc[:int(adl_count * 0.6)]\n",
    "adl2 = adl_data.iloc[int(adl_count * 0.6):]\n",
    "\n",
    "fall_mask = features_scaled['activity'] == 1\n",
    "fall_data = features_scaled[fall_mask]\n",
    "fall1 = fall_data.iloc[:int(fall_count * 0.6)]\n",
    "fall2 = fall_data.iloc[int(fall_count * 0.6):]\n",
    "\n",
    "print(adl1.shape, adl2.shape, fall1.shape, fall2.shape)"
   ]
  },
  {
   "cell_type": "code",
   "execution_count": 18,
   "id": "d73f321a",
   "metadata": {
    "ExecuteTime": {
     "end_time": "2025-02-09T12:39:58.297745Z",
     "start_time": "2025-02-09T12:39:58.294283Z"
    }
   },
   "outputs": [],
   "source": [
    "def split_sequences(sequences, n_steps):\n",
    "    X, y = [], []\n",
    "    for i in range(len(sequences) - n_steps + 1):\n",
    "        end_ix = i + n_steps\n",
    "        \n",
    "        seq_x = sequences.iloc[i:end_ix].iloc[:, :-1] \n",
    "        seq_y = sequences.iloc[end_ix-1].iloc[-1]     \n",
    "        \n",
    "        X.append(seq_x.values)  \n",
    "        y.append(seq_y)\n",
    "    \n",
    "    return np.array(X), np.array(y)"
   ]
  },
  {
   "cell_type": "code",
   "execution_count": 19,
   "id": "befa2ffc",
   "metadata": {
    "ExecuteTime": {
     "end_time": "2025-02-09T12:40:00.180812Z",
     "start_time": "2025-02-09T12:39:58.299605Z"
    }
   },
   "outputs": [
    {
     "name": "stdout",
     "output_type": "stream",
     "text": [
      "after : (1901, 20, 9), (3451, 20, 9)\n",
      "(1901,) (3451,)\n"
     ]
    }
   ],
   "source": [
    "WINDOW_LENGTH = 20\n",
    "train_data, train_labels = split_sequences(adl1, WINDOW_LENGTH)\n",
    "test_data, test_labels = split_sequences(pd.concat([adl2, fall2]), WINDOW_LENGTH)\n",
    "print (f\"after : {train_data.shape}, {test_data.shape}\")\n",
    "print (train_labels.shape, test_labels.shape)"
   ]
  },
  {
   "cell_type": "markdown",
   "id": "2b7fb1ac",
   "metadata": {},
   "source": [
    "----"
   ]
  },
  {
   "cell_type": "code",
   "execution_count": 20,
   "id": "e52e7dcc",
   "metadata": {
    "ExecuteTime": {
     "end_time": "2025-02-09T12:40:00.184626Z",
     "start_time": "2025-02-09T12:40:00.182367Z"
    }
   },
   "outputs": [],
   "source": [
    "BATCH_SIZE = 32\n",
    "EPOCHS = 200\n",
    "LEARNING_RATE = 0.001\n",
    "device = torch.device('cuda' if torch.cuda.is_available() else 'cpu')"
   ]
  },
  {
   "cell_type": "code",
   "execution_count": 21,
   "id": "5f54bc25",
   "metadata": {
    "ExecuteTime": {
     "end_time": "2025-02-09T12:40:00.190855Z",
     "start_time": "2025-02-09T12:40:00.186622Z"
    }
   },
   "outputs": [],
   "source": [
    "class SisFallDataset(Dataset):\n",
    "    def __init__(self, data):\n",
    "        if isinstance(data, torch.Tensor):\n",
    "            self.data = data.float()  \n",
    "        else:\n",
    "            self.data = torch.FloatTensor(data) \n",
    "    \n",
    "    def __len__(self):\n",
    "        return len(self.data)\n",
    "    \n",
    "    def __getitem__(self, idx):\n",
    "        return self.data[idx]\n",
    "    \n",
    "train_dataset = SisFallDataset(train_data)\n",
    "train_loader = DataLoader(train_dataset, batch_size=BATCH_SIZE, shuffle=True)"
   ]
  },
  {
   "cell_type": "code",
   "execution_count": 22,
   "id": "2001e948",
   "metadata": {
    "ExecuteTime": {
     "end_time": "2025-02-09T12:40:00.205978Z",
     "start_time": "2025-02-09T12:40:00.192850Z"
    }
   },
   "outputs": [],
   "source": [
    "class DoubleConv(nn.Module): # Enhanced version\n",
    "    def __init__(self, in_channels, out_channels, time_embed_dim=32):\n",
    "        super().__init__()\n",
    "        \n",
    "        self.time_mlp = nn.Sequential(\n",
    "            nn.Linear(time_embed_dim, out_channels),\n",
    "            nn.ReLU(),\n",
    "            nn.Linear(out_channels, out_channels)\n",
    "        )\n",
    "        \n",
    "        self.conv = nn.Sequential(\n",
    "            nn.Conv1d(in_channels, out_channels, kernel_size=3, padding=1),\n",
    "            nn.BatchNorm1d(out_channels),\n",
    "            nn.GELU(),  \n",
    "            nn.Dropout(0.2),\n",
    "            nn.Conv1d(out_channels, out_channels, kernel_size=3, padding=1),\n",
    "            nn.BatchNorm1d(out_channels),\n",
    "            nn.GELU(),\n",
    "            nn.Dropout(0.2)\n",
    "        )\n",
    "        \n",
    "        self.residual = nn.Conv1d(in_channels, out_channels, kernel_size=1) if in_channels != out_channels else nn.Identity()\n",
    "    \n",
    "    def forward(self, x, t=None):\n",
    "        if t is not None:\n",
    "            time_embed = self.time_mlp(t)\n",
    "            x = x + time_embed.unsqueeze(-1)\n",
    "        \n",
    "        conv_out = self.conv(x)\n",
    "        return conv_out + self.residual(x)\n",
    "    \n",
    "\n",
    "class UNet1D(nn.Module):\n",
    "    def __init__(self, in_channels=9, out_channels=9):\n",
    "        super(UNet1D, self).__init__()\n",
    "        \n",
    "        # Encoder\n",
    "        self.enc1 = DoubleConv(in_channels, 64)\n",
    "        self.pool1 = nn.MaxPool1d(kernel_size=2, stride=2)\n",
    "        \n",
    "        self.enc2 = DoubleConv(64, 128)\n",
    "        self.pool2 = nn.MaxPool1d(kernel_size=2, stride=2)\n",
    "        \n",
    "        self.enc3 = DoubleConv(128, 256)\n",
    "        self.pool3 = nn.MaxPool1d(kernel_size=2, stride=2)\n",
    "        \n",
    "        # Bottleneck\n",
    "        self.bottleneck = DoubleConv(256, 512)\n",
    "        \n",
    "        # Decoder\n",
    "        self.upconv3 = nn.ConvTranspose1d(512, 256, kernel_size=2, stride=2, padding=0)\n",
    "        self.dec3 = DoubleConv(512, 256)  # 512 = 256(upconv) + 256(skip)\n",
    "        \n",
    "        self.upconv2 = nn.ConvTranspose1d(256, 128, kernel_size=2, stride=2, padding=0)\n",
    "        self.dec2 = DoubleConv(256, 128)  # 256 = 128(upconv) + 128(skip)\n",
    "        \n",
    "        self.upconv1 = nn.ConvTranspose1d(128, 64, kernel_size=2, stride=2, padding=0)\n",
    "        self.dec1 = DoubleConv(128, 64)   # 128 = 64(upconv) + 64(skip)\n",
    "        \n",
    "        self.final_conv = nn.Conv1d(64, out_channels, kernel_size=1)\n",
    "        \n",
    "    def calculate_padding(self, x_size, target_size):\n",
    "        \"\"\"Helper function to calculate padding needed\"\"\"\n",
    "        diff = target_size - x_size\n",
    "        return diff // 2, diff - diff // 2\n",
    "\n",
    "    def forward(self, x, t):\n",
    "        # 입력이 튜플일 경우 처리\n",
    "        if isinstance(x, tuple):\n",
    "            x = x[0]\n",
    "\n",
    "        # 데이터 차원 확인 및 조정\n",
    "        if len(x.shape) == 2:\n",
    "            x = x.unsqueeze(0)  # 배치 차원 추가\n",
    "\n",
    "        # 차원 순서 변경\n",
    "        x = x.permute(0, 2, 1) if x.shape[1] != x.shape[2] else x\n",
    "\n",
    "        e1 = self.enc1(x)           # Save for skip connection\n",
    "        p1 = self.pool1(e1)\n",
    "\n",
    "        e2 = self.enc2(p1)          # Save for skip connection\n",
    "        p2 = self.pool2(e2)\n",
    "\n",
    "        e3 = self.enc3(p2)          # Save for skip connection\n",
    "        p3 = self.pool3(e3)\n",
    "\n",
    "        b = self.bottleneck(p3)\n",
    "\n",
    "        d3 = self.upconv3(b)\n",
    "        if d3.shape[-1] != e3.shape[-1]:\n",
    "            pad_left, pad_right = self.calculate_padding(d3.shape[-1], e3.shape[-1])\n",
    "            d3 = F.pad(d3, (pad_left, pad_right))\n",
    "        d3 = torch.cat([d3, e3], dim=1)\n",
    "        d3 = self.dec3(d3)\n",
    "\n",
    "        d2 = self.upconv2(d3)\n",
    "        if d2.shape[-1] != e2.shape[-1]:\n",
    "            pad_left, pad_right = self.calculate_padding(d2.shape[-1], e2.shape[-1])\n",
    "            d2 = F.pad(d2, (pad_left, pad_right))\n",
    "        d2 = torch.cat([d2, e2], dim=1)\n",
    "        d2 = self.dec2(d2)\n",
    "\n",
    "        d1 = self.upconv1(d2)\n",
    "        if d1.shape[-1] != e1.shape[-1]:\n",
    "            pad_left, pad_right = self.calculate_padding(d1.shape[-1], e1.shape[-1])\n",
    "            d1 = F.pad(d1, (pad_left, pad_right))\n",
    "        d1 = torch.cat([d1, e1], dim=1)\n",
    "        d1 = self.dec1(d1)\n",
    "\n",
    "        out = self.final_conv(d1)\n",
    "        out = out.permute(0, 2, 1)\n",
    "\n",
    "        return out"
   ]
  },
  {
   "cell_type": "code",
   "execution_count": 23,
   "id": "54cdaa38",
   "metadata": {
    "ExecuteTime": {
     "end_time": "2025-02-09T12:40:00.214127Z",
     "start_time": "2025-02-09T12:40:00.207881Z"
    }
   },
   "outputs": [],
   "source": [
    "def cosine_beta_schedule(timesteps, s=0.008):\n",
    "    steps = timesteps + 1\n",
    "    x = torch.linspace(0, timesteps, steps)\n",
    "    alphas_cumprod = torch.cos(((x / timesteps) + s) / (1 + s) * torch.pi * 0.5) ** 2\n",
    "    alphas_cumprod = alphas_cumprod / alphas_cumprod[0]\n",
    "    betas = 1 - (alphas_cumprod[1:] / alphas_cumprod[:-1])\n",
    "    return torch.clip(betas, 0.0001, 0.02)\n",
    "\n",
    "T = 500  \n",
    "beta = cosine_beta_schedule(T)\n",
    "alpha = 1 - beta\n",
    "alpha_bar = torch.cumprod(alpha, dim=0)\n",
    "\n",
    "def q_sample(x_start, t):\n",
    "    noise = torch.randn_like(x_start)\n",
    "    sqrt_alpha_bar = torch.sqrt(alpha_bar[t])[:, None, None]  \n",
    "    sqrt_one_minus_alpha_bar = torch.sqrt(1 - alpha_bar[t])[:, None, None] \n",
    "    return sqrt_alpha_bar * x_start + sqrt_one_minus_alpha_bar * noise, noise  \n",
    "\n",
    "def p_sample(model, x_t, t):\n",
    "    predicted_noise = model(x_t, t)\n",
    "    sqrt_alpha = torch.sqrt(alpha_bar[t])[:, None, None]\n",
    "    sqrt_one_minus_alpha = torch.sqrt(1 - alpha_bar[t])[:, None, None]\n",
    "    return (x_t - sqrt_one_minus_alpha * predicted_noise) / sqrt_alpha"
   ]
  },
  {
   "cell_type": "code",
   "execution_count": 24,
   "id": "23596b58",
   "metadata": {
    "ExecuteTime": {
     "end_time": "2025-02-09T12:40:01.195841Z",
     "start_time": "2025-02-09T12:40:00.216071Z"
    }
   },
   "outputs": [],
   "source": [
    "model = UNet1D()\n",
    "criterion = nn.MSELoss()\n",
    "optimizer = optim.Adam(model.parameters(), lr=LEARNING_RATE)"
   ]
  },
  {
   "cell_type": "code",
   "execution_count": 25,
   "id": "a54827fd",
   "metadata": {
    "ExecuteTime": {
     "end_time": "2025-02-09T12:59:21.534963Z",
     "start_time": "2025-02-09T12:40:01.197763Z"
    }
   },
   "outputs": [
    {
     "name": "stdout",
     "output_type": "stream",
     "text": [
      "Epoch 1, Loss: 1.0507\n",
      "Epoch 2, Loss: 1.0091\n",
      "Epoch 3, Loss: 1.0054\n",
      "Epoch 4, Loss: 1.0019\n",
      "Epoch 5, Loss: 0.9981\n",
      "Epoch 6, Loss: 1.0057\n",
      "Epoch 7, Loss: 1.0035\n",
      "Epoch 8, Loss: 1.0024\n",
      "Epoch 9, Loss: 1.0011\n",
      "Epoch 10, Loss: 1.0011\n",
      "Epoch 11, Loss: 1.0034\n",
      "Epoch 12, Loss: 1.0009\n",
      "Epoch 13, Loss: 1.0000\n",
      "Epoch 14, Loss: 1.0023\n",
      "Epoch 15, Loss: 0.9957\n",
      "Epoch 16, Loss: 0.9984\n",
      "Epoch 17, Loss: 1.0005\n",
      "Epoch 18, Loss: 0.9971\n",
      "Epoch 19, Loss: 1.0004\n",
      "Epoch 20, Loss: 1.0011\n",
      "Epoch 21, Loss: 1.0028\n",
      "Epoch 22, Loss: 1.0004\n",
      "Epoch 23, Loss: 0.9983\n",
      "Epoch 24, Loss: 0.9993\n",
      "Epoch 25, Loss: 1.0012\n",
      "Epoch 26, Loss: 0.9997\n",
      "Epoch 27, Loss: 0.9990\n",
      "Epoch 28, Loss: 0.9988\n",
      "Epoch 29, Loss: 1.0014\n",
      "Epoch 30, Loss: 1.0008\n",
      "Epoch 31, Loss: 1.0029\n",
      "Epoch 32, Loss: 1.0027\n",
      "Epoch 33, Loss: 0.9995\n",
      "Epoch 34, Loss: 1.0018\n",
      "Epoch 35, Loss: 1.0021\n",
      "Epoch 36, Loss: 1.0048\n",
      "Epoch 37, Loss: 0.9988\n",
      "Epoch 38, Loss: 1.0011\n",
      "Epoch 39, Loss: 1.0030\n",
      "Epoch 40, Loss: 0.9989\n",
      "Epoch 41, Loss: 1.0005\n",
      "Epoch 42, Loss: 1.0045\n",
      "Epoch 43, Loss: 0.9931\n",
      "Epoch 44, Loss: 0.9989\n",
      "Epoch 45, Loss: 1.0029\n",
      "Epoch 46, Loss: 1.0033\n",
      "Epoch 47, Loss: 1.0024\n",
      "Epoch 48, Loss: 1.0046\n",
      "Epoch 49, Loss: 0.9979\n",
      "Epoch 50, Loss: 0.9965\n",
      "Epoch 51, Loss: 0.9993\n",
      "Epoch 52, Loss: 1.0005\n",
      "Epoch 53, Loss: 0.9996\n",
      "Epoch 54, Loss: 1.0000\n",
      "Epoch 55, Loss: 1.0035\n",
      "Epoch 56, Loss: 1.0023\n",
      "Epoch 57, Loss: 1.0002\n",
      "Epoch 58, Loss: 1.0023\n",
      "Epoch 59, Loss: 1.0046\n",
      "Epoch 60, Loss: 1.0018\n",
      "Epoch 61, Loss: 1.0031\n",
      "Epoch 62, Loss: 0.9973\n",
      "Epoch 63, Loss: 0.9988\n",
      "Epoch 64, Loss: 1.0012\n",
      "Epoch 65, Loss: 0.9995\n",
      "Epoch 66, Loss: 0.9957\n",
      "Epoch 67, Loss: 1.0002\n",
      "Epoch 68, Loss: 0.9985\n",
      "Epoch 69, Loss: 1.0009\n",
      "Epoch 70, Loss: 1.0003\n",
      "Epoch 71, Loss: 1.0028\n",
      "Epoch 72, Loss: 1.0025\n",
      "Epoch 73, Loss: 0.9985\n",
      "Epoch 74, Loss: 0.9969\n",
      "Epoch 75, Loss: 1.0008\n",
      "Epoch 76, Loss: 1.0028\n",
      "Epoch 77, Loss: 0.9994\n",
      "Epoch 78, Loss: 0.9975\n",
      "Epoch 79, Loss: 1.0020\n",
      "Epoch 80, Loss: 1.0011\n",
      "Epoch 81, Loss: 1.0026\n",
      "Epoch 82, Loss: 1.0013\n",
      "Epoch 83, Loss: 0.9993\n",
      "Epoch 84, Loss: 0.9945\n",
      "Epoch 85, Loss: 1.0014\n",
      "Epoch 86, Loss: 0.9991\n",
      "Epoch 87, Loss: 1.0010\n",
      "Epoch 88, Loss: 0.9992\n",
      "Epoch 89, Loss: 0.9980\n",
      "Epoch 90, Loss: 0.9976\n",
      "Epoch 91, Loss: 1.0010\n",
      "Epoch 92, Loss: 1.0038\n",
      "Epoch 93, Loss: 0.9971\n",
      "Epoch 94, Loss: 0.9985\n",
      "Epoch 95, Loss: 1.0027\n",
      "Epoch 96, Loss: 0.9983\n",
      "Epoch 97, Loss: 0.9976\n",
      "Epoch 98, Loss: 0.9973\n",
      "Epoch 99, Loss: 1.0023\n",
      "Epoch 100, Loss: 1.0005\n",
      "Epoch 101, Loss: 1.0012\n",
      "Epoch 102, Loss: 0.9984\n",
      "Epoch 103, Loss: 1.0019\n",
      "Epoch 104, Loss: 0.9994\n",
      "Epoch 105, Loss: 1.0009\n",
      "Epoch 106, Loss: 0.9974\n",
      "Epoch 107, Loss: 0.9974\n",
      "Epoch 108, Loss: 1.0009\n",
      "Epoch 109, Loss: 0.9995\n",
      "Epoch 110, Loss: 1.0025\n",
      "Epoch 111, Loss: 1.0007\n",
      "Epoch 112, Loss: 1.0046\n",
      "Epoch 113, Loss: 0.9962\n",
      "Epoch 114, Loss: 0.9971\n",
      "Epoch 115, Loss: 1.0010\n",
      "Epoch 116, Loss: 0.9958\n",
      "Epoch 117, Loss: 0.9962\n",
      "Epoch 118, Loss: 1.0023\n",
      "Epoch 119, Loss: 1.0017\n",
      "Epoch 120, Loss: 1.0004\n",
      "Epoch 121, Loss: 1.0000\n",
      "Epoch 122, Loss: 0.9985\n",
      "Epoch 123, Loss: 1.0015\n",
      "Epoch 124, Loss: 1.0008\n",
      "Epoch 125, Loss: 0.9977\n",
      "Epoch 126, Loss: 1.0061\n",
      "Epoch 127, Loss: 1.0016\n",
      "Epoch 128, Loss: 1.0036\n",
      "Epoch 129, Loss: 0.9977\n",
      "Epoch 130, Loss: 1.0007\n",
      "Epoch 131, Loss: 1.0002\n",
      "Epoch 132, Loss: 0.9988\n",
      "Epoch 133, Loss: 1.0001\n",
      "Epoch 134, Loss: 1.0014\n",
      "Epoch 135, Loss: 0.9997\n",
      "Epoch 136, Loss: 0.9982\n",
      "Epoch 137, Loss: 1.0006\n",
      "Epoch 138, Loss: 0.9991\n",
      "Epoch 139, Loss: 1.0030\n",
      "Epoch 140, Loss: 1.0013\n",
      "Epoch 141, Loss: 1.0000\n",
      "Epoch 142, Loss: 1.0036\n",
      "Epoch 143, Loss: 1.0039\n",
      "Epoch 144, Loss: 0.9959\n",
      "Epoch 145, Loss: 1.0004\n",
      "Epoch 146, Loss: 1.0023\n",
      "Epoch 147, Loss: 1.0065\n",
      "Epoch 148, Loss: 0.9992\n",
      "Epoch 149, Loss: 1.0029\n",
      "Epoch 150, Loss: 1.0008\n",
      "Epoch 151, Loss: 1.0017\n",
      "Epoch 152, Loss: 0.9985\n",
      "Epoch 153, Loss: 0.9991\n",
      "Epoch 154, Loss: 1.0018\n",
      "Epoch 155, Loss: 1.0007\n",
      "Epoch 156, Loss: 1.0006\n",
      "Epoch 157, Loss: 1.0035\n",
      "Epoch 158, Loss: 1.0014\n",
      "Epoch 159, Loss: 1.0038\n",
      "Epoch 160, Loss: 0.9940\n",
      "Epoch 161, Loss: 1.0033\n",
      "Epoch 162, Loss: 0.9946\n",
      "Epoch 163, Loss: 0.9977\n",
      "Epoch 164, Loss: 1.0041\n",
      "Epoch 165, Loss: 0.9997\n",
      "Epoch 166, Loss: 1.0018\n",
      "Epoch 167, Loss: 0.9975\n",
      "Epoch 168, Loss: 0.9994\n",
      "Epoch 169, Loss: 0.9981\n",
      "Epoch 170, Loss: 0.9997\n",
      "Epoch 171, Loss: 0.9967\n",
      "Epoch 172, Loss: 0.9995\n",
      "Epoch 173, Loss: 1.0007\n",
      "Epoch 174, Loss: 0.9989\n",
      "Epoch 175, Loss: 1.0009\n",
      "Epoch 176, Loss: 1.0007\n",
      "Epoch 177, Loss: 1.0002\n",
      "Epoch 178, Loss: 1.0007\n",
      "Epoch 179, Loss: 1.0030\n",
      "Epoch 180, Loss: 1.0012\n",
      "Epoch 181, Loss: 1.0019\n",
      "Epoch 182, Loss: 1.0023\n",
      "Epoch 183, Loss: 0.9990\n",
      "Epoch 184, Loss: 0.9995\n",
      "Epoch 185, Loss: 0.9999\n",
      "Epoch 186, Loss: 0.9978\n",
      "Epoch 187, Loss: 1.0008\n",
      "Epoch 188, Loss: 1.0015\n",
      "Epoch 189, Loss: 1.0036\n",
      "Epoch 190, Loss: 1.0001\n",
      "Epoch 191, Loss: 1.0017\n",
      "Epoch 192, Loss: 1.0007\n",
      "Epoch 193, Loss: 0.9968\n",
      "Epoch 194, Loss: 1.0013\n",
      "Epoch 195, Loss: 1.0015\n",
      "Epoch 196, Loss: 0.9955\n",
      "Epoch 197, Loss: 1.0004\n",
      "Epoch 198, Loss: 1.0002\n",
      "Epoch 199, Loss: 0.9998\n",
      "Epoch 200, Loss: 0.9997\n"
     ]
    }
   ],
   "source": [
    "def train_model(model, train_loader, criterion, optimizer, epochs=EPOCHS):\n",
    "    for epoch in range(epochs):\n",
    "        model.train()\n",
    "        total_loss = 0\n",
    "        \n",
    "        for batch_data in train_loader:\n",
    "            # 데이터가 튜플일 경우 첫 번째 원소 사용\n",
    "            if isinstance(batch_data, tuple):\n",
    "                batch_data = batch_data[0]\n",
    "            \n",
    "            optimizer.zero_grad()\n",
    "            \n",
    "            # 시간 단계 선택\n",
    "            batch_size = batch_data.size(0)\n",
    "            t = torch.randint(0, T, (batch_size,))\n",
    "            \n",
    "            # 노이즈 추가\n",
    "            noisy_data = q_sample(batch_data, t)\n",
    "            true_noise = torch.randn_like(batch_data)\n",
    "            \n",
    "            # 모델 예측\n",
    "            predicted_noise = model(noisy_data, t)\n",
    "            \n",
    "            # 손실 계산\n",
    "            loss = criterion(predicted_noise, true_noise)\n",
    "            \n",
    "            # 그래디언트 클리핑\n",
    "            torch.nn.utils.clip_grad_norm_(model.parameters(), max_norm=1.0)\n",
    "            \n",
    "            loss.backward()\n",
    "            optimizer.step()\n",
    "            \n",
    "            total_loss += loss.item()\n",
    "        \n",
    "        avg_loss = total_loss / len(train_loader)\n",
    "        print(f\"Epoch {epoch+1}, Loss: {avg_loss:.4f}\")\n",
    "        \n",
    "train_model(model, train_loader, criterion, optimizer)"
   ]
  },
  {
   "cell_type": "code",
   "execution_count": 26,
   "id": "b0af6556",
   "metadata": {
    "ExecuteTime": {
     "end_time": "2025-02-09T12:59:21.550211Z",
     "start_time": "2025-02-09T12:59:21.538301Z"
    }
   },
   "outputs": [],
   "source": [
    "def advanced_anomaly_detection(model, test_loader, train_data):\n",
    "    model.eval()\n",
    "    \n",
    "    # 훈련 데이터의 재구성 오차 분포 분석\n",
    "    train_reconstructions = []\n",
    "    with torch.no_grad():\n",
    "        for batch in train_loader:\n",
    "            t = torch.randint(0, T, (batch.size(0),))\n",
    "            noisy_data = q_sample(batch, t)\n",
    "            recon = model(noisy_data, t)\n",
    "            train_reconstructions.append(\n",
    "                torch.mean((recon - batch)**2, dim=(1,2)).numpy()\n",
    "            )\n",
    "    \n",
    "    train_reconstructions = np.concatenate(train_reconstructions)\n",
    "    \n",
    "    # 재구성 오차의 통계적 특성\n",
    "    mu = np.mean(train_reconstructions)\n",
    "    sigma = np.std(train_reconstructions)\n",
    "    \n",
    "    # 고급 이상 탐지\n",
    "    anomalies = []\n",
    "    anomaly_scores = []\n",
    "    \n",
    "    with torch.no_grad():\n",
    "        for batch_data in test_loader:\n",
    "            t = torch.randint(0, T, (batch_data.size(0),))\n",
    "            noisy_data = q_sample(batch_data, t)\n",
    "            recon = model(noisy_data, t)\n",
    "            \n",
    "            # 다중 기준 이상 탐지\n",
    "            reconstruction_errors = torch.mean((recon - batch_data)**2, dim=(1,2)).numpy()\n",
    "            \n",
    "            for i, error in enumerate(reconstruction_errors):\n",
    "                # Z-score 기반 이상 탐지\n",
    "                z_score = (error - mu) / sigma\n",
    "                \n",
    "                # 쿼드런트 방법\n",
    "                if error > mu + 2*sigma and z_score > 2:\n",
    "                    anomalies.append(i)\n",
    "                    anomaly_scores.append(error)\n",
    "    \n",
    "    return anomalies, anomaly_scores"
   ]
  },
  {
   "cell_type": "code",
   "execution_count": 27,
   "id": "104d455c",
   "metadata": {
    "ExecuteTime": {
     "end_time": "2025-02-09T12:59:21.888713Z",
     "start_time": "2025-02-09T12:59:21.569062Z"
    }
   },
   "outputs": [
    {
     "ename": "NameError",
     "evalue": "name 'detect_anomalies' is not defined",
     "output_type": "error",
     "traceback": [
      "\u001b[0;31m---------------------------------------------------------------------------\u001b[0m",
      "\u001b[0;31mNameError\u001b[0m                                 Traceback (most recent call last)",
      "Cell \u001b[0;32mIn[27], line 4\u001b[0m\n\u001b[1;32m      1\u001b[0m test_tensor \u001b[38;5;241m=\u001b[39m torch\u001b[38;5;241m.\u001b[39mtensor(test_data)\n\u001b[1;32m      2\u001b[0m test_loader \u001b[38;5;241m=\u001b[39m DataLoader(SisFallDataset(test_tensor), batch_size\u001b[38;5;241m=\u001b[39m\u001b[38;5;241m32\u001b[39m, shuffle\u001b[38;5;241m=\u001b[39m\u001b[38;5;28;01mFalse\u001b[39;00m)\n\u001b[0;32m----> 4\u001b[0m anomalies, error_values \u001b[38;5;241m=\u001b[39m \u001b[43mdetect_anomalies\u001b[49m(model, test_loader)\n\u001b[1;32m      6\u001b[0m error_df \u001b[38;5;241m=\u001b[39m pd\u001b[38;5;241m.\u001b[39mDataFrame({\n\u001b[1;32m      7\u001b[0m     \u001b[38;5;124m'\u001b[39m\u001b[38;5;124mreconstruction_error\u001b[39m\u001b[38;5;124m'\u001b[39m: error_values,\n\u001b[1;32m      8\u001b[0m     \u001b[38;5;124m'\u001b[39m\u001b[38;5;124mtrue_class\u001b[39m\u001b[38;5;124m'\u001b[39m: test_labels\n\u001b[1;32m      9\u001b[0m })\n\u001b[1;32m     11\u001b[0m error_df\n",
      "\u001b[0;31mNameError\u001b[0m: name 'detect_anomalies' is not defined"
     ]
    }
   ],
   "source": [
    "test_tensor = torch.tensor(test_data)\n",
    "test_loader = DataLoader(SisFallDataset(test_tensor), batch_size=32, shuffle=False)\n",
    "\n",
    "anomalies, error_values = detect_anomalies(model, test_loader)\n",
    "\n",
    "error_df = pd.DataFrame({\n",
    "    'reconstruction_error': error_values,\n",
    "    'true_class': test_labels\n",
    "})\n",
    "\n",
    "error_df"
   ]
  },
  {
   "cell_type": "code",
   "execution_count": null,
   "id": "ba999288",
   "metadata": {
    "ExecuteTime": {
     "end_time": "2025-02-09T12:59:21.897724Z",
     "start_time": "2025-02-09T12:59:21.897707Z"
    }
   },
   "outputs": [],
   "source": [
    "plt.figure(figsize=(10, 6))\n",
    "sns.boxplot(x='true_class', y='reconstruction_error', data=error_df, showfliers=False)\n",
    "plt.ylabel('Distribution')\n",
    "plt.xticks(rotation=90)\n",
    "plt.show()"
   ]
  },
  {
   "cell_type": "code",
   "execution_count": null,
   "id": "99fdf5f4",
   "metadata": {
    "ExecuteTime": {
     "end_time": "2025-02-09T12:59:21.899386Z",
     "start_time": "2025-02-09T12:59:21.899333Z"
    }
   },
   "outputs": [],
   "source": [
    "plt.figure(figsize=(10, 4))\n",
    "plt.title('MSE Distribution')\n",
    "plt.hist(error_values[test_labels==0], bins=50, alpha=0.5, color='blue', label='Normal(ADL)', density=True)\n",
    "plt.hist(error_values[test_labels==1], bins=50, alpha=0.5, color='red', label='Abnormal(Fall)', density=True)\n",
    "plt.xlabel('MSE')\n",
    "plt.ylabel('Density')\n",
    "plt.legend()\n",
    "plt.grid(True, alpha=0.3)\n",
    "plt.show()"
   ]
  },
  {
   "cell_type": "code",
   "execution_count": null,
   "id": "ae8cfbe4",
   "metadata": {
    "ExecuteTime": {
     "end_time": "2025-02-09T12:59:21.900977Z",
     "start_time": "2025-02-09T12:59:21.900960Z"
    }
   },
   "outputs": [],
   "source": [
    "threshold = np.percentile(error_values, 95) \n",
    "\n",
    "y_pred = (error_values > threshold).astype(int)\n",
    "print(\"\\nClassification Report:\")\n",
    "print(classification_report(test_labels, y_pred))"
   ]
  },
  {
   "cell_type": "code",
   "execution_count": null,
   "id": "98b8f1e7",
   "metadata": {
    "ExecuteTime": {
     "end_time": "2025-02-09T12:59:21.902837Z",
     "start_time": "2025-02-09T12:59:21.902819Z"
    }
   },
   "outputs": [],
   "source": [
    "groups = error_df.groupby('true_class')\n",
    "fig, ax = plt.subplots()\n",
    "\n",
    "for name, group in groups:\n",
    "    ax.plot(group.index, group.reconstruction_error, marker='^', ms=3.5, linestyle='',\n",
    "            label=\"Normal\" if name == 0 else \"Fall\")\n",
    "ax.hlines(threshold, ax.get_xlim()[0], ax.get_xlim()[1], colors=\"r\", zorder=100, label='Threshold')\n",
    "ax.legend()\n",
    "plt.title(\"Reconstruction error for different classes\")\n",
    "plt.ylabel(\"Reconstruction error\")\n",
    "plt.xlabel(\"Data point index\")\n",
    "plt.show()"
   ]
  },
  {
   "cell_type": "code",
   "execution_count": null,
   "id": "28a6397f",
   "metadata": {
    "ExecuteTime": {
     "end_time": "2025-02-09T12:59:21.904781Z",
     "start_time": "2025-02-09T12:59:21.904761Z"
    }
   },
   "outputs": [],
   "source": [
    "LABELS = [\"ADL\", \"FALL\"]\n",
    "plt.figure(figsize=(7, 7))\n",
    "conf_matrix = confusion_matrix(test_labels, y_pred)\n",
    "sns.heatmap(conf_matrix, xticklabels=LABELS, yticklabels=LABELS, annot=True, fmt=\"d\")\n",
    "plt.title(\"Confusion matrix\")\n",
    "plt.ylabel('True class')\n",
    "plt.xlabel('Predicted class')\n",
    "plt.show()\n"
   ]
  },
  {
   "cell_type": "code",
   "execution_count": null,
   "id": "33896ed3",
   "metadata": {},
   "outputs": [],
   "source": []
  }
 ],
 "metadata": {
  "kernelspec": {
   "display_name": "Python 3 (ipykernel)",
   "language": "python",
   "name": "python3"
  },
  "language_info": {
   "codemirror_mode": {
    "name": "ipython",
    "version": 3
   },
   "file_extension": ".py",
   "mimetype": "text/x-python",
   "name": "python",
   "nbconvert_exporter": "python",
   "pygments_lexer": "ipython3",
   "version": "3.11.3"
  },
  "varInspector": {
   "cols": {
    "lenName": 16,
    "lenType": 16,
    "lenVar": 40
   },
   "kernels_config": {
    "python": {
     "delete_cmd_postfix": "",
     "delete_cmd_prefix": "del ",
     "library": "var_list.py",
     "varRefreshCmd": "print(var_dic_list())"
    },
    "r": {
     "delete_cmd_postfix": ") ",
     "delete_cmd_prefix": "rm(",
     "library": "var_list.r",
     "varRefreshCmd": "cat(var_dic_list()) "
    }
   },
   "types_to_exclude": [
    "module",
    "function",
    "builtin_function_or_method",
    "instance",
    "_Feature"
   ],
   "window_display": false
  }
 },
 "nbformat": 4,
 "nbformat_minor": 5
}
