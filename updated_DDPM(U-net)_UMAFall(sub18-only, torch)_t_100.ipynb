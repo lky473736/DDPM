{
 "cells": [
  {
   "cell_type": "code",
   "execution_count": 1,
   "id": "efb963b7",
   "metadata": {
    "ExecuteTime": {
     "end_time": "2025-02-15T17:56:36.570422Z",
     "start_time": "2025-02-15T17:56:31.465373Z"
    }
   },
   "outputs": [
    {
     "name": "stderr",
     "output_type": "stream",
     "text": [
      "2025-02-16 02:56:33.243273: I tensorflow/core/platform/cpu_feature_guard.cc:210] This TensorFlow binary is optimized to use available CPU instructions in performance-critical operations.\n",
      "To enable the following instructions: AVX2 FMA, in other operations, rebuild TensorFlow with the appropriate compiler flags.\n"
     ]
    }
   ],
   "source": [
    "import tensorflow as tf\n",
    "import numpy as np\n",
    "from tensorflow.keras import layers, Model\n",
    "import matplotlib.pyplot as plt \n",
    "import seaborn as sns\n",
    "import os\n",
    "import math\n",
    "import glob\n",
    "import pandas as pd\n",
    "from tqdm import tqdm\n",
    "from sklearn.metrics import confusion_matrix, classification_report\n",
    "from sklearn.preprocessing import StandardScaler"
   ]
  },
  {
   "cell_type": "code",
   "execution_count": 2,
   "id": "7674eaf5",
   "metadata": {
    "ExecuteTime": {
     "end_time": "2025-02-15T17:56:37.862448Z",
     "start_time": "2025-02-15T17:56:36.572256Z"
    }
   },
   "outputs": [],
   "source": [
    "import torch\n",
    "import torch.nn as nn\n",
    "import torch.optim as optim\n",
    "import torch.nn.functional as F  \n",
    "import numpy as np\n",
    "import pandas as pd\n",
    "import matplotlib.pyplot as plt\n",
    "import seaborn as sns\n",
    "from torch.utils.data import Dataset, DataLoader\n",
    "from sklearn.metrics import confusion_matrix, classification_report\n",
    "from sklearn.metrics import accuracy_score, precision_score, recall_score, f1_score\n",
    "from tqdm import tqdm\n",
    "import re"
   ]
  },
  {
   "cell_type": "code",
   "execution_count": 3,
   "id": "0e28ca75",
   "metadata": {
    "ExecuteTime": {
     "end_time": "2025-02-15T17:56:37.869495Z",
     "start_time": "2025-02-15T17:56:37.865698Z"
    }
   },
   "outputs": [],
   "source": [
    "# % Used Smartphone: LGE-lge-LG-H815-5.1                                             \n",
    "# % Smartphone's Accelerometer: LGE Accelerometer - Vendor: BOSCH                    \n",
    "# % --> Version: 1                                                                   \n",
    "# % --> Min - Max Delay: 5000us - 65535000us                                         \n",
    "# % --> Maximum Range: 16.000000263891405 G                                          \n",
    "# % --> Resolution: 1.2136514986004396E-4 G                                          \n",
    "                                                                                    \n",
    "# % SensorTag's Accelerometer: MPU-9250 MEMS MotionTracking Device - Invensense      \n",
    "# % --> Maximum Range: 16 G                                                          \n",
    "# % --> Resolution: 0.00024 G                                                        \n",
    "                                                                                    \n",
    "# % MAC Address; Sensor_ID; Position; Device Model                                   \n",
    "# %f8:95:c7:f3:ba:82; 0; RIGHTPOCKET; lge-LG-H815-5.1                                \n",
    "# %C4:BE:84:70:64:8A; 1; CHEST; SensorTag                                            \n",
    "# %C4:BE:84:70:0E:80; 3; WRIST; SensorTag                                            \n",
    "# %C4:BE:84:71:A5:02; 2; WAIST; SensorTag                                            \n",
    "# %B0:B4:48:B8:77:03; 4; ANKLE; SensorTag                                            \n",
    "                                                                                    \n",
    "# % Sensor_Type:                                                                     \n",
    "# % Accelerometer = 0                                                                \n",
    "# % Gyroscope = 1                                                                    \n",
    "# % Magnetometer = 2  "
   ]
  },
  {
   "cell_type": "code",
   "execution_count": 4,
   "id": "02a22e79",
   "metadata": {
    "ExecuteTime": {
     "end_time": "2025-02-15T17:56:37.875942Z",
     "start_time": "2025-02-15T17:56:37.870897Z"
    }
   },
   "outputs": [],
   "source": [
    "datapath = \"../CAGE/data/UMAFall_Dataset/\"\n",
    "all_files = glob.glob(os.path.join(datapath, \"*.csv\"))"
   ]
  },
  {
   "cell_type": "code",
   "execution_count": 5,
   "id": "f20da022",
   "metadata": {
    "ExecuteTime": {
     "end_time": "2025-02-15T17:56:37.880591Z",
     "start_time": "2025-02-15T17:56:37.877123Z"
    }
   },
   "outputs": [],
   "source": [
    "def parse_filename(filename):\n",
    "    pattern = r'UMAFall_Subject_(\\d+)_(ADL|Fall)_([a-zA-Z_]+)_(\\d+)_(\\d{4}-\\d{2}-\\d{2})_.*\\.csv'\n",
    "    match = re.match(pattern, filename)\n",
    "    \n",
    "    if match:\n",
    "        subject_id = int(match.group(1))\n",
    "        activity_type = match.group(2)\n",
    "        activity = match.group(3)\n",
    "        trial = int(match.group(4))\n",
    "        date = match.group(5)\n",
    "        return subject_id, activity_type, activity, trial, date\n",
    "    return None"
   ]
  },
  {
   "cell_type": "code",
   "execution_count": 6,
   "id": "a3087517",
   "metadata": {
    "ExecuteTime": {
     "end_time": "2025-02-15T17:56:37.890701Z",
     "start_time": "2025-02-15T17:56:37.883231Z"
    }
   },
   "outputs": [],
   "source": [
    "def read_all_sensors_file(filepath):\n",
    "    sensor_data = {\n",
    "        'RIGHTPOCKET': {'id': None, 'data': []},\n",
    "        'CHEST': {'id': None, 'data': []},\n",
    "        'WRIST': {'id': None, 'data': []},\n",
    "        'WAIST': {'id': None, 'data': []},\n",
    "        'ANKLE': {'id': None, 'data': []}\n",
    "    }\n",
    "    \n",
    "    with open(filepath, 'r') as f:\n",
    "        lines = f.readlines()\n",
    "        for line in lines:\n",
    "            if ';' in line and any(pos in line for pos in sensor_data.keys()):\n",
    "                parts = line.strip().split(';')\n",
    "                if len(parts) >= 3:\n",
    "                    sensor_id = parts[1].strip()\n",
    "                    position = parts[2].strip()\n",
    "                    if position in sensor_data:\n",
    "                        sensor_data[position]['id'] = sensor_id\n",
    "        \n",
    "        data_start = False\n",
    "        for line in lines:\n",
    "            if '% TimeStamp; Sample No;' in line:\n",
    "                data_start = True\n",
    "                continue\n",
    "            \n",
    "            if data_start:\n",
    "                try:\n",
    "                    values = [float(v.strip()) for v in line.split(';')]\n",
    "                    sensor_id = str(int(values[-1]))\n",
    "                    sensor_type = int(values[-2])\n",
    "                    data = values[2:5]\n",
    "                    \n",
    "                    for position, info in sensor_data.items():\n",
    "                        if info['id'] == sensor_id:\n",
    "                            info['data'].append([*data, sensor_type])\n",
    "                except:\n",
    "                    continue\n",
    "    \n",
    "    for position in sensor_data:\n",
    "        if sensor_data[position]['data']:\n",
    "            sensor_data[position]['data'] = np.array(sensor_data[position]['data'])\n",
    "        else:\n",
    "            sensor_data[position]['data'] = None\n",
    "            \n",
    "    return sensor_data"
   ]
  },
  {
   "cell_type": "code",
   "execution_count": 7,
   "id": "22cc6d3f",
   "metadata": {
    "ExecuteTime": {
     "end_time": "2025-02-15T17:56:37.901881Z",
     "start_time": "2025-02-15T17:56:37.892586Z"
    }
   },
   "outputs": [],
   "source": [
    "def process_sensor_data(sensor_data):\n",
    "    processed_data = {}\n",
    "    valid_lengths = []\n",
    "    \n",
    "    for position, data in sensor_data.items():\n",
    "        if data['data'] is not None:\n",
    "            acc_mask = data['data'][:, -1] == 0\n",
    "            gyro_mask = data['data'][:, -1] == 1\n",
    "            mag_mask = data['data'][:, -1] == 2\n",
    "            \n",
    "            acc_data = data['data'][acc_mask][:, :3] if np.any(acc_mask) else np.array([])\n",
    "            gyro_data = data['data'][gyro_mask][:, :3] if np.any(gyro_mask) else np.array([])\n",
    "            mag_data = data['data'][mag_mask][:, :3] if np.any(mag_mask) else np.array([])\n",
    "            \n",
    "            if len(acc_data) > 0:\n",
    "                valid_lengths.append(len(acc_data))\n",
    "            if len(gyro_data) > 0:\n",
    "                valid_lengths.append(len(gyro_data))\n",
    "            if len(mag_data) > 0:\n",
    "                valid_lengths.append(len(mag_data))\n",
    "    \n",
    "    if not valid_lengths:\n",
    "        return None\n",
    "        \n",
    "    min_length = min(valid_lengths)\n",
    "    \n",
    "    for position, data in sensor_data.items():\n",
    "        if data['data'] is not None:\n",
    "            acc_mask = data['data'][:, -1] == 0\n",
    "            gyro_mask = data['data'][:, -1] == 1\n",
    "            mag_mask = data['data'][:, -1] == 2\n",
    "            \n",
    "            if np.any(acc_mask):\n",
    "                acc_data = data['data'][acc_mask][:min_length, :3]\n",
    "                acc_cols = [f'{position.lower()}_acc_x', f'{position.lower()}_acc_y', f'{position.lower()}_acc_z']\n",
    "                processed_data.update(dict(zip(acc_cols, acc_data.T)))\n",
    "            \n",
    "            if np.any(gyro_mask):\n",
    "                gyro_data = data['data'][gyro_mask][:min_length, :3]\n",
    "                gyro_cols = [f'{position.lower()}_gyro_x', f'{position.lower()}_gyro_y', f'{position.lower()}_gyro_z']\n",
    "                processed_data.update(dict(zip(gyro_cols, gyro_data.T)))\n",
    "            \n",
    "            if np.any(mag_mask):\n",
    "                mag_data = data['data'][mag_mask][:min_length, :3]\n",
    "                mag_cols = [f'{position.lower()}_mag_x', f'{position.lower()}_mag_y', f'{position.lower()}_mag_z']\n",
    "                processed_data.update(dict(zip(mag_cols, mag_data.T)))\n",
    "    \n",
    "    if not processed_data:\n",
    "        return None\n",
    "        \n",
    "    return pd.DataFrame(processed_data)"
   ]
  },
  {
   "cell_type": "code",
   "execution_count": 8,
   "id": "d3dd5d22",
   "metadata": {
    "ExecuteTime": {
     "end_time": "2025-02-15T17:56:37.906111Z",
     "start_time": "2025-02-15T17:56:37.903772Z"
    }
   },
   "outputs": [],
   "source": [
    "subject_id = 18\n",
    "dfs = []"
   ]
  },
  {
   "cell_type": "code",
   "execution_count": 9,
   "id": "07a1e659",
   "metadata": {
    "ExecuteTime": {
     "end_time": "2025-02-15T17:56:43.082155Z",
     "start_time": "2025-02-15T17:56:37.911698Z"
    }
   },
   "outputs": [
    {
     "name": "stderr",
     "output_type": "stream",
     "text": [
      "100%|████████████████████████████████████████| 746/746 [00:05<00:00, 145.38it/s]\n"
     ]
    }
   ],
   "source": [
    "for file in tqdm(all_files):\n",
    "    filename = os.path.basename(file)\n",
    "    info = parse_filename(filename)\n",
    "    \n",
    "    if info and info[0] == subject_id:\n",
    "        sensor_data = read_all_sensors_file(file)\n",
    "        df = process_sensor_data(sensor_data)\n",
    "        \n",
    "        if df is not None:\n",
    "            df['subject'] = info[0]\n",
    "            df['activity'] = info[2]  \n",
    "            df['trial'] = info[3]\n",
    "            dfs.append(df)"
   ]
  },
  {
   "cell_type": "code",
   "execution_count": 10,
   "id": "805a35d9",
   "metadata": {
    "ExecuteTime": {
     "end_time": "2025-02-15T17:56:43.174034Z",
     "start_time": "2025-02-15T17:56:43.084716Z"
    }
   },
   "outputs": [
    {
     "name": "stdout",
     "output_type": "stream",
     "text": [
      "shape :  (56241, 42)\n",
      "columns : ['rightpocket_acc_x', 'rightpocket_acc_y', 'rightpocket_acc_z', 'chest_acc_x', 'chest_acc_y', 'chest_acc_z', 'chest_gyro_x', 'chest_gyro_y', 'chest_gyro_z', 'chest_mag_x', 'chest_mag_y', 'chest_mag_z', 'wrist_acc_x', 'wrist_acc_y', 'wrist_acc_z', 'wrist_gyro_x', 'wrist_gyro_y', 'wrist_gyro_z', 'wrist_mag_x', 'wrist_mag_y', 'wrist_mag_z', 'waist_acc_x', 'waist_acc_y', 'waist_acc_z', 'waist_gyro_x', 'waist_gyro_y', 'waist_gyro_z', 'waist_mag_x', 'waist_mag_y', 'waist_mag_z', 'ankle_acc_x', 'ankle_acc_y', 'ankle_acc_z', 'ankle_gyro_x', 'ankle_gyro_y', 'ankle_gyro_z', 'ankle_mag_x', 'ankle_mag_y', 'ankle_mag_z']\n",
      "\n",
      "Columns after concat: Index(['rightpocket_acc_x', 'rightpocket_acc_y', 'rightpocket_acc_z',\n",
      "       'chest_acc_x', 'chest_acc_y', 'chest_acc_z', 'chest_gyro_x',\n",
      "       'chest_gyro_y', 'chest_gyro_z', 'chest_mag_x', 'chest_mag_y',\n",
      "       'chest_mag_z', 'wrist_acc_x', 'wrist_acc_y', 'wrist_acc_z',\n",
      "       'wrist_gyro_x', 'wrist_gyro_y', 'wrist_gyro_z', 'wrist_mag_x',\n",
      "       'wrist_mag_y', 'wrist_mag_z', 'waist_acc_x', 'waist_acc_y',\n",
      "       'waist_acc_z', 'waist_gyro_x', 'waist_gyro_y', 'waist_gyro_z',\n",
      "       'waist_mag_x', 'waist_mag_y', 'waist_mag_z', 'ankle_acc_x',\n",
      "       'ankle_acc_y', 'ankle_acc_z', 'ankle_gyro_x', 'ankle_gyro_y',\n",
      "       'ankle_gyro_z', 'ankle_mag_x', 'ankle_mag_y', 'ankle_mag_z', 'subject',\n",
      "       'activity', 'trial'],\n",
      "      dtype='object')\n",
      "\n",
      "Activity distribution : activity\n",
      "forwardFall                  5925\n",
      "backwardFall                 5668\n",
      "lateralFall                  5081\n",
      "Sitting_GettingUpOnAChair    4485\n",
      "Bending                      4465\n",
      "LyingDown_OnABed             4464\n",
      "Walking                      4186\n",
      "Hopping                      4167\n",
      "MakingACall                  3590\n",
      "Aplausing                    2693\n",
      "OpeningDoor                  2692\n",
      "HandsUp                      2689\n",
      "Jogging                      2329\n",
      "GoUpstairs                   2046\n",
      "GoDownstairs                 1761\n",
      "Name: count, dtype: int64\n"
     ]
    }
   ],
   "source": [
    "features = pd.concat(dfs, ignore_index=True)\n",
    "print (\"shape : \", features.shape)\n",
    "sensor_columns = [col for col in features.columns if any(x in col for x in ['acc', 'gyro', 'mag'])]\n",
    "print (\"columns :\", end=' ')\n",
    "print (sensor_columns)\n",
    "\n",
    "print ()\n",
    "features = pd.concat(dfs, ignore_index=True)\n",
    "print(\"Columns after concat:\", features.columns)\n",
    "print(\"\\nActivity distribution :\", features['activity'].value_counts())"
   ]
  },
  {
   "cell_type": "code",
   "execution_count": 11,
   "id": "518520e5",
   "metadata": {
    "ExecuteTime": {
     "end_time": "2025-02-15T17:56:43.200718Z",
     "start_time": "2025-02-15T17:56:43.176150Z"
    }
   },
   "outputs": [
    {
     "name": "stdout",
     "output_type": "stream",
     "text": [
      "\n",
      "Activity distribution : activity\n",
      "0    39567\n",
      "1    16674\n",
      "Name: count, dtype: int64\n"
     ]
    }
   ],
   "source": [
    "features['activity'] = features['activity'].map(\n",
    "    lambda x: 1 if x in ['forwardFall', 'backwardFall', 'lateralFall'] else 0\n",
    ")\n",
    "print(\"\\nActivity distribution :\", features['activity'].value_counts())"
   ]
  },
  {
   "cell_type": "code",
   "execution_count": 12,
   "id": "7c675928",
   "metadata": {
    "ExecuteTime": {
     "end_time": "2025-02-15T17:56:43.219043Z",
     "start_time": "2025-02-15T17:56:43.203091Z"
    }
   },
   "outputs": [
    {
     "name": "stdout",
     "output_type": "stream",
     "text": [
      "<class 'pandas.core.frame.DataFrame'>\n",
      "RangeIndex: 56241 entries, 0 to 56240\n",
      "Data columns (total 42 columns):\n",
      " #   Column             Non-Null Count  Dtype  \n",
      "---  ------             --------------  -----  \n",
      " 0   rightpocket_acc_x  56241 non-null  float64\n",
      " 1   rightpocket_acc_y  56241 non-null  float64\n",
      " 2   rightpocket_acc_z  56241 non-null  float64\n",
      " 3   chest_acc_x        56241 non-null  float64\n",
      " 4   chest_acc_y        56241 non-null  float64\n",
      " 5   chest_acc_z        56241 non-null  float64\n",
      " 6   chest_gyro_x       56241 non-null  float64\n",
      " 7   chest_gyro_y       56241 non-null  float64\n",
      " 8   chest_gyro_z       56241 non-null  float64\n",
      " 9   chest_mag_x        56241 non-null  float64\n",
      " 10  chest_mag_y        56241 non-null  float64\n",
      " 11  chest_mag_z        56241 non-null  float64\n",
      " 12  wrist_acc_x        56241 non-null  float64\n",
      " 13  wrist_acc_y        56241 non-null  float64\n",
      " 14  wrist_acc_z        56241 non-null  float64\n",
      " 15  wrist_gyro_x       56241 non-null  float64\n",
      " 16  wrist_gyro_y       56241 non-null  float64\n",
      " 17  wrist_gyro_z       56241 non-null  float64\n",
      " 18  wrist_mag_x        56241 non-null  float64\n",
      " 19  wrist_mag_y        56241 non-null  float64\n",
      " 20  wrist_mag_z        56241 non-null  float64\n",
      " 21  waist_acc_x        52434 non-null  float64\n",
      " 22  waist_acc_y        52434 non-null  float64\n",
      " 23  waist_acc_z        52434 non-null  float64\n",
      " 24  waist_gyro_x       52434 non-null  float64\n",
      " 25  waist_gyro_y       52434 non-null  float64\n",
      " 26  waist_gyro_z       52434 non-null  float64\n",
      " 27  waist_mag_x        52434 non-null  float64\n",
      " 28  waist_mag_y        52434 non-null  float64\n",
      " 29  waist_mag_z        52434 non-null  float64\n",
      " 30  ankle_acc_x        26210 non-null  float64\n",
      " 31  ankle_acc_y        26210 non-null  float64\n",
      " 32  ankle_acc_z        26210 non-null  float64\n",
      " 33  ankle_gyro_x       26210 non-null  float64\n",
      " 34  ankle_gyro_y       26210 non-null  float64\n",
      " 35  ankle_gyro_z       26210 non-null  float64\n",
      " 36  ankle_mag_x        26210 non-null  float64\n",
      " 37  ankle_mag_y        26210 non-null  float64\n",
      " 38  ankle_mag_z        26210 non-null  float64\n",
      " 39  subject            56241 non-null  int64  \n",
      " 40  activity           56241 non-null  int64  \n",
      " 41  trial              56241 non-null  int64  \n",
      "dtypes: float64(39), int64(3)\n",
      "memory usage: 18.0 MB\n"
     ]
    }
   ],
   "source": [
    "features.info()"
   ]
  },
  {
   "cell_type": "code",
   "execution_count": 13,
   "id": "31b85551",
   "metadata": {
    "ExecuteTime": {
     "end_time": "2025-02-15T17:56:43.243432Z",
     "start_time": "2025-02-15T17:56:43.220801Z"
    }
   },
   "outputs": [
    {
     "name": "stdout",
     "output_type": "stream",
     "text": [
      "<class 'pandas.core.frame.DataFrame'>\n",
      "Index: 22403 entries, 0 to 55944\n",
      "Data columns (total 42 columns):\n",
      " #   Column             Non-Null Count  Dtype  \n",
      "---  ------             --------------  -----  \n",
      " 0   rightpocket_acc_x  22403 non-null  float64\n",
      " 1   rightpocket_acc_y  22403 non-null  float64\n",
      " 2   rightpocket_acc_z  22403 non-null  float64\n",
      " 3   chest_acc_x        22403 non-null  float64\n",
      " 4   chest_acc_y        22403 non-null  float64\n",
      " 5   chest_acc_z        22403 non-null  float64\n",
      " 6   chest_gyro_x       22403 non-null  float64\n",
      " 7   chest_gyro_y       22403 non-null  float64\n",
      " 8   chest_gyro_z       22403 non-null  float64\n",
      " 9   chest_mag_x        22403 non-null  float64\n",
      " 10  chest_mag_y        22403 non-null  float64\n",
      " 11  chest_mag_z        22403 non-null  float64\n",
      " 12  wrist_acc_x        22403 non-null  float64\n",
      " 13  wrist_acc_y        22403 non-null  float64\n",
      " 14  wrist_acc_z        22403 non-null  float64\n",
      " 15  wrist_gyro_x       22403 non-null  float64\n",
      " 16  wrist_gyro_y       22403 non-null  float64\n",
      " 17  wrist_gyro_z       22403 non-null  float64\n",
      " 18  wrist_mag_x        22403 non-null  float64\n",
      " 19  wrist_mag_y        22403 non-null  float64\n",
      " 20  wrist_mag_z        22403 non-null  float64\n",
      " 21  waist_acc_x        22403 non-null  float64\n",
      " 22  waist_acc_y        22403 non-null  float64\n",
      " 23  waist_acc_z        22403 non-null  float64\n",
      " 24  waist_gyro_x       22403 non-null  float64\n",
      " 25  waist_gyro_y       22403 non-null  float64\n",
      " 26  waist_gyro_z       22403 non-null  float64\n",
      " 27  waist_mag_x        22403 non-null  float64\n",
      " 28  waist_mag_y        22403 non-null  float64\n",
      " 29  waist_mag_z        22403 non-null  float64\n",
      " 30  ankle_acc_x        22403 non-null  float64\n",
      " 31  ankle_acc_y        22403 non-null  float64\n",
      " 32  ankle_acc_z        22403 non-null  float64\n",
      " 33  ankle_gyro_x       22403 non-null  float64\n",
      " 34  ankle_gyro_y       22403 non-null  float64\n",
      " 35  ankle_gyro_z       22403 non-null  float64\n",
      " 36  ankle_mag_x        22403 non-null  float64\n",
      " 37  ankle_mag_y        22403 non-null  float64\n",
      " 38  ankle_mag_z        22403 non-null  float64\n",
      " 39  subject            22403 non-null  int64  \n",
      " 40  activity           22403 non-null  int64  \n",
      " 41  trial              22403 non-null  int64  \n",
      "dtypes: float64(39), int64(3)\n",
      "memory usage: 7.3 MB\n"
     ]
    }
   ],
   "source": [
    "features = features.dropna()\n",
    "features.info()"
   ]
  },
  {
   "cell_type": "code",
   "execution_count": 14,
   "id": "f23b6fbd",
   "metadata": {
    "ExecuteTime": {
     "end_time": "2025-02-15T17:56:43.324326Z",
     "start_time": "2025-02-15T17:56:43.245939Z"
    }
   },
   "outputs": [
    {
     "data": {
      "text/plain": [
       "Index(['rightpocket_acc_x', 'rightpocket_acc_y', 'rightpocket_acc_z',\n",
       "       'chest_acc_x', 'chest_acc_y', 'chest_acc_z', 'chest_gyro_x',\n",
       "       'chest_gyro_y', 'chest_gyro_z', 'chest_mag_x', 'chest_mag_y',\n",
       "       'chest_mag_z', 'wrist_acc_x', 'wrist_acc_y', 'wrist_acc_z',\n",
       "       'wrist_gyro_x', 'wrist_gyro_y', 'wrist_gyro_z', 'wrist_mag_x',\n",
       "       'wrist_mag_y', 'wrist_mag_z', 'waist_acc_x', 'waist_acc_y',\n",
       "       'waist_acc_z', 'waist_gyro_x', 'waist_gyro_y', 'waist_gyro_z',\n",
       "       'waist_mag_x', 'waist_mag_y', 'waist_mag_z', 'ankle_acc_x',\n",
       "       'ankle_acc_y', 'ankle_acc_z', 'ankle_gyro_x', 'ankle_gyro_y',\n",
       "       'ankle_gyro_z', 'ankle_mag_x', 'ankle_mag_y', 'ankle_mag_z',\n",
       "       'activity'],\n",
       "      dtype='object')"
      ]
     },
     "execution_count": 14,
     "metadata": {},
     "output_type": "execute_result"
    }
   ],
   "source": [
    "sensor_columns = [col for col in features.columns if any(x in col for x in ['acc', 'gyro', 'mag'])]\n",
    "\n",
    "scaler = StandardScaler()\n",
    "features_scaled = features.copy()\n",
    "features_scaled[sensor_columns] = scaler.fit_transform(features[sensor_columns])\n",
    "\n",
    "features_scaled = features_scaled[sensor_columns + ['activity']]\n",
    "features_scaled.columns"
   ]
  },
  {
   "cell_type": "code",
   "execution_count": 15,
   "id": "85f7e718",
   "metadata": {
    "ExecuteTime": {
     "end_time": "2025-02-15T17:56:43.330141Z",
     "start_time": "2025-02-15T17:56:43.326528Z"
    }
   },
   "outputs": [],
   "source": [
    "def split_sequences(sequences, n_steps, stride):\n",
    "    X, y = [], []\n",
    "    for i in range(0, len(sequences) - n_steps + 1, stride):\n",
    "        end_ix = i + n_steps\n",
    "        \n",
    "        seq_x = sequences.iloc[i:end_ix].iloc[:, :-1]  \n",
    "        seq_y = sequences.iloc[end_ix-1].iloc[-1]      \n",
    "        \n",
    "        X.append(seq_x.values)\n",
    "        y.append(seq_y)\n",
    "    \n",
    "    return np.array(X), np.array(y)"
   ]
  },
  {
   "cell_type": "code",
   "execution_count": 16,
   "id": "a52bff2d",
   "metadata": {
    "ExecuteTime": {
     "end_time": "2025-02-15T17:56:43.377020Z",
     "start_time": "2025-02-15T17:56:43.332731Z"
    }
   },
   "outputs": [
    {
     "name": "stdout",
     "output_type": "stream",
     "text": [
      "ADL1 (train) shape: (16486, 40)\n",
      "ADL2 (test) shape: (16487, 40)\n",
      "Fall1 (test) shape: (1436, 40)\n",
      "Fall2 (test) shape: (1436, 40)\n"
     ]
    }
   ],
   "source": [
    "adl_count = features_scaled['activity'].value_counts()[0]\n",
    "fall_count = features_scaled['activity'].value_counts()[1]\n",
    "\n",
    "adl_mask = features_scaled['activity'] == 0\n",
    "adl_data = features_scaled[adl_mask]\n",
    "adl1 = adl_data.iloc[:int(adl_count * 0.8)]    # 80% for training\n",
    "adl2 = adl_data.iloc[int(adl_count * 0.2):]    # 20% for testing\n",
    "\n",
    "fall_mask = features_scaled['activity'] == 1\n",
    "fall_data = features_scaled[fall_mask]\n",
    "fall1 = fall_data.iloc[:int(fall_count * 0.8)]  # 80% for testing\n",
    "fall2 = fall_data.iloc[int(fall_count * 0.2):]  # 20% for testing\n",
    "\n",
    "print(f\"ADL1 (train) shape: {adl1.shape}\")\n",
    "print(f\"ADL2 (test) shape: {adl2.shape}\")\n",
    "print(f\"Fall1 (test) shape: {fall1.shape}\")\n",
    "print(f\"Fall2 (test) shape: {fall2.shape}\")"
   ]
  },
  {
   "cell_type": "code",
   "execution_count": 17,
   "id": "310faf23",
   "metadata": {
    "ExecuteTime": {
     "end_time": "2025-02-15T17:56:45.102712Z",
     "start_time": "2025-02-15T17:56:43.380265Z"
    }
   },
   "outputs": [
    {
     "name": "stdout",
     "output_type": "stream",
     "text": [
      "Train data: (823, 40, 39)\n",
      "Train labels: (823,)\n",
      "Test data: (963, 40, 39)\n",
      "Test labels: (963,)\n"
     ]
    }
   ],
   "source": [
    "WINDOW_LENGTH = 40\n",
    "STRIDE = 20\n",
    "\n",
    "train_data, train_labels = split_sequences(adl1, WINDOW_LENGTH, STRIDE)\n",
    "\n",
    "test_adl_data, test_adl_labels = split_sequences(adl2, WINDOW_LENGTH, STRIDE)\n",
    "test_fall1_data, test_fall1_labels = split_sequences(fall1, WINDOW_LENGTH, STRIDE)\n",
    "test_fall2_data, test_fall2_labels = split_sequences(fall2, WINDOW_LENGTH, STRIDE)\n",
    "\n",
    "test_data = np.concatenate([test_adl_data, test_fall1_data, test_fall2_data])\n",
    "test_labels = np.concatenate([test_adl_labels, test_fall1_labels, test_fall2_labels])\n",
    "\n",
    "print(f\"Train data: {train_data.shape}\")\n",
    "print(f\"Train labels: {train_labels.shape}\")\n",
    "print(f\"Test data: {test_data.shape}\")\n",
    "print(f\"Test labels: {test_labels.shape}\")"
   ]
  },
  {
   "cell_type": "markdown",
   "id": "2b7fb1ac",
   "metadata": {},
   "source": [
    "----"
   ]
  },
  {
   "cell_type": "code",
   "execution_count": 18,
   "id": "75320296",
   "metadata": {
    "ExecuteTime": {
     "end_time": "2025-02-15T17:56:45.108700Z",
     "start_time": "2025-02-15T17:56:45.105171Z"
    }
   },
   "outputs": [],
   "source": [
    "EPOCHS = 300\n",
    "INITIAL_LEARNING_RATE = 1e-3  \n",
    "DECAY_STEPS = 1000  \n",
    "DECAY_RATE = 0.98  \n",
    "device = torch.device('cuda' if torch.cuda.is_available() else 'cpu')\n",
    "BATCH_SIZE = 32"
   ]
  },
  {
   "cell_type": "code",
   "execution_count": 19,
   "id": "623e5f6a",
   "metadata": {
    "ExecuteTime": {
     "end_time": "2025-02-15T17:56:45.116019Z",
     "start_time": "2025-02-15T17:56:45.111300Z"
    }
   },
   "outputs": [],
   "source": [
    "class UMAFallDataset(Dataset):\n",
    "    def __init__(self, data):\n",
    "        # Transpose data from [batch, window_length, features] to [batch, features, window_length]\n",
    "        data = data.transpose(0, 2, 1)\n",
    "        self.data = torch.FloatTensor(data)\n",
    "    \n",
    "    def __len__(self):\n",
    "        return len(self.data)\n",
    "    \n",
    "    def __getitem__(self, idx):\n",
    "        return self.data[idx]  # Returns shape [features, window_length]"
   ]
  },
  {
   "cell_type": "code",
   "execution_count": 20,
   "id": "fa953720",
   "metadata": {
    "ExecuteTime": {
     "end_time": "2025-02-15T17:56:45.125309Z",
     "start_time": "2025-02-15T17:56:45.119105Z"
    }
   },
   "outputs": [],
   "source": [
    "class DoubleConv(nn.Module):\n",
    "    def __init__(self, in_channels, out_channels):\n",
    "        super(DoubleConv, self).__init__()\n",
    "        self.conv = nn.Sequential(\n",
    "            nn.Conv1d(in_channels, out_channels, kernel_size=3, padding='same'),\n",
    "            nn.ReLU(),\n",
    "            nn.Conv1d(out_channels, out_channels, kernel_size=3, padding='same'),\n",
    "            nn.ReLU()\n",
    "        )\n",
    "\n",
    "    def forward(self, x):\n",
    "        return self.conv(x)"
   ]
  },
  {
   "cell_type": "code",
   "execution_count": 21,
   "id": "d90fd9bf",
   "metadata": {
    "ExecuteTime": {
     "end_time": "2025-02-15T17:56:45.135765Z",
     "start_time": "2025-02-15T17:56:45.129393Z"
    }
   },
   "outputs": [],
   "source": [
    "class SinusoidalPositionEmbeddings(nn.Module):\n",
    "    def __init__(self, dim):\n",
    "        super().__init__()\n",
    "        self.dim = dim\n",
    "\n",
    "    def forward(self, time):\n",
    "        device = time.device\n",
    "        half_dim = self.dim // 2\n",
    "        embeddings = math.log(10000) / (half_dim - 1)\n",
    "        embeddings = torch.exp(torch.arange(half_dim, device=device) * -embeddings)\n",
    "        embeddings = time[:, None] * embeddings[None, :]\n",
    "        embeddings = torch.cat((embeddings.sin(), embeddings.cos()), dim=-1)\n",
    "        return embeddings"
   ]
  },
  {
   "cell_type": "code",
   "execution_count": 22,
   "id": "3dd971a3",
   "metadata": {
    "ExecuteTime": {
     "end_time": "2025-02-15T17:56:45.158063Z",
     "start_time": "2025-02-15T17:56:45.140267Z"
    }
   },
   "outputs": [],
   "source": [
    "class UNet1D(nn.Module):\n",
    "    def __init__(self, in_channels=39):\n",
    "        super(UNet1D, self).__init__()\n",
    "        \n",
    "        # Sinusoidal time embeddings\n",
    "        self.time_embed = nn.Sequential(\n",
    "            SinusoidalPositionEmbeddings(32),\n",
    "            nn.Linear(32, 64),\n",
    "            nn.ReLU(),\n",
    "            nn.Linear(64, 64)\n",
    "        )\n",
    "        \n",
    "        # Encoder\n",
    "        self.enc1 = DoubleConv(in_channels, 64)\n",
    "        self.pool1 = nn.MaxPool1d(2, padding=0)\n",
    "        \n",
    "        self.enc2 = DoubleConv(64, 128)\n",
    "        self.pool2 = nn.MaxPool1d(2, padding=0)\n",
    "        \n",
    "        self.enc3 = DoubleConv(128, 256)\n",
    "        self.pool3 = nn.MaxPool1d(2, padding=0)\n",
    "        \n",
    "        # Bottleneck\n",
    "        self.bottleneck = DoubleConv(256, 512)\n",
    "        \n",
    "        # Time feature projection\n",
    "        self.time_mlp = nn.Linear(64, 512)\n",
    "        \n",
    "        # Decoder with output padding to match encoder sizes\n",
    "        self.upconv3 = nn.ConvTranspose1d(512, 256, 2, stride=2, output_padding=0)\n",
    "        self.dec3 = DoubleConv(512, 256)\n",
    "        \n",
    "        self.upconv2 = nn.ConvTranspose1d(256, 128, 2, stride=2, output_padding=0)\n",
    "        self.dec2 = DoubleConv(256, 128)\n",
    "        \n",
    "        self.upconv1 = nn.ConvTranspose1d(128, 64, 2, stride=2, output_padding=0)\n",
    "        self.dec1 = DoubleConv(128, 64)\n",
    "        \n",
    "        self.final_conv = nn.Conv1d(64, in_channels, 1)\n",
    "        \n",
    "    def forward(self, x, t):\n",
    "        # Time embedding\n",
    "        t_emb = self.time_embed(t)\n",
    "        t_emb = self.time_mlp(t_emb)\n",
    "        \n",
    "        # Encoder\n",
    "        e1 = self.enc1(x)\n",
    "        p1 = self.pool1(e1)\n",
    "        \n",
    "        e2 = self.enc2(p1)\n",
    "        p2 = self.pool2(e2)\n",
    "        \n",
    "        e3 = self.enc3(p2)\n",
    "        p3 = self.pool3(e3)\n",
    "        \n",
    "        # Bottleneck with time embedding\n",
    "        b = self.bottleneck(p3)\n",
    "        b = b + t_emb.unsqueeze(-1)\n",
    "        \n",
    "        # Decoder with size adjustment if needed\n",
    "        d3 = self.upconv3(b)\n",
    "        if d3.shape[-1] != e3.shape[-1]:\n",
    "            d3 = F.interpolate(d3, size=e3.shape[-1], mode='linear')\n",
    "        d3 = torch.cat([d3, e3], dim=1)\n",
    "        d3 = self.dec3(d3)\n",
    "        \n",
    "        d2 = self.upconv2(d3)\n",
    "        if d2.shape[-1] != e2.shape[-1]:\n",
    "            d2 = F.interpolate(d2, size=e2.shape[-1], mode='linear')\n",
    "        d2 = torch.cat([d2, e2], dim=1)\n",
    "        d2 = self.dec2(d2)\n",
    "        \n",
    "        d1 = self.upconv1(d2)\n",
    "        if d1.shape[-1] != e1.shape[-1]:\n",
    "            d1 = F.interpolate(d1, size=e1.shape[-1], mode='linear')\n",
    "        d1 = torch.cat([d1, e1], dim=1)\n",
    "        d1 = self.dec1(d1)\n",
    "        \n",
    "        return self.final_conv(d1)"
   ]
  },
  {
   "cell_type": "code",
   "execution_count": 23,
   "id": "f5d9911b",
   "metadata": {
    "ExecuteTime": {
     "end_time": "2025-02-15T17:56:45.175017Z",
     "start_time": "2025-02-15T17:56:45.161809Z"
    }
   },
   "outputs": [],
   "source": [
    "class DDPM:\n",
    "    def __init__(self, num_timesteps=100, beta_start=1e-4, beta_end=0.02):\n",
    "        \"\"\"\n",
    "        num_timesteps: total diffusion steps T\n",
    "        beta_start, beta_end: β₁ and βₜ for linear schedule\n",
    "        \"\"\"\n",
    "        self.num_timesteps = num_timesteps\n",
    "        \n",
    "        # Linear variance schedule\n",
    "        self.betas = torch.linspace(beta_start, beta_end, num_timesteps)\n",
    "        self.alphas = 1. - self.betas\n",
    "        self.alphas_cumprod = torch.cumprod(self.alphas, dim=0)\n",
    "        \n",
    "    def q_sample(self, x_0, t):\n",
    "        \"\"\"\n",
    "        Forward diffusion process: q(x_t | x_0)\n",
    "        Samples from q(x_t | x_0) = N(x_t; √(αₜ)x₀, (1-αₜ)I)\n",
    "        \"\"\"\n",
    "        sqrt_alphas_cumprod = torch.sqrt(self.alphas_cumprod[t])[:, None, None]\n",
    "        sqrt_one_minus_alphas_cumprod = torch.sqrt(1. - self.alphas_cumprod[t])[:, None, None]\n",
    "        epsilon = torch.randn_like(x_0)\n",
    "        return sqrt_alphas_cumprod * x_0 + sqrt_one_minus_alphas_cumprod * epsilon, epsilon\n",
    "    \n",
    "    def sample_t(self, batch_size):\n",
    "        \"\"\"\n",
    "        Uniformly sample timesteps t\n",
    "        \"\"\"\n",
    "        return torch.randint(0, self.num_timesteps, (batch_size,))\n",
    "        \n",
    "    def p_sample(self, model, batch_size, device, shape):\n",
    "        \"\"\"\n",
    "        Reverse diffusion process: p_θ(x_{t-1} | x_t)\n",
    "        Generate samples using the reverse process\n",
    "        \"\"\"\n",
    "        model.eval()\n",
    "        with torch.no_grad():\n",
    "            x_t = torch.randn(batch_size, *shape).to(device)\n",
    "            \n",
    "            for t in reversed(range(1, self.num_timesteps)):\n",
    "                time_tensor = torch.ones(batch_size, dtype=torch.long).to(device) * t\n",
    "                \n",
    "                # Predict noise\n",
    "                predicted_noise = model(x_t, time_tensor)\n",
    "                \n",
    "                alpha = self.alphas[t][:, None, None]\n",
    "                alpha_cumprod = self.alphas_cumprod[t][:, None, None]\n",
    "                beta = self.betas[t][:, None, None]\n",
    "                \n",
    "                # Add noise for stochasticity\n",
    "                noise = torch.randn_like(x_t)\n",
    "                \n",
    "                # Compute mean for p_θ(x_{t-1} | x_t)\n",
    "                x_t = 1 / torch.sqrt(alpha) * (\n",
    "                    x_t - (1 - alpha) / torch.sqrt(1 - alpha_cumprod) * predicted_noise\n",
    "                ) + torch.sqrt(beta) * noise\n",
    "                \n",
    "        model.train()\n",
    "        return x_t"
   ]
  },
  {
   "cell_type": "code",
   "execution_count": 24,
   "id": "eb8d98da",
   "metadata": {
    "ExecuteTime": {
     "end_time": "2025-02-15T17:56:45.185735Z",
     "start_time": "2025-02-15T17:56:45.178296Z"
    }
   },
   "outputs": [],
   "source": [
    "def train_ddpm(model, train_loader, ddpm, optimizer, num_epochs, device):\n",
    "    model.train()\n",
    "    \n",
    "    for epoch in range(num_epochs):\n",
    "        epoch_loss = 0\n",
    "        n_batches = len(train_loader)\n",
    "        \n",
    "        for batch in tqdm(train_loader, desc=f'Epoch {epoch+1}/{num_epochs}'):\n",
    "            # batch is already [batch, features, window_length]\n",
    "            x_0 = batch.to(device)\n",
    "            batch_size = x_0.shape[0]\n",
    "            \n",
    "            optimizer.zero_grad()\n",
    "            t = ddpm.sample_t(batch_size).to(device)\n",
    "            x_t, epsilon = ddpm.q_sample(x_0, t)\n",
    "            epsilon_theta = model(x_t, t)\n",
    "            loss = F.mse_loss(epsilon_theta, epsilon)\n",
    "            loss.backward()\n",
    "            optimizer.step()\n",
    "            \n",
    "            epoch_loss += loss.item()\n",
    "        \n",
    "        avg_loss = epoch_loss / n_batches\n",
    "        print(f'Epoch {epoch+1}/{num_epochs} - Avg Loss: {avg_loss:.4f}')"
   ]
  },
  {
   "cell_type": "code",
   "execution_count": 25,
   "id": "04f9ba7e",
   "metadata": {
    "ExecuteTime": {
     "end_time": "2025-02-15T18:13:04.674592Z",
     "start_time": "2025-02-15T17:56:45.189185Z"
    }
   },
   "outputs": [
    {
     "name": "stdout",
     "output_type": "stream",
     "text": [
      "Train data shape: (823, 40, 39)\n",
      "Dataset sample shape: torch.Size([39, 40])\n",
      "Batch shape: torch.Size([32, 39, 40])\n"
     ]
    },
    {
     "name": "stderr",
     "output_type": "stream",
     "text": [
      "Epoch 1/300: 100%|██████████████████████████████| 26/26 [00:02<00:00,  9.68it/s]\n"
     ]
    },
    {
     "name": "stdout",
     "output_type": "stream",
     "text": [
      "Epoch 1/300 - Avg Loss: 1.0067\n"
     ]
    },
    {
     "name": "stderr",
     "output_type": "stream",
     "text": [
      "Epoch 2/300: 100%|██████████████████████████████| 26/26 [00:02<00:00,  9.98it/s]\n"
     ]
    },
    {
     "name": "stdout",
     "output_type": "stream",
     "text": [
      "Epoch 2/300 - Avg Loss: 1.0008\n"
     ]
    },
    {
     "name": "stderr",
     "output_type": "stream",
     "text": [
      "Epoch 3/300: 100%|██████████████████████████████| 26/26 [00:02<00:00,  9.97it/s]\n"
     ]
    },
    {
     "name": "stdout",
     "output_type": "stream",
     "text": [
      "Epoch 3/300 - Avg Loss: 0.9942\n"
     ]
    },
    {
     "name": "stderr",
     "output_type": "stream",
     "text": [
      "Epoch 4/300: 100%|██████████████████████████████| 26/26 [00:02<00:00,  9.56it/s]\n"
     ]
    },
    {
     "name": "stdout",
     "output_type": "stream",
     "text": [
      "Epoch 4/300 - Avg Loss: 0.9861\n"
     ]
    },
    {
     "name": "stderr",
     "output_type": "stream",
     "text": [
      "Epoch 5/300: 100%|██████████████████████████████| 26/26 [00:02<00:00,  9.35it/s]\n"
     ]
    },
    {
     "name": "stdout",
     "output_type": "stream",
     "text": [
      "Epoch 5/300 - Avg Loss: 0.9735\n"
     ]
    },
    {
     "name": "stderr",
     "output_type": "stream",
     "text": [
      "Epoch 6/300: 100%|██████████████████████████████| 26/26 [00:02<00:00,  8.79it/s]\n"
     ]
    },
    {
     "name": "stdout",
     "output_type": "stream",
     "text": [
      "Epoch 6/300 - Avg Loss: 0.9557\n"
     ]
    },
    {
     "name": "stderr",
     "output_type": "stream",
     "text": [
      "Epoch 7/300: 100%|██████████████████████████████| 26/26 [00:02<00:00,  8.87it/s]\n"
     ]
    },
    {
     "name": "stdout",
     "output_type": "stream",
     "text": [
      "Epoch 7/300 - Avg Loss: 0.9407\n"
     ]
    },
    {
     "name": "stderr",
     "output_type": "stream",
     "text": [
      "Epoch 8/300: 100%|██████████████████████████████| 26/26 [00:03<00:00,  8.47it/s]\n"
     ]
    },
    {
     "name": "stdout",
     "output_type": "stream",
     "text": [
      "Epoch 8/300 - Avg Loss: 0.9219\n"
     ]
    },
    {
     "name": "stderr",
     "output_type": "stream",
     "text": [
      "Epoch 9/300: 100%|██████████████████████████████| 26/26 [00:02<00:00,  8.80it/s]\n"
     ]
    },
    {
     "name": "stdout",
     "output_type": "stream",
     "text": [
      "Epoch 9/300 - Avg Loss: 0.9068\n"
     ]
    },
    {
     "name": "stderr",
     "output_type": "stream",
     "text": [
      "Epoch 10/300: 100%|█████████████████████████████| 26/26 [00:03<00:00,  8.40it/s]\n"
     ]
    },
    {
     "name": "stdout",
     "output_type": "stream",
     "text": [
      "Epoch 10/300 - Avg Loss: 0.8951\n"
     ]
    },
    {
     "name": "stderr",
     "output_type": "stream",
     "text": [
      "Epoch 11/300: 100%|█████████████████████████████| 26/26 [00:03<00:00,  7.95it/s]\n"
     ]
    },
    {
     "name": "stdout",
     "output_type": "stream",
     "text": [
      "Epoch 11/300 - Avg Loss: 0.8803\n"
     ]
    },
    {
     "name": "stderr",
     "output_type": "stream",
     "text": [
      "Epoch 12/300: 100%|█████████████████████████████| 26/26 [00:03<00:00,  8.56it/s]\n"
     ]
    },
    {
     "name": "stdout",
     "output_type": "stream",
     "text": [
      "Epoch 12/300 - Avg Loss: 0.8740\n"
     ]
    },
    {
     "name": "stderr",
     "output_type": "stream",
     "text": [
      "Epoch 13/300: 100%|█████████████████████████████| 26/26 [00:03<00:00,  7.67it/s]\n"
     ]
    },
    {
     "name": "stdout",
     "output_type": "stream",
     "text": [
      "Epoch 13/300 - Avg Loss: 0.8641\n"
     ]
    },
    {
     "name": "stderr",
     "output_type": "stream",
     "text": [
      "Epoch 14/300: 100%|█████████████████████████████| 26/26 [00:03<00:00,  8.53it/s]\n"
     ]
    },
    {
     "name": "stdout",
     "output_type": "stream",
     "text": [
      "Epoch 14/300 - Avg Loss: 0.8541\n"
     ]
    },
    {
     "name": "stderr",
     "output_type": "stream",
     "text": [
      "Epoch 15/300: 100%|█████████████████████████████| 26/26 [00:03<00:00,  8.17it/s]\n"
     ]
    },
    {
     "name": "stdout",
     "output_type": "stream",
     "text": [
      "Epoch 15/300 - Avg Loss: 0.8427\n"
     ]
    },
    {
     "name": "stderr",
     "output_type": "stream",
     "text": [
      "Epoch 16/300: 100%|█████████████████████████████| 26/26 [00:03<00:00,  8.45it/s]\n"
     ]
    },
    {
     "name": "stdout",
     "output_type": "stream",
     "text": [
      "Epoch 16/300 - Avg Loss: 0.8385\n"
     ]
    },
    {
     "name": "stderr",
     "output_type": "stream",
     "text": [
      "Epoch 17/300: 100%|█████████████████████████████| 26/26 [00:03<00:00,  8.27it/s]\n"
     ]
    },
    {
     "name": "stdout",
     "output_type": "stream",
     "text": [
      "Epoch 17/300 - Avg Loss: 0.8335\n"
     ]
    },
    {
     "name": "stderr",
     "output_type": "stream",
     "text": [
      "Epoch 18/300: 100%|█████████████████████████████| 26/26 [00:03<00:00,  8.66it/s]\n"
     ]
    },
    {
     "name": "stdout",
     "output_type": "stream",
     "text": [
      "Epoch 18/300 - Avg Loss: 0.8272\n"
     ]
    },
    {
     "name": "stderr",
     "output_type": "stream",
     "text": [
      "Epoch 19/300: 100%|█████████████████████████████| 26/26 [00:03<00:00,  8.19it/s]\n"
     ]
    },
    {
     "name": "stdout",
     "output_type": "stream",
     "text": [
      "Epoch 19/300 - Avg Loss: 0.8177\n"
     ]
    },
    {
     "name": "stderr",
     "output_type": "stream",
     "text": [
      "Epoch 20/300: 100%|█████████████████████████████| 26/26 [00:03<00:00,  8.61it/s]\n"
     ]
    },
    {
     "name": "stdout",
     "output_type": "stream",
     "text": [
      "Epoch 20/300 - Avg Loss: 0.8146\n"
     ]
    },
    {
     "name": "stderr",
     "output_type": "stream",
     "text": [
      "Epoch 21/300: 100%|█████████████████████████████| 26/26 [00:03<00:00,  8.39it/s]\n"
     ]
    },
    {
     "name": "stdout",
     "output_type": "stream",
     "text": [
      "Epoch 21/300 - Avg Loss: 0.8112\n"
     ]
    },
    {
     "name": "stderr",
     "output_type": "stream",
     "text": [
      "Epoch 22/300: 100%|█████████████████████████████| 26/26 [00:02<00:00,  8.79it/s]\n"
     ]
    },
    {
     "name": "stdout",
     "output_type": "stream",
     "text": [
      "Epoch 22/300 - Avg Loss: 0.7992\n"
     ]
    },
    {
     "name": "stderr",
     "output_type": "stream",
     "text": [
      "Epoch 23/300: 100%|█████████████████████████████| 26/26 [00:02<00:00,  8.77it/s]\n"
     ]
    },
    {
     "name": "stdout",
     "output_type": "stream",
     "text": [
      "Epoch 23/300 - Avg Loss: 0.7887\n"
     ]
    },
    {
     "name": "stderr",
     "output_type": "stream",
     "text": [
      "Epoch 24/300: 100%|█████████████████████████████| 26/26 [00:03<00:00,  8.65it/s]\n"
     ]
    },
    {
     "name": "stdout",
     "output_type": "stream",
     "text": [
      "Epoch 24/300 - Avg Loss: 0.7880\n"
     ]
    },
    {
     "name": "stderr",
     "output_type": "stream",
     "text": [
      "Epoch 25/300: 100%|█████████████████████████████| 26/26 [00:03<00:00,  8.44it/s]\n"
     ]
    },
    {
     "name": "stdout",
     "output_type": "stream",
     "text": [
      "Epoch 25/300 - Avg Loss: 0.7802\n"
     ]
    },
    {
     "name": "stderr",
     "output_type": "stream",
     "text": [
      "Epoch 26/300: 100%|█████████████████████████████| 26/26 [00:02<00:00,  8.73it/s]\n"
     ]
    },
    {
     "name": "stdout",
     "output_type": "stream",
     "text": [
      "Epoch 26/300 - Avg Loss: 0.7775\n"
     ]
    },
    {
     "name": "stderr",
     "output_type": "stream",
     "text": [
      "Epoch 27/300: 100%|█████████████████████████████| 26/26 [00:02<00:00,  8.74it/s]\n"
     ]
    },
    {
     "name": "stdout",
     "output_type": "stream",
     "text": [
      "Epoch 27/300 - Avg Loss: 0.7682\n"
     ]
    },
    {
     "name": "stderr",
     "output_type": "stream",
     "text": [
      "Epoch 28/300: 100%|█████████████████████████████| 26/26 [00:03<00:00,  8.49it/s]\n"
     ]
    },
    {
     "name": "stdout",
     "output_type": "stream",
     "text": [
      "Epoch 28/300 - Avg Loss: 0.7650\n"
     ]
    },
    {
     "name": "stderr",
     "output_type": "stream",
     "text": [
      "Epoch 29/300: 100%|█████████████████████████████| 26/26 [00:03<00:00,  8.27it/s]\n"
     ]
    },
    {
     "name": "stdout",
     "output_type": "stream",
     "text": [
      "Epoch 29/300 - Avg Loss: 0.7674\n"
     ]
    },
    {
     "name": "stderr",
     "output_type": "stream",
     "text": [
      "Epoch 30/300: 100%|█████████████████████████████| 26/26 [00:02<00:00,  8.84it/s]\n"
     ]
    },
    {
     "name": "stdout",
     "output_type": "stream",
     "text": [
      "Epoch 30/300 - Avg Loss: 0.7585\n"
     ]
    },
    {
     "name": "stderr",
     "output_type": "stream",
     "text": [
      "Epoch 31/300: 100%|█████████████████████████████| 26/26 [00:03<00:00,  7.68it/s]\n"
     ]
    },
    {
     "name": "stdout",
     "output_type": "stream",
     "text": [
      "Epoch 31/300 - Avg Loss: 0.7495\n"
     ]
    },
    {
     "name": "stderr",
     "output_type": "stream",
     "text": [
      "Epoch 32/300: 100%|█████████████████████████████| 26/26 [00:03<00:00,  7.51it/s]\n"
     ]
    },
    {
     "name": "stdout",
     "output_type": "stream",
     "text": [
      "Epoch 32/300 - Avg Loss: 0.7512\n"
     ]
    },
    {
     "name": "stderr",
     "output_type": "stream",
     "text": [
      "Epoch 33/300: 100%|█████████████████████████████| 26/26 [00:03<00:00,  8.30it/s]\n"
     ]
    },
    {
     "name": "stdout",
     "output_type": "stream",
     "text": [
      "Epoch 33/300 - Avg Loss: 0.7452\n"
     ]
    },
    {
     "name": "stderr",
     "output_type": "stream",
     "text": [
      "Epoch 34/300: 100%|█████████████████████████████| 26/26 [00:03<00:00,  8.10it/s]\n"
     ]
    },
    {
     "name": "stdout",
     "output_type": "stream",
     "text": [
      "Epoch 34/300 - Avg Loss: 0.7384\n"
     ]
    },
    {
     "name": "stderr",
     "output_type": "stream",
     "text": [
      "Epoch 35/300: 100%|█████████████████████████████| 26/26 [00:02<00:00,  8.89it/s]\n"
     ]
    },
    {
     "name": "stdout",
     "output_type": "stream",
     "text": [
      "Epoch 35/300 - Avg Loss: 0.7336\n"
     ]
    },
    {
     "name": "stderr",
     "output_type": "stream",
     "text": [
      "Epoch 36/300: 100%|█████████████████████████████| 26/26 [00:02<00:00,  8.77it/s]\n"
     ]
    },
    {
     "name": "stdout",
     "output_type": "stream",
     "text": [
      "Epoch 36/300 - Avg Loss: 0.7265\n"
     ]
    },
    {
     "name": "stderr",
     "output_type": "stream",
     "text": [
      "Epoch 37/300: 100%|█████████████████████████████| 26/26 [00:03<00:00,  8.53it/s]\n"
     ]
    },
    {
     "name": "stdout",
     "output_type": "stream",
     "text": [
      "Epoch 37/300 - Avg Loss: 0.7388\n"
     ]
    },
    {
     "name": "stderr",
     "output_type": "stream",
     "text": [
      "Epoch 38/300: 100%|█████████████████████████████| 26/26 [00:03<00:00,  8.15it/s]\n"
     ]
    },
    {
     "name": "stdout",
     "output_type": "stream",
     "text": [
      "Epoch 38/300 - Avg Loss: 0.7206\n"
     ]
    },
    {
     "name": "stderr",
     "output_type": "stream",
     "text": [
      "Epoch 39/300: 100%|█████████████████████████████| 26/26 [00:02<00:00,  8.77it/s]\n"
     ]
    },
    {
     "name": "stdout",
     "output_type": "stream",
     "text": [
      "Epoch 39/300 - Avg Loss: 0.7286\n"
     ]
    },
    {
     "name": "stderr",
     "output_type": "stream",
     "text": [
      "Epoch 40/300: 100%|█████████████████████████████| 26/26 [00:03<00:00,  8.49it/s]\n"
     ]
    },
    {
     "name": "stdout",
     "output_type": "stream",
     "text": [
      "Epoch 40/300 - Avg Loss: 0.7135\n"
     ]
    },
    {
     "name": "stderr",
     "output_type": "stream",
     "text": [
      "Epoch 41/300: 100%|█████████████████████████████| 26/26 [00:02<00:00,  8.82it/s]\n"
     ]
    },
    {
     "name": "stdout",
     "output_type": "stream",
     "text": [
      "Epoch 41/300 - Avg Loss: 0.7128\n"
     ]
    },
    {
     "name": "stderr",
     "output_type": "stream",
     "text": [
      "Epoch 42/300: 100%|█████████████████████████████| 26/26 [00:03<00:00,  8.59it/s]\n"
     ]
    },
    {
     "name": "stdout",
     "output_type": "stream",
     "text": [
      "Epoch 42/300 - Avg Loss: 0.7123\n"
     ]
    },
    {
     "name": "stderr",
     "output_type": "stream",
     "text": [
      "Epoch 43/300: 100%|█████████████████████████████| 26/26 [00:03<00:00,  8.51it/s]\n"
     ]
    },
    {
     "name": "stdout",
     "output_type": "stream",
     "text": [
      "Epoch 43/300 - Avg Loss: 0.7096\n"
     ]
    },
    {
     "name": "stderr",
     "output_type": "stream",
     "text": [
      "Epoch 44/300: 100%|█████████████████████████████| 26/26 [00:03<00:00,  8.45it/s]\n"
     ]
    },
    {
     "name": "stdout",
     "output_type": "stream",
     "text": [
      "Epoch 44/300 - Avg Loss: 0.7095\n"
     ]
    },
    {
     "name": "stderr",
     "output_type": "stream",
     "text": [
      "Epoch 45/300: 100%|█████████████████████████████| 26/26 [00:03<00:00,  8.60it/s]\n"
     ]
    },
    {
     "name": "stdout",
     "output_type": "stream",
     "text": [
      "Epoch 45/300 - Avg Loss: 0.7143\n"
     ]
    },
    {
     "name": "stderr",
     "output_type": "stream",
     "text": [
      "Epoch 46/300: 100%|█████████████████████████████| 26/26 [00:03<00:00,  8.46it/s]\n"
     ]
    },
    {
     "name": "stdout",
     "output_type": "stream",
     "text": [
      "Epoch 46/300 - Avg Loss: 0.6961\n"
     ]
    },
    {
     "name": "stderr",
     "output_type": "stream",
     "text": [
      "Epoch 47/300: 100%|█████████████████████████████| 26/26 [00:03<00:00,  8.57it/s]\n"
     ]
    },
    {
     "name": "stdout",
     "output_type": "stream",
     "text": [
      "Epoch 47/300 - Avg Loss: 0.7002\n"
     ]
    },
    {
     "name": "stderr",
     "output_type": "stream",
     "text": [
      "Epoch 48/300: 100%|█████████████████████████████| 26/26 [00:03<00:00,  8.45it/s]\n"
     ]
    },
    {
     "name": "stdout",
     "output_type": "stream",
     "text": [
      "Epoch 48/300 - Avg Loss: 0.7064\n"
     ]
    },
    {
     "name": "stderr",
     "output_type": "stream",
     "text": [
      "Epoch 49/300: 100%|█████████████████████████████| 26/26 [00:03<00:00,  8.63it/s]\n"
     ]
    },
    {
     "name": "stdout",
     "output_type": "stream",
     "text": [
      "Epoch 49/300 - Avg Loss: 0.7003\n"
     ]
    },
    {
     "name": "stderr",
     "output_type": "stream",
     "text": [
      "Epoch 50/300: 100%|█████████████████████████████| 26/26 [00:03<00:00,  8.45it/s]\n"
     ]
    },
    {
     "name": "stdout",
     "output_type": "stream",
     "text": [
      "Epoch 50/300 - Avg Loss: 0.6959\n"
     ]
    },
    {
     "name": "stderr",
     "output_type": "stream",
     "text": [
      "Epoch 51/300: 100%|█████████████████████████████| 26/26 [00:03<00:00,  8.48it/s]\n"
     ]
    },
    {
     "name": "stdout",
     "output_type": "stream",
     "text": [
      "Epoch 51/300 - Avg Loss: 0.6910\n"
     ]
    },
    {
     "name": "stderr",
     "output_type": "stream",
     "text": [
      "Epoch 52/300: 100%|█████████████████████████████| 26/26 [00:03<00:00,  6.84it/s]\n"
     ]
    },
    {
     "name": "stdout",
     "output_type": "stream",
     "text": [
      "Epoch 52/300 - Avg Loss: 0.6931\n"
     ]
    },
    {
     "name": "stderr",
     "output_type": "stream",
     "text": [
      "Epoch 53/300: 100%|█████████████████████████████| 26/26 [00:03<00:00,  8.47it/s]\n"
     ]
    },
    {
     "name": "stdout",
     "output_type": "stream",
     "text": [
      "Epoch 53/300 - Avg Loss: 0.6936\n"
     ]
    },
    {
     "name": "stderr",
     "output_type": "stream",
     "text": [
      "Epoch 54/300: 100%|█████████████████████████████| 26/26 [00:03<00:00,  8.54it/s]\n"
     ]
    },
    {
     "name": "stdout",
     "output_type": "stream",
     "text": [
      "Epoch 54/300 - Avg Loss: 0.6840\n"
     ]
    },
    {
     "name": "stderr",
     "output_type": "stream",
     "text": [
      "Epoch 55/300: 100%|█████████████████████████████| 26/26 [00:03<00:00,  8.44it/s]\n"
     ]
    },
    {
     "name": "stdout",
     "output_type": "stream",
     "text": [
      "Epoch 55/300 - Avg Loss: 0.6942\n"
     ]
    },
    {
     "name": "stderr",
     "output_type": "stream",
     "text": [
      "Epoch 56/300: 100%|█████████████████████████████| 26/26 [00:03<00:00,  8.24it/s]\n"
     ]
    },
    {
     "name": "stdout",
     "output_type": "stream",
     "text": [
      "Epoch 56/300 - Avg Loss: 0.6778\n"
     ]
    },
    {
     "name": "stderr",
     "output_type": "stream",
     "text": [
      "Epoch 57/300: 100%|█████████████████████████████| 26/26 [00:03<00:00,  8.41it/s]\n"
     ]
    },
    {
     "name": "stdout",
     "output_type": "stream",
     "text": [
      "Epoch 57/300 - Avg Loss: 0.6714\n"
     ]
    },
    {
     "name": "stderr",
     "output_type": "stream",
     "text": [
      "Epoch 58/300: 100%|█████████████████████████████| 26/26 [00:02<00:00, 11.50it/s]\n"
     ]
    },
    {
     "name": "stdout",
     "output_type": "stream",
     "text": [
      "Epoch 58/300 - Avg Loss: 0.6819\n"
     ]
    },
    {
     "name": "stderr",
     "output_type": "stream",
     "text": [
      "Epoch 59/300: 100%|█████████████████████████████| 26/26 [00:01<00:00, 13.98it/s]\n"
     ]
    },
    {
     "name": "stdout",
     "output_type": "stream",
     "text": [
      "Epoch 59/300 - Avg Loss: 0.6739\n"
     ]
    },
    {
     "name": "stderr",
     "output_type": "stream",
     "text": [
      "Epoch 60/300: 100%|█████████████████████████████| 26/26 [00:01<00:00, 13.81it/s]\n"
     ]
    },
    {
     "name": "stdout",
     "output_type": "stream",
     "text": [
      "Epoch 60/300 - Avg Loss: 0.6771\n"
     ]
    },
    {
     "name": "stderr",
     "output_type": "stream",
     "text": [
      "Epoch 61/300: 100%|█████████████████████████████| 26/26 [00:02<00:00, 12.18it/s]\n"
     ]
    },
    {
     "name": "stdout",
     "output_type": "stream",
     "text": [
      "Epoch 61/300 - Avg Loss: 0.6657\n"
     ]
    },
    {
     "name": "stderr",
     "output_type": "stream",
     "text": [
      "Epoch 62/300: 100%|█████████████████████████████| 26/26 [00:02<00:00, 12.73it/s]\n"
     ]
    },
    {
     "name": "stdout",
     "output_type": "stream",
     "text": [
      "Epoch 62/300 - Avg Loss: 0.6787\n"
     ]
    },
    {
     "name": "stderr",
     "output_type": "stream",
     "text": [
      "Epoch 63/300: 100%|█████████████████████████████| 26/26 [00:02<00:00, 10.92it/s]\n"
     ]
    },
    {
     "name": "stdout",
     "output_type": "stream",
     "text": [
      "Epoch 63/300 - Avg Loss: 0.6605\n"
     ]
    },
    {
     "name": "stderr",
     "output_type": "stream",
     "text": [
      "Epoch 64/300: 100%|█████████████████████████████| 26/26 [00:02<00:00, 10.38it/s]\n"
     ]
    },
    {
     "name": "stdout",
     "output_type": "stream",
     "text": [
      "Epoch 64/300 - Avg Loss: 0.6647\n"
     ]
    },
    {
     "name": "stderr",
     "output_type": "stream",
     "text": [
      "Epoch 65/300: 100%|█████████████████████████████| 26/26 [00:02<00:00,  9.90it/s]\n"
     ]
    },
    {
     "name": "stdout",
     "output_type": "stream",
     "text": [
      "Epoch 65/300 - Avg Loss: 0.6608\n"
     ]
    },
    {
     "name": "stderr",
     "output_type": "stream",
     "text": [
      "Epoch 66/300: 100%|█████████████████████████████| 26/26 [00:02<00:00, 11.17it/s]\n"
     ]
    },
    {
     "name": "stdout",
     "output_type": "stream",
     "text": [
      "Epoch 66/300 - Avg Loss: 0.6684\n"
     ]
    },
    {
     "name": "stderr",
     "output_type": "stream",
     "text": [
      "Epoch 67/300: 100%|█████████████████████████████| 26/26 [00:02<00:00, 10.67it/s]\n"
     ]
    },
    {
     "name": "stdout",
     "output_type": "stream",
     "text": [
      "Epoch 67/300 - Avg Loss: 0.6585\n"
     ]
    },
    {
     "name": "stderr",
     "output_type": "stream",
     "text": [
      "Epoch 68/300: 100%|█████████████████████████████| 26/26 [00:02<00:00, 10.76it/s]\n"
     ]
    },
    {
     "name": "stdout",
     "output_type": "stream",
     "text": [
      "Epoch 68/300 - Avg Loss: 0.6552\n"
     ]
    },
    {
     "name": "stderr",
     "output_type": "stream",
     "text": [
      "Epoch 69/300: 100%|█████████████████████████████| 26/26 [00:02<00:00, 10.34it/s]\n"
     ]
    },
    {
     "name": "stdout",
     "output_type": "stream",
     "text": [
      "Epoch 69/300 - Avg Loss: 0.6648\n"
     ]
    },
    {
     "name": "stderr",
     "output_type": "stream",
     "text": [
      "Epoch 70/300: 100%|█████████████████████████████| 26/26 [00:02<00:00, 10.55it/s]\n"
     ]
    },
    {
     "name": "stdout",
     "output_type": "stream",
     "text": [
      "Epoch 70/300 - Avg Loss: 0.6600\n"
     ]
    },
    {
     "name": "stderr",
     "output_type": "stream",
     "text": [
      "Epoch 71/300: 100%|█████████████████████████████| 26/26 [00:02<00:00,  9.87it/s]\n"
     ]
    },
    {
     "name": "stdout",
     "output_type": "stream",
     "text": [
      "Epoch 71/300 - Avg Loss: 0.6604\n"
     ]
    },
    {
     "name": "stderr",
     "output_type": "stream",
     "text": [
      "Epoch 72/300: 100%|█████████████████████████████| 26/26 [00:02<00:00, 10.08it/s]\n"
     ]
    },
    {
     "name": "stdout",
     "output_type": "stream",
     "text": [
      "Epoch 72/300 - Avg Loss: 0.6520\n"
     ]
    },
    {
     "name": "stderr",
     "output_type": "stream",
     "text": [
      "Epoch 73/300: 100%|█████████████████████████████| 26/26 [00:03<00:00,  7.92it/s]\n"
     ]
    },
    {
     "name": "stdout",
     "output_type": "stream",
     "text": [
      "Epoch 73/300 - Avg Loss: 0.6534\n"
     ]
    },
    {
     "name": "stderr",
     "output_type": "stream",
     "text": [
      "Epoch 74/300: 100%|█████████████████████████████| 26/26 [00:03<00:00,  7.07it/s]\n"
     ]
    },
    {
     "name": "stdout",
     "output_type": "stream",
     "text": [
      "Epoch 74/300 - Avg Loss: 0.6516\n"
     ]
    },
    {
     "name": "stderr",
     "output_type": "stream",
     "text": [
      "Epoch 75/300: 100%|█████████████████████████████| 26/26 [00:03<00:00,  7.24it/s]\n"
     ]
    },
    {
     "name": "stdout",
     "output_type": "stream",
     "text": [
      "Epoch 75/300 - Avg Loss: 0.6327\n"
     ]
    },
    {
     "name": "stderr",
     "output_type": "stream",
     "text": [
      "Epoch 76/300: 100%|█████████████████████████████| 26/26 [00:03<00:00,  7.88it/s]\n"
     ]
    },
    {
     "name": "stdout",
     "output_type": "stream",
     "text": [
      "Epoch 76/300 - Avg Loss: 0.6470\n"
     ]
    },
    {
     "name": "stderr",
     "output_type": "stream",
     "text": [
      "Epoch 77/300: 100%|█████████████████████████████| 26/26 [00:03<00:00,  7.46it/s]\n"
     ]
    },
    {
     "name": "stdout",
     "output_type": "stream",
     "text": [
      "Epoch 77/300 - Avg Loss: 0.6469\n"
     ]
    },
    {
     "name": "stderr",
     "output_type": "stream",
     "text": [
      "Epoch 78/300: 100%|█████████████████████████████| 26/26 [00:03<00:00,  7.53it/s]\n"
     ]
    },
    {
     "name": "stdout",
     "output_type": "stream",
     "text": [
      "Epoch 78/300 - Avg Loss: 0.6522\n"
     ]
    },
    {
     "name": "stderr",
     "output_type": "stream",
     "text": [
      "Epoch 79/300: 100%|█████████████████████████████| 26/26 [00:03<00:00,  7.54it/s]\n"
     ]
    },
    {
     "name": "stdout",
     "output_type": "stream",
     "text": [
      "Epoch 79/300 - Avg Loss: 0.6347\n"
     ]
    },
    {
     "name": "stderr",
     "output_type": "stream",
     "text": [
      "Epoch 80/300: 100%|█████████████████████████████| 26/26 [00:03<00:00,  8.22it/s]\n"
     ]
    },
    {
     "name": "stdout",
     "output_type": "stream",
     "text": [
      "Epoch 80/300 - Avg Loss: 0.6428\n"
     ]
    },
    {
     "name": "stderr",
     "output_type": "stream",
     "text": [
      "Epoch 81/300: 100%|█████████████████████████████| 26/26 [00:03<00:00,  7.91it/s]\n"
     ]
    },
    {
     "name": "stdout",
     "output_type": "stream",
     "text": [
      "Epoch 81/300 - Avg Loss: 0.6395\n"
     ]
    },
    {
     "name": "stderr",
     "output_type": "stream",
     "text": [
      "Epoch 82/300: 100%|█████████████████████████████| 26/26 [00:03<00:00,  7.79it/s]\n"
     ]
    },
    {
     "name": "stdout",
     "output_type": "stream",
     "text": [
      "Epoch 82/300 - Avg Loss: 0.6405\n"
     ]
    },
    {
     "name": "stderr",
     "output_type": "stream",
     "text": [
      "Epoch 83/300: 100%|█████████████████████████████| 26/26 [00:03<00:00,  6.83it/s]\n"
     ]
    },
    {
     "name": "stdout",
     "output_type": "stream",
     "text": [
      "Epoch 83/300 - Avg Loss: 0.6354\n"
     ]
    },
    {
     "name": "stderr",
     "output_type": "stream",
     "text": [
      "Epoch 84/300: 100%|█████████████████████████████| 26/26 [00:03<00:00,  6.63it/s]\n"
     ]
    },
    {
     "name": "stdout",
     "output_type": "stream",
     "text": [
      "Epoch 84/300 - Avg Loss: 0.6355\n"
     ]
    },
    {
     "name": "stderr",
     "output_type": "stream",
     "text": [
      "Epoch 85/300: 100%|█████████████████████████████| 26/26 [00:03<00:00,  6.70it/s]\n"
     ]
    },
    {
     "name": "stdout",
     "output_type": "stream",
     "text": [
      "Epoch 85/300 - Avg Loss: 0.6298\n"
     ]
    },
    {
     "name": "stderr",
     "output_type": "stream",
     "text": [
      "Epoch 86/300: 100%|█████████████████████████████| 26/26 [00:03<00:00,  6.73it/s]\n"
     ]
    },
    {
     "name": "stdout",
     "output_type": "stream",
     "text": [
      "Epoch 86/300 - Avg Loss: 0.6317\n"
     ]
    },
    {
     "name": "stderr",
     "output_type": "stream",
     "text": [
      "Epoch 87/300: 100%|█████████████████████████████| 26/26 [00:04<00:00,  6.32it/s]\n"
     ]
    },
    {
     "name": "stdout",
     "output_type": "stream",
     "text": [
      "Epoch 87/300 - Avg Loss: 0.6349\n"
     ]
    },
    {
     "name": "stderr",
     "output_type": "stream",
     "text": [
      "Epoch 88/300: 100%|█████████████████████████████| 26/26 [00:03<00:00,  7.53it/s]\n"
     ]
    },
    {
     "name": "stdout",
     "output_type": "stream",
     "text": [
      "Epoch 88/300 - Avg Loss: 0.6253\n"
     ]
    },
    {
     "name": "stderr",
     "output_type": "stream",
     "text": [
      "Epoch 89/300: 100%|█████████████████████████████| 26/26 [00:03<00:00,  8.06it/s]\n"
     ]
    },
    {
     "name": "stdout",
     "output_type": "stream",
     "text": [
      "Epoch 89/300 - Avg Loss: 0.6295\n"
     ]
    },
    {
     "name": "stderr",
     "output_type": "stream",
     "text": [
      "Epoch 90/300: 100%|█████████████████████████████| 26/26 [00:03<00:00,  8.17it/s]\n"
     ]
    },
    {
     "name": "stdout",
     "output_type": "stream",
     "text": [
      "Epoch 90/300 - Avg Loss: 0.6280\n"
     ]
    },
    {
     "name": "stderr",
     "output_type": "stream",
     "text": [
      "Epoch 91/300: 100%|█████████████████████████████| 26/26 [00:02<00:00,  8.79it/s]\n"
     ]
    },
    {
     "name": "stdout",
     "output_type": "stream",
     "text": [
      "Epoch 91/300 - Avg Loss: 0.6317\n"
     ]
    },
    {
     "name": "stderr",
     "output_type": "stream",
     "text": [
      "Epoch 92/300: 100%|█████████████████████████████| 26/26 [00:02<00:00, 10.82it/s]\n"
     ]
    },
    {
     "name": "stdout",
     "output_type": "stream",
     "text": [
      "Epoch 92/300 - Avg Loss: 0.6309\n"
     ]
    },
    {
     "name": "stderr",
     "output_type": "stream",
     "text": [
      "Epoch 93/300: 100%|█████████████████████████████| 26/26 [00:02<00:00, 12.53it/s]\n"
     ]
    },
    {
     "name": "stdout",
     "output_type": "stream",
     "text": [
      "Epoch 93/300 - Avg Loss: 0.6208\n"
     ]
    },
    {
     "name": "stderr",
     "output_type": "stream",
     "text": [
      "Epoch 94/300: 100%|█████████████████████████████| 26/26 [00:02<00:00, 12.04it/s]\n"
     ]
    },
    {
     "name": "stdout",
     "output_type": "stream",
     "text": [
      "Epoch 94/300 - Avg Loss: 0.6282\n"
     ]
    },
    {
     "name": "stderr",
     "output_type": "stream",
     "text": [
      "Epoch 95/300: 100%|█████████████████████████████| 26/26 [00:02<00:00, 12.22it/s]\n"
     ]
    },
    {
     "name": "stdout",
     "output_type": "stream",
     "text": [
      "Epoch 95/300 - Avg Loss: 0.6271\n"
     ]
    },
    {
     "name": "stderr",
     "output_type": "stream",
     "text": [
      "Epoch 96/300: 100%|█████████████████████████████| 26/26 [00:02<00:00, 10.05it/s]\n"
     ]
    },
    {
     "name": "stdout",
     "output_type": "stream",
     "text": [
      "Epoch 96/300 - Avg Loss: 0.6277\n"
     ]
    },
    {
     "name": "stderr",
     "output_type": "stream",
     "text": [
      "Epoch 97/300: 100%|█████████████████████████████| 26/26 [00:02<00:00,  9.69it/s]\n"
     ]
    },
    {
     "name": "stdout",
     "output_type": "stream",
     "text": [
      "Epoch 97/300 - Avg Loss: 0.6216\n"
     ]
    },
    {
     "name": "stderr",
     "output_type": "stream",
     "text": [
      "Epoch 98/300: 100%|█████████████████████████████| 26/26 [00:02<00:00,  9.91it/s]\n"
     ]
    },
    {
     "name": "stdout",
     "output_type": "stream",
     "text": [
      "Epoch 98/300 - Avg Loss: 0.6212\n"
     ]
    },
    {
     "name": "stderr",
     "output_type": "stream",
     "text": [
      "Epoch 99/300: 100%|█████████████████████████████| 26/26 [00:02<00:00, 10.85it/s]\n"
     ]
    },
    {
     "name": "stdout",
     "output_type": "stream",
     "text": [
      "Epoch 99/300 - Avg Loss: 0.6227\n"
     ]
    },
    {
     "name": "stderr",
     "output_type": "stream",
     "text": [
      "Epoch 100/300: 100%|████████████████████████████| 26/26 [00:02<00:00, 10.78it/s]\n"
     ]
    },
    {
     "name": "stdout",
     "output_type": "stream",
     "text": [
      "Epoch 100/300 - Avg Loss: 0.6078\n"
     ]
    },
    {
     "name": "stderr",
     "output_type": "stream",
     "text": [
      "Epoch 101/300: 100%|████████████████████████████| 26/26 [00:02<00:00, 10.51it/s]\n"
     ]
    },
    {
     "name": "stdout",
     "output_type": "stream",
     "text": [
      "Epoch 101/300 - Avg Loss: 0.6172\n"
     ]
    },
    {
     "name": "stderr",
     "output_type": "stream",
     "text": [
      "Epoch 102/300: 100%|████████████████████████████| 26/26 [00:02<00:00,  9.22it/s]\n"
     ]
    },
    {
     "name": "stdout",
     "output_type": "stream",
     "text": [
      "Epoch 102/300 - Avg Loss: 0.6163\n"
     ]
    },
    {
     "name": "stderr",
     "output_type": "stream",
     "text": [
      "Epoch 103/300: 100%|████████████████████████████| 26/26 [00:02<00:00,  9.15it/s]\n"
     ]
    },
    {
     "name": "stdout",
     "output_type": "stream",
     "text": [
      "Epoch 103/300 - Avg Loss: 0.6123\n"
     ]
    },
    {
     "name": "stderr",
     "output_type": "stream",
     "text": [
      "Epoch 104/300: 100%|████████████████████████████| 26/26 [00:02<00:00,  8.75it/s]\n"
     ]
    },
    {
     "name": "stdout",
     "output_type": "stream",
     "text": [
      "Epoch 104/300 - Avg Loss: 0.6035\n"
     ]
    },
    {
     "name": "stderr",
     "output_type": "stream",
     "text": [
      "Epoch 105/300: 100%|████████████████████████████| 26/26 [00:02<00:00,  9.13it/s]\n"
     ]
    },
    {
     "name": "stdout",
     "output_type": "stream",
     "text": [
      "Epoch 105/300 - Avg Loss: 0.6075\n"
     ]
    },
    {
     "name": "stderr",
     "output_type": "stream",
     "text": [
      "Epoch 106/300: 100%|████████████████████████████| 26/26 [00:03<00:00,  7.86it/s]\n"
     ]
    },
    {
     "name": "stdout",
     "output_type": "stream",
     "text": [
      "Epoch 106/300 - Avg Loss: 0.5993\n"
     ]
    },
    {
     "name": "stderr",
     "output_type": "stream",
     "text": [
      "Epoch 107/300: 100%|████████████████████████████| 26/26 [00:03<00:00,  7.53it/s]\n"
     ]
    },
    {
     "name": "stdout",
     "output_type": "stream",
     "text": [
      "Epoch 107/300 - Avg Loss: 0.6122\n"
     ]
    },
    {
     "name": "stderr",
     "output_type": "stream",
     "text": [
      "Epoch 108/300: 100%|████████████████████████████| 26/26 [00:03<00:00,  6.52it/s]\n"
     ]
    },
    {
     "name": "stdout",
     "output_type": "stream",
     "text": [
      "Epoch 108/300 - Avg Loss: 0.6154\n"
     ]
    },
    {
     "name": "stderr",
     "output_type": "stream",
     "text": [
      "Epoch 109/300: 100%|████████████████████████████| 26/26 [00:03<00:00,  6.60it/s]\n"
     ]
    },
    {
     "name": "stdout",
     "output_type": "stream",
     "text": [
      "Epoch 109/300 - Avg Loss: 0.6121\n"
     ]
    },
    {
     "name": "stderr",
     "output_type": "stream",
     "text": [
      "Epoch 110/300: 100%|████████████████████████████| 26/26 [00:03<00:00,  6.86it/s]\n"
     ]
    },
    {
     "name": "stdout",
     "output_type": "stream",
     "text": [
      "Epoch 110/300 - Avg Loss: 0.6164\n"
     ]
    },
    {
     "name": "stderr",
     "output_type": "stream",
     "text": [
      "Epoch 111/300: 100%|████████████████████████████| 26/26 [00:03<00:00,  6.89it/s]\n"
     ]
    },
    {
     "name": "stdout",
     "output_type": "stream",
     "text": [
      "Epoch 111/300 - Avg Loss: 0.6024\n"
     ]
    },
    {
     "name": "stderr",
     "output_type": "stream",
     "text": [
      "Epoch 112/300: 100%|████████████████████████████| 26/26 [00:04<00:00,  5.74it/s]\n"
     ]
    },
    {
     "name": "stdout",
     "output_type": "stream",
     "text": [
      "Epoch 112/300 - Avg Loss: 0.6044\n"
     ]
    },
    {
     "name": "stderr",
     "output_type": "stream",
     "text": [
      "Epoch 113/300: 100%|████████████████████████████| 26/26 [00:02<00:00, 12.70it/s]\n"
     ]
    },
    {
     "name": "stdout",
     "output_type": "stream",
     "text": [
      "Epoch 113/300 - Avg Loss: 0.6035\n"
     ]
    },
    {
     "name": "stderr",
     "output_type": "stream",
     "text": [
      "Epoch 114/300: 100%|████████████████████████████| 26/26 [00:01<00:00, 13.90it/s]\n"
     ]
    },
    {
     "name": "stdout",
     "output_type": "stream",
     "text": [
      "Epoch 114/300 - Avg Loss: 0.6093\n"
     ]
    },
    {
     "name": "stderr",
     "output_type": "stream",
     "text": [
      "Epoch 115/300: 100%|████████████████████████████| 26/26 [00:01<00:00, 13.06it/s]\n"
     ]
    },
    {
     "name": "stdout",
     "output_type": "stream",
     "text": [
      "Epoch 115/300 - Avg Loss: 0.6030\n"
     ]
    },
    {
     "name": "stderr",
     "output_type": "stream",
     "text": [
      "Epoch 116/300: 100%|████████████████████████████| 26/26 [00:02<00:00, 12.83it/s]\n"
     ]
    },
    {
     "name": "stdout",
     "output_type": "stream",
     "text": [
      "Epoch 116/300 - Avg Loss: 0.6044\n"
     ]
    },
    {
     "name": "stderr",
     "output_type": "stream",
     "text": [
      "Epoch 117/300: 100%|████████████████████████████| 26/26 [00:02<00:00, 12.26it/s]\n"
     ]
    },
    {
     "name": "stdout",
     "output_type": "stream",
     "text": [
      "Epoch 117/300 - Avg Loss: 0.5947\n"
     ]
    },
    {
     "name": "stderr",
     "output_type": "stream",
     "text": [
      "Epoch 118/300: 100%|████████████████████████████| 26/26 [00:02<00:00, 12.17it/s]\n"
     ]
    },
    {
     "name": "stdout",
     "output_type": "stream",
     "text": [
      "Epoch 118/300 - Avg Loss: 0.5892\n"
     ]
    },
    {
     "name": "stderr",
     "output_type": "stream",
     "text": [
      "Epoch 119/300: 100%|████████████████████████████| 26/26 [00:01<00:00, 15.33it/s]\n"
     ]
    },
    {
     "name": "stdout",
     "output_type": "stream",
     "text": [
      "Epoch 119/300 - Avg Loss: 0.5995\n"
     ]
    },
    {
     "name": "stderr",
     "output_type": "stream",
     "text": [
      "Epoch 120/300: 100%|████████████████████████████| 26/26 [00:02<00:00, 12.36it/s]\n"
     ]
    },
    {
     "name": "stdout",
     "output_type": "stream",
     "text": [
      "Epoch 120/300 - Avg Loss: 0.5990\n"
     ]
    },
    {
     "name": "stderr",
     "output_type": "stream",
     "text": [
      "Epoch 121/300: 100%|████████████████████████████| 26/26 [00:02<00:00,  9.80it/s]\n"
     ]
    },
    {
     "name": "stdout",
     "output_type": "stream",
     "text": [
      "Epoch 121/300 - Avg Loss: 0.5946\n"
     ]
    },
    {
     "name": "stderr",
     "output_type": "stream",
     "text": [
      "Epoch 122/300: 100%|████████████████████████████| 26/26 [00:02<00:00, 12.46it/s]\n"
     ]
    },
    {
     "name": "stdout",
     "output_type": "stream",
     "text": [
      "Epoch 122/300 - Avg Loss: 0.6017\n"
     ]
    },
    {
     "name": "stderr",
     "output_type": "stream",
     "text": [
      "Epoch 123/300: 100%|████████████████████████████| 26/26 [00:02<00:00, 12.68it/s]\n"
     ]
    },
    {
     "name": "stdout",
     "output_type": "stream",
     "text": [
      "Epoch 123/300 - Avg Loss: 0.5997\n"
     ]
    },
    {
     "name": "stderr",
     "output_type": "stream",
     "text": [
      "Epoch 124/300: 100%|████████████████████████████| 26/26 [00:02<00:00, 10.89it/s]\n"
     ]
    },
    {
     "name": "stdout",
     "output_type": "stream",
     "text": [
      "Epoch 124/300 - Avg Loss: 0.5929\n"
     ]
    },
    {
     "name": "stderr",
     "output_type": "stream",
     "text": [
      "Epoch 125/300: 100%|████████████████████████████| 26/26 [00:01<00:00, 13.06it/s]\n"
     ]
    },
    {
     "name": "stdout",
     "output_type": "stream",
     "text": [
      "Epoch 125/300 - Avg Loss: 0.5955\n"
     ]
    },
    {
     "name": "stderr",
     "output_type": "stream",
     "text": [
      "Epoch 126/300: 100%|████████████████████████████| 26/26 [00:02<00:00,  9.95it/s]\n"
     ]
    },
    {
     "name": "stdout",
     "output_type": "stream",
     "text": [
      "Epoch 126/300 - Avg Loss: 0.5992\n"
     ]
    },
    {
     "name": "stderr",
     "output_type": "stream",
     "text": [
      "Epoch 127/300: 100%|████████████████████████████| 26/26 [00:02<00:00,  9.70it/s]\n"
     ]
    },
    {
     "name": "stdout",
     "output_type": "stream",
     "text": [
      "Epoch 127/300 - Avg Loss: 0.5881\n"
     ]
    },
    {
     "name": "stderr",
     "output_type": "stream",
     "text": [
      "Epoch 128/300: 100%|████████████████████████████| 26/26 [00:02<00:00,  9.80it/s]\n"
     ]
    },
    {
     "name": "stdout",
     "output_type": "stream",
     "text": [
      "Epoch 128/300 - Avg Loss: 0.5878\n"
     ]
    },
    {
     "name": "stderr",
     "output_type": "stream",
     "text": [
      "Epoch 129/300: 100%|████████████████████████████| 26/26 [00:02<00:00,  8.82it/s]\n"
     ]
    },
    {
     "name": "stdout",
     "output_type": "stream",
     "text": [
      "Epoch 129/300 - Avg Loss: 0.5785\n"
     ]
    },
    {
     "name": "stderr",
     "output_type": "stream",
     "text": [
      "Epoch 130/300: 100%|████████████████████████████| 26/26 [00:02<00:00, 10.69it/s]\n"
     ]
    },
    {
     "name": "stdout",
     "output_type": "stream",
     "text": [
      "Epoch 130/300 - Avg Loss: 0.5910\n"
     ]
    },
    {
     "name": "stderr",
     "output_type": "stream",
     "text": [
      "Epoch 131/300: 100%|████████████████████████████| 26/26 [00:02<00:00, 10.97it/s]\n"
     ]
    },
    {
     "name": "stdout",
     "output_type": "stream",
     "text": [
      "Epoch 131/300 - Avg Loss: 0.5930\n"
     ]
    },
    {
     "name": "stderr",
     "output_type": "stream",
     "text": [
      "Epoch 132/300: 100%|████████████████████████████| 26/26 [00:02<00:00, 10.02it/s]\n"
     ]
    },
    {
     "name": "stdout",
     "output_type": "stream",
     "text": [
      "Epoch 132/300 - Avg Loss: 0.5878\n"
     ]
    },
    {
     "name": "stderr",
     "output_type": "stream",
     "text": [
      "Epoch 133/300: 100%|████████████████████████████| 26/26 [00:02<00:00, 11.86it/s]\n"
     ]
    },
    {
     "name": "stdout",
     "output_type": "stream",
     "text": [
      "Epoch 133/300 - Avg Loss: 0.5803\n"
     ]
    },
    {
     "name": "stderr",
     "output_type": "stream",
     "text": [
      "Epoch 134/300: 100%|████████████████████████████| 26/26 [00:02<00:00, 11.12it/s]\n"
     ]
    },
    {
     "name": "stdout",
     "output_type": "stream",
     "text": [
      "Epoch 134/300 - Avg Loss: 0.5951\n"
     ]
    },
    {
     "name": "stderr",
     "output_type": "stream",
     "text": [
      "Epoch 135/300: 100%|████████████████████████████| 26/26 [00:02<00:00, 12.36it/s]\n"
     ]
    },
    {
     "name": "stdout",
     "output_type": "stream",
     "text": [
      "Epoch 135/300 - Avg Loss: 0.5746\n"
     ]
    },
    {
     "name": "stderr",
     "output_type": "stream",
     "text": [
      "Epoch 136/300: 100%|████████████████████████████| 26/26 [00:02<00:00, 12.07it/s]\n"
     ]
    },
    {
     "name": "stdout",
     "output_type": "stream",
     "text": [
      "Epoch 136/300 - Avg Loss: 0.5824\n"
     ]
    },
    {
     "name": "stderr",
     "output_type": "stream",
     "text": [
      "Epoch 137/300: 100%|████████████████████████████| 26/26 [00:03<00:00,  8.29it/s]\n"
     ]
    },
    {
     "name": "stdout",
     "output_type": "stream",
     "text": [
      "Epoch 137/300 - Avg Loss: 0.5743\n"
     ]
    },
    {
     "name": "stderr",
     "output_type": "stream",
     "text": [
      "Epoch 138/300: 100%|████████████████████████████| 26/26 [00:02<00:00,  8.89it/s]\n"
     ]
    },
    {
     "name": "stdout",
     "output_type": "stream",
     "text": [
      "Epoch 138/300 - Avg Loss: 0.5783\n"
     ]
    },
    {
     "name": "stderr",
     "output_type": "stream",
     "text": [
      "Epoch 139/300: 100%|████████████████████████████| 26/26 [00:02<00:00, 10.75it/s]\n"
     ]
    },
    {
     "name": "stdout",
     "output_type": "stream",
     "text": [
      "Epoch 139/300 - Avg Loss: 0.5777\n"
     ]
    },
    {
     "name": "stderr",
     "output_type": "stream",
     "text": [
      "Epoch 140/300: 100%|████████████████████████████| 26/26 [00:02<00:00, 11.72it/s]\n"
     ]
    },
    {
     "name": "stdout",
     "output_type": "stream",
     "text": [
      "Epoch 140/300 - Avg Loss: 0.5801\n"
     ]
    },
    {
     "name": "stderr",
     "output_type": "stream",
     "text": [
      "Epoch 141/300: 100%|████████████████████████████| 26/26 [00:02<00:00, 11.08it/s]\n"
     ]
    },
    {
     "name": "stdout",
     "output_type": "stream",
     "text": [
      "Epoch 141/300 - Avg Loss: 0.5839\n"
     ]
    },
    {
     "name": "stderr",
     "output_type": "stream",
     "text": [
      "Epoch 142/300: 100%|████████████████████████████| 26/26 [00:02<00:00, 10.94it/s]\n"
     ]
    },
    {
     "name": "stdout",
     "output_type": "stream",
     "text": [
      "Epoch 142/300 - Avg Loss: 0.5835\n"
     ]
    },
    {
     "name": "stderr",
     "output_type": "stream",
     "text": [
      "Epoch 143/300: 100%|████████████████████████████| 26/26 [00:02<00:00, 10.99it/s]\n"
     ]
    },
    {
     "name": "stdout",
     "output_type": "stream",
     "text": [
      "Epoch 143/300 - Avg Loss: 0.5841\n"
     ]
    },
    {
     "name": "stderr",
     "output_type": "stream",
     "text": [
      "Epoch 144/300: 100%|████████████████████████████| 26/26 [00:02<00:00, 10.14it/s]\n"
     ]
    },
    {
     "name": "stdout",
     "output_type": "stream",
     "text": [
      "Epoch 144/300 - Avg Loss: 0.5812\n"
     ]
    },
    {
     "name": "stderr",
     "output_type": "stream",
     "text": [
      "Epoch 145/300: 100%|████████████████████████████| 26/26 [00:02<00:00,  9.81it/s]\n"
     ]
    },
    {
     "name": "stdout",
     "output_type": "stream",
     "text": [
      "Epoch 145/300 - Avg Loss: 0.5678\n"
     ]
    },
    {
     "name": "stderr",
     "output_type": "stream",
     "text": [
      "Epoch 146/300: 100%|████████████████████████████| 26/26 [00:02<00:00, 10.44it/s]\n"
     ]
    },
    {
     "name": "stdout",
     "output_type": "stream",
     "text": [
      "Epoch 146/300 - Avg Loss: 0.5641\n"
     ]
    },
    {
     "name": "stderr",
     "output_type": "stream",
     "text": [
      "Epoch 147/300: 100%|████████████████████████████| 26/26 [00:02<00:00, 12.74it/s]\n"
     ]
    },
    {
     "name": "stdout",
     "output_type": "stream",
     "text": [
      "Epoch 147/300 - Avg Loss: 0.5728\n"
     ]
    },
    {
     "name": "stderr",
     "output_type": "stream",
     "text": [
      "Epoch 148/300: 100%|████████████████████████████| 26/26 [00:02<00:00, 11.27it/s]\n"
     ]
    },
    {
     "name": "stdout",
     "output_type": "stream",
     "text": [
      "Epoch 148/300 - Avg Loss: 0.5749\n"
     ]
    },
    {
     "name": "stderr",
     "output_type": "stream",
     "text": [
      "Epoch 149/300: 100%|████████████████████████████| 26/26 [00:02<00:00, 10.61it/s]\n"
     ]
    },
    {
     "name": "stdout",
     "output_type": "stream",
     "text": [
      "Epoch 149/300 - Avg Loss: 0.5751\n"
     ]
    },
    {
     "name": "stderr",
     "output_type": "stream",
     "text": [
      "Epoch 150/300: 100%|████████████████████████████| 26/26 [00:02<00:00, 10.63it/s]\n"
     ]
    },
    {
     "name": "stdout",
     "output_type": "stream",
     "text": [
      "Epoch 150/300 - Avg Loss: 0.5667\n"
     ]
    },
    {
     "name": "stderr",
     "output_type": "stream",
     "text": [
      "Epoch 151/300: 100%|████████████████████████████| 26/26 [00:02<00:00, 12.43it/s]\n"
     ]
    },
    {
     "name": "stdout",
     "output_type": "stream",
     "text": [
      "Epoch 151/300 - Avg Loss: 0.5701\n"
     ]
    },
    {
     "name": "stderr",
     "output_type": "stream",
     "text": [
      "Epoch 152/300: 100%|████████████████████████████| 26/26 [00:01<00:00, 13.20it/s]\n"
     ]
    },
    {
     "name": "stdout",
     "output_type": "stream",
     "text": [
      "Epoch 152/300 - Avg Loss: 0.5748\n"
     ]
    },
    {
     "name": "stderr",
     "output_type": "stream",
     "text": [
      "Epoch 153/300: 100%|████████████████████████████| 26/26 [00:02<00:00, 11.67it/s]\n"
     ]
    },
    {
     "name": "stdout",
     "output_type": "stream",
     "text": [
      "Epoch 153/300 - Avg Loss: 0.5599\n"
     ]
    },
    {
     "name": "stderr",
     "output_type": "stream",
     "text": [
      "Epoch 154/300: 100%|████████████████████████████| 26/26 [00:02<00:00,  9.93it/s]\n"
     ]
    },
    {
     "name": "stdout",
     "output_type": "stream",
     "text": [
      "Epoch 154/300 - Avg Loss: 0.5770\n"
     ]
    },
    {
     "name": "stderr",
     "output_type": "stream",
     "text": [
      "Epoch 155/300: 100%|████████████████████████████| 26/26 [00:02<00:00, 10.64it/s]\n"
     ]
    },
    {
     "name": "stdout",
     "output_type": "stream",
     "text": [
      "Epoch 155/300 - Avg Loss: 0.5629\n"
     ]
    },
    {
     "name": "stderr",
     "output_type": "stream",
     "text": [
      "Epoch 156/300: 100%|████████████████████████████| 26/26 [00:02<00:00, 11.41it/s]\n"
     ]
    },
    {
     "name": "stdout",
     "output_type": "stream",
     "text": [
      "Epoch 156/300 - Avg Loss: 0.5667\n"
     ]
    },
    {
     "name": "stderr",
     "output_type": "stream",
     "text": [
      "Epoch 157/300: 100%|████████████████████████████| 26/26 [00:02<00:00, 11.65it/s]\n"
     ]
    },
    {
     "name": "stdout",
     "output_type": "stream",
     "text": [
      "Epoch 157/300 - Avg Loss: 0.5629\n"
     ]
    },
    {
     "name": "stderr",
     "output_type": "stream",
     "text": [
      "Epoch 158/300: 100%|████████████████████████████| 26/26 [00:02<00:00, 11.67it/s]\n"
     ]
    },
    {
     "name": "stdout",
     "output_type": "stream",
     "text": [
      "Epoch 158/300 - Avg Loss: 0.5670\n"
     ]
    },
    {
     "name": "stderr",
     "output_type": "stream",
     "text": [
      "Epoch 159/300: 100%|████████████████████████████| 26/26 [00:02<00:00,  9.84it/s]\n"
     ]
    },
    {
     "name": "stdout",
     "output_type": "stream",
     "text": [
      "Epoch 159/300 - Avg Loss: 0.5594\n"
     ]
    },
    {
     "name": "stderr",
     "output_type": "stream",
     "text": [
      "Epoch 160/300: 100%|████████████████████████████| 26/26 [00:02<00:00, 11.13it/s]\n"
     ]
    },
    {
     "name": "stdout",
     "output_type": "stream",
     "text": [
      "Epoch 160/300 - Avg Loss: 0.5580\n"
     ]
    },
    {
     "name": "stderr",
     "output_type": "stream",
     "text": [
      "Epoch 161/300: 100%|████████████████████████████| 26/26 [00:02<00:00, 12.28it/s]\n"
     ]
    },
    {
     "name": "stdout",
     "output_type": "stream",
     "text": [
      "Epoch 161/300 - Avg Loss: 0.5674\n"
     ]
    },
    {
     "name": "stderr",
     "output_type": "stream",
     "text": [
      "Epoch 162/300: 100%|████████████████████████████| 26/26 [00:02<00:00, 12.15it/s]\n"
     ]
    },
    {
     "name": "stdout",
     "output_type": "stream",
     "text": [
      "Epoch 162/300 - Avg Loss: 0.5646\n"
     ]
    },
    {
     "name": "stderr",
     "output_type": "stream",
     "text": [
      "Epoch 163/300: 100%|████████████████████████████| 26/26 [00:02<00:00,  8.77it/s]\n"
     ]
    },
    {
     "name": "stdout",
     "output_type": "stream",
     "text": [
      "Epoch 163/300 - Avg Loss: 0.5467\n"
     ]
    },
    {
     "name": "stderr",
     "output_type": "stream",
     "text": [
      "Epoch 164/300: 100%|████████████████████████████| 26/26 [00:02<00:00, 12.04it/s]\n"
     ]
    },
    {
     "name": "stdout",
     "output_type": "stream",
     "text": [
      "Epoch 164/300 - Avg Loss: 0.5614\n"
     ]
    },
    {
     "name": "stderr",
     "output_type": "stream",
     "text": [
      "Epoch 165/300: 100%|████████████████████████████| 26/26 [00:02<00:00, 11.59it/s]\n"
     ]
    },
    {
     "name": "stdout",
     "output_type": "stream",
     "text": [
      "Epoch 165/300 - Avg Loss: 0.5520\n"
     ]
    },
    {
     "name": "stderr",
     "output_type": "stream",
     "text": [
      "Epoch 166/300: 100%|████████████████████████████| 26/26 [00:02<00:00,  8.88it/s]\n"
     ]
    },
    {
     "name": "stdout",
     "output_type": "stream",
     "text": [
      "Epoch 166/300 - Avg Loss: 0.5590\n"
     ]
    },
    {
     "name": "stderr",
     "output_type": "stream",
     "text": [
      "Epoch 167/300: 100%|████████████████████████████| 26/26 [00:03<00:00,  7.75it/s]\n"
     ]
    },
    {
     "name": "stdout",
     "output_type": "stream",
     "text": [
      "Epoch 167/300 - Avg Loss: 0.5526\n"
     ]
    },
    {
     "name": "stderr",
     "output_type": "stream",
     "text": [
      "Epoch 168/300: 100%|████████████████████████████| 26/26 [00:02<00:00, 10.02it/s]\n"
     ]
    },
    {
     "name": "stdout",
     "output_type": "stream",
     "text": [
      "Epoch 168/300 - Avg Loss: 0.5620\n"
     ]
    },
    {
     "name": "stderr",
     "output_type": "stream",
     "text": [
      "Epoch 169/300: 100%|████████████████████████████| 26/26 [00:02<00:00, 10.17it/s]\n"
     ]
    },
    {
     "name": "stdout",
     "output_type": "stream",
     "text": [
      "Epoch 169/300 - Avg Loss: 0.5599\n"
     ]
    },
    {
     "name": "stderr",
     "output_type": "stream",
     "text": [
      "Epoch 170/300: 100%|████████████████████████████| 26/26 [00:03<00:00,  8.53it/s]\n"
     ]
    },
    {
     "name": "stdout",
     "output_type": "stream",
     "text": [
      "Epoch 170/300 - Avg Loss: 0.5513\n"
     ]
    },
    {
     "name": "stderr",
     "output_type": "stream",
     "text": [
      "Epoch 171/300: 100%|████████████████████████████| 26/26 [00:03<00:00,  6.89it/s]\n"
     ]
    },
    {
     "name": "stdout",
     "output_type": "stream",
     "text": [
      "Epoch 171/300 - Avg Loss: 0.5503\n"
     ]
    },
    {
     "name": "stderr",
     "output_type": "stream",
     "text": [
      "Epoch 172/300: 100%|████████████████████████████| 26/26 [00:04<00:00,  6.42it/s]\n"
     ]
    },
    {
     "name": "stdout",
     "output_type": "stream",
     "text": [
      "Epoch 172/300 - Avg Loss: 0.5513\n"
     ]
    },
    {
     "name": "stderr",
     "output_type": "stream",
     "text": [
      "Epoch 173/300: 100%|████████████████████████████| 26/26 [00:04<00:00,  6.37it/s]\n"
     ]
    },
    {
     "name": "stdout",
     "output_type": "stream",
     "text": [
      "Epoch 173/300 - Avg Loss: 0.5451\n"
     ]
    },
    {
     "name": "stderr",
     "output_type": "stream",
     "text": [
      "Epoch 174/300: 100%|████████████████████████████| 26/26 [00:03<00:00,  6.71it/s]\n"
     ]
    },
    {
     "name": "stdout",
     "output_type": "stream",
     "text": [
      "Epoch 174/300 - Avg Loss: 0.5423\n"
     ]
    },
    {
     "name": "stderr",
     "output_type": "stream",
     "text": [
      "Epoch 175/300: 100%|████████████████████████████| 26/26 [00:03<00:00,  6.72it/s]\n"
     ]
    },
    {
     "name": "stdout",
     "output_type": "stream",
     "text": [
      "Epoch 175/300 - Avg Loss: 0.5424\n"
     ]
    },
    {
     "name": "stderr",
     "output_type": "stream",
     "text": [
      "Epoch 176/300: 100%|████████████████████████████| 26/26 [00:03<00:00,  6.52it/s]\n"
     ]
    },
    {
     "name": "stdout",
     "output_type": "stream",
     "text": [
      "Epoch 176/300 - Avg Loss: 0.5429\n"
     ]
    },
    {
     "name": "stderr",
     "output_type": "stream",
     "text": [
      "Epoch 177/300: 100%|████████████████████████████| 26/26 [00:04<00:00,  6.47it/s]\n"
     ]
    },
    {
     "name": "stdout",
     "output_type": "stream",
     "text": [
      "Epoch 177/300 - Avg Loss: 0.5386\n"
     ]
    },
    {
     "name": "stderr",
     "output_type": "stream",
     "text": [
      "Epoch 178/300: 100%|████████████████████████████| 26/26 [00:03<00:00,  6.58it/s]\n"
     ]
    },
    {
     "name": "stdout",
     "output_type": "stream",
     "text": [
      "Epoch 178/300 - Avg Loss: 0.5368\n"
     ]
    },
    {
     "name": "stderr",
     "output_type": "stream",
     "text": [
      "Epoch 179/300: 100%|████████████████████████████| 26/26 [00:04<00:00,  5.93it/s]\n"
     ]
    },
    {
     "name": "stdout",
     "output_type": "stream",
     "text": [
      "Epoch 179/300 - Avg Loss: 0.5461\n"
     ]
    },
    {
     "name": "stderr",
     "output_type": "stream",
     "text": [
      "Epoch 180/300: 100%|████████████████████████████| 26/26 [00:04<00:00,  6.09it/s]\n"
     ]
    },
    {
     "name": "stdout",
     "output_type": "stream",
     "text": [
      "Epoch 180/300 - Avg Loss: 0.5451\n"
     ]
    },
    {
     "name": "stderr",
     "output_type": "stream",
     "text": [
      "Epoch 181/300: 100%|████████████████████████████| 26/26 [00:04<00:00,  5.79it/s]\n"
     ]
    },
    {
     "name": "stdout",
     "output_type": "stream",
     "text": [
      "Epoch 181/300 - Avg Loss: 0.5428\n"
     ]
    },
    {
     "name": "stderr",
     "output_type": "stream",
     "text": [
      "Epoch 182/300: 100%|████████████████████████████| 26/26 [00:04<00:00,  6.31it/s]\n"
     ]
    },
    {
     "name": "stdout",
     "output_type": "stream",
     "text": [
      "Epoch 182/300 - Avg Loss: 0.5423\n"
     ]
    },
    {
     "name": "stderr",
     "output_type": "stream",
     "text": [
      "Epoch 183/300: 100%|████████████████████████████| 26/26 [00:03<00:00,  6.86it/s]\n"
     ]
    },
    {
     "name": "stdout",
     "output_type": "stream",
     "text": [
      "Epoch 183/300 - Avg Loss: 0.5389\n"
     ]
    },
    {
     "name": "stderr",
     "output_type": "stream",
     "text": [
      "Epoch 184/300: 100%|████████████████████████████| 26/26 [00:03<00:00,  6.89it/s]\n"
     ]
    },
    {
     "name": "stdout",
     "output_type": "stream",
     "text": [
      "Epoch 184/300 - Avg Loss: 0.5484\n"
     ]
    },
    {
     "name": "stderr",
     "output_type": "stream",
     "text": [
      "Epoch 185/300: 100%|████████████████████████████| 26/26 [00:03<00:00,  6.85it/s]\n"
     ]
    },
    {
     "name": "stdout",
     "output_type": "stream",
     "text": [
      "Epoch 185/300 - Avg Loss: 0.5436\n"
     ]
    },
    {
     "name": "stderr",
     "output_type": "stream",
     "text": [
      "Epoch 186/300: 100%|████████████████████████████| 26/26 [00:03<00:00,  6.96it/s]\n"
     ]
    },
    {
     "name": "stdout",
     "output_type": "stream",
     "text": [
      "Epoch 186/300 - Avg Loss: 0.5333\n"
     ]
    },
    {
     "name": "stderr",
     "output_type": "stream",
     "text": [
      "Epoch 187/300: 100%|████████████████████████████| 26/26 [00:03<00:00,  6.98it/s]\n"
     ]
    },
    {
     "name": "stdout",
     "output_type": "stream",
     "text": [
      "Epoch 187/300 - Avg Loss: 0.5462\n"
     ]
    },
    {
     "name": "stderr",
     "output_type": "stream",
     "text": [
      "Epoch 188/300: 100%|████████████████████████████| 26/26 [00:03<00:00,  6.88it/s]\n"
     ]
    },
    {
     "name": "stdout",
     "output_type": "stream",
     "text": [
      "Epoch 188/300 - Avg Loss: 0.5453\n"
     ]
    },
    {
     "name": "stderr",
     "output_type": "stream",
     "text": [
      "Epoch 189/300: 100%|████████████████████████████| 26/26 [00:03<00:00,  6.91it/s]\n"
     ]
    },
    {
     "name": "stdout",
     "output_type": "stream",
     "text": [
      "Epoch 189/300 - Avg Loss: 0.5444\n"
     ]
    },
    {
     "name": "stderr",
     "output_type": "stream",
     "text": [
      "Epoch 190/300: 100%|████████████████████████████| 26/26 [00:03<00:00,  6.98it/s]\n"
     ]
    },
    {
     "name": "stdout",
     "output_type": "stream",
     "text": [
      "Epoch 190/300 - Avg Loss: 0.5447\n"
     ]
    },
    {
     "name": "stderr",
     "output_type": "stream",
     "text": [
      "Epoch 191/300: 100%|████████████████████████████| 26/26 [00:03<00:00,  6.66it/s]\n"
     ]
    },
    {
     "name": "stdout",
     "output_type": "stream",
     "text": [
      "Epoch 191/300 - Avg Loss: 0.5514\n"
     ]
    },
    {
     "name": "stderr",
     "output_type": "stream",
     "text": [
      "Epoch 192/300: 100%|████████████████████████████| 26/26 [00:03<00:00,  6.84it/s]\n"
     ]
    },
    {
     "name": "stdout",
     "output_type": "stream",
     "text": [
      "Epoch 192/300 - Avg Loss: 0.5354\n"
     ]
    },
    {
     "name": "stderr",
     "output_type": "stream",
     "text": [
      "Epoch 193/300: 100%|████████████████████████████| 26/26 [00:03<00:00,  6.94it/s]\n"
     ]
    },
    {
     "name": "stdout",
     "output_type": "stream",
     "text": [
      "Epoch 193/300 - Avg Loss: 0.5305\n"
     ]
    },
    {
     "name": "stderr",
     "output_type": "stream",
     "text": [
      "Epoch 194/300: 100%|████████████████████████████| 26/26 [00:03<00:00,  6.81it/s]\n"
     ]
    },
    {
     "name": "stdout",
     "output_type": "stream",
     "text": [
      "Epoch 194/300 - Avg Loss: 0.5353\n"
     ]
    },
    {
     "name": "stderr",
     "output_type": "stream",
     "text": [
      "Epoch 195/300: 100%|████████████████████████████| 26/26 [00:03<00:00,  6.99it/s]\n"
     ]
    },
    {
     "name": "stdout",
     "output_type": "stream",
     "text": [
      "Epoch 195/300 - Avg Loss: 0.5370\n"
     ]
    },
    {
     "name": "stderr",
     "output_type": "stream",
     "text": [
      "Epoch 196/300: 100%|████████████████████████████| 26/26 [00:04<00:00,  6.09it/s]\n"
     ]
    },
    {
     "name": "stdout",
     "output_type": "stream",
     "text": [
      "Epoch 196/300 - Avg Loss: 0.5283\n"
     ]
    },
    {
     "name": "stderr",
     "output_type": "stream",
     "text": [
      "Epoch 197/300: 100%|████████████████████████████| 26/26 [00:04<00:00,  6.31it/s]\n"
     ]
    },
    {
     "name": "stdout",
     "output_type": "stream",
     "text": [
      "Epoch 197/300 - Avg Loss: 0.5249\n"
     ]
    },
    {
     "name": "stderr",
     "output_type": "stream",
     "text": [
      "Epoch 198/300: 100%|████████████████████████████| 26/26 [00:03<00:00,  6.89it/s]\n"
     ]
    },
    {
     "name": "stdout",
     "output_type": "stream",
     "text": [
      "Epoch 198/300 - Avg Loss: 0.5240\n"
     ]
    },
    {
     "name": "stderr",
     "output_type": "stream",
     "text": [
      "Epoch 199/300: 100%|████████████████████████████| 26/26 [00:03<00:00,  6.90it/s]\n"
     ]
    },
    {
     "name": "stdout",
     "output_type": "stream",
     "text": [
      "Epoch 199/300 - Avg Loss: 0.5361\n"
     ]
    },
    {
     "name": "stderr",
     "output_type": "stream",
     "text": [
      "Epoch 200/300: 100%|████████████████████████████| 26/26 [00:03<00:00,  6.93it/s]\n"
     ]
    },
    {
     "name": "stdout",
     "output_type": "stream",
     "text": [
      "Epoch 200/300 - Avg Loss: 0.5444\n"
     ]
    },
    {
     "name": "stderr",
     "output_type": "stream",
     "text": [
      "Epoch 201/300: 100%|████████████████████████████| 26/26 [00:03<00:00,  6.90it/s]\n"
     ]
    },
    {
     "name": "stdout",
     "output_type": "stream",
     "text": [
      "Epoch 201/300 - Avg Loss: 0.5479\n"
     ]
    },
    {
     "name": "stderr",
     "output_type": "stream",
     "text": [
      "Epoch 202/300: 100%|████████████████████████████| 26/26 [00:03<00:00,  6.88it/s]\n"
     ]
    },
    {
     "name": "stdout",
     "output_type": "stream",
     "text": [
      "Epoch 202/300 - Avg Loss: 0.5308\n"
     ]
    },
    {
     "name": "stderr",
     "output_type": "stream",
     "text": [
      "Epoch 203/300: 100%|████████████████████████████| 26/26 [00:03<00:00,  7.01it/s]\n"
     ]
    },
    {
     "name": "stdout",
     "output_type": "stream",
     "text": [
      "Epoch 203/300 - Avg Loss: 0.5280\n"
     ]
    },
    {
     "name": "stderr",
     "output_type": "stream",
     "text": [
      "Epoch 204/300: 100%|████████████████████████████| 26/26 [00:03<00:00,  6.90it/s]\n"
     ]
    },
    {
     "name": "stdout",
     "output_type": "stream",
     "text": [
      "Epoch 204/300 - Avg Loss: 0.5279\n"
     ]
    },
    {
     "name": "stderr",
     "output_type": "stream",
     "text": [
      "Epoch 205/300: 100%|████████████████████████████| 26/26 [00:03<00:00,  6.90it/s]\n"
     ]
    },
    {
     "name": "stdout",
     "output_type": "stream",
     "text": [
      "Epoch 205/300 - Avg Loss: 0.5240\n"
     ]
    },
    {
     "name": "stderr",
     "output_type": "stream",
     "text": [
      "Epoch 206/300: 100%|████████████████████████████| 26/26 [00:03<00:00,  6.93it/s]\n"
     ]
    },
    {
     "name": "stdout",
     "output_type": "stream",
     "text": [
      "Epoch 206/300 - Avg Loss: 0.5219\n"
     ]
    },
    {
     "name": "stderr",
     "output_type": "stream",
     "text": [
      "Epoch 207/300: 100%|████████████████████████████| 26/26 [00:03<00:00,  6.92it/s]\n"
     ]
    },
    {
     "name": "stdout",
     "output_type": "stream",
     "text": [
      "Epoch 207/300 - Avg Loss: 0.5253\n"
     ]
    },
    {
     "name": "stderr",
     "output_type": "stream",
     "text": [
      "Epoch 208/300: 100%|████████████████████████████| 26/26 [00:03<00:00,  6.93it/s]\n"
     ]
    },
    {
     "name": "stdout",
     "output_type": "stream",
     "text": [
      "Epoch 208/300 - Avg Loss: 0.5252\n"
     ]
    },
    {
     "name": "stderr",
     "output_type": "stream",
     "text": [
      "Epoch 209/300: 100%|████████████████████████████| 26/26 [00:03<00:00,  6.77it/s]\n"
     ]
    },
    {
     "name": "stdout",
     "output_type": "stream",
     "text": [
      "Epoch 209/300 - Avg Loss: 0.5199\n"
     ]
    },
    {
     "name": "stderr",
     "output_type": "stream",
     "text": [
      "Epoch 210/300: 100%|████████████████████████████| 26/26 [00:03<00:00,  6.64it/s]\n"
     ]
    },
    {
     "name": "stdout",
     "output_type": "stream",
     "text": [
      "Epoch 210/300 - Avg Loss: 0.5142\n"
     ]
    },
    {
     "name": "stderr",
     "output_type": "stream",
     "text": [
      "Epoch 211/300: 100%|████████████████████████████| 26/26 [00:03<00:00,  6.93it/s]\n"
     ]
    },
    {
     "name": "stdout",
     "output_type": "stream",
     "text": [
      "Epoch 211/300 - Avg Loss: 0.5225\n"
     ]
    },
    {
     "name": "stderr",
     "output_type": "stream",
     "text": [
      "Epoch 212/300: 100%|████████████████████████████| 26/26 [00:04<00:00,  6.25it/s]\n"
     ]
    },
    {
     "name": "stdout",
     "output_type": "stream",
     "text": [
      "Epoch 212/300 - Avg Loss: 0.5308\n"
     ]
    },
    {
     "name": "stderr",
     "output_type": "stream",
     "text": [
      "Epoch 213/300: 100%|████████████████████████████| 26/26 [00:03<00:00,  6.90it/s]\n"
     ]
    },
    {
     "name": "stdout",
     "output_type": "stream",
     "text": [
      "Epoch 213/300 - Avg Loss: 0.5247\n"
     ]
    },
    {
     "name": "stderr",
     "output_type": "stream",
     "text": [
      "Epoch 214/300: 100%|████████████████████████████| 26/26 [00:03<00:00,  6.92it/s]\n"
     ]
    },
    {
     "name": "stdout",
     "output_type": "stream",
     "text": [
      "Epoch 214/300 - Avg Loss: 0.5209\n"
     ]
    },
    {
     "name": "stderr",
     "output_type": "stream",
     "text": [
      "Epoch 215/300: 100%|████████████████████████████| 26/26 [00:03<00:00,  6.88it/s]\n"
     ]
    },
    {
     "name": "stdout",
     "output_type": "stream",
     "text": [
      "Epoch 215/300 - Avg Loss: 0.5228\n"
     ]
    },
    {
     "name": "stderr",
     "output_type": "stream",
     "text": [
      "Epoch 216/300: 100%|████████████████████████████| 26/26 [00:03<00:00,  6.95it/s]\n"
     ]
    },
    {
     "name": "stdout",
     "output_type": "stream",
     "text": [
      "Epoch 216/300 - Avg Loss: 0.5266\n"
     ]
    },
    {
     "name": "stderr",
     "output_type": "stream",
     "text": [
      "Epoch 217/300: 100%|████████████████████████████| 26/26 [00:03<00:00,  6.89it/s]\n"
     ]
    },
    {
     "name": "stdout",
     "output_type": "stream",
     "text": [
      "Epoch 217/300 - Avg Loss: 0.5406\n"
     ]
    },
    {
     "name": "stderr",
     "output_type": "stream",
     "text": [
      "Epoch 218/300: 100%|████████████████████████████| 26/26 [00:03<00:00,  6.89it/s]\n"
     ]
    },
    {
     "name": "stdout",
     "output_type": "stream",
     "text": [
      "Epoch 218/300 - Avg Loss: 0.5290\n"
     ]
    },
    {
     "name": "stderr",
     "output_type": "stream",
     "text": [
      "Epoch 219/300: 100%|████████████████████████████| 26/26 [00:03<00:00,  7.00it/s]\n"
     ]
    },
    {
     "name": "stdout",
     "output_type": "stream",
     "text": [
      "Epoch 219/300 - Avg Loss: 0.5214\n"
     ]
    },
    {
     "name": "stderr",
     "output_type": "stream",
     "text": [
      "Epoch 220/300: 100%|████████████████████████████| 26/26 [00:03<00:00,  6.82it/s]\n"
     ]
    },
    {
     "name": "stdout",
     "output_type": "stream",
     "text": [
      "Epoch 220/300 - Avg Loss: 0.5174\n"
     ]
    },
    {
     "name": "stderr",
     "output_type": "stream",
     "text": [
      "Epoch 221/300: 100%|████████████████████████████| 26/26 [00:03<00:00,  6.56it/s]\n"
     ]
    },
    {
     "name": "stdout",
     "output_type": "stream",
     "text": [
      "Epoch 221/300 - Avg Loss: 0.5251\n"
     ]
    },
    {
     "name": "stderr",
     "output_type": "stream",
     "text": [
      "Epoch 222/300: 100%|████████████████████████████| 26/26 [00:03<00:00,  6.91it/s]\n"
     ]
    },
    {
     "name": "stdout",
     "output_type": "stream",
     "text": [
      "Epoch 222/300 - Avg Loss: 0.5098\n"
     ]
    },
    {
     "name": "stderr",
     "output_type": "stream",
     "text": [
      "Epoch 223/300: 100%|████████████████████████████| 26/26 [00:03<00:00,  6.85it/s]\n"
     ]
    },
    {
     "name": "stdout",
     "output_type": "stream",
     "text": [
      "Epoch 223/300 - Avg Loss: 0.5129\n"
     ]
    },
    {
     "name": "stderr",
     "output_type": "stream",
     "text": [
      "Epoch 224/300: 100%|████████████████████████████| 26/26 [00:03<00:00,  6.85it/s]\n"
     ]
    },
    {
     "name": "stdout",
     "output_type": "stream",
     "text": [
      "Epoch 224/300 - Avg Loss: 0.5078\n"
     ]
    },
    {
     "name": "stderr",
     "output_type": "stream",
     "text": [
      "Epoch 225/300: 100%|████████████████████████████| 26/26 [00:03<00:00,  6.90it/s]\n"
     ]
    },
    {
     "name": "stdout",
     "output_type": "stream",
     "text": [
      "Epoch 225/300 - Avg Loss: 0.5185\n"
     ]
    },
    {
     "name": "stderr",
     "output_type": "stream",
     "text": [
      "Epoch 226/300: 100%|████████████████████████████| 26/26 [00:03<00:00,  6.90it/s]\n"
     ]
    },
    {
     "name": "stdout",
     "output_type": "stream",
     "text": [
      "Epoch 226/300 - Avg Loss: 0.5223\n"
     ]
    },
    {
     "name": "stderr",
     "output_type": "stream",
     "text": [
      "Epoch 227/300: 100%|████████████████████████████| 26/26 [00:03<00:00,  6.66it/s]\n"
     ]
    },
    {
     "name": "stdout",
     "output_type": "stream",
     "text": [
      "Epoch 227/300 - Avg Loss: 0.5124\n"
     ]
    },
    {
     "name": "stderr",
     "output_type": "stream",
     "text": [
      "Epoch 228/300: 100%|████████████████████████████| 26/26 [00:04<00:00,  6.41it/s]\n"
     ]
    },
    {
     "name": "stdout",
     "output_type": "stream",
     "text": [
      "Epoch 228/300 - Avg Loss: 0.5202\n"
     ]
    },
    {
     "name": "stderr",
     "output_type": "stream",
     "text": [
      "Epoch 229/300: 100%|████████████████████████████| 26/26 [00:03<00:00,  6.92it/s]\n"
     ]
    },
    {
     "name": "stdout",
     "output_type": "stream",
     "text": [
      "Epoch 229/300 - Avg Loss: 0.5096\n"
     ]
    },
    {
     "name": "stderr",
     "output_type": "stream",
     "text": [
      "Epoch 230/300: 100%|████████████████████████████| 26/26 [00:03<00:00,  6.91it/s]\n"
     ]
    },
    {
     "name": "stdout",
     "output_type": "stream",
     "text": [
      "Epoch 230/300 - Avg Loss: 0.5263\n"
     ]
    },
    {
     "name": "stderr",
     "output_type": "stream",
     "text": [
      "Epoch 231/300: 100%|████████████████████████████| 26/26 [00:03<00:00,  6.88it/s]\n"
     ]
    },
    {
     "name": "stdout",
     "output_type": "stream",
     "text": [
      "Epoch 231/300 - Avg Loss: 0.5012\n"
     ]
    },
    {
     "name": "stderr",
     "output_type": "stream",
     "text": [
      "Epoch 232/300: 100%|████████████████████████████| 26/26 [00:03<00:00,  6.98it/s]\n"
     ]
    },
    {
     "name": "stdout",
     "output_type": "stream",
     "text": [
      "Epoch 232/300 - Avg Loss: 0.5164\n"
     ]
    },
    {
     "name": "stderr",
     "output_type": "stream",
     "text": [
      "Epoch 233/300: 100%|████████████████████████████| 26/26 [00:03<00:00,  6.89it/s]\n"
     ]
    },
    {
     "name": "stdout",
     "output_type": "stream",
     "text": [
      "Epoch 233/300 - Avg Loss: 0.5067\n"
     ]
    },
    {
     "name": "stderr",
     "output_type": "stream",
     "text": [
      "Epoch 234/300: 100%|████████████████████████████| 26/26 [00:03<00:00,  6.85it/s]\n"
     ]
    },
    {
     "name": "stdout",
     "output_type": "stream",
     "text": [
      "Epoch 234/300 - Avg Loss: 0.5119\n"
     ]
    },
    {
     "name": "stderr",
     "output_type": "stream",
     "text": [
      "Epoch 235/300: 100%|████████████████████████████| 26/26 [00:03<00:00,  6.85it/s]\n"
     ]
    },
    {
     "name": "stdout",
     "output_type": "stream",
     "text": [
      "Epoch 235/300 - Avg Loss: 0.5112\n"
     ]
    },
    {
     "name": "stderr",
     "output_type": "stream",
     "text": [
      "Epoch 236/300: 100%|████████████████████████████| 26/26 [00:03<00:00,  6.78it/s]\n"
     ]
    },
    {
     "name": "stdout",
     "output_type": "stream",
     "text": [
      "Epoch 236/300 - Avg Loss: 0.5062\n"
     ]
    },
    {
     "name": "stderr",
     "output_type": "stream",
     "text": [
      "Epoch 237/300: 100%|████████████████████████████| 26/26 [00:03<00:00,  6.93it/s]\n"
     ]
    },
    {
     "name": "stdout",
     "output_type": "stream",
     "text": [
      "Epoch 237/300 - Avg Loss: 0.5063\n"
     ]
    },
    {
     "name": "stderr",
     "output_type": "stream",
     "text": [
      "Epoch 238/300: 100%|████████████████████████████| 26/26 [00:03<00:00,  6.95it/s]\n"
     ]
    },
    {
     "name": "stdout",
     "output_type": "stream",
     "text": [
      "Epoch 238/300 - Avg Loss: 0.5142\n"
     ]
    },
    {
     "name": "stderr",
     "output_type": "stream",
     "text": [
      "Epoch 239/300: 100%|████████████████████████████| 26/26 [00:03<00:00,  6.89it/s]\n"
     ]
    },
    {
     "name": "stdout",
     "output_type": "stream",
     "text": [
      "Epoch 239/300 - Avg Loss: 0.5174\n"
     ]
    },
    {
     "name": "stderr",
     "output_type": "stream",
     "text": [
      "Epoch 240/300: 100%|████████████████████████████| 26/26 [00:03<00:00,  6.87it/s]\n"
     ]
    },
    {
     "name": "stdout",
     "output_type": "stream",
     "text": [
      "Epoch 240/300 - Avg Loss: 0.5178\n"
     ]
    },
    {
     "name": "stderr",
     "output_type": "stream",
     "text": [
      "Epoch 241/300: 100%|████████████████████████████| 26/26 [00:03<00:00,  6.80it/s]\n"
     ]
    },
    {
     "name": "stdout",
     "output_type": "stream",
     "text": [
      "Epoch 241/300 - Avg Loss: 0.5081\n"
     ]
    },
    {
     "name": "stderr",
     "output_type": "stream",
     "text": [
      "Epoch 242/300: 100%|████████████████████████████| 26/26 [00:03<00:00,  6.91it/s]\n"
     ]
    },
    {
     "name": "stdout",
     "output_type": "stream",
     "text": [
      "Epoch 242/300 - Avg Loss: 0.5079\n"
     ]
    },
    {
     "name": "stderr",
     "output_type": "stream",
     "text": [
      "Epoch 243/300: 100%|████████████████████████████| 26/26 [00:03<00:00,  6.55it/s]\n"
     ]
    },
    {
     "name": "stdout",
     "output_type": "stream",
     "text": [
      "Epoch 243/300 - Avg Loss: 0.5135\n"
     ]
    },
    {
     "name": "stderr",
     "output_type": "stream",
     "text": [
      "Epoch 244/300: 100%|████████████████████████████| 26/26 [00:03<00:00,  6.71it/s]\n"
     ]
    },
    {
     "name": "stdout",
     "output_type": "stream",
     "text": [
      "Epoch 244/300 - Avg Loss: 0.5086\n"
     ]
    },
    {
     "name": "stderr",
     "output_type": "stream",
     "text": [
      "Epoch 245/300: 100%|████████████████████████████| 26/26 [00:03<00:00,  6.97it/s]\n"
     ]
    },
    {
     "name": "stdout",
     "output_type": "stream",
     "text": [
      "Epoch 245/300 - Avg Loss: 0.5020\n"
     ]
    },
    {
     "name": "stderr",
     "output_type": "stream",
     "text": [
      "Epoch 246/300: 100%|████████████████████████████| 26/26 [00:03<00:00,  6.94it/s]\n"
     ]
    },
    {
     "name": "stdout",
     "output_type": "stream",
     "text": [
      "Epoch 246/300 - Avg Loss: 0.5077\n"
     ]
    },
    {
     "name": "stderr",
     "output_type": "stream",
     "text": [
      "Epoch 247/300: 100%|████████████████████████████| 26/26 [00:03<00:00,  6.86it/s]\n"
     ]
    },
    {
     "name": "stdout",
     "output_type": "stream",
     "text": [
      "Epoch 247/300 - Avg Loss: 0.5090\n"
     ]
    },
    {
     "name": "stderr",
     "output_type": "stream",
     "text": [
      "Epoch 248/300: 100%|████████████████████████████| 26/26 [00:03<00:00,  6.88it/s]\n"
     ]
    },
    {
     "name": "stdout",
     "output_type": "stream",
     "text": [
      "Epoch 248/300 - Avg Loss: 0.5165\n"
     ]
    },
    {
     "name": "stderr",
     "output_type": "stream",
     "text": [
      "Epoch 249/300: 100%|████████████████████████████| 26/26 [00:03<00:00,  6.89it/s]\n"
     ]
    },
    {
     "name": "stdout",
     "output_type": "stream",
     "text": [
      "Epoch 249/300 - Avg Loss: 0.5101\n"
     ]
    },
    {
     "name": "stderr",
     "output_type": "stream",
     "text": [
      "Epoch 250/300: 100%|████████████████████████████| 26/26 [00:03<00:00,  6.94it/s]\n"
     ]
    },
    {
     "name": "stdout",
     "output_type": "stream",
     "text": [
      "Epoch 250/300 - Avg Loss: 0.5065\n"
     ]
    },
    {
     "name": "stderr",
     "output_type": "stream",
     "text": [
      "Epoch 251/300: 100%|████████████████████████████| 26/26 [00:03<00:00,  6.90it/s]\n"
     ]
    },
    {
     "name": "stdout",
     "output_type": "stream",
     "text": [
      "Epoch 251/300 - Avg Loss: 0.5065\n"
     ]
    },
    {
     "name": "stderr",
     "output_type": "stream",
     "text": [
      "Epoch 252/300: 100%|████████████████████████████| 26/26 [00:03<00:00,  6.87it/s]\n"
     ]
    },
    {
     "name": "stdout",
     "output_type": "stream",
     "text": [
      "Epoch 252/300 - Avg Loss: 0.5026\n"
     ]
    },
    {
     "name": "stderr",
     "output_type": "stream",
     "text": [
      "Epoch 253/300: 100%|████████████████████████████| 26/26 [00:03<00:00,  6.91it/s]\n"
     ]
    },
    {
     "name": "stdout",
     "output_type": "stream",
     "text": [
      "Epoch 253/300 - Avg Loss: 0.5075\n"
     ]
    },
    {
     "name": "stderr",
     "output_type": "stream",
     "text": [
      "Epoch 254/300: 100%|████████████████████████████| 26/26 [00:03<00:00,  6.91it/s]\n"
     ]
    },
    {
     "name": "stdout",
     "output_type": "stream",
     "text": [
      "Epoch 254/300 - Avg Loss: 0.5105\n"
     ]
    },
    {
     "name": "stderr",
     "output_type": "stream",
     "text": [
      "Epoch 255/300: 100%|████████████████████████████| 26/26 [00:03<00:00,  6.88it/s]\n"
     ]
    },
    {
     "name": "stdout",
     "output_type": "stream",
     "text": [
      "Epoch 255/300 - Avg Loss: 0.4988\n"
     ]
    },
    {
     "name": "stderr",
     "output_type": "stream",
     "text": [
      "Epoch 256/300: 100%|████████████████████████████| 26/26 [00:03<00:00,  6.87it/s]\n"
     ]
    },
    {
     "name": "stdout",
     "output_type": "stream",
     "text": [
      "Epoch 256/300 - Avg Loss: 0.4970\n"
     ]
    },
    {
     "name": "stderr",
     "output_type": "stream",
     "text": [
      "Epoch 257/300: 100%|████████████████████████████| 26/26 [00:03<00:00,  6.87it/s]\n"
     ]
    },
    {
     "name": "stdout",
     "output_type": "stream",
     "text": [
      "Epoch 257/300 - Avg Loss: 0.4970\n"
     ]
    },
    {
     "name": "stderr",
     "output_type": "stream",
     "text": [
      "Epoch 258/300: 100%|████████████████████████████| 26/26 [00:03<00:00,  6.95it/s]\n"
     ]
    },
    {
     "name": "stdout",
     "output_type": "stream",
     "text": [
      "Epoch 258/300 - Avg Loss: 0.4966\n"
     ]
    },
    {
     "name": "stderr",
     "output_type": "stream",
     "text": [
      "Epoch 259/300: 100%|████████████████████████████| 26/26 [00:04<00:00,  6.23it/s]\n"
     ]
    },
    {
     "name": "stdout",
     "output_type": "stream",
     "text": [
      "Epoch 259/300 - Avg Loss: 0.4969\n"
     ]
    },
    {
     "name": "stderr",
     "output_type": "stream",
     "text": [
      "Epoch 260/300: 100%|████████████████████████████| 26/26 [00:03<00:00,  6.93it/s]\n"
     ]
    },
    {
     "name": "stdout",
     "output_type": "stream",
     "text": [
      "Epoch 260/300 - Avg Loss: 0.5024\n"
     ]
    },
    {
     "name": "stderr",
     "output_type": "stream",
     "text": [
      "Epoch 261/300: 100%|████████████████████████████| 26/26 [00:03<00:00,  6.89it/s]\n"
     ]
    },
    {
     "name": "stdout",
     "output_type": "stream",
     "text": [
      "Epoch 261/300 - Avg Loss: 0.5009\n"
     ]
    },
    {
     "name": "stderr",
     "output_type": "stream",
     "text": [
      "Epoch 262/300: 100%|████████████████████████████| 26/26 [00:03<00:00,  6.91it/s]\n"
     ]
    },
    {
     "name": "stdout",
     "output_type": "stream",
     "text": [
      "Epoch 262/300 - Avg Loss: 0.4897\n"
     ]
    },
    {
     "name": "stderr",
     "output_type": "stream",
     "text": [
      "Epoch 263/300: 100%|████████████████████████████| 26/26 [00:03<00:00,  6.88it/s]\n"
     ]
    },
    {
     "name": "stdout",
     "output_type": "stream",
     "text": [
      "Epoch 263/300 - Avg Loss: 0.4958\n"
     ]
    },
    {
     "name": "stderr",
     "output_type": "stream",
     "text": [
      "Epoch 264/300: 100%|████████████████████████████| 26/26 [00:03<00:00,  6.93it/s]\n"
     ]
    },
    {
     "name": "stdout",
     "output_type": "stream",
     "text": [
      "Epoch 264/300 - Avg Loss: 0.4954\n"
     ]
    },
    {
     "name": "stderr",
     "output_type": "stream",
     "text": [
      "Epoch 265/300: 100%|████████████████████████████| 26/26 [00:03<00:00,  6.83it/s]\n"
     ]
    },
    {
     "name": "stdout",
     "output_type": "stream",
     "text": [
      "Epoch 265/300 - Avg Loss: 0.4961\n"
     ]
    },
    {
     "name": "stderr",
     "output_type": "stream",
     "text": [
      "Epoch 266/300: 100%|████████████████████████████| 26/26 [00:03<00:00,  6.92it/s]\n"
     ]
    },
    {
     "name": "stdout",
     "output_type": "stream",
     "text": [
      "Epoch 266/300 - Avg Loss: 0.4944\n"
     ]
    },
    {
     "name": "stderr",
     "output_type": "stream",
     "text": [
      "Epoch 267/300: 100%|████████████████████████████| 26/26 [00:03<00:00,  6.87it/s]\n"
     ]
    },
    {
     "name": "stdout",
     "output_type": "stream",
     "text": [
      "Epoch 267/300 - Avg Loss: 0.4989\n"
     ]
    },
    {
     "name": "stderr",
     "output_type": "stream",
     "text": [
      "Epoch 268/300: 100%|████████████████████████████| 26/26 [00:03<00:00,  6.68it/s]\n"
     ]
    },
    {
     "name": "stdout",
     "output_type": "stream",
     "text": [
      "Epoch 268/300 - Avg Loss: 0.4988\n"
     ]
    },
    {
     "name": "stderr",
     "output_type": "stream",
     "text": [
      "Epoch 269/300: 100%|████████████████████████████| 26/26 [00:03<00:00,  6.69it/s]\n"
     ]
    },
    {
     "name": "stdout",
     "output_type": "stream",
     "text": [
      "Epoch 269/300 - Avg Loss: 0.5026\n"
     ]
    },
    {
     "name": "stderr",
     "output_type": "stream",
     "text": [
      "Epoch 270/300: 100%|████████████████████████████| 26/26 [00:03<00:00,  6.68it/s]\n"
     ]
    },
    {
     "name": "stdout",
     "output_type": "stream",
     "text": [
      "Epoch 270/300 - Avg Loss: 0.4895\n"
     ]
    },
    {
     "name": "stderr",
     "output_type": "stream",
     "text": [
      "Epoch 271/300: 100%|████████████████████████████| 26/26 [00:03<00:00,  6.73it/s]\n"
     ]
    },
    {
     "name": "stdout",
     "output_type": "stream",
     "text": [
      "Epoch 271/300 - Avg Loss: 0.4888\n"
     ]
    },
    {
     "name": "stderr",
     "output_type": "stream",
     "text": [
      "Epoch 272/300: 100%|████████████████████████████| 26/26 [00:04<00:00,  6.31it/s]\n"
     ]
    },
    {
     "name": "stdout",
     "output_type": "stream",
     "text": [
      "Epoch 272/300 - Avg Loss: 0.4846\n"
     ]
    },
    {
     "name": "stderr",
     "output_type": "stream",
     "text": [
      "Epoch 273/300: 100%|████████████████████████████| 26/26 [00:03<00:00,  6.75it/s]\n"
     ]
    },
    {
     "name": "stdout",
     "output_type": "stream",
     "text": [
      "Epoch 273/300 - Avg Loss: 0.4939\n"
     ]
    },
    {
     "name": "stderr",
     "output_type": "stream",
     "text": [
      "Epoch 274/300: 100%|████████████████████████████| 26/26 [00:03<00:00,  6.86it/s]\n"
     ]
    },
    {
     "name": "stdout",
     "output_type": "stream",
     "text": [
      "Epoch 274/300 - Avg Loss: 0.4956\n"
     ]
    },
    {
     "name": "stderr",
     "output_type": "stream",
     "text": [
      "Epoch 275/300: 100%|████████████████████████████| 26/26 [00:04<00:00,  6.12it/s]\n"
     ]
    },
    {
     "name": "stdout",
     "output_type": "stream",
     "text": [
      "Epoch 275/300 - Avg Loss: 0.4963\n"
     ]
    },
    {
     "name": "stderr",
     "output_type": "stream",
     "text": [
      "Epoch 276/300: 100%|████████████████████████████| 26/26 [00:03<00:00,  6.71it/s]\n"
     ]
    },
    {
     "name": "stdout",
     "output_type": "stream",
     "text": [
      "Epoch 276/300 - Avg Loss: 0.5080\n"
     ]
    },
    {
     "name": "stderr",
     "output_type": "stream",
     "text": [
      "Epoch 277/300: 100%|████████████████████████████| 26/26 [00:03<00:00,  6.65it/s]\n"
     ]
    },
    {
     "name": "stdout",
     "output_type": "stream",
     "text": [
      "Epoch 277/300 - Avg Loss: 0.4889\n"
     ]
    },
    {
     "name": "stderr",
     "output_type": "stream",
     "text": [
      "Epoch 278/300: 100%|████████████████████████████| 26/26 [00:03<00:00,  6.65it/s]\n"
     ]
    },
    {
     "name": "stdout",
     "output_type": "stream",
     "text": [
      "Epoch 278/300 - Avg Loss: 0.4884\n"
     ]
    },
    {
     "name": "stderr",
     "output_type": "stream",
     "text": [
      "Epoch 279/300: 100%|████████████████████████████| 26/26 [00:03<00:00,  6.73it/s]\n"
     ]
    },
    {
     "name": "stdout",
     "output_type": "stream",
     "text": [
      "Epoch 279/300 - Avg Loss: 0.5046\n"
     ]
    },
    {
     "name": "stderr",
     "output_type": "stream",
     "text": [
      "Epoch 280/300: 100%|████████████████████████████| 26/26 [00:03<00:00,  6.68it/s]\n"
     ]
    },
    {
     "name": "stdout",
     "output_type": "stream",
     "text": [
      "Epoch 280/300 - Avg Loss: 0.4944\n"
     ]
    },
    {
     "name": "stderr",
     "output_type": "stream",
     "text": [
      "Epoch 281/300: 100%|████████████████████████████| 26/26 [00:03<00:00,  6.67it/s]\n"
     ]
    },
    {
     "name": "stdout",
     "output_type": "stream",
     "text": [
      "Epoch 281/300 - Avg Loss: 0.4983\n"
     ]
    },
    {
     "name": "stderr",
     "output_type": "stream",
     "text": [
      "Epoch 282/300: 100%|████████████████████████████| 26/26 [00:03<00:00,  6.75it/s]\n"
     ]
    },
    {
     "name": "stdout",
     "output_type": "stream",
     "text": [
      "Epoch 282/300 - Avg Loss: 0.4926\n"
     ]
    },
    {
     "name": "stderr",
     "output_type": "stream",
     "text": [
      "Epoch 283/300: 100%|████████████████████████████| 26/26 [00:03<00:00,  6.76it/s]\n"
     ]
    },
    {
     "name": "stdout",
     "output_type": "stream",
     "text": [
      "Epoch 283/300 - Avg Loss: 0.4939\n"
     ]
    },
    {
     "name": "stderr",
     "output_type": "stream",
     "text": [
      "Epoch 284/300: 100%|████████████████████████████| 26/26 [00:03<00:00,  6.74it/s]\n"
     ]
    },
    {
     "name": "stdout",
     "output_type": "stream",
     "text": [
      "Epoch 284/300 - Avg Loss: 0.4953\n"
     ]
    },
    {
     "name": "stderr",
     "output_type": "stream",
     "text": [
      "Epoch 285/300: 100%|████████████████████████████| 26/26 [00:03<00:00,  6.70it/s]\n"
     ]
    },
    {
     "name": "stdout",
     "output_type": "stream",
     "text": [
      "Epoch 285/300 - Avg Loss: 0.5020\n"
     ]
    },
    {
     "name": "stderr",
     "output_type": "stream",
     "text": [
      "Epoch 286/300: 100%|████████████████████████████| 26/26 [00:04<00:00,  6.44it/s]\n"
     ]
    },
    {
     "name": "stdout",
     "output_type": "stream",
     "text": [
      "Epoch 286/300 - Avg Loss: 0.4864\n"
     ]
    },
    {
     "name": "stderr",
     "output_type": "stream",
     "text": [
      "Epoch 287/300: 100%|████████████████████████████| 26/26 [00:04<00:00,  6.43it/s]\n"
     ]
    },
    {
     "name": "stdout",
     "output_type": "stream",
     "text": [
      "Epoch 287/300 - Avg Loss: 0.4871\n"
     ]
    },
    {
     "name": "stderr",
     "output_type": "stream",
     "text": [
      "Epoch 288/300: 100%|████████████████████████████| 26/26 [00:03<00:00,  6.62it/s]\n"
     ]
    },
    {
     "name": "stdout",
     "output_type": "stream",
     "text": [
      "Epoch 288/300 - Avg Loss: 0.4915\n"
     ]
    },
    {
     "name": "stderr",
     "output_type": "stream",
     "text": [
      "Epoch 289/300: 100%|████████████████████████████| 26/26 [00:03<00:00,  6.74it/s]\n"
     ]
    },
    {
     "name": "stdout",
     "output_type": "stream",
     "text": [
      "Epoch 289/300 - Avg Loss: 0.4969\n"
     ]
    },
    {
     "name": "stderr",
     "output_type": "stream",
     "text": [
      "Epoch 290/300: 100%|████████████████████████████| 26/26 [00:04<00:00,  6.13it/s]\n"
     ]
    },
    {
     "name": "stdout",
     "output_type": "stream",
     "text": [
      "Epoch 290/300 - Avg Loss: 0.4927\n"
     ]
    },
    {
     "name": "stderr",
     "output_type": "stream",
     "text": [
      "Epoch 291/300: 100%|████████████████████████████| 26/26 [00:03<00:00,  6.74it/s]\n"
     ]
    },
    {
     "name": "stdout",
     "output_type": "stream",
     "text": [
      "Epoch 291/300 - Avg Loss: 0.4890\n"
     ]
    },
    {
     "name": "stderr",
     "output_type": "stream",
     "text": [
      "Epoch 292/300: 100%|████████████████████████████| 26/26 [00:03<00:00,  6.68it/s]\n"
     ]
    },
    {
     "name": "stdout",
     "output_type": "stream",
     "text": [
      "Epoch 292/300 - Avg Loss: 0.4911\n"
     ]
    },
    {
     "name": "stderr",
     "output_type": "stream",
     "text": [
      "Epoch 293/300: 100%|████████████████████████████| 26/26 [00:03<00:00,  6.79it/s]\n"
     ]
    },
    {
     "name": "stdout",
     "output_type": "stream",
     "text": [
      "Epoch 293/300 - Avg Loss: 0.4893\n"
     ]
    },
    {
     "name": "stderr",
     "output_type": "stream",
     "text": [
      "Epoch 294/300: 100%|████████████████████████████| 26/26 [00:03<00:00,  6.70it/s]\n"
     ]
    },
    {
     "name": "stdout",
     "output_type": "stream",
     "text": [
      "Epoch 294/300 - Avg Loss: 0.5012\n"
     ]
    },
    {
     "name": "stderr",
     "output_type": "stream",
     "text": [
      "Epoch 295/300: 100%|████████████████████████████| 26/26 [00:03<00:00,  6.66it/s]\n"
     ]
    },
    {
     "name": "stdout",
     "output_type": "stream",
     "text": [
      "Epoch 295/300 - Avg Loss: 0.4846\n"
     ]
    },
    {
     "name": "stderr",
     "output_type": "stream",
     "text": [
      "Epoch 296/300: 100%|████████████████████████████| 26/26 [00:03<00:00,  6.69it/s]\n"
     ]
    },
    {
     "name": "stdout",
     "output_type": "stream",
     "text": [
      "Epoch 296/300 - Avg Loss: 0.4929\n"
     ]
    },
    {
     "name": "stderr",
     "output_type": "stream",
     "text": [
      "Epoch 297/300: 100%|████████████████████████████| 26/26 [00:03<00:00,  6.71it/s]\n"
     ]
    },
    {
     "name": "stdout",
     "output_type": "stream",
     "text": [
      "Epoch 297/300 - Avg Loss: 0.4896\n"
     ]
    },
    {
     "name": "stderr",
     "output_type": "stream",
     "text": [
      "Epoch 298/300: 100%|████████████████████████████| 26/26 [00:03<00:00,  6.79it/s]\n"
     ]
    },
    {
     "name": "stdout",
     "output_type": "stream",
     "text": [
      "Epoch 298/300 - Avg Loss: 0.4704\n"
     ]
    },
    {
     "name": "stderr",
     "output_type": "stream",
     "text": [
      "Epoch 299/300: 100%|████████████████████████████| 26/26 [00:03<00:00,  6.73it/s]\n"
     ]
    },
    {
     "name": "stdout",
     "output_type": "stream",
     "text": [
      "Epoch 299/300 - Avg Loss: 0.4837\n"
     ]
    },
    {
     "name": "stderr",
     "output_type": "stream",
     "text": [
      "Epoch 300/300: 100%|████████████████████████████| 26/26 [00:03<00:00,  6.75it/s]"
     ]
    },
    {
     "name": "stdout",
     "output_type": "stream",
     "text": [
      "Epoch 300/300 - Avg Loss: 0.4788\n"
     ]
    },
    {
     "name": "stderr",
     "output_type": "stream",
     "text": [
      "\n"
     ]
    }
   ],
   "source": [
    "model = UNet1D().to(device)\n",
    "ddpm = DDPM(num_timesteps=100)  \n",
    "optimizer = optim.Adam(model.parameters(), lr=2e-4)  \n",
    "\n",
    "print(\"Train data shape:\", train_data.shape)\n",
    "\n",
    "train_dataset = UMAFallDataset(train_data)\n",
    "sample_data = train_dataset[0]\n",
    "print(\"Dataset sample shape:\", sample_data.shape)\n",
    "\n",
    "train_loader = DataLoader(train_dataset, batch_size=BATCH_SIZE)\n",
    "first_batch = next(iter(train_loader))\n",
    "print(\"Batch shape:\", first_batch.shape)\n",
    "\n",
    "train_ddpm(\n",
    "    model=model,\n",
    "    train_loader=train_loader,\n",
    "    ddpm=ddpm,\n",
    "    optimizer=optimizer,\n",
    "    num_epochs=EPOCHS,\n",
    "    device=device    \n",
    ")"
   ]
  },
  {
   "cell_type": "markdown",
   "id": "7c33f079",
   "metadata": {},
   "source": [
    "---"
   ]
  },
  {
   "cell_type": "code",
   "execution_count": 26,
   "id": "e8f53294",
   "metadata": {
    "ExecuteTime": {
     "end_time": "2025-02-15T18:13:04.691723Z",
     "start_time": "2025-02-15T18:13:04.679267Z"
    }
   },
   "outputs": [],
   "source": [
    "def detect_anomalies(model, ddpm, data_loader, device, threshold=None):\n",
    "    model.eval()\n",
    "    anomaly_scores = []\n",
    "\n",
    "    with torch.no_grad():\n",
    "        for batch in data_loader:\n",
    "            x_0 = batch.to(device)\n",
    "            batch_size = x_0.shape[0]\n",
    "\n",
    "            t = ddpm.sample_t(batch_size).to(device)\n",
    "\n",
    "            x_t, epsilon = ddpm.q_sample(x_0, t)\n",
    "\n",
    "            epsilon_theta = model(x_t, t)\n",
    "\n",
    "            # MSE Loss (Anomaly Score)\n",
    "            loss = F.mse_loss(epsilon_theta, epsilon, reduction='none')\n",
    "            loss = loss.mean(dim=(1, 2)) \n",
    "            anomaly_scores.extend(loss.cpu().numpy())  \n",
    "\n",
    "    if threshold is None:\n",
    "        threshold = np.percentile(anomaly_scores, 95)\n",
    "\n",
    "    anomalies = [score > threshold for score in anomaly_scores]\n",
    "\n",
    "    return anomalies, anomaly_scores, threshold\n"
   ]
  },
  {
   "cell_type": "code",
   "execution_count": 27,
   "id": "176f352d",
   "metadata": {
    "ExecuteTime": {
     "end_time": "2025-02-15T18:13:04.790734Z",
     "start_time": "2025-02-15T18:13:04.769579Z"
    }
   },
   "outputs": [],
   "source": [
    "normal_dataset = UMAFallDataset(test_adl_data)\n",
    "normal_loader = DataLoader(normal_dataset, batch_size=BATCH_SIZE)\n",
    "\n",
    "abnormal_dataset = UMAFallDataset(np.concatenate([test_fall1_data, test_fall2_data]))\n",
    "abnormal_loader = DataLoader(abnormal_dataset, batch_size=BATCH_SIZE)"
   ]
  },
  {
   "cell_type": "code",
   "execution_count": 28,
   "id": "00f51252",
   "metadata": {
    "ExecuteTime": {
     "end_time": "2025-02-15T18:13:06.279057Z",
     "start_time": "2025-02-15T18:13:04.796952Z"
    }
   },
   "outputs": [
    {
     "data": {
      "image/png": "[encoded data removed]",
      "text/plain": [
       "<Figure size 1600x900 with 1 Axes>"
      ]
     },
     "metadata": {},
     "output_type": "display_data"
    }
   ],
   "source": [
    "train_dataset = UMAFallDataset(train_data)\n",
    "train_loader = DataLoader(train_dataset, batch_size=BATCH_SIZE)\n",
    "\n",
    "train_anomalies, train_scores, _ = detect_anomalies(model, ddpm, train_loader, device)\n",
    "\n",
    "plt.figure(figsize=(16,9))\n",
    "plt.title('Loss Distribution of TRAIN ADL Data (NORMAL)', fontsize=16)\n",
    "sns.histplot(train_scores, bins=20, kde=True, color='green')\n",
    "plt.show()"
   ]
  },
  {
   "cell_type": "code",
   "execution_count": 29,
   "id": "b220970b",
   "metadata": {
    "ExecuteTime": {
     "end_time": "2025-02-15T18:13:07.673155Z",
     "start_time": "2025-02-15T18:13:06.282429Z"
    }
   },
   "outputs": [
    {
     "data": {
      "image/png": "[encoded data removed]",
      "text/plain": [
       "<Figure size 1600x900 with 1 Axes>"
      ]
     },
     "metadata": {},
     "output_type": "display_data"
    }
   ],
   "source": [
    "normal_anomalies, normal_scores, _ = detect_anomalies(model, ddpm, normal_loader, device)\n",
    "\n",
    "plt.figure(figsize=(16,9))\n",
    "plt.title('Loss Distribution of TEST ADL Data (NORMAL)', fontsize=16)\n",
    "sns.histplot(normal_scores, bins=20, kde=True, color='blue')\n",
    "plt.show()"
   ]
  },
  {
   "cell_type": "code",
   "execution_count": 30,
   "id": "6e15581e",
   "metadata": {
    "ExecuteTime": {
     "end_time": "2025-02-15T18:13:08.278019Z",
     "start_time": "2025-02-15T18:13:07.677049Z"
    }
   },
   "outputs": [
    {
     "data": {
      "image/png": "[encoded data removed]",
      "text/plain": [
       "<Figure size 1600x900 with 1 Axes>"
      ]
     },
     "metadata": {},
     "output_type": "display_data"
    }
   ],
   "source": [
    "abnormal_anomalies, abnormal_scores, _ = detect_anomalies(model, ddpm, abnormal_loader, device)\n",
    "\n",
    "plt.figure(figsize=(16,9))\n",
    "plt.title('Loss Distribution of TEST FALL Data (ABNORMAL)', fontsize=16)\n",
    "sns.histplot(abnormal_scores, bins=20, kde=True, color='red')\n",
    "plt.show()"
   ]
  },
  {
   "cell_type": "code",
   "execution_count": 31,
   "id": "af0d0056",
   "metadata": {
    "ExecuteTime": {
     "end_time": "2025-02-15T18:13:08.771225Z",
     "start_time": "2025-02-15T18:13:08.282191Z"
    }
   },
   "outputs": [
    {
     "data": {
      "image/png": "[encoded data removed]",
      "text/plain": [
       "<Figure size 1000x600 with 1 Axes>"
      ]
     },
     "metadata": {},
     "output_type": "display_data"
    }
   ],
   "source": [
    "plt.figure(figsize=(10,6))\n",
    "plt.title('MSE Distribution Comparison')\n",
    "plt.hist(normal_scores, bins=50, alpha=0.5, color='blue', label='Normal')\n",
    "plt.hist(abnormal_scores, bins=50, alpha=0.5, color='red', label='Abnormal')\n",
    "plt.xlabel('Anomaly Score (MSE)')\n",
    "plt.ylabel('Count')\n",
    "plt.legend()\n",
    "plt.show()"
   ]
  },
  {
   "cell_type": "code",
   "execution_count": 32,
   "id": "b449ec1c",
   "metadata": {
    "ExecuteTime": {
     "end_time": "2025-02-15T18:13:08.802777Z",
     "start_time": "2025-02-15T18:13:08.774762Z"
    }
   },
   "outputs": [
    {
     "name": "stdout",
     "output_type": "stream",
     "text": [
      "error dataframe head : \n",
      "   reconstruction_error  true_class\n",
      "0              0.240456         0.0\n",
      "1              0.913051         0.0\n",
      "2              0.575315         0.0\n",
      "3              0.265992         0.0\n",
      "4              0.540802         0.0\n",
      "5              0.989186         0.0\n",
      "6              0.347916         0.0\n",
      "7              0.570498         0.0\n",
      "8              0.341519         0.0\n",
      "9              0.377884         0.0\n",
      "\n",
      "error dataframe tail : \n",
      "     reconstruction_error  true_class\n",
      "953              1.101741         1.0\n",
      "954              1.185486         1.0\n",
      "955              0.996339         1.0\n",
      "956              1.149662         1.0\n",
      "957              1.155249         1.0\n",
      "958              0.915441         1.0\n",
      "959              1.053857         1.0\n",
      "960              1.098997         1.0\n",
      "961              1.066926         1.0\n",
      "962              1.078210         1.0\n",
      "\n",
      "       reconstruction_error  true_class\n",
      "count            963.000000  963.000000\n",
      "mean               0.570990    0.145379\n",
      "std                0.282415    0.352666\n",
      "min                0.218760    0.000000\n",
      "25%                0.322713    0.000000\n",
      "50%                0.480967    0.000000\n",
      "75%                0.809798    0.000000\n",
      "max                1.290095    1.000000\n",
      "\n"
     ]
    },
    {
     "data": {
      "text/plain": [
       "true_class\n",
       "0.0    823\n",
       "1.0    140\n",
       "Name: count, dtype: int64"
      ]
     },
     "execution_count": 32,
     "metadata": {},
     "output_type": "execute_result"
    }
   ],
   "source": [
    "error_df = pd.DataFrame({\n",
    "    'reconstruction_error': np.concatenate([normal_scores, abnormal_scores]),\n",
    "    'true_class': np.concatenate([np.zeros(len(normal_scores)), np.ones(len(abnormal_scores))])\n",
    "})\n",
    "\n",
    "print (\"error dataframe head : \")\n",
    "print(error_df.head(10))\n",
    "print ()\n",
    "print (\"error dataframe tail : \")\n",
    "print(error_df.tail(10))\n",
    "print ()\n",
    "print(error_df.describe())\n",
    "print ()\n",
    "error_df['true_class'].value_counts()"
   ]
  },
  {
   "cell_type": "code",
   "execution_count": 33,
   "id": "11b238bf",
   "metadata": {
    "ExecuteTime": {
     "end_time": "2025-02-15T18:13:09.037893Z",
     "start_time": "2025-02-15T18:13:08.805962Z"
    }
   },
   "outputs": [
    {
     "data": {
      "image/png": "[encoded data removed]",
      "text/plain": [
       "<Figure size 1000x600 with 1 Axes>"
      ]
     },
     "metadata": {},
     "output_type": "display_data"
    }
   ],
   "source": [
    "plt.figure(figsize=(10, 6))\n",
    "sns.boxplot(x='true_class', y='reconstruction_error', data=error_df, showfliers=False)\n",
    "plt.ylabel('Reconstruction Error Distribution')\n",
    "plt.xlabel('Class (0: Normal, 1: Abnormal)')\n",
    "plt.show()"
   ]
  },
  {
   "cell_type": "code",
   "execution_count": 34,
   "id": "0f34387f",
   "metadata": {
    "ExecuteTime": {
     "end_time": "2025-02-15T18:13:09.045790Z",
     "start_time": "2025-02-15T18:13:09.041923Z"
    }
   },
   "outputs": [],
   "source": [
    "# threshold = np.percentile(normal_scores, 90)\n",
    "thresshold = 0.75"
   ]
  },
  {
   "cell_type": "code",
   "execution_count": 35,
   "id": "0d580ef8",
   "metadata": {
    "ExecuteTime": {
     "end_time": "2025-02-15T18:13:09.619831Z",
     "start_time": "2025-02-15T18:13:09.049176Z"
    }
   },
   "outputs": [
    {
     "ename": "NameError",
     "evalue": "name 'threshold' is not defined",
     "output_type": "error",
     "traceback": [
      "\u001b[0;31m---------------------------------------------------------------------------\u001b[0m",
      "\u001b[0;31mNameError\u001b[0m                                 Traceback (most recent call last)",
      "Cell \u001b[0;32mIn[35], line 7\u001b[0m\n\u001b[1;32m      4\u001b[0m \u001b[38;5;28;01mfor\u001b[39;00m name, group \u001b[38;5;129;01min\u001b[39;00m groups:\n\u001b[1;32m      5\u001b[0m     ax\u001b[38;5;241m.\u001b[39mplot(group\u001b[38;5;241m.\u001b[39mindex, group\u001b[38;5;241m.\u001b[39mreconstruction_error, marker\u001b[38;5;241m=\u001b[39m\u001b[38;5;124m'\u001b[39m\u001b[38;5;124m^\u001b[39m\u001b[38;5;124m'\u001b[39m, ms\u001b[38;5;241m=\u001b[39m\u001b[38;5;241m3.5\u001b[39m, linestyle\u001b[38;5;241m=\u001b[39m\u001b[38;5;124m'\u001b[39m\u001b[38;5;124m'\u001b[39m,\n\u001b[1;32m      6\u001b[0m             label\u001b[38;5;241m=\u001b[39m\u001b[38;5;124m\"\u001b[39m\u001b[38;5;124mNormal\u001b[39m\u001b[38;5;124m\"\u001b[39m \u001b[38;5;28;01mif\u001b[39;00m name \u001b[38;5;241m==\u001b[39m \u001b[38;5;241m0\u001b[39m \u001b[38;5;28;01melse\u001b[39;00m \u001b[38;5;124m\"\u001b[39m\u001b[38;5;124mFall\u001b[39m\u001b[38;5;124m\"\u001b[39m)\n\u001b[0;32m----> 7\u001b[0m ax\u001b[38;5;241m.\u001b[39mhlines(\u001b[43mthreshold\u001b[49m, ax\u001b[38;5;241m.\u001b[39mget_xlim()[\u001b[38;5;241m0\u001b[39m], ax\u001b[38;5;241m.\u001b[39mget_xlim()[\u001b[38;5;241m1\u001b[39m], colors\u001b[38;5;241m=\u001b[39m\u001b[38;5;124m\"\u001b[39m\u001b[38;5;124mr\u001b[39m\u001b[38;5;124m\"\u001b[39m, zorder\u001b[38;5;241m=\u001b[39m\u001b[38;5;241m100\u001b[39m, label\u001b[38;5;241m=\u001b[39m\u001b[38;5;124m'\u001b[39m\u001b[38;5;124mThreshold\u001b[39m\u001b[38;5;124m'\u001b[39m)\n\u001b[1;32m      8\u001b[0m ax\u001b[38;5;241m.\u001b[39mlegend()\n\u001b[1;32m      9\u001b[0m plt\u001b[38;5;241m.\u001b[39mtitle(\u001b[38;5;124m\"\u001b[39m\u001b[38;5;124mReconstruction Error by Class\u001b[39m\u001b[38;5;124m\"\u001b[39m)\n",
      "\u001b[0;31mNameError\u001b[0m: name 'threshold' is not defined"
     ]
    },
    {
     "data": {
      "image/png": "[encoded data removed]",
      "text/plain": [
       "<Figure size 640x480 with 1 Axes>"
      ]
     },
     "metadata": {},
     "output_type": "display_data"
    }
   ],
   "source": [
    "groups = error_df.groupby('true_class')\n",
    "fig, ax = plt.subplots()\n",
    "\n",
    "for name, group in groups:\n",
    "    ax.plot(group.index, group.reconstruction_error, marker='^', ms=3.5, linestyle='',\n",
    "            label=\"Normal\" if name == 0 else \"Fall\")\n",
    "ax.hlines(threshold, ax.get_xlim()[0], ax.get_xlim()[1], colors=\"r\", zorder=100, label='Threshold')\n",
    "ax.legend()\n",
    "plt.title(\"Reconstruction Error by Class\")\n",
    "plt.ylabel(\"Reconstruction Error\")\n",
    "plt.xlabel(\"Data Point Index\")\n",
    "plt.show()"
   ]
  },
  {
   "cell_type": "code",
   "execution_count": null,
   "id": "20f22a54",
   "metadata": {
    "ExecuteTime": {
     "end_time": "2025-02-15T18:13:09.635327Z",
     "start_time": "2025-02-15T18:13:09.635296Z"
    }
   },
   "outputs": [],
   "source": [
    "LABELS = [\"Normal\", \"Abnormal\"]\n",
    "y_pred = [1 if e > threshold else 0 for e in error_df.reconstruction_error.values]\n",
    "conf_matrix = confusion_matrix(error_df.true_class, y_pred)\n",
    "\n",
    "plt.figure(figsize=(7, 7))\n",
    "sns.heatmap(conf_matrix, xticklabels=LABELS, yticklabels=LABELS, annot=True, fmt=\"d\")\n",
    "plt.title(\"Confusion Matrix\")\n",
    "plt.ylabel('True Class')\n",
    "plt.xlabel('Predicted Class')\n",
    "plt.show()"
   ]
  },
  {
   "cell_type": "code",
   "execution_count": null,
   "id": "34bd60c0",
   "metadata": {
    "ExecuteTime": {
     "end_time": "2025-02-15T18:13:09.637664Z",
     "start_time": "2025-02-15T18:13:09.637639Z"
    }
   },
   "outputs": [],
   "source": [
    "from sklearn.metrics import precision_recall_fscore_support\n",
    "\n",
    "precision, recall, f1, _ = precision_recall_fscore_support(error_df.true_class, y_pred, average='binary')\n",
    "accuracy = accuracy_score(error_df.true_class, y_pred)\n",
    "\n",
    "print('\\nPerformance Metrics:')\n",
    "print(f'Accuracy Score : {accuracy:.4f}')\n",
    "print(f'Precision     : {precision:.4f}')\n",
    "print(f'Recall        : {recall:.4f}')\n",
    "print(f'F1 Score      : {f1:.4f}')"
   ]
  }
 ],
 "metadata": {
  "kernelspec": {
   "display_name": "Python 3 (ipykernel)",
   "language": "python",
   "name": "python3"
  },
  "language_info": {
   "codemirror_mode": {
    "name": "ipython",
    "version": 3
   },
   "file_extension": ".py",
   "mimetype": "text/x-python",
   "name": "python",
   "nbconvert_exporter": "python",
   "pygments_lexer": "ipython3",
   "version": "3.11.3"
  },
  "varInspector": {
   "cols": {
    "lenName": 16,
    "lenType": 16,
    "lenVar": 40
   },
   "kernels_config": {
    "python": {
     "delete_cmd_postfix": "",
     "delete_cmd_prefix": "del ",
     "library": "var_list.py",
     "varRefreshCmd": "print(var_dic_list())"
    },
    "r": {
     "delete_cmd_postfix": ") ",
     "delete_cmd_prefix": "rm(",
     "library": "var_list.r",
     "varRefreshCmd": "cat(var_dic_list()) "
    }
   },
   "types_to_exclude": [
    "module",
    "function",
    "builtin_function_or_method",
    "instance",
    "_Feature"
   ],
   "window_display": false
  }
 },
 "nbformat": 4,
 "nbformat_minor": 5
}
