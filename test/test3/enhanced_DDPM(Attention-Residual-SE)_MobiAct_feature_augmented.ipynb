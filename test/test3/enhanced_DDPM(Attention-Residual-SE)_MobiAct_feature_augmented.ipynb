{
 "cells": [
  {
   "cell_type": "code",
   "execution_count": 1,
   "id": "efb963b7",
   "metadata": {
    "ExecuteTime": {
     "end_time": "2025-02-18T15:04:44.582363Z",
     "start_time": "2025-02-18T15:04:38.014313Z"
    }
   },
   "outputs": [
    {
     "name": "stderr",
     "output_type": "stream",
     "text": [
      "2025-02-19 00:04:40.563682: I tensorflow/core/platform/cpu_feature_guard.cc:210] This TensorFlow binary is optimized to use available CPU instructions in performance-critical operations.\n",
      "To enable the following instructions: AVX2 FMA, in other operations, rebuild TensorFlow with the appropriate compiler flags.\n"
     ]
    }
   ],
   "source": [
    "import tensorflow as tf\n",
    "import numpy as np\n",
    "from tensorflow.keras import layers, Model\n",
    "import matplotlib.pyplot as plt \n",
    "import seaborn as sns\n",
    "import os\n",
    "import math\n",
    "import glob\n",
    "import pandas as pd\n",
    "from tqdm import tqdm\n",
    "from sklearn.metrics import confusion_matrix, classification_report\n",
    "from sklearn.preprocessing import StandardScaler"
   ]
  },
  {
   "cell_type": "code",
   "execution_count": 2,
   "id": "7674eaf5",
   "metadata": {
    "ExecuteTime": {
     "end_time": "2025-02-18T15:04:45.956296Z",
     "start_time": "2025-02-18T15:04:44.584462Z"
    }
   },
   "outputs": [],
   "source": [
    "import torch\n",
    "import torch.nn as nn\n",
    "import torch.optim as optim\n",
    "import torch.nn.functional as F  \n",
    "import numpy as np\n",
    "import pandas as pd\n",
    "import matplotlib.pyplot as plt\n",
    "import seaborn as sns\n",
    "from torch.utils.data import Dataset, DataLoader\n",
    "from sklearn.metrics import confusion_matrix, classification_report\n",
    "from sklearn.metrics import accuracy_score, precision_score, recall_score, f1_score\n",
    "from tqdm import tqdm\n",
    "import re"
   ]
  },
  {
   "cell_type": "code",
   "execution_count": 3,
   "id": "4d309c44",
   "metadata": {
    "ExecuteTime": {
     "end_time": "2025-02-18T15:04:46.043670Z",
     "start_time": "2025-02-18T15:04:45.961029Z"
    }
   },
   "outputs": [
    {
     "data": {
      "text/html": [
       "<div>\n",
       "<style scoped>\n",
       "    .dataframe tbody tr th:only-of-type {\n",
       "        vertical-align: middle;\n",
       "    }\n",
       "\n",
       "    .dataframe tbody tr th {\n",
       "        vertical-align: top;\n",
       "    }\n",
       "\n",
       "    .dataframe thead th {\n",
       "        text-align: right;\n",
       "    }\n",
       "</style>\n",
       "<table border=\"1\" class=\"dataframe\">\n",
       "  <thead>\n",
       "    <tr style=\"text-align: right;\">\n",
       "      <th></th>\n",
       "      <th>AvgX</th>\n",
       "      <th>AvgY</th>\n",
       "      <th>AvgZ</th>\n",
       "      <th>MedianX</th>\n",
       "      <th>MedianY</th>\n",
       "      <th>MedianZ</th>\n",
       "      <th>StdX</th>\n",
       "      <th>StdY</th>\n",
       "      <th>StdZ</th>\n",
       "      <th>SkewX</th>\n",
       "      <th>...</th>\n",
       "      <th>AbsMaxZ</th>\n",
       "      <th>AbsSlope</th>\n",
       "      <th>MeanMag</th>\n",
       "      <th>StdMag</th>\n",
       "      <th>MinMag</th>\n",
       "      <th>MaxMag</th>\n",
       "      <th>DiffMinMaxMag</th>\n",
       "      <th>ZCR_Mag</th>\n",
       "      <th>AverageResultantAcceleration</th>\n",
       "      <th>label</th>\n",
       "    </tr>\n",
       "  </thead>\n",
       "  <tbody>\n",
       "    <tr>\n",
       "      <th>0</th>\n",
       "      <td>7.079540</td>\n",
       "      <td>0.292400</td>\n",
       "      <td>3.763926</td>\n",
       "      <td>8.336310</td>\n",
       "      <td>-0.800637</td>\n",
       "      <td>4.799377</td>\n",
       "      <td>2.868003</td>\n",
       "      <td>4.616586</td>\n",
       "      <td>2.274586</td>\n",
       "      <td>-1.821233</td>\n",
       "      <td>...</td>\n",
       "      <td>12.732082</td>\n",
       "      <td>25.968431</td>\n",
       "      <td>99.065435</td>\n",
       "      <td>37.258635</td>\n",
       "      <td>29.541558</td>\n",
       "      <td>567.998312</td>\n",
       "      <td>538.456755</td>\n",
       "      <td>0</td>\n",
       "      <td>99.065435</td>\n",
       "      <td>BSC</td>\n",
       "    </tr>\n",
       "    <tr>\n",
       "      <th>1</th>\n",
       "      <td>7.173739</td>\n",
       "      <td>1.640782</td>\n",
       "      <td>4.361933</td>\n",
       "      <td>7.536947</td>\n",
       "      <td>1.973893</td>\n",
       "      <td>5.578871</td>\n",
       "      <td>2.253994</td>\n",
       "      <td>3.824003</td>\n",
       "      <td>2.581553</td>\n",
       "      <td>-1.826785</td>\n",
       "      <td>...</td>\n",
       "      <td>13.052741</td>\n",
       "      <td>28.237861</td>\n",
       "      <td>99.534564</td>\n",
       "      <td>41.252435</td>\n",
       "      <td>30.958310</td>\n",
       "      <td>514.237251</td>\n",
       "      <td>483.278940</td>\n",
       "      <td>0</td>\n",
       "      <td>99.534564</td>\n",
       "      <td>BSC</td>\n",
       "    </tr>\n",
       "    <tr>\n",
       "      <th>2</th>\n",
       "      <td>7.330632</td>\n",
       "      <td>2.381979</td>\n",
       "      <td>3.417897</td>\n",
       "      <td>8.192033</td>\n",
       "      <td>3.039308</td>\n",
       "      <td>4.317029</td>\n",
       "      <td>2.640936</td>\n",
       "      <td>4.069859</td>\n",
       "      <td>2.199644</td>\n",
       "      <td>-1.708481</td>\n",
       "      <td>...</td>\n",
       "      <td>10.945221</td>\n",
       "      <td>27.597204</td>\n",
       "      <td>99.455316</td>\n",
       "      <td>40.969060</td>\n",
       "      <td>20.501091</td>\n",
       "      <td>523.780867</td>\n",
       "      <td>503.279777</td>\n",
       "      <td>0</td>\n",
       "      <td>99.455316</td>\n",
       "      <td>BSC</td>\n",
       "    </tr>\n",
       "    <tr>\n",
       "      <th>3</th>\n",
       "      <td>-5.568553</td>\n",
       "      <td>-0.217635</td>\n",
       "      <td>6.616517</td>\n",
       "      <td>-6.148310</td>\n",
       "      <td>-0.676446</td>\n",
       "      <td>7.363430</td>\n",
       "      <td>2.473055</td>\n",
       "      <td>3.530614</td>\n",
       "      <td>1.962968</td>\n",
       "      <td>1.075171</td>\n",
       "      <td>...</td>\n",
       "      <td>18.426916</td>\n",
       "      <td>31.743260</td>\n",
       "      <td>97.257094</td>\n",
       "      <td>56.157126</td>\n",
       "      <td>2.593039</td>\n",
       "      <td>961.689593</td>\n",
       "      <td>959.096554</td>\n",
       "      <td>0</td>\n",
       "      <td>97.257094</td>\n",
       "      <td>BSC</td>\n",
       "    </tr>\n",
       "    <tr>\n",
       "      <th>4</th>\n",
       "      <td>-4.795033</td>\n",
       "      <td>0.358094</td>\n",
       "      <td>7.179030</td>\n",
       "      <td>-5.434174</td>\n",
       "      <td>0.013750</td>\n",
       "      <td>7.892242</td>\n",
       "      <td>2.168915</td>\n",
       "      <td>3.643256</td>\n",
       "      <td>2.230609</td>\n",
       "      <td>1.192495</td>\n",
       "      <td>...</td>\n",
       "      <td>19.105164</td>\n",
       "      <td>32.353318</td>\n",
       "      <td>97.600097</td>\n",
       "      <td>63.150734</td>\n",
       "      <td>2.032286</td>\n",
       "      <td>1033.791111</td>\n",
       "      <td>1031.758825</td>\n",
       "      <td>0</td>\n",
       "      <td>97.600097</td>\n",
       "      <td>BSC</td>\n",
       "    </tr>\n",
       "  </tbody>\n",
       "</table>\n",
       "<p>5 rows × 59 columns</p>\n",
       "</div>"
      ],
      "text/plain": [
       "       AvgX      AvgY      AvgZ   MedianX   MedianY   MedianZ      StdX  \\\n",
       "0  7.079540  0.292400  3.763926  8.336310 -0.800637  4.799377  2.868003   \n",
       "1  7.173739  1.640782  4.361933  7.536947  1.973893  5.578871  2.253994   \n",
       "2  7.330632  2.381979  3.417897  8.192033  3.039308  4.317029  2.640936   \n",
       "3 -5.568553 -0.217635  6.616517 -6.148310 -0.676446  7.363430  2.473055   \n",
       "4 -4.795033  0.358094  7.179030 -5.434174  0.013750  7.892242  2.168915   \n",
       "\n",
       "       StdY      StdZ     SkewX  ...    AbsMaxZ   AbsSlope    MeanMag  \\\n",
       "0  4.616586  2.274586 -1.821233  ...  12.732082  25.968431  99.065435   \n",
       "1  3.824003  2.581553 -1.826785  ...  13.052741  28.237861  99.534564   \n",
       "2  4.069859  2.199644 -1.708481  ...  10.945221  27.597204  99.455316   \n",
       "3  3.530614  1.962968  1.075171  ...  18.426916  31.743260  97.257094   \n",
       "4  3.643256  2.230609  1.192495  ...  19.105164  32.353318  97.600097   \n",
       "\n",
       "      StdMag     MinMag       MaxMag  DiffMinMaxMag  ZCR_Mag  \\\n",
       "0  37.258635  29.541558   567.998312     538.456755        0   \n",
       "1  41.252435  30.958310   514.237251     483.278940        0   \n",
       "2  40.969060  20.501091   523.780867     503.279777        0   \n",
       "3  56.157126   2.593039   961.689593     959.096554        0   \n",
       "4  63.150734   2.032286  1033.791111    1031.758825        0   \n",
       "\n",
       "   AverageResultantAcceleration  label  \n",
       "0                     99.065435    BSC  \n",
       "1                     99.534564    BSC  \n",
       "2                     99.455316    BSC  \n",
       "3                     97.257094    BSC  \n",
       "4                     97.600097    BSC  \n",
       "\n",
       "[5 rows x 59 columns]"
      ]
     },
     "execution_count": 3,
     "metadata": {},
     "output_type": "execute_result"
    }
   ],
   "source": [
    "datapath = \"../../data/MobiAct_feature_aug.csv\"\n",
    "df = pd.read_csv(datapath)\n",
    "df.head()"
   ]
  },
  {
   "cell_type": "code",
   "execution_count": 4,
   "id": "db32c5b6",
   "metadata": {
    "ExecuteTime": {
     "end_time": "2025-02-18T15:04:46.151735Z",
     "start_time": "2025-02-18T15:04:46.045801Z"
    }
   },
   "outputs": [
    {
     "name": "stdout",
     "output_type": "stream",
     "text": [
      "<class 'pandas.core.frame.DataFrame'>\n",
      "RangeIndex: 3294 entries, 0 to 3293\n",
      "Data columns (total 59 columns):\n",
      " #   Column                        Non-Null Count  Dtype  \n",
      "---  ------                        --------------  -----  \n",
      " 0   AvgX                          3294 non-null   float64\n",
      " 1   AvgY                          3294 non-null   float64\n",
      " 2   AvgZ                          3294 non-null   float64\n",
      " 3   MedianX                       3294 non-null   float64\n",
      " 4   MedianY                       3294 non-null   float64\n",
      " 5   MedianZ                       3294 non-null   float64\n",
      " 6   StdX                          3294 non-null   float64\n",
      " 7   StdY                          3294 non-null   float64\n",
      " 8   StdZ                          3294 non-null   float64\n",
      " 9   SkewX                         3294 non-null   float64\n",
      " 10  SkewY                         3294 non-null   float64\n",
      " 11  SkewZ                         3294 non-null   float64\n",
      " 12  KurtosisX                     3294 non-null   float64\n",
      " 13  KurtosisY                     3294 non-null   float64\n",
      " 14  KurtosisZ                     3294 non-null   float64\n",
      " 15  MinX                          3294 non-null   float64\n",
      " 16  MinY                          3294 non-null   float64\n",
      " 17  MinZ                          3294 non-null   float64\n",
      " 18  MaxX                          3294 non-null   float64\n",
      " 19  MaxY                          3294 non-null   float64\n",
      " 20  MaxZ                          3294 non-null   float64\n",
      " 21  Slope                         3294 non-null   float64\n",
      " 22  MeanTA                        3294 non-null   float64\n",
      " 23  StdTA                         3294 non-null   float64\n",
      " 24  SkewTA                        3294 non-null   float64\n",
      " 25  KurtosisTA                    3294 non-null   float64\n",
      " 26  AbsX                          3294 non-null   float64\n",
      " 27  AbsY                          3294 non-null   float64\n",
      " 28  AbsZ                          3294 non-null   float64\n",
      " 29  AbsMeanX                      3294 non-null   float64\n",
      " 30  AbsMeanY                      3294 non-null   float64\n",
      " 31  AbsMeanZ                      3294 non-null   float64\n",
      " 32  AbsMedianX                    3294 non-null   float64\n",
      " 33  AbsMedianY                    3294 non-null   float64\n",
      " 34  AbsMedianZ                    3294 non-null   float64\n",
      " 35  AbsStdX                       3294 non-null   float64\n",
      " 36  AbsStdY                       3294 non-null   float64\n",
      " 37  AbsStdZ                       3294 non-null   float64\n",
      " 38  AbsSkewX                      3294 non-null   float64\n",
      " 39  AbsSkewY                      3294 non-null   float64\n",
      " 40  AbsSkewZ                      3294 non-null   float64\n",
      " 41  AbsKurtosisX                  3294 non-null   float64\n",
      " 42  AbsKurtosisY                  3294 non-null   float64\n",
      " 43  AbsKurtosisZ                  3294 non-null   float64\n",
      " 44  AbsMinX                       3294 non-null   float64\n",
      " 45  AbsMinY                       3294 non-null   float64\n",
      " 46  AbsMinZ                       3294 non-null   float64\n",
      " 47  AbsMaxX                       3294 non-null   float64\n",
      " 48  AbsMaxY                       3294 non-null   float64\n",
      " 49  AbsMaxZ                       3294 non-null   float64\n",
      " 50  AbsSlope                      3294 non-null   float64\n",
      " 51  MeanMag                       3294 non-null   float64\n",
      " 52  StdMag                        3294 non-null   float64\n",
      " 53  MinMag                        3294 non-null   float64\n",
      " 54  MaxMag                        3294 non-null   float64\n",
      " 55  DiffMinMaxMag                 3294 non-null   float64\n",
      " 56  ZCR_Mag                       3294 non-null   int64  \n",
      " 57  AverageResultantAcceleration  3294 non-null   float64\n",
      " 58  label                         3294 non-null   object \n",
      "dtypes: float64(57), int64(1), object(1)\n",
      "memory usage: 1.5+ MB\n"
     ]
    },
    {
     "data": {
      "text/html": [
       "<div>\n",
       "<style scoped>\n",
       "    .dataframe tbody tr th:only-of-type {\n",
       "        vertical-align: middle;\n",
       "    }\n",
       "\n",
       "    .dataframe tbody tr th {\n",
       "        vertical-align: top;\n",
       "    }\n",
       "\n",
       "    .dataframe thead th {\n",
       "        text-align: right;\n",
       "    }\n",
       "</style>\n",
       "<table border=\"1\" class=\"dataframe\">\n",
       "  <thead>\n",
       "    <tr style=\"text-align: right;\">\n",
       "      <th></th>\n",
       "      <th>count</th>\n",
       "      <th>mean</th>\n",
       "      <th>std</th>\n",
       "      <th>min</th>\n",
       "      <th>25%</th>\n",
       "      <th>50%</th>\n",
       "      <th>75%</th>\n",
       "      <th>max</th>\n",
       "    </tr>\n",
       "  </thead>\n",
       "  <tbody>\n",
       "    <tr>\n",
       "      <th>AvgX</th>\n",
       "      <td>3294.0</td>\n",
       "      <td>0.410833</td>\n",
       "      <td>3.628758</td>\n",
       "      <td>-9.886928</td>\n",
       "      <td>-1.945098</td>\n",
       "      <td>0.449712</td>\n",
       "      <td>2.950076</td>\n",
       "      <td>9.705663</td>\n",
       "    </tr>\n",
       "    <tr>\n",
       "      <th>AvgY</th>\n",
       "      <td>3294.0</td>\n",
       "      <td>4.251255</td>\n",
       "      <td>4.901131</td>\n",
       "      <td>-9.794727</td>\n",
       "      <td>1.638448</td>\n",
       "      <td>4.703366</td>\n",
       "      <td>8.814596</td>\n",
       "      <td>10.297934</td>\n",
       "    </tr>\n",
       "    <tr>\n",
       "      <th>AvgZ</th>\n",
       "      <td>3294.0</td>\n",
       "      <td>1.745927</td>\n",
       "      <td>4.209410</td>\n",
       "      <td>-9.826976</td>\n",
       "      <td>-0.297116</td>\n",
       "      <td>1.475094</td>\n",
       "      <td>5.766374</td>\n",
       "      <td>9.405894</td>\n",
       "    </tr>\n",
       "    <tr>\n",
       "      <th>MedianX</th>\n",
       "      <td>3294.0</td>\n",
       "      <td>0.406599</td>\n",
       "      <td>3.984900</td>\n",
       "      <td>-9.770841</td>\n",
       "      <td>-1.960339</td>\n",
       "      <td>0.311817</td>\n",
       "      <td>3.012170</td>\n",
       "      <td>9.819040</td>\n",
       "    </tr>\n",
       "    <tr>\n",
       "      <th>MedianY</th>\n",
       "      <td>3294.0</td>\n",
       "      <td>3.965840</td>\n",
       "      <td>5.433286</td>\n",
       "      <td>-10.408320</td>\n",
       "      <td>0.498359</td>\n",
       "      <td>3.532161</td>\n",
       "      <td>9.441478</td>\n",
       "      <td>11.140900</td>\n",
       "    </tr>\n",
       "    <tr>\n",
       "      <th>MedianZ</th>\n",
       "      <td>3294.0</td>\n",
       "      <td>1.766999</td>\n",
       "      <td>4.856065</td>\n",
       "      <td>-9.949785</td>\n",
       "      <td>-0.492540</td>\n",
       "      <td>0.822284</td>\n",
       "      <td>6.815637</td>\n",
       "      <td>9.553715</td>\n",
       "    </tr>\n",
       "    <tr>\n",
       "      <th>StdX</th>\n",
       "      <td>3294.0</td>\n",
       "      <td>2.372219</td>\n",
       "      <td>1.132904</td>\n",
       "      <td>0.035555</td>\n",
       "      <td>1.599901</td>\n",
       "      <td>2.211373</td>\n",
       "      <td>2.938132</td>\n",
       "      <td>7.859170</td>\n",
       "    </tr>\n",
       "    <tr>\n",
       "      <th>StdY</th>\n",
       "      <td>3294.0</td>\n",
       "      <td>3.822120</td>\n",
       "      <td>1.778256</td>\n",
       "      <td>0.023811</td>\n",
       "      <td>2.695819</td>\n",
       "      <td>3.277098</td>\n",
       "      <td>4.827666</td>\n",
       "      <td>9.902119</td>\n",
       "    </tr>\n",
       "    <tr>\n",
       "      <th>StdZ</th>\n",
       "      <td>3294.0</td>\n",
       "      <td>2.901933</td>\n",
       "      <td>1.017588</td>\n",
       "      <td>0.041281</td>\n",
       "      <td>2.207353</td>\n",
       "      <td>2.770354</td>\n",
       "      <td>3.573924</td>\n",
       "      <td>7.543139</td>\n",
       "    </tr>\n",
       "    <tr>\n",
       "      <th>SkewX</th>\n",
       "      <td>3294.0</td>\n",
       "      <td>-0.029612</td>\n",
       "      <td>1.237420</td>\n",
       "      <td>-4.765660</td>\n",
       "      <td>-0.797864</td>\n",
       "      <td>0.010570</td>\n",
       "      <td>0.791700</td>\n",
       "      <td>6.732506</td>\n",
       "    </tr>\n",
       "    <tr>\n",
       "      <th>SkewY</th>\n",
       "      <td>3294.0</td>\n",
       "      <td>0.309895</td>\n",
       "      <td>1.141043</td>\n",
       "      <td>-8.219775</td>\n",
       "      <td>-0.382115</td>\n",
       "      <td>0.303227</td>\n",
       "      <td>1.077374</td>\n",
       "      <td>9.476990</td>\n",
       "    </tr>\n",
       "    <tr>\n",
       "      <th>SkewZ</th>\n",
       "      <td>3294.0</td>\n",
       "      <td>-0.132070</td>\n",
       "      <td>1.418688</td>\n",
       "      <td>-10.312763</td>\n",
       "      <td>-1.284437</td>\n",
       "      <td>0.023046</td>\n",
       "      <td>0.876415</td>\n",
       "      <td>6.777550</td>\n",
       "    </tr>\n",
       "    <tr>\n",
       "      <th>KurtosisX</th>\n",
       "      <td>3294.0</td>\n",
       "      <td>3.077036</td>\n",
       "      <td>4.970094</td>\n",
       "      <td>-1.682112</td>\n",
       "      <td>0.237378</td>\n",
       "      <td>1.628231</td>\n",
       "      <td>4.240804</td>\n",
       "      <td>63.888935</td>\n",
       "    </tr>\n",
       "    <tr>\n",
       "      <th>KurtosisY</th>\n",
       "      <td>3294.0</td>\n",
       "      <td>2.934441</td>\n",
       "      <td>13.852026</td>\n",
       "      <td>-1.749400</td>\n",
       "      <td>-0.387469</td>\n",
       "      <td>0.788713</td>\n",
       "      <td>3.082363</td>\n",
       "      <td>571.978426</td>\n",
       "    </tr>\n",
       "    <tr>\n",
       "      <th>KurtosisZ</th>\n",
       "      <td>3294.0</td>\n",
       "      <td>3.035378</td>\n",
       "      <td>6.678144</td>\n",
       "      <td>-1.883012</td>\n",
       "      <td>0.112726</td>\n",
       "      <td>1.767558</td>\n",
       "      <td>4.029641</td>\n",
       "      <td>191.528903</td>\n",
       "    </tr>\n",
       "    <tr>\n",
       "      <th>MinX</th>\n",
       "      <td>3294.0</td>\n",
       "      <td>-7.817987</td>\n",
       "      <td>5.775513</td>\n",
       "      <td>-19.526592</td>\n",
       "      <td>-11.952953</td>\n",
       "      <td>-6.648378</td>\n",
       "      <td>-3.247692</td>\n",
       "      <td>5.291361</td>\n",
       "    </tr>\n",
       "    <tr>\n",
       "      <th>MinY</th>\n",
       "      <td>3294.0</td>\n",
       "      <td>-5.615954</td>\n",
       "      <td>7.201539</td>\n",
       "      <td>-19.609409</td>\n",
       "      <td>-9.827052</td>\n",
       "      <td>-4.698271</td>\n",
       "      <td>0.157668</td>\n",
       "      <td>9.684462</td>\n",
       "    </tr>\n",
       "    <tr>\n",
       "      <th>MinZ</th>\n",
       "      <td>3294.0</td>\n",
       "      <td>-7.455812</td>\n",
       "      <td>5.735508</td>\n",
       "      <td>-19.525028</td>\n",
       "      <td>-12.082921</td>\n",
       "      <td>-6.273072</td>\n",
       "      <td>-2.478315</td>\n",
       "      <td>8.851597</td>\n",
       "    </tr>\n",
       "    <tr>\n",
       "      <th>MaxX</th>\n",
       "      <td>3294.0</td>\n",
       "      <td>8.541416</td>\n",
       "      <td>5.316362</td>\n",
       "      <td>-8.382855</td>\n",
       "      <td>4.545217</td>\n",
       "      <td>7.775283</td>\n",
       "      <td>12.171159</td>\n",
       "      <td>19.536130</td>\n",
       "    </tr>\n",
       "    <tr>\n",
       "      <th>MaxY</th>\n",
       "      <td>3294.0</td>\n",
       "      <td>14.377342</td>\n",
       "      <td>5.144126</td>\n",
       "      <td>-8.661325</td>\n",
       "      <td>10.499097</td>\n",
       "      <td>16.025548</td>\n",
       "      <td>18.816571</td>\n",
       "      <td>19.597470</td>\n",
       "    </tr>\n",
       "    <tr>\n",
       "      <th>MaxZ</th>\n",
       "      <td>3294.0</td>\n",
       "      <td>11.071510</td>\n",
       "      <td>5.266588</td>\n",
       "      <td>-8.858952</td>\n",
       "      <td>7.844220</td>\n",
       "      <td>11.360655</td>\n",
       "      <td>15.224169</td>\n",
       "      <td>19.534387</td>\n",
       "    </tr>\n",
       "    <tr>\n",
       "      <th>Slope</th>\n",
       "      <td>3294.0</td>\n",
       "      <td>32.265835</td>\n",
       "      <td>11.857375</td>\n",
       "      <td>1.055147</td>\n",
       "      <td>23.474366</td>\n",
       "      <td>31.158804</td>\n",
       "      <td>41.273960</td>\n",
       "      <td>64.600530</td>\n",
       "    </tr>\n",
       "    <tr>\n",
       "      <th>MeanTA</th>\n",
       "      <td>3294.0</td>\n",
       "      <td>0.523330</td>\n",
       "      <td>0.619442</td>\n",
       "      <td>-1.492608</td>\n",
       "      <td>0.208015</td>\n",
       "      <td>0.506995</td>\n",
       "      <td>1.064246</td>\n",
       "      <td>1.531920</td>\n",
       "    </tr>\n",
       "    <tr>\n",
       "      <th>StdTA</th>\n",
       "      <td>3294.0</td>\n",
       "      <td>0.413704</td>\n",
       "      <td>0.190540</td>\n",
       "      <td>0.002462</td>\n",
       "      <td>0.265688</td>\n",
       "      <td>0.390933</td>\n",
       "      <td>0.563254</td>\n",
       "      <td>0.977022</td>\n",
       "    </tr>\n",
       "    <tr>\n",
       "      <th>SkewTA</th>\n",
       "      <td>3294.0</td>\n",
       "      <td>0.092912</td>\n",
       "      <td>1.473780</td>\n",
       "      <td>-5.819842</td>\n",
       "      <td>-1.112553</td>\n",
       "      <td>-0.174141</td>\n",
       "      <td>1.483893</td>\n",
       "      <td>6.060912</td>\n",
       "    </tr>\n",
       "    <tr>\n",
       "      <th>KurtosisTA</th>\n",
       "      <td>3294.0</td>\n",
       "      <td>2.170665</td>\n",
       "      <td>3.823171</td>\n",
       "      <td>-1.803649</td>\n",
       "      <td>-0.193558</td>\n",
       "      <td>1.230309</td>\n",
       "      <td>3.464722</td>\n",
       "      <td>80.451814</td>\n",
       "    </tr>\n",
       "    <tr>\n",
       "      <th>AbsX</th>\n",
       "      <td>3294.0</td>\n",
       "      <td>1.750840</td>\n",
       "      <td>0.971598</td>\n",
       "      <td>0.025852</td>\n",
       "      <td>1.117040</td>\n",
       "      <td>1.537428</td>\n",
       "      <td>2.166112</td>\n",
       "      <td>6.854348</td>\n",
       "    </tr>\n",
       "    <tr>\n",
       "      <th>AbsY</th>\n",
       "      <td>3294.0</td>\n",
       "      <td>2.937279</td>\n",
       "      <td>1.791937</td>\n",
       "      <td>0.017796</td>\n",
       "      <td>1.768520</td>\n",
       "      <td>2.270448</td>\n",
       "      <td>3.973988</td>\n",
       "      <td>8.530674</td>\n",
       "    </tr>\n",
       "    <tr>\n",
       "      <th>AbsZ</th>\n",
       "      <td>3294.0</td>\n",
       "      <td>2.169765</td>\n",
       "      <td>0.915569</td>\n",
       "      <td>0.026534</td>\n",
       "      <td>1.537319</td>\n",
       "      <td>2.007055</td>\n",
       "      <td>2.769121</td>\n",
       "      <td>6.090362</td>\n",
       "    </tr>\n",
       "    <tr>\n",
       "      <th>AbsMeanX</th>\n",
       "      <td>3294.0</td>\n",
       "      <td>3.537961</td>\n",
       "      <td>1.945579</td>\n",
       "      <td>0.138473</td>\n",
       "      <td>1.930988</td>\n",
       "      <td>3.150653</td>\n",
       "      <td>4.740945</td>\n",
       "      <td>9.902492</td>\n",
       "    </tr>\n",
       "    <tr>\n",
       "      <th>AbsMeanY</th>\n",
       "      <td>3294.0</td>\n",
       "      <td>6.215283</td>\n",
       "      <td>2.866848</td>\n",
       "      <td>0.090770</td>\n",
       "      <td>3.450678</td>\n",
       "      <td>6.871261</td>\n",
       "      <td>9.211986</td>\n",
       "      <td>10.649582</td>\n",
       "    </tr>\n",
       "    <tr>\n",
       "      <th>AbsMeanZ</th>\n",
       "      <td>3294.0</td>\n",
       "      <td>4.336708</td>\n",
       "      <td>2.408640</td>\n",
       "      <td>0.133910</td>\n",
       "      <td>2.166190</td>\n",
       "      <td>3.612029</td>\n",
       "      <td>6.716541</td>\n",
       "      <td>9.826976</td>\n",
       "    </tr>\n",
       "    <tr>\n",
       "      <th>AbsMedianX</th>\n",
       "      <td>3294.0</td>\n",
       "      <td>3.432118</td>\n",
       "      <td>2.294822</td>\n",
       "      <td>0.032005</td>\n",
       "      <td>1.502878</td>\n",
       "      <td>2.900542</td>\n",
       "      <td>4.877479</td>\n",
       "      <td>9.819040</td>\n",
       "    </tr>\n",
       "    <tr>\n",
       "      <th>AbsMedianY</th>\n",
       "      <td>3294.0</td>\n",
       "      <td>5.721251</td>\n",
       "      <td>3.625518</td>\n",
       "      <td>0.026452</td>\n",
       "      <td>2.170027</td>\n",
       "      <td>5.652552</td>\n",
       "      <td>9.515609</td>\n",
       "      <td>11.140900</td>\n",
       "    </tr>\n",
       "    <tr>\n",
       "      <th>AbsMedianZ</th>\n",
       "      <td>3294.0</td>\n",
       "      <td>4.220782</td>\n",
       "      <td>3.148396</td>\n",
       "      <td>0.112254</td>\n",
       "      <td>1.390073</td>\n",
       "      <td>2.611888</td>\n",
       "      <td>7.602303</td>\n",
       "      <td>9.949785</td>\n",
       "    </tr>\n",
       "    <tr>\n",
       "      <th>AbsStdX</th>\n",
       "      <td>3294.0</td>\n",
       "      <td>1.798514</td>\n",
       "      <td>0.840158</td>\n",
       "      <td>0.035555</td>\n",
       "      <td>1.228564</td>\n",
       "      <td>1.691227</td>\n",
       "      <td>2.270523</td>\n",
       "      <td>7.175823</td>\n",
       "    </tr>\n",
       "    <tr>\n",
       "      <th>AbsStdY</th>\n",
       "      <td>3294.0</td>\n",
       "      <td>3.274729</td>\n",
       "      <td>1.511379</td>\n",
       "      <td>0.023811</td>\n",
       "      <td>2.475495</td>\n",
       "      <td>3.000675</td>\n",
       "      <td>3.564294</td>\n",
       "      <td>8.099389</td>\n",
       "    </tr>\n",
       "    <tr>\n",
       "      <th>AbsStdZ</th>\n",
       "      <td>3294.0</td>\n",
       "      <td>2.248142</td>\n",
       "      <td>0.745350</td>\n",
       "      <td>0.037407</td>\n",
       "      <td>1.783347</td>\n",
       "      <td>2.201515</td>\n",
       "      <td>2.703569</td>\n",
       "      <td>4.814827</td>\n",
       "    </tr>\n",
       "    <tr>\n",
       "      <th>AbsSkewX</th>\n",
       "      <td>3294.0</td>\n",
       "      <td>0.704854</td>\n",
       "      <td>1.455766</td>\n",
       "      <td>-2.893358</td>\n",
       "      <td>-0.239940</td>\n",
       "      <td>0.844996</td>\n",
       "      <td>1.531718</td>\n",
       "      <td>7.819233</td>\n",
       "    </tr>\n",
       "    <tr>\n",
       "      <th>AbsSkewY</th>\n",
       "      <td>3294.0</td>\n",
       "      <td>0.866723</td>\n",
       "      <td>1.344154</td>\n",
       "      <td>-8.219775</td>\n",
       "      <td>-0.045285</td>\n",
       "      <td>0.630073</td>\n",
       "      <td>1.913822</td>\n",
       "      <td>9.476990</td>\n",
       "    </tr>\n",
       "    <tr>\n",
       "      <th>AbsSkewZ</th>\n",
       "      <td>3294.0</td>\n",
       "      <td>0.454870</td>\n",
       "      <td>1.579912</td>\n",
       "      <td>-10.312763</td>\n",
       "      <td>-0.845679</td>\n",
       "      <td>0.768743</td>\n",
       "      <td>1.585854</td>\n",
       "      <td>7.549807</td>\n",
       "    </tr>\n",
       "    <tr>\n",
       "      <th>AbsKurtosisX</th>\n",
       "      <td>3294.0</td>\n",
       "      <td>4.391356</td>\n",
       "      <td>7.400761</td>\n",
       "      <td>-1.649285</td>\n",
       "      <td>0.406318</td>\n",
       "      <td>2.262871</td>\n",
       "      <td>5.154026</td>\n",
       "      <td>82.817913</td>\n",
       "    </tr>\n",
       "    <tr>\n",
       "      <th>AbsKurtosisY</th>\n",
       "      <td>3294.0</td>\n",
       "      <td>3.027384</td>\n",
       "      <td>13.937965</td>\n",
       "      <td>-1.728667</td>\n",
       "      <td>-0.451892</td>\n",
       "      <td>0.811298</td>\n",
       "      <td>3.401445</td>\n",
       "      <td>571.978426</td>\n",
       "    </tr>\n",
       "    <tr>\n",
       "      <th>AbsKurtosisZ</th>\n",
       "      <td>3294.0</td>\n",
       "      <td>3.942567</td>\n",
       "      <td>6.791244</td>\n",
       "      <td>-1.800485</td>\n",
       "      <td>0.459114</td>\n",
       "      <td>2.604437</td>\n",
       "      <td>5.253940</td>\n",
       "      <td>136.728343</td>\n",
       "    </tr>\n",
       "    <tr>\n",
       "      <th>AbsMinX</th>\n",
       "      <td>3294.0</td>\n",
       "      <td>0.123010</td>\n",
       "      <td>0.530680</td>\n",
       "      <td>0.000000</td>\n",
       "      <td>0.000787</td>\n",
       "      <td>0.003705</td>\n",
       "      <td>0.017199</td>\n",
       "      <td>8.382855</td>\n",
       "    </tr>\n",
       "    <tr>\n",
       "      <th>AbsMinY</th>\n",
       "      <td>3294.0</td>\n",
       "      <td>0.726925</td>\n",
       "      <td>1.585438</td>\n",
       "      <td>0.000000</td>\n",
       "      <td>0.003150</td>\n",
       "      <td>0.022343</td>\n",
       "      <td>0.444336</td>\n",
       "      <td>9.684462</td>\n",
       "    </tr>\n",
       "    <tr>\n",
       "      <th>AbsMinZ</th>\n",
       "      <td>3294.0</td>\n",
       "      <td>0.075939</td>\n",
       "      <td>0.524714</td>\n",
       "      <td>0.000000</td>\n",
       "      <td>0.000752</td>\n",
       "      <td>0.003169</td>\n",
       "      <td>0.015772</td>\n",
       "      <td>8.858952</td>\n",
       "    </tr>\n",
       "    <tr>\n",
       "      <th>AbsMaxX</th>\n",
       "      <td>3294.0</td>\n",
       "      <td>11.377456</td>\n",
       "      <td>4.883213</td>\n",
       "      <td>0.726174</td>\n",
       "      <td>7.375849</td>\n",
       "      <td>10.910742</td>\n",
       "      <td>15.715710</td>\n",
       "      <td>19.536130</td>\n",
       "    </tr>\n",
       "    <tr>\n",
       "      <th>AbsMaxY</th>\n",
       "      <td>3294.0</td>\n",
       "      <td>16.027206</td>\n",
       "      <td>3.647881</td>\n",
       "      <td>0.396119</td>\n",
       "      <td>12.516864</td>\n",
       "      <td>17.871437</td>\n",
       "      <td>19.030367</td>\n",
       "      <td>19.609409</td>\n",
       "    </tr>\n",
       "    <tr>\n",
       "      <th>AbsMaxZ</th>\n",
       "      <td>3294.0</td>\n",
       "      <td>13.013677</td>\n",
       "      <td>4.078270</td>\n",
       "      <td>0.745253</td>\n",
       "      <td>10.229094</td>\n",
       "      <td>12.782477</td>\n",
       "      <td>16.525780</td>\n",
       "      <td>19.534387</td>\n",
       "    </tr>\n",
       "    <tr>\n",
       "      <th>AbsSlope</th>\n",
       "      <td>3294.0</td>\n",
       "      <td>23.393714</td>\n",
       "      <td>6.308280</td>\n",
       "      <td>1.055147</td>\n",
       "      <td>18.890196</td>\n",
       "      <td>23.912032</td>\n",
       "      <td>28.774725</td>\n",
       "      <td>33.305440</td>\n",
       "    </tr>\n",
       "    <tr>\n",
       "      <th>MeanMag</th>\n",
       "      <td>3294.0</td>\n",
       "      <td>110.298882</td>\n",
       "      <td>22.057927</td>\n",
       "      <td>89.405789</td>\n",
       "      <td>98.123075</td>\n",
       "      <td>102.625690</td>\n",
       "      <td>112.054432</td>\n",
       "      <td>252.509983</td>\n",
       "    </tr>\n",
       "    <tr>\n",
       "      <th>StdMag</th>\n",
       "      <td>3294.0</td>\n",
       "      <td>57.112046</td>\n",
       "      <td>46.062567</td>\n",
       "      <td>0.470509</td>\n",
       "      <td>23.369850</td>\n",
       "      <td>48.445570</td>\n",
       "      <td>69.626255</td>\n",
       "      <td>315.906631</td>\n",
       "    </tr>\n",
       "    <tr>\n",
       "      <th>MinMag</th>\n",
       "      <td>3294.0</td>\n",
       "      <td>23.830139</td>\n",
       "      <td>24.607268</td>\n",
       "      <td>0.000960</td>\n",
       "      <td>3.079908</td>\n",
       "      <td>13.375739</td>\n",
       "      <td>43.166952</td>\n",
       "      <td>94.905144</td>\n",
       "    </tr>\n",
       "    <tr>\n",
       "      <th>MaxMag</th>\n",
       "      <td>3294.0</td>\n",
       "      <td>450.843369</td>\n",
       "      <td>219.272937</td>\n",
       "      <td>96.484451</td>\n",
       "      <td>254.873650</td>\n",
       "      <td>438.407084</td>\n",
       "      <td>624.876507</td>\n",
       "      <td>1081.459432</td>\n",
       "    </tr>\n",
       "    <tr>\n",
       "      <th>DiffMinMaxMag</th>\n",
       "      <td>3294.0</td>\n",
       "      <td>427.013230</td>\n",
       "      <td>238.713721</td>\n",
       "      <td>7.006585</td>\n",
       "      <td>212.355455</td>\n",
       "      <td>425.915220</td>\n",
       "      <td>617.355400</td>\n",
       "      <td>1080.792427</td>\n",
       "    </tr>\n",
       "    <tr>\n",
       "      <th>ZCR_Mag</th>\n",
       "      <td>3294.0</td>\n",
       "      <td>0.000000</td>\n",
       "      <td>0.000000</td>\n",
       "      <td>0.000000</td>\n",
       "      <td>0.000000</td>\n",
       "      <td>0.000000</td>\n",
       "      <td>0.000000</td>\n",
       "      <td>0.000000</td>\n",
       "    </tr>\n",
       "    <tr>\n",
       "      <th>AverageResultantAcceleration</th>\n",
       "      <td>3294.0</td>\n",
       "      <td>110.298882</td>\n",
       "      <td>22.057927</td>\n",
       "      <td>89.405789</td>\n",
       "      <td>98.123075</td>\n",
       "      <td>102.625690</td>\n",
       "      <td>112.054432</td>\n",
       "      <td>252.509983</td>\n",
       "    </tr>\n",
       "  </tbody>\n",
       "</table>\n",
       "</div>"
      ],
      "text/plain": [
       "                               count        mean         std        min  \\\n",
       "AvgX                          3294.0    0.410833    3.628758  -9.886928   \n",
       "AvgY                          3294.0    4.251255    4.901131  -9.794727   \n",
       "AvgZ                          3294.0    1.745927    4.209410  -9.826976   \n",
       "MedianX                       3294.0    0.406599    3.984900  -9.770841   \n",
       "MedianY                       3294.0    3.965840    5.433286 -10.408320   \n",
       "MedianZ                       3294.0    1.766999    4.856065  -9.949785   \n",
       "StdX                          3294.0    2.372219    1.132904   0.035555   \n",
       "StdY                          3294.0    3.822120    1.778256   0.023811   \n",
       "StdZ                          3294.0    2.901933    1.017588   0.041281   \n",
       "SkewX                         3294.0   -0.029612    1.237420  -4.765660   \n",
       "SkewY                         3294.0    0.309895    1.141043  -8.219775   \n",
       "SkewZ                         3294.0   -0.132070    1.418688 -10.312763   \n",
       "KurtosisX                     3294.0    3.077036    4.970094  -1.682112   \n",
       "KurtosisY                     3294.0    2.934441   13.852026  -1.749400   \n",
       "KurtosisZ                     3294.0    3.035378    6.678144  -1.883012   \n",
       "MinX                          3294.0   -7.817987    5.775513 -19.526592   \n",
       "MinY                          3294.0   -5.615954    7.201539 -19.609409   \n",
       "MinZ                          3294.0   -7.455812    5.735508 -19.525028   \n",
       "MaxX                          3294.0    8.541416    5.316362  -8.382855   \n",
       "MaxY                          3294.0   14.377342    5.144126  -8.661325   \n",
       "MaxZ                          3294.0   11.071510    5.266588  -8.858952   \n",
       "Slope                         3294.0   32.265835   11.857375   1.055147   \n",
       "MeanTA                        3294.0    0.523330    0.619442  -1.492608   \n",
       "StdTA                         3294.0    0.413704    0.190540   0.002462   \n",
       "SkewTA                        3294.0    0.092912    1.473780  -5.819842   \n",
       "KurtosisTA                    3294.0    2.170665    3.823171  -1.803649   \n",
       "AbsX                          3294.0    1.750840    0.971598   0.025852   \n",
       "AbsY                          3294.0    2.937279    1.791937   0.017796   \n",
       "AbsZ                          3294.0    2.169765    0.915569   0.026534   \n",
       "AbsMeanX                      3294.0    3.537961    1.945579   0.138473   \n",
       "AbsMeanY                      3294.0    6.215283    2.866848   0.090770   \n",
       "AbsMeanZ                      3294.0    4.336708    2.408640   0.133910   \n",
       "AbsMedianX                    3294.0    3.432118    2.294822   0.032005   \n",
       "AbsMedianY                    3294.0    5.721251    3.625518   0.026452   \n",
       "AbsMedianZ                    3294.0    4.220782    3.148396   0.112254   \n",
       "AbsStdX                       3294.0    1.798514    0.840158   0.035555   \n",
       "AbsStdY                       3294.0    3.274729    1.511379   0.023811   \n",
       "AbsStdZ                       3294.0    2.248142    0.745350   0.037407   \n",
       "AbsSkewX                      3294.0    0.704854    1.455766  -2.893358   \n",
       "AbsSkewY                      3294.0    0.866723    1.344154  -8.219775   \n",
       "AbsSkewZ                      3294.0    0.454870    1.579912 -10.312763   \n",
       "AbsKurtosisX                  3294.0    4.391356    7.400761  -1.649285   \n",
       "AbsKurtosisY                  3294.0    3.027384   13.937965  -1.728667   \n",
       "AbsKurtosisZ                  3294.0    3.942567    6.791244  -1.800485   \n",
       "AbsMinX                       3294.0    0.123010    0.530680   0.000000   \n",
       "AbsMinY                       3294.0    0.726925    1.585438   0.000000   \n",
       "AbsMinZ                       3294.0    0.075939    0.524714   0.000000   \n",
       "AbsMaxX                       3294.0   11.377456    4.883213   0.726174   \n",
       "AbsMaxY                       3294.0   16.027206    3.647881   0.396119   \n",
       "AbsMaxZ                       3294.0   13.013677    4.078270   0.745253   \n",
       "AbsSlope                      3294.0   23.393714    6.308280   1.055147   \n",
       "MeanMag                       3294.0  110.298882   22.057927  89.405789   \n",
       "StdMag                        3294.0   57.112046   46.062567   0.470509   \n",
       "MinMag                        3294.0   23.830139   24.607268   0.000960   \n",
       "MaxMag                        3294.0  450.843369  219.272937  96.484451   \n",
       "DiffMinMaxMag                 3294.0  427.013230  238.713721   7.006585   \n",
       "ZCR_Mag                       3294.0    0.000000    0.000000   0.000000   \n",
       "AverageResultantAcceleration  3294.0  110.298882   22.057927  89.405789   \n",
       "\n",
       "                                     25%         50%         75%          max  \n",
       "AvgX                           -1.945098    0.449712    2.950076     9.705663  \n",
       "AvgY                            1.638448    4.703366    8.814596    10.297934  \n",
       "AvgZ                           -0.297116    1.475094    5.766374     9.405894  \n",
       "MedianX                        -1.960339    0.311817    3.012170     9.819040  \n",
       "MedianY                         0.498359    3.532161    9.441478    11.140900  \n",
       "MedianZ                        -0.492540    0.822284    6.815637     9.553715  \n",
       "StdX                            1.599901    2.211373    2.938132     7.859170  \n",
       "StdY                            2.695819    3.277098    4.827666     9.902119  \n",
       "StdZ                            2.207353    2.770354    3.573924     7.543139  \n",
       "SkewX                          -0.797864    0.010570    0.791700     6.732506  \n",
       "SkewY                          -0.382115    0.303227    1.077374     9.476990  \n",
       "SkewZ                          -1.284437    0.023046    0.876415     6.777550  \n",
       "KurtosisX                       0.237378    1.628231    4.240804    63.888935  \n",
       "KurtosisY                      -0.387469    0.788713    3.082363   571.978426  \n",
       "KurtosisZ                       0.112726    1.767558    4.029641   191.528903  \n",
       "MinX                          -11.952953   -6.648378   -3.247692     5.291361  \n",
       "MinY                           -9.827052   -4.698271    0.157668     9.684462  \n",
       "MinZ                          -12.082921   -6.273072   -2.478315     8.851597  \n",
       "MaxX                            4.545217    7.775283   12.171159    19.536130  \n",
       "MaxY                           10.499097   16.025548   18.816571    19.597470  \n",
       "MaxZ                            7.844220   11.360655   15.224169    19.534387  \n",
       "Slope                          23.474366   31.158804   41.273960    64.600530  \n",
       "MeanTA                          0.208015    0.506995    1.064246     1.531920  \n",
       "StdTA                           0.265688    0.390933    0.563254     0.977022  \n",
       "SkewTA                         -1.112553   -0.174141    1.483893     6.060912  \n",
       "KurtosisTA                     -0.193558    1.230309    3.464722    80.451814  \n",
       "AbsX                            1.117040    1.537428    2.166112     6.854348  \n",
       "AbsY                            1.768520    2.270448    3.973988     8.530674  \n",
       "AbsZ                            1.537319    2.007055    2.769121     6.090362  \n",
       "AbsMeanX                        1.930988    3.150653    4.740945     9.902492  \n",
       "AbsMeanY                        3.450678    6.871261    9.211986    10.649582  \n",
       "AbsMeanZ                        2.166190    3.612029    6.716541     9.826976  \n",
       "AbsMedianX                      1.502878    2.900542    4.877479     9.819040  \n",
       "AbsMedianY                      2.170027    5.652552    9.515609    11.140900  \n",
       "AbsMedianZ                      1.390073    2.611888    7.602303     9.949785  \n",
       "AbsStdX                         1.228564    1.691227    2.270523     7.175823  \n",
       "AbsStdY                         2.475495    3.000675    3.564294     8.099389  \n",
       "AbsStdZ                         1.783347    2.201515    2.703569     4.814827  \n",
       "AbsSkewX                       -0.239940    0.844996    1.531718     7.819233  \n",
       "AbsSkewY                       -0.045285    0.630073    1.913822     9.476990  \n",
       "AbsSkewZ                       -0.845679    0.768743    1.585854     7.549807  \n",
       "AbsKurtosisX                    0.406318    2.262871    5.154026    82.817913  \n",
       "AbsKurtosisY                   -0.451892    0.811298    3.401445   571.978426  \n",
       "AbsKurtosisZ                    0.459114    2.604437    5.253940   136.728343  \n",
       "AbsMinX                         0.000787    0.003705    0.017199     8.382855  \n",
       "AbsMinY                         0.003150    0.022343    0.444336     9.684462  \n",
       "AbsMinZ                         0.000752    0.003169    0.015772     8.858952  \n",
       "AbsMaxX                         7.375849   10.910742   15.715710    19.536130  \n",
       "AbsMaxY                        12.516864   17.871437   19.030367    19.609409  \n",
       "AbsMaxZ                        10.229094   12.782477   16.525780    19.534387  \n",
       "AbsSlope                       18.890196   23.912032   28.774725    33.305440  \n",
       "MeanMag                        98.123075  102.625690  112.054432   252.509983  \n",
       "StdMag                         23.369850   48.445570   69.626255   315.906631  \n",
       "MinMag                          3.079908   13.375739   43.166952    94.905144  \n",
       "MaxMag                        254.873650  438.407084  624.876507  1081.459432  \n",
       "DiffMinMaxMag                 212.355455  425.915220  617.355400  1080.792427  \n",
       "ZCR_Mag                         0.000000    0.000000    0.000000     0.000000  \n",
       "AverageResultantAcceleration   98.123075  102.625690  112.054432   252.509983  "
      ]
     },
     "execution_count": 4,
     "metadata": {},
     "output_type": "execute_result"
    }
   ],
   "source": [
    "df.info() \n",
    "df.describe().T"
   ]
  },
  {
   "cell_type": "code",
   "execution_count": 5,
   "id": "5401135b",
   "metadata": {
    "ExecuteTime": {
     "end_time": "2025-02-18T15:04:46.159381Z",
     "start_time": "2025-02-18T15:04:46.153869Z"
    }
   },
   "outputs": [
    {
     "name": "stdout",
     "output_type": "stream",
     "text": [
      "AvgX                            0\n",
      "AvgY                            0\n",
      "AvgZ                            0\n",
      "MedianX                         0\n",
      "MedianY                         0\n",
      "MedianZ                         0\n",
      "StdX                            0\n",
      "StdY                            0\n",
      "StdZ                            0\n",
      "SkewX                           0\n",
      "SkewY                           0\n",
      "SkewZ                           0\n",
      "KurtosisX                       0\n",
      "KurtosisY                       0\n",
      "KurtosisZ                       0\n",
      "MinX                            0\n",
      "MinY                            0\n",
      "MinZ                            0\n",
      "MaxX                            0\n",
      "MaxY                            0\n",
      "MaxZ                            0\n",
      "Slope                           0\n",
      "MeanTA                          0\n",
      "StdTA                           0\n",
      "SkewTA                          0\n",
      "KurtosisTA                      0\n",
      "AbsX                            0\n",
      "AbsY                            0\n",
      "AbsZ                            0\n",
      "AbsMeanX                        0\n",
      "AbsMeanY                        0\n",
      "AbsMeanZ                        0\n",
      "AbsMedianX                      0\n",
      "AbsMedianY                      0\n",
      "AbsMedianZ                      0\n",
      "AbsStdX                         0\n",
      "AbsStdY                         0\n",
      "AbsStdZ                         0\n",
      "AbsSkewX                        0\n",
      "AbsSkewY                        0\n",
      "AbsSkewZ                        0\n",
      "AbsKurtosisX                    0\n",
      "AbsKurtosisY                    0\n",
      "AbsKurtosisZ                    0\n",
      "AbsMinX                         0\n",
      "AbsMinY                         0\n",
      "AbsMinZ                         0\n",
      "AbsMaxX                         0\n",
      "AbsMaxY                         0\n",
      "AbsMaxZ                         0\n",
      "AbsSlope                        0\n",
      "MeanMag                         0\n",
      "StdMag                          0\n",
      "MinMag                          0\n",
      "MaxMag                          0\n",
      "DiffMinMaxMag                   0\n",
      "ZCR_Mag                         0\n",
      "AverageResultantAcceleration    0\n",
      "label                           0\n",
      "dtype: int64\n",
      "False\n"
     ]
    }
   ],
   "source": [
    "print (df.isnull().sum()) \n",
    "print (any(df.isnull().sum()))"
   ]
  },
  {
   "cell_type": "code",
   "execution_count": 6,
   "id": "4a871909",
   "metadata": {
    "ExecuteTime": {
     "end_time": "2025-02-18T15:04:46.172659Z",
     "start_time": "2025-02-18T15:04:46.161779Z"
    }
   },
   "outputs": [],
   "source": [
    "from sklearn.preprocessing import StandardScaler\n",
    "\n",
    "labels = df['label']\n",
    "features = df.drop('label', axis=1)\n",
    "\n",
    "scaler = StandardScaler()\n",
    "features_scaled = scaler.fit_transform(features)\n",
    "\n",
    "df = pd.DataFrame(features_scaled, columns=features.columns)\n",
    "df['label'] = labels"
   ]
  },
  {
   "cell_type": "code",
   "execution_count": 7,
   "id": "09eb725e",
   "metadata": {
    "ExecuteTime": {
     "end_time": "2025-02-18T15:04:46.181598Z",
     "start_time": "2025-02-18T15:04:46.174869Z"
    }
   },
   "outputs": [
    {
     "name": "stdout",
     "output_type": "stream",
     "text": [
      "['BSC' 'CHU' 'CSI' 'CSO' 'FKL' 'FOL' 'JOG' 'JUM' 'SBE' 'SBW' 'SCH' 'SDL'\n",
      " 'SIT' 'SLH' 'SLW' 'SRH' 'STD' 'STN' 'STU' 'WAL']\n",
      "label\n",
      "SCH    365\n",
      "STN    365\n",
      "STU    364\n",
      "CSO    360\n",
      "CSI    358\n",
      "SDL    192\n",
      "FKL    192\n",
      "FOL    192\n",
      "BSC    191\n",
      "JUM    183\n",
      "JOG    183\n",
      "CHU    114\n",
      "WAL     61\n",
      "STD     60\n",
      "SBW     19\n",
      "SBE     19\n",
      "SIT     19\n",
      "SLH     19\n",
      "SLW     19\n",
      "SRH     19\n",
      "Name: count, dtype: int64\n"
     ]
    }
   ],
   "source": [
    "print (f\"{np.unique(df['label'])}\")\n",
    "print (df['label'].value_counts())\n",
    "\n",
    "normal_labels = list(np.unique(df['label']))\n",
    "normal_labels.remove('FKL')\n",
    "normal_labels.remove('FOL')"
   ]
  },
  {
   "cell_type": "code",
   "execution_count": 8,
   "id": "e5735cae",
   "metadata": {
    "ExecuteTime": {
     "end_time": "2025-02-18T15:04:46.209291Z",
     "start_time": "2025-02-18T15:04:46.183097Z"
    }
   },
   "outputs": [
    {
     "name": "stdout",
     "output_type": "stream",
     "text": [
      "train_data shape: (2029, 58)\n",
      "train_labels shape: (2029,)\n",
      "test_adl_data shape: (881, 58)\n",
      "test_adl_labels shape: (881,)\n",
      "test_fall_data shape: (384, 58)\n",
      "test_fall_labels shape: (384,)\n",
      "{0.0}\n",
      "{0.0}\n",
      "{1.0}\n"
     ]
    }
   ],
   "source": [
    "train_data = []\n",
    "train_labels = []\n",
    "test_normal_data = []\n",
    "test_normal_labels = []\n",
    "\n",
    "for activity in normal_labels:\n",
    "    activity_data = df[df['label'] == activity]\n",
    "    split_idx = int(len(activity_data) * 0.7)\n",
    "    \n",
    "    activity_features = activity_data.drop('label', axis=1)  \n",
    "    \n",
    "    train_data.append(activity_features.iloc[:split_idx])\n",
    "    train_labels.append(np.zeros(len(activity_features.iloc[:split_idx]))) \n",
    "    \n",
    "    test_normal_data.append(activity_features.iloc[split_idx:])\n",
    "    test_normal_labels.append(np.zeros(len(activity_features.iloc[split_idx:]))) \n",
    "\n",
    "fall_data = df[df['label'].isin(['FKL', 'FOL'])]\n",
    "test_fall_data = fall_data.drop('label', axis=1)\n",
    "test_fall_labels = np.ones(len(fall_data)) \n",
    "\n",
    "train_data = pd.concat(train_data)\n",
    "train_labels = np.concatenate(train_labels)\n",
    "test_adl_data = pd.concat(test_normal_data)\n",
    "test_adl_labels = np.concatenate(test_normal_labels)\n",
    "\n",
    "print(\"train_data shape:\", train_data.shape)\n",
    "print(\"train_labels shape:\", train_labels.shape)\n",
    "print(\"test_adl_data shape:\", test_adl_data.shape)\n",
    "print(\"test_adl_labels shape:\", test_adl_labels.shape)\n",
    "print(\"test_fall_data shape:\", test_fall_data.shape)\n",
    "print(\"test_fall_labels shape:\", test_fall_labels.shape)\n",
    "\n",
    "print (set(train_labels))\n",
    "print (set(test_adl_labels))\n",
    "print (set(test_fall_labels))"
   ]
  },
  {
   "cell_type": "code",
   "execution_count": 9,
   "id": "d05ebd57",
   "metadata": {
    "ExecuteTime": {
     "end_time": "2025-02-18T15:04:46.217599Z",
     "start_time": "2025-02-18T15:04:46.214102Z"
    }
   },
   "outputs": [],
   "source": [
    "def split_sequences(data, labels, n_steps, stride):\n",
    "    X, y = list(), list()\n",
    "    \n",
    "    sequences = np.column_stack((data, labels))\n",
    "    \n",
    "    for i in range(0, len(sequences) - n_steps + 1, stride):\n",
    "        end_ix = i + n_steps\n",
    "        \n",
    "        seq_x, seq_y = sequences[i:end_ix, :-1], sequences[end_ix-1, -1]\n",
    "        X.append(seq_x)\n",
    "        y.append(seq_y)\n",
    "    \n",
    "    return np.array(X), np.array(y)"
   ]
  },
  {
   "cell_type": "code",
   "execution_count": 10,
   "id": "df9f5eaf",
   "metadata": {
    "ExecuteTime": {
     "end_time": "2025-02-18T15:04:46.232182Z",
     "start_time": "2025-02-18T15:04:46.219692Z"
    }
   },
   "outputs": [
    {
     "name": "stdout",
     "output_type": "stream",
     "text": [
      "(396, 50, 58) (396,)\n",
      "(167, 50, 58) (167,)\n",
      "(67, 50, 58) (67,)\n"
     ]
    }
   ],
   "source": [
    "train_data, train_labels = split_sequences(train_data, train_labels, n_steps=50, stride=5)\n",
    "test_adl_data, test_adl_labels = split_sequences(test_adl_data, test_adl_labels, n_steps=50, stride=5)\n",
    "test_fall_data, test_fall_labels = split_sequences(test_fall_data, test_fall_labels, n_steps=50, stride=5)\n",
    "\n",
    "print (train_data.shape, train_labels.shape)\n",
    "print (test_adl_data.shape, test_adl_labels.shape)\n",
    "print (test_fall_data.shape, test_fall_labels.shape)"
   ]
  },
  {
   "cell_type": "markdown",
   "id": "2b7fb1ac",
   "metadata": {},
   "source": [
    "----"
   ]
  },
  {
   "cell_type": "code",
   "execution_count": 11,
   "id": "75320296",
   "metadata": {
    "ExecuteTime": {
     "end_time": "2025-02-18T15:04:46.237741Z",
     "start_time": "2025-02-18T15:04:46.234289Z"
    }
   },
   "outputs": [],
   "source": [
    "EPOCHS = 300\n",
    "LEARNING_RATE = 2e-4\n",
    "DECAY_STEPS = 1000  \n",
    "DECAY_RATE = 0.98  \n",
    "device = torch.device('cuda' if torch.cuda.is_available() else 'cpu')\n",
    "BATCH_SIZE = 64"
   ]
  },
  {
   "cell_type": "code",
   "execution_count": 12,
   "id": "623e5f6a",
   "metadata": {
    "ExecuteTime": {
     "end_time": "2025-02-18T15:04:46.242988Z",
     "start_time": "2025-02-18T15:04:46.239623Z"
    }
   },
   "outputs": [],
   "source": [
    "class MobiActDataset(Dataset):\n",
    "    def __init__(self, data):\n",
    "        # Transpose data from [batch, window_length, features] to [batch, features, window_length]\n",
    "        data = data.transpose(0, 2, 1)\n",
    "        self.data = torch.FloatTensor(data)\n",
    "    \n",
    "    def __len__(self):\n",
    "        return len(self.data)\n",
    "    \n",
    "    def __getitem__(self, idx):\n",
    "        return self.data[idx]  # Returns shape [features, window_length]"
   ]
  },
  {
   "cell_type": "code",
   "execution_count": 13,
   "id": "fa953720",
   "metadata": {
    "ExecuteTime": {
     "end_time": "2025-02-18T15:04:46.249898Z",
     "start_time": "2025-02-18T15:04:46.244920Z"
    }
   },
   "outputs": [],
   "source": [
    "class DoubleConv(nn.Module):\n",
    "    def __init__(self, in_channels, out_channels):\n",
    "        super(DoubleConv, self).__init__()\n",
    "        self.conv = nn.Sequential(\n",
    "            nn.Conv1d(in_channels, out_channels, kernel_size=3, padding='same'),\n",
    "            nn.ReLU(),\n",
    "            nn.Conv1d(out_channels, out_channels, kernel_size=3, padding='same'),\n",
    "            nn.ReLU()\n",
    "        )\n",
    "        \n",
    "        # Multiple Linear layers with increasing complexity\n",
    "        self.mlp = nn.Sequential(\n",
    "            nn.Linear(out_channels, out_channels * 2),\n",
    "            nn.ReLU(),\n",
    "            nn.Linear(out_channels * 2, out_channels * 4),\n",
    "            nn.ReLU(),\n",
    "            nn.Linear(out_channels * 4, out_channels * 2),\n",
    "            nn.ReLU(),\n",
    "            nn.Linear(out_channels * 2, out_channels)\n",
    "        )\n",
    "        \n",
    "        # Layer Normalization for better training stability\n",
    "        self.layer_norm = nn.LayerNorm(out_channels)\n",
    "        \n",
    "    def forward(self, x):\n",
    "        # Convolutional path\n",
    "        x = self.conv(x)\n",
    "        \n",
    "        # Reshape for Linear layers\n",
    "        batch_size, channels, seq_len = x.shape\n",
    "        x = x.transpose(1, 2)  # (batch, seq_len, channels)\n",
    "        \n",
    "        # Apply MLP to each timestep\n",
    "        x = self.mlp(x)\n",
    "        \n",
    "        # Layer normalization\n",
    "        x = self.layer_norm(x)\n",
    "        \n",
    "        # Reshape back to Conv format\n",
    "        x = x.transpose(1, 2)  # (batch, channels, seq_len)\n",
    "        \n",
    "        return x"
   ]
  },
  {
   "cell_type": "code",
   "execution_count": 14,
   "id": "d90fd9bf",
   "metadata": {
    "ExecuteTime": {
     "end_time": "2025-02-18T15:04:46.255544Z",
     "start_time": "2025-02-18T15:04:46.251784Z"
    }
   },
   "outputs": [],
   "source": [
    "class SinusoidalPositionEmbeddings(nn.Module):\n",
    "    def __init__(self, dim):\n",
    "        super().__init__()\n",
    "        self.dim = dim\n",
    "\n",
    "    def forward(self, time):\n",
    "        device = time.device\n",
    "        half_dim = self.dim // 2\n",
    "        embeddings = math.log(10000) / (half_dim - 1)\n",
    "        embeddings = torch.exp(torch.arange(half_dim, device=device) * -embeddings)\n",
    "        embeddings = time[:, None] * embeddings[None, :]\n",
    "        embeddings = torch.cat((embeddings.sin(), embeddings.cos()), dim=-1)\n",
    "        return embeddings"
   ]
  },
  {
   "cell_type": "code",
   "execution_count": 15,
   "id": "fea2bbe3",
   "metadata": {
    "ExecuteTime": {
     "end_time": "2025-02-18T15:04:46.262374Z",
     "start_time": "2025-02-18T15:04:46.257636Z"
    }
   },
   "outputs": [],
   "source": [
    "class AttentionBlock(nn.Module):\n",
    "    def __init__(self, channels):\n",
    "        super().__init__()\n",
    "        self.channels = channels\n",
    "        self.mha = nn.MultiheadAttention(channels, 8, batch_first=True)\n",
    "        self.ln = nn.LayerNorm([channels])\n",
    "        self.ff_self = nn.Sequential(\n",
    "            nn.LayerNorm([channels]),\n",
    "            nn.Linear(channels, channels * 4),\n",
    "            nn.GELU(),\n",
    "            nn.Dropout(0.3),\n",
    "            nn.Linear(channels * 4, channels),\n",
    "        )\n",
    "\n",
    "    def forward(self, x):\n",
    "        shape = x.shape\n",
    "        x = x.transpose(1, 2)\n",
    "        x = x + self.mha(x, x, x)[0]\n",
    "        x = x + self.ff_self(x)\n",
    "        x = x.transpose(1, 2)\n",
    "        return x"
   ]
  },
  {
   "cell_type": "code",
   "execution_count": 16,
   "id": "8d9cf6db",
   "metadata": {
    "ExecuteTime": {
     "end_time": "2025-02-18T15:04:46.270055Z",
     "start_time": "2025-02-18T15:04:46.264737Z"
    }
   },
   "outputs": [],
   "source": [
    "class EnhancedResidualBlock(nn.Module):\n",
    "    def __init__(self, in_channels, out_channels):\n",
    "        super().__init__()\n",
    "        self.conv1 = nn.Conv1d(in_channels, out_channels, 3, padding=1)\n",
    "        self.conv2 = nn.Conv1d(out_channels, out_channels, 3, padding=1)\n",
    "        self.bn1 = nn.BatchNorm1d(out_channels)\n",
    "        self.bn2 = nn.BatchNorm1d(out_channels)\n",
    "        self.relu = nn.GELU() \n",
    "        self.dropout = nn.Dropout(0.3)\n",
    "        self.se = SqueezeExcitation(out_channels) \n",
    "        \n",
    "        if in_channels != out_channels:\n",
    "            self.shortcut = nn.Sequential(\n",
    "                nn.Conv1d(in_channels, out_channels, 1),\n",
    "                nn.BatchNorm1d(out_channels)\n",
    "            )\n",
    "        else:\n",
    "            self.shortcut = nn.Identity()\n",
    "\n",
    "    def forward(self, x):\n",
    "        residual = self.shortcut(x)\n",
    "        x = self.relu(self.bn1(self.conv1(x)))\n",
    "        x = self.dropout(x)\n",
    "        x = self.bn2(self.conv2(x))\n",
    "        x = self.se(x)\n",
    "        x = x + residual\n",
    "        x = self.relu(x)\n",
    "        return x"
   ]
  },
  {
   "cell_type": "code",
   "execution_count": 17,
   "id": "b8688f5e",
   "metadata": {
    "ExecuteTime": {
     "end_time": "2025-02-18T15:04:46.275502Z",
     "start_time": "2025-02-18T15:04:46.271978Z"
    }
   },
   "outputs": [],
   "source": [
    "class SqueezeExcitation(nn.Module):\n",
    "    def __init__(self, channels, reduction=16):\n",
    "        super().__init__()\n",
    "        self.seq = nn.Sequential(\n",
    "            nn.AdaptiveAvgPool1d(1),\n",
    "            nn.Conv1d(channels, channels // reduction, 1),\n",
    "            nn.ReLU(),\n",
    "            nn.Conv1d(channels // reduction, channels, 1),\n",
    "            nn.Sigmoid()\n",
    "        )\n",
    "\n",
    "    def forward(self, x):\n",
    "        return x * self.seq(x)\n"
   ]
  },
  {
   "cell_type": "code",
   "execution_count": 18,
   "id": "2b923f37",
   "metadata": {
    "ExecuteTime": {
     "end_time": "2025-02-18T15:04:46.291996Z",
     "start_time": "2025-02-18T15:04:46.277211Z"
    }
   },
   "outputs": [],
   "source": [
    "class EnhancedUNet1D(nn.Module):\n",
    "    def __init__(self, in_channels=58):\n",
    "        super().__init__()\n",
    "        \n",
    "        self.time_embed = nn.Sequential(\n",
    "            SinusoidalPositionEmbeddings(64),\n",
    "            nn.Linear(64, 128),\n",
    "            nn.GELU(),\n",
    "            nn.Dropout(0.1),\n",
    "            nn.Linear(128, 128)\n",
    "        )\n",
    "        \n",
    "        self.enc1 = nn.Sequential(\n",
    "            EnhancedResidualBlock(in_channels, 64),\n",
    "            AttentionBlock(64)\n",
    "        )\n",
    "        self.pool1 = nn.MaxPool1d(2)\n",
    "        \n",
    "        self.enc2 = nn.Sequential(\n",
    "            EnhancedResidualBlock(64, 128),\n",
    "            AttentionBlock(128)\n",
    "        )\n",
    "        self.pool2 = nn.MaxPool1d(2)\n",
    "        \n",
    "        self.enc3 = nn.Sequential(\n",
    "            EnhancedResidualBlock(128, 256),\n",
    "            AttentionBlock(256)\n",
    "        )\n",
    "        self.pool3 = nn.MaxPool1d(2)\n",
    "        \n",
    "        self.bottleneck = nn.Sequential(\n",
    "            EnhancedResidualBlock(256, 512),\n",
    "            AttentionBlock(512),\n",
    "            EnhancedResidualBlock(512, 512),\n",
    "            AttentionBlock(512)\n",
    "        )\n",
    "        \n",
    "        self.time_mlp = nn.Sequential(\n",
    "            nn.Linear(128, 512),\n",
    "            nn.GELU()\n",
    "        )\n",
    "        \n",
    "        self.upconv3 = nn.ConvTranspose1d(512, 256, 2, stride=2)\n",
    "        self.dec3 = nn.Sequential(\n",
    "            EnhancedResidualBlock(512, 256),\n",
    "            AttentionBlock(256)\n",
    "        )\n",
    "        \n",
    "        self.upconv2 = nn.ConvTranspose1d(256, 128, 2, stride=2)\n",
    "        self.dec2 = nn.Sequential(\n",
    "            EnhancedResidualBlock(256, 128),\n",
    "            AttentionBlock(128)\n",
    "        )\n",
    "        \n",
    "        self.upconv1 = nn.ConvTranspose1d(128, 64, 2, stride=2)\n",
    "        self.dec1 = nn.Sequential(\n",
    "            EnhancedResidualBlock(128, 64),\n",
    "            AttentionBlock(64)\n",
    "        )\n",
    "        \n",
    "        self.final_conv = nn.Conv1d(64, in_channels, 1)\n",
    "        \n",
    "        self.dropout = nn.Dropout(0.2)\n",
    "\n",
    "    def forward(self, x, t):\n",
    "        t_emb = self.time_embed(t)\n",
    "        t_emb = self.time_mlp(t_emb)\n",
    "        \n",
    "        e1 = self.dropout(self.enc1(x))\n",
    "        p1 = self.pool1(e1)\n",
    "        \n",
    "        e2 = self.dropout(self.enc2(p1))\n",
    "        p2 = self.pool2(e2)\n",
    "        \n",
    "        e3 = self.dropout(self.enc3(p2))\n",
    "        p3 = self.pool3(e3)\n",
    "        \n",
    "        b = self.bottleneck(p3)\n",
    "        b = b + t_emb.unsqueeze(-1)\n",
    "        \n",
    "        d3 = self.upconv3(b)\n",
    "        if d3.shape[-1] != e3.shape[-1]:\n",
    "            d3 = F.interpolate(d3, size=e3.shape[-1], mode='linear')\n",
    "        d3 = torch.cat([d3, e3], dim=1)\n",
    "        d3 = self.dropout(self.dec3(d3))\n",
    "        \n",
    "        d2 = self.upconv2(d3)\n",
    "        if d2.shape[-1] != e2.shape[-1]:\n",
    "            d2 = F.interpolate(d2, size=e2.shape[-1], mode='linear')\n",
    "        d2 = torch.cat([d2, e2], dim=1)\n",
    "        d2 = self.dropout(self.dec2(d2))\n",
    "        \n",
    "        d1 = self.upconv1(d2)\n",
    "        if d1.shape[-1] != e1.shape[-1]:\n",
    "            d1 = F.interpolate(d1, size=e1.shape[-1], mode='linear')\n",
    "        d1 = torch.cat([d1, e1], dim=1)\n",
    "        d1 = self.dropout(self.dec1(d1))\n",
    "        \n",
    "        return self.final_conv(d1)"
   ]
  },
  {
   "cell_type": "code",
   "execution_count": 19,
   "id": "f5d9911b",
   "metadata": {
    "ExecuteTime": {
     "end_time": "2025-02-18T15:04:46.301863Z",
     "start_time": "2025-02-18T15:04:46.294233Z"
    }
   },
   "outputs": [],
   "source": [
    "class DDPM:\n",
    "    def __init__(self, num_timesteps=1000, beta_start=1e-4, beta_end=0.02):\n",
    "        \"\"\"\n",
    "        num_timesteps: total diffusion steps T\n",
    "        beta_start, beta_end: β₁ and βₜ for linear schedule\n",
    "        \"\"\"\n",
    "        self.num_timesteps = num_timesteps\n",
    "        \n",
    "        # Linear variance schedule\n",
    "        self.betas = torch.linspace(beta_start, beta_end, num_timesteps)\n",
    "        self.alphas = 1. - self.betas\n",
    "        self.alphas_cumprod = torch.cumprod(self.alphas, dim=0)\n",
    "        \n",
    "    def q_sample(self, x_0, t):\n",
    "        \"\"\"\n",
    "        Forward diffusion process: q(x_t | x_0)\n",
    "        Samples from q(x_t | x_0) = N(x_t; √(αₜ)x₀, (1-αₜ)I)\n",
    "        \"\"\"\n",
    "        sqrt_alphas_cumprod = torch.sqrt(self.alphas_cumprod[t])[:, None, None]\n",
    "        sqrt_one_minus_alphas_cumprod = torch.sqrt(1. - self.alphas_cumprod[t])[:, None, None]\n",
    "        epsilon = torch.randn_like(x_0)\n",
    "        return sqrt_alphas_cumprod * x_0 + sqrt_one_minus_alphas_cumprod * epsilon, epsilon\n",
    "    \n",
    "    def sample_t(self, batch_size):\n",
    "        \"\"\"\n",
    "        Uniformly sample timesteps t\n",
    "        \"\"\"\n",
    "        return torch.randint(0, self.num_timesteps, (batch_size,))\n",
    "        \n",
    "    def p_sample(self, model, batch_size, device, shape):\n",
    "        \"\"\"\n",
    "        Reverse diffusion process: p_θ(x_{t-1} | x_t)\n",
    "        Generate samples using the reverse process\n",
    "        \"\"\"\n",
    "        model.eval()\n",
    "        with torch.no_grad():\n",
    "            x_t = torch.randn(batch_size, *shape).to(device)\n",
    "            \n",
    "            for t in reversed(range(1, self.num_timesteps)):\n",
    "                time_tensor = torch.ones(batch_size, dtype=torch.long).to(device) * t\n",
    "                \n",
    "                # Predict noise\n",
    "                predicted_noise = model(x_t, time_tensor)\n",
    "                \n",
    "                alpha = self.alphas[t][:, None, None]\n",
    "                alpha_cumprod = self.alphas_cumprod[t][:, None, None]\n",
    "                beta = self.betas[t][:, None, None]\n",
    "                \n",
    "                # Add noise for stochasticity\n",
    "                noise = torch.randn_like(x_t)\n",
    "                \n",
    "                # Compute mean for p_θ(x_{t-1} | x_t)\n",
    "                x_t = 1 / torch.sqrt(alpha) * (\n",
    "                    x_t - (1 - alpha) / torch.sqrt(1 - alpha_cumprod) * predicted_noise\n",
    "                ) + torch.sqrt(beta) * noise\n",
    "                \n",
    "        model.train()\n",
    "        return x_t"
   ]
  },
  {
   "cell_type": "code",
   "execution_count": 20,
   "id": "5c4d98c2",
   "metadata": {
    "ExecuteTime": {
     "end_time": "2025-02-18T15:04:46.307193Z",
     "start_time": "2025-02-18T15:04:46.304025Z"
    }
   },
   "outputs": [],
   "source": [
    "def setup_training(model, num_epochs):\n",
    "    optimizer = optim.AdamW(\n",
    "        model.parameters(),\n",
    "        lr=LEARNING_RATE,\n",
    "        weight_decay=0.01,\n",
    "        betas=(0.9, 0.999)\n",
    "    )\n",
    "    \n",
    "    scheduler = optim.lr_scheduler.OneCycleLR(\n",
    "        optimizer,\n",
    "        max_lr=LEARNING_RATE,\n",
    "        epochs=num_epochs,\n",
    "        steps_per_epoch=len(train_loader),\n",
    "        pct_start=0.3,\n",
    "        anneal_strategy='cos'\n",
    "    )\n",
    "    \n",
    "    return optimizer, scheduler"
   ]
  },
  {
   "cell_type": "code",
   "execution_count": 21,
   "id": "eb8d98da",
   "metadata": {
    "ExecuteTime": {
     "end_time": "2025-02-18T15:04:46.315571Z",
     "start_time": "2025-02-18T15:04:46.309060Z"
    }
   },
   "outputs": [],
   "source": [
    "def train_ddpm(model, train_loader, ddpm, optimizer, num_epochs, device, scheduler):\n",
    "    model.train()\n",
    "    best_loss = float('inf')\n",
    "    patience = 15\n",
    "    patience_counter = 0\n",
    "    \n",
    "    for epoch in range(num_epochs):\n",
    "        epoch_loss = 0\n",
    "        n_batches = len(train_loader)\n",
    "        \n",
    "        for batch in tqdm(train_loader, desc=f'Epoch {epoch+1}/{num_epochs}'):\n",
    "            x_0 = batch.to(device)\n",
    "            batch_size = x_0.shape[0]\n",
    "            \n",
    "            optimizer.zero_grad()\n",
    "            \n",
    "            t1 = ddpm.sample_t(batch_size).to(device)\n",
    "            t2 = ddpm.sample_t(batch_size).to(device)\n",
    "            \n",
    "            x_t1, epsilon1 = ddpm.q_sample(x_0, t1)\n",
    "            x_t2, epsilon2 = ddpm.q_sample(x_0, t2)\n",
    "            \n",
    "            epsilon_theta1 = model(x_t1, t1)\n",
    "            epsilon_theta2 = model(x_t2, t2)\n",
    "            \n",
    "            loss1 = F.mse_loss(epsilon_theta1, epsilon1)\n",
    "            loss2 = F.mse_loss(epsilon_theta2, epsilon2)\n",
    "            \n",
    "            loss = (loss1 + loss2) / 2\n",
    "            \n",
    "            loss.backward()\n",
    "            \n",
    "            torch.nn.utils.clip_grad_norm_(model.parameters(), max_norm=1.0)\n",
    "            \n",
    "            optimizer.step()\n",
    "            scheduler.step()\n",
    "            \n",
    "            epoch_loss += loss.item()\n",
    "        \n",
    "        avg_loss = epoch_loss / n_batches\n",
    "        print(f'Epoch {epoch+1}/{num_epochs} - Avg Loss: {avg_loss:.4f}')\n",
    "        \n",
    "        if avg_loss < best_loss:\n",
    "            best_loss = avg_loss\n",
    "            patience_counter = 0\n",
    "            torch.save(model.state_dict(), 'best_model.pth')\n",
    "        else:\n",
    "            patience_counter += 1\n",
    "            if patience_counter >= patience:\n",
    "                print(f'Early stopping after {epoch+1} epochs')\n",
    "                break"
   ]
  },
  {
   "cell_type": "code",
   "execution_count": 22,
   "id": "04f9ba7e",
   "metadata": {
    "ExecuteTime": {
     "end_time": "2025-02-18T15:30:14.480101Z",
     "start_time": "2025-02-18T15:04:46.317690Z"
    },
    "scrolled": true
   },
   "outputs": [
    {
     "name": "stderr",
     "output_type": "stream",
     "text": [
      "Epoch 1/300: 100%|██████████████████████████████████| 7/7 [00:05<00:00,  1.25it/s]\n"
     ]
    },
    {
     "name": "stdout",
     "output_type": "stream",
     "text": [
      "Epoch 1/300 - Avg Loss: 1.2969\n"
     ]
    },
    {
     "name": "stderr",
     "output_type": "stream",
     "text": [
      "Epoch 2/300: 100%|██████████████████████████████████| 7/7 [00:05<00:00,  1.37it/s]\n"
     ]
    },
    {
     "name": "stdout",
     "output_type": "stream",
     "text": [
      "Epoch 2/300 - Avg Loss: 1.2900\n"
     ]
    },
    {
     "name": "stderr",
     "output_type": "stream",
     "text": [
      "Epoch 3/300: 100%|██████████████████████████████████| 7/7 [00:05<00:00,  1.37it/s]\n"
     ]
    },
    {
     "name": "stdout",
     "output_type": "stream",
     "text": [
      "Epoch 3/300 - Avg Loss: 1.2869\n"
     ]
    },
    {
     "name": "stderr",
     "output_type": "stream",
     "text": [
      "Epoch 4/300: 100%|██████████████████████████████████| 7/7 [00:05<00:00,  1.32it/s]\n"
     ]
    },
    {
     "name": "stdout",
     "output_type": "stream",
     "text": [
      "Epoch 4/300 - Avg Loss: 1.2817\n"
     ]
    },
    {
     "name": "stderr",
     "output_type": "stream",
     "text": [
      "Epoch 5/300: 100%|██████████████████████████████████| 7/7 [00:05<00:00,  1.27it/s]\n"
     ]
    },
    {
     "name": "stdout",
     "output_type": "stream",
     "text": [
      "Epoch 5/300 - Avg Loss: 1.2793\n"
     ]
    },
    {
     "name": "stderr",
     "output_type": "stream",
     "text": [
      "Epoch 6/300: 100%|██████████████████████████████████| 7/7 [00:05<00:00,  1.26it/s]\n"
     ]
    },
    {
     "name": "stdout",
     "output_type": "stream",
     "text": [
      "Epoch 6/300 - Avg Loss: 1.2696\n"
     ]
    },
    {
     "name": "stderr",
     "output_type": "stream",
     "text": [
      "Epoch 7/300: 100%|██████████████████████████████████| 7/7 [00:06<00:00,  1.13it/s]\n"
     ]
    },
    {
     "name": "stdout",
     "output_type": "stream",
     "text": [
      "Epoch 7/300 - Avg Loss: 1.2643\n"
     ]
    },
    {
     "name": "stderr",
     "output_type": "stream",
     "text": [
      "Epoch 8/300: 100%|██████████████████████████████████| 7/7 [00:06<00:00,  1.08it/s]\n"
     ]
    },
    {
     "name": "stdout",
     "output_type": "stream",
     "text": [
      "Epoch 8/300 - Avg Loss: 1.2608\n"
     ]
    },
    {
     "name": "stderr",
     "output_type": "stream",
     "text": [
      "Epoch 9/300: 100%|██████████████████████████████████| 7/7 [00:06<00:00,  1.06it/s]\n"
     ]
    },
    {
     "name": "stdout",
     "output_type": "stream",
     "text": [
      "Epoch 9/300 - Avg Loss: 1.2525\n"
     ]
    },
    {
     "name": "stderr",
     "output_type": "stream",
     "text": [
      "Epoch 10/300: 100%|█████████████████████████████████| 7/7 [00:07<00:00,  1.02s/it]\n"
     ]
    },
    {
     "name": "stdout",
     "output_type": "stream",
     "text": [
      "Epoch 10/300 - Avg Loss: 1.2485\n"
     ]
    },
    {
     "name": "stderr",
     "output_type": "stream",
     "text": [
      "Epoch 11/300: 100%|█████████████████████████████████| 7/7 [00:06<00:00,  1.06it/s]\n"
     ]
    },
    {
     "name": "stdout",
     "output_type": "stream",
     "text": [
      "Epoch 11/300 - Avg Loss: 1.2432\n"
     ]
    },
    {
     "name": "stderr",
     "output_type": "stream",
     "text": [
      "Epoch 12/300: 100%|█████████████████████████████████| 7/7 [00:06<00:00,  1.01it/s]\n"
     ]
    },
    {
     "name": "stdout",
     "output_type": "stream",
     "text": [
      "Epoch 12/300 - Avg Loss: 1.2354\n"
     ]
    },
    {
     "name": "stderr",
     "output_type": "stream",
     "text": [
      "Epoch 13/300: 100%|█████████████████████████████████| 7/7 [00:06<00:00,  1.07it/s]\n"
     ]
    },
    {
     "name": "stdout",
     "output_type": "stream",
     "text": [
      "Epoch 13/300 - Avg Loss: 1.2279\n"
     ]
    },
    {
     "name": "stderr",
     "output_type": "stream",
     "text": [
      "Epoch 14/300: 100%|█████████████████████████████████| 7/7 [00:06<00:00,  1.13it/s]\n"
     ]
    },
    {
     "name": "stdout",
     "output_type": "stream",
     "text": [
      "Epoch 14/300 - Avg Loss: 1.2214\n"
     ]
    },
    {
     "name": "stderr",
     "output_type": "stream",
     "text": [
      "Epoch 15/300: 100%|█████████████████████████████████| 7/7 [00:07<00:00,  1.01s/it]\n"
     ]
    },
    {
     "name": "stdout",
     "output_type": "stream",
     "text": [
      "Epoch 15/300 - Avg Loss: 1.2125\n"
     ]
    },
    {
     "name": "stderr",
     "output_type": "stream",
     "text": [
      "Epoch 16/300: 100%|█████████████████████████████████| 7/7 [00:07<00:00,  1.06s/it]\n"
     ]
    },
    {
     "name": "stdout",
     "output_type": "stream",
     "text": [
      "Epoch 16/300 - Avg Loss: 1.2067\n"
     ]
    },
    {
     "name": "stderr",
     "output_type": "stream",
     "text": [
      "Epoch 17/300: 100%|█████████████████████████████████| 7/7 [00:08<00:00,  1.18s/it]\n"
     ]
    },
    {
     "name": "stdout",
     "output_type": "stream",
     "text": [
      "Epoch 17/300 - Avg Loss: 1.1995\n"
     ]
    },
    {
     "name": "stderr",
     "output_type": "stream",
     "text": [
      "Epoch 18/300: 100%|█████████████████████████████████| 7/7 [00:06<00:00,  1.06it/s]\n"
     ]
    },
    {
     "name": "stdout",
     "output_type": "stream",
     "text": [
      "Epoch 18/300 - Avg Loss: 1.1867\n"
     ]
    },
    {
     "name": "stderr",
     "output_type": "stream",
     "text": [
      "Epoch 19/300: 100%|█████████████████████████████████| 7/7 [00:05<00:00,  1.18it/s]\n"
     ]
    },
    {
     "name": "stdout",
     "output_type": "stream",
     "text": [
      "Epoch 19/300 - Avg Loss: 1.1796\n"
     ]
    },
    {
     "name": "stderr",
     "output_type": "stream",
     "text": [
      "Epoch 20/300: 100%|█████████████████████████████████| 7/7 [00:05<00:00,  1.24it/s]\n"
     ]
    },
    {
     "name": "stdout",
     "output_type": "stream",
     "text": [
      "Epoch 20/300 - Avg Loss: 1.1717\n"
     ]
    },
    {
     "name": "stderr",
     "output_type": "stream",
     "text": [
      "Epoch 21/300: 100%|█████████████████████████████████| 7/7 [00:05<00:00,  1.30it/s]\n"
     ]
    },
    {
     "name": "stdout",
     "output_type": "stream",
     "text": [
      "Epoch 21/300 - Avg Loss: 1.1605\n"
     ]
    },
    {
     "name": "stderr",
     "output_type": "stream",
     "text": [
      "Epoch 22/300: 100%|█████████████████████████████████| 7/7 [00:05<00:00,  1.30it/s]\n"
     ]
    },
    {
     "name": "stdout",
     "output_type": "stream",
     "text": [
      "Epoch 22/300 - Avg Loss: 1.1483\n"
     ]
    },
    {
     "name": "stderr",
     "output_type": "stream",
     "text": [
      "Epoch 23/300: 100%|█████████████████████████████████| 7/7 [00:05<00:00,  1.24it/s]\n"
     ]
    },
    {
     "name": "stdout",
     "output_type": "stream",
     "text": [
      "Epoch 23/300 - Avg Loss: 1.1393\n"
     ]
    },
    {
     "name": "stderr",
     "output_type": "stream",
     "text": [
      "Epoch 24/300: 100%|█████████████████████████████████| 7/7 [00:06<00:00,  1.06it/s]\n"
     ]
    },
    {
     "name": "stdout",
     "output_type": "stream",
     "text": [
      "Epoch 24/300 - Avg Loss: 1.1242\n"
     ]
    },
    {
     "name": "stderr",
     "output_type": "stream",
     "text": [
      "Epoch 25/300: 100%|█████████████████████████████████| 7/7 [00:07<00:00,  1.03s/it]\n"
     ]
    },
    {
     "name": "stdout",
     "output_type": "stream",
     "text": [
      "Epoch 25/300 - Avg Loss: 1.1126\n"
     ]
    },
    {
     "name": "stderr",
     "output_type": "stream",
     "text": [
      "Epoch 26/300: 100%|█████████████████████████████████| 7/7 [00:07<00:00,  1.11s/it]\n"
     ]
    },
    {
     "name": "stdout",
     "output_type": "stream",
     "text": [
      "Epoch 26/300 - Avg Loss: 1.0992\n"
     ]
    },
    {
     "name": "stderr",
     "output_type": "stream",
     "text": [
      "Epoch 27/300: 100%|█████████████████████████████████| 7/7 [00:08<00:00,  1.19s/it]\n"
     ]
    },
    {
     "name": "stdout",
     "output_type": "stream",
     "text": [
      "Epoch 27/300 - Avg Loss: 1.0726\n"
     ]
    },
    {
     "name": "stderr",
     "output_type": "stream",
     "text": [
      "Epoch 28/300: 100%|█████████████████████████████████| 7/7 [00:06<00:00,  1.08it/s]\n"
     ]
    },
    {
     "name": "stdout",
     "output_type": "stream",
     "text": [
      "Epoch 28/300 - Avg Loss: 1.0594\n"
     ]
    },
    {
     "name": "stderr",
     "output_type": "stream",
     "text": [
      "Epoch 29/300: 100%|█████████████████████████████████| 7/7 [00:06<00:00,  1.06it/s]\n"
     ]
    },
    {
     "name": "stdout",
     "output_type": "stream",
     "text": [
      "Epoch 29/300 - Avg Loss: 1.0422\n"
     ]
    },
    {
     "name": "stderr",
     "output_type": "stream",
     "text": [
      "Epoch 30/300: 100%|█████████████████████████████████| 7/7 [00:08<00:00,  1.24s/it]\n"
     ]
    },
    {
     "name": "stdout",
     "output_type": "stream",
     "text": [
      "Epoch 30/300 - Avg Loss: 1.0293\n"
     ]
    },
    {
     "name": "stderr",
     "output_type": "stream",
     "text": [
      "Epoch 31/300: 100%|█████████████████████████████████| 7/7 [00:09<00:00,  1.30s/it]\n"
     ]
    },
    {
     "name": "stdout",
     "output_type": "stream",
     "text": [
      "Epoch 31/300 - Avg Loss: 1.0171\n"
     ]
    },
    {
     "name": "stderr",
     "output_type": "stream",
     "text": [
      "Epoch 32/300: 100%|█████████████████████████████████| 7/7 [00:08<00:00,  1.19s/it]\n"
     ]
    },
    {
     "name": "stdout",
     "output_type": "stream",
     "text": [
      "Epoch 32/300 - Avg Loss: 1.0125\n"
     ]
    },
    {
     "name": "stderr",
     "output_type": "stream",
     "text": [
      "Epoch 33/300: 100%|█████████████████████████████████| 7/7 [00:10<00:00,  1.45s/it]\n"
     ]
    },
    {
     "name": "stdout",
     "output_type": "stream",
     "text": [
      "Epoch 33/300 - Avg Loss: 1.0021\n"
     ]
    },
    {
     "name": "stderr",
     "output_type": "stream",
     "text": [
      "Epoch 34/300: 100%|█████████████████████████████████| 7/7 [00:10<00:00,  1.46s/it]\n"
     ]
    },
    {
     "name": "stdout",
     "output_type": "stream",
     "text": [
      "Epoch 34/300 - Avg Loss: 0.9999\n"
     ]
    },
    {
     "name": "stderr",
     "output_type": "stream",
     "text": [
      "Epoch 35/300: 100%|█████████████████████████████████| 7/7 [00:10<00:00,  1.51s/it]\n"
     ]
    },
    {
     "name": "stdout",
     "output_type": "stream",
     "text": [
      "Epoch 35/300 - Avg Loss: 0.9923\n"
     ]
    },
    {
     "name": "stderr",
     "output_type": "stream",
     "text": [
      "Epoch 36/300: 100%|█████████████████████████████████| 7/7 [00:08<00:00,  1.28s/it]\n"
     ]
    },
    {
     "name": "stdout",
     "output_type": "stream",
     "text": [
      "Epoch 36/300 - Avg Loss: 0.9896\n"
     ]
    },
    {
     "name": "stderr",
     "output_type": "stream",
     "text": [
      "Epoch 37/300: 100%|█████████████████████████████████| 7/7 [00:07<00:00,  1.08s/it]\n"
     ]
    },
    {
     "name": "stdout",
     "output_type": "stream",
     "text": [
      "Epoch 37/300 - Avg Loss: 0.9842\n"
     ]
    },
    {
     "name": "stderr",
     "output_type": "stream",
     "text": [
      "Epoch 38/300: 100%|█████████████████████████████████| 7/7 [00:07<00:00,  1.09s/it]\n"
     ]
    },
    {
     "name": "stdout",
     "output_type": "stream",
     "text": [
      "Epoch 38/300 - Avg Loss: 0.9805\n"
     ]
    },
    {
     "name": "stderr",
     "output_type": "stream",
     "text": [
      "Epoch 39/300: 100%|█████████████████████████████████| 7/7 [00:06<00:00,  1.04it/s]\n"
     ]
    },
    {
     "name": "stdout",
     "output_type": "stream",
     "text": [
      "Epoch 39/300 - Avg Loss: 0.9779\n"
     ]
    },
    {
     "name": "stderr",
     "output_type": "stream",
     "text": [
      "Epoch 40/300: 100%|█████████████████████████████████| 7/7 [00:07<00:00,  1.03s/it]\n"
     ]
    },
    {
     "name": "stdout",
     "output_type": "stream",
     "text": [
      "Epoch 40/300 - Avg Loss: 0.9732\n"
     ]
    },
    {
     "name": "stderr",
     "output_type": "stream",
     "text": [
      "Epoch 41/300: 100%|█████████████████████████████████| 7/7 [00:07<00:00,  1.01s/it]\n"
     ]
    },
    {
     "name": "stdout",
     "output_type": "stream",
     "text": [
      "Epoch 41/300 - Avg Loss: 0.9697\n"
     ]
    },
    {
     "name": "stderr",
     "output_type": "stream",
     "text": [
      "Epoch 42/300: 100%|█████████████████████████████████| 7/7 [00:06<00:00,  1.02it/s]\n"
     ]
    },
    {
     "name": "stdout",
     "output_type": "stream",
     "text": [
      "Epoch 42/300 - Avg Loss: 0.9683\n"
     ]
    },
    {
     "name": "stderr",
     "output_type": "stream",
     "text": [
      "Epoch 43/300: 100%|█████████████████████████████████| 7/7 [00:07<00:00,  1.04s/it]\n"
     ]
    },
    {
     "name": "stdout",
     "output_type": "stream",
     "text": [
      "Epoch 43/300 - Avg Loss: 0.9633\n"
     ]
    },
    {
     "name": "stderr",
     "output_type": "stream",
     "text": [
      "Epoch 44/300: 100%|█████████████████████████████████| 7/7 [00:08<00:00,  1.26s/it]\n"
     ]
    },
    {
     "name": "stdout",
     "output_type": "stream",
     "text": [
      "Epoch 44/300 - Avg Loss: 0.9589\n"
     ]
    },
    {
     "name": "stderr",
     "output_type": "stream",
     "text": [
      "Epoch 45/300: 100%|█████████████████████████████████| 7/7 [00:10<00:00,  1.52s/it]\n"
     ]
    },
    {
     "name": "stdout",
     "output_type": "stream",
     "text": [
      "Epoch 45/300 - Avg Loss: 0.9585\n"
     ]
    },
    {
     "name": "stderr",
     "output_type": "stream",
     "text": [
      "Epoch 46/300: 100%|█████████████████████████████████| 7/7 [00:08<00:00,  1.24s/it]\n"
     ]
    },
    {
     "name": "stdout",
     "output_type": "stream",
     "text": [
      "Epoch 46/300 - Avg Loss: 0.9519\n"
     ]
    },
    {
     "name": "stderr",
     "output_type": "stream",
     "text": [
      "Epoch 47/300: 100%|█████████████████████████████████| 7/7 [00:08<00:00,  1.26s/it]\n"
     ]
    },
    {
     "name": "stdout",
     "output_type": "stream",
     "text": [
      "Epoch 47/300 - Avg Loss: 0.9496\n"
     ]
    },
    {
     "name": "stderr",
     "output_type": "stream",
     "text": [
      "Epoch 48/300: 100%|█████████████████████████████████| 7/7 [00:07<00:00,  1.12s/it]\n"
     ]
    },
    {
     "name": "stdout",
     "output_type": "stream",
     "text": [
      "Epoch 48/300 - Avg Loss: 0.9460\n"
     ]
    },
    {
     "name": "stderr",
     "output_type": "stream",
     "text": [
      "Epoch 49/300: 100%|█████████████████████████████████| 7/7 [00:08<00:00,  1.16s/it]\n"
     ]
    },
    {
     "name": "stdout",
     "output_type": "stream",
     "text": [
      "Epoch 49/300 - Avg Loss: 0.9426\n"
     ]
    },
    {
     "name": "stderr",
     "output_type": "stream",
     "text": [
      "Epoch 50/300: 100%|█████████████████████████████████| 7/7 [00:07<00:00,  1.08s/it]\n"
     ]
    },
    {
     "name": "stdout",
     "output_type": "stream",
     "text": [
      "Epoch 50/300 - Avg Loss: 0.9422\n"
     ]
    },
    {
     "name": "stderr",
     "output_type": "stream",
     "text": [
      "Epoch 51/300: 100%|█████████████████████████████████| 7/7 [00:08<00:00,  1.16s/it]\n"
     ]
    },
    {
     "name": "stdout",
     "output_type": "stream",
     "text": [
      "Epoch 51/300 - Avg Loss: 0.9369\n"
     ]
    },
    {
     "name": "stderr",
     "output_type": "stream",
     "text": [
      "Epoch 52/300: 100%|█████████████████████████████████| 7/7 [00:07<00:00,  1.13s/it]\n"
     ]
    },
    {
     "name": "stdout",
     "output_type": "stream",
     "text": [
      "Epoch 52/300 - Avg Loss: 0.9359\n"
     ]
    },
    {
     "name": "stderr",
     "output_type": "stream",
     "text": [
      "Epoch 53/300: 100%|█████████████████████████████████| 7/7 [00:08<00:00,  1.17s/it]\n"
     ]
    },
    {
     "name": "stdout",
     "output_type": "stream",
     "text": [
      "Epoch 53/300 - Avg Loss: 0.9290\n"
     ]
    },
    {
     "name": "stderr",
     "output_type": "stream",
     "text": [
      "Epoch 54/300: 100%|█████████████████████████████████| 7/7 [00:07<00:00,  1.01s/it]\n"
     ]
    },
    {
     "name": "stdout",
     "output_type": "stream",
     "text": [
      "Epoch 54/300 - Avg Loss: 0.9242\n"
     ]
    },
    {
     "name": "stderr",
     "output_type": "stream",
     "text": [
      "Epoch 55/300: 100%|█████████████████████████████████| 7/7 [00:10<00:00,  1.53s/it]\n"
     ]
    },
    {
     "name": "stdout",
     "output_type": "stream",
     "text": [
      "Epoch 55/300 - Avg Loss: 0.9219\n"
     ]
    },
    {
     "name": "stderr",
     "output_type": "stream",
     "text": [
      "Epoch 56/300: 100%|█████████████████████████████████| 7/7 [00:08<00:00,  1.27s/it]\n"
     ]
    },
    {
     "name": "stdout",
     "output_type": "stream",
     "text": [
      "Epoch 56/300 - Avg Loss: 0.9186\n"
     ]
    },
    {
     "name": "stderr",
     "output_type": "stream",
     "text": [
      "Epoch 57/300: 100%|█████████████████████████████████| 7/7 [00:08<00:00,  1.25s/it]\n"
     ]
    },
    {
     "name": "stdout",
     "output_type": "stream",
     "text": [
      "Epoch 57/300 - Avg Loss: 0.9153\n"
     ]
    },
    {
     "name": "stderr",
     "output_type": "stream",
     "text": [
      "Epoch 58/300: 100%|█████████████████████████████████| 7/7 [00:08<00:00,  1.25s/it]\n"
     ]
    },
    {
     "name": "stdout",
     "output_type": "stream",
     "text": [
      "Epoch 58/300 - Avg Loss: 0.9134\n"
     ]
    },
    {
     "name": "stderr",
     "output_type": "stream",
     "text": [
      "Epoch 59/300: 100%|█████████████████████████████████| 7/7 [00:07<00:00,  1.08s/it]\n"
     ]
    },
    {
     "name": "stdout",
     "output_type": "stream",
     "text": [
      "Epoch 59/300 - Avg Loss: 0.9095\n"
     ]
    },
    {
     "name": "stderr",
     "output_type": "stream",
     "text": [
      "Epoch 60/300: 100%|█████████████████████████████████| 7/7 [00:07<00:00,  1.14s/it]\n"
     ]
    },
    {
     "name": "stdout",
     "output_type": "stream",
     "text": [
      "Epoch 60/300 - Avg Loss: 0.9058\n"
     ]
    },
    {
     "name": "stderr",
     "output_type": "stream",
     "text": [
      "Epoch 61/300: 100%|█████████████████████████████████| 7/7 [00:07<00:00,  1.08s/it]\n"
     ]
    },
    {
     "name": "stdout",
     "output_type": "stream",
     "text": [
      "Epoch 61/300 - Avg Loss: 0.8984\n"
     ]
    },
    {
     "name": "stderr",
     "output_type": "stream",
     "text": [
      "Epoch 62/300: 100%|█████████████████████████████████| 7/7 [00:09<00:00,  1.30s/it]\n"
     ]
    },
    {
     "name": "stdout",
     "output_type": "stream",
     "text": [
      "Epoch 62/300 - Avg Loss: 0.8970\n"
     ]
    },
    {
     "name": "stderr",
     "output_type": "stream",
     "text": [
      "Epoch 63/300: 100%|█████████████████████████████████| 7/7 [00:08<00:00,  1.20s/it]\n"
     ]
    },
    {
     "name": "stdout",
     "output_type": "stream",
     "text": [
      "Epoch 63/300 - Avg Loss: 0.8913\n"
     ]
    },
    {
     "name": "stderr",
     "output_type": "stream",
     "text": [
      "Epoch 64/300: 100%|█████████████████████████████████| 7/7 [00:08<00:00,  1.23s/it]\n"
     ]
    },
    {
     "name": "stdout",
     "output_type": "stream",
     "text": [
      "Epoch 64/300 - Avg Loss: 0.8872\n"
     ]
    },
    {
     "name": "stderr",
     "output_type": "stream",
     "text": [
      "Epoch 65/300: 100%|█████████████████████████████████| 7/7 [00:08<00:00,  1.17s/it]\n"
     ]
    },
    {
     "name": "stdout",
     "output_type": "stream",
     "text": [
      "Epoch 65/300 - Avg Loss: 0.8841\n"
     ]
    },
    {
     "name": "stderr",
     "output_type": "stream",
     "text": [
      "Epoch 66/300: 100%|█████████████████████████████████| 7/7 [00:10<00:00,  1.47s/it]\n"
     ]
    },
    {
     "name": "stdout",
     "output_type": "stream",
     "text": [
      "Epoch 66/300 - Avg Loss: 0.8807\n"
     ]
    },
    {
     "name": "stderr",
     "output_type": "stream",
     "text": [
      "Epoch 67/300: 100%|█████████████████████████████████| 7/7 [00:09<00:00,  1.35s/it]\n"
     ]
    },
    {
     "name": "stdout",
     "output_type": "stream",
     "text": [
      "Epoch 67/300 - Avg Loss: 0.8774\n"
     ]
    },
    {
     "name": "stderr",
     "output_type": "stream",
     "text": [
      "Epoch 68/300: 100%|█████████████████████████████████| 7/7 [00:10<00:00,  1.46s/it]\n"
     ]
    },
    {
     "name": "stdout",
     "output_type": "stream",
     "text": [
      "Epoch 68/300 - Avg Loss: 0.8699\n"
     ]
    },
    {
     "name": "stderr",
     "output_type": "stream",
     "text": [
      "Epoch 69/300: 100%|█████████████████████████████████| 7/7 [00:07<00:00,  1.11s/it]\n"
     ]
    },
    {
     "name": "stdout",
     "output_type": "stream",
     "text": [
      "Epoch 69/300 - Avg Loss: 0.8692\n"
     ]
    },
    {
     "name": "stderr",
     "output_type": "stream",
     "text": [
      "Epoch 70/300: 100%|█████████████████████████████████| 7/7 [00:07<00:00,  1.07s/it]\n"
     ]
    },
    {
     "name": "stdout",
     "output_type": "stream",
     "text": [
      "Epoch 70/300 - Avg Loss: 0.8626\n"
     ]
    },
    {
     "name": "stderr",
     "output_type": "stream",
     "text": [
      "Epoch 71/300: 100%|█████████████████████████████████| 7/7 [00:06<00:00,  1.14it/s]\n"
     ]
    },
    {
     "name": "stdout",
     "output_type": "stream",
     "text": [
      "Epoch 71/300 - Avg Loss: 0.8604\n"
     ]
    },
    {
     "name": "stderr",
     "output_type": "stream",
     "text": [
      "Epoch 72/300: 100%|█████████████████████████████████| 7/7 [00:05<00:00,  1.17it/s]\n"
     ]
    },
    {
     "name": "stdout",
     "output_type": "stream",
     "text": [
      "Epoch 72/300 - Avg Loss: 0.8554\n"
     ]
    },
    {
     "name": "stderr",
     "output_type": "stream",
     "text": [
      "Epoch 73/300: 100%|█████████████████████████████████| 7/7 [00:05<00:00,  1.21it/s]\n"
     ]
    },
    {
     "name": "stdout",
     "output_type": "stream",
     "text": [
      "Epoch 73/300 - Avg Loss: 0.8597\n"
     ]
    },
    {
     "name": "stderr",
     "output_type": "stream",
     "text": [
      "Epoch 74/300: 100%|█████████████████████████████████| 7/7 [00:05<00:00,  1.33it/s]\n"
     ]
    },
    {
     "name": "stdout",
     "output_type": "stream",
     "text": [
      "Epoch 74/300 - Avg Loss: 0.8501\n"
     ]
    },
    {
     "name": "stderr",
     "output_type": "stream",
     "text": [
      "Epoch 75/300: 100%|█████████████████████████████████| 7/7 [00:05<00:00,  1.35it/s]\n"
     ]
    },
    {
     "name": "stdout",
     "output_type": "stream",
     "text": [
      "Epoch 75/300 - Avg Loss: 0.8472\n"
     ]
    },
    {
     "name": "stderr",
     "output_type": "stream",
     "text": [
      "Epoch 76/300: 100%|█████████████████████████████████| 7/7 [00:05<00:00,  1.33it/s]\n"
     ]
    },
    {
     "name": "stdout",
     "output_type": "stream",
     "text": [
      "Epoch 76/300 - Avg Loss: 0.8464\n"
     ]
    },
    {
     "name": "stderr",
     "output_type": "stream",
     "text": [
      "Epoch 77/300: 100%|█████████████████████████████████| 7/7 [00:05<00:00,  1.29it/s]\n"
     ]
    },
    {
     "name": "stdout",
     "output_type": "stream",
     "text": [
      "Epoch 77/300 - Avg Loss: 0.8404\n"
     ]
    },
    {
     "name": "stderr",
     "output_type": "stream",
     "text": [
      "Epoch 78/300: 100%|█████████████████████████████████| 7/7 [00:05<00:00,  1.25it/s]\n"
     ]
    },
    {
     "name": "stdout",
     "output_type": "stream",
     "text": [
      "Epoch 78/300 - Avg Loss: 0.8412\n"
     ]
    },
    {
     "name": "stderr",
     "output_type": "stream",
     "text": [
      "Epoch 79/300: 100%|█████████████████████████████████| 7/7 [00:05<00:00,  1.32it/s]\n"
     ]
    },
    {
     "name": "stdout",
     "output_type": "stream",
     "text": [
      "Epoch 79/300 - Avg Loss: 0.8391\n"
     ]
    },
    {
     "name": "stderr",
     "output_type": "stream",
     "text": [
      "Epoch 80/300: 100%|█████████████████████████████████| 7/7 [00:05<00:00,  1.21it/s]\n"
     ]
    },
    {
     "name": "stdout",
     "output_type": "stream",
     "text": [
      "Epoch 80/300 - Avg Loss: 0.8299\n"
     ]
    },
    {
     "name": "stderr",
     "output_type": "stream",
     "text": [
      "Epoch 81/300: 100%|█████████████████████████████████| 7/7 [00:05<00:00,  1.18it/s]\n"
     ]
    },
    {
     "name": "stdout",
     "output_type": "stream",
     "text": [
      "Epoch 81/300 - Avg Loss: 0.8256\n"
     ]
    },
    {
     "name": "stderr",
     "output_type": "stream",
     "text": [
      "Epoch 82/300: 100%|█████████████████████████████████| 7/7 [00:06<00:00,  1.12it/s]\n"
     ]
    },
    {
     "name": "stdout",
     "output_type": "stream",
     "text": [
      "Epoch 82/300 - Avg Loss: 0.8240\n"
     ]
    },
    {
     "name": "stderr",
     "output_type": "stream",
     "text": [
      "Epoch 83/300: 100%|█████████████████████████████████| 7/7 [00:05<00:00,  1.23it/s]\n"
     ]
    },
    {
     "name": "stdout",
     "output_type": "stream",
     "text": [
      "Epoch 83/300 - Avg Loss: 0.8243\n"
     ]
    },
    {
     "name": "stderr",
     "output_type": "stream",
     "text": [
      "Epoch 84/300: 100%|█████████████████████████████████| 7/7 [00:05<00:00,  1.20it/s]\n"
     ]
    },
    {
     "name": "stdout",
     "output_type": "stream",
     "text": [
      "Epoch 84/300 - Avg Loss: 0.8186\n"
     ]
    },
    {
     "name": "stderr",
     "output_type": "stream",
     "text": [
      "Epoch 85/300: 100%|█████████████████████████████████| 7/7 [00:06<00:00,  1.14it/s]\n"
     ]
    },
    {
     "name": "stdout",
     "output_type": "stream",
     "text": [
      "Epoch 85/300 - Avg Loss: 0.8144\n"
     ]
    },
    {
     "name": "stderr",
     "output_type": "stream",
     "text": [
      "Epoch 86/300: 100%|█████████████████████████████████| 7/7 [00:05<00:00,  1.22it/s]\n"
     ]
    },
    {
     "name": "stdout",
     "output_type": "stream",
     "text": [
      "Epoch 86/300 - Avg Loss: 0.8120\n"
     ]
    },
    {
     "name": "stderr",
     "output_type": "stream",
     "text": [
      "Epoch 87/300: 100%|█████████████████████████████████| 7/7 [00:05<00:00,  1.22it/s]\n"
     ]
    },
    {
     "name": "stdout",
     "output_type": "stream",
     "text": [
      "Epoch 87/300 - Avg Loss: 0.8086\n"
     ]
    },
    {
     "name": "stderr",
     "output_type": "stream",
     "text": [
      "Epoch 88/300: 100%|█████████████████████████████████| 7/7 [00:05<00:00,  1.24it/s]\n"
     ]
    },
    {
     "name": "stdout",
     "output_type": "stream",
     "text": [
      "Epoch 88/300 - Avg Loss: 0.8089\n"
     ]
    },
    {
     "name": "stderr",
     "output_type": "stream",
     "text": [
      "Epoch 89/300: 100%|█████████████████████████████████| 7/7 [00:05<00:00,  1.23it/s]\n"
     ]
    },
    {
     "name": "stdout",
     "output_type": "stream",
     "text": [
      "Epoch 89/300 - Avg Loss: 0.8043\n"
     ]
    },
    {
     "name": "stderr",
     "output_type": "stream",
     "text": [
      "Epoch 90/300: 100%|█████████████████████████████████| 7/7 [00:05<00:00,  1.27it/s]\n"
     ]
    },
    {
     "name": "stdout",
     "output_type": "stream",
     "text": [
      "Epoch 90/300 - Avg Loss: 0.8005\n"
     ]
    },
    {
     "name": "stderr",
     "output_type": "stream",
     "text": [
      "Epoch 91/300: 100%|█████████████████████████████████| 7/7 [00:05<00:00,  1.31it/s]\n"
     ]
    },
    {
     "name": "stdout",
     "output_type": "stream",
     "text": [
      "Epoch 91/300 - Avg Loss: 0.7979\n"
     ]
    },
    {
     "name": "stderr",
     "output_type": "stream",
     "text": [
      "Epoch 92/300: 100%|█████████████████████████████████| 7/7 [00:05<00:00,  1.29it/s]\n"
     ]
    },
    {
     "name": "stdout",
     "output_type": "stream",
     "text": [
      "Epoch 92/300 - Avg Loss: 0.7922\n"
     ]
    },
    {
     "name": "stderr",
     "output_type": "stream",
     "text": [
      "Epoch 93/300: 100%|█████████████████████████████████| 7/7 [00:05<00:00,  1.27it/s]\n"
     ]
    },
    {
     "name": "stdout",
     "output_type": "stream",
     "text": [
      "Epoch 93/300 - Avg Loss: 0.7921\n"
     ]
    },
    {
     "name": "stderr",
     "output_type": "stream",
     "text": [
      "Epoch 94/300: 100%|█████████████████████████████████| 7/7 [00:05<00:00,  1.27it/s]\n"
     ]
    },
    {
     "name": "stdout",
     "output_type": "stream",
     "text": [
      "Epoch 94/300 - Avg Loss: 0.7918\n"
     ]
    },
    {
     "name": "stderr",
     "output_type": "stream",
     "text": [
      "Epoch 95/300: 100%|█████████████████████████████████| 7/7 [00:05<00:00,  1.22it/s]\n"
     ]
    },
    {
     "name": "stdout",
     "output_type": "stream",
     "text": [
      "Epoch 95/300 - Avg Loss: 0.7837\n"
     ]
    },
    {
     "name": "stderr",
     "output_type": "stream",
     "text": [
      "Epoch 96/300: 100%|█████████████████████████████████| 7/7 [00:05<00:00,  1.20it/s]\n"
     ]
    },
    {
     "name": "stdout",
     "output_type": "stream",
     "text": [
      "Epoch 96/300 - Avg Loss: 0.7856\n"
     ]
    },
    {
     "name": "stderr",
     "output_type": "stream",
     "text": [
      "Epoch 97/300: 100%|█████████████████████████████████| 7/7 [00:05<00:00,  1.23it/s]\n"
     ]
    },
    {
     "name": "stdout",
     "output_type": "stream",
     "text": [
      "Epoch 97/300 - Avg Loss: 0.7869\n"
     ]
    },
    {
     "name": "stderr",
     "output_type": "stream",
     "text": [
      "Epoch 98/300: 100%|█████████████████████████████████| 7/7 [00:05<00:00,  1.30it/s]\n"
     ]
    },
    {
     "name": "stdout",
     "output_type": "stream",
     "text": [
      "Epoch 98/300 - Avg Loss: 0.7807\n"
     ]
    },
    {
     "name": "stderr",
     "output_type": "stream",
     "text": [
      "Epoch 99/300: 100%|█████████████████████████████████| 7/7 [00:05<00:00,  1.26it/s]\n"
     ]
    },
    {
     "name": "stdout",
     "output_type": "stream",
     "text": [
      "Epoch 99/300 - Avg Loss: 0.7767\n"
     ]
    },
    {
     "name": "stderr",
     "output_type": "stream",
     "text": [
      "Epoch 100/300: 100%|████████████████████████████████| 7/7 [00:05<00:00,  1.29it/s]\n"
     ]
    },
    {
     "name": "stdout",
     "output_type": "stream",
     "text": [
      "Epoch 100/300 - Avg Loss: 0.7799\n"
     ]
    },
    {
     "name": "stderr",
     "output_type": "stream",
     "text": [
      "Epoch 101/300: 100%|████████████████████████████████| 7/7 [00:05<00:00,  1.34it/s]\n"
     ]
    },
    {
     "name": "stdout",
     "output_type": "stream",
     "text": [
      "Epoch 101/300 - Avg Loss: 0.7769\n"
     ]
    },
    {
     "name": "stderr",
     "output_type": "stream",
     "text": [
      "Epoch 102/300: 100%|████████████████████████████████| 7/7 [00:05<00:00,  1.28it/s]\n"
     ]
    },
    {
     "name": "stdout",
     "output_type": "stream",
     "text": [
      "Epoch 102/300 - Avg Loss: 0.7721\n"
     ]
    },
    {
     "name": "stderr",
     "output_type": "stream",
     "text": [
      "Epoch 103/300: 100%|████████████████████████████████| 7/7 [00:05<00:00,  1.27it/s]\n"
     ]
    },
    {
     "name": "stdout",
     "output_type": "stream",
     "text": [
      "Epoch 103/300 - Avg Loss: 0.7715\n"
     ]
    },
    {
     "name": "stderr",
     "output_type": "stream",
     "text": [
      "Epoch 104/300: 100%|████████████████████████████████| 7/7 [00:05<00:00,  1.30it/s]\n"
     ]
    },
    {
     "name": "stdout",
     "output_type": "stream",
     "text": [
      "Epoch 104/300 - Avg Loss: 0.7687\n"
     ]
    },
    {
     "name": "stderr",
     "output_type": "stream",
     "text": [
      "Epoch 105/300: 100%|████████████████████████████████| 7/7 [00:05<00:00,  1.24it/s]\n"
     ]
    },
    {
     "name": "stdout",
     "output_type": "stream",
     "text": [
      "Epoch 105/300 - Avg Loss: 0.7673\n"
     ]
    },
    {
     "name": "stderr",
     "output_type": "stream",
     "text": [
      "Epoch 106/300: 100%|████████████████████████████████| 7/7 [00:05<00:00,  1.29it/s]\n"
     ]
    },
    {
     "name": "stdout",
     "output_type": "stream",
     "text": [
      "Epoch 106/300 - Avg Loss: 0.7638\n"
     ]
    },
    {
     "name": "stderr",
     "output_type": "stream",
     "text": [
      "Epoch 107/300: 100%|████████████████████████████████| 7/7 [00:05<00:00,  1.29it/s]\n"
     ]
    },
    {
     "name": "stdout",
     "output_type": "stream",
     "text": [
      "Epoch 107/300 - Avg Loss: 0.7661\n"
     ]
    },
    {
     "name": "stderr",
     "output_type": "stream",
     "text": [
      "Epoch 108/300: 100%|████████████████████████████████| 7/7 [00:05<00:00,  1.27it/s]\n"
     ]
    },
    {
     "name": "stdout",
     "output_type": "stream",
     "text": [
      "Epoch 108/300 - Avg Loss: 0.7576\n"
     ]
    },
    {
     "name": "stderr",
     "output_type": "stream",
     "text": [
      "Epoch 109/300: 100%|████████████████████████████████| 7/7 [00:05<00:00,  1.27it/s]\n"
     ]
    },
    {
     "name": "stdout",
     "output_type": "stream",
     "text": [
      "Epoch 109/300 - Avg Loss: 0.7583\n"
     ]
    },
    {
     "name": "stderr",
     "output_type": "stream",
     "text": [
      "Epoch 110/300: 100%|████████████████████████████████| 7/7 [00:05<00:00,  1.20it/s]\n"
     ]
    },
    {
     "name": "stdout",
     "output_type": "stream",
     "text": [
      "Epoch 110/300 - Avg Loss: 0.7541\n"
     ]
    },
    {
     "name": "stderr",
     "output_type": "stream",
     "text": [
      "Epoch 111/300: 100%|████████████████████████████████| 7/7 [00:05<00:00,  1.29it/s]\n"
     ]
    },
    {
     "name": "stdout",
     "output_type": "stream",
     "text": [
      "Epoch 111/300 - Avg Loss: 0.7523\n"
     ]
    },
    {
     "name": "stderr",
     "output_type": "stream",
     "text": [
      "Epoch 112/300: 100%|████████████████████████████████| 7/7 [00:05<00:00,  1.26it/s]\n"
     ]
    },
    {
     "name": "stdout",
     "output_type": "stream",
     "text": [
      "Epoch 112/300 - Avg Loss: 0.7548\n"
     ]
    },
    {
     "name": "stderr",
     "output_type": "stream",
     "text": [
      "Epoch 113/300: 100%|████████████████████████████████| 7/7 [00:05<00:00,  1.27it/s]\n"
     ]
    },
    {
     "name": "stdout",
     "output_type": "stream",
     "text": [
      "Epoch 113/300 - Avg Loss: 0.7480\n"
     ]
    },
    {
     "name": "stderr",
     "output_type": "stream",
     "text": [
      "Epoch 114/300: 100%|████████████████████████████████| 7/7 [00:05<00:00,  1.26it/s]\n"
     ]
    },
    {
     "name": "stdout",
     "output_type": "stream",
     "text": [
      "Epoch 114/300 - Avg Loss: 0.7528\n"
     ]
    },
    {
     "name": "stderr",
     "output_type": "stream",
     "text": [
      "Epoch 115/300: 100%|████████████████████████████████| 7/7 [00:05<00:00,  1.27it/s]\n"
     ]
    },
    {
     "name": "stdout",
     "output_type": "stream",
     "text": [
      "Epoch 115/300 - Avg Loss: 0.7592\n"
     ]
    },
    {
     "name": "stderr",
     "output_type": "stream",
     "text": [
      "Epoch 116/300: 100%|████████████████████████████████| 7/7 [00:05<00:00,  1.36it/s]\n"
     ]
    },
    {
     "name": "stdout",
     "output_type": "stream",
     "text": [
      "Epoch 116/300 - Avg Loss: 0.7441\n"
     ]
    },
    {
     "name": "stderr",
     "output_type": "stream",
     "text": [
      "Epoch 117/300: 100%|████████████████████████████████| 7/7 [00:05<00:00,  1.22it/s]\n"
     ]
    },
    {
     "name": "stdout",
     "output_type": "stream",
     "text": [
      "Epoch 117/300 - Avg Loss: 0.7458\n"
     ]
    },
    {
     "name": "stderr",
     "output_type": "stream",
     "text": [
      "Epoch 118/300: 100%|████████████████████████████████| 7/7 [00:05<00:00,  1.29it/s]\n"
     ]
    },
    {
     "name": "stdout",
     "output_type": "stream",
     "text": [
      "Epoch 118/300 - Avg Loss: 0.7394\n"
     ]
    },
    {
     "name": "stderr",
     "output_type": "stream",
     "text": [
      "Epoch 119/300: 100%|████████████████████████████████| 7/7 [00:05<00:00,  1.30it/s]\n"
     ]
    },
    {
     "name": "stdout",
     "output_type": "stream",
     "text": [
      "Epoch 119/300 - Avg Loss: 0.7405\n"
     ]
    },
    {
     "name": "stderr",
     "output_type": "stream",
     "text": [
      "Epoch 120/300: 100%|████████████████████████████████| 7/7 [00:05<00:00,  1.29it/s]\n"
     ]
    },
    {
     "name": "stdout",
     "output_type": "stream",
     "text": [
      "Epoch 120/300 - Avg Loss: 0.7430\n"
     ]
    },
    {
     "name": "stderr",
     "output_type": "stream",
     "text": [
      "Epoch 121/300: 100%|████████████████████████████████| 7/7 [00:05<00:00,  1.32it/s]\n"
     ]
    },
    {
     "name": "stdout",
     "output_type": "stream",
     "text": [
      "Epoch 121/300 - Avg Loss: 0.7388\n"
     ]
    },
    {
     "name": "stderr",
     "output_type": "stream",
     "text": [
      "Epoch 122/300: 100%|████████████████████████████████| 7/7 [00:05<00:00,  1.30it/s]\n"
     ]
    },
    {
     "name": "stdout",
     "output_type": "stream",
     "text": [
      "Epoch 122/300 - Avg Loss: 0.7329\n"
     ]
    },
    {
     "name": "stderr",
     "output_type": "stream",
     "text": [
      "Epoch 123/300: 100%|████████████████████████████████| 7/7 [00:05<00:00,  1.28it/s]\n"
     ]
    },
    {
     "name": "stdout",
     "output_type": "stream",
     "text": [
      "Epoch 123/300 - Avg Loss: 0.7365\n"
     ]
    },
    {
     "name": "stderr",
     "output_type": "stream",
     "text": [
      "Epoch 124/300: 100%|████████████████████████████████| 7/7 [00:05<00:00,  1.26it/s]\n"
     ]
    },
    {
     "name": "stdout",
     "output_type": "stream",
     "text": [
      "Epoch 124/300 - Avg Loss: 0.7358\n"
     ]
    },
    {
     "name": "stderr",
     "output_type": "stream",
     "text": [
      "Epoch 125/300: 100%|████████████████████████████████| 7/7 [00:05<00:00,  1.30it/s]\n"
     ]
    },
    {
     "name": "stdout",
     "output_type": "stream",
     "text": [
      "Epoch 125/300 - Avg Loss: 0.7368\n"
     ]
    },
    {
     "name": "stderr",
     "output_type": "stream",
     "text": [
      "Epoch 126/300: 100%|████████████████████████████████| 7/7 [00:05<00:00,  1.31it/s]\n"
     ]
    },
    {
     "name": "stdout",
     "output_type": "stream",
     "text": [
      "Epoch 126/300 - Avg Loss: 0.7284\n"
     ]
    },
    {
     "name": "stderr",
     "output_type": "stream",
     "text": [
      "Epoch 127/300: 100%|████████████████████████████████| 7/7 [00:05<00:00,  1.30it/s]\n"
     ]
    },
    {
     "name": "stdout",
     "output_type": "stream",
     "text": [
      "Epoch 127/300 - Avg Loss: 0.7273\n"
     ]
    },
    {
     "name": "stderr",
     "output_type": "stream",
     "text": [
      "Epoch 128/300: 100%|████████████████████████████████| 7/7 [00:05<00:00,  1.30it/s]\n"
     ]
    },
    {
     "name": "stdout",
     "output_type": "stream",
     "text": [
      "Epoch 128/300 - Avg Loss: 0.7263\n"
     ]
    },
    {
     "name": "stderr",
     "output_type": "stream",
     "text": [
      "Epoch 129/300: 100%|████████████████████████████████| 7/7 [00:05<00:00,  1.32it/s]\n"
     ]
    },
    {
     "name": "stdout",
     "output_type": "stream",
     "text": [
      "Epoch 129/300 - Avg Loss: 0.7288\n"
     ]
    },
    {
     "name": "stderr",
     "output_type": "stream",
     "text": [
      "Epoch 130/300: 100%|████████████████████████████████| 7/7 [00:05<00:00,  1.29it/s]\n"
     ]
    },
    {
     "name": "stdout",
     "output_type": "stream",
     "text": [
      "Epoch 130/300 - Avg Loss: 0.7279\n"
     ]
    },
    {
     "name": "stderr",
     "output_type": "stream",
     "text": [
      "Epoch 131/300: 100%|████████████████████████████████| 7/7 [00:05<00:00,  1.31it/s]\n"
     ]
    },
    {
     "name": "stdout",
     "output_type": "stream",
     "text": [
      "Epoch 131/300 - Avg Loss: 0.7224\n"
     ]
    },
    {
     "name": "stderr",
     "output_type": "stream",
     "text": [
      "Epoch 132/300: 100%|████████████████████████████████| 7/7 [00:05<00:00,  1.35it/s]\n"
     ]
    },
    {
     "name": "stdout",
     "output_type": "stream",
     "text": [
      "Epoch 132/300 - Avg Loss: 0.7223\n"
     ]
    },
    {
     "name": "stderr",
     "output_type": "stream",
     "text": [
      "Epoch 133/300: 100%|████████████████████████████████| 7/7 [00:05<00:00,  1.33it/s]\n"
     ]
    },
    {
     "name": "stdout",
     "output_type": "stream",
     "text": [
      "Epoch 133/300 - Avg Loss: 0.7251\n"
     ]
    },
    {
     "name": "stderr",
     "output_type": "stream",
     "text": [
      "Epoch 134/300: 100%|████████████████████████████████| 7/7 [00:05<00:00,  1.31it/s]\n"
     ]
    },
    {
     "name": "stdout",
     "output_type": "stream",
     "text": [
      "Epoch 134/300 - Avg Loss: 0.7142\n"
     ]
    },
    {
     "name": "stderr",
     "output_type": "stream",
     "text": [
      "Epoch 135/300: 100%|████████████████████████████████| 7/7 [00:05<00:00,  1.27it/s]\n"
     ]
    },
    {
     "name": "stdout",
     "output_type": "stream",
     "text": [
      "Epoch 135/300 - Avg Loss: 0.7158\n"
     ]
    },
    {
     "name": "stderr",
     "output_type": "stream",
     "text": [
      "Epoch 136/300: 100%|████████████████████████████████| 7/7 [00:05<00:00,  1.23it/s]\n"
     ]
    },
    {
     "name": "stdout",
     "output_type": "stream",
     "text": [
      "Epoch 136/300 - Avg Loss: 0.7181\n"
     ]
    },
    {
     "name": "stderr",
     "output_type": "stream",
     "text": [
      "Epoch 137/300: 100%|████████████████████████████████| 7/7 [00:05<00:00,  1.29it/s]\n"
     ]
    },
    {
     "name": "stdout",
     "output_type": "stream",
     "text": [
      "Epoch 137/300 - Avg Loss: 0.7160\n"
     ]
    },
    {
     "name": "stderr",
     "output_type": "stream",
     "text": [
      "Epoch 138/300: 100%|████████████████████████████████| 7/7 [00:05<00:00,  1.33it/s]\n"
     ]
    },
    {
     "name": "stdout",
     "output_type": "stream",
     "text": [
      "Epoch 138/300 - Avg Loss: 0.7135\n"
     ]
    },
    {
     "name": "stderr",
     "output_type": "stream",
     "text": [
      "Epoch 139/300: 100%|████████████████████████████████| 7/7 [00:05<00:00,  1.37it/s]\n"
     ]
    },
    {
     "name": "stdout",
     "output_type": "stream",
     "text": [
      "Epoch 139/300 - Avg Loss: 0.7116\n"
     ]
    },
    {
     "name": "stderr",
     "output_type": "stream",
     "text": [
      "Epoch 140/300: 100%|████████████████████████████████| 7/7 [00:05<00:00,  1.29it/s]\n"
     ]
    },
    {
     "name": "stdout",
     "output_type": "stream",
     "text": [
      "Epoch 140/300 - Avg Loss: 0.7097\n"
     ]
    },
    {
     "name": "stderr",
     "output_type": "stream",
     "text": [
      "Epoch 141/300: 100%|████████████████████████████████| 7/7 [00:05<00:00,  1.37it/s]\n"
     ]
    },
    {
     "name": "stdout",
     "output_type": "stream",
     "text": [
      "Epoch 141/300 - Avg Loss: 0.7065\n"
     ]
    },
    {
     "name": "stderr",
     "output_type": "stream",
     "text": [
      "Epoch 142/300: 100%|████████████████████████████████| 7/7 [00:05<00:00,  1.27it/s]\n"
     ]
    },
    {
     "name": "stdout",
     "output_type": "stream",
     "text": [
      "Epoch 142/300 - Avg Loss: 0.7066\n"
     ]
    },
    {
     "name": "stderr",
     "output_type": "stream",
     "text": [
      "Epoch 143/300: 100%|████████████████████████████████| 7/7 [00:05<00:00,  1.27it/s]\n"
     ]
    },
    {
     "name": "stdout",
     "output_type": "stream",
     "text": [
      "Epoch 143/300 - Avg Loss: 0.7154\n"
     ]
    },
    {
     "name": "stderr",
     "output_type": "stream",
     "text": [
      "Epoch 144/300: 100%|████████████████████████████████| 7/7 [00:05<00:00,  1.34it/s]\n"
     ]
    },
    {
     "name": "stdout",
     "output_type": "stream",
     "text": [
      "Epoch 144/300 - Avg Loss: 0.7148\n"
     ]
    },
    {
     "name": "stderr",
     "output_type": "stream",
     "text": [
      "Epoch 145/300: 100%|████████████████████████████████| 7/7 [00:05<00:00,  1.29it/s]\n"
     ]
    },
    {
     "name": "stdout",
     "output_type": "stream",
     "text": [
      "Epoch 145/300 - Avg Loss: 0.7028\n"
     ]
    },
    {
     "name": "stderr",
     "output_type": "stream",
     "text": [
      "Epoch 146/300: 100%|████████████████████████████████| 7/7 [00:05<00:00,  1.33it/s]\n"
     ]
    },
    {
     "name": "stdout",
     "output_type": "stream",
     "text": [
      "Epoch 146/300 - Avg Loss: 0.7093\n"
     ]
    },
    {
     "name": "stderr",
     "output_type": "stream",
     "text": [
      "Epoch 147/300: 100%|████████████████████████████████| 7/7 [00:05<00:00,  1.29it/s]\n"
     ]
    },
    {
     "name": "stdout",
     "output_type": "stream",
     "text": [
      "Epoch 147/300 - Avg Loss: 0.7082\n"
     ]
    },
    {
     "name": "stderr",
     "output_type": "stream",
     "text": [
      "Epoch 148/300: 100%|████████████████████████████████| 7/7 [00:05<00:00,  1.27it/s]\n"
     ]
    },
    {
     "name": "stdout",
     "output_type": "stream",
     "text": [
      "Epoch 148/300 - Avg Loss: 0.7083\n"
     ]
    },
    {
     "name": "stderr",
     "output_type": "stream",
     "text": [
      "Epoch 149/300: 100%|████████████████████████████████| 7/7 [00:05<00:00,  1.32it/s]\n"
     ]
    },
    {
     "name": "stdout",
     "output_type": "stream",
     "text": [
      "Epoch 149/300 - Avg Loss: 0.7019\n"
     ]
    },
    {
     "name": "stderr",
     "output_type": "stream",
     "text": [
      "Epoch 150/300: 100%|████████████████████████████████| 7/7 [00:05<00:00,  1.31it/s]\n"
     ]
    },
    {
     "name": "stdout",
     "output_type": "stream",
     "text": [
      "Epoch 150/300 - Avg Loss: 0.7011\n"
     ]
    },
    {
     "name": "stderr",
     "output_type": "stream",
     "text": [
      "Epoch 151/300: 100%|████████████████████████████████| 7/7 [00:05<00:00,  1.27it/s]\n"
     ]
    },
    {
     "name": "stdout",
     "output_type": "stream",
     "text": [
      "Epoch 151/300 - Avg Loss: 0.7042\n"
     ]
    },
    {
     "name": "stderr",
     "output_type": "stream",
     "text": [
      "Epoch 152/300: 100%|████████████████████████████████| 7/7 [00:05<00:00,  1.29it/s]\n"
     ]
    },
    {
     "name": "stdout",
     "output_type": "stream",
     "text": [
      "Epoch 152/300 - Avg Loss: 0.6999\n"
     ]
    },
    {
     "name": "stderr",
     "output_type": "stream",
     "text": [
      "Epoch 153/300: 100%|████████████████████████████████| 7/7 [00:05<00:00,  1.28it/s]\n"
     ]
    },
    {
     "name": "stdout",
     "output_type": "stream",
     "text": [
      "Epoch 153/300 - Avg Loss: 0.6947\n"
     ]
    },
    {
     "name": "stderr",
     "output_type": "stream",
     "text": [
      "Epoch 154/300: 100%|████████████████████████████████| 7/7 [00:05<00:00,  1.36it/s]\n"
     ]
    },
    {
     "name": "stdout",
     "output_type": "stream",
     "text": [
      "Epoch 154/300 - Avg Loss: 0.6958\n"
     ]
    },
    {
     "name": "stderr",
     "output_type": "stream",
     "text": [
      "Epoch 155/300: 100%|████████████████████████████████| 7/7 [00:05<00:00,  1.30it/s]\n"
     ]
    },
    {
     "name": "stdout",
     "output_type": "stream",
     "text": [
      "Epoch 155/300 - Avg Loss: 0.7017\n"
     ]
    },
    {
     "name": "stderr",
     "output_type": "stream",
     "text": [
      "Epoch 156/300: 100%|████████████████████████████████| 7/7 [00:05<00:00,  1.31it/s]\n"
     ]
    },
    {
     "name": "stdout",
     "output_type": "stream",
     "text": [
      "Epoch 156/300 - Avg Loss: 0.6961\n"
     ]
    },
    {
     "name": "stderr",
     "output_type": "stream",
     "text": [
      "Epoch 157/300: 100%|████████████████████████████████| 7/7 [00:05<00:00,  1.34it/s]\n"
     ]
    },
    {
     "name": "stdout",
     "output_type": "stream",
     "text": [
      "Epoch 157/300 - Avg Loss: 0.6967\n"
     ]
    },
    {
     "name": "stderr",
     "output_type": "stream",
     "text": [
      "Epoch 158/300: 100%|████████████████████████████████| 7/7 [00:05<00:00,  1.28it/s]\n"
     ]
    },
    {
     "name": "stdout",
     "output_type": "stream",
     "text": [
      "Epoch 158/300 - Avg Loss: 0.6944\n"
     ]
    },
    {
     "name": "stderr",
     "output_type": "stream",
     "text": [
      "Epoch 159/300: 100%|████████████████████████████████| 7/7 [00:05<00:00,  1.33it/s]\n"
     ]
    },
    {
     "name": "stdout",
     "output_type": "stream",
     "text": [
      "Epoch 159/300 - Avg Loss: 0.6921\n"
     ]
    },
    {
     "name": "stderr",
     "output_type": "stream",
     "text": [
      "Epoch 160/300: 100%|████████████████████████████████| 7/7 [00:05<00:00,  1.32it/s]\n"
     ]
    },
    {
     "name": "stdout",
     "output_type": "stream",
     "text": [
      "Epoch 160/300 - Avg Loss: 0.6907\n"
     ]
    },
    {
     "name": "stderr",
     "output_type": "stream",
     "text": [
      "Epoch 161/300: 100%|████████████████████████████████| 7/7 [00:05<00:00,  1.37it/s]\n"
     ]
    },
    {
     "name": "stdout",
     "output_type": "stream",
     "text": [
      "Epoch 161/300 - Avg Loss: 0.6983\n"
     ]
    },
    {
     "name": "stderr",
     "output_type": "stream",
     "text": [
      "Epoch 162/300: 100%|████████████████████████████████| 7/7 [00:05<00:00,  1.36it/s]\n"
     ]
    },
    {
     "name": "stdout",
     "output_type": "stream",
     "text": [
      "Epoch 162/300 - Avg Loss: 0.6937\n"
     ]
    },
    {
     "name": "stderr",
     "output_type": "stream",
     "text": [
      "Epoch 163/300: 100%|████████████████████████████████| 7/7 [00:05<00:00,  1.27it/s]\n"
     ]
    },
    {
     "name": "stdout",
     "output_type": "stream",
     "text": [
      "Epoch 163/300 - Avg Loss: 0.6938\n"
     ]
    },
    {
     "name": "stderr",
     "output_type": "stream",
     "text": [
      "Epoch 164/300: 100%|████████████████████████████████| 7/7 [00:05<00:00,  1.28it/s]\n"
     ]
    },
    {
     "name": "stdout",
     "output_type": "stream",
     "text": [
      "Epoch 164/300 - Avg Loss: 0.6927\n"
     ]
    },
    {
     "name": "stderr",
     "output_type": "stream",
     "text": [
      "Epoch 165/300: 100%|████████████████████████████████| 7/7 [00:05<00:00,  1.27it/s]\n"
     ]
    },
    {
     "name": "stdout",
     "output_type": "stream",
     "text": [
      "Epoch 165/300 - Avg Loss: 0.6852\n"
     ]
    },
    {
     "name": "stderr",
     "output_type": "stream",
     "text": [
      "Epoch 166/300: 100%|████████████████████████████████| 7/7 [00:05<00:00,  1.31it/s]\n"
     ]
    },
    {
     "name": "stdout",
     "output_type": "stream",
     "text": [
      "Epoch 166/300 - Avg Loss: 0.6835\n"
     ]
    },
    {
     "name": "stderr",
     "output_type": "stream",
     "text": [
      "Epoch 167/300: 100%|████████████████████████████████| 7/7 [00:05<00:00,  1.28it/s]\n"
     ]
    },
    {
     "name": "stdout",
     "output_type": "stream",
     "text": [
      "Epoch 167/300 - Avg Loss: 0.6935\n"
     ]
    },
    {
     "name": "stderr",
     "output_type": "stream",
     "text": [
      "Epoch 168/300: 100%|████████████████████████████████| 7/7 [00:05<00:00,  1.28it/s]\n"
     ]
    },
    {
     "name": "stdout",
     "output_type": "stream",
     "text": [
      "Epoch 168/300 - Avg Loss: 0.6872\n"
     ]
    },
    {
     "name": "stderr",
     "output_type": "stream",
     "text": [
      "Epoch 169/300: 100%|████████████████████████████████| 7/7 [00:05<00:00,  1.26it/s]\n"
     ]
    },
    {
     "name": "stdout",
     "output_type": "stream",
     "text": [
      "Epoch 169/300 - Avg Loss: 0.6896\n"
     ]
    },
    {
     "name": "stderr",
     "output_type": "stream",
     "text": [
      "Epoch 170/300: 100%|████████████████████████████████| 7/7 [00:05<00:00,  1.34it/s]\n"
     ]
    },
    {
     "name": "stdout",
     "output_type": "stream",
     "text": [
      "Epoch 170/300 - Avg Loss: 0.6869\n"
     ]
    },
    {
     "name": "stderr",
     "output_type": "stream",
     "text": [
      "Epoch 171/300: 100%|████████████████████████████████| 7/7 [00:05<00:00,  1.28it/s]\n"
     ]
    },
    {
     "name": "stdout",
     "output_type": "stream",
     "text": [
      "Epoch 171/300 - Avg Loss: 0.6957\n"
     ]
    },
    {
     "name": "stderr",
     "output_type": "stream",
     "text": [
      "Epoch 172/300: 100%|████████████████████████████████| 7/7 [00:05<00:00,  1.28it/s]\n"
     ]
    },
    {
     "name": "stdout",
     "output_type": "stream",
     "text": [
      "Epoch 172/300 - Avg Loss: 0.6826\n"
     ]
    },
    {
     "name": "stderr",
     "output_type": "stream",
     "text": [
      "Epoch 173/300: 100%|████████████████████████████████| 7/7 [00:05<00:00,  1.26it/s]\n"
     ]
    },
    {
     "name": "stdout",
     "output_type": "stream",
     "text": [
      "Epoch 173/300 - Avg Loss: 0.6814\n"
     ]
    },
    {
     "name": "stderr",
     "output_type": "stream",
     "text": [
      "Epoch 174/300: 100%|████████████████████████████████| 7/7 [00:05<00:00,  1.28it/s]\n"
     ]
    },
    {
     "name": "stdout",
     "output_type": "stream",
     "text": [
      "Epoch 174/300 - Avg Loss: 0.6840\n"
     ]
    },
    {
     "name": "stderr",
     "output_type": "stream",
     "text": [
      "Epoch 175/300: 100%|████████████████████████████████| 7/7 [00:05<00:00,  1.22it/s]\n"
     ]
    },
    {
     "name": "stdout",
     "output_type": "stream",
     "text": [
      "Epoch 175/300 - Avg Loss: 0.6808\n"
     ]
    },
    {
     "name": "stderr",
     "output_type": "stream",
     "text": [
      "Epoch 176/300: 100%|████████████████████████████████| 7/7 [00:05<00:00,  1.31it/s]\n"
     ]
    },
    {
     "name": "stdout",
     "output_type": "stream",
     "text": [
      "Epoch 176/300 - Avg Loss: 0.6758\n"
     ]
    },
    {
     "name": "stderr",
     "output_type": "stream",
     "text": [
      "Epoch 177/300: 100%|████████████████████████████████| 7/7 [00:05<00:00,  1.34it/s]\n"
     ]
    },
    {
     "name": "stdout",
     "output_type": "stream",
     "text": [
      "Epoch 177/300 - Avg Loss: 0.6822\n"
     ]
    },
    {
     "name": "stderr",
     "output_type": "stream",
     "text": [
      "Epoch 178/300: 100%|████████████████████████████████| 7/7 [00:05<00:00,  1.31it/s]\n"
     ]
    },
    {
     "name": "stdout",
     "output_type": "stream",
     "text": [
      "Epoch 178/300 - Avg Loss: 0.6800\n"
     ]
    },
    {
     "name": "stderr",
     "output_type": "stream",
     "text": [
      "Epoch 179/300: 100%|████████████████████████████████| 7/7 [00:05<00:00,  1.35it/s]\n"
     ]
    },
    {
     "name": "stdout",
     "output_type": "stream",
     "text": [
      "Epoch 179/300 - Avg Loss: 0.6830\n"
     ]
    },
    {
     "name": "stderr",
     "output_type": "stream",
     "text": [
      "Epoch 180/300: 100%|████████████████████████████████| 7/7 [00:05<00:00,  1.24it/s]\n"
     ]
    },
    {
     "name": "stdout",
     "output_type": "stream",
     "text": [
      "Epoch 180/300 - Avg Loss: 0.6776\n"
     ]
    },
    {
     "name": "stderr",
     "output_type": "stream",
     "text": [
      "Epoch 181/300: 100%|████████████████████████████████| 7/7 [00:05<00:00,  1.29it/s]\n"
     ]
    },
    {
     "name": "stdout",
     "output_type": "stream",
     "text": [
      "Epoch 181/300 - Avg Loss: 0.6832\n"
     ]
    },
    {
     "name": "stderr",
     "output_type": "stream",
     "text": [
      "Epoch 182/300: 100%|████████████████████████████████| 7/7 [00:05<00:00,  1.28it/s]\n"
     ]
    },
    {
     "name": "stdout",
     "output_type": "stream",
     "text": [
      "Epoch 182/300 - Avg Loss: 0.6843\n"
     ]
    },
    {
     "name": "stderr",
     "output_type": "stream",
     "text": [
      "Epoch 183/300: 100%|████████████████████████████████| 7/7 [00:05<00:00,  1.31it/s]\n"
     ]
    },
    {
     "name": "stdout",
     "output_type": "stream",
     "text": [
      "Epoch 183/300 - Avg Loss: 0.6788\n"
     ]
    },
    {
     "name": "stderr",
     "output_type": "stream",
     "text": [
      "Epoch 184/300: 100%|████████████████████████████████| 7/7 [00:05<00:00,  1.32it/s]\n"
     ]
    },
    {
     "name": "stdout",
     "output_type": "stream",
     "text": [
      "Epoch 184/300 - Avg Loss: 0.6817\n"
     ]
    },
    {
     "name": "stderr",
     "output_type": "stream",
     "text": [
      "Epoch 185/300: 100%|████████████████████████████████| 7/7 [00:05<00:00,  1.28it/s]\n"
     ]
    },
    {
     "name": "stdout",
     "output_type": "stream",
     "text": [
      "Epoch 185/300 - Avg Loss: 0.6798\n"
     ]
    },
    {
     "name": "stderr",
     "output_type": "stream",
     "text": [
      "Epoch 186/300: 100%|████████████████████████████████| 7/7 [00:05<00:00,  1.30it/s]\n"
     ]
    },
    {
     "name": "stdout",
     "output_type": "stream",
     "text": [
      "Epoch 186/300 - Avg Loss: 0.6778\n"
     ]
    },
    {
     "name": "stderr",
     "output_type": "stream",
     "text": [
      "Epoch 187/300: 100%|████████████████████████████████| 7/7 [00:05<00:00,  1.32it/s]\n"
     ]
    },
    {
     "name": "stdout",
     "output_type": "stream",
     "text": [
      "Epoch 187/300 - Avg Loss: 0.6820\n"
     ]
    },
    {
     "name": "stderr",
     "output_type": "stream",
     "text": [
      "Epoch 188/300: 100%|████████████████████████████████| 7/7 [00:05<00:00,  1.34it/s]\n"
     ]
    },
    {
     "name": "stdout",
     "output_type": "stream",
     "text": [
      "Epoch 188/300 - Avg Loss: 0.6764\n"
     ]
    },
    {
     "name": "stderr",
     "output_type": "stream",
     "text": [
      "Epoch 189/300: 100%|████████████████████████████████| 7/7 [00:05<00:00,  1.32it/s]\n"
     ]
    },
    {
     "name": "stdout",
     "output_type": "stream",
     "text": [
      "Epoch 189/300 - Avg Loss: 0.6781\n"
     ]
    },
    {
     "name": "stderr",
     "output_type": "stream",
     "text": [
      "Epoch 190/300: 100%|████████████████████████████████| 7/7 [00:05<00:00,  1.32it/s]\n"
     ]
    },
    {
     "name": "stdout",
     "output_type": "stream",
     "text": [
      "Epoch 190/300 - Avg Loss: 0.6739\n"
     ]
    },
    {
     "name": "stderr",
     "output_type": "stream",
     "text": [
      "Epoch 191/300: 100%|████████████████████████████████| 7/7 [00:05<00:00,  1.35it/s]\n"
     ]
    },
    {
     "name": "stdout",
     "output_type": "stream",
     "text": [
      "Epoch 191/300 - Avg Loss: 0.6706\n"
     ]
    },
    {
     "name": "stderr",
     "output_type": "stream",
     "text": [
      "Epoch 192/300: 100%|████████████████████████████████| 7/7 [00:05<00:00,  1.28it/s]\n"
     ]
    },
    {
     "name": "stdout",
     "output_type": "stream",
     "text": [
      "Epoch 192/300 - Avg Loss: 0.6768\n"
     ]
    },
    {
     "name": "stderr",
     "output_type": "stream",
     "text": [
      "Epoch 193/300: 100%|████████████████████████████████| 7/7 [00:05<00:00,  1.27it/s]\n"
     ]
    },
    {
     "name": "stdout",
     "output_type": "stream",
     "text": [
      "Epoch 193/300 - Avg Loss: 0.6734\n"
     ]
    },
    {
     "name": "stderr",
     "output_type": "stream",
     "text": [
      "Epoch 194/300: 100%|████████████████████████████████| 7/7 [00:05<00:00,  1.35it/s]\n"
     ]
    },
    {
     "name": "stdout",
     "output_type": "stream",
     "text": [
      "Epoch 194/300 - Avg Loss: 0.6719\n"
     ]
    },
    {
     "name": "stderr",
     "output_type": "stream",
     "text": [
      "Epoch 195/300: 100%|████████████████████████████████| 7/7 [00:05<00:00,  1.25it/s]\n"
     ]
    },
    {
     "name": "stdout",
     "output_type": "stream",
     "text": [
      "Epoch 195/300 - Avg Loss: 0.6733\n"
     ]
    },
    {
     "name": "stderr",
     "output_type": "stream",
     "text": [
      "Epoch 196/300: 100%|████████████████████████████████| 7/7 [00:05<00:00,  1.31it/s]\n"
     ]
    },
    {
     "name": "stdout",
     "output_type": "stream",
     "text": [
      "Epoch 196/300 - Avg Loss: 0.6715\n"
     ]
    },
    {
     "name": "stderr",
     "output_type": "stream",
     "text": [
      "Epoch 197/300: 100%|████████████████████████████████| 7/7 [00:05<00:00,  1.27it/s]\n"
     ]
    },
    {
     "name": "stdout",
     "output_type": "stream",
     "text": [
      "Epoch 197/300 - Avg Loss: 0.6681\n"
     ]
    },
    {
     "name": "stderr",
     "output_type": "stream",
     "text": [
      "Epoch 198/300: 100%|████████████████████████████████| 7/7 [00:05<00:00,  1.33it/s]\n"
     ]
    },
    {
     "name": "stdout",
     "output_type": "stream",
     "text": [
      "Epoch 198/300 - Avg Loss: 0.6710\n"
     ]
    },
    {
     "name": "stderr",
     "output_type": "stream",
     "text": [
      "Epoch 199/300: 100%|████████████████████████████████| 7/7 [00:05<00:00,  1.32it/s]\n"
     ]
    },
    {
     "name": "stdout",
     "output_type": "stream",
     "text": [
      "Epoch 199/300 - Avg Loss: 0.6704\n"
     ]
    },
    {
     "name": "stderr",
     "output_type": "stream",
     "text": [
      "Epoch 200/300: 100%|████████████████████████████████| 7/7 [00:05<00:00,  1.25it/s]\n"
     ]
    },
    {
     "name": "stdout",
     "output_type": "stream",
     "text": [
      "Epoch 200/300 - Avg Loss: 0.6685\n"
     ]
    },
    {
     "name": "stderr",
     "output_type": "stream",
     "text": [
      "Epoch 201/300: 100%|████████████████████████████████| 7/7 [00:05<00:00,  1.30it/s]\n"
     ]
    },
    {
     "name": "stdout",
     "output_type": "stream",
     "text": [
      "Epoch 201/300 - Avg Loss: 0.6730\n"
     ]
    },
    {
     "name": "stderr",
     "output_type": "stream",
     "text": [
      "Epoch 202/300: 100%|████████████████████████████████| 7/7 [00:05<00:00,  1.33it/s]\n"
     ]
    },
    {
     "name": "stdout",
     "output_type": "stream",
     "text": [
      "Epoch 202/300 - Avg Loss: 0.6703\n"
     ]
    },
    {
     "name": "stderr",
     "output_type": "stream",
     "text": [
      "Epoch 203/300: 100%|████████████████████████████████| 7/7 [00:05<00:00,  1.23it/s]\n"
     ]
    },
    {
     "name": "stdout",
     "output_type": "stream",
     "text": [
      "Epoch 203/300 - Avg Loss: 0.6737\n"
     ]
    },
    {
     "name": "stderr",
     "output_type": "stream",
     "text": [
      "Epoch 204/300: 100%|████████████████████████████████| 7/7 [00:05<00:00,  1.37it/s]\n"
     ]
    },
    {
     "name": "stdout",
     "output_type": "stream",
     "text": [
      "Epoch 204/300 - Avg Loss: 0.6650\n"
     ]
    },
    {
     "name": "stderr",
     "output_type": "stream",
     "text": [
      "Epoch 205/300: 100%|████████████████████████████████| 7/7 [00:05<00:00,  1.37it/s]\n"
     ]
    },
    {
     "name": "stdout",
     "output_type": "stream",
     "text": [
      "Epoch 205/300 - Avg Loss: 0.6681\n"
     ]
    },
    {
     "name": "stderr",
     "output_type": "stream",
     "text": [
      "Epoch 206/300: 100%|████████████████████████████████| 7/7 [00:05<00:00,  1.27it/s]\n"
     ]
    },
    {
     "name": "stdout",
     "output_type": "stream",
     "text": [
      "Epoch 206/300 - Avg Loss: 0.6725\n"
     ]
    },
    {
     "name": "stderr",
     "output_type": "stream",
     "text": [
      "Epoch 207/300: 100%|████████████████████████████████| 7/7 [00:05<00:00,  1.29it/s]\n"
     ]
    },
    {
     "name": "stdout",
     "output_type": "stream",
     "text": [
      "Epoch 207/300 - Avg Loss: 0.6683\n"
     ]
    },
    {
     "name": "stderr",
     "output_type": "stream",
     "text": [
      "Epoch 208/300: 100%|████████████████████████████████| 7/7 [00:05<00:00,  1.31it/s]\n"
     ]
    },
    {
     "name": "stdout",
     "output_type": "stream",
     "text": [
      "Epoch 208/300 - Avg Loss: 0.6609\n"
     ]
    },
    {
     "name": "stderr",
     "output_type": "stream",
     "text": [
      "Epoch 209/300: 100%|████████████████████████████████| 7/7 [00:05<00:00,  1.21it/s]\n"
     ]
    },
    {
     "name": "stdout",
     "output_type": "stream",
     "text": [
      "Epoch 209/300 - Avg Loss: 0.6675\n"
     ]
    },
    {
     "name": "stderr",
     "output_type": "stream",
     "text": [
      "Epoch 210/300: 100%|████████████████████████████████| 7/7 [00:05<00:00,  1.28it/s]\n"
     ]
    },
    {
     "name": "stdout",
     "output_type": "stream",
     "text": [
      "Epoch 210/300 - Avg Loss: 0.6635\n"
     ]
    },
    {
     "name": "stderr",
     "output_type": "stream",
     "text": [
      "Epoch 211/300: 100%|████████████████████████████████| 7/7 [00:05<00:00,  1.30it/s]\n"
     ]
    },
    {
     "name": "stdout",
     "output_type": "stream",
     "text": [
      "Epoch 211/300 - Avg Loss: 0.6717\n"
     ]
    },
    {
     "name": "stderr",
     "output_type": "stream",
     "text": [
      "Epoch 212/300: 100%|████████████████████████████████| 7/7 [00:05<00:00,  1.30it/s]\n"
     ]
    },
    {
     "name": "stdout",
     "output_type": "stream",
     "text": [
      "Epoch 212/300 - Avg Loss: 0.6614\n"
     ]
    },
    {
     "name": "stderr",
     "output_type": "stream",
     "text": [
      "Epoch 213/300: 100%|████████████████████████████████| 7/7 [00:05<00:00,  1.24it/s]\n"
     ]
    },
    {
     "name": "stdout",
     "output_type": "stream",
     "text": [
      "Epoch 213/300 - Avg Loss: 0.6671\n"
     ]
    },
    {
     "name": "stderr",
     "output_type": "stream",
     "text": [
      "Epoch 214/300: 100%|████████████████████████████████| 7/7 [00:05<00:00,  1.27it/s]\n"
     ]
    },
    {
     "name": "stdout",
     "output_type": "stream",
     "text": [
      "Epoch 214/300 - Avg Loss: 0.6618\n"
     ]
    },
    {
     "name": "stderr",
     "output_type": "stream",
     "text": [
      "Epoch 215/300: 100%|████████████████████████████████| 7/7 [00:05<00:00,  1.28it/s]\n"
     ]
    },
    {
     "name": "stdout",
     "output_type": "stream",
     "text": [
      "Epoch 215/300 - Avg Loss: 0.6705\n"
     ]
    },
    {
     "name": "stderr",
     "output_type": "stream",
     "text": [
      "Epoch 216/300: 100%|████████████████████████████████| 7/7 [00:05<00:00,  1.32it/s]\n"
     ]
    },
    {
     "name": "stdout",
     "output_type": "stream",
     "text": [
      "Epoch 216/300 - Avg Loss: 0.6660\n"
     ]
    },
    {
     "name": "stderr",
     "output_type": "stream",
     "text": [
      "Epoch 217/300: 100%|████████████████████████████████| 7/7 [00:05<00:00,  1.28it/s]\n"
     ]
    },
    {
     "name": "stdout",
     "output_type": "stream",
     "text": [
      "Epoch 217/300 - Avg Loss: 0.6626\n"
     ]
    },
    {
     "name": "stderr",
     "output_type": "stream",
     "text": [
      "Epoch 218/300: 100%|████████████████████████████████| 7/7 [00:05<00:00,  1.31it/s]\n"
     ]
    },
    {
     "name": "stdout",
     "output_type": "stream",
     "text": [
      "Epoch 218/300 - Avg Loss: 0.6607\n"
     ]
    },
    {
     "name": "stderr",
     "output_type": "stream",
     "text": [
      "Epoch 219/300: 100%|████████████████████████████████| 7/7 [00:05<00:00,  1.35it/s]\n"
     ]
    },
    {
     "name": "stdout",
     "output_type": "stream",
     "text": [
      "Epoch 219/300 - Avg Loss: 0.6654\n"
     ]
    },
    {
     "name": "stderr",
     "output_type": "stream",
     "text": [
      "Epoch 220/300: 100%|████████████████████████████████| 7/7 [00:05<00:00,  1.21it/s]\n"
     ]
    },
    {
     "name": "stdout",
     "output_type": "stream",
     "text": [
      "Epoch 220/300 - Avg Loss: 0.6678\n"
     ]
    },
    {
     "name": "stderr",
     "output_type": "stream",
     "text": [
      "Epoch 221/300: 100%|████████████████████████████████| 7/7 [00:05<00:00,  1.32it/s]\n"
     ]
    },
    {
     "name": "stdout",
     "output_type": "stream",
     "text": [
      "Epoch 221/300 - Avg Loss: 0.6666\n"
     ]
    },
    {
     "name": "stderr",
     "output_type": "stream",
     "text": [
      "Epoch 222/300: 100%|████████████████████████████████| 7/7 [00:05<00:00,  1.30it/s]\n"
     ]
    },
    {
     "name": "stdout",
     "output_type": "stream",
     "text": [
      "Epoch 222/300 - Avg Loss: 0.6669\n"
     ]
    },
    {
     "name": "stderr",
     "output_type": "stream",
     "text": [
      "Epoch 223/300: 100%|████████████████████████████████| 7/7 [00:05<00:00,  1.34it/s]\n"
     ]
    },
    {
     "name": "stdout",
     "output_type": "stream",
     "text": [
      "Epoch 223/300 - Avg Loss: 0.6604\n"
     ]
    },
    {
     "name": "stderr",
     "output_type": "stream",
     "text": [
      "Epoch 224/300: 100%|████████████████████████████████| 7/7 [00:05<00:00,  1.33it/s]\n"
     ]
    },
    {
     "name": "stdout",
     "output_type": "stream",
     "text": [
      "Epoch 224/300 - Avg Loss: 0.6652\n"
     ]
    },
    {
     "name": "stderr",
     "output_type": "stream",
     "text": [
      "Epoch 225/300: 100%|████████████████████████████████| 7/7 [00:05<00:00,  1.36it/s]\n"
     ]
    },
    {
     "name": "stdout",
     "output_type": "stream",
     "text": [
      "Epoch 225/300 - Avg Loss: 0.6609\n"
     ]
    },
    {
     "name": "stderr",
     "output_type": "stream",
     "text": [
      "Epoch 226/300: 100%|████████████████████████████████| 7/7 [00:05<00:00,  1.29it/s]\n"
     ]
    },
    {
     "name": "stdout",
     "output_type": "stream",
     "text": [
      "Epoch 226/300 - Avg Loss: 0.6596\n"
     ]
    },
    {
     "name": "stderr",
     "output_type": "stream",
     "text": [
      "Epoch 227/300: 100%|████████████████████████████████| 7/7 [00:05<00:00,  1.31it/s]\n"
     ]
    },
    {
     "name": "stdout",
     "output_type": "stream",
     "text": [
      "Epoch 227/300 - Avg Loss: 0.6609\n"
     ]
    },
    {
     "name": "stderr",
     "output_type": "stream",
     "text": [
      "Epoch 228/300: 100%|████████████████████████████████| 7/7 [00:05<00:00,  1.27it/s]\n"
     ]
    },
    {
     "name": "stdout",
     "output_type": "stream",
     "text": [
      "Epoch 228/300 - Avg Loss: 0.6702\n"
     ]
    },
    {
     "name": "stderr",
     "output_type": "stream",
     "text": [
      "Epoch 229/300: 100%|████████████████████████████████| 7/7 [00:05<00:00,  1.33it/s]\n"
     ]
    },
    {
     "name": "stdout",
     "output_type": "stream",
     "text": [
      "Epoch 229/300 - Avg Loss: 0.6574\n"
     ]
    },
    {
     "name": "stderr",
     "output_type": "stream",
     "text": [
      "Epoch 230/300: 100%|████████████████████████████████| 7/7 [00:05<00:00,  1.33it/s]\n"
     ]
    },
    {
     "name": "stdout",
     "output_type": "stream",
     "text": [
      "Epoch 230/300 - Avg Loss: 0.6600\n"
     ]
    },
    {
     "name": "stderr",
     "output_type": "stream",
     "text": [
      "Epoch 231/300: 100%|████████████████████████████████| 7/7 [00:05<00:00,  1.32it/s]\n"
     ]
    },
    {
     "name": "stdout",
     "output_type": "stream",
     "text": [
      "Epoch 231/300 - Avg Loss: 0.6661\n"
     ]
    },
    {
     "name": "stderr",
     "output_type": "stream",
     "text": [
      "Epoch 232/300: 100%|████████████████████████████████| 7/7 [00:05<00:00,  1.30it/s]\n"
     ]
    },
    {
     "name": "stdout",
     "output_type": "stream",
     "text": [
      "Epoch 232/300 - Avg Loss: 0.6624\n"
     ]
    },
    {
     "name": "stderr",
     "output_type": "stream",
     "text": [
      "Epoch 233/300: 100%|████████████████████████████████| 7/7 [00:05<00:00,  1.29it/s]\n"
     ]
    },
    {
     "name": "stdout",
     "output_type": "stream",
     "text": [
      "Epoch 233/300 - Avg Loss: 0.6513\n"
     ]
    },
    {
     "name": "stderr",
     "output_type": "stream",
     "text": [
      "Epoch 234/300: 100%|████████████████████████████████| 7/7 [00:05<00:00,  1.30it/s]\n"
     ]
    },
    {
     "name": "stdout",
     "output_type": "stream",
     "text": [
      "Epoch 234/300 - Avg Loss: 0.6593\n"
     ]
    },
    {
     "name": "stderr",
     "output_type": "stream",
     "text": [
      "Epoch 235/300: 100%|████████████████████████████████| 7/7 [00:05<00:00,  1.29it/s]\n"
     ]
    },
    {
     "name": "stdout",
     "output_type": "stream",
     "text": [
      "Epoch 235/300 - Avg Loss: 0.6567\n"
     ]
    },
    {
     "name": "stderr",
     "output_type": "stream",
     "text": [
      "Epoch 236/300: 100%|████████████████████████████████| 7/7 [00:05<00:00,  1.32it/s]\n"
     ]
    },
    {
     "name": "stdout",
     "output_type": "stream",
     "text": [
      "Epoch 236/300 - Avg Loss: 0.6579\n"
     ]
    },
    {
     "name": "stderr",
     "output_type": "stream",
     "text": [
      "Epoch 237/300: 100%|████████████████████████████████| 7/7 [00:05<00:00,  1.30it/s]\n"
     ]
    },
    {
     "name": "stdout",
     "output_type": "stream",
     "text": [
      "Epoch 237/300 - Avg Loss: 0.6572\n"
     ]
    },
    {
     "name": "stderr",
     "output_type": "stream",
     "text": [
      "Epoch 238/300: 100%|████████████████████████████████| 7/7 [00:05<00:00,  1.27it/s]\n"
     ]
    },
    {
     "name": "stdout",
     "output_type": "stream",
     "text": [
      "Epoch 238/300 - Avg Loss: 0.6541\n"
     ]
    },
    {
     "name": "stderr",
     "output_type": "stream",
     "text": [
      "Epoch 239/300: 100%|████████████████████████████████| 7/7 [00:05<00:00,  1.26it/s]\n"
     ]
    },
    {
     "name": "stdout",
     "output_type": "stream",
     "text": [
      "Epoch 239/300 - Avg Loss: 0.6606\n"
     ]
    },
    {
     "name": "stderr",
     "output_type": "stream",
     "text": [
      "Epoch 240/300: 100%|████████████████████████████████| 7/7 [00:05<00:00,  1.33it/s]\n"
     ]
    },
    {
     "name": "stdout",
     "output_type": "stream",
     "text": [
      "Epoch 240/300 - Avg Loss: 0.6550\n"
     ]
    },
    {
     "name": "stderr",
     "output_type": "stream",
     "text": [
      "Epoch 241/300: 100%|████████████████████████████████| 7/7 [00:05<00:00,  1.31it/s]\n"
     ]
    },
    {
     "name": "stdout",
     "output_type": "stream",
     "text": [
      "Epoch 241/300 - Avg Loss: 0.6542\n"
     ]
    },
    {
     "name": "stderr",
     "output_type": "stream",
     "text": [
      "Epoch 242/300: 100%|████████████████████████████████| 7/7 [00:05<00:00,  1.26it/s]\n"
     ]
    },
    {
     "name": "stdout",
     "output_type": "stream",
     "text": [
      "Epoch 242/300 - Avg Loss: 0.6567\n"
     ]
    },
    {
     "name": "stderr",
     "output_type": "stream",
     "text": [
      "Epoch 243/300: 100%|████████████████████████████████| 7/7 [00:05<00:00,  1.33it/s]\n"
     ]
    },
    {
     "name": "stdout",
     "output_type": "stream",
     "text": [
      "Epoch 243/300 - Avg Loss: 0.6617\n"
     ]
    },
    {
     "name": "stderr",
     "output_type": "stream",
     "text": [
      "Epoch 244/300: 100%|████████████████████████████████| 7/7 [00:05<00:00,  1.36it/s]\n"
     ]
    },
    {
     "name": "stdout",
     "output_type": "stream",
     "text": [
      "Epoch 244/300 - Avg Loss: 0.6533\n"
     ]
    },
    {
     "name": "stderr",
     "output_type": "stream",
     "text": [
      "Epoch 245/300: 100%|████████████████████████████████| 7/7 [00:05<00:00,  1.31it/s]\n"
     ]
    },
    {
     "name": "stdout",
     "output_type": "stream",
     "text": [
      "Epoch 245/300 - Avg Loss: 0.6562\n"
     ]
    },
    {
     "name": "stderr",
     "output_type": "stream",
     "text": [
      "Epoch 246/300: 100%|████████████████████████████████| 7/7 [00:05<00:00,  1.20it/s]\n"
     ]
    },
    {
     "name": "stdout",
     "output_type": "stream",
     "text": [
      "Epoch 246/300 - Avg Loss: 0.6601\n"
     ]
    },
    {
     "name": "stderr",
     "output_type": "stream",
     "text": [
      "Epoch 247/300: 100%|████████████████████████████████| 7/7 [00:05<00:00,  1.26it/s]\n"
     ]
    },
    {
     "name": "stdout",
     "output_type": "stream",
     "text": [
      "Epoch 247/300 - Avg Loss: 0.6549\n"
     ]
    },
    {
     "name": "stderr",
     "output_type": "stream",
     "text": [
      "Epoch 248/300: 100%|████████████████████████████████| 7/7 [00:05<00:00,  1.33it/s]"
     ]
    },
    {
     "name": "stdout",
     "output_type": "stream",
     "text": [
      "Epoch 248/300 - Avg Loss: 0.6553\n",
      "Early stopping after 248 epochs\n"
     ]
    },
    {
     "name": "stderr",
     "output_type": "stream",
     "text": [
      "\n"
     ]
    }
   ],
   "source": [
    "train_dataset = MobiActDataset(train_data)\n",
    "train_loader = DataLoader(train_dataset, batch_size=BATCH_SIZE)\n",
    "\n",
    "model = EnhancedUNet1D().to(device)\n",
    "ddpm = DDPM(num_timesteps=1000)\n",
    "\n",
    "optimizer, scheduler = setup_training(model, EPOCHS)\n",
    "\n",
    "train_ddpm(\n",
    "    model=model,\n",
    "    train_loader=train_loader,\n",
    "    ddpm=ddpm,\n",
    "    optimizer=optimizer,\n",
    "    num_epochs=EPOCHS,\n",
    "    device=device,\n",
    "    scheduler=scheduler\n",
    ")"
   ]
  },
  {
   "cell_type": "markdown",
   "id": "7c33f079",
   "metadata": {},
   "source": [
    "---"
   ]
  },
  {
   "cell_type": "code",
   "execution_count": 23,
   "id": "e8f53294",
   "metadata": {
    "ExecuteTime": {
     "end_time": "2025-02-18T15:30:14.493149Z",
     "start_time": "2025-02-18T15:30:14.483738Z"
    }
   },
   "outputs": [],
   "source": [
    "def detect_anomalies(model, ddpm, data_loader, device, threshold=None):\n",
    "    model.eval()\n",
    "    anomaly_scores = []\n",
    "\n",
    "    with torch.no_grad():\n",
    "        for batch in data_loader:\n",
    "            x_0 = batch.to(device)\n",
    "            batch_size = x_0.shape[0]\n",
    "\n",
    "            t = ddpm.sample_t(batch_size).to(device)\n",
    "\n",
    "            x_t, epsilon = ddpm.q_sample(x_0, t)\n",
    "\n",
    "            epsilon_theta = model(x_t, t)\n",
    "\n",
    "            # MSE Loss (Anomaly Score)\n",
    "            loss = F.mse_loss(epsilon_theta, epsilon, reduction='none')\n",
    "            loss = loss.mean(dim=(1, 2)) \n",
    "            anomaly_scores.extend(loss.cpu().numpy())  \n",
    "\n",
    "    if threshold is None:\n",
    "        threshold = np.percentile(anomaly_scores, 95)\n",
    "\n",
    "    anomalies = [score > threshold for score in anomaly_scores]\n",
    "\n",
    "    return anomalies, anomaly_scores, threshold\n"
   ]
  },
  {
   "cell_type": "code",
   "execution_count": 24,
   "id": "176f352d",
   "metadata": {
    "ExecuteTime": {
     "end_time": "2025-02-18T15:30:14.505822Z",
     "start_time": "2025-02-18T15:30:14.499262Z"
    }
   },
   "outputs": [],
   "source": [
    "normal_dataset = MobiActDataset(test_adl_data)\n",
    "normal_loader = DataLoader(normal_dataset, batch_size=BATCH_SIZE)\n",
    "\n",
    "abnormal_dataset = MobiActDataset(test_fall_data)\n",
    "abnormal_loader = DataLoader(abnormal_dataset, batch_size=BATCH_SIZE)"
   ]
  },
  {
   "cell_type": "code",
   "execution_count": 25,
   "id": "00f51252",
   "metadata": {
    "ExecuteTime": {
     "end_time": "2025-02-18T15:30:15.963583Z",
     "start_time": "2025-02-18T15:30:14.508692Z"
    }
   },
   "outputs": [
    {
     "data": {
      "image/png": "[encoded data removed]",
      "text/plain": [
       "<Figure size 1600x900 with 1 Axes>"
      ]
     },
     "metadata": {},
     "output_type": "display_data"
    }
   ],
   "source": [
    "train_dataset = MobiActDataset(train_data)\n",
    "train_loader = DataLoader(train_dataset, batch_size=BATCH_SIZE)\n",
    "\n",
    "train_anomalies, train_scores, _ = detect_anomalies(model, ddpm, train_loader, device)\n",
    "\n",
    "plt.figure(figsize=(16,9))\n",
    "plt.title('Loss Distribution of TRAIN ADL Data (NORMAL)', fontsize=16)\n",
    "sns.histplot(train_scores, bins=20, kde=True, color='green')\n",
    "plt.show()"
   ]
  },
  {
   "cell_type": "code",
   "execution_count": 26,
   "id": "b220970b",
   "metadata": {
    "ExecuteTime": {
     "end_time": "2025-02-18T15:30:16.623330Z",
     "start_time": "2025-02-18T15:30:15.965567Z"
    }
   },
   "outputs": [
    {
     "data": {
      "image/png": "[encoded data removed]",
      "text/plain": [
       "<Figure size 1600x900 with 1 Axes>"
      ]
     },
     "metadata": {},
     "output_type": "display_data"
    }
   ],
   "source": [
    "normal_anomalies, normal_scores, _ = detect_anomalies(model, ddpm, normal_loader, device)\n",
    "\n",
    "plt.figure(figsize=(16,9))\n",
    "plt.title('Loss Distribution of TEST ADL Data (NORMAL)', fontsize=16)\n",
    "sns.histplot(normal_scores, bins=20, kde=True, color='blue')\n",
    "plt.show()"
   ]
  },
  {
   "cell_type": "code",
   "execution_count": 27,
   "id": "6e15581e",
   "metadata": {
    "ExecuteTime": {
     "end_time": "2025-02-18T15:30:17.102451Z",
     "start_time": "2025-02-18T15:30:16.633197Z"
    }
   },
   "outputs": [
    {
     "data": {
      "image/png": "[encoded data removed]",
      "text/plain": [
       "<Figure size 1600x900 with 1 Axes>"
      ]
     },
     "metadata": {},
     "output_type": "display_data"
    }
   ],
   "source": [
    "abnormal_anomalies, abnormal_scores, _ = detect_anomalies(model, ddpm, abnormal_loader, device)\n",
    "\n",
    "plt.figure(figsize=(16,9))\n",
    "plt.title('Loss Distribution of TEST FALL Data (ABNORMAL)', fontsize=16)\n",
    "sns.histplot(abnormal_scores, bins=20, kde=True, color='red')\n",
    "plt.show()"
   ]
  },
  {
   "cell_type": "code",
   "execution_count": 28,
   "id": "af0d0056",
   "metadata": {
    "ExecuteTime": {
     "end_time": "2025-02-18T15:30:17.389012Z",
     "start_time": "2025-02-18T15:30:17.104467Z"
    }
   },
   "outputs": [
    {
     "data": {
      "image/png": "[encoded data removed]",
      "text/plain": [
       "<Figure size 1000x600 with 1 Axes>"
      ]
     },
     "metadata": {},
     "output_type": "display_data"
    }
   ],
   "source": [
    "plt.figure(figsize=(10,6))\n",
    "plt.title('MSE Distribution Comparison')\n",
    "plt.hist(normal_scores, bins=50, alpha=0.5, color='blue', label='Normal')\n",
    "plt.hist(abnormal_scores, bins=50, alpha=0.5, color='red', label='Abnormal')\n",
    "plt.xlabel('Anomaly Score (MSE)')\n",
    "plt.ylabel('Count')\n",
    "plt.legend()\n",
    "plt.show()"
   ]
  },
  {
   "cell_type": "code",
   "execution_count": 29,
   "id": "b449ec1c",
   "metadata": {
    "ExecuteTime": {
     "end_time": "2025-02-18T15:30:17.405246Z",
     "start_time": "2025-02-18T15:30:17.391106Z"
    }
   },
   "outputs": [
    {
     "name": "stdout",
     "output_type": "stream",
     "text": [
      "error dataframe head : \n",
      "   reconstruction_error  true_class\n",
      "0              0.618080         0.0\n",
      "1              0.629864         0.0\n",
      "2              0.592866         0.0\n",
      "3              0.583013         0.0\n",
      "4              0.471299         0.0\n",
      "5              0.446502         0.0\n",
      "6              0.458430         0.0\n",
      "7              0.454604         0.0\n",
      "8              0.478976         0.0\n",
      "9              0.468516         0.0\n",
      "\n",
      "error dataframe tail : \n",
      "     reconstruction_error  true_class\n",
      "224              0.952729         1.0\n",
      "225              0.482233         1.0\n",
      "226              0.520363         1.0\n",
      "227              0.493423         1.0\n",
      "228              0.495952         1.0\n",
      "229              0.470333         1.0\n",
      "230              0.573989         1.0\n",
      "231              0.488854         1.0\n",
      "232              0.480511         1.0\n",
      "233              0.655523         1.0\n",
      "\n",
      "       reconstruction_error  true_class\n",
      "count            234.000000  234.000000\n",
      "mean               0.564082    0.286325\n",
      "std                0.162056    0.453012\n",
      "min                0.422115    0.000000\n",
      "25%                0.467918    0.000000\n",
      "50%                0.489692    0.000000\n",
      "75%                0.598006    1.000000\n",
      "max                1.077218    1.000000\n",
      "\n"
     ]
    },
    {
     "data": {
      "text/plain": [
       "true_class\n",
       "0.0    167\n",
       "1.0     67\n",
       "Name: count, dtype: int64"
      ]
     },
     "execution_count": 29,
     "metadata": {},
     "output_type": "execute_result"
    }
   ],
   "source": [
    "error_df = pd.DataFrame({\n",
    "    'reconstruction_error': np.concatenate([normal_scores, abnormal_scores]),\n",
    "    'true_class': np.concatenate([np.zeros(len(normal_scores)), np.ones(len(abnormal_scores))])\n",
    "})\n",
    "\n",
    "print (\"error dataframe head : \")\n",
    "print(error_df.head(10))\n",
    "print ()\n",
    "print (\"error dataframe tail : \")\n",
    "print(error_df.tail(10))\n",
    "print ()\n",
    "print(error_df.describe())\n",
    "print ()\n",
    "error_df['true_class'].value_counts()"
   ]
  },
  {
   "cell_type": "code",
   "execution_count": 30,
   "id": "11b238bf",
   "metadata": {
    "ExecuteTime": {
     "end_time": "2025-02-18T15:30:17.550487Z",
     "start_time": "2025-02-18T15:30:17.407026Z"
    }
   },
   "outputs": [
    {
     "data": {
      "image/png": "[encoded data removed]",
      "text/plain": [
       "<Figure size 1000x600 with 1 Axes>"
      ]
     },
     "metadata": {},
     "output_type": "display_data"
    }
   ],
   "source": [
    "plt.figure(figsize=(10, 6))\n",
    "sns.boxplot(x='true_class', y='reconstruction_error', data=error_df, showfliers=False)\n",
    "plt.ylabel('Reconstruction Error Distribution')\n",
    "plt.xlabel('Class (0: Normal, 1: Abnormal)')\n",
    "plt.show()"
   ]
  },
  {
   "cell_type": "code",
   "execution_count": 35,
   "id": "0f34387f",
   "metadata": {
    "ExecuteTime": {
     "end_time": "2025-02-18T15:36:14.875150Z",
     "start_time": "2025-02-18T15:36:14.872585Z"
    }
   },
   "outputs": [],
   "source": [
    "# threshold = np.percentile(normal_scores, 90)\n",
    "threshold = 0.5"
   ]
  },
  {
   "cell_type": "code",
   "execution_count": 36,
   "id": "0d580ef8",
   "metadata": {
    "ExecuteTime": {
     "end_time": "2025-02-18T15:36:15.314265Z",
     "start_time": "2025-02-18T15:36:15.157336Z"
    }
   },
   "outputs": [
    {
     "data": {
      "image/png": "[encoded data removed]",
      "text/plain": [
       "<Figure size 640x480 with 1 Axes>"
      ]
     },
     "metadata": {},
     "output_type": "display_data"
    }
   ],
   "source": [
    "groups = error_df.groupby('true_class')\n",
    "fig, ax = plt.subplots()\n",
    "\n",
    "for name, group in groups:\n",
    "    ax.plot(group.index, group.reconstruction_error, marker='^', ms=3.5, linestyle='',\n",
    "            label=\"Normal\" if name == 0 else \"Fall\")\n",
    "ax.hlines(threshold, ax.get_xlim()[0], ax.get_xlim()[1], colors=\"r\", zorder=100, label='Threshold')\n",
    "ax.legend()\n",
    "plt.title(\"Reconstruction Error by Class\")\n",
    "plt.ylabel(\"Reconstruction Error\")\n",
    "plt.xlabel(\"Data Point Index\")\n",
    "plt.show()"
   ]
  },
  {
   "cell_type": "code",
   "execution_count": 37,
   "id": "20f22a54",
   "metadata": {
    "ExecuteTime": {
     "end_time": "2025-02-18T15:36:16.633816Z",
     "start_time": "2025-02-18T15:36:16.478555Z"
    }
   },
   "outputs": [
    {
     "data": {
      "image/png": "[encoded data removed]",
      "text/plain": [
       "<Figure size 700x700 with 2 Axes>"
      ]
     },
     "metadata": {},
     "output_type": "display_data"
    }
   ],
   "source": [
    "LABELS = [\"Normal\", \"Abnormal\"]\n",
    "y_pred = [1 if e > threshold else 0 for e in error_df.reconstruction_error.values]\n",
    "conf_matrix = confusion_matrix(error_df.true_class, y_pred)\n",
    "\n",
    "plt.figure(figsize=(7, 7))\n",
    "sns.heatmap(conf_matrix, xticklabels=LABELS, yticklabels=LABELS, annot=True, fmt=\"d\")\n",
    "plt.title(\"Confusion Matrix\")\n",
    "plt.ylabel('True Class')\n",
    "plt.xlabel('Predicted Class')\n",
    "plt.show()"
   ]
  },
  {
   "cell_type": "code",
   "execution_count": 38,
   "id": "34bd60c0",
   "metadata": {
    "ExecuteTime": {
     "end_time": "2025-02-18T15:36:17.949092Z",
     "start_time": "2025-02-18T15:36:17.940260Z"
    }
   },
   "outputs": [
    {
     "name": "stdout",
     "output_type": "stream",
     "text": [
      "\n",
      "Performance Metrics:\n",
      "Accuracy Score : 0.5769\n",
      "Precision     : 0.3333\n",
      "Recall        : 0.4776\n",
      "F1 Score      : 0.3926\n"
     ]
    }
   ],
   "source": [
    "from sklearn.metrics import precision_recall_fscore_support\n",
    "\n",
    "precision, recall, f1, _ = precision_recall_fscore_support(error_df.true_class, y_pred, average='binary')\n",
    "accuracy = accuracy_score(error_df.true_class, y_pred)\n",
    "\n",
    "print('\\nPerformance Metrics:')\n",
    "print(f'Accuracy Score : {accuracy:.4f}')\n",
    "print(f'Precision     : {precision:.4f}')\n",
    "print(f'Recall        : {recall:.4f}')\n",
    "print(f'F1 Score      : {f1:.4f}')"
   ]
  },
  {
   "cell_type": "code",
   "execution_count": null,
   "id": "07c6bc45",
   "metadata": {},
   "outputs": [],
   "source": []
  }
 ],
 "metadata": {
  "kernelspec": {
   "display_name": "Python 3 (ipykernel)",
   "language": "python",
   "name": "python3"
  },
  "language_info": {
   "codemirror_mode": {
    "name": "ipython",
    "version": 3
   },
   "file_extension": ".py",
   "mimetype": "text/x-python",
   "name": "python",
   "nbconvert_exporter": "python",
   "pygments_lexer": "ipython3",
   "version": "3.11.3"
  },
  "varInspector": {
   "cols": {
    "lenName": 16,
    "lenType": 16,
    "lenVar": 40
   },
   "kernels_config": {
    "python": {
     "delete_cmd_postfix": "",
     "delete_cmd_prefix": "del ",
     "library": "var_list.py",
     "varRefreshCmd": "print(var_dic_list())"
    },
    "r": {
     "delete_cmd_postfix": ") ",
     "delete_cmd_prefix": "rm(",
     "library": "var_list.r",
     "varRefreshCmd": "cat(var_dic_list()) "
    }
   },
   "types_to_exclude": [
    "module",
    "function",
    "builtin_function_or_method",
    "instance",
    "_Feature"
   ],
   "window_display": false
  }
 },
 "nbformat": 4,
 "nbformat_minor": 5
}
