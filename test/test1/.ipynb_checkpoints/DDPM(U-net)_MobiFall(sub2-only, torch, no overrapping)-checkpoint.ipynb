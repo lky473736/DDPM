{
 "cells": [
  {
   "cell_type": "code",
   "execution_count": 1,
   "id": "efb963b7",
   "metadata": {
    "ExecuteTime": {
     "end_time": "2025-02-11T04:25:40.032623Z",
     "start_time": "2025-02-11T04:25:32.915718Z"
    }
   },
   "outputs": [
    {
     "name": "stderr",
     "output_type": "stream",
     "text": [
      "2025-02-11 13:25:34.664306: I tensorflow/core/platform/cpu_feature_guard.cc:210] This TensorFlow binary is optimized to use available CPU instructions in performance-critical operations.\n",
      "To enable the following instructions: AVX2 FMA, in other operations, rebuild TensorFlow with the appropriate compiler flags.\n"
     ]
    }
   ],
   "source": [
    "import tensorflow as tf\n",
    "import numpy as np\n",
    "from tensorflow.keras import layers, Model\n",
    "import matplotlib.pyplot as plt \n",
    "import seaborn as sns\n",
    "import os\n",
    "import glob\n",
    "import pandas as pd\n",
    "from tqdm import tqdm\n",
    "from sklearn.metrics import confusion_matrix, classification_report\n",
    "from sklearn.preprocessing import StandardScaler\n",
    "import math "
   ]
  },
  {
   "cell_type": "code",
   "execution_count": 2,
   "id": "7674eaf5",
   "metadata": {
    "ExecuteTime": {
     "end_time": "2025-02-11T04:25:41.650717Z",
     "start_time": "2025-02-11T04:25:40.035076Z"
    }
   },
   "outputs": [],
   "source": [
    "import torch\n",
    "import torch.nn as nn\n",
    "import torch.optim as optim\n",
    "import torch.nn.functional as F  \n",
    "import numpy as np\n",
    "import pandas as pd\n",
    "import matplotlib.pyplot as plt\n",
    "import seaborn as sns\n",
    "from torch.utils.data import Dataset, DataLoader\n",
    "from sklearn.metrics import confusion_matrix, classification_report\n",
    "from sklearn.metrics import accuracy_score, precision_score, recall_score, f1_score\n",
    "from tqdm import tqdm\n",
    "import os "
   ]
  },
  {
   "cell_type": "code",
   "execution_count": 3,
   "id": "e9bc4d56",
   "metadata": {
    "ExecuteTime": {
     "end_time": "2025-02-11T04:25:41.655264Z",
     "start_time": "2025-02-11T04:25:41.652687Z"
    }
   },
   "outputs": [],
   "source": [
    "WINDOW_LENGTH = 20  # data window\n",
    "BATCH_SIZE = 32  # batch"
   ]
  },
  {
   "cell_type": "code",
   "execution_count": 4,
   "id": "980f67f5",
   "metadata": {
    "ExecuteTime": {
     "end_time": "2025-02-11T04:25:41.694727Z",
     "start_time": "2025-02-11T04:25:41.659308Z"
    }
   },
   "outputs": [
    {
     "name": "stdout",
     "output_type": "stream",
     "text": [
      "total 32\n",
      "drwxr-xr-x  30 alphastation  staff   960B  1 18 13:28 \u001b[34m.\u001b[m\u001b[m\n",
      "drwxr-xr-x  16 alphastation  staff   512B  2  3 13:56 \u001b[34m..\u001b[m\u001b[m\n",
      "-rw-r--r--   1 alphastation  staff   6.0K  2 10 12:21 .DS_Store\n",
      "-rw-rw-r--@  1 alphastation  staff   5.0K  1 16 15:12 Readme.txt\n",
      "drwxr-xr-x   8 alphastation  staff   256B  1 16 19:41 \u001b[34msplits_Xclean\u001b[m\u001b[m\n",
      "drwxr-xr-x   8 alphastation  staff   256B  1 18 13:28 \u001b[34msplits_Xfall\u001b[m\u001b[m\n",
      "drwxr-xr-x   4 alphastation  staff   128B  2  3 10:16 \u001b[34msub1\u001b[m\u001b[m\n",
      "drwxr-xr-x   4 alphastation  staff   128B  1 16 15:12 \u001b[34msub10\u001b[m\u001b[m\n",
      "drwxr-xr-x   4 alphastation  staff   128B  1 16 15:12 \u001b[34msub11\u001b[m\u001b[m\n",
      "drwxr-xr-x   3 alphastation  staff    96B  1 16 15:12 \u001b[34msub12\u001b[m\u001b[m\n",
      "drwxr-xr-x   3 alphastation  staff    96B  1 16 15:12 \u001b[34msub13\u001b[m\u001b[m\n",
      "drwxr-xr-x   3 alphastation  staff    96B  1 16 15:12 \u001b[34msub14\u001b[m\u001b[m\n",
      "drwxr-xr-x   3 alphastation  staff    96B  1 16 15:12 \u001b[34msub15\u001b[m\u001b[m\n",
      "drwxr-xr-x   3 alphastation  staff    96B  1 16 15:12 \u001b[34msub16\u001b[m\u001b[m\n",
      "drwxr-xr-x   3 alphastation  staff    96B  1 16 15:12 \u001b[34msub17\u001b[m\u001b[m\n",
      "drwxr-xr-x   3 alphastation  staff    96B  1 16 15:12 \u001b[34msub18\u001b[m\u001b[m\n",
      "drwxr-xr-x   3 alphastation  staff    96B  1 16 15:12 \u001b[34msub19\u001b[m\u001b[m\n",
      "drwxr-xr-x   5 alphastation  staff   160B  2 10 12:21 \u001b[34msub2\u001b[m\u001b[m\n",
      "drwxr-xr-x   3 alphastation  staff    96B  1 16 15:12 \u001b[34msub20\u001b[m\u001b[m\n",
      "drwxr-xr-x   3 alphastation  staff    96B  1 16 15:12 \u001b[34msub21\u001b[m\u001b[m\n",
      "drwxr-xr-x   3 alphastation  staff    96B  1 16 15:12 \u001b[34msub29\u001b[m\u001b[m\n",
      "drwxr-xr-x   4 alphastation  staff   128B  1 16 15:12 \u001b[34msub3\u001b[m\u001b[m\n",
      "drwxr-xr-x   4 alphastation  staff   128B  1 16 15:12 \u001b[34msub30\u001b[m\u001b[m\n",
      "drwxr-xr-x   3 alphastation  staff    96B  1 16 15:12 \u001b[34msub31\u001b[m\u001b[m\n",
      "drwxr-xr-x   4 alphastation  staff   128B  1 16 15:12 \u001b[34msub4\u001b[m\u001b[m\n",
      "drwxr-xr-x   4 alphastation  staff   128B  1 16 15:12 \u001b[34msub5\u001b[m\u001b[m\n",
      "drwxr-xr-x   3 alphastation  staff    96B  1 16 15:12 \u001b[34msub6\u001b[m\u001b[m\n",
      "drwxr-xr-x   4 alphastation  staff   128B  1 16 15:12 \u001b[34msub7\u001b[m\u001b[m\n",
      "drwxr-xr-x   4 alphastation  staff   128B  1 16 15:12 \u001b[34msub8\u001b[m\u001b[m\n",
      "drwxr-xr-x   4 alphastation  staff   128B  1 16 15:12 \u001b[34msub9\u001b[m\u001b[m\n"
     ]
    },
    {
     "data": {
      "text/plain": [
       "0"
      ]
     },
     "execution_count": 4,
     "metadata": {},
     "output_type": "execute_result"
    }
   ],
   "source": [
    "datapath = \"../CAGE/data/MobiFall_Dataset/\" \n",
    "os.system('ls -lha ../CAGE/data/MobiFall_Dataset/')"
   ]
  },
  {
   "cell_type": "code",
   "execution_count": 5,
   "id": "19b514f5",
   "metadata": {
    "ExecuteTime": {
     "end_time": "2025-02-11T04:25:41.711572Z",
     "start_time": "2025-02-11T04:25:41.696731Z"
    }
   },
   "outputs": [
    {
     "name": "stdout",
     "output_type": "stream",
     "text": [
      "total 16\n",
      "drwxr-xr-x   5 alphastation  staff   160B  2 10 12:21 \u001b[34m.\u001b[m\u001b[m\n",
      "drwxr-xr-x  30 alphastation  staff   960B  1 18 13:28 \u001b[34m..\u001b[m\u001b[m\n",
      "-rw-r--r--@  1 alphastation  staff   6.0K  2 10 12:21 .DS_Store\n",
      "drwxr-xr-x  12 alphastation  staff   384B  2 10 12:21 \u001b[34mADL\u001b[m\u001b[m\n",
      "drwxr-xr-x   6 alphastation  staff   192B  1 16 15:12 \u001b[34mFALLS\u001b[m\u001b[m\n"
     ]
    },
    {
     "data": {
      "text/plain": [
       "0"
      ]
     },
     "execution_count": 5,
     "metadata": {},
     "output_type": "execute_result"
    }
   ],
   "source": [
    "os.system('ls -lha ../CAGE/data/MobiFall_Dataset/sub2/')"
   ]
  },
  {
   "cell_type": "code",
   "execution_count": 6,
   "id": "1bd01ec5",
   "metadata": {
    "ExecuteTime": {
     "end_time": "2025-02-11T04:25:41.717433Z",
     "start_time": "2025-02-11T04:25:41.713447Z"
    }
   },
   "outputs": [],
   "source": [
    "adl_activities = ['STD', 'WAL', 'JOG', 'JUM', \n",
    "                  'STU', 'STN', 'SCH', 'CSI', 'CSO'] \n",
    "fall_activities = ['FOL', 'FKL', 'BSC', 'SDL'] \n",
    "\n",
    "label2id = {act: 0 for act in adl_activities}\n",
    "label2id.update({act: 1 for act in fall_activities})"
   ]
  },
  {
   "cell_type": "code",
   "execution_count": 7,
   "id": "f2b58065",
   "metadata": {
    "ExecuteTime": {
     "end_time": "2025-02-11T04:25:41.725365Z",
     "start_time": "2025-02-11T04:25:41.720363Z"
    }
   },
   "outputs": [],
   "source": [
    "def read_sensor_file(filepath):\n",
    "    with open(filepath, 'r') as f:\n",
    "        lines = f.readlines()\n",
    "        \n",
    "        data_start = 0\n",
    "        for i, line in enumerate(lines):\n",
    "            if line.strip() == '@DATA':  # data tag finding\n",
    "                data_start = i + 1\n",
    "                break\n",
    "        \n",
    "        ###### parsing part\n",
    "        data_lines = []\n",
    "        for line in lines[data_start:]:\n",
    "            if line.strip():  \n",
    "                try:\n",
    "                    values = [float(val.strip()) for val in line.strip().split(',')]\n",
    "                    data_lines.append(values)\n",
    "                except ValueError:\n",
    "                    continue\n",
    "        \n",
    "        df = pd.DataFrame(data_lines) \n",
    "        df = df.ffill()  # forward fill\n",
    "        df = df.bfill()  # backward fill\n",
    "        return df"
   ]
  },
  {
   "cell_type": "code",
   "execution_count": 8,
   "id": "035521c9",
   "metadata": {
    "ExecuteTime": {
     "end_time": "2025-02-11T04:25:41.730819Z",
     "start_time": "2025-02-11T04:25:41.727051Z"
    }
   },
   "outputs": [],
   "source": [
    "def split_sequences(data, labels, \n",
    "                    window_length=WINDOW_LENGTH, \n",
    "                    stride=1,\n",
    "                    clean=True):\n",
    "    idx = 0\n",
    "    endidx = len(data)\n",
    "    windows = []\n",
    "    window_labels = []\n",
    "    \n",
    "    while idx < endidx - window_length:\n",
    "        data_segment = data[idx:idx+window_length]\n",
    "        \n",
    "        if clean and len(np.unique(labels[idx:idx + window_length])) > 1:\n",
    "            pass\n",
    "        else:\n",
    "            windows.append(data_segment)\n",
    "            window_labels.append(labels[idx+window_length])\n",
    "        \n",
    "        idx += stride\n",
    "    \n",
    "    if len(windows) == 0:\n",
    "        return None, None\n",
    "    \n",
    "    return np.stack(windows), np.asarray(window_labels)"
   ]
  },
  {
   "cell_type": "code",
   "execution_count": 9,
   "id": "2da171d5",
   "metadata": {
    "ExecuteTime": {
     "end_time": "2025-02-11T04:25:44.507545Z",
     "start_time": "2025-02-11T04:25:41.732191Z"
    }
   },
   "outputs": [
    {
     "name": "stdout",
     "output_type": "stream",
     "text": [
      "Starting data processing...\n",
      "Processing directory: ../CAGE/data/MobiFall_Dataset/sub2\n",
      "ADL directory: ../CAGE/data/MobiFall_Dataset/sub2/ADL\n",
      "Processing activity: STD in ../CAGE/data/MobiFall_Dataset/sub2/ADL/STD\n",
      "Found 1 accelerometer files for STD\n",
      "Processing files:\n",
      "Acc: ../CAGE/data/MobiFall_Dataset/sub2/ADL/STD/STD_acc_2_1.txt\n",
      "Gyro: ../CAGE/data/MobiFall_Dataset/sub2/ADL/STD/STD_gyro_2_1.txt\n",
      "Ori: ../CAGE/data/MobiFall_Dataset/sub2/ADL/STD/STD_ori_2_1.txt\n",
      "Added 26590 windows for STD\n",
      "Processing activity: WAL in ../CAGE/data/MobiFall_Dataset/sub2/ADL/WAL\n",
      "Found 1 accelerometer files for WAL\n",
      "Processing files:\n",
      "Acc: ../CAGE/data/MobiFall_Dataset/sub2/ADL/WAL/WAL_acc_2_1.txt\n",
      "Gyro: ../CAGE/data/MobiFall_Dataset/sub2/ADL/WAL/WAL_gyro_2_1.txt\n",
      "Ori: ../CAGE/data/MobiFall_Dataset/sub2/ADL/WAL/WAL_ori_2_1.txt\n",
      "Added 27204 windows for WAL\n",
      "Processing activity: JOG in ../CAGE/data/MobiFall_Dataset/sub2/ADL/JOG\n",
      "Found 3 accelerometer files for JOG\n",
      "Processing files:\n",
      "Acc: ../CAGE/data/MobiFall_Dataset/sub2/ADL/JOG/JOG_acc_2_2.txt\n",
      "Gyro: ../CAGE/data/MobiFall_Dataset/sub2/ADL/JOG/JOG_gyro_2_2.txt\n",
      "Ori: ../CAGE/data/MobiFall_Dataset/sub2/ADL/JOG/JOG_ori_2_2.txt\n",
      "Added 2790 windows for JOG\n",
      "Processing files:\n",
      "Acc: ../CAGE/data/MobiFall_Dataset/sub2/ADL/JOG/JOG_acc_2_3.txt\n",
      "Gyro: ../CAGE/data/MobiFall_Dataset/sub2/ADL/JOG/JOG_gyro_2_3.txt\n",
      "Ori: ../CAGE/data/MobiFall_Dataset/sub2/ADL/JOG/JOG_ori_2_3.txt\n",
      "Added 2717 windows for JOG\n",
      "Processing files:\n",
      "Acc: ../CAGE/data/MobiFall_Dataset/sub2/ADL/JOG/JOG_acc_2_1.txt\n",
      "Gyro: ../CAGE/data/MobiFall_Dataset/sub2/ADL/JOG/JOG_gyro_2_1.txt\n",
      "Ori: ../CAGE/data/MobiFall_Dataset/sub2/ADL/JOG/JOG_ori_2_1.txt\n",
      "Added 2829 windows for JOG\n",
      "Processing activity: JUM in ../CAGE/data/MobiFall_Dataset/sub2/ADL/JUM\n",
      "Found 3 accelerometer files for JUM\n",
      "Processing files:\n",
      "Acc: ../CAGE/data/MobiFall_Dataset/sub2/ADL/JUM/JUM_acc_2_1.txt\n",
      "Gyro: ../CAGE/data/MobiFall_Dataset/sub2/ADL/JUM/JUM_gyro_2_1.txt\n",
      "Ori: ../CAGE/data/MobiFall_Dataset/sub2/ADL/JUM/JUM_ori_2_1.txt\n",
      "Added 2611 windows for JUM\n",
      "Processing files:\n",
      "Acc: ../CAGE/data/MobiFall_Dataset/sub2/ADL/JUM/JUM_acc_2_3.txt\n",
      "Gyro: ../CAGE/data/MobiFall_Dataset/sub2/ADL/JUM/JUM_gyro_2_3.txt\n",
      "Ori: ../CAGE/data/MobiFall_Dataset/sub2/ADL/JUM/JUM_ori_2_3.txt\n",
      "Added 2660 windows for JUM\n",
      "Processing files:\n",
      "Acc: ../CAGE/data/MobiFall_Dataset/sub2/ADL/JUM/JUM_acc_2_2.txt\n",
      "Gyro: ../CAGE/data/MobiFall_Dataset/sub2/ADL/JUM/JUM_gyro_2_2.txt\n",
      "Ori: ../CAGE/data/MobiFall_Dataset/sub2/ADL/JUM/JUM_ori_2_2.txt\n",
      "Added 2654 windows for JUM\n",
      "Processing activity: STU in ../CAGE/data/MobiFall_Dataset/sub2/ADL/STU\n",
      "Found 6 accelerometer files for STU\n",
      "Processing files:\n",
      "Acc: ../CAGE/data/MobiFall_Dataset/sub2/ADL/STU/STU_acc_2_1.txt\n",
      "Gyro: ../CAGE/data/MobiFall_Dataset/sub2/ADL/STU/STU_gyro_2_1.txt\n",
      "Ori: ../CAGE/data/MobiFall_Dataset/sub2/ADL/STU/STU_ori_2_1.txt\n",
      "Added 764 windows for STU\n",
      "Processing files:\n",
      "Acc: ../CAGE/data/MobiFall_Dataset/sub2/ADL/STU/STU_acc_2_3.txt\n",
      "Gyro: ../CAGE/data/MobiFall_Dataset/sub2/ADL/STU/STU_gyro_2_3.txt\n",
      "Ori: ../CAGE/data/MobiFall_Dataset/sub2/ADL/STU/STU_ori_2_3.txt\n",
      "Added 786 windows for STU\n",
      "Processing files:\n",
      "Acc: ../CAGE/data/MobiFall_Dataset/sub2/ADL/STU/STU_acc_2_2.txt\n",
      "Gyro: ../CAGE/data/MobiFall_Dataset/sub2/ADL/STU/STU_gyro_2_2.txt\n",
      "Ori: ../CAGE/data/MobiFall_Dataset/sub2/ADL/STU/STU_ori_2_2.txt\n",
      "Added 849 windows for STU\n",
      "Processing files:\n",
      "Acc: ../CAGE/data/MobiFall_Dataset/sub2/ADL/STU/STU_acc_2_6.txt\n",
      "Gyro: ../CAGE/data/MobiFall_Dataset/sub2/ADL/STU/STU_gyro_2_6.txt\n",
      "Ori: ../CAGE/data/MobiFall_Dataset/sub2/ADL/STU/STU_ori_2_6.txt\n",
      "Added 794 windows for STU\n",
      "Processing files:\n",
      "Acc: ../CAGE/data/MobiFall_Dataset/sub2/ADL/STU/STU_acc_2_5.txt\n",
      "Gyro: ../CAGE/data/MobiFall_Dataset/sub2/ADL/STU/STU_gyro_2_5.txt\n",
      "Ori: ../CAGE/data/MobiFall_Dataset/sub2/ADL/STU/STU_ori_2_5.txt\n",
      "Added 775 windows for STU\n",
      "Processing files:\n",
      "Acc: ../CAGE/data/MobiFall_Dataset/sub2/ADL/STU/STU_acc_2_4.txt\n",
      "Gyro: ../CAGE/data/MobiFall_Dataset/sub2/ADL/STU/STU_gyro_2_4.txt\n",
      "Ori: ../CAGE/data/MobiFall_Dataset/sub2/ADL/STU/STU_ori_2_4.txt\n",
      "Added 816 windows for STU\n",
      "Processing activity: STN in ../CAGE/data/MobiFall_Dataset/sub2/ADL/STN\n",
      "Found 6 accelerometer files for STN\n",
      "Processing files:\n",
      "Acc: ../CAGE/data/MobiFall_Dataset/sub2/ADL/STN/STN_acc_2_1.txt\n",
      "Gyro: ../CAGE/data/MobiFall_Dataset/sub2/ADL/STN/STN_gyro_2_1.txt\n",
      "Ori: ../CAGE/data/MobiFall_Dataset/sub2/ADL/STN/STN_ori_2_1.txt\n",
      "Added 854 windows for STN\n",
      "Processing files:\n",
      "Acc: ../CAGE/data/MobiFall_Dataset/sub2/ADL/STN/STN_acc_2_3.txt\n",
      "Gyro: ../CAGE/data/MobiFall_Dataset/sub2/ADL/STN/STN_gyro_2_3.txt\n",
      "Ori: ../CAGE/data/MobiFall_Dataset/sub2/ADL/STN/STN_ori_2_3.txt\n",
      "Added 702 windows for STN\n",
      "Processing files:\n",
      "Acc: ../CAGE/data/MobiFall_Dataset/sub2/ADL/STN/STN_acc_2_2.txt\n",
      "Gyro: ../CAGE/data/MobiFall_Dataset/sub2/ADL/STN/STN_gyro_2_2.txt\n",
      "Ori: ../CAGE/data/MobiFall_Dataset/sub2/ADL/STN/STN_ori_2_2.txt\n",
      "Added 776 windows for STN\n",
      "Processing files:\n",
      "Acc: ../CAGE/data/MobiFall_Dataset/sub2/ADL/STN/STN_acc_2_6.txt\n",
      "Gyro: ../CAGE/data/MobiFall_Dataset/sub2/ADL/STN/STN_gyro_2_6.txt\n",
      "Ori: ../CAGE/data/MobiFall_Dataset/sub2/ADL/STN/STN_ori_2_6.txt\n",
      "Added 820 windows for STN\n",
      "Processing files:\n",
      "Acc: ../CAGE/data/MobiFall_Dataset/sub2/ADL/STN/STN_acc_2_5.txt\n",
      "Gyro: ../CAGE/data/MobiFall_Dataset/sub2/ADL/STN/STN_gyro_2_5.txt\n",
      "Ori: ../CAGE/data/MobiFall_Dataset/sub2/ADL/STN/STN_ori_2_5.txt\n",
      "Added 845 windows for STN\n",
      "Processing files:\n",
      "Acc: ../CAGE/data/MobiFall_Dataset/sub2/ADL/STN/STN_acc_2_4.txt\n",
      "Gyro: ../CAGE/data/MobiFall_Dataset/sub2/ADL/STN/STN_gyro_2_4.txt\n",
      "Ori: ../CAGE/data/MobiFall_Dataset/sub2/ADL/STN/STN_ori_2_4.txt\n",
      "Added 847 windows for STN\n",
      "Processing activity: SCH in ../CAGE/data/MobiFall_Dataset/sub2/ADL/SCH\n",
      "Found 6 accelerometer files for SCH\n",
      "Processing files:\n",
      "Acc: ../CAGE/data/MobiFall_Dataset/sub2/ADL/SCH/SCH_acc_2_1.txt\n",
      "Gyro: ../CAGE/data/MobiFall_Dataset/sub2/ADL/SCH/SCH_gyro_2_1.txt\n",
      "Ori: ../CAGE/data/MobiFall_Dataset/sub2/ADL/SCH/SCH_ori_2_1.txt\n",
      "Added 437 windows for SCH\n",
      "Processing files:\n",
      "Acc: ../CAGE/data/MobiFall_Dataset/sub2/ADL/SCH/SCH_acc_2_3.txt\n",
      "Gyro: ../CAGE/data/MobiFall_Dataset/sub2/ADL/SCH/SCH_gyro_2_3.txt\n",
      "Ori: ../CAGE/data/MobiFall_Dataset/sub2/ADL/SCH/SCH_ori_2_3.txt\n",
      "Added 381 windows for SCH\n",
      "Processing files:\n",
      "Acc: ../CAGE/data/MobiFall_Dataset/sub2/ADL/SCH/SCH_acc_2_2.txt\n",
      "Gyro: ../CAGE/data/MobiFall_Dataset/sub2/ADL/SCH/SCH_gyro_2_2.txt\n",
      "Ori: ../CAGE/data/MobiFall_Dataset/sub2/ADL/SCH/SCH_ori_2_2.txt\n",
      "Added 409 windows for SCH\n",
      "Processing files:\n",
      "Acc: ../CAGE/data/MobiFall_Dataset/sub2/ADL/SCH/SCH_acc_2_6.txt\n",
      "Gyro: ../CAGE/data/MobiFall_Dataset/sub2/ADL/SCH/SCH_gyro_2_6.txt\n",
      "Ori: ../CAGE/data/MobiFall_Dataset/sub2/ADL/SCH/SCH_ori_2_6.txt\n",
      "Added 448 windows for SCH\n",
      "Processing files:\n",
      "Acc: ../CAGE/data/MobiFall_Dataset/sub2/ADL/SCH/SCH_acc_2_5.txt\n",
      "Gyro: ../CAGE/data/MobiFall_Dataset/sub2/ADL/SCH/SCH_gyro_2_5.txt\n",
      "Ori: ../CAGE/data/MobiFall_Dataset/sub2/ADL/SCH/SCH_ori_2_5.txt\n",
      "Added 472 windows for SCH\n",
      "Processing files:\n",
      "Acc: ../CAGE/data/MobiFall_Dataset/sub2/ADL/SCH/SCH_acc_2_4.txt\n",
      "Gyro: ../CAGE/data/MobiFall_Dataset/sub2/ADL/SCH/SCH_gyro_2_4.txt\n",
      "Ori: ../CAGE/data/MobiFall_Dataset/sub2/ADL/SCH/SCH_ori_2_4.txt\n",
      "Added 397 windows for SCH\n",
      "Processing activity: CSI in ../CAGE/data/MobiFall_Dataset/sub2/ADL/CSI\n",
      "Found 6 accelerometer files for CSI\n",
      "Processing files:\n",
      "Acc: ../CAGE/data/MobiFall_Dataset/sub2/ADL/CSI/CSI_acc_2_1.txt\n",
      "Gyro: ../CAGE/data/MobiFall_Dataset/sub2/ADL/CSI/CSI_gyro_2_1.txt\n",
      "Ori: ../CAGE/data/MobiFall_Dataset/sub2/ADL/CSI/CSI_ori_2_1.txt\n",
      "Added 519 windows for CSI\n",
      "Processing files:\n",
      "Acc: ../CAGE/data/MobiFall_Dataset/sub2/ADL/CSI/CSI_acc_2_2.txt\n",
      "Gyro: ../CAGE/data/MobiFall_Dataset/sub2/ADL/CSI/CSI_gyro_2_2.txt\n",
      "Ori: ../CAGE/data/MobiFall_Dataset/sub2/ADL/CSI/CSI_ori_2_2.txt\n",
      "Added 455 windows for CSI\n",
      "Processing files:\n",
      "Acc: ../CAGE/data/MobiFall_Dataset/sub2/ADL/CSI/CSI_acc_2_3.txt\n",
      "Gyro: ../CAGE/data/MobiFall_Dataset/sub2/ADL/CSI/CSI_gyro_2_3.txt\n",
      "Ori: ../CAGE/data/MobiFall_Dataset/sub2/ADL/CSI/CSI_ori_2_3.txt\n",
      "Added 468 windows for CSI\n",
      "Processing files:\n",
      "Acc: ../CAGE/data/MobiFall_Dataset/sub2/ADL/CSI/CSI_acc_2_6.txt\n",
      "Gyro: ../CAGE/data/MobiFall_Dataset/sub2/ADL/CSI/CSI_gyro_2_6.txt\n",
      "Ori: ../CAGE/data/MobiFall_Dataset/sub2/ADL/CSI/CSI_ori_2_6.txt\n",
      "Added 408 windows for CSI\n",
      "Processing files:\n",
      "Acc: ../CAGE/data/MobiFall_Dataset/sub2/ADL/CSI/CSI_acc_2_4.txt\n",
      "Gyro: ../CAGE/data/MobiFall_Dataset/sub2/ADL/CSI/CSI_gyro_2_4.txt\n",
      "Ori: ../CAGE/data/MobiFall_Dataset/sub2/ADL/CSI/CSI_ori_2_4.txt\n",
      "Added 417 windows for CSI\n",
      "Processing files:\n",
      "Acc: ../CAGE/data/MobiFall_Dataset/sub2/ADL/CSI/CSI_acc_2_5.txt\n",
      "Gyro: ../CAGE/data/MobiFall_Dataset/sub2/ADL/CSI/CSI_gyro_2_5.txt\n",
      "Ori: ../CAGE/data/MobiFall_Dataset/sub2/ADL/CSI/CSI_ori_2_5.txt\n",
      "Added 410 windows for CSI\n",
      "Processing activity: CSO in ../CAGE/data/MobiFall_Dataset/sub2/ADL/CSO\n",
      "Found 6 accelerometer files for CSO\n",
      "Processing files:\n",
      "Acc: ../CAGE/data/MobiFall_Dataset/sub2/ADL/CSO/CSO_acc_2_1.txt\n",
      "Gyro: ../CAGE/data/MobiFall_Dataset/sub2/ADL/CSO/CSO_gyro_2_1.txt\n",
      "Ori: ../CAGE/data/MobiFall_Dataset/sub2/ADL/CSO/CSO_ori_2_1.txt\n",
      "Added 421 windows for CSO\n",
      "Processing files:\n",
      "Acc: ../CAGE/data/MobiFall_Dataset/sub2/ADL/CSO/CSO_acc_2_3.txt\n",
      "Gyro: ../CAGE/data/MobiFall_Dataset/sub2/ADL/CSO/CSO_gyro_2_3.txt\n",
      "Ori: ../CAGE/data/MobiFall_Dataset/sub2/ADL/CSO/CSO_ori_2_3.txt\n",
      "Added 435 windows for CSO\n",
      "Processing files:\n",
      "Acc: ../CAGE/data/MobiFall_Dataset/sub2/ADL/CSO/CSO_acc_2_2.txt\n",
      "Gyro: ../CAGE/data/MobiFall_Dataset/sub2/ADL/CSO/CSO_gyro_2_2.txt\n",
      "Ori: ../CAGE/data/MobiFall_Dataset/sub2/ADL/CSO/CSO_ori_2_2.txt\n",
      "Added 500 windows for CSO\n",
      "Processing files:\n",
      "Acc: ../CAGE/data/MobiFall_Dataset/sub2/ADL/CSO/CSO_acc_2_6.txt\n",
      "Gyro: ../CAGE/data/MobiFall_Dataset/sub2/ADL/CSO/CSO_gyro_2_6.txt\n",
      "Ori: ../CAGE/data/MobiFall_Dataset/sub2/ADL/CSO/CSO_ori_2_6.txt\n",
      "Added 490 windows for CSO\n",
      "Processing files:\n",
      "Acc: ../CAGE/data/MobiFall_Dataset/sub2/ADL/CSO/CSO_acc_2_5.txt\n",
      "Gyro: ../CAGE/data/MobiFall_Dataset/sub2/ADL/CSO/CSO_gyro_2_5.txt\n",
      "Ori: ../CAGE/data/MobiFall_Dataset/sub2/ADL/CSO/CSO_ori_2_5.txt\n",
      "Added 397 windows for CSO\n",
      "Processing files:\n",
      "Acc: ../CAGE/data/MobiFall_Dataset/sub2/ADL/CSO/CSO_acc_2_4.txt\n",
      "Gyro: ../CAGE/data/MobiFall_Dataset/sub2/ADL/CSO/CSO_gyro_2_4.txt\n",
      "Ori: ../CAGE/data/MobiFall_Dataset/sub2/ADL/CSO/CSO_ori_2_4.txt\n",
      "Added 374 windows for CSO\n"
     ]
    },
    {
     "name": "stdout",
     "output_type": "stream",
     "text": [
      "Total ADL data shape: (87521, 20, 9)\n",
      "Processing FALLS directory: ../CAGE/data/MobiFall_Dataset/sub2/FALLS\n",
      "Processing fall activity: FOL in ../CAGE/data/MobiFall_Dataset/sub2/FALLS/FOL\n",
      "Found 3 accelerometer files for fall activity FOL\n",
      "Processing fall files:\n",
      "Acc: ../CAGE/data/MobiFall_Dataset/sub2/FALLS/FOL/FOL_acc_2_1.txt\n",
      "Gyro: ../CAGE/data/MobiFall_Dataset/sub2/FALLS/FOL/FOL_gyro_2_1.txt\n",
      "Ori: ../CAGE/data/MobiFall_Dataset/sub2/FALLS/FOL/FOL_ori_2_1.txt\n",
      "Added 47 windows for fall activity FOL\n",
      "Processing fall files:\n",
      "Acc: ../CAGE/data/MobiFall_Dataset/sub2/FALLS/FOL/FOL_acc_2_3.txt\n",
      "Gyro: ../CAGE/data/MobiFall_Dataset/sub2/FALLS/FOL/FOL_gyro_2_3.txt\n",
      "Ori: ../CAGE/data/MobiFall_Dataset/sub2/FALLS/FOL/FOL_ori_2_3.txt\n",
      "Added 44 windows for fall activity FOL\n",
      "Processing fall files:\n",
      "Acc: ../CAGE/data/MobiFall_Dataset/sub2/FALLS/FOL/FOL_acc_2_2.txt\n",
      "Gyro: ../CAGE/data/MobiFall_Dataset/sub2/FALLS/FOL/FOL_gyro_2_2.txt\n",
      "Ori: ../CAGE/data/MobiFall_Dataset/sub2/FALLS/FOL/FOL_ori_2_2.txt\n",
      "Added 43 windows for fall activity FOL\n",
      "Processing fall activity: FKL in ../CAGE/data/MobiFall_Dataset/sub2/FALLS/FKL\n",
      "Found 3 accelerometer files for fall activity FKL\n",
      "Processing fall files:\n",
      "Acc: ../CAGE/data/MobiFall_Dataset/sub2/FALLS/FKL/FKL_acc_2_1.txt\n",
      "Gyro: ../CAGE/data/MobiFall_Dataset/sub2/FALLS/FKL/FKL_gyro_2_1.txt\n",
      "Ori: ../CAGE/data/MobiFall_Dataset/sub2/FALLS/FKL/FKL_ori_2_1.txt\n",
      "Added 40 windows for fall activity FKL\n",
      "Processing fall files:\n",
      "Acc: ../CAGE/data/MobiFall_Dataset/sub2/FALLS/FKL/FKL_acc_2_2.txt\n",
      "Gyro: ../CAGE/data/MobiFall_Dataset/sub2/FALLS/FKL/FKL_gyro_2_2.txt\n",
      "Ori: ../CAGE/data/MobiFall_Dataset/sub2/FALLS/FKL/FKL_ori_2_2.txt\n",
      "Added 37 windows for fall activity FKL\n",
      "Processing fall files:\n",
      "Acc: ../CAGE/data/MobiFall_Dataset/sub2/FALLS/FKL/FKL_acc_2_3.txt\n",
      "Gyro: ../CAGE/data/MobiFall_Dataset/sub2/FALLS/FKL/FKL_gyro_2_3.txt\n",
      "Ori: ../CAGE/data/MobiFall_Dataset/sub2/FALLS/FKL/FKL_ori_2_3.txt\n",
      "Added 39 windows for fall activity FKL\n",
      "Processing fall activity: BSC in ../CAGE/data/MobiFall_Dataset/sub2/FALLS/BSC\n",
      "Found 3 accelerometer files for fall activity BSC\n",
      "Processing fall files:\n",
      "Acc: ../CAGE/data/MobiFall_Dataset/sub2/FALLS/BSC/BSC_acc_2_1.txt\n",
      "Gyro: ../CAGE/data/MobiFall_Dataset/sub2/FALLS/BSC/BSC_gyro_2_1.txt\n",
      "Ori: ../CAGE/data/MobiFall_Dataset/sub2/FALLS/BSC/BSC_ori_2_1.txt\n",
      "Added 40 windows for fall activity BSC\n",
      "Processing fall files:\n",
      "Acc: ../CAGE/data/MobiFall_Dataset/sub2/FALLS/BSC/BSC_acc_2_2.txt\n",
      "Gyro: ../CAGE/data/MobiFall_Dataset/sub2/FALLS/BSC/BSC_gyro_2_2.txt\n",
      "Ori: ../CAGE/data/MobiFall_Dataset/sub2/FALLS/BSC/BSC_ori_2_2.txt\n",
      "Added 44 windows for fall activity BSC\n",
      "Processing fall files:\n",
      "Acc: ../CAGE/data/MobiFall_Dataset/sub2/FALLS/BSC/BSC_acc_2_3.txt\n",
      "Gyro: ../CAGE/data/MobiFall_Dataset/sub2/FALLS/BSC/BSC_gyro_2_3.txt\n",
      "Ori: ../CAGE/data/MobiFall_Dataset/sub2/FALLS/BSC/BSC_ori_2_3.txt\n",
      "Added 42 windows for fall activity BSC\n",
      "Processing fall activity: SDL in ../CAGE/data/MobiFall_Dataset/sub2/FALLS/SDL\n",
      "Found 3 accelerometer files for fall activity SDL\n",
      "Processing fall files:\n",
      "Acc: ../CAGE/data/MobiFall_Dataset/sub2/FALLS/SDL/SDL_acc_2_1.txt\n",
      "Gyro: ../CAGE/data/MobiFall_Dataset/sub2/FALLS/SDL/SDL_gyro_2_1.txt\n",
      "Ori: ../CAGE/data/MobiFall_Dataset/sub2/FALLS/SDL/SDL_ori_2_1.txt\n",
      "Added 37 windows for fall activity SDL\n",
      "Processing fall files:\n",
      "Acc: ../CAGE/data/MobiFall_Dataset/sub2/FALLS/SDL/SDL_acc_2_2.txt\n",
      "Gyro: ../CAGE/data/MobiFall_Dataset/sub2/FALLS/SDL/SDL_gyro_2_2.txt\n",
      "Ori: ../CAGE/data/MobiFall_Dataset/sub2/FALLS/SDL/SDL_ori_2_2.txt\n",
      "Added 42 windows for fall activity SDL\n",
      "Processing fall files:\n",
      "Acc: ../CAGE/data/MobiFall_Dataset/sub2/FALLS/SDL/SDL_acc_2_3.txt\n",
      "Gyro: ../CAGE/data/MobiFall_Dataset/sub2/FALLS/SDL/SDL_gyro_2_3.txt\n",
      "Ori: ../CAGE/data/MobiFall_Dataset/sub2/FALLS/SDL/SDL_ori_2_3.txt\n",
      "Added 44 windows for fall activity SDL\n",
      "\n",
      "Training data:\n",
      "# of windows: 52512\n",
      "data shape: (52512, 20, 9)\n",
      "labels shape: (52512,)\n",
      "Label distribution: {0: 52512}\n",
      "\n",
      "Testing data:\n",
      "# of windows: 35508\n",
      "data shape: (35508, 20, 9)\n",
      "labels shape: (35508,)\n",
      "Label distribution: {0: 35009, 1: 499}\n"
     ]
    }
   ],
   "source": [
    "import numpy as np\n",
    "import pandas as pd\n",
    "import os\n",
    "import glob\n",
    "from tqdm import tqdm\n",
    "from sklearn.model_selection import train_test_split\n",
    "\n",
    "def read_sensor_file(file_path):\n",
    "    \"\"\"센서 데이터 파일을 읽는 함수\"\"\"\n",
    "    # 헤더 부분을 건너뛰고 @DATA 이후의 데이터만 읽기\n",
    "    with open(file_path, 'r') as f:\n",
    "        lines = f.readlines()\n",
    "        data_lines = []\n",
    "        data_start = False\n",
    "        \n",
    "        for line in lines:\n",
    "            if data_start:\n",
    "                # 공백 제거 후 ', ' 구분자로 split\n",
    "                values = [float(v.strip()) for v in line.strip().split(', ')]\n",
    "                data_lines.append(values)\n",
    "            if '@DATA' in line:\n",
    "                data_start = True\n",
    "    \n",
    "    # DataFrame 생성\n",
    "    data = pd.DataFrame(data_lines, columns=['timestamp', 'x', 'y', 'z'])\n",
    "    return data\n",
    "\n",
    "def process_sub2_data(datapath, adl_activities, fall_activities, label2id, WINDOW_LENGTH, STRIDE):\n",
    "    subject_id = '2'  # sub2 데이터 처리\n",
    "    train_data = []\n",
    "    train_labels = []\n",
    "    test_data = []\n",
    "    test_labels = []\n",
    "    \n",
    "    subject_dir = os.path.join(datapath, f\"sub{subject_id}\")\n",
    "    print(f\"Processing directory: {subject_dir}\")\n",
    "    \n",
    "    # Process ADL activities first\n",
    "    adl_dir = os.path.join(subject_dir, \"ADL\")\n",
    "    print(f\"ADL directory: {adl_dir}\")\n",
    "    temp_adl_data = []\n",
    "    temp_adl_labels = []\n",
    "    \n",
    "    if not os.path.exists(adl_dir):\n",
    "        print(f\"Warning: ADL directory does not exist: {adl_dir}\")\n",
    "        return None, None, None, None\n",
    "    \n",
    "    for activity in adl_activities:\n",
    "        activity_dir = os.path.join(adl_dir, activity)\n",
    "        print(f\"Processing activity: {activity} in {activity_dir}\")\n",
    "        \n",
    "        if not os.path.exists(activity_dir):\n",
    "            print(f\"Warning: Activity directory does not exist: {activity_dir}\")\n",
    "            continue\n",
    "            \n",
    "        acc_pattern = f\"{activity}_acc_{subject_id}_*.txt\"\n",
    "        acc_files = glob.glob(os.path.join(activity_dir, acc_pattern))\n",
    "        print(f\"Found {len(acc_files)} accelerometer files for {activity}\")\n",
    "        \n",
    "        for acc_file in acc_files:\n",
    "            trial_num = acc_file.split('_')[-1]\n",
    "            gyro_file = os.path.join(activity_dir, f\"{activity}_gyro_{subject_id}_{trial_num}\")\n",
    "            ori_file = os.path.join(activity_dir, f\"{activity}_ori_{subject_id}_{trial_num}\")\n",
    "            \n",
    "            if not os.path.exists(gyro_file) or not os.path.exists(ori_file):\n",
    "                print(f\"Warning: Missing sensor files for trial {trial_num}\")\n",
    "                continue\n",
    "                \n",
    "            try:\n",
    "                print(f\"Processing files:\\nAcc: {acc_file}\\nGyro: {gyro_file}\\nOri: {ori_file}\")\n",
    "                \n",
    "                acc_data = read_sensor_file(acc_file)\n",
    "                gyro_data = read_sensor_file(gyro_file)\n",
    "                ori_data = read_sensor_file(ori_file)\n",
    "                \n",
    "                # 데이터 병합\n",
    "                merged_data = pd.merge_asof(\n",
    "                    acc_data.sort_values('timestamp'),\n",
    "                    gyro_data.sort_values('timestamp'),\n",
    "                    on='timestamp',\n",
    "                    suffixes=('_acc', '_gyro'),\n",
    "                    direction='nearest',\n",
    "                    tolerance=1e7\n",
    "                )\n",
    "                \n",
    "                merged_data = pd.merge_asof(\n",
    "                    merged_data,\n",
    "                    ori_data.sort_values('timestamp'),\n",
    "                    on='timestamp',\n",
    "                    suffixes=('', '_ori'),\n",
    "                    direction='nearest',\n",
    "                    tolerance=1e7\n",
    "                )\n",
    "                \n",
    "                merged_data = merged_data.fillna(0)\n",
    "                sensor_data = merged_data[['x_acc', 'y_acc', 'z_acc',\n",
    "                                         'x_gyro', 'y_gyro', 'z_gyro',\n",
    "                                         'x', 'y', 'z']].values  # ori data\n",
    "                \n",
    "                activity_labels = np.full(len(sensor_data), label2id[activity])\n",
    "                windows_data, windows_labels = split_sequences(sensor_data, activity_labels,\n",
    "                                                            WINDOW_LENGTH, STRIDE)\n",
    "                \n",
    "                if windows_data is not None and len(windows_data) > 0:\n",
    "                    print(f\"Added {len(windows_data)} windows for {activity}\")\n",
    "                    temp_adl_data.append(windows_data)\n",
    "                    temp_adl_labels.append(windows_labels)\n",
    "                else:\n",
    "                    print(f\"No windows generated for {activity}\")\n",
    "                    \n",
    "            except Exception as e:\n",
    "                print(f\"Error processing file {acc_file}: {e}\")\n",
    "    \n",
    "    # Check if we have any ADL data\n",
    "    if not temp_adl_data:\n",
    "        print(\"No ADL data was processed successfully\")\n",
    "        return None, None, None, None\n",
    "        \n",
    "    # Combine all ADL data\n",
    "    temp_adl_data = np.concatenate(temp_adl_data, axis=0)\n",
    "    temp_adl_labels = np.concatenate(temp_adl_labels)\n",
    "    print(f\"Total ADL data shape: {temp_adl_data.shape}\")\n",
    "    \n",
    "    # Split ADL data 60-40\n",
    "    adl_train_data, adl_test_data, adl_train_labels, adl_test_labels = train_test_split(\n",
    "        temp_adl_data, temp_adl_labels, train_size=0.6, random_state=42)\n",
    "    \n",
    "    train_data.append(adl_train_data)\n",
    "    train_labels.append(adl_train_labels)\n",
    "    test_data.append(adl_test_data)\n",
    "    test_labels.append(adl_test_labels)\n",
    "    \n",
    "    # Process FALL activities for testing\n",
    "    falls_dir = os.path.join(subject_dir, \"FALLS\")\n",
    "    print(f\"Processing FALLS directory: {falls_dir}\")\n",
    "    \n",
    "    if os.path.exists(falls_dir):\n",
    "        for activity in fall_activities:\n",
    "            activity_dir = os.path.join(falls_dir, activity)\n",
    "            print(f\"Processing fall activity: {activity} in {activity_dir}\")\n",
    "            \n",
    "            if not os.path.exists(activity_dir):\n",
    "                print(f\"Warning: Fall activity directory does not exist: {activity_dir}\")\n",
    "                continue\n",
    "                \n",
    "            acc_pattern = f\"{activity}_acc_{subject_id}_*.txt\"\n",
    "            acc_files = glob.glob(os.path.join(activity_dir, acc_pattern))\n",
    "            print(f\"Found {len(acc_files)} accelerometer files for fall activity {activity}\")\n",
    "            \n",
    "            for acc_file in acc_files:\n",
    "                trial_num = acc_file.split('_')[-1]\n",
    "                gyro_file = os.path.join(activity_dir, f\"{activity}_gyro_{subject_id}_{trial_num}\")\n",
    "                ori_file = os.path.join(activity_dir, f\"{activity}_ori_{subject_id}_{trial_num}\")\n",
    "                \n",
    "                if not os.path.exists(gyro_file) or not os.path.exists(ori_file):\n",
    "                    print(f\"Warning: Missing sensor files for fall trial {trial_num}\")\n",
    "                    continue\n",
    "                    \n",
    "                try:\n",
    "                    print(f\"Processing fall files:\\nAcc: {acc_file}\\nGyro: {gyro_file}\\nOri: {ori_file}\")\n",
    "                    \n",
    "                    acc_data = read_sensor_file(acc_file)\n",
    "                    gyro_data = read_sensor_file(gyro_file)\n",
    "                    ori_data = read_sensor_file(ori_file)\n",
    "                    \n",
    "                    merged_data = pd.merge_asof(\n",
    "                        acc_data.sort_values('timestamp'),\n",
    "                        gyro_data.sort_values('timestamp'),\n",
    "                        on='timestamp',\n",
    "                        suffixes=('_acc', '_gyro'),\n",
    "                        direction='nearest',\n",
    "                        tolerance=1e7\n",
    "                    )\n",
    "                    \n",
    "                    merged_data = pd.merge_asof(\n",
    "                        merged_data,\n",
    "                        ori_data.sort_values('timestamp'),\n",
    "                        on='timestamp',\n",
    "                        suffixes=('', '_ori'),\n",
    "                        direction='nearest',\n",
    "                        tolerance=1e7\n",
    "                    )\n",
    "                    \n",
    "                    merged_data = merged_data.fillna(0)\n",
    "                    sensor_data = merged_data[['x_acc', 'y_acc', 'z_acc',\n",
    "                                             'x_gyro', 'y_gyro', 'z_gyro',\n",
    "                                             'x', 'y', 'z']].values  # ori data\n",
    "                    \n",
    "                    activity_labels = np.full(len(sensor_data), label2id[activity])\n",
    "                    windows_data, windows_labels = split_sequences(sensor_data, activity_labels,\n",
    "                                                                WINDOW_LENGTH, WINDOW_LENGTH)\n",
    "                    \n",
    "                    if windows_data is not None and len(windows_data) > 0:\n",
    "                        print(f\"Added {len(windows_data)} windows for fall activity {activity}\")\n",
    "                        test_data.append(windows_data)\n",
    "                        test_labels.append(windows_labels)\n",
    "                    else:\n",
    "                        print(f\"No windows generated for fall activity {activity}\")\n",
    "                        \n",
    "                except Exception as e:\n",
    "                    print(f\"Error processing file {acc_file}: {e}\")\n",
    "    else:\n",
    "        print(f\"Warning: FALLS directory does not exist: {falls_dir}\")\n",
    "    \n",
    "    # Check if we have any data to combine\n",
    "    if not train_data or not test_data:\n",
    "        print(\"No data was processed successfully\")\n",
    "        return None, None, None, None\n",
    "    \n",
    "    # Combine all data\n",
    "    train_data = np.concatenate(train_data, axis=0)\n",
    "    train_labels = np.concatenate(train_labels)\n",
    "    test_data = np.concatenate(test_data, axis=0)\n",
    "    test_labels = np.concatenate(test_labels)\n",
    "    \n",
    "    return train_data, train_labels, test_data, test_labels\n",
    "\n",
    "# Usage:\n",
    "print(\"Starting data processing...\")\n",
    "result = process_sub2_data(\n",
    "    datapath,\n",
    "    adl_activities,\n",
    "    fall_activities,\n",
    "    label2id,\n",
    "    WINDOW_LENGTH,\n",
    "    1\n",
    ")\n",
    "\n",
    "if result[0] is not None:\n",
    "    train_data, train_labels, test_data, test_labels = result\n",
    "    \n",
    "    # Print statistics\n",
    "    print(\"\\nTraining data:\")\n",
    "    print(f\"# of windows: {len(train_data)}\")\n",
    "    print(f\"data shape: {train_data.shape}\")\n",
    "    print(f\"labels shape: {train_labels.shape}\")\n",
    "    unique_train_labels, train_counts = np.unique(train_labels, return_counts=True)\n",
    "    print(\"Label distribution:\", dict(zip(unique_train_labels, train_counts)))\n",
    "\n",
    "    print(\"\\nTesting data:\")\n",
    "    print(f\"# of windows: {len(test_data)}\")\n",
    "    print(f\"data shape: {test_data.shape}\")\n",
    "    print(f\"labels shape: {test_labels.shape}\")\n",
    "    unique_test_labels, test_counts = np.unique(test_labels, return_counts=True)\n",
    "    print(\"Label distribution:\", dict(zip(unique_test_labels, test_counts)))\n",
    "else:\n",
    "    print(\"No data was processed successfully. Please check the paths and input parameters.\")"
   ]
  },
  {
   "cell_type": "markdown",
   "id": "2b7fb1ac",
   "metadata": {},
   "source": [
    "----"
   ]
  },
  {
   "cell_type": "code",
   "execution_count": 10,
   "id": "75320296",
   "metadata": {
    "ExecuteTime": {
     "end_time": "2025-02-11T04:25:44.516274Z",
     "start_time": "2025-02-11T04:25:44.512303Z"
    }
   },
   "outputs": [],
   "source": [
    "EPOCHS = 80\n",
    "INITIAL_LEARNING_RATE = 1e-4  \n",
    "DECAY_STEPS = 1000  \n",
    "DECAY_RATE = 0.98  \n",
    "device = torch.device('cuda' if torch.cuda.is_available() else 'cpu')"
   ]
  },
  {
   "cell_type": "code",
   "execution_count": 11,
   "id": "623e5f6a",
   "metadata": {
    "ExecuteTime": {
     "end_time": "2025-02-11T04:25:44.522506Z",
     "start_time": "2025-02-11T04:25:44.518811Z"
    }
   },
   "outputs": [],
   "source": [
    "class MobiFallDataset(Dataset):\n",
    "    def __init__(self, data):\n",
    "        # [batch, window_length, features] -> [batch, features, window_length]\n",
    "        data = data.transpose(0, 2, 1)  # 순서 변경\n",
    "        self.data = torch.FloatTensor(data)\n",
    "    \n",
    "    def __len__(self):\n",
    "        return len(self.data)\n",
    "    \n",
    "    def __getitem__(self, idx):\n",
    "        return self.data[idx]  # [features, window_length] 형태로 반환"
   ]
  },
  {
   "cell_type": "code",
   "execution_count": 12,
   "id": "041a966a",
   "metadata": {
    "ExecuteTime": {
     "end_time": "2025-02-11T04:25:44.528389Z",
     "start_time": "2025-02-11T04:25:44.524622Z"
    }
   },
   "outputs": [
    {
     "data": {
      "text/plain": [
       "'\\nInput:      (20, 9)     # [window_length, num_sensors]\\nLevel 1:    (10, 8)     # spatial ↓, channels ↑\\nLevel 2:    (5, 16)     # spatial ↓, channels ↑\\nBottleneck: (5, 32)     # bottleneck features\\nLevel 2:    (10, 16)    # spatial ↑, channels ↓\\nLevel 1:    (20, 8)     # spatial ↑, channels ↓\\nOutput:     (20, 9)     # reconstruction\\n'"
      ]
     },
     "execution_count": 12,
     "metadata": {},
     "output_type": "execute_result"
    }
   ],
   "source": [
    "'''\n",
    "Input:      (20, 9)     # [window_length, num_sensors]\n",
    "Level 1:    (10, 8)     # spatial ↓, channels ↑\n",
    "Level 2:    (5, 16)     # spatial ↓, channels ↑\n",
    "Bottleneck: (5, 32)     # bottleneck features\n",
    "Level 2:    (10, 16)    # spatial ↑, channels ↓\n",
    "Level 1:    (20, 8)     # spatial ↑, channels ↓\n",
    "Output:     (20, 9)     # reconstruction\n",
    "'''"
   ]
  },
  {
   "cell_type": "code",
   "execution_count": 13,
   "id": "fa953720",
   "metadata": {
    "ExecuteTime": {
     "end_time": "2025-02-11T04:25:44.533615Z",
     "start_time": "2025-02-11T04:25:44.530017Z"
    }
   },
   "outputs": [],
   "source": [
    "class DoubleConv(nn.Module):\n",
    "    def __init__(self, in_channels, out_channels):\n",
    "        super(DoubleConv, self).__init__()\n",
    "        self.conv = nn.Sequential(\n",
    "            nn.Conv1d(in_channels, out_channels, kernel_size=3, padding='same'),\n",
    "            nn.ReLU(),\n",
    "            nn.Conv1d(out_channels, out_channels, kernel_size=3, padding='same'),\n",
    "            nn.ReLU()\n",
    "        )\n",
    "\n",
    "    def forward(self, x):\n",
    "        return self.conv(x)"
   ]
  },
  {
   "cell_type": "code",
   "execution_count": 14,
   "id": "f57f2d6e",
   "metadata": {
    "ExecuteTime": {
     "end_time": "2025-02-11T04:25:44.539352Z",
     "start_time": "2025-02-11T04:25:44.535626Z"
    }
   },
   "outputs": [],
   "source": [
    "class SinusoidalPositionEmbeddings(nn.Module):\n",
    "    def __init__(self, dim):\n",
    "        super().__init__()\n",
    "        self.dim = dim\n",
    "\n",
    "    def forward(self, time):\n",
    "        device = time.device\n",
    "        half_dim = self.dim // 2\n",
    "        embeddings = math.log(10000) / (half_dim - 1)\n",
    "        embeddings = torch.exp(torch.arange(half_dim, device=device) * -embeddings)\n",
    "        embeddings = time[:, None] * embeddings[None, :]\n",
    "        embeddings = torch.cat((embeddings.sin(), embeddings.cos()), dim=-1)\n",
    "        return embeddings"
   ]
  },
  {
   "cell_type": "code",
   "execution_count": 15,
   "id": "3dd971a3",
   "metadata": {
    "ExecuteTime": {
     "end_time": "2025-02-11T04:25:44.551848Z",
     "start_time": "2025-02-11T04:25:44.541558Z"
    }
   },
   "outputs": [],
   "source": [
    "class UNet1D(nn.Module):\n",
    "    def __init__(self, in_channels=9):\n",
    "        super(UNet1D, self).__init__()\n",
    "        \n",
    "        # Sinusoidal time embeddings\n",
    "        self.time_embed = nn.Sequential(\n",
    "            SinusoidalPositionEmbeddings(32),\n",
    "            nn.Linear(32, 64),\n",
    "            nn.ReLU(),\n",
    "            nn.Linear(64, 64)\n",
    "        )\n",
    "        \n",
    "        # Encoder\n",
    "        self.enc1 = DoubleConv(in_channels, 64)\n",
    "        self.pool1 = nn.MaxPool1d(2, padding=0)\n",
    "        \n",
    "        self.enc2 = DoubleConv(64, 128)\n",
    "        self.pool2 = nn.MaxPool1d(2, padding=0)\n",
    "        \n",
    "        self.enc3 = DoubleConv(128, 256)\n",
    "        self.pool3 = nn.MaxPool1d(2, padding=0)\n",
    "        \n",
    "        # Bottleneck\n",
    "        self.bottleneck = DoubleConv(256, 512)\n",
    "        \n",
    "        # Time feature projection\n",
    "        self.time_mlp = nn.Linear(64, 512)\n",
    "        \n",
    "        # Decoder with output padding to match encoder sizes\n",
    "        self.upconv3 = nn.ConvTranspose1d(512, 256, 2, stride=2, output_padding=0)\n",
    "        self.dec3 = DoubleConv(512, 256)\n",
    "        \n",
    "        self.upconv2 = nn.ConvTranspose1d(256, 128, 2, stride=2, output_padding=0)\n",
    "        self.dec2 = DoubleConv(256, 128)\n",
    "        \n",
    "        self.upconv1 = nn.ConvTranspose1d(128, 64, 2, stride=2, output_padding=0)\n",
    "        self.dec1 = DoubleConv(128, 64)\n",
    "        \n",
    "        self.final_conv = nn.Conv1d(64, in_channels, 1)\n",
    "        \n",
    "    def forward(self, x, t):\n",
    "        # Time embedding\n",
    "        t_emb = self.time_embed(t)\n",
    "        t_emb = self.time_mlp(t_emb)\n",
    "        \n",
    "        # Encoder\n",
    "        e1 = self.enc1(x)\n",
    "        p1 = self.pool1(e1)\n",
    "        \n",
    "        e2 = self.enc2(p1)\n",
    "        p2 = self.pool2(e2)\n",
    "        \n",
    "        e3 = self.enc3(p2)\n",
    "        p3 = self.pool3(e3)\n",
    "        \n",
    "        # Bottleneck with time embedding\n",
    "        b = self.bottleneck(p3)\n",
    "        b = b + t_emb.unsqueeze(-1)\n",
    "        \n",
    "        # Decoder with size adjustment if needed\n",
    "        d3 = self.upconv3(b)\n",
    "        if d3.shape[-1] != e3.shape[-1]:\n",
    "            d3 = F.interpolate(d3, size=e3.shape[-1], mode='linear')\n",
    "        d3 = torch.cat([d3, e3], dim=1)\n",
    "        d3 = self.dec3(d3)\n",
    "        \n",
    "        d2 = self.upconv2(d3)\n",
    "        if d2.shape[-1] != e2.shape[-1]:\n",
    "            d2 = F.interpolate(d2, size=e2.shape[-1], mode='linear')\n",
    "        d2 = torch.cat([d2, e2], dim=1)\n",
    "        d2 = self.dec2(d2)\n",
    "        \n",
    "        d1 = self.upconv1(d2)\n",
    "        if d1.shape[-1] != e1.shape[-1]:\n",
    "            d1 = F.interpolate(d1, size=e1.shape[-1], mode='linear')\n",
    "        d1 = torch.cat([d1, e1], dim=1)\n",
    "        d1 = self.dec1(d1)\n",
    "        \n",
    "        return self.final_conv(d1)"
   ]
  },
  {
   "cell_type": "code",
   "execution_count": 16,
   "id": "f5d9911b",
   "metadata": {
    "ExecuteTime": {
     "end_time": "2025-02-11T04:25:44.561646Z",
     "start_time": "2025-02-11T04:25:44.554324Z"
    }
   },
   "outputs": [],
   "source": [
    "class DDPM:\n",
    "    def __init__(self, num_timesteps=1000, beta_start=1e-4, beta_end=0.02):\n",
    "        \"\"\"\n",
    "        num_timesteps: total diffusion steps T\n",
    "        beta_start, beta_end: β₁ and βₜ for linear schedule\n",
    "        \"\"\"\n",
    "        self.num_timesteps = num_timesteps\n",
    "        \n",
    "        # Linear variance schedule\n",
    "        self.betas = torch.linspace(beta_start, beta_end, num_timesteps)\n",
    "        self.alphas = 1. - self.betas\n",
    "        self.alphas_cumprod = torch.cumprod(self.alphas, dim=0)\n",
    "        \n",
    "    def q_sample(self, x_0, t):\n",
    "        \"\"\"\n",
    "        Forward diffusion process: q(x_t | x_0)\n",
    "        Samples from q(x_t | x_0) = N(x_t; √(αₜ)x₀, (1-αₜ)I)\n",
    "        \"\"\"\n",
    "        sqrt_alphas_cumprod = torch.sqrt(self.alphas_cumprod[t])[:, None, None]\n",
    "        sqrt_one_minus_alphas_cumprod = torch.sqrt(1. - self.alphas_cumprod[t])[:, None, None]\n",
    "        epsilon = torch.randn_like(x_0)\n",
    "        return sqrt_alphas_cumprod * x_0 + sqrt_one_minus_alphas_cumprod * epsilon, epsilon\n",
    "    \n",
    "    def sample_t(self, batch_size):\n",
    "        \"\"\"\n",
    "        Uniformly sample timesteps t\n",
    "        \"\"\"\n",
    "        return torch.randint(0, self.num_timesteps, (batch_size,))\n",
    "        \n",
    "    def p_sample(self, model, batch_size, device, shape):\n",
    "        \"\"\"\n",
    "        Reverse diffusion process: p_θ(x_{t-1} | x_t)\n",
    "        Generate samples using the reverse process\n",
    "        \"\"\"\n",
    "        model.eval()\n",
    "        with torch.no_grad():\n",
    "            x_t = torch.randn(batch_size, *shape).to(device)\n",
    "            \n",
    "            for t in reversed(range(1, self.num_timesteps)):\n",
    "                time_tensor = torch.ones(batch_size, dtype=torch.long).to(device) * t\n",
    "                \n",
    "                # Predict noise\n",
    "                predicted_noise = model(x_t, time_tensor)\n",
    "                \n",
    "                alpha = self.alphas[t][:, None, None]\n",
    "                alpha_cumprod = self.alphas_cumprod[t][:, None, None]\n",
    "                beta = self.betas[t][:, None, None]\n",
    "                \n",
    "                # Add noise for stochasticity\n",
    "                noise = torch.randn_like(x_t)\n",
    "                \n",
    "                # Compute mean for p_θ(x_{t-1} | x_t)\n",
    "                x_t = 1 / torch.sqrt(alpha) * (\n",
    "                    x_t - (1 - alpha) / torch.sqrt(1 - alpha_cumprod) * predicted_noise\n",
    "                ) + torch.sqrt(beta) * noise\n",
    "                \n",
    "        model.train()\n",
    "        return x_t"
   ]
  },
  {
   "cell_type": "code",
   "execution_count": 17,
   "id": "eb8d98da",
   "metadata": {
    "ExecuteTime": {
     "end_time": "2025-02-11T04:25:44.567470Z",
     "start_time": "2025-02-11T04:25:44.563359Z"
    }
   },
   "outputs": [],
   "source": [
    "def train_ddpm(model, train_loader, ddpm, optimizer, num_epochs, device):\n",
    "    model.train()\n",
    "    \n",
    "    for epoch in range(num_epochs):\n",
    "        epoch_loss = 0\n",
    "        n_batches = len(train_loader)\n",
    "        \n",
    "        for batch in tqdm(train_loader, desc=f'Epoch {epoch+1}/{num_epochs}'):\n",
    "            # batch is already [batch, features, window_length]\n",
    "            x_0 = batch.to(device)\n",
    "            batch_size = x_0.shape[0]\n",
    "            \n",
    "            optimizer.zero_grad()\n",
    "            t = ddpm.sample_t(batch_size).to(device)\n",
    "            x_t, epsilon = ddpm.q_sample(x_0, t)\n",
    "            epsilon_theta = model(x_t, t)\n",
    "            loss = F.mse_loss(epsilon_theta, epsilon)\n",
    "            loss.backward()\n",
    "            optimizer.step()\n",
    "            \n",
    "            epoch_loss += loss.item()\n",
    "        \n",
    "        avg_loss = epoch_loss / n_batches\n",
    "        print(f'Epoch {epoch+1}/{num_epochs} - Avg Loss: {avg_loss:.4f}')"
   ]
  },
  {
   "cell_type": "code",
   "execution_count": 18,
   "id": "04f9ba7e",
   "metadata": {
    "ExecuteTime": {
     "end_time": "2025-02-11T13:50:33.328520Z",
     "start_time": "2025-02-11T04:25:44.569370Z"
    }
   },
   "outputs": [
    {
     "name": "stdout",
     "output_type": "stream",
     "text": [
      "Train data shape: (52512, 20, 9)\n",
      "Dataset sample shape: torch.Size([9, 20])\n",
      "Batch shape: torch.Size([32, 9, 20])\n"
     ]
    },
    {
     "name": "stderr",
     "output_type": "stream",
     "text": [
      "Epoch 1/80: 100%|███████████████████████████| 1641/1641 [01:15<00:00, 21.73it/s]\n"
     ]
    },
    {
     "name": "stdout",
     "output_type": "stream",
     "text": [
      "Epoch 1/80 - Avg Loss: 0.5191\n"
     ]
    },
    {
     "name": "stderr",
     "output_type": "stream",
     "text": [
      "Epoch 2/80: 100%|███████████████████████████| 1641/1641 [01:20<00:00, 20.28it/s]\n"
     ]
    },
    {
     "name": "stdout",
     "output_type": "stream",
     "text": [
      "Epoch 2/80 - Avg Loss: 0.2871\n"
     ]
    },
    {
     "name": "stderr",
     "output_type": "stream",
     "text": [
      "Epoch 3/80: 100%|███████████████████████████| 1641/1641 [01:24<00:00, 19.40it/s]\n"
     ]
    },
    {
     "name": "stdout",
     "output_type": "stream",
     "text": [
      "Epoch 3/80 - Avg Loss: 0.2487\n"
     ]
    },
    {
     "name": "stderr",
     "output_type": "stream",
     "text": [
      "Epoch 4/80: 100%|███████████████████████████| 1641/1641 [01:22<00:00, 19.99it/s]\n"
     ]
    },
    {
     "name": "stdout",
     "output_type": "stream",
     "text": [
      "Epoch 4/80 - Avg Loss: 0.2245\n"
     ]
    },
    {
     "name": "stderr",
     "output_type": "stream",
     "text": [
      "Epoch 5/80: 100%|███████████████████████████| 1641/1641 [01:23<00:00, 19.63it/s]\n"
     ]
    },
    {
     "name": "stdout",
     "output_type": "stream",
     "text": [
      "Epoch 5/80 - Avg Loss: 0.2091\n"
     ]
    },
    {
     "name": "stderr",
     "output_type": "stream",
     "text": [
      "Epoch 6/80: 100%|███████████████████████████| 1641/1641 [01:26<00:00, 19.02it/s]\n"
     ]
    },
    {
     "name": "stdout",
     "output_type": "stream",
     "text": [
      "Epoch 6/80 - Avg Loss: 0.1991\n"
     ]
    },
    {
     "name": "stderr",
     "output_type": "stream",
     "text": [
      "Epoch 7/80: 100%|███████████████████████████| 1641/1641 [01:26<00:00, 19.06it/s]\n"
     ]
    },
    {
     "name": "stdout",
     "output_type": "stream",
     "text": [
      "Epoch 7/80 - Avg Loss: 0.1927\n"
     ]
    },
    {
     "name": "stderr",
     "output_type": "stream",
     "text": [
      "Epoch 8/80: 100%|███████████████████████████| 1641/1641 [01:26<00:00, 18.96it/s]\n"
     ]
    },
    {
     "name": "stdout",
     "output_type": "stream",
     "text": [
      "Epoch 8/80 - Avg Loss: 0.1892\n"
     ]
    },
    {
     "name": "stderr",
     "output_type": "stream",
     "text": [
      "Epoch 9/80: 100%|███████████████████████████| 1641/1641 [01:26<00:00, 18.92it/s]\n"
     ]
    },
    {
     "name": "stdout",
     "output_type": "stream",
     "text": [
      "Epoch 9/80 - Avg Loss: 0.1839\n"
     ]
    },
    {
     "name": "stderr",
     "output_type": "stream",
     "text": [
      "Epoch 10/80: 100%|██████████████████████████| 1641/1641 [01:28<00:00, 18.64it/s]\n"
     ]
    },
    {
     "name": "stdout",
     "output_type": "stream",
     "text": [
      "Epoch 10/80 - Avg Loss: 0.1814\n"
     ]
    },
    {
     "name": "stderr",
     "output_type": "stream",
     "text": [
      "Epoch 11/80: 100%|██████████████████████████| 1641/1641 [01:27<00:00, 18.78it/s]\n"
     ]
    },
    {
     "name": "stdout",
     "output_type": "stream",
     "text": [
      "Epoch 11/80 - Avg Loss: 0.1782\n"
     ]
    },
    {
     "name": "stderr",
     "output_type": "stream",
     "text": [
      "Epoch 12/80: 100%|██████████████████████████| 1641/1641 [01:27<00:00, 18.78it/s]\n"
     ]
    },
    {
     "name": "stdout",
     "output_type": "stream",
     "text": [
      "Epoch 12/80 - Avg Loss: 0.1764\n"
     ]
    },
    {
     "name": "stderr",
     "output_type": "stream",
     "text": [
      "Epoch 13/80: 100%|██████████████████████████| 1641/1641 [01:27<00:00, 18.76it/s]\n"
     ]
    },
    {
     "name": "stdout",
     "output_type": "stream",
     "text": [
      "Epoch 13/80 - Avg Loss: 0.1729\n"
     ]
    },
    {
     "name": "stderr",
     "output_type": "stream",
     "text": [
      "Epoch 14/80: 100%|██████████████████████████| 1641/1641 [01:28<00:00, 18.50it/s]\n"
     ]
    },
    {
     "name": "stdout",
     "output_type": "stream",
     "text": [
      "Epoch 14/80 - Avg Loss: 0.1709\n"
     ]
    },
    {
     "name": "stderr",
     "output_type": "stream",
     "text": [
      "Epoch 15/80: 100%|██████████████████████████| 1641/1641 [01:32<00:00, 17.67it/s]\n"
     ]
    },
    {
     "name": "stdout",
     "output_type": "stream",
     "text": [
      "Epoch 15/80 - Avg Loss: 0.1703\n"
     ]
    },
    {
     "name": "stderr",
     "output_type": "stream",
     "text": [
      "Epoch 16/80: 100%|██████████████████████████| 1641/1641 [01:39<00:00, 16.42it/s]\n"
     ]
    },
    {
     "name": "stdout",
     "output_type": "stream",
     "text": [
      "Epoch 16/80 - Avg Loss: 0.1697\n"
     ]
    },
    {
     "name": "stderr",
     "output_type": "stream",
     "text": [
      "Epoch 17/80: 100%|██████████████████████████| 1641/1641 [01:39<00:00, 16.53it/s]\n"
     ]
    },
    {
     "name": "stdout",
     "output_type": "stream",
     "text": [
      "Epoch 17/80 - Avg Loss: 0.1650\n"
     ]
    },
    {
     "name": "stderr",
     "output_type": "stream",
     "text": [
      "Epoch 18/80: 100%|██████████████████████████| 1641/1641 [01:36<00:00, 16.96it/s]\n"
     ]
    },
    {
     "name": "stdout",
     "output_type": "stream",
     "text": [
      "Epoch 18/80 - Avg Loss: 0.1642\n"
     ]
    },
    {
     "name": "stderr",
     "output_type": "stream",
     "text": [
      "Epoch 19/80: 100%|██████████████████████████| 1641/1641 [01:44<00:00, 15.72it/s]\n"
     ]
    },
    {
     "name": "stdout",
     "output_type": "stream",
     "text": [
      "Epoch 19/80 - Avg Loss: 0.1641\n"
     ]
    },
    {
     "name": "stderr",
     "output_type": "stream",
     "text": [
      "Epoch 20/80: 100%|██████████████████████████| 1641/1641 [01:55<00:00, 14.17it/s]\n"
     ]
    },
    {
     "name": "stdout",
     "output_type": "stream",
     "text": [
      "Epoch 20/80 - Avg Loss: 0.1608\n"
     ]
    },
    {
     "name": "stderr",
     "output_type": "stream",
     "text": [
      "Epoch 21/80: 100%|██████████████████████████| 1641/1641 [01:43<00:00, 15.82it/s]\n"
     ]
    },
    {
     "name": "stdout",
     "output_type": "stream",
     "text": [
      "Epoch 21/80 - Avg Loss: 0.1631\n"
     ]
    },
    {
     "name": "stderr",
     "output_type": "stream",
     "text": [
      "Epoch 22/80: 100%|██████████████████████████| 1641/1641 [01:50<00:00, 14.88it/s]\n"
     ]
    },
    {
     "name": "stdout",
     "output_type": "stream",
     "text": [
      "Epoch 22/80 - Avg Loss: 0.1599\n"
     ]
    },
    {
     "name": "stderr",
     "output_type": "stream",
     "text": [
      "Epoch 23/80: 100%|██████████████████████████| 1641/1641 [02:03<00:00, 13.29it/s]\n"
     ]
    },
    {
     "name": "stdout",
     "output_type": "stream",
     "text": [
      "Epoch 23/80 - Avg Loss: 0.1573\n"
     ]
    },
    {
     "name": "stderr",
     "output_type": "stream",
     "text": [
      "Epoch 24/80: 100%|██████████████████████████| 1641/1641 [02:32<00:00, 10.78it/s]\n"
     ]
    },
    {
     "name": "stdout",
     "output_type": "stream",
     "text": [
      "Epoch 24/80 - Avg Loss: 0.1574\n"
     ]
    },
    {
     "name": "stderr",
     "output_type": "stream",
     "text": [
      "Epoch 25/80: 100%|██████████████████████████| 1641/1641 [03:48<00:00,  7.19it/s]\n"
     ]
    },
    {
     "name": "stdout",
     "output_type": "stream",
     "text": [
      "Epoch 25/80 - Avg Loss: 0.1560\n"
     ]
    },
    {
     "name": "stderr",
     "output_type": "stream",
     "text": [
      "Epoch 26/80: 100%|██████████████████████████| 1641/1641 [08:39<00:00,  3.16it/s]\n"
     ]
    },
    {
     "name": "stdout",
     "output_type": "stream",
     "text": [
      "Epoch 26/80 - Avg Loss: 0.1547\n"
     ]
    },
    {
     "name": "stderr",
     "output_type": "stream",
     "text": [
      "Epoch 27/80: 100%|██████████████████████████| 1641/1641 [16:27<00:00,  1.66it/s]\n"
     ]
    },
    {
     "name": "stdout",
     "output_type": "stream",
     "text": [
      "Epoch 27/80 - Avg Loss: 0.1539\n"
     ]
    },
    {
     "name": "stderr",
     "output_type": "stream",
     "text": [
      "Epoch 28/80: 100%|██████████████████████████| 1641/1641 [16:30<00:00,  1.66it/s]\n"
     ]
    },
    {
     "name": "stdout",
     "output_type": "stream",
     "text": [
      "Epoch 28/80 - Avg Loss: 0.1537\n"
     ]
    },
    {
     "name": "stderr",
     "output_type": "stream",
     "text": [
      "Epoch 29/80: 100%|██████████████████████████| 1641/1641 [16:27<00:00,  1.66it/s]\n"
     ]
    },
    {
     "name": "stdout",
     "output_type": "stream",
     "text": [
      "Epoch 29/80 - Avg Loss: 0.1530\n"
     ]
    },
    {
     "name": "stderr",
     "output_type": "stream",
     "text": [
      "Epoch 30/80: 100%|████████████████████████| 1641/1641 [5:58:53<00:00, 13.12s/it]\n"
     ]
    },
    {
     "name": "stdout",
     "output_type": "stream",
     "text": [
      "Epoch 30/80 - Avg Loss: 0.1510\n"
     ]
    },
    {
     "name": "stderr",
     "output_type": "stream",
     "text": [
      "Epoch 31/80: 100%|██████████████████████████| 1641/1641 [04:01<00:00,  6.79it/s]\n"
     ]
    },
    {
     "name": "stdout",
     "output_type": "stream",
     "text": [
      "Epoch 31/80 - Avg Loss: 0.1523\n"
     ]
    },
    {
     "name": "stderr",
     "output_type": "stream",
     "text": [
      "Epoch 32/80: 100%|██████████████████████████| 1641/1641 [02:24<00:00, 11.35it/s]\n"
     ]
    },
    {
     "name": "stdout",
     "output_type": "stream",
     "text": [
      "Epoch 32/80 - Avg Loss: 0.1501\n"
     ]
    },
    {
     "name": "stderr",
     "output_type": "stream",
     "text": [
      "Epoch 33/80: 100%|██████████████████████████| 1641/1641 [02:30<00:00, 10.87it/s]\n"
     ]
    },
    {
     "name": "stdout",
     "output_type": "stream",
     "text": [
      "Epoch 33/80 - Avg Loss: 0.1488\n"
     ]
    },
    {
     "name": "stderr",
     "output_type": "stream",
     "text": [
      "Epoch 34/80: 100%|██████████████████████████| 1641/1641 [02:54<00:00,  9.39it/s]\n"
     ]
    },
    {
     "name": "stdout",
     "output_type": "stream",
     "text": [
      "Epoch 34/80 - Avg Loss: 0.1497\n"
     ]
    },
    {
     "name": "stderr",
     "output_type": "stream",
     "text": [
      "Epoch 35/80: 100%|██████████████████████████| 1641/1641 [02:53<00:00,  9.45it/s]\n"
     ]
    },
    {
     "name": "stdout",
     "output_type": "stream",
     "text": [
      "Epoch 35/80 - Avg Loss: 0.1477\n"
     ]
    },
    {
     "name": "stderr",
     "output_type": "stream",
     "text": [
      "Epoch 36/80: 100%|██████████████████████████| 1641/1641 [01:56<00:00, 14.08it/s]\n"
     ]
    },
    {
     "name": "stdout",
     "output_type": "stream",
     "text": [
      "Epoch 36/80 - Avg Loss: 0.1471\n"
     ]
    },
    {
     "name": "stderr",
     "output_type": "stream",
     "text": [
      "Epoch 37/80: 100%|██████████████████████████| 1641/1641 [02:56<00:00,  9.28it/s]\n"
     ]
    },
    {
     "name": "stdout",
     "output_type": "stream",
     "text": [
      "Epoch 37/80 - Avg Loss: 0.1478\n"
     ]
    },
    {
     "name": "stderr",
     "output_type": "stream",
     "text": [
      "Epoch 38/80: 100%|██████████████████████████| 1641/1641 [02:48<00:00,  9.72it/s]\n"
     ]
    },
    {
     "name": "stdout",
     "output_type": "stream",
     "text": [
      "Epoch 38/80 - Avg Loss: 0.1460\n"
     ]
    },
    {
     "name": "stderr",
     "output_type": "stream",
     "text": [
      "Epoch 39/80: 100%|██████████████████████████| 1641/1641 [01:54<00:00, 14.29it/s]\n"
     ]
    },
    {
     "name": "stdout",
     "output_type": "stream",
     "text": [
      "Epoch 39/80 - Avg Loss: 0.1452\n"
     ]
    },
    {
     "name": "stderr",
     "output_type": "stream",
     "text": [
      "Epoch 40/80: 100%|██████████████████████████| 1641/1641 [02:25<00:00, 11.29it/s]\n"
     ]
    },
    {
     "name": "stdout",
     "output_type": "stream",
     "text": [
      "Epoch 40/80 - Avg Loss: 0.1472\n"
     ]
    },
    {
     "name": "stderr",
     "output_type": "stream",
     "text": [
      "Epoch 41/80: 100%|██████████████████████████| 1641/1641 [02:05<00:00, 13.07it/s]\n"
     ]
    },
    {
     "name": "stdout",
     "output_type": "stream",
     "text": [
      "Epoch 41/80 - Avg Loss: 0.1452\n"
     ]
    },
    {
     "name": "stderr",
     "output_type": "stream",
     "text": [
      "Epoch 42/80: 100%|██████████████████████████| 1641/1641 [01:55<00:00, 14.26it/s]\n"
     ]
    },
    {
     "name": "stdout",
     "output_type": "stream",
     "text": [
      "Epoch 42/80 - Avg Loss: 0.1448\n"
     ]
    },
    {
     "name": "stderr",
     "output_type": "stream",
     "text": [
      "Epoch 43/80: 100%|██████████████████████████| 1641/1641 [01:46<00:00, 15.46it/s]\n"
     ]
    },
    {
     "name": "stdout",
     "output_type": "stream",
     "text": [
      "Epoch 43/80 - Avg Loss: 0.1437\n"
     ]
    },
    {
     "name": "stderr",
     "output_type": "stream",
     "text": [
      "Epoch 44/80: 100%|██████████████████████████| 1641/1641 [01:42<00:00, 16.07it/s]\n"
     ]
    },
    {
     "name": "stdout",
     "output_type": "stream",
     "text": [
      "Epoch 44/80 - Avg Loss: 0.1432\n"
     ]
    },
    {
     "name": "stderr",
     "output_type": "stream",
     "text": [
      "Epoch 45/80: 100%|██████████████████████████| 1641/1641 [02:02<00:00, 13.40it/s]\n"
     ]
    },
    {
     "name": "stdout",
     "output_type": "stream",
     "text": [
      "Epoch 45/80 - Avg Loss: 0.1448\n"
     ]
    },
    {
     "name": "stderr",
     "output_type": "stream",
     "text": [
      "Epoch 46/80: 100%|██████████████████████████| 1641/1641 [01:57<00:00, 14.02it/s]\n"
     ]
    },
    {
     "name": "stdout",
     "output_type": "stream",
     "text": [
      "Epoch 46/80 - Avg Loss: 0.1428\n"
     ]
    },
    {
     "name": "stderr",
     "output_type": "stream",
     "text": [
      "Epoch 47/80: 100%|██████████████████████████| 1641/1641 [02:27<00:00, 11.12it/s]\n"
     ]
    },
    {
     "name": "stdout",
     "output_type": "stream",
     "text": [
      "Epoch 47/80 - Avg Loss: 0.1418\n"
     ]
    },
    {
     "name": "stderr",
     "output_type": "stream",
     "text": [
      "Epoch 48/80: 100%|██████████████████████████| 1641/1641 [02:17<00:00, 11.95it/s]\n"
     ]
    },
    {
     "name": "stdout",
     "output_type": "stream",
     "text": [
      "Epoch 48/80 - Avg Loss: 0.1413\n"
     ]
    },
    {
     "name": "stderr",
     "output_type": "stream",
     "text": [
      "Epoch 49/80: 100%|██████████████████████████| 1641/1641 [02:18<00:00, 11.88it/s]\n"
     ]
    },
    {
     "name": "stdout",
     "output_type": "stream",
     "text": [
      "Epoch 49/80 - Avg Loss: 0.1428\n"
     ]
    },
    {
     "name": "stderr",
     "output_type": "stream",
     "text": [
      "Epoch 50/80: 100%|██████████████████████████| 1641/1641 [02:21<00:00, 11.62it/s]\n"
     ]
    },
    {
     "name": "stdout",
     "output_type": "stream",
     "text": [
      "Epoch 50/80 - Avg Loss: 0.1414\n"
     ]
    },
    {
     "name": "stderr",
     "output_type": "stream",
     "text": [
      "Epoch 51/80: 100%|██████████████████████████| 1641/1641 [02:32<00:00, 10.78it/s]\n"
     ]
    },
    {
     "name": "stdout",
     "output_type": "stream",
     "text": [
      "Epoch 51/80 - Avg Loss: 0.1398\n"
     ]
    },
    {
     "name": "stderr",
     "output_type": "stream",
     "text": [
      "Epoch 52/80: 100%|██████████████████████████| 1641/1641 [02:36<00:00, 10.48it/s]\n"
     ]
    },
    {
     "name": "stdout",
     "output_type": "stream",
     "text": [
      "Epoch 52/80 - Avg Loss: 0.1416\n"
     ]
    },
    {
     "name": "stderr",
     "output_type": "stream",
     "text": [
      "Epoch 53/80: 100%|██████████████████████████| 1641/1641 [02:34<00:00, 10.59it/s]\n"
     ]
    },
    {
     "name": "stdout",
     "output_type": "stream",
     "text": [
      "Epoch 53/80 - Avg Loss: 0.1409\n"
     ]
    },
    {
     "name": "stderr",
     "output_type": "stream",
     "text": [
      "Epoch 54/80: 100%|██████████████████████████| 1641/1641 [02:39<00:00, 10.27it/s]\n"
     ]
    },
    {
     "name": "stdout",
     "output_type": "stream",
     "text": [
      "Epoch 54/80 - Avg Loss: 0.1398\n"
     ]
    },
    {
     "name": "stderr",
     "output_type": "stream",
     "text": [
      "Epoch 55/80: 100%|██████████████████████████| 1641/1641 [02:06<00:00, 12.99it/s]\n"
     ]
    },
    {
     "name": "stdout",
     "output_type": "stream",
     "text": [
      "Epoch 55/80 - Avg Loss: 0.1401\n"
     ]
    },
    {
     "name": "stderr",
     "output_type": "stream",
     "text": [
      "Epoch 56/80: 100%|██████████████████████████| 1641/1641 [02:04<00:00, 13.13it/s]\n"
     ]
    },
    {
     "name": "stdout",
     "output_type": "stream",
     "text": [
      "Epoch 56/80 - Avg Loss: 0.1403\n"
     ]
    },
    {
     "name": "stderr",
     "output_type": "stream",
     "text": [
      "Epoch 57/80: 100%|██████████████████████████| 1641/1641 [02:46<00:00,  9.85it/s]\n"
     ]
    },
    {
     "name": "stdout",
     "output_type": "stream",
     "text": [
      "Epoch 57/80 - Avg Loss: 0.1398\n"
     ]
    },
    {
     "name": "stderr",
     "output_type": "stream",
     "text": [
      "Epoch 58/80: 100%|██████████████████████████| 1641/1641 [02:29<00:00, 10.95it/s]\n"
     ]
    },
    {
     "name": "stdout",
     "output_type": "stream",
     "text": [
      "Epoch 58/80 - Avg Loss: 0.1380\n"
     ]
    },
    {
     "name": "stderr",
     "output_type": "stream",
     "text": [
      "Epoch 59/80: 100%|██████████████████████████| 1641/1641 [01:41<00:00, 16.17it/s]\n"
     ]
    },
    {
     "name": "stdout",
     "output_type": "stream",
     "text": [
      "Epoch 59/80 - Avg Loss: 0.1388\n"
     ]
    },
    {
     "name": "stderr",
     "output_type": "stream",
     "text": [
      "Epoch 60/80: 100%|██████████████████████████| 1641/1641 [01:44<00:00, 15.66it/s]\n"
     ]
    },
    {
     "name": "stdout",
     "output_type": "stream",
     "text": [
      "Epoch 60/80 - Avg Loss: 0.1362\n"
     ]
    },
    {
     "name": "stderr",
     "output_type": "stream",
     "text": [
      "Epoch 61/80: 100%|██████████████████████████| 1641/1641 [01:44<00:00, 15.71it/s]\n"
     ]
    },
    {
     "name": "stdout",
     "output_type": "stream",
     "text": [
      "Epoch 61/80 - Avg Loss: 0.1381\n"
     ]
    },
    {
     "name": "stderr",
     "output_type": "stream",
     "text": [
      "Epoch 62/80: 100%|██████████████████████████| 1641/1641 [01:45<00:00, 15.60it/s]\n"
     ]
    },
    {
     "name": "stdout",
     "output_type": "stream",
     "text": [
      "Epoch 62/80 - Avg Loss: 0.1356\n"
     ]
    },
    {
     "name": "stderr",
     "output_type": "stream",
     "text": [
      "Epoch 63/80: 100%|██████████████████████████| 1641/1641 [01:44<00:00, 15.76it/s]\n"
     ]
    },
    {
     "name": "stdout",
     "output_type": "stream",
     "text": [
      "Epoch 63/80 - Avg Loss: 0.1368\n"
     ]
    },
    {
     "name": "stderr",
     "output_type": "stream",
     "text": [
      "Epoch 64/80: 100%|██████████████████████████| 1641/1641 [01:44<00:00, 15.77it/s]\n"
     ]
    },
    {
     "name": "stdout",
     "output_type": "stream",
     "text": [
      "Epoch 64/80 - Avg Loss: 0.1372\n"
     ]
    },
    {
     "name": "stderr",
     "output_type": "stream",
     "text": [
      "Epoch 65/80: 100%|██████████████████████████| 1641/1641 [01:44<00:00, 15.67it/s]\n"
     ]
    },
    {
     "name": "stdout",
     "output_type": "stream",
     "text": [
      "Epoch 65/80 - Avg Loss: 0.1356\n"
     ]
    },
    {
     "name": "stderr",
     "output_type": "stream",
     "text": [
      "Epoch 66/80: 100%|██████████████████████████| 1641/1641 [01:44<00:00, 15.78it/s]\n"
     ]
    },
    {
     "name": "stdout",
     "output_type": "stream",
     "text": [
      "Epoch 66/80 - Avg Loss: 0.1349\n"
     ]
    },
    {
     "name": "stderr",
     "output_type": "stream",
     "text": [
      "Epoch 67/80: 100%|██████████████████████████| 1641/1641 [01:46<00:00, 15.37it/s]\n"
     ]
    },
    {
     "name": "stdout",
     "output_type": "stream",
     "text": [
      "Epoch 67/80 - Avg Loss: 0.1363\n"
     ]
    },
    {
     "name": "stderr",
     "output_type": "stream",
     "text": [
      "Epoch 68/80: 100%|██████████████████████████| 1641/1641 [01:44<00:00, 15.65it/s]\n"
     ]
    },
    {
     "name": "stdout",
     "output_type": "stream",
     "text": [
      "Epoch 68/80 - Avg Loss: 0.1362\n"
     ]
    },
    {
     "name": "stderr",
     "output_type": "stream",
     "text": [
      "Epoch 69/80: 100%|██████████████████████████| 1641/1641 [01:47<00:00, 15.24it/s]\n"
     ]
    },
    {
     "name": "stdout",
     "output_type": "stream",
     "text": [
      "Epoch 69/80 - Avg Loss: 0.1339\n"
     ]
    },
    {
     "name": "stderr",
     "output_type": "stream",
     "text": [
      "Epoch 70/80: 100%|██████████████████████████| 1641/1641 [01:44<00:00, 15.77it/s]\n"
     ]
    },
    {
     "name": "stdout",
     "output_type": "stream",
     "text": [
      "Epoch 70/80 - Avg Loss: 0.1367\n"
     ]
    },
    {
     "name": "stderr",
     "output_type": "stream",
     "text": [
      "Epoch 71/80: 100%|██████████████████████████| 1641/1641 [01:43<00:00, 15.81it/s]\n"
     ]
    },
    {
     "name": "stdout",
     "output_type": "stream",
     "text": [
      "Epoch 71/80 - Avg Loss: 0.1352\n"
     ]
    },
    {
     "name": "stderr",
     "output_type": "stream",
     "text": [
      "Epoch 72/80: 100%|██████████████████████████| 1641/1641 [01:44<00:00, 15.76it/s]\n"
     ]
    },
    {
     "name": "stdout",
     "output_type": "stream",
     "text": [
      "Epoch 72/80 - Avg Loss: 0.1341\n"
     ]
    },
    {
     "name": "stderr",
     "output_type": "stream",
     "text": [
      "Epoch 73/80: 100%|██████████████████████████| 1641/1641 [01:44<00:00, 15.73it/s]\n"
     ]
    },
    {
     "name": "stdout",
     "output_type": "stream",
     "text": [
      "Epoch 73/80 - Avg Loss: 0.1358\n"
     ]
    },
    {
     "name": "stderr",
     "output_type": "stream",
     "text": [
      "Epoch 74/80: 100%|██████████████████████████| 1641/1641 [01:43<00:00, 15.84it/s]\n"
     ]
    },
    {
     "name": "stdout",
     "output_type": "stream",
     "text": [
      "Epoch 74/80 - Avg Loss: 0.1348\n"
     ]
    },
    {
     "name": "stderr",
     "output_type": "stream",
     "text": [
      "Epoch 75/80: 100%|██████████████████████████| 1641/1641 [01:44<00:00, 15.68it/s]\n"
     ]
    },
    {
     "name": "stdout",
     "output_type": "stream",
     "text": [
      "Epoch 75/80 - Avg Loss: 0.1334\n"
     ]
    },
    {
     "name": "stderr",
     "output_type": "stream",
     "text": [
      "Epoch 76/80: 100%|██████████████████████████| 1641/1641 [01:44<00:00, 15.69it/s]\n"
     ]
    },
    {
     "name": "stdout",
     "output_type": "stream",
     "text": [
      "Epoch 76/80 - Avg Loss: 0.1325\n"
     ]
    },
    {
     "name": "stderr",
     "output_type": "stream",
     "text": [
      "Epoch 77/80: 100%|██████████████████████████| 1641/1641 [01:43<00:00, 15.89it/s]\n"
     ]
    },
    {
     "name": "stdout",
     "output_type": "stream",
     "text": [
      "Epoch 77/80 - Avg Loss: 0.1324\n"
     ]
    },
    {
     "name": "stderr",
     "output_type": "stream",
     "text": [
      "Epoch 78/80: 100%|██████████████████████████| 1641/1641 [01:46<00:00, 15.46it/s]\n"
     ]
    },
    {
     "name": "stdout",
     "output_type": "stream",
     "text": [
      "Epoch 78/80 - Avg Loss: 0.1315\n"
     ]
    },
    {
     "name": "stderr",
     "output_type": "stream",
     "text": [
      "Epoch 79/80: 100%|██████████████████████████| 1641/1641 [01:42<00:00, 15.95it/s]\n"
     ]
    },
    {
     "name": "stdout",
     "output_type": "stream",
     "text": [
      "Epoch 79/80 - Avg Loss: 0.1326\n"
     ]
    },
    {
     "name": "stderr",
     "output_type": "stream",
     "text": [
      "Epoch 80/80: 100%|██████████████████████████| 1641/1641 [01:43<00:00, 15.79it/s]"
     ]
    },
    {
     "name": "stdout",
     "output_type": "stream",
     "text": [
      "Epoch 80/80 - Avg Loss: 0.1317\n"
     ]
    },
    {
     "name": "stderr",
     "output_type": "stream",
     "text": [
      "\n"
     ]
    }
   ],
   "source": [
    "model = UNet1D().to(device)\n",
    "ddpm = DDPM(num_timesteps=1000)  # T=1000 in paper\n",
    "optimizer = optim.Adam(model.parameters(), lr=2e-4)  \n",
    "\n",
    "print(\"Train data shape:\", train_data.shape)\n",
    "\n",
    "train_dataset = MobiFallDataset(train_data)\n",
    "sample_data = train_dataset[0]\n",
    "print(\"Dataset sample shape:\", sample_data.shape)\n",
    "\n",
    "train_loader = DataLoader(train_dataset, batch_size=BATCH_SIZE)\n",
    "first_batch = next(iter(train_loader))\n",
    "print(\"Batch shape:\", first_batch.shape)\n",
    "\n",
    "train_ddpm(\n",
    "    model=model,\n",
    "    train_loader=train_loader,\n",
    "    ddpm=ddpm,\n",
    "    optimizer=optimizer,\n",
    "    num_epochs=EPOCHS,\n",
    "    device=device\n",
    ")"
   ]
  },
  {
   "cell_type": "code",
   "execution_count": 19,
   "id": "79e8fb3f",
   "metadata": {
    "ExecuteTime": {
     "end_time": "2025-02-11T13:50:33.363452Z",
     "start_time": "2025-02-11T13:50:33.346765Z"
    }
   },
   "outputs": [],
   "source": [
    "def flatten(X):\n",
    "    flattened_X = np.empty((X.shape[0], X.shape[2]))\n",
    "    for i in range(X.shape[0]):\n",
    "        flattened_X[i] = X[i, (X.shape[1]-1), :]\n",
    "    return flattened_X"
   ]
  },
  {
   "cell_type": "code",
   "execution_count": 20,
   "id": "4405f436",
   "metadata": {
    "ExecuteTime": {
     "end_time": "2025-02-11T13:50:33.374493Z",
     "start_time": "2025-02-11T13:50:33.367283Z"
    }
   },
   "outputs": [
    {
     "name": "stdout",
     "output_type": "stream",
     "text": [
      "(35508, 20, 9) (35508,)\n"
     ]
    }
   ],
   "source": [
    "print (test_data.shape, test_labels.shape)"
   ]
  },
  {
   "cell_type": "code",
   "execution_count": 21,
   "id": "c3b3f9fb",
   "metadata": {
    "ExecuteTime": {
     "end_time": "2025-02-11T13:50:42.210270Z",
     "start_time": "2025-02-11T13:50:33.377894Z"
    }
   },
   "outputs": [
    {
     "name": "stdout",
     "output_type": "stream",
     "text": [
      "Test tensor shape: torch.Size([35508, 9, 20])\n",
      "       reconstruction_error    true_class\n",
      "count          35508.000000  35508.000000\n",
      "mean               0.046220      0.014053\n",
      "std                0.061133      0.117712\n",
      "min                0.001261      0.000000\n",
      "25%                0.015787      0.000000\n",
      "50%                0.033224      0.000000\n",
      "75%                0.051679      0.000000\n",
      "max                1.130700      1.000000\n",
      "true_class\n",
      "0    0.043913\n",
      "1    0.208100\n",
      "Name: reconstruction_error, dtype: float64\n"
     ]
    }
   ],
   "source": [
    "model.eval()\n",
    "with torch.no_grad():\n",
    "    test_tensor = torch.FloatTensor(test_data).to(device)\n",
    "    \n",
    "    test_tensor = test_tensor.transpose(1, 2)\n",
    "    \n",
    "    test_tensor = (test_tensor - test_tensor.mean()) / (test_tensor.std() + 1e-8)\n",
    "    \n",
    "    print(\"Test tensor shape:\", test_tensor.shape)  # Should be [44876, 9, 20]\n",
    "    \n",
    "    t = torch.ones(test_data.shape[0]).to(device)\n",
    "    valid_x_predictions = model(test_tensor, t)\n",
    "    test_data_normalized = test_tensor.cpu().numpy()\n",
    "    \n",
    "    error = flatten(test_data_normalized) - flatten(valid_x_predictions)\n",
    "    valid_mse = np.mean(np.power(error, 2), axis=1)\n",
    "\n",
    "error_df = pd.DataFrame({\n",
    "    'reconstruction_error': valid_mse,\n",
    "    'true_class': test_labels\n",
    "})\n",
    "\n",
    "print(error_df.describe())\n",
    "print(error_df.groupby('true_class')['reconstruction_error'].mean())"
   ]
  },
  {
   "cell_type": "code",
   "execution_count": 22,
   "id": "ff750f2a",
   "metadata": {
    "ExecuteTime": {
     "end_time": "2025-02-11T13:51:02.843829Z",
     "start_time": "2025-02-11T13:50:42.213064Z"
    }
   },
   "outputs": [
    {
     "name": "stdout",
     "output_type": "stream",
     "text": [
      "Train scores - Mean: 34.6547, Std: 13.7359\n",
      "Test scores - Mean: 34.3658, Std: 13.8557\n"
     ]
    }
   ],
   "source": [
    "with torch.no_grad():\n",
    "    train_tensor = torch.FloatTensor(train_data).to(device)\n",
    "    train_tensor = train_tensor.transpose(1, 2)  # Transpose to [batch_size, channels, sequence_length]\n",
    "    train_tensor = (train_tensor - train_tensor.mean()) / (train_tensor.std() + 1e-8)\n",
    "    X_pred_train = model(train_tensor, torch.ones(train_data.shape[0]).to(device)).cpu().numpy()\n",
    "    \n",
    "    test_tensor = torch.FloatTensor(test_data).to(device)\n",
    "    test_tensor = test_tensor.transpose(1, 2)  # Transpose to [batch_size, channels, sequence_length]\n",
    "    test_tensor = (test_tensor - test_tensor.mean()) / (test_tensor.std() + 1e-8)\n",
    "    X_pred_test = model(test_tensor, torch.ones(test_data.shape[0]).to(device)).cpu().numpy()\n",
    "\n",
    "X_pred_train = np.transpose(X_pred_train, (0, 2, 1))  # Convert back to original format\n",
    "X_pred_test = np.transpose(X_pred_test, (0, 2, 1))  # Convert back to original format\n",
    "\n",
    "scored_train = np.mean(np.abs(flatten(train_data) - flatten(X_pred_train)), axis=1)\n",
    "scored_test = np.mean(np.abs(flatten(test_data) - flatten(X_pred_test)), axis=1)\n",
    "\n",
    "print(\"Train scores - Mean: {:.4f}, Std: {:.4f}\".format(np.mean(scored_train), np.std(scored_train)))\n",
    "print(\"Test scores - Mean: {:.4f}, Std: {:.4f}\".format(np.mean(scored_test), np.std(scored_test)))"
   ]
  },
  {
   "cell_type": "code",
   "execution_count": 23,
   "id": "ce1e88e1",
   "metadata": {
    "ExecuteTime": {
     "end_time": "2025-02-11T13:51:03.304210Z",
     "start_time": "2025-02-11T13:51:02.846085Z"
    }
   },
   "outputs": [
    {
     "data": {
      "image/png": "[encoded data removed]",
      "text/plain": [
       "<Figure size 640x480 with 1 Axes>"
      ]
     },
     "metadata": {},
     "output_type": "display_data"
    }
   ],
   "source": [
    "plt.title('MSE compare')\n",
    "plt.hist(scored_train, bins=10, color='blue', histtype='step', label='normal')\n",
    "plt.hist(scored_test, bins=10, color='red', histtype='step', label='abnormal')\n",
    "plt.xlabel('MSE')\n",
    "plt.legend()\n",
    "plt.show()\n"
   ]
  },
  {
   "cell_type": "code",
   "execution_count": 24,
   "id": "be32e6d9",
   "metadata": {
    "ExecuteTime": {
     "end_time": "2025-02-11T13:51:03.312999Z",
     "start_time": "2025-02-11T13:51:03.306722Z"
    }
   },
   "outputs": [
    {
     "name": "stdout",
     "output_type": "stream",
     "text": [
      "true_class\n",
      "0    35009\n",
      "1      499\n",
      "Name: count, dtype: int64\n"
     ]
    }
   ],
   "source": [
    "print(error_df['true_class'].value_counts())\n"
   ]
  },
  {
   "cell_type": "code",
   "execution_count": 25,
   "id": "b5dfd44e",
   "metadata": {
    "ExecuteTime": {
     "end_time": "2025-02-11T13:51:03.591385Z",
     "start_time": "2025-02-11T13:51:03.315581Z"
    }
   },
   "outputs": [
    {
     "data": {
      "image/png": "[encoded data removed]",
      "text/plain": [
       "<Figure size 1000x600 with 1 Axes>"
      ]
     },
     "metadata": {},
     "output_type": "display_data"
    }
   ],
   "source": [
    "plt.figure(figsize=(10, 6))\n",
    "sns.boxplot(x='true_class', y='reconstruction_error', data=error_df, showfliers=False, saturation=1)\n",
    "plt.ylabel('Distribution')\n",
    "plt.axhline(y=0.1, xmin=0.01, xmax=1, dashes=(5,5), c='g')\n",
    "plt.xticks(rotation=90)\n",
    "plt.show()\n"
   ]
  },
  {
   "cell_type": "code",
   "execution_count": 26,
   "id": "442fa1fc",
   "metadata": {
    "ExecuteTime": {
     "end_time": "2025-02-11T13:51:03.596667Z",
     "start_time": "2025-02-11T13:51:03.593807Z"
    }
   },
   "outputs": [],
   "source": [
    "threshold = 0.25"
   ]
  },
  {
   "cell_type": "code",
   "execution_count": 27,
   "id": "1c10f618",
   "metadata": {
    "ExecuteTime": {
     "end_time": "2025-02-11T13:51:03.891944Z",
     "start_time": "2025-02-11T13:51:03.599199Z"
    }
   },
   "outputs": [
    {
     "data": {
      "image/png": "[encoded data removed]",
      "text/plain": [
       "<Figure size 640x480 with 1 Axes>"
      ]
     },
     "metadata": {},
     "output_type": "display_data"
    }
   ],
   "source": [
    "groups = error_df.groupby('true_class')\n",
    "fig, ax = plt.subplots()\n",
    "\n",
    "for name, group in groups:\n",
    "    ax.plot(group.index, group.reconstruction_error, marker='^', ms=3.5, linestyle='',\n",
    "            label=\"Normal\" if name == 0 else \"Fall\")\n",
    "ax.hlines(threshold, ax.get_xlim()[0], ax.get_xlim()[1], colors=\"r\", zorder=100, label='Threshold')\n",
    "ax.legend()\n",
    "plt.title(\"Reconstruction error for different classes\")\n",
    "plt.ylabel(\"Reconstruction error\")\n",
    "plt.xlabel(\"Data point index\")\n",
    "plt.show()"
   ]
  },
  {
   "cell_type": "code",
   "execution_count": 28,
   "id": "844e3a27",
   "metadata": {
    "ExecuteTime": {
     "end_time": "2025-02-11T13:51:04.142135Z",
     "start_time": "2025-02-11T13:51:03.905584Z"
    }
   },
   "outputs": [
    {
     "data": {
      "image/png": "[encoded data removed]",
      "text/plain": [
       "<Figure size 700x700 with 2 Axes>"
      ]
     },
     "metadata": {},
     "output_type": "display_data"
    }
   ],
   "source": [
    "LABELS = [\"ADL\", \"FALL\"]\n",
    "plt.figure(figsize=(7, 7))\n",
    "y_pred = [1 if e > threshold else 0 for e in error_df.reconstruction_error.values]\n",
    "conf_matrix = confusion_matrix(error_df.true_class, y_pred)\n",
    "sns.heatmap(conf_matrix, xticklabels=LABELS, yticklabels=LABELS, annot=True, fmt=\"d\")\n",
    "plt.title(\"Confusion matrix\")\n",
    "plt.ylabel('True class')\n",
    "plt.xlabel('Predicted class')\n",
    "plt.show()"
   ]
  },
  {
   "cell_type": "code",
   "execution_count": 29,
   "id": "d779c49f",
   "metadata": {
    "ExecuteTime": {
     "end_time": "2025-02-11T13:51:04.229400Z",
     "start_time": "2025-02-11T13:51:04.144598Z"
    }
   },
   "outputs": [
    {
     "name": "stdout",
     "output_type": "stream",
     "text": [
      "\n",
      "Classification Report:\n",
      "              precision    recall  f1-score   support\n",
      "\n",
      "           0       0.99      1.00      0.99     35009\n",
      "           1       0.38      0.20      0.27       499\n",
      "\n",
      "    accuracy                           0.98     35508\n",
      "   macro avg       0.69      0.60      0.63     35508\n",
      "weighted avg       0.98      0.98      0.98     35508\n",
      "\n"
     ]
    }
   ],
   "source": [
    "print(\"\\nClassification Report:\")\n",
    "print(classification_report(test_labels, y_pred))"
   ]
  },
  {
   "cell_type": "code",
   "execution_count": null,
   "id": "aeae953b",
   "metadata": {},
   "outputs": [],
   "source": []
  }
 ],
 "metadata": {
  "kernelspec": {
   "display_name": "Python 3 (ipykernel)",
   "language": "python",
   "name": "python3"
  },
  "language_info": {
   "codemirror_mode": {
    "name": "ipython",
    "version": 3
   },
   "file_extension": ".py",
   "mimetype": "text/x-python",
   "name": "python",
   "nbconvert_exporter": "python",
   "pygments_lexer": "ipython3",
   "version": "3.11.3"
  },
  "varInspector": {
   "cols": {
    "lenName": 16,
    "lenType": 16,
    "lenVar": 40
   },
   "kernels_config": {
    "python": {
     "delete_cmd_postfix": "",
     "delete_cmd_prefix": "del ",
     "library": "var_list.py",
     "varRefreshCmd": "print(var_dic_list())"
    },
    "r": {
     "delete_cmd_postfix": ") ",
     "delete_cmd_prefix": "rm(",
     "library": "var_list.r",
     "varRefreshCmd": "cat(var_dic_list()) "
    }
   },
   "types_to_exclude": [
    "module",
    "function",
    "builtin_function_or_method",
    "instance",
    "_Feature"
   ],
   "window_display": false
  }
 },
 "nbformat": 4,
 "nbformat_minor": 5
}
