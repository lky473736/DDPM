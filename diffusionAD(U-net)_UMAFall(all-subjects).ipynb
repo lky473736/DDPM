{
 "cells": [
  {
   "cell_type": "code",
   "execution_count": 1,
   "id": "d79a0b52",
   "metadata": {
    "ExecuteTime": {
     "end_time": "2025-02-15T15:41:55.419523Z",
     "start_time": "2025-02-15T15:41:50.103826Z"
    }
   },
   "outputs": [
    {
     "name": "stderr",
     "output_type": "stream",
     "text": [
      "2025-02-16 00:41:52.027481: I tensorflow/core/platform/cpu_feature_guard.cc:210] This TensorFlow binary is optimized to use available CPU instructions in performance-critical operations.\n",
      "To enable the following instructions: AVX2 FMA, in other operations, rebuild TensorFlow with the appropriate compiler flags.\n"
     ]
    }
   ],
   "source": [
    "import tensorflow as tf\n",
    "import numpy as np\n",
    "from tensorflow.keras import layers, Model\n",
    "import matplotlib.pyplot as plt \n",
    "import seaborn as sns\n",
    "import os\n",
    "import glob\n",
    "import pandas as pd\n",
    "from tqdm import tqdm\n",
    "from sklearn.metrics import confusion_matrix, classification_report\n",
    "from sklearn.preprocessing import StandardScaler"
   ]
  },
  {
   "cell_type": "code",
   "execution_count": 2,
   "id": "338f82ef",
   "metadata": {
    "ExecuteTime": {
     "end_time": "2025-02-15T15:41:55.426844Z",
     "start_time": "2025-02-15T15:41:55.422109Z"
    }
   },
   "outputs": [],
   "source": [
    "import tensorflow as tf\n",
    "import numpy as np\n",
    "from tensorflow.keras import layers, Model\n",
    "import matplotlib.pyplot as plt \n",
    "import seaborn as sns\n",
    "import os\n",
    "import math\n",
    "import glob\n",
    "import pandas as pd\n",
    "from tqdm import tqdm\n",
    "from sklearn.metrics import confusion_matrix, classification_report\n",
    "from sklearn.preprocessing import StandardScaler\n",
    "import re"
   ]
  },
  {
   "cell_type": "code",
   "execution_count": 3,
   "id": "2df889dc",
   "metadata": {
    "ExecuteTime": {
     "end_time": "2025-02-15T15:41:55.435433Z",
     "start_time": "2025-02-15T15:41:55.432164Z"
    }
   },
   "outputs": [],
   "source": [
    "# % Used Smartphone: LGE-lge-LG-H815-5.1                                             \n",
    "# % Smartphone's Accelerometer: LGE Accelerometer - Vendor: BOSCH                    \n",
    "# % --> Version: 1                                                                   \n",
    "# % --> Min - Max Delay: 5000us - 65535000us                                         \n",
    "# % --> Maximum Range: 16.000000263891405 G                                          \n",
    "# % --> Resolution: 1.2136514986004396E-4 G                                          \n",
    "                                                                                    \n",
    "# % SensorTag's Accelerometer: MPU-9250 MEMS MotionTracking Device - Invensense      \n",
    "# % --> Maximum Range: 16 G                                                          \n",
    "# % --> Resolution: 0.00024 G                                                        \n",
    "                                                                                    \n",
    "# % MAC Address; Sensor_ID; Position; Device Model                                   \n",
    "# %f8:95:c7:f3:ba:82; 0; RIGHTPOCKET; lge-LG-H815-5.1                                \n",
    "# %C4:BE:84:70:64:8A; 1; CHEST; SensorTag                                            \n",
    "# %C4:BE:84:70:0E:80; 3; WRIST; SensorTag                                            \n",
    "# %C4:BE:84:71:A5:02; 2; WAIST; SensorTag                                            \n",
    "# %B0:B4:48:B8:77:03; 4; ANKLE; SensorTag                                            \n",
    "                                                                                    \n",
    "# % Sensor_Type:                                                                     \n",
    "# % Accelerometer = 0                                                                \n",
    "# % Gyroscope = 1                                                                    \n",
    "# % Magnetometer = 2  "
   ]
  },
  {
   "cell_type": "code",
   "execution_count": 4,
   "id": "83ab74cc",
   "metadata": {
    "ExecuteTime": {
     "end_time": "2025-02-15T15:41:55.446910Z",
     "start_time": "2025-02-15T15:41:55.439341Z"
    }
   },
   "outputs": [],
   "source": [
    "datapath = \"../CAGE/data/UMAFall_Dataset/\"\n",
    "all_files = glob.glob(os.path.join(datapath, \"*.csv\"))"
   ]
  },
  {
   "cell_type": "code",
   "execution_count": 5,
   "id": "55c2a4e0",
   "metadata": {
    "ExecuteTime": {
     "end_time": "2025-02-15T15:41:55.455609Z",
     "start_time": "2025-02-15T15:41:55.449781Z"
    }
   },
   "outputs": [],
   "source": [
    "def parse_filename(filename):\n",
    "    pattern = r'UMAFall_Subject_(\\d+)_(ADL|Fall)_([a-zA-Z_]+)_(\\d+)_(\\d{4}-\\d{2}-\\d{2})_.*\\.csv'\n",
    "    match = re.match(pattern, filename)\n",
    "    \n",
    "    if match:\n",
    "        subject_id = int(match.group(1))\n",
    "        activity_type = match.group(2)\n",
    "        activity = match.group(3)\n",
    "        trial = int(match.group(4))\n",
    "        date = match.group(5)\n",
    "        return subject_id, activity_type, activity, trial, date\n",
    "    return None"
   ]
  },
  {
   "cell_type": "code",
   "execution_count": 6,
   "id": "59634e85",
   "metadata": {
    "ExecuteTime": {
     "end_time": "2025-02-15T15:41:55.468336Z",
     "start_time": "2025-02-15T15:41:55.458222Z"
    }
   },
   "outputs": [],
   "source": [
    "def read_all_sensors_file(filepath):\n",
    "    sensor_data = {\n",
    "        'RIGHTPOCKET': {'id': None, 'data': []},\n",
    "        'CHEST': {'id': None, 'data': []},\n",
    "        'WRIST': {'id': None, 'data': []},\n",
    "        'WAIST': {'id': None, 'data': []},\n",
    "        'ANKLE': {'id': None, 'data': []}\n",
    "    }\n",
    "    \n",
    "    with open(filepath, 'r') as f:\n",
    "        lines = f.readlines()\n",
    "        for line in lines:\n",
    "            if ';' in line and any(pos in line for pos in sensor_data.keys()):\n",
    "                parts = line.strip().split(';')\n",
    "                if len(parts) >= 3:\n",
    "                    sensor_id = parts[1].strip()\n",
    "                    position = parts[2].strip()\n",
    "                    if position in sensor_data:\n",
    "                        sensor_data[position]['id'] = sensor_id\n",
    "        \n",
    "        data_start = False\n",
    "        for line in lines:\n",
    "            if '% TimeStamp; Sample No;' in line:\n",
    "                data_start = True\n",
    "                continue\n",
    "            \n",
    "            if data_start:\n",
    "                try:\n",
    "                    values = [float(v.strip()) for v in line.split(';')]\n",
    "                    sensor_id = str(int(values[-1]))\n",
    "                    sensor_type = int(values[-2])\n",
    "                    data = values[2:5]\n",
    "                    \n",
    "                    for position, info in sensor_data.items():\n",
    "                        if info['id'] == sensor_id:\n",
    "                            info['data'].append([*data, sensor_type])\n",
    "                except:\n",
    "                    continue\n",
    "    \n",
    "    for position in sensor_data:\n",
    "        if sensor_data[position]['data']:\n",
    "            sensor_data[position]['data'] = np.array(sensor_data[position]['data'])\n",
    "        else:\n",
    "            sensor_data[position]['data'] = None\n",
    "            \n",
    "    return sensor_data"
   ]
  },
  {
   "cell_type": "code",
   "execution_count": 7,
   "id": "2ac326f5",
   "metadata": {
    "ExecuteTime": {
     "end_time": "2025-02-15T15:41:55.484270Z",
     "start_time": "2025-02-15T15:41:55.472949Z"
    }
   },
   "outputs": [],
   "source": [
    "def process_sensor_data(sensor_data):\n",
    "    processed_data = {}\n",
    "    valid_lengths = []\n",
    "    \n",
    "    for position, data in sensor_data.items():\n",
    "        if data['data'] is not None:\n",
    "            acc_mask = data['data'][:, -1] == 0\n",
    "            gyro_mask = data['data'][:, -1] == 1\n",
    "            mag_mask = data['data'][:, -1] == 2\n",
    "            \n",
    "            acc_data = data['data'][acc_mask][:, :3] if np.any(acc_mask) else np.array([])\n",
    "            gyro_data = data['data'][gyro_mask][:, :3] if np.any(gyro_mask) else np.array([])\n",
    "            mag_data = data['data'][mag_mask][:, :3] if np.any(mag_mask) else np.array([])\n",
    "            \n",
    "            if len(acc_data) > 0:\n",
    "                valid_lengths.append(len(acc_data))\n",
    "            if len(gyro_data) > 0:\n",
    "                valid_lengths.append(len(gyro_data))\n",
    "            if len(mag_data) > 0:\n",
    "                valid_lengths.append(len(mag_data))\n",
    "    \n",
    "    if not valid_lengths:\n",
    "        return None\n",
    "        \n",
    "    min_length = min(valid_lengths)\n",
    "    \n",
    "    for position, data in sensor_data.items():\n",
    "        if data['data'] is not None:\n",
    "            acc_mask = data['data'][:, -1] == 0\n",
    "            gyro_mask = data['data'][:, -1] == 1\n",
    "            mag_mask = data['data'][:, -1] == 2\n",
    "            \n",
    "            if np.any(acc_mask):\n",
    "                acc_data = data['data'][acc_mask][:min_length, :3]\n",
    "                acc_cols = [f'{position.lower()}_acc_x', f'{position.lower()}_acc_y', f'{position.lower()}_acc_z']\n",
    "                processed_data.update(dict(zip(acc_cols, acc_data.T)))\n",
    "            \n",
    "            if np.any(gyro_mask):\n",
    "                gyro_data = data['data'][gyro_mask][:min_length, :3]\n",
    "                gyro_cols = [f'{position.lower()}_gyro_x', f'{position.lower()}_gyro_y', f'{position.lower()}_gyro_z']\n",
    "                processed_data.update(dict(zip(gyro_cols, gyro_data.T)))\n",
    "            \n",
    "            if np.any(mag_mask):\n",
    "                mag_data = data['data'][mag_mask][:min_length, :3]\n",
    "                mag_cols = [f'{position.lower()}_mag_x', f'{position.lower()}_mag_y', f'{position.lower()}_mag_z']\n",
    "                processed_data.update(dict(zip(mag_cols, mag_data.T)))\n",
    "    \n",
    "    if not processed_data:\n",
    "        return None\n",
    "        \n",
    "    return pd.DataFrame(processed_data)"
   ]
  },
  {
   "cell_type": "code",
   "execution_count": 8,
   "id": "030fcd50",
   "metadata": {
    "ExecuteTime": {
     "end_time": "2025-02-15T15:41:55.490625Z",
     "start_time": "2025-02-15T15:41:55.487311Z"
    }
   },
   "outputs": [],
   "source": [
    "dfs = []"
   ]
  },
  {
   "cell_type": "code",
   "execution_count": 9,
   "id": "f2acb1d5",
   "metadata": {
    "ExecuteTime": {
     "end_time": "2025-02-15T15:42:18.475816Z",
     "start_time": "2025-02-15T15:41:55.498965Z"
    }
   },
   "outputs": [
    {
     "name": "stderr",
     "output_type": "stream",
     "text": [
      "100%|█████████████████████████████████████████| 746/746 [00:22<00:00, 32.51it/s]\n"
     ]
    }
   ],
   "source": [
    "for file in tqdm(all_files):\n",
    "    filename = os.path.basename(file)\n",
    "    info = parse_filename(filename)\n",
    "    \n",
    "    if info:\n",
    "        sensor_data = read_all_sensors_file(file)\n",
    "        df = process_sensor_data(sensor_data)\n",
    "        \n",
    "        if df is not None:\n",
    "            df['subject'] = info[0]\n",
    "            df['activity'] = info[2]  \n",
    "            df['trial'] = info[3]\n",
    "            dfs.append(df)"
   ]
  },
  {
   "cell_type": "code",
   "execution_count": 10,
   "id": "80cc5403",
   "metadata": {
    "ExecuteTime": {
     "end_time": "2025-02-15T15:42:18.921990Z",
     "start_time": "2025-02-15T15:42:18.478625Z"
    }
   },
   "outputs": [
    {
     "name": "stdout",
     "output_type": "stream",
     "text": [
      "shape :  (214514, 42)\n",
      "columns : ['rightpocket_acc_x', 'rightpocket_acc_y', 'rightpocket_acc_z', 'chest_acc_x', 'chest_acc_y', 'chest_acc_z', 'chest_gyro_x', 'chest_gyro_y', 'chest_gyro_z', 'chest_mag_x', 'chest_mag_y', 'chest_mag_z', 'wrist_acc_x', 'wrist_acc_y', 'wrist_acc_z', 'wrist_gyro_x', 'wrist_gyro_y', 'wrist_gyro_z', 'wrist_mag_x', 'wrist_mag_y', 'wrist_mag_z', 'waist_acc_x', 'waist_acc_y', 'waist_acc_z', 'waist_gyro_x', 'waist_gyro_y', 'waist_gyro_z', 'waist_mag_x', 'waist_mag_y', 'waist_mag_z', 'ankle_acc_x', 'ankle_acc_y', 'ankle_acc_z', 'ankle_gyro_x', 'ankle_gyro_y', 'ankle_gyro_z', 'ankle_mag_x', 'ankle_mag_y', 'ankle_mag_z']\n",
      "\n",
      "Columns after concat: Index(['rightpocket_acc_x', 'rightpocket_acc_y', 'rightpocket_acc_z',\n",
      "       'chest_acc_x', 'chest_acc_y', 'chest_acc_z', 'chest_gyro_x',\n",
      "       'chest_gyro_y', 'chest_gyro_z', 'chest_mag_x', 'chest_mag_y',\n",
      "       'chest_mag_z', 'wrist_acc_x', 'wrist_acc_y', 'wrist_acc_z',\n",
      "       'wrist_gyro_x', 'wrist_gyro_y', 'wrist_gyro_z', 'wrist_mag_x',\n",
      "       'wrist_mag_y', 'wrist_mag_z', 'waist_acc_x', 'waist_acc_y',\n",
      "       'waist_acc_z', 'waist_gyro_x', 'waist_gyro_y', 'waist_gyro_z',\n",
      "       'waist_mag_x', 'waist_mag_y', 'waist_mag_z', 'ankle_acc_x',\n",
      "       'ankle_acc_y', 'ankle_acc_z', 'ankle_gyro_x', 'ankle_gyro_y',\n",
      "       'ankle_gyro_z', 'ankle_mag_x', 'ankle_mag_y', 'ankle_mag_z', 'subject',\n",
      "       'activity', 'trial'],\n",
      "      dtype='object')\n",
      "\n",
      "Activity distribution : activity\n",
      "backwardFall                 21753\n",
      "forwardFall                  20308\n",
      "lateralFall                  18964\n",
      "Sitting_GettingUpOnAChair    18013\n",
      "Walking                      17739\n",
      "Bending                      16289\n",
      "LyingDown_OnABed             15912\n",
      "Hopping                      14813\n",
      "MakingACall                  13682\n",
      "OpeningDoor                  12851\n",
      "HandsUp                      12839\n",
      "Aplausing                    12537\n",
      "Jogging                       8266\n",
      "GoDownstairs                  5312\n",
      "GoUpstairs                    5236\n",
      "Name: count, dtype: int64\n"
     ]
    }
   ],
   "source": [
    "features = pd.concat(dfs, ignore_index=True)\n",
    "print (\"shape : \", features.shape)\n",
    "sensor_columns = [col for col in features.columns if any(x in col for x in ['acc', 'gyro', 'mag'])]\n",
    "print (\"columns :\", end=' ')\n",
    "print (sensor_columns)\n",
    "\n",
    "print ()\n",
    "features = pd.concat(dfs, ignore_index=True)\n",
    "print(\"Columns after concat:\", features.columns)\n",
    "print(\"\\nActivity distribution :\", features['activity'].value_counts())"
   ]
  },
  {
   "cell_type": "code",
   "execution_count": 11,
   "id": "1729150e",
   "metadata": {
    "ExecuteTime": {
     "end_time": "2025-02-15T15:42:19.015883Z",
     "start_time": "2025-02-15T15:42:18.924643Z"
    }
   },
   "outputs": [
    {
     "name": "stdout",
     "output_type": "stream",
     "text": [
      "\n",
      "Activity distribution : activity\n",
      "0    153489\n",
      "1     61025\n",
      "Name: count, dtype: int64\n"
     ]
    }
   ],
   "source": [
    "features['activity'] = features['activity'].map(\n",
    "    lambda x: 1 if x in ['forwardFall', 'backwardFall', 'lateralFall'] else 0\n",
    ")\n",
    "print(\"\\nActivity distribution :\", features['activity'].value_counts())"
   ]
  },
  {
   "cell_type": "code",
   "execution_count": 12,
   "id": "aa03b85e",
   "metadata": {
    "ExecuteTime": {
     "end_time": "2025-02-15T15:42:19.050698Z",
     "start_time": "2025-02-15T15:42:19.018309Z"
    }
   },
   "outputs": [
    {
     "name": "stdout",
     "output_type": "stream",
     "text": [
      "<class 'pandas.core.frame.DataFrame'>\n",
      "RangeIndex: 214514 entries, 0 to 214513\n",
      "Data columns (total 42 columns):\n",
      " #   Column             Non-Null Count   Dtype  \n",
      "---  ------             --------------   -----  \n",
      " 0   rightpocket_acc_x  214514 non-null  float64\n",
      " 1   rightpocket_acc_y  214514 non-null  float64\n",
      " 2   rightpocket_acc_z  214514 non-null  float64\n",
      " 3   chest_acc_x        214237 non-null  float64\n",
      " 4   chest_acc_y        214237 non-null  float64\n",
      " 5   chest_acc_z        214237 non-null  float64\n",
      " 6   chest_gyro_x       214237 non-null  float64\n",
      " 7   chest_gyro_y       214237 non-null  float64\n",
      " 8   chest_gyro_z       214237 non-null  float64\n",
      " 9   chest_mag_x        214237 non-null  float64\n",
      " 10  chest_mag_y        214237 non-null  float64\n",
      " 11  chest_mag_z        214237 non-null  float64\n",
      " 12  wrist_acc_x        214514 non-null  float64\n",
      " 13  wrist_acc_y        214514 non-null  float64\n",
      " 14  wrist_acc_z        214514 non-null  float64\n",
      " 15  wrist_gyro_x       214514 non-null  float64\n",
      " 16  wrist_gyro_y       214514 non-null  float64\n",
      " 17  wrist_gyro_z       214514 non-null  float64\n",
      " 18  wrist_mag_x        214514 non-null  float64\n",
      " 19  wrist_mag_y        214514 non-null  float64\n",
      " 20  wrist_mag_z        214514 non-null  float64\n",
      " 21  waist_acc_x        182852 non-null  float64\n",
      " 22  waist_acc_y        182852 non-null  float64\n",
      " 23  waist_acc_z        182852 non-null  float64\n",
      " 24  waist_gyro_x       182852 non-null  float64\n",
      " 25  waist_gyro_y       182852 non-null  float64\n",
      " 26  waist_gyro_z       182852 non-null  float64\n",
      " 27  waist_mag_x        182852 non-null  float64\n",
      " 28  waist_mag_y        182852 non-null  float64\n",
      " 29  waist_mag_z        182852 non-null  float64\n",
      " 30  ankle_acc_x        183925 non-null  float64\n",
      " 31  ankle_acc_y        183925 non-null  float64\n",
      " 32  ankle_acc_z        183925 non-null  float64\n",
      " 33  ankle_gyro_x       183925 non-null  float64\n",
      " 34  ankle_gyro_y       183925 non-null  float64\n",
      " 35  ankle_gyro_z       183925 non-null  float64\n",
      " 36  ankle_mag_x        183925 non-null  float64\n",
      " 37  ankle_mag_y        183925 non-null  float64\n",
      " 38  ankle_mag_z        183925 non-null  float64\n",
      " 39  subject            214514 non-null  int64  \n",
      " 40  activity           214514 non-null  int64  \n",
      " 41  trial              214514 non-null  int64  \n",
      "dtypes: float64(39), int64(3)\n",
      "memory usage: 68.7 MB\n"
     ]
    }
   ],
   "source": [
    "features.info()"
   ]
  },
  {
   "cell_type": "code",
   "execution_count": 13,
   "id": "c03a38ee",
   "metadata": {
    "ExecuteTime": {
     "end_time": "2025-02-15T15:42:19.114512Z",
     "start_time": "2025-02-15T15:42:19.052963Z"
    }
   },
   "outputs": [
    {
     "name": "stdout",
     "output_type": "stream",
     "text": [
      "<class 'pandas.core.frame.DataFrame'>\n",
      "Index: 151986 entries, 0 to 214217\n",
      "Data columns (total 42 columns):\n",
      " #   Column             Non-Null Count   Dtype  \n",
      "---  ------             --------------   -----  \n",
      " 0   rightpocket_acc_x  151986 non-null  float64\n",
      " 1   rightpocket_acc_y  151986 non-null  float64\n",
      " 2   rightpocket_acc_z  151986 non-null  float64\n",
      " 3   chest_acc_x        151986 non-null  float64\n",
      " 4   chest_acc_y        151986 non-null  float64\n",
      " 5   chest_acc_z        151986 non-null  float64\n",
      " 6   chest_gyro_x       151986 non-null  float64\n",
      " 7   chest_gyro_y       151986 non-null  float64\n",
      " 8   chest_gyro_z       151986 non-null  float64\n",
      " 9   chest_mag_x        151986 non-null  float64\n",
      " 10  chest_mag_y        151986 non-null  float64\n",
      " 11  chest_mag_z        151986 non-null  float64\n",
      " 12  wrist_acc_x        151986 non-null  float64\n",
      " 13  wrist_acc_y        151986 non-null  float64\n",
      " 14  wrist_acc_z        151986 non-null  float64\n",
      " 15  wrist_gyro_x       151986 non-null  float64\n",
      " 16  wrist_gyro_y       151986 non-null  float64\n",
      " 17  wrist_gyro_z       151986 non-null  float64\n",
      " 18  wrist_mag_x        151986 non-null  float64\n",
      " 19  wrist_mag_y        151986 non-null  float64\n",
      " 20  wrist_mag_z        151986 non-null  float64\n",
      " 21  waist_acc_x        151986 non-null  float64\n",
      " 22  waist_acc_y        151986 non-null  float64\n",
      " 23  waist_acc_z        151986 non-null  float64\n",
      " 24  waist_gyro_x       151986 non-null  float64\n",
      " 25  waist_gyro_y       151986 non-null  float64\n",
      " 26  waist_gyro_z       151986 non-null  float64\n",
      " 27  waist_mag_x        151986 non-null  float64\n",
      " 28  waist_mag_y        151986 non-null  float64\n",
      " 29  waist_mag_z        151986 non-null  float64\n",
      " 30  ankle_acc_x        151986 non-null  float64\n",
      " 31  ankle_acc_y        151986 non-null  float64\n",
      " 32  ankle_acc_z        151986 non-null  float64\n",
      " 33  ankle_gyro_x       151986 non-null  float64\n",
      " 34  ankle_gyro_y       151986 non-null  float64\n",
      " 35  ankle_gyro_z       151986 non-null  float64\n",
      " 36  ankle_mag_x        151986 non-null  float64\n",
      " 37  ankle_mag_y        151986 non-null  float64\n",
      " 38  ankle_mag_z        151986 non-null  float64\n",
      " 39  subject            151986 non-null  int64  \n",
      " 40  activity           151986 non-null  int64  \n",
      " 41  trial              151986 non-null  int64  \n",
      "dtypes: float64(39), int64(3)\n",
      "memory usage: 49.9 MB\n"
     ]
    }
   ],
   "source": [
    "features = features.dropna()\n",
    "features.info()"
   ]
  },
  {
   "cell_type": "code",
   "execution_count": 14,
   "id": "fa63fc26",
   "metadata": {
    "ExecuteTime": {
     "end_time": "2025-02-15T15:42:19.404024Z",
     "start_time": "2025-02-15T15:42:19.116961Z"
    }
   },
   "outputs": [
    {
     "data": {
      "text/plain": [
       "Index(['rightpocket_acc_x', 'rightpocket_acc_y', 'rightpocket_acc_z',\n",
       "       'chest_acc_x', 'chest_acc_y', 'chest_acc_z', 'chest_gyro_x',\n",
       "       'chest_gyro_y', 'chest_gyro_z', 'chest_mag_x', 'chest_mag_y',\n",
       "       'chest_mag_z', 'wrist_acc_x', 'wrist_acc_y', 'wrist_acc_z',\n",
       "       'wrist_gyro_x', 'wrist_gyro_y', 'wrist_gyro_z', 'wrist_mag_x',\n",
       "       'wrist_mag_y', 'wrist_mag_z', 'waist_acc_x', 'waist_acc_y',\n",
       "       'waist_acc_z', 'waist_gyro_x', 'waist_gyro_y', 'waist_gyro_z',\n",
       "       'waist_mag_x', 'waist_mag_y', 'waist_mag_z', 'ankle_acc_x',\n",
       "       'ankle_acc_y', 'ankle_acc_z', 'ankle_gyro_x', 'ankle_gyro_y',\n",
       "       'ankle_gyro_z', 'ankle_mag_x', 'ankle_mag_y', 'ankle_mag_z',\n",
       "       'activity'],\n",
       "      dtype='object')"
      ]
     },
     "execution_count": 14,
     "metadata": {},
     "output_type": "execute_result"
    }
   ],
   "source": [
    "sensor_columns = [col for col in features.columns if any(x in col for x in ['acc', 'gyro', 'mag'])]\n",
    "\n",
    "scaler = StandardScaler()\n",
    "features_scaled = features.copy()\n",
    "features_scaled[sensor_columns] = scaler.fit_transform(features[sensor_columns])\n",
    "\n",
    "features_scaled = features_scaled[sensor_columns + ['activity']]\n",
    "features_scaled.columns"
   ]
  },
  {
   "cell_type": "code",
   "execution_count": 15,
   "id": "45386c55",
   "metadata": {
    "ExecuteTime": {
     "end_time": "2025-02-15T15:42:19.411361Z",
     "start_time": "2025-02-15T15:42:19.406702Z"
    }
   },
   "outputs": [],
   "source": [
    "def split_sequences(sequences, n_steps, stride):\n",
    "    X, y = [], []\n",
    "    for i in range(0, len(sequences) - n_steps + 1, stride):\n",
    "        end_ix = i + n_steps\n",
    "        \n",
    "        seq_x = sequences.iloc[i:end_ix].iloc[:, :-1]  \n",
    "        seq_y = sequences.iloc[end_ix-1].iloc[-1]      \n",
    "        \n",
    "        X.append(seq_x.values)\n",
    "        y.append(seq_y)\n",
    "    \n",
    "    return np.array(X), np.array(y)"
   ]
  },
  {
   "cell_type": "code",
   "execution_count": 16,
   "id": "ea73b4ee",
   "metadata": {
    "ExecuteTime": {
     "end_time": "2025-02-15T15:42:19.475299Z",
     "start_time": "2025-02-15T15:42:19.413641Z"
    }
   },
   "outputs": [
    {
     "name": "stdout",
     "output_type": "stream",
     "text": [
      "ADL1 (train) shape: (89308, 40)\n",
      "ADL2 (test) shape: (89309, 40)\n",
      "Fall1 (test) shape: (32280, 40)\n",
      "Fall2 (test) shape: (32280, 40)\n"
     ]
    }
   ],
   "source": [
    "adl_count = features_scaled['activity'].value_counts()[0]\n",
    "fall_count = features_scaled['activity'].value_counts()[1]\n",
    "\n",
    "adl_mask = features_scaled['activity'] == 0\n",
    "adl_data = features_scaled[adl_mask]\n",
    "adl1 = adl_data.iloc[:int(adl_count * 0.8)]    # 80% for training\n",
    "adl2 = adl_data.iloc[int(adl_count * 0.2):]    # 20% for testing\n",
    "\n",
    "fall_mask = features_scaled['activity'] == 1\n",
    "fall_data = features_scaled[fall_mask]\n",
    "fall1 = fall_data.iloc[:int(fall_count * 0.8)]  # 80% for testing\n",
    "fall2 = fall_data.iloc[int(fall_count * 0.2):]  # 20% for testing\n",
    "\n",
    "print(f\"ADL1 (train) shape: {adl1.shape}\")\n",
    "print(f\"ADL2 (test) shape: {adl2.shape}\")\n",
    "print(f\"Fall1 (test) shape: {fall1.shape}\")\n",
    "print(f\"Fall2 (test) shape: {fall2.shape}\")"
   ]
  },
  {
   "cell_type": "code",
   "execution_count": 17,
   "id": "ed528db0",
   "metadata": {
    "ExecuteTime": {
     "end_time": "2025-02-15T15:42:30.547244Z",
     "start_time": "2025-02-15T15:42:19.477863Z"
    }
   },
   "outputs": [
    {
     "name": "stdout",
     "output_type": "stream",
     "text": [
      "Train data: (4464, 40, 39)\n",
      "Train labels: (4464,)\n",
      "Test data: (7690, 40, 39)\n",
      "Test labels: (7690,)\n"
     ]
    }
   ],
   "source": [
    "WINDOW_LENGTH = 40\n",
    "STRIDE = 20\n",
    "\n",
    "train_data, train_labels = split_sequences(adl1, WINDOW_LENGTH, STRIDE)\n",
    "\n",
    "test_adl_data, test_adl_labels = split_sequences(adl2, WINDOW_LENGTH, STRIDE)\n",
    "test_fall1_data, test_fall1_labels = split_sequences(fall1, WINDOW_LENGTH, STRIDE)\n",
    "test_fall2_data, test_fall2_labels = split_sequences(fall2, WINDOW_LENGTH, STRIDE)\n",
    "\n",
    "test_data = np.concatenate([test_adl_data, test_fall1_data, test_fall2_data])\n",
    "test_labels = np.concatenate([test_adl_labels, test_fall1_labels, test_fall2_labels])\n",
    "\n",
    "print(f\"Train data: {train_data.shape}\")\n",
    "print(f\"Train labels: {train_labels.shape}\")\n",
    "print(f\"Test data: {test_data.shape}\")\n",
    "print(f\"Test labels: {test_labels.shape}\")"
   ]
  },
  {
   "cell_type": "markdown",
   "id": "e43c952c",
   "metadata": {},
   "source": [
    "-----"
   ]
  },
  {
   "cell_type": "code",
   "execution_count": 18,
   "id": "74bf737c",
   "metadata": {
    "ExecuteTime": {
     "end_time": "2025-02-15T15:42:30.551966Z",
     "start_time": "2025-02-15T15:42:30.549013Z"
    }
   },
   "outputs": [],
   "source": [
    "# Input:      (40, 39)\n",
    "# Level 1:    (20, 64)   # spatial ↓2, channels ↑\n",
    "# Level 2:    (10, 128)  # spatial ↓2, channels ↑\n",
    "# Level 3:    (5, 256)   # spatial ↓2, channels ↑\n",
    "# Bottleneck: (5, 512)   \n",
    "# Level 3:    (10, 256)  # spatial ↑2, channels ↓\n",
    "# Level 2:    (20, 128)  # spatial ↑2, channels ↓\n",
    "# Level 1:    (40, 64)   # spatial ↑2, channels ↓\n",
    "# Output:     (40, 39)"
   ]
  },
  {
   "cell_type": "code",
   "execution_count": 19,
   "id": "d7a3f531",
   "metadata": {
    "ExecuteTime": {
     "end_time": "2025-02-15T15:42:30.563785Z",
     "start_time": "2025-02-15T15:42:30.556139Z"
    }
   },
   "outputs": [],
   "source": [
    "class DoubleConv(tf.keras.layers.Layer):\n",
    "    def __init__(self, filters):\n",
    "        super(DoubleConv, self).__init__()\n",
    "        self.conv1 = tf.keras.layers.Conv1D(filters, 3, padding='same')  \n",
    "        self.bn1 = tf.keras.layers.BatchNormalization()\n",
    "        self.conv2 = tf.keras.layers.Conv1D(filters, 3, padding='same') \n",
    "        self.bn2 = tf.keras.layers.BatchNormalization()\n",
    "        self.gelu = tf.keras.activations.gelu\n",
    "        self.dropout = tf.keras.layers.Dropout(0.05)\n",
    "    \n",
    "    def call(self, x, training=False):\n",
    "        x = self.conv1(x)\n",
    "        x = self.bn1(x, training=training)\n",
    "        x = self.gelu(x)\n",
    "        x = self.dropout(x, training=training)\n",
    "        \n",
    "        x = self.conv2(x)\n",
    "        x = self.bn2(x, training=training)\n",
    "        x = self.gelu(x)\n",
    "        x = self.dropout(x, training=training)\n",
    "        return x"
   ]
  },
  {
   "cell_type": "code",
   "execution_count": 20,
   "id": "60955bce",
   "metadata": {
    "ExecuteTime": {
     "end_time": "2025-02-15T15:42:30.577256Z",
     "start_time": "2025-02-15T15:42:30.567448Z"
    }
   },
   "outputs": [],
   "source": [
    "class UNetDiffusion(tf.keras.Model):\n",
    "    def __init__(self):\n",
    "        super(UNetDiffusion, self).__init__()\n",
    "        \n",
    "        # Input: (40, 39)\n",
    "        self.enc1 = tf.keras.Sequential([\n",
    "            DoubleConv(48),  \n",
    "            tf.keras.layers.MaxPooling1D(2)  # (20, 48)\n",
    "        ])\n",
    "        \n",
    "        self.enc2 = tf.keras.Sequential([\n",
    "            DoubleConv(96), \n",
    "            tf.keras.layers.MaxPooling1D(2)  # (10, 96)\n",
    "        ])\n",
    "        \n",
    "        # Bottleneck\n",
    "        self.bottleneck = DoubleConv(192)  # (10, 192)\n",
    "        \n",
    "        # Decoder part\n",
    "        self.dec2 = tf.keras.Sequential([\n",
    "            tf.keras.layers.UpSampling1D(2),  \n",
    "            DoubleConv(96)  # (20, 96)\n",
    "        ])\n",
    "        \n",
    "        self.dec1 = tf.keras.Sequential([\n",
    "            tf.keras.layers.UpSampling1D(2),  \n",
    "            DoubleConv(48)  # (40, 48)\n",
    "        ])\n",
    "        \n",
    "        # Final convolution\n",
    "        self.final = tf.keras.layers.Conv1D(39, 1, padding='same')  # (40, 39)\n",
    "        \n",
    "    def call(self, x, training=False):\n",
    "        # Encoder\n",
    "        enc1_before_pool = x  # (40, 39)\n",
    "        enc1_output = self.enc1(x, training=training)  # (20, 48)\n",
    "        \n",
    "        enc2_before_pool = enc1_output  # (20, 48)\n",
    "        enc2_output = self.enc2(enc1_output, training=training)  # (10, 96)\n",
    "        \n",
    "        # Bottleneck\n",
    "        bottleneck = self.bottleneck(enc2_output, training=training)  # (10, 192)\n",
    "        \n",
    "        # Decoder with skip connections\n",
    "        dec2_output = self.dec2(bottleneck, training=training)  # (20, 96)\n",
    "        dec2_output = tf.concat([enc2_before_pool, dec2_output], axis=-1)  # (20, 48+96=144)\n",
    "        \n",
    "        dec1_output = self.dec1(dec2_output, training=training)  # (40, 48)\n",
    "        dec1_output = tf.concat([enc1_before_pool, dec1_output], axis=-1)  # (40, 39+48=87)\n",
    "        \n",
    "        output = self.final(dec1_output)  # (40, 39)\n",
    "        \n",
    "        return output"
   ]
  },
  {
   "cell_type": "code",
   "execution_count": 21,
   "id": "78d0e9cb",
   "metadata": {
    "ExecuteTime": {
     "end_time": "2025-02-15T15:42:30.583660Z",
     "start_time": "2025-02-15T15:42:30.579879Z"
    }
   },
   "outputs": [],
   "source": [
    "def forward_diffusion(x, noise_level=0.05):  \n",
    "    dtype = x.dtype\n",
    "    noise = tf.random.normal(shape=tf.shape(x), dtype=dtype) * noise_level\n",
    "    return x + noise\n",
    "\n",
    "def anomaly_score(x_real, x_recon):\n",
    "    return tf.reduce_mean(tf.abs(x_real - x_recon), axis=1)"
   ]
  },
  {
   "cell_type": "code",
   "execution_count": 22,
   "id": "439c2e19",
   "metadata": {
    "ExecuteTime": {
     "end_time": "2025-02-15T15:42:30.589550Z",
     "start_time": "2025-02-15T15:42:30.586495Z"
    }
   },
   "outputs": [],
   "source": [
    "BATCH_SIZE = 32\n",
    "EPOCHS = 50\n",
    "INITIAL_LEARNING_RATE = 1e-3 \n",
    "DECAY_STEPS = 1000           # 500 -> 1000\n",
    "DECAY_RATE = 0.98           # 0.95 -> 0.98"
   ]
  },
  {
   "cell_type": "code",
   "execution_count": 23,
   "id": "d8bca7f8",
   "metadata": {
    "ExecuteTime": {
     "end_time": "2025-02-15T15:42:30.653114Z",
     "start_time": "2025-02-15T15:42:30.592276Z"
    }
   },
   "outputs": [],
   "source": [
    "model = UNetDiffusion()\n",
    "optimizer = tf.keras.optimizers.Adam(\n",
    "    tf.keras.optimizers.schedules.ExponentialDecay(\n",
    "        INITIAL_LEARNING_RATE, DECAY_STEPS, DECAY_RATE\n",
    "    )\n",
    ")"
   ]
  },
  {
   "cell_type": "code",
   "execution_count": 24,
   "id": "14791793",
   "metadata": {
    "ExecuteTime": {
     "end_time": "2025-02-15T16:19:03.461869Z",
     "start_time": "2025-02-15T15:42:30.655227Z"
    },
    "scrolled": false
   },
   "outputs": [
    {
     "data": {
      "application/vnd.jupyter.widget-view+json": {
       "model_id": "",
       "version_major": 2,
       "version_minor": 0
      },
      "text/plain": [
       "Epoch 1/50:   0%|          | 0/139 [00:00<?, ?it/s]"
      ]
     },
     "metadata": {},
     "output_type": "display_data"
    },
    {
     "name": "stdout",
     "output_type": "stream",
     "text": [
      "Epoch 1/50 - Loss: 1.1057\n"
     ]
    },
    {
     "name": "stderr",
     "output_type": "stream",
     "text": [
      "2025-02-16 00:43:25.338964: W tensorflow/core/framework/local_rendezvous.cc:404] Local rendezvous is aborting with status: OUT_OF_RANGE: End of sequence\n"
     ]
    },
    {
     "data": {
      "application/vnd.jupyter.widget-view+json": {
       "model_id": "",
       "version_major": 2,
       "version_minor": 0
      },
      "text/plain": [
       "Epoch 2/50:   0%|          | 0/139 [00:00<?, ?it/s]"
      ]
     },
     "metadata": {},
     "output_type": "display_data"
    },
    {
     "name": "stdout",
     "output_type": "stream",
     "text": [
      "Epoch 2/50 - Loss: 0.5703\n"
     ]
    },
    {
     "name": "stderr",
     "output_type": "stream",
     "text": [
      "2025-02-16 00:44:19.705671: W tensorflow/core/framework/local_rendezvous.cc:404] Local rendezvous is aborting with status: OUT_OF_RANGE: End of sequence\n"
     ]
    },
    {
     "data": {
      "application/vnd.jupyter.widget-view+json": {
       "model_id": "",
       "version_major": 2,
       "version_minor": 0
      },
      "text/plain": [
       "Epoch 3/50:   0%|          | 0/139 [00:00<?, ?it/s]"
      ]
     },
     "metadata": {},
     "output_type": "display_data"
    },
    {
     "name": "stdout",
     "output_type": "stream",
     "text": [
      "Epoch 3/50 - Loss: 0.3652\n"
     ]
    },
    {
     "name": "stderr",
     "output_type": "stream",
     "text": [
      "2025-02-16 00:45:20.337848: W tensorflow/core/framework/local_rendezvous.cc:404] Local rendezvous is aborting with status: OUT_OF_RANGE: End of sequence\n"
     ]
    },
    {
     "data": {
      "application/vnd.jupyter.widget-view+json": {
       "model_id": "",
       "version_major": 2,
       "version_minor": 0
      },
      "text/plain": [
       "Epoch 4/50:   0%|          | 0/139 [00:00<?, ?it/s]"
      ]
     },
     "metadata": {},
     "output_type": "display_data"
    },
    {
     "name": "stdout",
     "output_type": "stream",
     "text": [
      "Epoch 4/50 - Loss: 0.2574\n"
     ]
    },
    {
     "name": "stderr",
     "output_type": "stream",
     "text": [
      "2025-02-16 00:46:11.383797: W tensorflow/core/framework/local_rendezvous.cc:404] Local rendezvous is aborting with status: OUT_OF_RANGE: End of sequence\n"
     ]
    },
    {
     "data": {
      "application/vnd.jupyter.widget-view+json": {
       "model_id": "",
       "version_major": 2,
       "version_minor": 0
      },
      "text/plain": [
       "Epoch 5/50:   0%|          | 0/139 [00:00<?, ?it/s]"
      ]
     },
     "metadata": {},
     "output_type": "display_data"
    },
    {
     "name": "stdout",
     "output_type": "stream",
     "text": [
      "Epoch 5/50 - Loss: 0.1888\n"
     ]
    },
    {
     "name": "stderr",
     "output_type": "stream",
     "text": [
      "2025-02-16 00:46:57.128737: W tensorflow/core/framework/local_rendezvous.cc:404] Local rendezvous is aborting with status: OUT_OF_RANGE: End of sequence\n"
     ]
    },
    {
     "data": {
      "application/vnd.jupyter.widget-view+json": {
       "model_id": "",
       "version_major": 2,
       "version_minor": 0
      },
      "text/plain": [
       "Epoch 6/50:   0%|          | 0/139 [00:00<?, ?it/s]"
      ]
     },
     "metadata": {},
     "output_type": "display_data"
    },
    {
     "name": "stdout",
     "output_type": "stream",
     "text": [
      "Epoch 6/50 - Loss: 0.1429\n"
     ]
    },
    {
     "name": "stderr",
     "output_type": "stream",
     "text": [
      "2025-02-16 00:47:39.939414: W tensorflow/core/framework/local_rendezvous.cc:404] Local rendezvous is aborting with status: OUT_OF_RANGE: End of sequence\n"
     ]
    },
    {
     "data": {
      "application/vnd.jupyter.widget-view+json": {
       "model_id": "",
       "version_major": 2,
       "version_minor": 0
      },
      "text/plain": [
       "Epoch 7/50:   0%|          | 0/139 [00:00<?, ?it/s]"
      ]
     },
     "metadata": {},
     "output_type": "display_data"
    },
    {
     "name": "stdout",
     "output_type": "stream",
     "text": [
      "Epoch 7/50 - Loss: 0.1106\n"
     ]
    },
    {
     "name": "stderr",
     "output_type": "stream",
     "text": [
      "2025-02-16 00:48:22.883222: W tensorflow/core/framework/local_rendezvous.cc:404] Local rendezvous is aborting with status: OUT_OF_RANGE: End of sequence\n"
     ]
    },
    {
     "data": {
      "application/vnd.jupyter.widget-view+json": {
       "model_id": "",
       "version_major": 2,
       "version_minor": 0
      },
      "text/plain": [
       "Epoch 8/50:   0%|          | 0/139 [00:00<?, ?it/s]"
      ]
     },
     "metadata": {},
     "output_type": "display_data"
    },
    {
     "name": "stdout",
     "output_type": "stream",
     "text": [
      "Epoch 8/50 - Loss: 0.0865\n"
     ]
    },
    {
     "name": "stderr",
     "output_type": "stream",
     "text": [
      "2025-02-16 00:49:05.134430: W tensorflow/core/framework/local_rendezvous.cc:404] Local rendezvous is aborting with status: OUT_OF_RANGE: End of sequence\n"
     ]
    },
    {
     "data": {
      "application/vnd.jupyter.widget-view+json": {
       "model_id": "",
       "version_major": 2,
       "version_minor": 0
      },
      "text/plain": [
       "Epoch 9/50:   0%|          | 0/139 [00:00<?, ?it/s]"
      ]
     },
     "metadata": {},
     "output_type": "display_data"
    },
    {
     "name": "stdout",
     "output_type": "stream",
     "text": [
      "Epoch 9/50 - Loss: 0.0688\n"
     ]
    },
    {
     "name": "stderr",
     "output_type": "stream",
     "text": [
      "2025-02-16 00:49:47.551682: W tensorflow/core/framework/local_rendezvous.cc:404] Local rendezvous is aborting with status: OUT_OF_RANGE: End of sequence\n"
     ]
    },
    {
     "data": {
      "application/vnd.jupyter.widget-view+json": {
       "model_id": "",
       "version_major": 2,
       "version_minor": 0
      },
      "text/plain": [
       "Epoch 10/50:   0%|          | 0/139 [00:00<?, ?it/s]"
      ]
     },
     "metadata": {},
     "output_type": "display_data"
    },
    {
     "name": "stdout",
     "output_type": "stream",
     "text": [
      "Epoch 10/50 - Loss: 0.0548\n"
     ]
    },
    {
     "name": "stderr",
     "output_type": "stream",
     "text": [
      "2025-02-16 00:50:30.299000: W tensorflow/core/framework/local_rendezvous.cc:404] Local rendezvous is aborting with status: OUT_OF_RANGE: End of sequence\n"
     ]
    },
    {
     "data": {
      "application/vnd.jupyter.widget-view+json": {
       "model_id": "",
       "version_major": 2,
       "version_minor": 0
      },
      "text/plain": [
       "Epoch 11/50:   0%|          | 0/139 [00:00<?, ?it/s]"
      ]
     },
     "metadata": {},
     "output_type": "display_data"
    },
    {
     "name": "stdout",
     "output_type": "stream",
     "text": [
      "Epoch 11/50 - Loss: 0.0447\n"
     ]
    },
    {
     "name": "stderr",
     "output_type": "stream",
     "text": [
      "2025-02-16 00:51:13.126990: W tensorflow/core/framework/local_rendezvous.cc:404] Local rendezvous is aborting with status: OUT_OF_RANGE: End of sequence\n"
     ]
    },
    {
     "data": {
      "application/vnd.jupyter.widget-view+json": {
       "model_id": "",
       "version_major": 2,
       "version_minor": 0
      },
      "text/plain": [
       "Epoch 12/50:   0%|          | 0/139 [00:00<?, ?it/s]"
      ]
     },
     "metadata": {},
     "output_type": "display_data"
    },
    {
     "name": "stdout",
     "output_type": "stream",
     "text": [
      "Epoch 12/50 - Loss: 0.0367\n"
     ]
    },
    {
     "name": "stderr",
     "output_type": "stream",
     "text": [
      "2025-02-16 00:51:55.777924: W tensorflow/core/framework/local_rendezvous.cc:404] Local rendezvous is aborting with status: OUT_OF_RANGE: End of sequence\n"
     ]
    },
    {
     "data": {
      "application/vnd.jupyter.widget-view+json": {
       "model_id": "",
       "version_major": 2,
       "version_minor": 0
      },
      "text/plain": [
       "Epoch 13/50:   0%|          | 0/139 [00:00<?, ?it/s]"
      ]
     },
     "metadata": {},
     "output_type": "display_data"
    },
    {
     "name": "stdout",
     "output_type": "stream",
     "text": [
      "Epoch 13/50 - Loss: 0.0309\n"
     ]
    },
    {
     "name": "stderr",
     "output_type": "stream",
     "text": [
      "2025-02-16 00:52:38.695931: W tensorflow/core/framework/local_rendezvous.cc:404] Local rendezvous is aborting with status: OUT_OF_RANGE: End of sequence\n"
     ]
    },
    {
     "data": {
      "application/vnd.jupyter.widget-view+json": {
       "model_id": "",
       "version_major": 2,
       "version_minor": 0
      },
      "text/plain": [
       "Epoch 14/50:   0%|          | 0/139 [00:00<?, ?it/s]"
      ]
     },
     "metadata": {},
     "output_type": "display_data"
    },
    {
     "name": "stdout",
     "output_type": "stream",
     "text": [
      "Epoch 14/50 - Loss: 0.0259\n"
     ]
    },
    {
     "name": "stderr",
     "output_type": "stream",
     "text": [
      "2025-02-16 00:53:21.550175: W tensorflow/core/framework/local_rendezvous.cc:404] Local rendezvous is aborting with status: OUT_OF_RANGE: End of sequence\n"
     ]
    },
    {
     "data": {
      "application/vnd.jupyter.widget-view+json": {
       "model_id": "",
       "version_major": 2,
       "version_minor": 0
      },
      "text/plain": [
       "Epoch 15/50:   0%|          | 0/139 [00:00<?, ?it/s]"
      ]
     },
     "metadata": {},
     "output_type": "display_data"
    },
    {
     "name": "stdout",
     "output_type": "stream",
     "text": [
      "Epoch 15/50 - Loss: 0.0222\n"
     ]
    },
    {
     "name": "stderr",
     "output_type": "stream",
     "text": [
      "2025-02-16 00:54:04.068149: W tensorflow/core/framework/local_rendezvous.cc:404] Local rendezvous is aborting with status: OUT_OF_RANGE: End of sequence\n"
     ]
    },
    {
     "data": {
      "application/vnd.jupyter.widget-view+json": {
       "model_id": "",
       "version_major": 2,
       "version_minor": 0
      },
      "text/plain": [
       "Epoch 16/50:   0%|          | 0/139 [00:00<?, ?it/s]"
      ]
     },
     "metadata": {},
     "output_type": "display_data"
    },
    {
     "name": "stdout",
     "output_type": "stream",
     "text": [
      "Epoch 16/50 - Loss: 0.0196\n"
     ]
    },
    {
     "name": "stderr",
     "output_type": "stream",
     "text": [
      "2025-02-16 00:54:46.415367: W tensorflow/core/framework/local_rendezvous.cc:404] Local rendezvous is aborting with status: OUT_OF_RANGE: End of sequence\n"
     ]
    },
    {
     "data": {
      "application/vnd.jupyter.widget-view+json": {
       "model_id": "",
       "version_major": 2,
       "version_minor": 0
      },
      "text/plain": [
       "Epoch 17/50:   0%|          | 0/139 [00:00<?, ?it/s]"
      ]
     },
     "metadata": {},
     "output_type": "display_data"
    },
    {
     "name": "stdout",
     "output_type": "stream",
     "text": [
      "Epoch 17/50 - Loss: 0.0175\n"
     ]
    },
    {
     "name": "stderr",
     "output_type": "stream",
     "text": [
      "2025-02-16 00:55:29.015477: W tensorflow/core/framework/local_rendezvous.cc:404] Local rendezvous is aborting with status: OUT_OF_RANGE: End of sequence\n"
     ]
    },
    {
     "data": {
      "application/vnd.jupyter.widget-view+json": {
       "model_id": "",
       "version_major": 2,
       "version_minor": 0
      },
      "text/plain": [
       "Epoch 18/50:   0%|          | 0/139 [00:00<?, ?it/s]"
      ]
     },
     "metadata": {},
     "output_type": "display_data"
    },
    {
     "name": "stdout",
     "output_type": "stream",
     "text": [
      "Epoch 18/50 - Loss: 0.0157\n"
     ]
    },
    {
     "name": "stderr",
     "output_type": "stream",
     "text": [
      "2025-02-16 00:56:11.543658: W tensorflow/core/framework/local_rendezvous.cc:404] Local rendezvous is aborting with status: OUT_OF_RANGE: End of sequence\n"
     ]
    },
    {
     "data": {
      "application/vnd.jupyter.widget-view+json": {
       "model_id": "",
       "version_major": 2,
       "version_minor": 0
      },
      "text/plain": [
       "Epoch 19/50:   0%|          | 0/139 [00:00<?, ?it/s]"
      ]
     },
     "metadata": {},
     "output_type": "display_data"
    },
    {
     "name": "stdout",
     "output_type": "stream",
     "text": [
      "Epoch 19/50 - Loss: 0.0144\n"
     ]
    },
    {
     "name": "stderr",
     "output_type": "stream",
     "text": [
      "2025-02-16 00:56:53.717791: W tensorflow/core/framework/local_rendezvous.cc:404] Local rendezvous is aborting with status: OUT_OF_RANGE: End of sequence\n"
     ]
    },
    {
     "data": {
      "application/vnd.jupyter.widget-view+json": {
       "model_id": "",
       "version_major": 2,
       "version_minor": 0
      },
      "text/plain": [
       "Epoch 20/50:   0%|          | 0/139 [00:00<?, ?it/s]"
      ]
     },
     "metadata": {},
     "output_type": "display_data"
    },
    {
     "name": "stdout",
     "output_type": "stream",
     "text": [
      "Epoch 20/50 - Loss: 0.0134\n"
     ]
    },
    {
     "name": "stderr",
     "output_type": "stream",
     "text": [
      "2025-02-16 00:57:36.054398: W tensorflow/core/framework/local_rendezvous.cc:404] Local rendezvous is aborting with status: OUT_OF_RANGE: End of sequence\n"
     ]
    },
    {
     "data": {
      "application/vnd.jupyter.widget-view+json": {
       "model_id": "",
       "version_major": 2,
       "version_minor": 0
      },
      "text/plain": [
       "Epoch 21/50:   0%|          | 0/139 [00:00<?, ?it/s]"
      ]
     },
     "metadata": {},
     "output_type": "display_data"
    },
    {
     "name": "stdout",
     "output_type": "stream",
     "text": [
      "Epoch 21/50 - Loss: 0.0126\n"
     ]
    },
    {
     "name": "stderr",
     "output_type": "stream",
     "text": [
      "2025-02-16 00:58:18.939304: W tensorflow/core/framework/local_rendezvous.cc:404] Local rendezvous is aborting with status: OUT_OF_RANGE: End of sequence\n"
     ]
    },
    {
     "data": {
      "application/vnd.jupyter.widget-view+json": {
       "model_id": "",
       "version_major": 2,
       "version_minor": 0
      },
      "text/plain": [
       "Epoch 22/50:   0%|          | 0/139 [00:00<?, ?it/s]"
      ]
     },
     "metadata": {},
     "output_type": "display_data"
    },
    {
     "name": "stdout",
     "output_type": "stream",
     "text": [
      "Epoch 22/50 - Loss: 0.0120\n"
     ]
    },
    {
     "name": "stderr",
     "output_type": "stream",
     "text": [
      "2025-02-16 00:59:01.574522: W tensorflow/core/framework/local_rendezvous.cc:404] Local rendezvous is aborting with status: OUT_OF_RANGE: End of sequence\n"
     ]
    },
    {
     "data": {
      "application/vnd.jupyter.widget-view+json": {
       "model_id": "",
       "version_major": 2,
       "version_minor": 0
      },
      "text/plain": [
       "Epoch 23/50:   0%|          | 0/139 [00:00<?, ?it/s]"
      ]
     },
     "metadata": {},
     "output_type": "display_data"
    },
    {
     "name": "stdout",
     "output_type": "stream",
     "text": [
      "Epoch 23/50 - Loss: 0.0115\n"
     ]
    },
    {
     "name": "stderr",
     "output_type": "stream",
     "text": [
      "2025-02-16 00:59:44.820055: W tensorflow/core/framework/local_rendezvous.cc:404] Local rendezvous is aborting with status: OUT_OF_RANGE: End of sequence\n"
     ]
    },
    {
     "data": {
      "application/vnd.jupyter.widget-view+json": {
       "model_id": "",
       "version_major": 2,
       "version_minor": 0
      },
      "text/plain": [
       "Epoch 24/50:   0%|          | 0/139 [00:00<?, ?it/s]"
      ]
     },
     "metadata": {},
     "output_type": "display_data"
    },
    {
     "name": "stdout",
     "output_type": "stream",
     "text": [
      "Epoch 24/50 - Loss: 0.0112\n"
     ]
    },
    {
     "name": "stderr",
     "output_type": "stream",
     "text": [
      "2025-02-16 01:00:27.884344: W tensorflow/core/framework/local_rendezvous.cc:404] Local rendezvous is aborting with status: OUT_OF_RANGE: End of sequence\n"
     ]
    },
    {
     "data": {
      "application/vnd.jupyter.widget-view+json": {
       "model_id": "",
       "version_major": 2,
       "version_minor": 0
      },
      "text/plain": [
       "Epoch 25/50:   0%|          | 0/139 [00:00<?, ?it/s]"
      ]
     },
     "metadata": {},
     "output_type": "display_data"
    },
    {
     "name": "stdout",
     "output_type": "stream",
     "text": [
      "Epoch 25/50 - Loss: 0.0109\n"
     ]
    },
    {
     "name": "stderr",
     "output_type": "stream",
     "text": [
      "2025-02-16 01:01:10.874575: W tensorflow/core/framework/local_rendezvous.cc:404] Local rendezvous is aborting with status: OUT_OF_RANGE: End of sequence\n"
     ]
    },
    {
     "data": {
      "application/vnd.jupyter.widget-view+json": {
       "model_id": "",
       "version_major": 2,
       "version_minor": 0
      },
      "text/plain": [
       "Epoch 26/50:   0%|          | 0/139 [00:00<?, ?it/s]"
      ]
     },
     "metadata": {},
     "output_type": "display_data"
    },
    {
     "name": "stdout",
     "output_type": "stream",
     "text": [
      "Epoch 26/50 - Loss: 0.0106\n"
     ]
    },
    {
     "name": "stderr",
     "output_type": "stream",
     "text": [
      "2025-02-16 01:01:53.494744: W tensorflow/core/framework/local_rendezvous.cc:404] Local rendezvous is aborting with status: OUT_OF_RANGE: End of sequence\n"
     ]
    },
    {
     "data": {
      "application/vnd.jupyter.widget-view+json": {
       "model_id": "",
       "version_major": 2,
       "version_minor": 0
      },
      "text/plain": [
       "Epoch 27/50:   0%|          | 0/139 [00:00<?, ?it/s]"
      ]
     },
     "metadata": {},
     "output_type": "display_data"
    },
    {
     "name": "stdout",
     "output_type": "stream",
     "text": [
      "Epoch 27/50 - Loss: 0.0105\n"
     ]
    },
    {
     "name": "stderr",
     "output_type": "stream",
     "text": [
      "2025-02-16 01:02:36.582403: W tensorflow/core/framework/local_rendezvous.cc:404] Local rendezvous is aborting with status: OUT_OF_RANGE: End of sequence\n"
     ]
    },
    {
     "data": {
      "application/vnd.jupyter.widget-view+json": {
       "model_id": "",
       "version_major": 2,
       "version_minor": 0
      },
      "text/plain": [
       "Epoch 28/50:   0%|          | 0/139 [00:00<?, ?it/s]"
      ]
     },
     "metadata": {},
     "output_type": "display_data"
    },
    {
     "name": "stdout",
     "output_type": "stream",
     "text": [
      "Epoch 28/50 - Loss: 0.0103\n"
     ]
    },
    {
     "name": "stderr",
     "output_type": "stream",
     "text": [
      "2025-02-16 01:03:19.723603: W tensorflow/core/framework/local_rendezvous.cc:404] Local rendezvous is aborting with status: OUT_OF_RANGE: End of sequence\n"
     ]
    },
    {
     "data": {
      "application/vnd.jupyter.widget-view+json": {
       "model_id": "",
       "version_major": 2,
       "version_minor": 0
      },
      "text/plain": [
       "Epoch 29/50:   0%|          | 0/139 [00:00<?, ?it/s]"
      ]
     },
     "metadata": {},
     "output_type": "display_data"
    },
    {
     "name": "stdout",
     "output_type": "stream",
     "text": [
      "Epoch 29/50 - Loss: 0.0102\n"
     ]
    },
    {
     "name": "stderr",
     "output_type": "stream",
     "text": [
      "2025-02-16 01:04:02.583877: W tensorflow/core/framework/local_rendezvous.cc:404] Local rendezvous is aborting with status: OUT_OF_RANGE: End of sequence\n"
     ]
    },
    {
     "data": {
      "application/vnd.jupyter.widget-view+json": {
       "model_id": "",
       "version_major": 2,
       "version_minor": 0
      },
      "text/plain": [
       "Epoch 30/50:   0%|          | 0/139 [00:00<?, ?it/s]"
      ]
     },
     "metadata": {},
     "output_type": "display_data"
    },
    {
     "name": "stdout",
     "output_type": "stream",
     "text": [
      "Epoch 30/50 - Loss: 0.0101\n"
     ]
    },
    {
     "name": "stderr",
     "output_type": "stream",
     "text": [
      "2025-02-16 01:04:45.544089: W tensorflow/core/framework/local_rendezvous.cc:404] Local rendezvous is aborting with status: OUT_OF_RANGE: End of sequence\n"
     ]
    },
    {
     "data": {
      "application/vnd.jupyter.widget-view+json": {
       "model_id": "",
       "version_major": 2,
       "version_minor": 0
      },
      "text/plain": [
       "Epoch 31/50:   0%|          | 0/139 [00:00<?, ?it/s]"
      ]
     },
     "metadata": {},
     "output_type": "display_data"
    },
    {
     "name": "stdout",
     "output_type": "stream",
     "text": [
      "Epoch 31/50 - Loss: 0.0101\n"
     ]
    },
    {
     "name": "stderr",
     "output_type": "stream",
     "text": [
      "2025-02-16 01:05:28.634813: W tensorflow/core/framework/local_rendezvous.cc:404] Local rendezvous is aborting with status: OUT_OF_RANGE: End of sequence\n"
     ]
    },
    {
     "data": {
      "application/vnd.jupyter.widget-view+json": {
       "model_id": "",
       "version_major": 2,
       "version_minor": 0
      },
      "text/plain": [
       "Epoch 32/50:   0%|          | 0/139 [00:00<?, ?it/s]"
      ]
     },
     "metadata": {},
     "output_type": "display_data"
    },
    {
     "name": "stdout",
     "output_type": "stream",
     "text": [
      "Epoch 32/50 - Loss: 0.0100\n"
     ]
    },
    {
     "name": "stderr",
     "output_type": "stream",
     "text": [
      "2025-02-16 01:06:11.717116: W tensorflow/core/framework/local_rendezvous.cc:404] Local rendezvous is aborting with status: OUT_OF_RANGE: End of sequence\n"
     ]
    },
    {
     "data": {
      "application/vnd.jupyter.widget-view+json": {
       "model_id": "",
       "version_major": 2,
       "version_minor": 0
      },
      "text/plain": [
       "Epoch 33/50:   0%|          | 0/139 [00:00<?, ?it/s]"
      ]
     },
     "metadata": {},
     "output_type": "display_data"
    },
    {
     "name": "stdout",
     "output_type": "stream",
     "text": [
      "Epoch 33/50 - Loss: 0.0100\n"
     ]
    },
    {
     "name": "stderr",
     "output_type": "stream",
     "text": [
      "2025-02-16 01:06:54.570716: W tensorflow/core/framework/local_rendezvous.cc:404] Local rendezvous is aborting with status: OUT_OF_RANGE: End of sequence\n"
     ]
    },
    {
     "data": {
      "application/vnd.jupyter.widget-view+json": {
       "model_id": "",
       "version_major": 2,
       "version_minor": 0
      },
      "text/plain": [
       "Epoch 34/50:   0%|          | 0/139 [00:00<?, ?it/s]"
      ]
     },
     "metadata": {},
     "output_type": "display_data"
    },
    {
     "name": "stdout",
     "output_type": "stream",
     "text": [
      "Epoch 34/50 - Loss: 0.0100\n"
     ]
    },
    {
     "name": "stderr",
     "output_type": "stream",
     "text": [
      "2025-02-16 01:07:37.460698: W tensorflow/core/framework/local_rendezvous.cc:404] Local rendezvous is aborting with status: OUT_OF_RANGE: End of sequence\n"
     ]
    },
    {
     "data": {
      "application/vnd.jupyter.widget-view+json": {
       "model_id": "",
       "version_major": 2,
       "version_minor": 0
      },
      "text/plain": [
       "Epoch 35/50:   0%|          | 0/139 [00:00<?, ?it/s]"
      ]
     },
     "metadata": {},
     "output_type": "display_data"
    },
    {
     "name": "stdout",
     "output_type": "stream",
     "text": [
      "Epoch 35/50 - Loss: 0.0099\n"
     ]
    },
    {
     "name": "stderr",
     "output_type": "stream",
     "text": [
      "2025-02-16 01:08:20.479654: W tensorflow/core/framework/local_rendezvous.cc:404] Local rendezvous is aborting with status: OUT_OF_RANGE: End of sequence\n"
     ]
    },
    {
     "data": {
      "application/vnd.jupyter.widget-view+json": {
       "model_id": "",
       "version_major": 2,
       "version_minor": 0
      },
      "text/plain": [
       "Epoch 36/50:   0%|          | 0/139 [00:00<?, ?it/s]"
      ]
     },
     "metadata": {},
     "output_type": "display_data"
    },
    {
     "name": "stdout",
     "output_type": "stream",
     "text": [
      "Epoch 36/50 - Loss: 0.0099\n"
     ]
    },
    {
     "name": "stderr",
     "output_type": "stream",
     "text": [
      "2025-02-16 01:09:03.272509: W tensorflow/core/framework/local_rendezvous.cc:404] Local rendezvous is aborting with status: OUT_OF_RANGE: End of sequence\n"
     ]
    },
    {
     "data": {
      "application/vnd.jupyter.widget-view+json": {
       "model_id": "",
       "version_major": 2,
       "version_minor": 0
      },
      "text/plain": [
       "Epoch 37/50:   0%|          | 0/139 [00:00<?, ?it/s]"
      ]
     },
     "metadata": {},
     "output_type": "display_data"
    },
    {
     "name": "stdout",
     "output_type": "stream",
     "text": [
      "Epoch 37/50 - Loss: 0.0099\n"
     ]
    },
    {
     "name": "stderr",
     "output_type": "stream",
     "text": [
      "2025-02-16 01:09:46.191339: W tensorflow/core/framework/local_rendezvous.cc:404] Local rendezvous is aborting with status: OUT_OF_RANGE: End of sequence\n"
     ]
    },
    {
     "data": {
      "application/vnd.jupyter.widget-view+json": {
       "model_id": "",
       "version_major": 2,
       "version_minor": 0
      },
      "text/plain": [
       "Epoch 38/50:   0%|          | 0/139 [00:00<?, ?it/s]"
      ]
     },
     "metadata": {},
     "output_type": "display_data"
    },
    {
     "name": "stdout",
     "output_type": "stream",
     "text": [
      "Epoch 38/50 - Loss: 0.0099\n"
     ]
    },
    {
     "name": "stderr",
     "output_type": "stream",
     "text": [
      "2025-02-16 01:10:28.840099: W tensorflow/core/framework/local_rendezvous.cc:404] Local rendezvous is aborting with status: OUT_OF_RANGE: End of sequence\n"
     ]
    },
    {
     "data": {
      "application/vnd.jupyter.widget-view+json": {
       "model_id": "",
       "version_major": 2,
       "version_minor": 0
      },
      "text/plain": [
       "Epoch 39/50:   0%|          | 0/139 [00:00<?, ?it/s]"
      ]
     },
     "metadata": {},
     "output_type": "display_data"
    },
    {
     "name": "stdout",
     "output_type": "stream",
     "text": [
      "Epoch 39/50 - Loss: 0.0099\n"
     ]
    },
    {
     "name": "stderr",
     "output_type": "stream",
     "text": [
      "2025-02-16 01:11:11.490654: W tensorflow/core/framework/local_rendezvous.cc:404] Local rendezvous is aborting with status: OUT_OF_RANGE: End of sequence\n"
     ]
    },
    {
     "data": {
      "application/vnd.jupyter.widget-view+json": {
       "model_id": "",
       "version_major": 2,
       "version_minor": 0
      },
      "text/plain": [
       "Epoch 40/50:   0%|          | 0/139 [00:00<?, ?it/s]"
      ]
     },
     "metadata": {},
     "output_type": "display_data"
    },
    {
     "name": "stdout",
     "output_type": "stream",
     "text": [
      "Epoch 40/50 - Loss: 0.0099\n"
     ]
    },
    {
     "name": "stderr",
     "output_type": "stream",
     "text": [
      "2025-02-16 01:11:54.176392: W tensorflow/core/framework/local_rendezvous.cc:404] Local rendezvous is aborting with status: OUT_OF_RANGE: End of sequence\n"
     ]
    },
    {
     "data": {
      "application/vnd.jupyter.widget-view+json": {
       "model_id": "",
       "version_major": 2,
       "version_minor": 0
      },
      "text/plain": [
       "Epoch 41/50:   0%|          | 0/139 [00:00<?, ?it/s]"
      ]
     },
     "metadata": {},
     "output_type": "display_data"
    },
    {
     "name": "stdout",
     "output_type": "stream",
     "text": [
      "Epoch 41/50 - Loss: 0.0099\n"
     ]
    },
    {
     "name": "stderr",
     "output_type": "stream",
     "text": [
      "2025-02-16 01:12:36.715028: W tensorflow/core/framework/local_rendezvous.cc:404] Local rendezvous is aborting with status: OUT_OF_RANGE: End of sequence\n"
     ]
    },
    {
     "data": {
      "application/vnd.jupyter.widget-view+json": {
       "model_id": "",
       "version_major": 2,
       "version_minor": 0
      },
      "text/plain": [
       "Epoch 42/50:   0%|          | 0/139 [00:00<?, ?it/s]"
      ]
     },
     "metadata": {},
     "output_type": "display_data"
    },
    {
     "name": "stdout",
     "output_type": "stream",
     "text": [
      "Epoch 42/50 - Loss: 0.0099\n"
     ]
    },
    {
     "name": "stderr",
     "output_type": "stream",
     "text": [
      "2025-02-16 01:13:19.352528: W tensorflow/core/framework/local_rendezvous.cc:404] Local rendezvous is aborting with status: OUT_OF_RANGE: End of sequence\n"
     ]
    },
    {
     "data": {
      "application/vnd.jupyter.widget-view+json": {
       "model_id": "",
       "version_major": 2,
       "version_minor": 0
      },
      "text/plain": [
       "Epoch 43/50:   0%|          | 0/139 [00:00<?, ?it/s]"
      ]
     },
     "metadata": {},
     "output_type": "display_data"
    },
    {
     "name": "stdout",
     "output_type": "stream",
     "text": [
      "Epoch 43/50 - Loss: 0.0099\n"
     ]
    },
    {
     "name": "stderr",
     "output_type": "stream",
     "text": [
      "2025-02-16 01:14:03.432360: W tensorflow/core/framework/local_rendezvous.cc:404] Local rendezvous is aborting with status: OUT_OF_RANGE: End of sequence\n"
     ]
    },
    {
     "data": {
      "application/vnd.jupyter.widget-view+json": {
       "model_id": "",
       "version_major": 2,
       "version_minor": 0
      },
      "text/plain": [
       "Epoch 44/50:   0%|          | 0/139 [00:00<?, ?it/s]"
      ]
     },
     "metadata": {},
     "output_type": "display_data"
    },
    {
     "name": "stdout",
     "output_type": "stream",
     "text": [
      "Epoch 44/50 - Loss: 0.0099\n"
     ]
    },
    {
     "name": "stderr",
     "output_type": "stream",
     "text": [
      "2025-02-16 01:14:47.176125: W tensorflow/core/framework/local_rendezvous.cc:404] Local rendezvous is aborting with status: OUT_OF_RANGE: End of sequence\n"
     ]
    },
    {
     "data": {
      "application/vnd.jupyter.widget-view+json": {
       "model_id": "",
       "version_major": 2,
       "version_minor": 0
      },
      "text/plain": [
       "Epoch 45/50:   0%|          | 0/139 [00:00<?, ?it/s]"
      ]
     },
     "metadata": {},
     "output_type": "display_data"
    },
    {
     "name": "stdout",
     "output_type": "stream",
     "text": [
      "Epoch 45/50 - Loss: 0.0099\n"
     ]
    },
    {
     "name": "stderr",
     "output_type": "stream",
     "text": [
      "2025-02-16 01:15:29.878762: W tensorflow/core/framework/local_rendezvous.cc:404] Local rendezvous is aborting with status: OUT_OF_RANGE: End of sequence\n"
     ]
    },
    {
     "data": {
      "application/vnd.jupyter.widget-view+json": {
       "model_id": "",
       "version_major": 2,
       "version_minor": 0
      },
      "text/plain": [
       "Epoch 46/50:   0%|          | 0/139 [00:00<?, ?it/s]"
      ]
     },
     "metadata": {},
     "output_type": "display_data"
    },
    {
     "name": "stdout",
     "output_type": "stream",
     "text": [
      "Epoch 46/50 - Loss: 0.0099\n"
     ]
    },
    {
     "name": "stderr",
     "output_type": "stream",
     "text": [
      "2025-02-16 01:16:12.911793: W tensorflow/core/framework/local_rendezvous.cc:404] Local rendezvous is aborting with status: OUT_OF_RANGE: End of sequence\n"
     ]
    },
    {
     "data": {
      "application/vnd.jupyter.widget-view+json": {
       "model_id": "",
       "version_major": 2,
       "version_minor": 0
      },
      "text/plain": [
       "Epoch 47/50:   0%|          | 0/139 [00:00<?, ?it/s]"
      ]
     },
     "metadata": {},
     "output_type": "display_data"
    },
    {
     "name": "stdout",
     "output_type": "stream",
     "text": [
      "Epoch 47/50 - Loss: 0.0099\n"
     ]
    },
    {
     "name": "stderr",
     "output_type": "stream",
     "text": [
      "2025-02-16 01:16:55.428228: W tensorflow/core/framework/local_rendezvous.cc:404] Local rendezvous is aborting with status: OUT_OF_RANGE: End of sequence\n"
     ]
    },
    {
     "data": {
      "application/vnd.jupyter.widget-view+json": {
       "model_id": "",
       "version_major": 2,
       "version_minor": 0
      },
      "text/plain": [
       "Epoch 48/50:   0%|          | 0/139 [00:00<?, ?it/s]"
      ]
     },
     "metadata": {},
     "output_type": "display_data"
    },
    {
     "name": "stdout",
     "output_type": "stream",
     "text": [
      "Epoch 48/50 - Loss: 0.0099\n"
     ]
    },
    {
     "name": "stderr",
     "output_type": "stream",
     "text": [
      "2025-02-16 01:17:38.403274: W tensorflow/core/framework/local_rendezvous.cc:404] Local rendezvous is aborting with status: OUT_OF_RANGE: End of sequence\n"
     ]
    },
    {
     "data": {
      "application/vnd.jupyter.widget-view+json": {
       "model_id": "",
       "version_major": 2,
       "version_minor": 0
      },
      "text/plain": [
       "Epoch 49/50:   0%|          | 0/139 [00:00<?, ?it/s]"
      ]
     },
     "metadata": {},
     "output_type": "display_data"
    },
    {
     "name": "stdout",
     "output_type": "stream",
     "text": [
      "Epoch 49/50 - Loss: 0.0099\n"
     ]
    },
    {
     "name": "stderr",
     "output_type": "stream",
     "text": [
      "2025-02-16 01:18:20.940926: W tensorflow/core/framework/local_rendezvous.cc:404] Local rendezvous is aborting with status: OUT_OF_RANGE: End of sequence\n"
     ]
    },
    {
     "data": {
      "application/vnd.jupyter.widget-view+json": {
       "model_id": "",
       "version_major": 2,
       "version_minor": 0
      },
      "text/plain": [
       "Epoch 50/50:   0%|          | 0/139 [00:00<?, ?it/s]"
      ]
     },
     "metadata": {},
     "output_type": "display_data"
    },
    {
     "name": "stdout",
     "output_type": "stream",
     "text": [
      "Epoch 50/50 - Loss: 0.0099\n"
     ]
    },
    {
     "name": "stderr",
     "output_type": "stream",
     "text": [
      "2025-02-16 01:19:03.459042: W tensorflow/core/framework/local_rendezvous.cc:404] Local rendezvous is aborting with status: OUT_OF_RANGE: End of sequence\n"
     ]
    }
   ],
   "source": [
    "from tqdm.auto import tqdm\n",
    "\n",
    "train_dataset = tf.data.Dataset.from_tensor_slices(train_data.astype('float32'))\n",
    "train_dataset = train_dataset.batch(BATCH_SIZE)\n",
    "\n",
    "for epoch in range(EPOCHS):\n",
    "    train_loss = 0\n",
    "    n_batches = len(train_data) // BATCH_SIZE\n",
    "    \n",
    "    pbar = tqdm(enumerate(train_dataset), \n",
    "                desc=f'Epoch {epoch+1}/{EPOCHS}', \n",
    "                total=n_batches,\n",
    "                leave=False)\n",
    "    \n",
    "    for i, batch_data in pbar:        \n",
    "        with tf.GradientTape() as tape:\n",
    "            noisy = forward_diffusion(batch_data, noise_level=0.1)\n",
    "            reconstructed = model(noisy, training=True)\n",
    "            loss = tf.reduce_mean(tf.square(reconstructed - batch_data))\n",
    "        \n",
    "        grads = tape.gradient(loss, model.trainable_variables)\n",
    "        grads, _ = tf.clip_by_global_norm(grads, clip_norm=0.5)  # clip_norm 1.0 -> 0.5\n",
    "        optimizer.apply_gradients(zip(grads, model.trainable_variables))\n",
    "        \n",
    "        train_loss += loss.numpy()\n",
    "        pbar.set_postfix({'Loss': f'{loss.numpy():.4f}'})\n",
    "    \n",
    "    avg_loss = train_loss / n_batches\n",
    "    print(f'Epoch {epoch+1}/{EPOCHS} - Loss: {avg_loss:.4f}')"
   ]
  },
  {
   "cell_type": "code",
   "execution_count": 34,
   "id": "f421d3c0",
   "metadata": {
    "ExecuteTime": {
     "end_time": "2025-02-15T16:33:14.306395Z",
     "start_time": "2025-02-15T16:33:14.302843Z"
    }
   },
   "outputs": [],
   "source": [
    "def flatten(X):\n",
    "    flattened_X = np.empty((X.shape[0], X.shape[2]))  # sample x features array.\n",
    "    for i in range(X.shape[0]):\n",
    "        flattened_X[i] = X[i, (X.shape[1]-1), :]\n",
    "    return(flattened_X)"
   ]
  },
  {
   "cell_type": "code",
   "execution_count": 35,
   "id": "713312a7",
   "metadata": {
    "ExecuteTime": {
     "end_time": "2025-02-15T16:33:28.204860Z",
     "start_time": "2025-02-15T16:33:26.046014Z"
    }
   },
   "outputs": [
    {
     "name": "stdout",
     "output_type": "stream",
     "text": [
      "\u001b[1m241/241\u001b[0m \u001b[32m━━━━━━━━━━━━━━━━━━━━\u001b[0m\u001b[37m\u001b[0m \u001b[1m2s\u001b[0m 8ms/step\n"
     ]
    },
    {
     "data": {
      "text/html": [
       "<div>\n",
       "<style scoped>\n",
       "    .dataframe tbody tr th:only-of-type {\n",
       "        vertical-align: middle;\n",
       "    }\n",
       "\n",
       "    .dataframe tbody tr th {\n",
       "        vertical-align: top;\n",
       "    }\n",
       "\n",
       "    .dataframe thead th {\n",
       "        text-align: right;\n",
       "    }\n",
       "</style>\n",
       "<table border=\"1\" class=\"dataframe\">\n",
       "  <thead>\n",
       "    <tr style=\"text-align: right;\">\n",
       "      <th></th>\n",
       "      <th>reconstruction_error</th>\n",
       "      <th>true_class</th>\n",
       "    </tr>\n",
       "  </thead>\n",
       "  <tbody>\n",
       "    <tr>\n",
       "      <th>0</th>\n",
       "      <td>0.000087</td>\n",
       "      <td>0.0</td>\n",
       "    </tr>\n",
       "    <tr>\n",
       "      <th>1</th>\n",
       "      <td>0.000076</td>\n",
       "      <td>0.0</td>\n",
       "    </tr>\n",
       "    <tr>\n",
       "      <th>2</th>\n",
       "      <td>0.000124</td>\n",
       "      <td>0.0</td>\n",
       "    </tr>\n",
       "    <tr>\n",
       "      <th>3</th>\n",
       "      <td>0.000113</td>\n",
       "      <td>0.0</td>\n",
       "    </tr>\n",
       "    <tr>\n",
       "      <th>4</th>\n",
       "      <td>0.000140</td>\n",
       "      <td>0.0</td>\n",
       "    </tr>\n",
       "    <tr>\n",
       "      <th>...</th>\n",
       "      <td>...</td>\n",
       "      <td>...</td>\n",
       "    </tr>\n",
       "    <tr>\n",
       "      <th>7685</th>\n",
       "      <td>0.000232</td>\n",
       "      <td>1.0</td>\n",
       "    </tr>\n",
       "    <tr>\n",
       "      <th>7686</th>\n",
       "      <td>0.000226</td>\n",
       "      <td>1.0</td>\n",
       "    </tr>\n",
       "    <tr>\n",
       "      <th>7687</th>\n",
       "      <td>0.000248</td>\n",
       "      <td>1.0</td>\n",
       "    </tr>\n",
       "    <tr>\n",
       "      <th>7688</th>\n",
       "      <td>0.000226</td>\n",
       "      <td>1.0</td>\n",
       "    </tr>\n",
       "    <tr>\n",
       "      <th>7689</th>\n",
       "      <td>0.000234</td>\n",
       "      <td>1.0</td>\n",
       "    </tr>\n",
       "  </tbody>\n",
       "</table>\n",
       "<p>7690 rows × 2 columns</p>\n",
       "</div>"
      ],
      "text/plain": [
       "      reconstruction_error  true_class\n",
       "0                 0.000087         0.0\n",
       "1                 0.000076         0.0\n",
       "2                 0.000124         0.0\n",
       "3                 0.000113         0.0\n",
       "4                 0.000140         0.0\n",
       "...                    ...         ...\n",
       "7685              0.000232         1.0\n",
       "7686              0.000226         1.0\n",
       "7687              0.000248         1.0\n",
       "7688              0.000226         1.0\n",
       "7689              0.000234         1.0\n",
       "\n",
       "[7690 rows x 2 columns]"
      ]
     },
     "execution_count": 35,
     "metadata": {},
     "output_type": "execute_result"
    }
   ],
   "source": [
    "from sklearn.metrics import mean_squared_error\n",
    "\n",
    "valid_x_predictions = model.predict(test_data)\n",
    "error = flatten(test_data) - flatten(valid_x_predictions)\n",
    "\n",
    "valid_mse = np.mean(np.power(flatten(test_data) - flatten(valid_x_predictions), 2), axis=1)\n",
    "\n",
    "error_df = pd.DataFrame({\n",
    "    'reconstruction_error': valid_mse,\n",
    "    'true_class': test_labels\n",
    "})\n",
    "\n",
    "error_df"
   ]
  },
  {
   "cell_type": "code",
   "execution_count": 36,
   "id": "cb6c6497",
   "metadata": {
    "ExecuteTime": {
     "end_time": "2025-02-15T16:33:36.654854Z",
     "start_time": "2025-02-15T16:33:33.135129Z"
    }
   },
   "outputs": [
    {
     "name": "stdout",
     "output_type": "stream",
     "text": [
      "\u001b[1m140/140\u001b[0m \u001b[32m━━━━━━━━━━━━━━━━━━━━\u001b[0m\u001b[37m\u001b[0m \u001b[1m1s\u001b[0m 8ms/step\n",
      "\u001b[1m241/241\u001b[0m \u001b[32m━━━━━━━━━━━━━━━━━━━━\u001b[0m\u001b[37m\u001b[0m \u001b[1m2s\u001b[0m 8ms/step\n"
     ]
    },
    {
     "data": {
      "image/png": "[encoded data removed]",
      "text/plain": [
       "<Figure size 640x480 with 1 Axes>"
      ]
     },
     "metadata": {},
     "output_type": "display_data"
    }
   ],
   "source": [
    "X_pred_train = model.predict(train_data)\n",
    "scored_train = np.mean(np.abs(flatten(train_data) - flatten(X_pred_train)), axis=1)\n",
    "X_pred_test = model.predict(test_data)\n",
    "scored_test = np.mean(np.abs(flatten(test_data) - flatten(X_pred_test)), axis=1)\n",
    "\n",
    "plt.title('MSE compare') \n",
    "plt.hist(scored_train, bins=10, color='blue', histtype='step', label='normal') \n",
    "plt.hist(scored_test, bins=10, color='red', histtype='step', label='abnormal') \n",
    "plt.xlabel('MSE')\n",
    "plt.legend()\n",
    "plt.show()"
   ]
  },
  {
   "cell_type": "code",
   "execution_count": 37,
   "id": "57e7dbc5",
   "metadata": {
    "ExecuteTime": {
     "end_time": "2025-02-15T16:33:40.225129Z",
     "start_time": "2025-02-15T16:33:40.219484Z"
    }
   },
   "outputs": [
    {
     "data": {
      "text/plain": [
       "true_class\n",
       "0.0    4464\n",
       "1.0    3226\n",
       "Name: count, dtype: int64"
      ]
     },
     "execution_count": 37,
     "metadata": {},
     "output_type": "execute_result"
    }
   ],
   "source": [
    "error_df['true_class'].value_counts()"
   ]
  },
  {
   "cell_type": "code",
   "execution_count": 52,
   "id": "1007d566",
   "metadata": {
    "ExecuteTime": {
     "end_time": "2025-02-15T16:39:14.376906Z",
     "start_time": "2025-02-15T16:39:14.201616Z"
    }
   },
   "outputs": [
    {
     "data": {
      "image/png": "[encoded data removed]",
      "text/plain": [
       "<Figure size 1000x600 with 1 Axes>"
      ]
     },
     "metadata": {},
     "output_type": "display_data"
    }
   ],
   "source": [
    "plt.figure(figsize=(10, 6))\n",
    "sns.boxplot(x='true_class', y='reconstruction_error', data=error_df, showfliers=False, saturation=1)\n",
    "plt.ylabel('Distribution')\n",
    "\n",
    "plt.ylim((0, 0.0025))\n",
    "plt.xticks(rotation=90)\n",
    "plt.show()"
   ]
  },
  {
   "cell_type": "code",
   "execution_count": 53,
   "id": "5c966c75",
   "metadata": {
    "ExecuteTime": {
     "end_time": "2025-02-15T16:39:22.648142Z",
     "start_time": "2025-02-15T16:39:22.645672Z"
    }
   },
   "outputs": [],
   "source": [
    "threshold = 0.0005"
   ]
  },
  {
   "cell_type": "code",
   "execution_count": 54,
   "id": "e2976fe9",
   "metadata": {
    "ExecuteTime": {
     "end_time": "2025-02-15T16:39:23.532294Z",
     "start_time": "2025-02-15T16:39:23.388961Z"
    }
   },
   "outputs": [
    {
     "data": {
      "image/png": "[encoded data removed]",
      "text/plain": [
       "<Figure size 640x480 with 1 Axes>"
      ]
     },
     "metadata": {},
     "output_type": "display_data"
    }
   ],
   "source": [
    "groups = error_df.groupby('true_class')\n",
    "fig, ax = plt.subplots()\n",
    "\n",
    "for name, group in groups:\n",
    "    ax.plot(group.index, group.reconstruction_error, marker='^', ms=3.5, linestyle='',\n",
    "            label= \"Normal\" if name == 0 else \"Fall\")\n",
    "ax.hlines(threshold, ax.get_xlim()[0], ax.get_xlim()[1], colors=\"r\", zorder=100, label='Threshold')\n",
    "ax.legend()\n",
    "plt.title(\"Reconstruction error for different classes\")\n",
    "plt.ylabel(\"Reconstruction error\")\n",
    "plt.xlabel(\"Data point index\")\n",
    "plt.show();"
   ]
  },
  {
   "cell_type": "code",
   "execution_count": 55,
   "id": "0acf38ed",
   "metadata": {
    "ExecuteTime": {
     "end_time": "2025-02-15T16:39:25.264282Z",
     "start_time": "2025-02-15T16:39:25.108874Z"
    }
   },
   "outputs": [
    {
     "data": {
      "image/png": "[encoded data removed]",
      "text/plain": [
       "<Figure size 700x700 with 2 Axes>"
      ]
     },
     "metadata": {},
     "output_type": "display_data"
    }
   ],
   "source": [
    "LABELS = [\"ADL\", \"FALL\"]\n",
    "\n",
    "plt.figure(figsize=(7, 7))\n",
    "y_pred = [1 if e > threshold else 0 for e in error_df.reconstruction_error.values]\n",
    "conf_matrix = confusion_matrix(error_df.true_class, y_pred)\n",
    "sns.heatmap(conf_matrix, xticklabels=LABELS, yticklabels=LABELS, annot=True, fmt=\"d\");\n",
    "plt.title(\"Confusion matrix\")\n",
    "plt.ylabel('True class')\n",
    "plt.xlabel('Predicted class')\n",
    "plt.show()"
   ]
  },
  {
   "cell_type": "code",
   "execution_count": 56,
   "id": "3e0a01a0",
   "metadata": {
    "ExecuteTime": {
     "end_time": "2025-02-15T16:39:26.888990Z",
     "start_time": "2025-02-15T16:39:26.873607Z"
    }
   },
   "outputs": [
    {
     "name": "stdout",
     "output_type": "stream",
     "text": [
      "\n",
      "Performance Metrics:\n",
      "Accuracy Score : 0.6501\n",
      "Precision     : 0.6359\n",
      "Recall        : 0.3881\n",
      "F1 Score      : 0.4820\n"
     ]
    }
   ],
   "source": [
    "from sklearn.metrics import precision_recall_fscore_support, accuracy_score\n",
    "\n",
    "precision, recall, f1, _ = precision_recall_fscore_support(error_df.true_class, y_pred, average='binary')\n",
    "accuracy = accuracy_score(error_df.true_class, y_pred)\n",
    "\n",
    "print('\\nPerformance Metrics:')\n",
    "print(f'Accuracy Score : {accuracy:.4f}')\n",
    "print(f'Precision     : {precision:.4f}')\n",
    "print(f'Recall        : {recall:.4f}')\n",
    "print(f'F1 Score      : {f1:.4f}')"
   ]
  },
  {
   "cell_type": "code",
   "execution_count": null,
   "id": "53d72edf",
   "metadata": {},
   "outputs": [],
   "source": []
  }
 ],
 "metadata": {
  "kernelspec": {
   "display_name": "Python 3 (ipykernel)",
   "language": "python",
   "name": "python3"
  },
  "language_info": {
   "codemirror_mode": {
    "name": "ipython",
    "version": 3
   },
   "file_extension": ".py",
   "mimetype": "text/x-python",
   "name": "python",
   "nbconvert_exporter": "python",
   "pygments_lexer": "ipython3",
   "version": "3.11.3"
  },
  "varInspector": {
   "cols": {
    "lenName": 16,
    "lenType": 16,
    "lenVar": 40
   },
   "kernels_config": {
    "python": {
     "delete_cmd_postfix": "",
     "delete_cmd_prefix": "del ",
     "library": "var_list.py",
     "varRefreshCmd": "print(var_dic_list())"
    },
    "r": {
     "delete_cmd_postfix": ") ",
     "delete_cmd_prefix": "rm(",
     "library": "var_list.r",
     "varRefreshCmd": "cat(var_dic_list()) "
    }
   },
   "types_to_exclude": [
    "module",
    "function",
    "builtin_function_or_method",
    "instance",
    "_Feature"
   ],
   "window_display": false
  }
 },
 "nbformat": 4,
 "nbformat_minor": 5
}
