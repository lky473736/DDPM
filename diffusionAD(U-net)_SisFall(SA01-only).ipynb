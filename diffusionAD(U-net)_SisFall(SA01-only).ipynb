{
 "cells": [
  {
   "cell_type": "code",
   "execution_count": 54,
   "id": "d79a0b52",
   "metadata": {
    "ExecuteTime": {
     "end_time": "2025-02-05T03:13:17.384686Z",
     "start_time": "2025-02-05T03:13:17.381305Z"
    }
   },
   "outputs": [],
   "source": [
    "import tensorflow as tf\n",
    "import numpy as np\n",
    "from tensorflow.keras import layers, Model\n",
    "import matplotlib.pyplot as plt \n",
    "import seaborn as sns\n",
    "import os\n",
    "import glob\n",
    "import pandas as pd\n",
    "from tqdm import tqdm\n",
    "from sklearn.metrics import confusion_matrix, classification_report\n",
    "from sklearn.preprocessing import StandardScaler"
   ]
  },
  {
   "cell_type": "code",
   "execution_count": 55,
   "id": "338f82ef",
   "metadata": {
    "ExecuteTime": {
     "end_time": "2025-02-05T03:13:18.136637Z",
     "start_time": "2025-02-05T03:13:18.132037Z"
    }
   },
   "outputs": [
    {
     "data": {
      "text/plain": [
       "'\\n        Each file contains nine columns and a different number of rows depending on the test length.\\n        \\n        1st column is the acceleration data in the X axis measured by the sensor ADXL345.\\n        2nd column is the acceleration data in the Y axis measured by the sensor ADXL345.\\n        3rd column is the acceleration data in the Z axis measured by the sensor ADXL345.\\n\\n        4th column is the rotation data in the X axis measured by the sensor ITG3200.\\n        5th column is the rotation data in the Y axis measured by the sensor ITG3200.\\n        6th column is the rotation data in the Z axis measured by the sensor ITG3200.\\n\\n        7th column is the acceleration data in the X axis measured by the sensor MMA8451Q.\\n        8th column is the acceleration data in the Y axis measured by the sensor MMA8451Q.\\n        9th column is the acceleration data in the Z axis measured by the sensor MMA8451Q.\\n        \\n        Data are in bits with the following characteristics:\\n\\n        ADXL345:\\n        Resolution: 13 bits\\n        Range: +-16g\\n\\n        ITG3200\\n        Resolution: 16 bits\\n        Range: +-2000°/s\\n\\n        MMA8451Q:\\n        Resolution: 14 bits\\n        Range: +-8g\\n'"
      ]
     },
     "execution_count": 55,
     "metadata": {},
     "output_type": "execute_result"
    }
   ],
   "source": [
    "'''\n",
    "        Each file contains nine columns and a different number of rows depending on the test length.\n",
    "        \n",
    "        1st column is the acceleration data in the X axis measured by the sensor ADXL345.\n",
    "        2nd column is the acceleration data in the Y axis measured by the sensor ADXL345.\n",
    "        3rd column is the acceleration data in the Z axis measured by the sensor ADXL345.\n",
    "\n",
    "        4th column is the rotation data in the X axis measured by the sensor ITG3200.\n",
    "        5th column is the rotation data in the Y axis measured by the sensor ITG3200.\n",
    "        6th column is the rotation data in the Z axis measured by the sensor ITG3200.\n",
    "\n",
    "        7th column is the acceleration data in the X axis measured by the sensor MMA8451Q.\n",
    "        8th column is the acceleration data in the Y axis measured by the sensor MMA8451Q.\n",
    "        9th column is the acceleration data in the Z axis measured by the sensor MMA8451Q.\n",
    "        \n",
    "        Data are in bits with the following characteristics:\n",
    "\n",
    "        ADXL345:\n",
    "        Resolution: 13 bits\n",
    "        Range: +-16g\n",
    "\n",
    "        ITG3200\n",
    "        Resolution: 16 bits\n",
    "        Range: +-2000°/s\n",
    "\n",
    "        MMA8451Q:\n",
    "        Resolution: 14 bits\n",
    "        Range: +-8g\n",
    "'''"
   ]
  },
  {
   "cell_type": "code",
   "execution_count": 56,
   "id": "83ab74cc",
   "metadata": {
    "ExecuteTime": {
     "end_time": "2025-02-05T03:13:34.898980Z",
     "start_time": "2025-02-05T03:13:19.160821Z"
    }
   },
   "outputs": [
    {
     "data": {
      "text/html": [
       "<div>\n",
       "<style scoped>\n",
       "    .dataframe tbody tr th:only-of-type {\n",
       "        vertical-align: middle;\n",
       "    }\n",
       "\n",
       "    .dataframe tbody tr th {\n",
       "        vertical-align: top;\n",
       "    }\n",
       "\n",
       "    .dataframe thead th {\n",
       "        text-align: right;\n",
       "    }\n",
       "</style>\n",
       "<table border=\"1\" class=\"dataframe\">\n",
       "  <thead>\n",
       "    <tr style=\"text-align: right;\">\n",
       "      <th></th>\n",
       "      <th>ADXL_x</th>\n",
       "      <th>ADXL_y</th>\n",
       "      <th>ADXL_z</th>\n",
       "      <th>ITG_x</th>\n",
       "      <th>ITG_y</th>\n",
       "      <th>ITG_z</th>\n",
       "      <th>MMA_x</th>\n",
       "      <th>MMA_y</th>\n",
       "      <th>MMA_z</th>\n",
       "      <th>subject</th>\n",
       "      <th>activity</th>\n",
       "      <th>trial</th>\n",
       "    </tr>\n",
       "  </thead>\n",
       "  <tbody>\n",
       "    <tr>\n",
       "      <th>NaN</th>\n",
       "      <td>0.0</td>\n",
       "      <td>1.0</td>\n",
       "      <td>2.0</td>\n",
       "      <td>3.0</td>\n",
       "      <td>4.0</td>\n",
       "      <td>5.0</td>\n",
       "      <td>6.0</td>\n",
       "      <td>7.0</td>\n",
       "      <td>8.0</td>\n",
       "      <td>SA01</td>\n",
       "      <td>D01</td>\n",
       "      <td>R01</td>\n",
       "    </tr>\n",
       "    <tr>\n",
       "      <th>0.0</th>\n",
       "      <td>17.0</td>\n",
       "      <td>-179.0</td>\n",
       "      <td>-99.0</td>\n",
       "      <td>-18.0</td>\n",
       "      <td>-504.0</td>\n",
       "      <td>-352.0</td>\n",
       "      <td>76.0</td>\n",
       "      <td>-697.0</td>\n",
       "      <td>-279.0</td>\n",
       "      <td>SA01</td>\n",
       "      <td>D01</td>\n",
       "      <td>R01</td>\n",
       "    </tr>\n",
       "    <tr>\n",
       "      <th>1.0</th>\n",
       "      <td>15.0</td>\n",
       "      <td>-174.0</td>\n",
       "      <td>-90.0</td>\n",
       "      <td>-53.0</td>\n",
       "      <td>-568.0</td>\n",
       "      <td>-306.0</td>\n",
       "      <td>48.0</td>\n",
       "      <td>-675.0</td>\n",
       "      <td>-254.0</td>\n",
       "      <td>SA01</td>\n",
       "      <td>D01</td>\n",
       "      <td>R01</td>\n",
       "    </tr>\n",
       "    <tr>\n",
       "      <th>2.0</th>\n",
       "      <td>1.0</td>\n",
       "      <td>-176.0</td>\n",
       "      <td>-81.0</td>\n",
       "      <td>-84.0</td>\n",
       "      <td>-613.0</td>\n",
       "      <td>-271.0</td>\n",
       "      <td>-2.0</td>\n",
       "      <td>-668.0</td>\n",
       "      <td>-221.0</td>\n",
       "      <td>SA01</td>\n",
       "      <td>D01</td>\n",
       "      <td>R01</td>\n",
       "    </tr>\n",
       "    <tr>\n",
       "      <th>3.0</th>\n",
       "      <td>-10.0</td>\n",
       "      <td>-180.0</td>\n",
       "      <td>-77.0</td>\n",
       "      <td>-104.0</td>\n",
       "      <td>-647.0</td>\n",
       "      <td>-227.0</td>\n",
       "      <td>-34.0</td>\n",
       "      <td>-697.0</td>\n",
       "      <td>-175.0</td>\n",
       "      <td>SA01</td>\n",
       "      <td>D01</td>\n",
       "      <td>R01</td>\n",
       "    </tr>\n",
       "    <tr>\n",
       "      <th>4.0</th>\n",
       "      <td>-21.0</td>\n",
       "      <td>-191.0</td>\n",
       "      <td>-63.0</td>\n",
       "      <td>-128.0</td>\n",
       "      <td>-675.0</td>\n",
       "      <td>-191.0</td>\n",
       "      <td>-74.0</td>\n",
       "      <td>-741.0</td>\n",
       "      <td>-133.0</td>\n",
       "      <td>SA01</td>\n",
       "      <td>D01</td>\n",
       "      <td>R01</td>\n",
       "    </tr>\n",
       "    <tr>\n",
       "      <th>5.0</th>\n",
       "      <td>-37.0</td>\n",
       "      <td>-225.0</td>\n",
       "      <td>-59.0</td>\n",
       "      <td>-146.0</td>\n",
       "      <td>-700.0</td>\n",
       "      <td>-159.0</td>\n",
       "      <td>-110.0</td>\n",
       "      <td>-840.0</td>\n",
       "      <td>-103.0</td>\n",
       "      <td>SA01</td>\n",
       "      <td>D01</td>\n",
       "      <td>R01</td>\n",
       "    </tr>\n",
       "    <tr>\n",
       "      <th>6.0</th>\n",
       "      <td>-36.0</td>\n",
       "      <td>-243.0</td>\n",
       "      <td>-46.0</td>\n",
       "      <td>-166.0</td>\n",
       "      <td>-722.0</td>\n",
       "      <td>-131.0</td>\n",
       "      <td>-147.0</td>\n",
       "      <td>-948.0</td>\n",
       "      <td>-75.0</td>\n",
       "      <td>SA01</td>\n",
       "      <td>D01</td>\n",
       "      <td>R01</td>\n",
       "    </tr>\n",
       "    <tr>\n",
       "      <th>7.0</th>\n",
       "      <td>-44.0</td>\n",
       "      <td>-271.0</td>\n",
       "      <td>-38.0</td>\n",
       "      <td>-190.0</td>\n",
       "      <td>-738.0</td>\n",
       "      <td>-107.0</td>\n",
       "      <td>-171.0</td>\n",
       "      <td>-1073.0</td>\n",
       "      <td>-38.0</td>\n",
       "      <td>SA01</td>\n",
       "      <td>D01</td>\n",
       "      <td>R01</td>\n",
       "    </tr>\n",
       "    <tr>\n",
       "      <th>8.0</th>\n",
       "      <td>-51.0</td>\n",
       "      <td>-312.0</td>\n",
       "      <td>-33.0</td>\n",
       "      <td>-210.0</td>\n",
       "      <td>-752.0</td>\n",
       "      <td>-90.0</td>\n",
       "      <td>-200.0</td>\n",
       "      <td>-1191.0</td>\n",
       "      <td>3.0</td>\n",
       "      <td>SA01</td>\n",
       "      <td>D01</td>\n",
       "      <td>R01</td>\n",
       "    </tr>\n",
       "  </tbody>\n",
       "</table>\n",
       "</div>"
      ],
      "text/plain": [
       "     ADXL_x  ADXL_y  ADXL_z  ITG_x  ITG_y  ITG_z  MMA_x   MMA_y  MMA_z  \\\n",
       "NaN     0.0     1.0     2.0    3.0    4.0    5.0    6.0     7.0    8.0   \n",
       "0.0    17.0  -179.0   -99.0  -18.0 -504.0 -352.0   76.0  -697.0 -279.0   \n",
       "1.0    15.0  -174.0   -90.0  -53.0 -568.0 -306.0   48.0  -675.0 -254.0   \n",
       "2.0     1.0  -176.0   -81.0  -84.0 -613.0 -271.0   -2.0  -668.0 -221.0   \n",
       "3.0   -10.0  -180.0   -77.0 -104.0 -647.0 -227.0  -34.0  -697.0 -175.0   \n",
       "4.0   -21.0  -191.0   -63.0 -128.0 -675.0 -191.0  -74.0  -741.0 -133.0   \n",
       "5.0   -37.0  -225.0   -59.0 -146.0 -700.0 -159.0 -110.0  -840.0 -103.0   \n",
       "6.0   -36.0  -243.0   -46.0 -166.0 -722.0 -131.0 -147.0  -948.0  -75.0   \n",
       "7.0   -44.0  -271.0   -38.0 -190.0 -738.0 -107.0 -171.0 -1073.0  -38.0   \n",
       "8.0   -51.0  -312.0   -33.0 -210.0 -752.0  -90.0 -200.0 -1191.0    3.0   \n",
       "\n",
       "    subject activity trial  \n",
       "NaN    SA01      D01   R01  \n",
       "0.0    SA01      D01   R01  \n",
       "1.0    SA01      D01   R01  \n",
       "2.0    SA01      D01   R01  \n",
       "3.0    SA01      D01   R01  \n",
       "4.0    SA01      D01   R01  \n",
       "5.0    SA01      D01   R01  \n",
       "6.0    SA01      D01   R01  \n",
       "7.0    SA01      D01   R01  \n",
       "8.0    SA01      D01   R01  "
      ]
     },
     "execution_count": 56,
     "metadata": {},
     "output_type": "execute_result"
    }
   ],
   "source": [
    "datapath = \"./data/SisFall.csv\"\n",
    "\n",
    "df = pd.read_csv(datapath, index_col=0)\n",
    "df.head(10)"
   ]
  },
  {
   "cell_type": "code",
   "execution_count": 57,
   "id": "7bfc2095",
   "metadata": {
    "ExecuteTime": {
     "end_time": "2025-02-05T03:13:56.524724Z",
     "start_time": "2025-02-05T03:13:54.283361Z"
    }
   },
   "outputs": [
    {
     "name": "stdout",
     "output_type": "stream",
     "text": [
      "Index(['ADXL_x', 'ADXL_y', 'ADXL_z', 'ITG_x', 'ITG_y', 'ITG_z', 'MMA_x',\n",
      "       'MMA_y', 'MMA_z', 'subject', 'activity', 'trial'],\n",
      "      dtype='object')\n",
      "{'SE14', 'SA04', 'SA16', 'SA15', 'SE10', 'SA07', 'SE05', 'SE02', 'SA19', 'SA08', 'SE01', 'SA20', 'SA21', 'SE12', 'SE09', 'SA01', 'SA23', 'SE03', 'SE15', 'SA12', 'SE13', 'SA11', 'SA03', 'SE11', 'SA05', 'SA18', 'SA17', 'SE06', 'SA09', 'SA06', 'SE08', 'SA22', 'SA02', 'SA13', 'SA10', 'SA14', 'SE04', 'SE07'}\n"
     ]
    }
   ],
   "source": [
    "print (df.columns)\n",
    "print (set(df['subject']))\n",
    "features = df.copy()\n",
    "\n",
    "dnum = 200\n",
    "fnum = 365"
   ]
  },
  {
   "cell_type": "code",
   "execution_count": 58,
   "id": "0091ffbc",
   "metadata": {
    "ExecuteTime": {
     "end_time": "2025-02-05T03:14:37.238929Z",
     "start_time": "2025-02-05T03:14:21.975050Z"
    }
   },
   "outputs": [],
   "source": [
    "D01 = features[features['activity']=='D01'].head(dnum).copy()\n",
    "D02 = features[features['activity']=='D02'].head(dnum).copy()\n",
    "D03 = features[features['activity']=='D03'].head(dnum).copy()\n",
    "D04 = features[features['activity']=='D04'].head(dnum).copy()\n",
    "D05 = features[features['activity']=='D05'].head(dnum).copy()\n",
    "D06 = features[features['activity']=='D06'].head(dnum).copy()\n",
    "D07 = features[features['activity']=='D07'].head(dnum).copy()\n",
    "D08 = features[features['activity']=='D08'].head(dnum).copy()\n",
    "D09 = features[features['activity']=='D09'].head(dnum).copy()\n",
    "D10 = features[features['activity']=='D10'].head(dnum).copy()\n",
    "D11 = features[features['activity']=='D11'].head(dnum).copy()\n",
    "D12 = features[features['activity']=='D12'].head(dnum).copy()\n",
    "D13 = features[features['activity']=='D13'].head(dnum).copy()\n",
    "D14 = features[features['activity']=='D14'].head(dnum).copy()\n",
    "D15 = features[features['activity']=='D15'].head(dnum).copy()\n",
    "D16 = features[features['activity']=='D16'].head(dnum).copy()\n",
    "D17 = features[features['activity']=='D17'].head(dnum).copy()\n",
    "D18 = features[features['activity']=='D18'].head(dnum).copy()\n",
    "D19 = features[features['activity']=='D19'].head(dnum).copy()"
   ]
  },
  {
   "cell_type": "code",
   "execution_count": 59,
   "id": "45b8e56a",
   "metadata": {
    "ExecuteTime": {
     "end_time": "2025-02-05T03:14:51.763541Z",
     "start_time": "2025-02-05T03:14:38.695019Z"
    }
   },
   "outputs": [],
   "source": [
    "F01 = features[features['activity']=='F01'].head(fnum).copy()\n",
    "F02 = features[features['activity']=='F02'].head(fnum).copy()\n",
    "F03 = features[features['activity']=='F03'].head(fnum).copy()\n",
    "F04 = features[features['activity']=='F04'].head(fnum).copy()\n",
    "F05 = features[features['activity']=='F05'].head(fnum).copy()\n",
    "F06 = features[features['activity']=='F06'].head(fnum).copy()\n",
    "F07 = features[features['activity']=='F07'].head(fnum).copy()\n",
    "F08 = features[features['activity']=='F08'].head(fnum).copy()\n",
    "F09 = features[features['activity']=='F09'].head(fnum).copy()\n",
    "F10 = features[features['activity']=='F10'].head(fnum).copy()\n",
    "F11 = features[features['activity']=='F11'].head(fnum).copy()\n",
    "F12 = features[features['activity']=='F12'].head(fnum).copy()\n",
    "F13 = features[features['activity']=='F13'].head(fnum).copy()\n",
    "F14 = features[features['activity']=='F14'].head(fnum).copy()\n",
    "F15 = features[features['activity']=='F15'].head(fnum).copy()"
   ]
  },
  {
   "cell_type": "code",
   "execution_count": 60,
   "id": "ccb2393c",
   "metadata": {
    "ExecuteTime": {
     "end_time": "2025-02-05T03:15:00.149902Z",
     "start_time": "2025-02-05T03:15:00.143895Z"
    }
   },
   "outputs": [],
   "source": [
    "df = pd.DataFrame()\n",
    "df = pd.concat([df, F01, F02, F03, F04, F05, F06, F07, F08, F09, F10, F11, F12, F13, F14, F15])\n",
    "df = pd.concat([df, D01, D02, D03, D04, D05, D06, D07, D08, D09, D10, D11, D15, D16, D17, D18, D19])"
   ]
  },
  {
   "cell_type": "code",
   "execution_count": 61,
   "id": "79c321f5",
   "metadata": {
    "ExecuteTime": {
     "end_time": "2025-02-05T03:15:00.293409Z",
     "start_time": "2025-02-05T03:15:00.287025Z"
    }
   },
   "outputs": [
    {
     "data": {
      "text/plain": [
       "activity\n",
       "F01    357\n",
       "F09    357\n",
       "F02    357\n",
       "F15    357\n",
       "F14    357\n",
       "F13    357\n",
       "F11    357\n",
       "F10    357\n",
       "F12    357\n",
       "F08    357\n",
       "F07    357\n",
       "F06    357\n",
       "F05    357\n",
       "F04    357\n",
       "F03    357\n",
       "D09    200\n",
       "D18    200\n",
       "D17    200\n",
       "D16    200\n",
       "D15    200\n",
       "D11    200\n",
       "D10    200\n",
       "D01    200\n",
       "D08    200\n",
       "D07    200\n",
       "D06    200\n",
       "D05    200\n",
       "D04    200\n",
       "D03    200\n",
       "D02    200\n",
       "D19    200\n",
       "Name: count, dtype: int64"
      ]
     },
     "execution_count": 61,
     "metadata": {},
     "output_type": "execute_result"
    }
   ],
   "source": [
    "df['activity'].value_counts()"
   ]
  },
  {
   "cell_type": "code",
   "execution_count": 62,
   "id": "9526e9c2",
   "metadata": {
    "ExecuteTime": {
     "end_time": "2025-02-05T03:15:03.485167Z",
     "start_time": "2025-02-05T03:15:03.480967Z"
    }
   },
   "outputs": [],
   "source": [
    "features = df.copy()"
   ]
  },
  {
   "cell_type": "code",
   "execution_count": 63,
   "id": "4ee3e8f1",
   "metadata": {
    "ExecuteTime": {
     "end_time": "2025-02-05T03:15:04.798409Z",
     "start_time": "2025-02-05T03:15:04.734707Z"
    }
   },
   "outputs": [
    {
     "name": "stderr",
     "output_type": "stream",
     "text": [
      "/var/folders/_z/gryfr07n59jgb3wrd062h1ym0000gn/T/ipykernel_73709/4220643108.py:35: FutureWarning: Downcasting behavior in `replace` is deprecated and will be removed in a future version. To retain the old behavior, explicitly call `result.infer_objects(copy=False)`. To opt-in to the future behavior, set `pd.set_option('future.no_silent_downcasting', True)`\n",
      "  features = features.replace({'activity':'F15'},1)\n"
     ]
    }
   ],
   "source": [
    "features = features.replace({'activity':'D01'},0)\n",
    "features = features.replace({'activity':'D01'},0)\n",
    "features = features.replace({'activity':'D02'},0)\n",
    "features = features.replace({'activity':'D03'},0)\n",
    "features = features.replace({'activity':'D04'},0)\n",
    "features = features.replace({'activity':'D05'},0)\n",
    "features = features.replace({'activity':'D06'},0)\n",
    "features = features.replace({'activity':'D07'},0)\n",
    "features = features.replace({'activity':'D08'},0)\n",
    "features = features.replace({'activity':'D09'},0)\n",
    "features = features.replace({'activity':'D10'},0)\n",
    "features = features.replace({'activity':'D11'},0)\n",
    "features = features.replace({'activity':'D12'},0)\n",
    "features = features.replace({'activity':'D13'},0)\n",
    "features = features.replace({'activity':'D14'},0)\n",
    "features = features.replace({'activity':'D15'},0)\n",
    "features = features.replace({'activity':'D16'},0)\n",
    "features = features.replace({'activity':'D17'},0)\n",
    "features = features.replace({'activity':'D18'},0)\n",
    "features = features.replace({'activity':'D19'},0)\n",
    "features = features.replace({'activity':'F01'},1)\n",
    "features = features.replace({'activity':'F02'},1)\n",
    "features = features.replace({'activity':'F03'},1)\n",
    "features = features.replace({'activity':'F04'},1)\n",
    "features = features.replace({'activity':'F05'},1)\n",
    "features = features.replace({'activity':'F06'},1)\n",
    "features = features.replace({'activity':'F07'},1)\n",
    "features = features.replace({'activity':'F08'},1)\n",
    "features = features.replace({'activity':'F09'},1)\n",
    "features = features.replace({'activity':'F10'},1)\n",
    "features = features.replace({'activity':'F11'},1)\n",
    "features = features.replace({'activity':'F12'},1)\n",
    "features = features.replace({'activity':'F13'},1)\n",
    "features = features.replace({'activity':'F14'},1)\n",
    "features = features.replace({'activity':'F15'},1)\n",
    "features = features.replace({'activity':'F15'},1)"
   ]
  },
  {
   "cell_type": "code",
   "execution_count": 64,
   "id": "0b782c0d",
   "metadata": {
    "ExecuteTime": {
     "end_time": "2025-02-05T03:15:06.272789Z",
     "start_time": "2025-02-05T03:15:06.267759Z"
    }
   },
   "outputs": [
    {
     "data": {
      "text/plain": [
       "activity\n",
       "1    5355\n",
       "0    3200\n",
       "Name: count, dtype: int64"
      ]
     },
     "execution_count": 64,
     "metadata": {},
     "output_type": "execute_result"
    }
   ],
   "source": [
    "features['activity'].value_counts()"
   ]
  },
  {
   "cell_type": "code",
   "execution_count": 65,
   "id": "b5464d0d",
   "metadata": {
    "ExecuteTime": {
     "end_time": "2025-02-05T03:15:07.267473Z",
     "start_time": "2025-02-05T03:15:07.250109Z"
    }
   },
   "outputs": [
    {
     "data": {
      "text/html": [
       "<div>\n",
       "<style scoped>\n",
       "    .dataframe tbody tr th:only-of-type {\n",
       "        vertical-align: middle;\n",
       "    }\n",
       "\n",
       "    .dataframe tbody tr th {\n",
       "        vertical-align: top;\n",
       "    }\n",
       "\n",
       "    .dataframe thead th {\n",
       "        text-align: right;\n",
       "    }\n",
       "</style>\n",
       "<table border=\"1\" class=\"dataframe\">\n",
       "  <thead>\n",
       "    <tr style=\"text-align: right;\">\n",
       "      <th></th>\n",
       "      <th>ADXL_x</th>\n",
       "      <th>ADXL_y</th>\n",
       "      <th>ADXL_z</th>\n",
       "      <th>ITG_x</th>\n",
       "      <th>ITG_y</th>\n",
       "      <th>ITG_z</th>\n",
       "      <th>MMA_x</th>\n",
       "      <th>MMA_y</th>\n",
       "      <th>MMA_z</th>\n",
       "      <th>subject</th>\n",
       "      <th>activity</th>\n",
       "      <th>trial</th>\n",
       "    </tr>\n",
       "  </thead>\n",
       "  <tbody>\n",
       "    <tr>\n",
       "      <th>NaN</th>\n",
       "      <td>0.0</td>\n",
       "      <td>1.0</td>\n",
       "      <td>2.0</td>\n",
       "      <td>3.0</td>\n",
       "      <td>4.0</td>\n",
       "      <td>5.0</td>\n",
       "      <td>6.0</td>\n",
       "      <td>7.0</td>\n",
       "      <td>8.0</td>\n",
       "      <td>SA01</td>\n",
       "      <td>1</td>\n",
       "      <td>R01</td>\n",
       "    </tr>\n",
       "    <tr>\n",
       "      <th>0.0</th>\n",
       "      <td>-9.0</td>\n",
       "      <td>-257.0</td>\n",
       "      <td>-25.0</td>\n",
       "      <td>84.0</td>\n",
       "      <td>247.0</td>\n",
       "      <td>27.0</td>\n",
       "      <td>-120.0</td>\n",
       "      <td>-987.0</td>\n",
       "      <td>63.0</td>\n",
       "      <td>SA01</td>\n",
       "      <td>1</td>\n",
       "      <td>R01</td>\n",
       "    </tr>\n",
       "    <tr>\n",
       "      <th>1.0</th>\n",
       "      <td>-3.0</td>\n",
       "      <td>-263.0</td>\n",
       "      <td>-23.0</td>\n",
       "      <td>99.0</td>\n",
       "      <td>258.0</td>\n",
       "      <td>35.0</td>\n",
       "      <td>-110.0</td>\n",
       "      <td>-1016.0</td>\n",
       "      <td>68.0</td>\n",
       "      <td>SA01</td>\n",
       "      <td>1</td>\n",
       "      <td>R01</td>\n",
       "    </tr>\n",
       "    <tr>\n",
       "      <th>2.0</th>\n",
       "      <td>-1.0</td>\n",
       "      <td>-270.0</td>\n",
       "      <td>-22.0</td>\n",
       "      <td>114.0</td>\n",
       "      <td>272.0</td>\n",
       "      <td>45.0</td>\n",
       "      <td>-94.0</td>\n",
       "      <td>-1037.0</td>\n",
       "      <td>69.0</td>\n",
       "      <td>SA01</td>\n",
       "      <td>1</td>\n",
       "      <td>R01</td>\n",
       "    </tr>\n",
       "    <tr>\n",
       "      <th>3.0</th>\n",
       "      <td>1.0</td>\n",
       "      <td>-277.0</td>\n",
       "      <td>-24.0</td>\n",
       "      <td>127.0</td>\n",
       "      <td>286.0</td>\n",
       "      <td>57.0</td>\n",
       "      <td>-81.0</td>\n",
       "      <td>-1062.0</td>\n",
       "      <td>69.0</td>\n",
       "      <td>SA01</td>\n",
       "      <td>1</td>\n",
       "      <td>R01</td>\n",
       "    </tr>\n",
       "    <tr>\n",
       "      <th>...</th>\n",
       "      <td>...</td>\n",
       "      <td>...</td>\n",
       "      <td>...</td>\n",
       "      <td>...</td>\n",
       "      <td>...</td>\n",
       "      <td>...</td>\n",
       "      <td>...</td>\n",
       "      <td>...</td>\n",
       "      <td>...</td>\n",
       "      <td>...</td>\n",
       "      <td>...</td>\n",
       "      <td>...</td>\n",
       "    </tr>\n",
       "    <tr>\n",
       "      <th>194.0</th>\n",
       "      <td>4.0</td>\n",
       "      <td>-259.0</td>\n",
       "      <td>-21.0</td>\n",
       "      <td>-56.0</td>\n",
       "      <td>2.0</td>\n",
       "      <td>-5.0</td>\n",
       "      <td>18.0</td>\n",
       "      <td>-1008.0</td>\n",
       "      <td>35.0</td>\n",
       "      <td>SA01</td>\n",
       "      <td>0</td>\n",
       "      <td>R01</td>\n",
       "    </tr>\n",
       "    <tr>\n",
       "      <th>195.0</th>\n",
       "      <td>9.0</td>\n",
       "      <td>-261.0</td>\n",
       "      <td>-27.0</td>\n",
       "      <td>-59.0</td>\n",
       "      <td>2.0</td>\n",
       "      <td>-5.0</td>\n",
       "      <td>23.0</td>\n",
       "      <td>-1014.0</td>\n",
       "      <td>35.0</td>\n",
       "      <td>SA01</td>\n",
       "      <td>0</td>\n",
       "      <td>R01</td>\n",
       "    </tr>\n",
       "    <tr>\n",
       "      <th>196.0</th>\n",
       "      <td>4.0</td>\n",
       "      <td>-261.0</td>\n",
       "      <td>-25.0</td>\n",
       "      <td>-62.0</td>\n",
       "      <td>3.0</td>\n",
       "      <td>-5.0</td>\n",
       "      <td>20.0</td>\n",
       "      <td>-1011.0</td>\n",
       "      <td>33.0</td>\n",
       "      <td>SA01</td>\n",
       "      <td>0</td>\n",
       "      <td>R01</td>\n",
       "    </tr>\n",
       "    <tr>\n",
       "      <th>197.0</th>\n",
       "      <td>4.0</td>\n",
       "      <td>-262.0</td>\n",
       "      <td>-21.0</td>\n",
       "      <td>-65.0</td>\n",
       "      <td>3.0</td>\n",
       "      <td>-4.0</td>\n",
       "      <td>18.0</td>\n",
       "      <td>-1009.0</td>\n",
       "      <td>36.0</td>\n",
       "      <td>SA01</td>\n",
       "      <td>0</td>\n",
       "      <td>R01</td>\n",
       "    </tr>\n",
       "    <tr>\n",
       "      <th>198.0</th>\n",
       "      <td>6.0</td>\n",
       "      <td>-259.0</td>\n",
       "      <td>-20.0</td>\n",
       "      <td>-67.0</td>\n",
       "      <td>2.0</td>\n",
       "      <td>-6.0</td>\n",
       "      <td>19.0</td>\n",
       "      <td>-1012.0</td>\n",
       "      <td>33.0</td>\n",
       "      <td>SA01</td>\n",
       "      <td>0</td>\n",
       "      <td>R01</td>\n",
       "    </tr>\n",
       "  </tbody>\n",
       "</table>\n",
       "<p>8555 rows × 12 columns</p>\n",
       "</div>"
      ],
      "text/plain": [
       "       ADXL_x  ADXL_y  ADXL_z  ITG_x  ITG_y  ITG_z  MMA_x   MMA_y  MMA_z  \\\n",
       "NaN       0.0     1.0     2.0    3.0    4.0    5.0    6.0     7.0    8.0   \n",
       "0.0      -9.0  -257.0   -25.0   84.0  247.0   27.0 -120.0  -987.0   63.0   \n",
       "1.0      -3.0  -263.0   -23.0   99.0  258.0   35.0 -110.0 -1016.0   68.0   \n",
       "2.0      -1.0  -270.0   -22.0  114.0  272.0   45.0  -94.0 -1037.0   69.0   \n",
       "3.0       1.0  -277.0   -24.0  127.0  286.0   57.0  -81.0 -1062.0   69.0   \n",
       "...       ...     ...     ...    ...    ...    ...    ...     ...    ...   \n",
       "194.0     4.0  -259.0   -21.0  -56.0    2.0   -5.0   18.0 -1008.0   35.0   \n",
       "195.0     9.0  -261.0   -27.0  -59.0    2.0   -5.0   23.0 -1014.0   35.0   \n",
       "196.0     4.0  -261.0   -25.0  -62.0    3.0   -5.0   20.0 -1011.0   33.0   \n",
       "197.0     4.0  -262.0   -21.0  -65.0    3.0   -4.0   18.0 -1009.0   36.0   \n",
       "198.0     6.0  -259.0   -20.0  -67.0    2.0   -6.0   19.0 -1012.0   33.0   \n",
       "\n",
       "      subject  activity trial  \n",
       "NaN      SA01         1   R01  \n",
       "0.0      SA01         1   R01  \n",
       "1.0      SA01         1   R01  \n",
       "2.0      SA01         1   R01  \n",
       "3.0      SA01         1   R01  \n",
       "...       ...       ...   ...  \n",
       "194.0    SA01         0   R01  \n",
       "195.0    SA01         0   R01  \n",
       "196.0    SA01         0   R01  \n",
       "197.0    SA01         0   R01  \n",
       "198.0    SA01         0   R01  \n",
       "\n",
       "[8555 rows x 12 columns]"
      ]
     },
     "execution_count": 65,
     "metadata": {},
     "output_type": "execute_result"
    }
   ],
   "source": [
    "features"
   ]
  },
  {
   "cell_type": "code",
   "execution_count": 70,
   "id": "e9397248",
   "metadata": {
    "ExecuteTime": {
     "end_time": "2025-02-05T03:17:34.857415Z",
     "start_time": "2025-02-05T03:17:34.853334Z"
    }
   },
   "outputs": [
    {
     "name": "stdout",
     "output_type": "stream",
     "text": [
      "{'SA01'}\n"
     ]
    }
   ],
   "source": [
    "print (set(features['subject']))"
   ]
  },
  {
   "cell_type": "code",
   "execution_count": 75,
   "id": "ac2e7206",
   "metadata": {
    "ExecuteTime": {
     "end_time": "2025-02-05T03:19:34.241176Z",
     "start_time": "2025-02-05T03:19:34.236964Z"
    }
   },
   "outputs": [
    {
     "name": "stdout",
     "output_type": "stream",
     "text": [
      "Index(['ADXL_x', 'ADXL_y', 'ADXL_z', 'ITG_x', 'ITG_y', 'ITG_z', 'MMA_x',\n",
      "       'MMA_y', 'MMA_z', 'activity'],\n",
      "      dtype='object')\n"
     ]
    }
   ],
   "source": [
    "features = features[[ft for ft in features.columns if ft not in ['subject', 'trial']]]\n",
    "print(features.columns)"
   ]
  },
  {
   "cell_type": "code",
   "execution_count": 85,
   "id": "2cb7bb70",
   "metadata": {
    "ExecuteTime": {
     "end_time": "2025-02-05T03:29:09.845786Z",
     "start_time": "2025-02-05T03:29:09.837031Z"
    }
   },
   "outputs": [],
   "source": [
    "from sklearn.preprocessing import StandardScaler\n",
    "\n",
    "feature_columns = [col for col in features.columns if col != 'activity']\n",
    "\n",
    "scaler = StandardScaler()\n",
    "\n",
    "features_scaled = features.copy()\n",
    "features_scaled[feature_columns] = scaler.fit_transform(features[feature_columns])"
   ]
  },
  {
   "cell_type": "code",
   "execution_count": 86,
   "id": "d5341ad2",
   "metadata": {
    "ExecuteTime": {
     "end_time": "2025-02-05T03:29:10.907501Z",
     "start_time": "2025-02-05T03:29:10.899207Z"
    }
   },
   "outputs": [
    {
     "name": "stdout",
     "output_type": "stream",
     "text": [
      "(1920, 10) (1280, 10) (3213, 10) (2142, 10)\n"
     ]
    }
   ],
   "source": [
    "adl_count = features_scaled['activity'].value_counts()[0]\n",
    "fall_count = features_scaled['activity'].value_counts()[1]\n",
    "\n",
    "adl_mask = features_scaled['activity'] == 0\n",
    "adl_data = features_scaled[adl_mask]\n",
    "adl1 = adl_data.iloc[:int(adl_count * 0.6)]\n",
    "adl2 = adl_data.iloc[int(adl_count * 0.6):]\n",
    "\n",
    "fall_mask = features_scaled['activity'] == 1\n",
    "fall_data = features_scaled[fall_mask]\n",
    "fall1 = fall_data.iloc[:int(fall_count * 0.6)]\n",
    "fall2 = fall_data.iloc[int(fall_count * 0.6):]\n",
    "\n",
    "print(adl1.shape, adl2.shape, fall1.shape, fall2.shape)"
   ]
  },
  {
   "cell_type": "code",
   "execution_count": 87,
   "id": "213895a9",
   "metadata": {
    "ExecuteTime": {
     "end_time": "2025-02-05T03:29:12.556218Z",
     "start_time": "2025-02-05T03:29:12.552353Z"
    }
   },
   "outputs": [],
   "source": [
    "def split_sequences(sequences, n_steps):\n",
    "    X, y = [], []\n",
    "    for i in range(len(sequences) - n_steps + 1):\n",
    "        end_ix = i + n_steps\n",
    "        \n",
    "        seq_x = sequences.iloc[i:end_ix].iloc[:, :-1] \n",
    "        seq_y = sequences.iloc[end_ix-1].iloc[-1]     \n",
    "        \n",
    "        X.append(seq_x.values)  \n",
    "        y.append(seq_y)\n",
    "    \n",
    "    return np.array(X), np.array(y)"
   ]
  },
  {
   "cell_type": "code",
   "execution_count": 88,
   "id": "516cfa3d",
   "metadata": {
    "ExecuteTime": {
     "end_time": "2025-02-05T03:29:14.868388Z",
     "start_time": "2025-02-05T03:29:13.153256Z"
    }
   },
   "outputs": [
    {
     "name": "stdout",
     "output_type": "stream",
     "text": [
      "after : (1901, 20, 9), (3403, 20, 9)\n"
     ]
    }
   ],
   "source": [
    "WINDOW_LENGTH = 20\n",
    "train_data, train_labels = split_sequences(adl1, WINDOW_LENGTH)\n",
    "test_data, test_labels = split_sequences(pd.concat([adl2, fall2]), WINDOW_LENGTH)\n",
    "print (f\"after : {train_data.shape}, {test_data.shape}\")"
   ]
  },
  {
   "cell_type": "markdown",
   "id": "e43c952c",
   "metadata": {},
   "source": [
    "-----"
   ]
  },
  {
   "cell_type": "code",
   "execution_count": 89,
   "id": "74bf737c",
   "metadata": {
    "ExecuteTime": {
     "end_time": "2025-02-05T03:29:42.348973Z",
     "start_time": "2025-02-05T03:29:42.346491Z"
    }
   },
   "outputs": [],
   "source": [
    "# Input:      (256, 9)\n",
    "# Level 1:    (128, 64)   # spatial ↓, channels ↑\n",
    "# Level 2:    (64, 128)   # spatial ↓, channels ↑\n",
    "# Level 3:    (32, 256)   # spatial ↓, channels ↑\n",
    "# Level 4:    (16, 512)   # spatial ↓, channels ↑\n",
    "#     (16, 1024)\n",
    "# Level 4:    (32, 512)   # spatial ↑, channels ↓\n",
    "# Level 3:    (64, 256)   # spatial ↑, channels ↓\n",
    "# Level 2:    (128, 128)  # spatial ↑, channels ↓\n",
    "# Level 1:    (256, 64)   # spatial ↑, channels ↓\n",
    "# Output:     (256, 9)"
   ]
  },
  {
   "cell_type": "code",
   "execution_count": 90,
   "id": "d7a3f531",
   "metadata": {
    "ExecuteTime": {
     "end_time": "2025-02-05T03:29:42.865498Z",
     "start_time": "2025-02-05T03:29:42.860076Z"
    }
   },
   "outputs": [],
   "source": [
    "class DoubleConv(tf.keras.layers.Layer):\n",
    "    \"\"\"Double convolution block for U-Net\"\"\"\n",
    "    def __init__(self, filters):\n",
    "        super(DoubleConv, self).__init__()\n",
    "        self.conv1 = tf.keras.layers.Conv1D(filters//2, 3, padding='same')\n",
    "        self.bn1 = tf.keras.layers.BatchNormalization()\n",
    "        self.conv2 = tf.keras.layers.Conv1D(filters//2, 3, padding='same')\n",
    "        self.bn2 = tf.keras.layers.BatchNormalization()\n",
    "        self.relu = tf.keras.layers.ReLU()\n",
    "        self.dropout = tf.keras.layers.Dropout(0.1)\n",
    "    \n",
    "    def call(self, x, training=False):\n",
    "        x = self.conv1(x)\n",
    "        x = self.bn1(x, training=training)\n",
    "        x = self.relu(x)\n",
    "        x = self.dropout(x, training=training)\n",
    "        \n",
    "        x = self.conv2(x)\n",
    "        x = self.bn2(x, training=training)\n",
    "        x = self.relu(x)\n",
    "        x = self.dropout(x, training=training)\n",
    "        return x"
   ]
  },
  {
   "cell_type": "code",
   "execution_count": 99,
   "id": "60955bce",
   "metadata": {
    "ExecuteTime": {
     "end_time": "2025-02-05T03:33:50.596349Z",
     "start_time": "2025-02-05T03:33:50.589382Z"
    }
   },
   "outputs": [],
   "source": [
    "class UNetDiffusion(tf.keras.Model):\n",
    "    def __init__(self):\n",
    "        super(UNetDiffusion, self).__init__()\n",
    "        \n",
    "        # Encoder part\n",
    "        # Input: (20, 9)  # [window_length, num_sensors]\n",
    "        self.enc1 = tf.keras.Sequential([\n",
    "            DoubleConv(8),  \n",
    "            tf.keras.layers.MaxPooling1D(2)  # Output: (10, 8)\n",
    "        ])\n",
    "        \n",
    "        self.enc2 = tf.keras.Sequential([\n",
    "            DoubleConv(16),  \n",
    "            tf.keras.layers.MaxPooling1D(2)  # Output: (5, 16)\n",
    "        ])\n",
    "        \n",
    "        # Bottleneck\n",
    "        self.bottleneck = DoubleConv(32)  # Output: (5, 32)\n",
    "        \n",
    "        # Decoder part\n",
    "        self.dec2 = tf.keras.Sequential([\n",
    "            tf.keras.layers.UpSampling1D(2),  # (10, 32)\n",
    "            DoubleConv(16)  # Output: (10, 16)\n",
    "        ])\n",
    "        \n",
    "        self.dec1 = tf.keras.Sequential([\n",
    "            tf.keras.layers.UpSampling1D(2),  # (20, 16)\n",
    "            DoubleConv(8)  # Output: (20, 8)\n",
    "        ])\n",
    "        \n",
    "        # Final convolution\n",
    "        self.final = tf.keras.layers.Conv1D(9, 1, padding='same')  # Output: (20, 9)\n",
    "        \n",
    "    def call(self, x, training=False):\n",
    "        # Encoder path with skip connections\n",
    "        enc1_before_pool = x  # (20, 9)\n",
    "        enc1_output = self.enc1(x, training=training)  # (10, 8)\n",
    "        \n",
    "        enc2_before_pool = enc1_output\n",
    "        enc2_output = self.enc2(enc1_output, training=training)  # (5, 16)\n",
    "        \n",
    "        # Bottleneck\n",
    "        bottleneck = self.bottleneck(enc2_output, training=training)  # (5, 32)\n",
    "        \n",
    "        # Decoder path with skip connections\n",
    "        dec2_output = self.dec2(bottleneck, training=training)  # (10, 16)\n",
    "        dec2_output = tf.concat([enc2_before_pool, dec2_output], axis=-1)  # Concatenate along feature dimension\n",
    "        \n",
    "        dec1_output = self.dec1(dec2_output, training=training)  # (20, 8)\n",
    "        dec1_output = tf.concat([enc1_before_pool, dec1_output], axis=-1)  # Concatenate along feature dimension\n",
    "        \n",
    "        # Final convolution\n",
    "        output = self.final(dec1_output)  # (20, 9)\n",
    "        \n",
    "        return output"
   ]
  },
  {
   "cell_type": "code",
   "execution_count": 100,
   "id": "78d0e9cb",
   "metadata": {
    "ExecuteTime": {
     "end_time": "2025-02-05T03:33:51.153447Z",
     "start_time": "2025-02-05T03:33:51.150010Z"
    }
   },
   "outputs": [],
   "source": [
    "def forward_diffusion(x, noise_level=0.2):\n",
    "    dtype = x.dtype\n",
    "    noise = tf.random.normal(shape=tf.shape(x), dtype=dtype) * noise_level\n",
    "    return x + noise\n",
    "\n",
    "def anomaly_score(x_real, x_recon):\n",
    "    return tf.reduce_mean(tf.abs(x_real - x_recon), axis=1)"
   ]
  },
  {
   "cell_type": "code",
   "execution_count": 101,
   "id": "439c2e19",
   "metadata": {
    "ExecuteTime": {
     "end_time": "2025-02-05T03:33:51.584851Z",
     "start_time": "2025-02-05T03:33:51.582048Z"
    }
   },
   "outputs": [],
   "source": [
    "BATCH_SIZE = 64\n",
    "EPOCHS = 50\n",
    "INITIAL_LEARNING_RATE = 0.005\n",
    "DECAY_STEPS = 500\n",
    "DECAY_RATE = 0.95"
   ]
  },
  {
   "cell_type": "code",
   "execution_count": 102,
   "id": "d8bca7f8",
   "metadata": {
    "ExecuteTime": {
     "end_time": "2025-02-05T03:33:52.102727Z",
     "start_time": "2025-02-05T03:33:52.048557Z"
    }
   },
   "outputs": [],
   "source": [
    "model = UNetDiffusion()\n",
    "optimizer = tf.keras.optimizers.Adam(\n",
    "    tf.keras.optimizers.schedules.ExponentialDecay(\n",
    "        INITIAL_LEARNING_RATE, DECAY_STEPS, DECAY_RATE\n",
    "    )\n",
    ")"
   ]
  },
  {
   "cell_type": "code",
   "execution_count": 104,
   "id": "14791793",
   "metadata": {
    "ExecuteTime": {
     "end_time": "2025-02-05T03:40:27.892801Z",
     "start_time": "2025-02-05T03:34:16.433066Z"
    },
    "scrolled": false
   },
   "outputs": [
    {
     "data": {
      "application/vnd.jupyter.widget-view+json": {
       "model_id": "",
       "version_major": 2,
       "version_minor": 0
      },
      "text/plain": [
       "Epoch 1/50:   0%|          | 0/29 [00:00<?, ?it/s]"
      ]
     },
     "metadata": {},
     "output_type": "display_data"
    },
    {
     "name": "stdout",
     "output_type": "stream",
     "text": [
      "Epoch 1/50 - Loss: 2.6564\n"
     ]
    },
    {
     "name": "stderr",
     "output_type": "stream",
     "text": [
      "2025-02-05 12:34:23.881613: W tensorflow/core/framework/local_rendezvous.cc:404] Local rendezvous is aborting with status: OUT_OF_RANGE: End of sequence\n"
     ]
    },
    {
     "data": {
      "application/vnd.jupyter.widget-view+json": {
       "model_id": "",
       "version_major": 2,
       "version_minor": 0
      },
      "text/plain": [
       "Epoch 2/50:   0%|          | 0/29 [00:00<?, ?it/s]"
      ]
     },
     "metadata": {},
     "output_type": "display_data"
    },
    {
     "name": "stdout",
     "output_type": "stream",
     "text": [
      "Epoch 2/50 - Loss: 1.6195\n"
     ]
    },
    {
     "name": "stderr",
     "output_type": "stream",
     "text": [
      "2025-02-05 12:34:31.128850: W tensorflow/core/framework/local_rendezvous.cc:404] Local rendezvous is aborting with status: OUT_OF_RANGE: End of sequence\n"
     ]
    },
    {
     "data": {
      "application/vnd.jupyter.widget-view+json": {
       "model_id": "",
       "version_major": 2,
       "version_minor": 0
      },
      "text/plain": [
       "Epoch 3/50:   0%|          | 0/29 [00:00<?, ?it/s]"
      ]
     },
     "metadata": {},
     "output_type": "display_data"
    },
    {
     "name": "stdout",
     "output_type": "stream",
     "text": [
      "Epoch 3/50 - Loss: 0.9817\n"
     ]
    },
    {
     "name": "stderr",
     "output_type": "stream",
     "text": [
      "2025-02-05 12:34:38.577863: W tensorflow/core/framework/local_rendezvous.cc:404] Local rendezvous is aborting with status: OUT_OF_RANGE: End of sequence\n"
     ]
    },
    {
     "data": {
      "application/vnd.jupyter.widget-view+json": {
       "model_id": "",
       "version_major": 2,
       "version_minor": 0
      },
      "text/plain": [
       "Epoch 4/50:   0%|          | 0/29 [00:00<?, ?it/s]"
      ]
     },
     "metadata": {},
     "output_type": "display_data"
    },
    {
     "name": "stdout",
     "output_type": "stream",
     "text": [
      "Epoch 4/50 - Loss: 0.5854\n"
     ]
    },
    {
     "name": "stderr",
     "output_type": "stream",
     "text": [
      "2025-02-05 12:34:46.909777: W tensorflow/core/framework/local_rendezvous.cc:404] Local rendezvous is aborting with status: OUT_OF_RANGE: End of sequence\n"
     ]
    },
    {
     "data": {
      "application/vnd.jupyter.widget-view+json": {
       "model_id": "",
       "version_major": 2,
       "version_minor": 0
      },
      "text/plain": [
       "Epoch 5/50:   0%|          | 0/29 [00:00<?, ?it/s]"
      ]
     },
     "metadata": {},
     "output_type": "display_data"
    },
    {
     "name": "stdout",
     "output_type": "stream",
     "text": [
      "Epoch 5/50 - Loss: 0.3513\n"
     ]
    },
    {
     "name": "stderr",
     "output_type": "stream",
     "text": [
      "2025-02-05 12:34:54.417103: W tensorflow/core/framework/local_rendezvous.cc:404] Local rendezvous is aborting with status: OUT_OF_RANGE: End of sequence\n"
     ]
    },
    {
     "data": {
      "application/vnd.jupyter.widget-view+json": {
       "model_id": "",
       "version_major": 2,
       "version_minor": 0
      },
      "text/plain": [
       "Epoch 6/50:   0%|          | 0/29 [00:00<?, ?it/s]"
      ]
     },
     "metadata": {},
     "output_type": "display_data"
    },
    {
     "name": "stdout",
     "output_type": "stream",
     "text": [
      "Epoch 6/50 - Loss: 0.2196\n"
     ]
    },
    {
     "name": "stderr",
     "output_type": "stream",
     "text": [
      "2025-02-05 12:35:02.505809: W tensorflow/core/framework/local_rendezvous.cc:404] Local rendezvous is aborting with status: OUT_OF_RANGE: End of sequence\n"
     ]
    },
    {
     "data": {
      "application/vnd.jupyter.widget-view+json": {
       "model_id": "",
       "version_major": 2,
       "version_minor": 0
      },
      "text/plain": [
       "Epoch 7/50:   0%|          | 0/29 [00:00<?, ?it/s]"
      ]
     },
     "metadata": {},
     "output_type": "display_data"
    },
    {
     "name": "stdout",
     "output_type": "stream",
     "text": [
      "Epoch 7/50 - Loss: 0.1482\n"
     ]
    },
    {
     "name": "stderr",
     "output_type": "stream",
     "text": [
      "2025-02-05 12:35:10.238070: W tensorflow/core/framework/local_rendezvous.cc:404] Local rendezvous is aborting with status: OUT_OF_RANGE: End of sequence\n"
     ]
    },
    {
     "data": {
      "application/vnd.jupyter.widget-view+json": {
       "model_id": "",
       "version_major": 2,
       "version_minor": 0
      },
      "text/plain": [
       "Epoch 8/50:   0%|          | 0/29 [00:00<?, ?it/s]"
      ]
     },
     "metadata": {},
     "output_type": "display_data"
    },
    {
     "name": "stdout",
     "output_type": "stream",
     "text": [
      "Epoch 8/50 - Loss: 0.1074\n"
     ]
    },
    {
     "name": "stderr",
     "output_type": "stream",
     "text": [
      "2025-02-05 12:35:17.930228: W tensorflow/core/framework/local_rendezvous.cc:404] Local rendezvous is aborting with status: OUT_OF_RANGE: End of sequence\n"
     ]
    },
    {
     "data": {
      "application/vnd.jupyter.widget-view+json": {
       "model_id": "",
       "version_major": 2,
       "version_minor": 0
      },
      "text/plain": [
       "Epoch 9/50:   0%|          | 0/29 [00:00<?, ?it/s]"
      ]
     },
     "metadata": {},
     "output_type": "display_data"
    },
    {
     "name": "stdout",
     "output_type": "stream",
     "text": [
      "Epoch 9/50 - Loss: 0.0854\n"
     ]
    },
    {
     "name": "stderr",
     "output_type": "stream",
     "text": [
      "2025-02-05 12:35:25.295660: W tensorflow/core/framework/local_rendezvous.cc:404] Local rendezvous is aborting with status: OUT_OF_RANGE: End of sequence\n"
     ]
    },
    {
     "data": {
      "application/vnd.jupyter.widget-view+json": {
       "model_id": "",
       "version_major": 2,
       "version_minor": 0
      },
      "text/plain": [
       "Epoch 10/50:   0%|          | 0/29 [00:00<?, ?it/s]"
      ]
     },
     "metadata": {},
     "output_type": "display_data"
    },
    {
     "name": "stdout",
     "output_type": "stream",
     "text": [
      "Epoch 10/50 - Loss: 0.0716\n"
     ]
    },
    {
     "name": "stderr",
     "output_type": "stream",
     "text": [
      "2025-02-05 12:35:33.124770: W tensorflow/core/framework/local_rendezvous.cc:404] Local rendezvous is aborting with status: OUT_OF_RANGE: End of sequence\n"
     ]
    },
    {
     "data": {
      "application/vnd.jupyter.widget-view+json": {
       "model_id": "",
       "version_major": 2,
       "version_minor": 0
      },
      "text/plain": [
       "Epoch 11/50:   0%|          | 0/29 [00:00<?, ?it/s]"
      ]
     },
     "metadata": {},
     "output_type": "display_data"
    },
    {
     "name": "stdout",
     "output_type": "stream",
     "text": [
      "Epoch 11/50 - Loss: 0.0631\n"
     ]
    },
    {
     "name": "stderr",
     "output_type": "stream",
     "text": [
      "2025-02-05 12:35:41.248256: W tensorflow/core/framework/local_rendezvous.cc:404] Local rendezvous is aborting with status: OUT_OF_RANGE: End of sequence\n"
     ]
    },
    {
     "data": {
      "application/vnd.jupyter.widget-view+json": {
       "model_id": "",
       "version_major": 2,
       "version_minor": 0
      },
      "text/plain": [
       "Epoch 12/50:   0%|          | 0/29 [00:00<?, ?it/s]"
      ]
     },
     "metadata": {},
     "output_type": "display_data"
    },
    {
     "name": "stdout",
     "output_type": "stream",
     "text": [
      "Epoch 12/50 - Loss: 0.0579\n"
     ]
    },
    {
     "name": "stderr",
     "output_type": "stream",
     "text": [
      "2025-02-05 12:35:49.723156: W tensorflow/core/framework/local_rendezvous.cc:404] Local rendezvous is aborting with status: OUT_OF_RANGE: End of sequence\n"
     ]
    },
    {
     "data": {
      "application/vnd.jupyter.widget-view+json": {
       "model_id": "",
       "version_major": 2,
       "version_minor": 0
      },
      "text/plain": [
       "Epoch 13/50:   0%|          | 0/29 [00:00<?, ?it/s]"
      ]
     },
     "metadata": {},
     "output_type": "display_data"
    },
    {
     "name": "stdout",
     "output_type": "stream",
     "text": [
      "Epoch 13/50 - Loss: 0.0546\n"
     ]
    },
    {
     "name": "stderr",
     "output_type": "stream",
     "text": [
      "2025-02-05 12:35:56.875619: W tensorflow/core/framework/local_rendezvous.cc:404] Local rendezvous is aborting with status: OUT_OF_RANGE: End of sequence\n"
     ]
    },
    {
     "data": {
      "application/vnd.jupyter.widget-view+json": {
       "model_id": "",
       "version_major": 2,
       "version_minor": 0
      },
      "text/plain": [
       "Epoch 14/50:   0%|          | 0/29 [00:00<?, ?it/s]"
      ]
     },
     "metadata": {},
     "output_type": "display_data"
    },
    {
     "name": "stdout",
     "output_type": "stream",
     "text": [
      "Epoch 14/50 - Loss: 0.0519\n"
     ]
    },
    {
     "name": "stderr",
     "output_type": "stream",
     "text": [
      "2025-02-05 12:36:04.126994: W tensorflow/core/framework/local_rendezvous.cc:404] Local rendezvous is aborting with status: OUT_OF_RANGE: End of sequence\n"
     ]
    },
    {
     "data": {
      "application/vnd.jupyter.widget-view+json": {
       "model_id": "",
       "version_major": 2,
       "version_minor": 0
      },
      "text/plain": [
       "Epoch 15/50:   0%|          | 0/29 [00:00<?, ?it/s]"
      ]
     },
     "metadata": {},
     "output_type": "display_data"
    },
    {
     "name": "stdout",
     "output_type": "stream",
     "text": [
      "Epoch 15/50 - Loss: 0.0515\n"
     ]
    },
    {
     "name": "stderr",
     "output_type": "stream",
     "text": [
      "2025-02-05 12:36:11.596962: W tensorflow/core/framework/local_rendezvous.cc:404] Local rendezvous is aborting with status: OUT_OF_RANGE: End of sequence\n"
     ]
    },
    {
     "data": {
      "application/vnd.jupyter.widget-view+json": {
       "model_id": "",
       "version_major": 2,
       "version_minor": 0
      },
      "text/plain": [
       "Epoch 16/50:   0%|          | 0/29 [00:00<?, ?it/s]"
      ]
     },
     "metadata": {},
     "output_type": "display_data"
    },
    {
     "name": "stdout",
     "output_type": "stream",
     "text": [
      "Epoch 16/50 - Loss: 0.0507\n"
     ]
    },
    {
     "name": "stderr",
     "output_type": "stream",
     "text": [
      "2025-02-05 12:36:18.772696: W tensorflow/core/framework/local_rendezvous.cc:404] Local rendezvous is aborting with status: OUT_OF_RANGE: End of sequence\n"
     ]
    },
    {
     "data": {
      "application/vnd.jupyter.widget-view+json": {
       "model_id": "",
       "version_major": 2,
       "version_minor": 0
      },
      "text/plain": [
       "Epoch 17/50:   0%|          | 0/29 [00:00<?, ?it/s]"
      ]
     },
     "metadata": {},
     "output_type": "display_data"
    },
    {
     "name": "stdout",
     "output_type": "stream",
     "text": [
      "Epoch 17/50 - Loss: 0.0530\n"
     ]
    },
    {
     "name": "stderr",
     "output_type": "stream",
     "text": [
      "2025-02-05 12:36:26.079382: W tensorflow/core/framework/local_rendezvous.cc:404] Local rendezvous is aborting with status: OUT_OF_RANGE: End of sequence\n"
     ]
    },
    {
     "data": {
      "application/vnd.jupyter.widget-view+json": {
       "model_id": "",
       "version_major": 2,
       "version_minor": 0
      },
      "text/plain": [
       "Epoch 18/50:   0%|          | 0/29 [00:00<?, ?it/s]"
      ]
     },
     "metadata": {},
     "output_type": "display_data"
    },
    {
     "name": "stdout",
     "output_type": "stream",
     "text": [
      "Epoch 18/50 - Loss: 0.0567\n"
     ]
    },
    {
     "name": "stderr",
     "output_type": "stream",
     "text": [
      "2025-02-05 12:36:34.055189: W tensorflow/core/framework/local_rendezvous.cc:404] Local rendezvous is aborting with status: OUT_OF_RANGE: End of sequence\n"
     ]
    },
    {
     "data": {
      "application/vnd.jupyter.widget-view+json": {
       "model_id": "",
       "version_major": 2,
       "version_minor": 0
      },
      "text/plain": [
       "Epoch 19/50:   0%|          | 0/29 [00:00<?, ?it/s]"
      ]
     },
     "metadata": {},
     "output_type": "display_data"
    },
    {
     "name": "stdout",
     "output_type": "stream",
     "text": [
      "Epoch 19/50 - Loss: 0.0677\n"
     ]
    },
    {
     "name": "stderr",
     "output_type": "stream",
     "text": [
      "2025-02-05 12:36:42.651325: W tensorflow/core/framework/local_rendezvous.cc:404] Local rendezvous is aborting with status: OUT_OF_RANGE: End of sequence\n"
     ]
    },
    {
     "data": {
      "application/vnd.jupyter.widget-view+json": {
       "model_id": "",
       "version_major": 2,
       "version_minor": 0
      },
      "text/plain": [
       "Epoch 20/50:   0%|          | 0/29 [00:00<?, ?it/s]"
      ]
     },
     "metadata": {},
     "output_type": "display_data"
    },
    {
     "name": "stdout",
     "output_type": "stream",
     "text": [
      "Epoch 20/50 - Loss: 0.0748\n"
     ]
    },
    {
     "name": "stderr",
     "output_type": "stream",
     "text": [
      "2025-02-05 12:36:49.692456: W tensorflow/core/framework/local_rendezvous.cc:404] Local rendezvous is aborting with status: OUT_OF_RANGE: End of sequence\n"
     ]
    },
    {
     "data": {
      "application/vnd.jupyter.widget-view+json": {
       "model_id": "",
       "version_major": 2,
       "version_minor": 0
      },
      "text/plain": [
       "Epoch 21/50:   0%|          | 0/29 [00:00<?, ?it/s]"
      ]
     },
     "metadata": {},
     "output_type": "display_data"
    },
    {
     "name": "stdout",
     "output_type": "stream",
     "text": [
      "Epoch 21/50 - Loss: 0.0722\n"
     ]
    },
    {
     "name": "stderr",
     "output_type": "stream",
     "text": [
      "2025-02-05 12:36:56.679296: W tensorflow/core/framework/local_rendezvous.cc:404] Local rendezvous is aborting with status: OUT_OF_RANGE: End of sequence\n"
     ]
    },
    {
     "data": {
      "application/vnd.jupyter.widget-view+json": {
       "model_id": "",
       "version_major": 2,
       "version_minor": 0
      },
      "text/plain": [
       "Epoch 22/50:   0%|          | 0/29 [00:00<?, ?it/s]"
      ]
     },
     "metadata": {},
     "output_type": "display_data"
    },
    {
     "name": "stdout",
     "output_type": "stream",
     "text": [
      "Epoch 22/50 - Loss: 0.0656\n"
     ]
    },
    {
     "name": "stderr",
     "output_type": "stream",
     "text": [
      "2025-02-05 12:37:03.708701: W tensorflow/core/framework/local_rendezvous.cc:404] Local rendezvous is aborting with status: OUT_OF_RANGE: End of sequence\n"
     ]
    },
    {
     "data": {
      "application/vnd.jupyter.widget-view+json": {
       "model_id": "",
       "version_major": 2,
       "version_minor": 0
      },
      "text/plain": [
       "Epoch 23/50:   0%|          | 0/29 [00:00<?, ?it/s]"
      ]
     },
     "metadata": {},
     "output_type": "display_data"
    },
    {
     "name": "stdout",
     "output_type": "stream",
     "text": [
      "Epoch 23/50 - Loss: 0.0637\n"
     ]
    },
    {
     "name": "stderr",
     "output_type": "stream",
     "text": [
      "2025-02-05 12:37:10.735754: W tensorflow/core/framework/local_rendezvous.cc:404] Local rendezvous is aborting with status: OUT_OF_RANGE: End of sequence\n"
     ]
    },
    {
     "data": {
      "application/vnd.jupyter.widget-view+json": {
       "model_id": "",
       "version_major": 2,
       "version_minor": 0
      },
      "text/plain": [
       "Epoch 24/50:   0%|          | 0/29 [00:00<?, ?it/s]"
      ]
     },
     "metadata": {},
     "output_type": "display_data"
    },
    {
     "name": "stdout",
     "output_type": "stream",
     "text": [
      "Epoch 24/50 - Loss: 0.0636\n"
     ]
    },
    {
     "name": "stderr",
     "output_type": "stream",
     "text": [
      "2025-02-05 12:37:17.706541: W tensorflow/core/framework/local_rendezvous.cc:404] Local rendezvous is aborting with status: OUT_OF_RANGE: End of sequence\n"
     ]
    },
    {
     "data": {
      "application/vnd.jupyter.widget-view+json": {
       "model_id": "",
       "version_major": 2,
       "version_minor": 0
      },
      "text/plain": [
       "Epoch 25/50:   0%|          | 0/29 [00:00<?, ?it/s]"
      ]
     },
     "metadata": {},
     "output_type": "display_data"
    },
    {
     "name": "stdout",
     "output_type": "stream",
     "text": [
      "Epoch 25/50 - Loss: 0.0632\n"
     ]
    },
    {
     "name": "stderr",
     "output_type": "stream",
     "text": [
      "2025-02-05 12:37:26.204828: W tensorflow/core/framework/local_rendezvous.cc:404] Local rendezvous is aborting with status: OUT_OF_RANGE: End of sequence\n"
     ]
    },
    {
     "data": {
      "application/vnd.jupyter.widget-view+json": {
       "model_id": "",
       "version_major": 2,
       "version_minor": 0
      },
      "text/plain": [
       "Epoch 26/50:   0%|          | 0/29 [00:00<?, ?it/s]"
      ]
     },
     "metadata": {},
     "output_type": "display_data"
    },
    {
     "name": "stdout",
     "output_type": "stream",
     "text": [
      "Epoch 26/50 - Loss: 0.0646\n"
     ]
    },
    {
     "name": "stderr",
     "output_type": "stream",
     "text": [
      "2025-02-05 12:37:33.739596: W tensorflow/core/framework/local_rendezvous.cc:404] Local rendezvous is aborting with status: OUT_OF_RANGE: End of sequence\n"
     ]
    },
    {
     "data": {
      "application/vnd.jupyter.widget-view+json": {
       "model_id": "",
       "version_major": 2,
       "version_minor": 0
      },
      "text/plain": [
       "Epoch 27/50:   0%|          | 0/29 [00:00<?, ?it/s]"
      ]
     },
     "metadata": {},
     "output_type": "display_data"
    },
    {
     "name": "stdout",
     "output_type": "stream",
     "text": [
      "Epoch 27/50 - Loss: 0.0645\n"
     ]
    },
    {
     "name": "stderr",
     "output_type": "stream",
     "text": [
      "2025-02-05 12:37:40.764192: W tensorflow/core/framework/local_rendezvous.cc:404] Local rendezvous is aborting with status: OUT_OF_RANGE: End of sequence\n"
     ]
    },
    {
     "data": {
      "application/vnd.jupyter.widget-view+json": {
       "model_id": "",
       "version_major": 2,
       "version_minor": 0
      },
      "text/plain": [
       "Epoch 28/50:   0%|          | 0/29 [00:00<?, ?it/s]"
      ]
     },
     "metadata": {},
     "output_type": "display_data"
    },
    {
     "name": "stdout",
     "output_type": "stream",
     "text": [
      "Epoch 28/50 - Loss: 0.0669\n"
     ]
    },
    {
     "name": "stderr",
     "output_type": "stream",
     "text": [
      "2025-02-05 12:37:47.688719: W tensorflow/core/framework/local_rendezvous.cc:404] Local rendezvous is aborting with status: OUT_OF_RANGE: End of sequence\n"
     ]
    },
    {
     "data": {
      "application/vnd.jupyter.widget-view+json": {
       "model_id": "",
       "version_major": 2,
       "version_minor": 0
      },
      "text/plain": [
       "Epoch 29/50:   0%|          | 0/29 [00:00<?, ?it/s]"
      ]
     },
     "metadata": {},
     "output_type": "display_data"
    },
    {
     "name": "stdout",
     "output_type": "stream",
     "text": [
      "Epoch 29/50 - Loss: 0.0713\n"
     ]
    },
    {
     "name": "stderr",
     "output_type": "stream",
     "text": [
      "2025-02-05 12:37:54.643508: W tensorflow/core/framework/local_rendezvous.cc:404] Local rendezvous is aborting with status: OUT_OF_RANGE: End of sequence\n"
     ]
    },
    {
     "data": {
      "application/vnd.jupyter.widget-view+json": {
       "model_id": "",
       "version_major": 2,
       "version_minor": 0
      },
      "text/plain": [
       "Epoch 30/50:   0%|          | 0/29 [00:00<?, ?it/s]"
      ]
     },
     "metadata": {},
     "output_type": "display_data"
    },
    {
     "name": "stdout",
     "output_type": "stream",
     "text": [
      "Epoch 30/50 - Loss: 0.0713\n"
     ]
    },
    {
     "name": "stderr",
     "output_type": "stream",
     "text": [
      "2025-02-05 12:38:01.639174: W tensorflow/core/framework/local_rendezvous.cc:404] Local rendezvous is aborting with status: OUT_OF_RANGE: End of sequence\n"
     ]
    },
    {
     "data": {
      "application/vnd.jupyter.widget-view+json": {
       "model_id": "",
       "version_major": 2,
       "version_minor": 0
      },
      "text/plain": [
       "Epoch 31/50:   0%|          | 0/29 [00:00<?, ?it/s]"
      ]
     },
     "metadata": {},
     "output_type": "display_data"
    },
    {
     "name": "stdout",
     "output_type": "stream",
     "text": [
      "Epoch 31/50 - Loss: 0.0659\n"
     ]
    },
    {
     "name": "stderr",
     "output_type": "stream",
     "text": [
      "2025-02-05 12:38:09.229143: W tensorflow/core/framework/local_rendezvous.cc:404] Local rendezvous is aborting with status: OUT_OF_RANGE: End of sequence\n"
     ]
    },
    {
     "data": {
      "application/vnd.jupyter.widget-view+json": {
       "model_id": "",
       "version_major": 2,
       "version_minor": 0
      },
      "text/plain": [
       "Epoch 32/50:   0%|          | 0/29 [00:00<?, ?it/s]"
      ]
     },
     "metadata": {},
     "output_type": "display_data"
    },
    {
     "name": "stdout",
     "output_type": "stream",
     "text": [
      "Epoch 32/50 - Loss: 0.0620\n"
     ]
    },
    {
     "name": "stderr",
     "output_type": "stream",
     "text": [
      "2025-02-05 12:38:16.276493: W tensorflow/core/framework/local_rendezvous.cc:404] Local rendezvous is aborting with status: OUT_OF_RANGE: End of sequence\n"
     ]
    },
    {
     "data": {
      "application/vnd.jupyter.widget-view+json": {
       "model_id": "",
       "version_major": 2,
       "version_minor": 0
      },
      "text/plain": [
       "Epoch 33/50:   0%|          | 0/29 [00:00<?, ?it/s]"
      ]
     },
     "metadata": {},
     "output_type": "display_data"
    },
    {
     "name": "stdout",
     "output_type": "stream",
     "text": [
      "Epoch 33/50 - Loss: 0.0600\n"
     ]
    },
    {
     "name": "stderr",
     "output_type": "stream",
     "text": [
      "2025-02-05 12:38:23.305924: W tensorflow/core/framework/local_rendezvous.cc:404] Local rendezvous is aborting with status: OUT_OF_RANGE: End of sequence\n"
     ]
    },
    {
     "data": {
      "application/vnd.jupyter.widget-view+json": {
       "model_id": "",
       "version_major": 2,
       "version_minor": 0
      },
      "text/plain": [
       "Epoch 34/50:   0%|          | 0/29 [00:00<?, ?it/s]"
      ]
     },
     "metadata": {},
     "output_type": "display_data"
    },
    {
     "name": "stdout",
     "output_type": "stream",
     "text": [
      "Epoch 34/50 - Loss: 0.0613\n"
     ]
    },
    {
     "name": "stderr",
     "output_type": "stream",
     "text": [
      "2025-02-05 12:38:30.423001: W tensorflow/core/framework/local_rendezvous.cc:404] Local rendezvous is aborting with status: OUT_OF_RANGE: End of sequence\n"
     ]
    },
    {
     "data": {
      "application/vnd.jupyter.widget-view+json": {
       "model_id": "",
       "version_major": 2,
       "version_minor": 0
      },
      "text/plain": [
       "Epoch 35/50:   0%|          | 0/29 [00:00<?, ?it/s]"
      ]
     },
     "metadata": {},
     "output_type": "display_data"
    },
    {
     "name": "stdout",
     "output_type": "stream",
     "text": [
      "Epoch 35/50 - Loss: 0.0584\n"
     ]
    },
    {
     "name": "stderr",
     "output_type": "stream",
     "text": [
      "2025-02-05 12:38:37.408117: W tensorflow/core/framework/local_rendezvous.cc:404] Local rendezvous is aborting with status: OUT_OF_RANGE: End of sequence\n"
     ]
    },
    {
     "data": {
      "application/vnd.jupyter.widget-view+json": {
       "model_id": "",
       "version_major": 2,
       "version_minor": 0
      },
      "text/plain": [
       "Epoch 36/50:   0%|          | 0/29 [00:00<?, ?it/s]"
      ]
     },
     "metadata": {},
     "output_type": "display_data"
    },
    {
     "name": "stdout",
     "output_type": "stream",
     "text": [
      "Epoch 36/50 - Loss: 0.0565\n"
     ]
    },
    {
     "name": "stderr",
     "output_type": "stream",
     "text": [
      "2025-02-05 12:38:44.415771: W tensorflow/core/framework/local_rendezvous.cc:404] Local rendezvous is aborting with status: OUT_OF_RANGE: End of sequence\n"
     ]
    },
    {
     "data": {
      "application/vnd.jupyter.widget-view+json": {
       "model_id": "",
       "version_major": 2,
       "version_minor": 0
      },
      "text/plain": [
       "Epoch 37/50:   0%|          | 0/29 [00:00<?, ?it/s]"
      ]
     },
     "metadata": {},
     "output_type": "display_data"
    },
    {
     "name": "stdout",
     "output_type": "stream",
     "text": [
      "Epoch 37/50 - Loss: 0.0525\n"
     ]
    },
    {
     "name": "stderr",
     "output_type": "stream",
     "text": [
      "2025-02-05 12:38:51.352352: W tensorflow/core/framework/local_rendezvous.cc:404] Local rendezvous is aborting with status: OUT_OF_RANGE: End of sequence\n"
     ]
    },
    {
     "data": {
      "application/vnd.jupyter.widget-view+json": {
       "model_id": "",
       "version_major": 2,
       "version_minor": 0
      },
      "text/plain": [
       "Epoch 38/50:   0%|          | 0/29 [00:00<?, ?it/s]"
      ]
     },
     "metadata": {},
     "output_type": "display_data"
    },
    {
     "name": "stdout",
     "output_type": "stream",
     "text": [
      "Epoch 38/50 - Loss: 0.0515\n"
     ]
    },
    {
     "name": "stderr",
     "output_type": "stream",
     "text": [
      "2025-02-05 12:38:58.308606: W tensorflow/core/framework/local_rendezvous.cc:404] Local rendezvous is aborting with status: OUT_OF_RANGE: End of sequence\n"
     ]
    },
    {
     "data": {
      "application/vnd.jupyter.widget-view+json": {
       "model_id": "",
       "version_major": 2,
       "version_minor": 0
      },
      "text/plain": [
       "Epoch 39/50:   0%|          | 0/29 [00:00<?, ?it/s]"
      ]
     },
     "metadata": {},
     "output_type": "display_data"
    },
    {
     "name": "stdout",
     "output_type": "stream",
     "text": [
      "Epoch 39/50 - Loss: 0.0490\n"
     ]
    },
    {
     "name": "stderr",
     "output_type": "stream",
     "text": [
      "2025-02-05 12:39:05.428723: W tensorflow/core/framework/local_rendezvous.cc:404] Local rendezvous is aborting with status: OUT_OF_RANGE: End of sequence\n"
     ]
    },
    {
     "data": {
      "application/vnd.jupyter.widget-view+json": {
       "model_id": "",
       "version_major": 2,
       "version_minor": 0
      },
      "text/plain": [
       "Epoch 40/50:   0%|          | 0/29 [00:00<?, ?it/s]"
      ]
     },
     "metadata": {},
     "output_type": "display_data"
    },
    {
     "name": "stdout",
     "output_type": "stream",
     "text": [
      "Epoch 40/50 - Loss: 0.0498\n"
     ]
    },
    {
     "name": "stderr",
     "output_type": "stream",
     "text": [
      "2025-02-05 12:39:12.491956: W tensorflow/core/framework/local_rendezvous.cc:404] Local rendezvous is aborting with status: OUT_OF_RANGE: End of sequence\n"
     ]
    },
    {
     "data": {
      "application/vnd.jupyter.widget-view+json": {
       "model_id": "",
       "version_major": 2,
       "version_minor": 0
      },
      "text/plain": [
       "Epoch 41/50:   0%|          | 0/29 [00:00<?, ?it/s]"
      ]
     },
     "metadata": {},
     "output_type": "display_data"
    },
    {
     "name": "stdout",
     "output_type": "stream",
     "text": [
      "Epoch 41/50 - Loss: 0.0485\n"
     ]
    },
    {
     "name": "stderr",
     "output_type": "stream",
     "text": [
      "2025-02-05 12:39:19.573143: W tensorflow/core/framework/local_rendezvous.cc:404] Local rendezvous is aborting with status: OUT_OF_RANGE: End of sequence\n"
     ]
    },
    {
     "data": {
      "application/vnd.jupyter.widget-view+json": {
       "model_id": "",
       "version_major": 2,
       "version_minor": 0
      },
      "text/plain": [
       "Epoch 42/50:   0%|          | 0/29 [00:00<?, ?it/s]"
      ]
     },
     "metadata": {},
     "output_type": "display_data"
    },
    {
     "name": "stdout",
     "output_type": "stream",
     "text": [
      "Epoch 42/50 - Loss: 0.0496\n"
     ]
    },
    {
     "name": "stderr",
     "output_type": "stream",
     "text": [
      "2025-02-05 12:39:26.726902: W tensorflow/core/framework/local_rendezvous.cc:404] Local rendezvous is aborting with status: OUT_OF_RANGE: End of sequence\n"
     ]
    },
    {
     "data": {
      "application/vnd.jupyter.widget-view+json": {
       "model_id": "",
       "version_major": 2,
       "version_minor": 0
      },
      "text/plain": [
       "Epoch 43/50:   0%|          | 0/29 [00:00<?, ?it/s]"
      ]
     },
     "metadata": {},
     "output_type": "display_data"
    },
    {
     "name": "stdout",
     "output_type": "stream",
     "text": [
      "Epoch 43/50 - Loss: 0.0486\n"
     ]
    },
    {
     "name": "stderr",
     "output_type": "stream",
     "text": [
      "2025-02-05 12:39:33.837705: W tensorflow/core/framework/local_rendezvous.cc:404] Local rendezvous is aborting with status: OUT_OF_RANGE: End of sequence\n"
     ]
    },
    {
     "data": {
      "application/vnd.jupyter.widget-view+json": {
       "model_id": "",
       "version_major": 2,
       "version_minor": 0
      },
      "text/plain": [
       "Epoch 44/50:   0%|          | 0/29 [00:00<?, ?it/s]"
      ]
     },
     "metadata": {},
     "output_type": "display_data"
    },
    {
     "name": "stdout",
     "output_type": "stream",
     "text": [
      "Epoch 44/50 - Loss: 0.0503\n"
     ]
    },
    {
     "name": "stderr",
     "output_type": "stream",
     "text": [
      "2025-02-05 12:39:40.781475: W tensorflow/core/framework/local_rendezvous.cc:404] Local rendezvous is aborting with status: OUT_OF_RANGE: End of sequence\n"
     ]
    },
    {
     "data": {
      "application/vnd.jupyter.widget-view+json": {
       "model_id": "",
       "version_major": 2,
       "version_minor": 0
      },
      "text/plain": [
       "Epoch 45/50:   0%|          | 0/29 [00:00<?, ?it/s]"
      ]
     },
     "metadata": {},
     "output_type": "display_data"
    },
    {
     "name": "stdout",
     "output_type": "stream",
     "text": [
      "Epoch 45/50 - Loss: 0.0495\n"
     ]
    },
    {
     "name": "stderr",
     "output_type": "stream",
     "text": [
      "2025-02-05 12:39:47.706227: W tensorflow/core/framework/local_rendezvous.cc:404] Local rendezvous is aborting with status: OUT_OF_RANGE: End of sequence\n"
     ]
    },
    {
     "data": {
      "application/vnd.jupyter.widget-view+json": {
       "model_id": "",
       "version_major": 2,
       "version_minor": 0
      },
      "text/plain": [
       "Epoch 46/50:   0%|          | 0/29 [00:00<?, ?it/s]"
      ]
     },
     "metadata": {},
     "output_type": "display_data"
    },
    {
     "name": "stdout",
     "output_type": "stream",
     "text": [
      "Epoch 46/50 - Loss: 0.0518\n"
     ]
    },
    {
     "name": "stderr",
     "output_type": "stream",
     "text": [
      "2025-02-05 12:39:54.954386: W tensorflow/core/framework/local_rendezvous.cc:404] Local rendezvous is aborting with status: OUT_OF_RANGE: End of sequence\n"
     ]
    },
    {
     "data": {
      "application/vnd.jupyter.widget-view+json": {
       "model_id": "",
       "version_major": 2,
       "version_minor": 0
      },
      "text/plain": [
       "Epoch 47/50:   0%|          | 0/29 [00:00<?, ?it/s]"
      ]
     },
     "metadata": {},
     "output_type": "display_data"
    },
    {
     "name": "stdout",
     "output_type": "stream",
     "text": [
      "Epoch 47/50 - Loss: 0.0515\n"
     ]
    },
    {
     "name": "stderr",
     "output_type": "stream",
     "text": [
      "2025-02-05 12:40:03.974664: W tensorflow/core/framework/local_rendezvous.cc:404] Local rendezvous is aborting with status: OUT_OF_RANGE: End of sequence\n"
     ]
    },
    {
     "data": {
      "application/vnd.jupyter.widget-view+json": {
       "model_id": "",
       "version_major": 2,
       "version_minor": 0
      },
      "text/plain": [
       "Epoch 48/50:   0%|          | 0/29 [00:00<?, ?it/s]"
      ]
     },
     "metadata": {},
     "output_type": "display_data"
    },
    {
     "name": "stdout",
     "output_type": "stream",
     "text": [
      "Epoch 48/50 - Loss: 0.0533\n"
     ]
    },
    {
     "name": "stderr",
     "output_type": "stream",
     "text": [
      "2025-02-05 12:40:11.892936: W tensorflow/core/framework/local_rendezvous.cc:404] Local rendezvous is aborting with status: OUT_OF_RANGE: End of sequence\n"
     ]
    },
    {
     "data": {
      "application/vnd.jupyter.widget-view+json": {
       "model_id": "",
       "version_major": 2,
       "version_minor": 0
      },
      "text/plain": [
       "Epoch 49/50:   0%|          | 0/29 [00:00<?, ?it/s]"
      ]
     },
     "metadata": {},
     "output_type": "display_data"
    },
    {
     "name": "stdout",
     "output_type": "stream",
     "text": [
      "Epoch 49/50 - Loss: 0.0535\n"
     ]
    },
    {
     "name": "stderr",
     "output_type": "stream",
     "text": [
      "2025-02-05 12:40:19.979614: W tensorflow/core/framework/local_rendezvous.cc:404] Local rendezvous is aborting with status: OUT_OF_RANGE: End of sequence\n"
     ]
    },
    {
     "data": {
      "application/vnd.jupyter.widget-view+json": {
       "model_id": "",
       "version_major": 2,
       "version_minor": 0
      },
      "text/plain": [
       "Epoch 50/50:   0%|          | 0/29 [00:00<?, ?it/s]"
      ]
     },
     "metadata": {},
     "output_type": "display_data"
    },
    {
     "name": "stdout",
     "output_type": "stream",
     "text": [
      "Epoch 50/50 - Loss: 0.0557\n"
     ]
    },
    {
     "name": "stderr",
     "output_type": "stream",
     "text": [
      "2025-02-05 12:40:27.890026: W tensorflow/core/framework/local_rendezvous.cc:404] Local rendezvous is aborting with status: OUT_OF_RANGE: End of sequence\n"
     ]
    }
   ],
   "source": [
    "from tqdm.auto import tqdm\n",
    "\n",
    "train_dataset = tf.data.Dataset.from_tensor_slices(train_data.astype('float32'))\n",
    "train_dataset = train_dataset.batch(BATCH_SIZE)\n",
    "\n",
    "for epoch in range(EPOCHS):\n",
    "    train_loss = 0\n",
    "    n_batches = len(train_data) // BATCH_SIZE\n",
    "    \n",
    "    pbar = tqdm(enumerate(train_dataset), \n",
    "                desc=f'Epoch {epoch+1}/{EPOCHS}', \n",
    "                total=n_batches,\n",
    "                leave=False)\n",
    "    \n",
    "    for i, batch_data in pbar:        \n",
    "        with tf.GradientTape() as tape:\n",
    "            noisy = forward_diffusion(batch_data, noise_level=0.25)\n",
    "            reconstructed = model(noisy, training=True)\n",
    "            loss = tf.reduce_mean(tf.square(reconstructed - batch_data))\n",
    "        \n",
    "        grads = tape.gradient(loss, model.trainable_variables)\n",
    "        grads, _ = tf.clip_by_global_norm(grads, clip_norm=1.0) \n",
    "        optimizer.apply_gradients(zip(grads, model.trainable_variables))\n",
    "        \n",
    "        train_loss += loss.numpy()\n",
    "        pbar.set_postfix({'Loss': f'{loss.numpy():.4f}'})\n",
    "    \n",
    "    avg_loss = train_loss / n_batches\n",
    "    print(f'Epoch {epoch+1}/{EPOCHS} - Loss: {avg_loss:.4f}')"
   ]
  },
  {
   "cell_type": "code",
   "execution_count": 105,
   "id": "f421d3c0",
   "metadata": {
    "ExecuteTime": {
     "end_time": "2025-02-05T03:40:30.834899Z",
     "start_time": "2025-02-05T03:40:30.831535Z"
    }
   },
   "outputs": [],
   "source": [
    "def flatten(X):\n",
    "    flattened_X = np.empty((X.shape[0], X.shape[2]))  # sample x features array.\n",
    "    for i in range(X.shape[0]):\n",
    "        flattened_X[i] = X[i, (X.shape[1]-1), :]\n",
    "    return(flattened_X)"
   ]
  },
  {
   "cell_type": "code",
   "execution_count": 106,
   "id": "713312a7",
   "metadata": {
    "ExecuteTime": {
     "end_time": "2025-02-05T03:40:33.367520Z",
     "start_time": "2025-02-05T03:40:32.329806Z"
    }
   },
   "outputs": [
    {
     "name": "stdout",
     "output_type": "stream",
     "text": [
      "\u001b[1m107/107\u001b[0m \u001b[32m━━━━━━━━━━━━━━━━━━━━\u001b[0m\u001b[37m\u001b[0m \u001b[1m1s\u001b[0m 5ms/step\n"
     ]
    },
    {
     "data": {
      "text/html": [
       "<div>\n",
       "<style scoped>\n",
       "    .dataframe tbody tr th:only-of-type {\n",
       "        vertical-align: middle;\n",
       "    }\n",
       "\n",
       "    .dataframe tbody tr th {\n",
       "        vertical-align: top;\n",
       "    }\n",
       "\n",
       "    .dataframe thead th {\n",
       "        text-align: right;\n",
       "    }\n",
       "</style>\n",
       "<table border=\"1\" class=\"dataframe\">\n",
       "  <thead>\n",
       "    <tr style=\"text-align: right;\">\n",
       "      <th></th>\n",
       "      <th>reconstruction_error</th>\n",
       "      <th>true_class</th>\n",
       "    </tr>\n",
       "  </thead>\n",
       "  <tbody>\n",
       "    <tr>\n",
       "      <th>0</th>\n",
       "      <td>0.000356</td>\n",
       "      <td>0.0</td>\n",
       "    </tr>\n",
       "    <tr>\n",
       "      <th>1</th>\n",
       "      <td>0.000607</td>\n",
       "      <td>0.0</td>\n",
       "    </tr>\n",
       "    <tr>\n",
       "      <th>2</th>\n",
       "      <td>0.000464</td>\n",
       "      <td>0.0</td>\n",
       "    </tr>\n",
       "    <tr>\n",
       "      <th>3</th>\n",
       "      <td>0.000695</td>\n",
       "      <td>0.0</td>\n",
       "    </tr>\n",
       "    <tr>\n",
       "      <th>4</th>\n",
       "      <td>0.000314</td>\n",
       "      <td>0.0</td>\n",
       "    </tr>\n",
       "    <tr>\n",
       "      <th>...</th>\n",
       "      <td>...</td>\n",
       "      <td>...</td>\n",
       "    </tr>\n",
       "    <tr>\n",
       "      <th>3398</th>\n",
       "      <td>0.013748</td>\n",
       "      <td>1.0</td>\n",
       "    </tr>\n",
       "    <tr>\n",
       "      <th>3399</th>\n",
       "      <td>0.012343</td>\n",
       "      <td>1.0</td>\n",
       "    </tr>\n",
       "    <tr>\n",
       "      <th>3400</th>\n",
       "      <td>0.014407</td>\n",
       "      <td>1.0</td>\n",
       "    </tr>\n",
       "    <tr>\n",
       "      <th>3401</th>\n",
       "      <td>0.017522</td>\n",
       "      <td>1.0</td>\n",
       "    </tr>\n",
       "    <tr>\n",
       "      <th>3402</th>\n",
       "      <td>0.012280</td>\n",
       "      <td>1.0</td>\n",
       "    </tr>\n",
       "  </tbody>\n",
       "</table>\n",
       "<p>3403 rows × 2 columns</p>\n",
       "</div>"
      ],
      "text/plain": [
       "      reconstruction_error  true_class\n",
       "0                 0.000356         0.0\n",
       "1                 0.000607         0.0\n",
       "2                 0.000464         0.0\n",
       "3                 0.000695         0.0\n",
       "4                 0.000314         0.0\n",
       "...                    ...         ...\n",
       "3398              0.013748         1.0\n",
       "3399              0.012343         1.0\n",
       "3400              0.014407         1.0\n",
       "3401              0.017522         1.0\n",
       "3402              0.012280         1.0\n",
       "\n",
       "[3403 rows x 2 columns]"
      ]
     },
     "execution_count": 106,
     "metadata": {},
     "output_type": "execute_result"
    }
   ],
   "source": [
    "from sklearn.metrics import mean_squared_error\n",
    "\n",
    "valid_x_predictions = model.predict(test_data)\n",
    "error = flatten(test_data) - flatten(valid_x_predictions)\n",
    "\n",
    "valid_mse = np.mean(np.power(flatten(test_data) - flatten(valid_x_predictions), 2), axis=1)\n",
    "\n",
    "error_df = pd.DataFrame({\n",
    "    'reconstruction_error': valid_mse,\n",
    "    'true_class': test_labels\n",
    "})\n",
    "\n",
    "error_df"
   ]
  },
  {
   "cell_type": "code",
   "execution_count": 107,
   "id": "cb6c6497",
   "metadata": {
    "ExecuteTime": {
     "end_time": "2025-02-05T03:40:35.708826Z",
     "start_time": "2025-02-05T03:40:35.101768Z"
    }
   },
   "outputs": [
    {
     "name": "stdout",
     "output_type": "stream",
     "text": [
      "\u001b[1m60/60\u001b[0m \u001b[32m━━━━━━━━━━━━━━━━━━━━\u001b[0m\u001b[37m\u001b[0m \u001b[1m0s\u001b[0m 2ms/step\n",
      "\u001b[1m107/107\u001b[0m \u001b[32m━━━━━━━━━━━━━━━━━━━━\u001b[0m\u001b[37m\u001b[0m \u001b[1m0s\u001b[0m 1ms/step\n"
     ]
    },
    {
     "data": {
      "image/png": "[encoded data removed]",
      "text/plain": [
       "<Figure size 640x480 with 1 Axes>"
      ]
     },
     "metadata": {},
     "output_type": "display_data"
    }
   ],
   "source": [
    "X_pred_train = model.predict(train_data)\n",
    "scored_train = np.mean(np.abs(flatten(train_data) - flatten(X_pred_train)), axis=1)\n",
    "X_pred_test = model.predict(test_data)\n",
    "scored_test = np.mean(np.abs(flatten(test_data) - flatten(X_pred_test)), axis=1)\n",
    "\n",
    "plt.title('MSE compare') \n",
    "plt.hist(scored_train, bins=10, color='blue', histtype='step', label='normal') \n",
    "plt.hist(scored_test, bins=10, color='red', histtype='step', label='abnormal') \n",
    "plt.xlabel('MSE')\n",
    "plt.legend()\n",
    "plt.show()"
   ]
  },
  {
   "cell_type": "code",
   "execution_count": 108,
   "id": "57e7dbc5",
   "metadata": {
    "ExecuteTime": {
     "end_time": "2025-02-05T03:40:39.203730Z",
     "start_time": "2025-02-05T03:40:39.197122Z"
    }
   },
   "outputs": [
    {
     "data": {
      "text/plain": [
       "true_class\n",
       "1.0    2142\n",
       "0.0    1261\n",
       "Name: count, dtype: int64"
      ]
     },
     "execution_count": 108,
     "metadata": {},
     "output_type": "execute_result"
    }
   ],
   "source": [
    "error_df['true_class'].value_counts()"
   ]
  },
  {
   "cell_type": "code",
   "execution_count": 109,
   "id": "1007d566",
   "metadata": {
    "ExecuteTime": {
     "end_time": "2025-02-05T03:40:41.252172Z",
     "start_time": "2025-02-05T03:40:41.078144Z"
    }
   },
   "outputs": [
    {
     "data": {
      "image/png": "[encoded data removed]",
      "text/plain": [
       "<Figure size 1000x600 with 1 Axes>"
      ]
     },
     "metadata": {},
     "output_type": "display_data"
    }
   ],
   "source": [
    "plt.figure(figsize=(10, 6))\n",
    "sns.boxplot(x='true_class', y='reconstruction_error', data=error_df, showfliers=False, saturation=1)\n",
    "plt.ylabel('Distribution')\n",
    "\n",
    "plt.axhline(y= 0.1, xmin=0.01, xmax=1,dashes=(5,5), c='g')\n",
    "\n",
    "plt.xticks(rotation=90)\n",
    "plt.show()"
   ]
  },
  {
   "cell_type": "code",
   "execution_count": 112,
   "id": "5c966c75",
   "metadata": {
    "ExecuteTime": {
     "end_time": "2025-02-05T03:40:51.579491Z",
     "start_time": "2025-02-05T03:40:51.576821Z"
    }
   },
   "outputs": [],
   "source": [
    "threshold = 0.005"
   ]
  },
  {
   "cell_type": "code",
   "execution_count": 113,
   "id": "e2976fe9",
   "metadata": {
    "ExecuteTime": {
     "end_time": "2025-02-05T03:40:52.213782Z",
     "start_time": "2025-02-05T03:40:52.041744Z"
    }
   },
   "outputs": [
    {
     "data": {
      "image/png": "[encoded data removed]",
      "text/plain": [
       "<Figure size 640x480 with 1 Axes>"
      ]
     },
     "metadata": {},
     "output_type": "display_data"
    }
   ],
   "source": [
    "groups = error_df.groupby('true_class')\n",
    "fig, ax = plt.subplots()\n",
    "\n",
    "for name, group in groups:\n",
    "    ax.plot(group.index, group.reconstruction_error, marker='^', ms=3.5, linestyle='',\n",
    "            label= \"Normal\" if name == 0 else \"Fall\")\n",
    "ax.hlines(threshold, ax.get_xlim()[0], ax.get_xlim()[1], colors=\"r\", zorder=100, label='Threshold')\n",
    "ax.legend()\n",
    "plt.title(\"Reconstruction error for different classes\")\n",
    "plt.ylabel(\"Reconstruction error\")\n",
    "plt.xlabel(\"Data point index\")\n",
    "plt.show();"
   ]
  },
  {
   "cell_type": "code",
   "execution_count": 118,
   "id": "0acf38ed",
   "metadata": {
    "ExecuteTime": {
     "end_time": "2025-02-05T03:41:48.462597Z",
     "start_time": "2025-02-05T03:41:48.289514Z"
    }
   },
   "outputs": [
    {
     "data": {
      "image/png": "[encoded data removed]",
      "text/plain": [
       "<Figure size 700x700 with 2 Axes>"
      ]
     },
     "metadata": {},
     "output_type": "display_data"
    }
   ],
   "source": [
    "LABELS = [\"ADL\", \"FALL\"]\n",
    "\n",
    "plt.figure(figsize=(7, 7))\n",
    "y_pred = [1 if e > threshold else 0 for e in error_df.reconstruction_error.values]\n",
    "conf_matrix = confusion_matrix(error_df.true_class, y_pred)\n",
    "sns.heatmap(conf_matrix, xticklabels=LABELS, yticklabels=LABELS, annot=True, fmt=\"d\");\n",
    "plt.title(\"Confusion matrix\")\n",
    "plt.ylabel('True class')\n",
    "plt.xlabel('Predicted class')\n",
    "plt.show()"
   ]
  }
 ],
 "metadata": {
  "kernelspec": {
   "display_name": "Python 3 (ipykernel)",
   "language": "python",
   "name": "python3"
  },
  "language_info": {
   "codemirror_mode": {
    "name": "ipython",
    "version": 3
   },
   "file_extension": ".py",
   "mimetype": "text/x-python",
   "name": "python",
   "nbconvert_exporter": "python",
   "pygments_lexer": "ipython3",
   "version": "3.11.3"
  },
  "varInspector": {
   "cols": {
    "lenName": 16,
    "lenType": 16,
    "lenVar": 40
   },
   "kernels_config": {
    "python": {
     "delete_cmd_postfix": "",
     "delete_cmd_prefix": "del ",
     "library": "var_list.py",
     "varRefreshCmd": "print(var_dic_list())"
    },
    "r": {
     "delete_cmd_postfix": ") ",
     "delete_cmd_prefix": "rm(",
     "library": "var_list.r",
     "varRefreshCmd": "cat(var_dic_list()) "
    }
   },
   "types_to_exclude": [
    "module",
    "function",
    "builtin_function_or_method",
    "instance",
    "_Feature"
   ],
   "window_display": false
  }
 },
 "nbformat": 4,
 "nbformat_minor": 5
}
