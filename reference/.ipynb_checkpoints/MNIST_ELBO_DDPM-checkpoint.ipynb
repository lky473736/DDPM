{
 "cells": [
  {
   "cell_type": "code",
   "execution_count": 1,
   "id": "8fc73065",
   "metadata": {
    "ExecuteTime": {
     "end_time": "2025-02-16T04:27:13.349204Z",
     "start_time": "2025-02-16T04:26:10.836630Z"
    }
   },
   "outputs": [
    {
     "name": "stdout",
     "output_type": "stream",
     "text": [
      "Downloading http://yann.lecun.com/exdb/mnist/train-images-idx3-ubyte.gz\n",
      "Failed to download (trying next):\n",
      "HTTP Error 404: Not Found\n",
      "\n",
      "Downloading https://ossci-datasets.s3.amazonaws.com/mnist/train-images-idx3-ubyte.gz\n",
      "Downloading https://ossci-datasets.s3.amazonaws.com/mnist/train-images-idx3-ubyte.gz to ./data/MNIST/raw/train-images-idx3-ubyte.gz\n"
     ]
    },
    {
     "name": "stderr",
     "output_type": "stream",
     "text": [
      "100%|████████████████████████████| 9912422/9912422 [00:06<00:00, 1568004.20it/s]\n"
     ]
    },
    {
     "name": "stdout",
     "output_type": "stream",
     "text": [
      "Extracting ./data/MNIST/raw/train-images-idx3-ubyte.gz to ./data/MNIST/raw\n",
      "\n",
      "Downloading http://yann.lecun.com/exdb/mnist/train-labels-idx1-ubyte.gz\n",
      "Failed to download (trying next):\n",
      "HTTP Error 404: Not Found\n",
      "\n",
      "Downloading https://ossci-datasets.s3.amazonaws.com/mnist/train-labels-idx1-ubyte.gz\n",
      "Downloading https://ossci-datasets.s3.amazonaws.com/mnist/train-labels-idx1-ubyte.gz to ./data/MNIST/raw/train-labels-idx1-ubyte.gz\n"
     ]
    },
    {
     "name": "stderr",
     "output_type": "stream",
     "text": [
      "100%|█████████████████████████████████| 28881/28881 [00:00<00:00, 141025.34it/s]\n"
     ]
    },
    {
     "name": "stdout",
     "output_type": "stream",
     "text": [
      "Extracting ./data/MNIST/raw/train-labels-idx1-ubyte.gz to ./data/MNIST/raw\n",
      "\n",
      "Downloading http://yann.lecun.com/exdb/mnist/t10k-images-idx3-ubyte.gz\n",
      "Failed to download (trying next):\n",
      "HTTP Error 404: Not Found\n",
      "\n",
      "Downloading https://ossci-datasets.s3.amazonaws.com/mnist/t10k-images-idx3-ubyte.gz\n",
      "Downloading https://ossci-datasets.s3.amazonaws.com/mnist/t10k-images-idx3-ubyte.gz to ./data/MNIST/raw/t10k-images-idx3-ubyte.gz\n"
     ]
    },
    {
     "name": "stderr",
     "output_type": "stream",
     "text": [
      "100%|████████████████████████████| 1648877/1648877 [00:01<00:00, 1111376.49it/s]\n"
     ]
    },
    {
     "name": "stdout",
     "output_type": "stream",
     "text": [
      "Extracting ./data/MNIST/raw/t10k-images-idx3-ubyte.gz to ./data/MNIST/raw\n",
      "\n",
      "Downloading http://yann.lecun.com/exdb/mnist/t10k-labels-idx1-ubyte.gz\n",
      "Failed to download (trying next):\n",
      "HTTP Error 404: Not Found\n",
      "\n",
      "Downloading https://ossci-datasets.s3.amazonaws.com/mnist/t10k-labels-idx1-ubyte.gz\n",
      "Downloading https://ossci-datasets.s3.amazonaws.com/mnist/t10k-labels-idx1-ubyte.gz to ./data/MNIST/raw/t10k-labels-idx1-ubyte.gz\n"
     ]
    },
    {
     "name": "stderr",
     "output_type": "stream",
     "text": [
      "100%|██████████████████████████████████| 4542/4542 [00:00<00:00, 1942543.98it/s]\n"
     ]
    },
    {
     "name": "stdout",
     "output_type": "stream",
     "text": [
      "Extracting ./data/MNIST/raw/t10k-labels-idx1-ubyte.gz to ./data/MNIST/raw\n",
      "\n",
      "Epoch [1/5], Loss: 0.8572\n",
      "Epoch [2/5], Loss: 0.8698\n",
      "Epoch [3/5], Loss: 0.8636\n",
      "Epoch [4/5], Loss: 0.8595\n",
      "Epoch [5/5], Loss: 0.8399\n",
      "Normal Data Log-Likelihood Mean: -674.7410\n",
      "Anomalous Data Log-Likelihood Mean: -674.8512\n"
     ]
    }
   ],
   "source": [
    "import torch\n",
    "import torch.nn as nn\n",
    "import torch.optim as optim\n",
    "import numpy as np\n",
    "from torchvision import datasets, transforms\n",
    "from torch.utils.data import DataLoader\n",
    "\n",
    "# DDPM 스코어 모델 (간단한 UNet 기반)\n",
    "class SimpleScoreModel(nn.Module):\n",
    "    def __init__(self):\n",
    "        super(SimpleScoreModel, self).__init__()\n",
    "        self.net = nn.Sequential(\n",
    "            nn.Linear(28*28 + 1, 128),\n",
    "            nn.ReLU(),\n",
    "            nn.Linear(128, 128),\n",
    "            nn.ReLU(),\n",
    "            nn.Linear(128, 28*28)\n",
    "        )\n",
    "\n",
    "    def forward(self, x, t):\n",
    "        t = t.view(-1, 1)  # 타임스텝을 배치 차원에 맞게 변형\n",
    "        x_t = torch.cat([x, t], dim=1)  # 입력 데이터와 타임스텝 결합\n",
    "        return self.net(x_t)\n",
    "\n",
    "# Score-based 모델 학습 (단순 예제)\n",
    "def train_score_model():\n",
    "    transform = transforms.Compose([transforms.ToTensor(), transforms.Lambda(lambda x: x.view(-1))])\n",
    "    dataset = datasets.MNIST(root=\"./data\", train=True, download=True, transform=transform)\n",
    "    dataloader = DataLoader(dataset, batch_size=64, shuffle=True)\n",
    "\n",
    "    model = SimpleScoreModel()\n",
    "    optimizer = optim.Adam(model.parameters(), lr=1e-3)\n",
    "    criterion = nn.MSELoss()\n",
    "\n",
    "    num_epochs = 5\n",
    "    for epoch in range(num_epochs):\n",
    "        for x, _ in dataloader:\n",
    "            t = torch.rand(x.shape[0])  # 랜덤한 타임스텝 샘플링\n",
    "            noise = torch.randn_like(x)  # 가우시안 노이즈 추가\n",
    "            x_t = x + noise  # 노이즈 추가된 데이터\n",
    "\n",
    "            pred_noise = model(x_t, t)\n",
    "            loss = criterion(pred_noise, noise)  # 노이즈 예측 손실 계산\n",
    "\n",
    "            optimizer.zero_grad()\n",
    "            loss.backward()\n",
    "            optimizer.step()\n",
    "\n",
    "        print(f\"Epoch [{epoch+1}/{num_epochs}], Loss: {loss.item():.4f}\")\n",
    "\n",
    "    return model\n",
    "\n",
    "# 로그 가능도 추정 함수\n",
    "def compute_likelihood(model, x, num_timesteps=50):\n",
    "    \"\"\" Score-based Likelihood Estimation \"\"\"\n",
    "    likelihoods = []\n",
    "    for t in torch.linspace(0, 1, num_timesteps):  # 여러 타임스텝에 대해 로그 가능도 계산\n",
    "        noise = torch.randn_like(x)\n",
    "        x_t = x + noise  # 노이즈 추가된 데이터 생성\n",
    "        score = model(x_t, t.expand(x.shape[0]))  # 스코어 추정\n",
    "        likelihood = -((score - noise) ** 2).sum(dim=1)  # Stein’s Method 기반 로그 가능도\n",
    "        likelihoods.append(likelihood)\n",
    "    \n",
    "    return torch.stack(likelihoods).mean(dim=0)  # 평균 로그 가능도 반환\n",
    "\n",
    "# 이상 탐지 수행\n",
    "def anomaly_detection(model, normal_data, anomaly_data):\n",
    "    normal_likelihood = compute_likelihood(model, normal_data)\n",
    "    anomaly_likelihood = compute_likelihood(model, anomaly_data)\n",
    "\n",
    "    print(f\"Normal Data Log-Likelihood Mean: {normal_likelihood.mean().item():.4f}\")\n",
    "    print(f\"Anomalous Data Log-Likelihood Mean: {anomaly_likelihood.mean().item():.4f}\")\n",
    "\n",
    "    return normal_likelihood, anomaly_likelihood\n",
    "\n",
    "# 실행 예제\n",
    "model = train_score_model()\n",
    "\n",
    "# 정상 데이터 (MNIST 0~4) 및 이상 데이터 (MNIST 5~9) 샘플링\n",
    "transform = transforms.Compose([transforms.ToTensor(), transforms.Lambda(lambda x: x.view(-1))])\n",
    "dataset = datasets.MNIST(root=\"./data\", train=False, download=True, transform=transform)\n",
    "\n",
    "normal_data = torch.stack([dataset[i][0] for i in range(len(dataset)) if dataset[i][1] < 5])\n",
    "anomaly_data = torch.stack([dataset[i][0] for i in range(len(dataset)) if dataset[i][1] >= 5])\n",
    "\n",
    "# 이상 탐지 실행\n",
    "normal_likelihood, anomaly_likelihood = anomaly_detection(model, normal_data, anomaly_data)\n"
   ]
  }
 ],
 "metadata": {
  "kernelspec": {
   "display_name": "Python 3 (ipykernel)",
   "language": "python",
   "name": "python3"
  },
  "language_info": {
   "codemirror_mode": {
    "name": "ipython",
    "version": 3
   },
   "file_extension": ".py",
   "mimetype": "text/x-python",
   "name": "python",
   "nbconvert_exporter": "python",
   "pygments_lexer": "ipython3",
   "version": "3.11.3"
  },
  "varInspector": {
   "cols": {
    "lenName": 16,
    "lenType": 16,
    "lenVar": 40
   },
   "kernels_config": {
    "python": {
     "delete_cmd_postfix": "",
     "delete_cmd_prefix": "del ",
     "library": "var_list.py",
     "varRefreshCmd": "print(var_dic_list())"
    },
    "r": {
     "delete_cmd_postfix": ") ",
     "delete_cmd_prefix": "rm(",
     "library": "var_list.r",
     "varRefreshCmd": "cat(var_dic_list()) "
    }
   },
   "types_to_exclude": [
    "module",
    "function",
    "builtin_function_or_method",
    "instance",
    "_Feature"
   ],
   "window_display": false
  }
 },
 "nbformat": 4,
 "nbformat_minor": 5
}
